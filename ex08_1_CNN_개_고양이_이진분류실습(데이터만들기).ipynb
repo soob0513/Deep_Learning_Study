{
  "nbformat": 4,
  "nbformat_minor": 0,
  "metadata": {
    "colab": {
      "provenance": []
    },
    "kernelspec": {
      "name": "python3",
      "display_name": "Python 3"
    },
    "language_info": {
      "name": "python"
    }
  },
  "cells": [
    {
      "cell_type": "markdown",
      "source": [
        "### 목표 설정\n",
        "1. 코드에서 압축 파일 다루는 법을 알아보자\n",
        "2. 정답이 없는 이미지 파일의 정답을 추가해보자\n",
        "3. NPZ 파일을 만들어보자\n"
      ],
      "metadata": {
        "id": "rCBe2e74GjU_"
      }
    },
    {
      "cell_type": "code",
      "execution_count": 1,
      "metadata": {
        "colab": {
          "base_uri": "https://localhost:8080/"
        },
        "id": "-y9FJUEbF4a-",
        "outputId": "689f0765-56ca-444c-a29b-26493968cc21"
      },
      "outputs": [
        {
          "output_type": "stream",
          "name": "stdout",
          "text": [
            "Mounted at /content/drive\n"
          ]
        }
      ],
      "source": [
        "from google.colab import drive\n",
        "drive.mount('/content/drive')"
      ]
    },
    {
      "cell_type": "code",
      "source": [
        "# 드라이브 위치 확인\n",
        "!pwd"
      ],
      "metadata": {
        "colab": {
          "base_uri": "https://localhost:8080/"
        },
        "id": "BGUrFt-pGo85",
        "outputId": "811c25c3-f6a4-4f73-c82f-37303a0323b2"
      },
      "execution_count": 3,
      "outputs": [
        {
          "output_type": "stream",
          "name": "stdout",
          "text": [
            "/content/drive/MyDrive/Colab Notebooks/딥러닝\n"
          ]
        }
      ]
    },
    {
      "cell_type": "code",
      "source": [
        "# 드라이브 위치 변경\n",
        "%cd /content/drive/MyDrive/Colab Notebooks/딥러닝"
      ],
      "metadata": {
        "colab": {
          "base_uri": "https://localhost:8080/"
        },
        "id": "V3f6xDxIGBwY",
        "outputId": "dc867c91-52ec-482a-ed39-3e4108a53490"
      },
      "execution_count": 2,
      "outputs": [
        {
          "output_type": "stream",
          "name": "stdout",
          "text": [
            "/content/drive/MyDrive/Colab Notebooks/딥러닝\n"
          ]
        }
      ]
    },
    {
      "cell_type": "code",
      "source": [
        "# 필요한 라이브러리 가져오기\n",
        "import numpy as np\n",
        "import pandas as pd\n",
        "import matplotlib.pyplot as plt"
      ],
      "metadata": {
        "id": "pesCPkCsGCRx"
      },
      "execution_count": 4,
      "outputs": []
    },
    {
      "cell_type": "code",
      "source": [
        "# 압축된 파일을 가져와서 압축을 풀어주자\n",
        "from zipfile import ZipFile\n",
        "\n",
        "zip_file = 'data/cats_and_dogs_filtered.zip' # 압축파일 경로 잡아주기\n",
        "\n",
        "with ZipFile(zip_file, 'r') as z :\n",
        "  z.extractall(path = 'data/')\n",
        "  # extractall -> 전체 파일 압축 해제\n",
        "  # path -> 압축을 해제하는 경로 설정"
      ],
      "metadata": {
        "id": "-u-Hc1PLGCYC"
      },
      "execution_count": 6,
      "outputs": []
    },
    {
      "cell_type": "markdown",
      "source": [
        "### 이미지 파일을 NPZ 파일로 변환시켜주자\n",
        "**NPZ 파일로 바꿔주는 이유**\n",
        "- 데이터가 복잡하고 양이 많다면 클라우드 환경(구글 코랩 / 구글 드라이브) 데이터를 업로드하는데 매우 오랜 시간이 걸린다.\n",
        "- 볼륨이 큰 이미지 데이터를 로컬환경(파이참 / 주피터 노트북)에서 빠르게 전처리 해주고 결과를 NPZ(numpy zip) 파일로 저장해서 빠르게 업로드 및 사용할 수 있도록 만들어줄 필요가 있다.\n",
        "- NPZ 파일을 가지고 원하는 환경에 편하게 가지고 가서 데이터를 활용할 수 있다."
      ],
      "metadata": {
        "id": "G1yshT_vM1tl"
      }
    },
    {
      "cell_type": "code",
      "source": [
        "# os 라이브러리 / Image 라이브러리 호출\n",
        "import os\n",
        "from PIL import Image"
      ],
      "metadata": {
        "id": "BiR7CZKkHHC6"
      },
      "execution_count": 7,
      "outputs": []
    },
    {
      "cell_type": "code",
      "source": [
        "# 이미지 접근을 위한 경로 설정\n",
        "# 기본 경로 설정\n",
        "base_dir = 'data/cats_and_dogs_filtered'\n",
        "\n",
        "# os.path.join() -> 파일의 경로 결합\n",
        "train_dir_cats = os.path.join(base_dir, 'train/cats')\n",
        "train_dir_dogs = os.path.join(base_dir, 'train/dogs')\n",
        "test_dir_cats = os.path.join(base_dir, 'test/cats')\n",
        "test_dir_dogs = os.path.join(base_dir, 'test/dogs')"
      ],
      "metadata": {
        "id": "gYTPvVrCHHFA"
      },
      "execution_count": 9,
      "outputs": []
    },
    {
      "cell_type": "code",
      "source": [
        "train_dir_cats"
      ],
      "metadata": {
        "colab": {
          "base_uri": "https://localhost:8080/",
          "height": 35
        },
        "id": "Qh169b7jHHI1",
        "outputId": "f8ccbd2d-6f2c-4c92-b33e-5f190b10fcbc"
      },
      "execution_count": 10,
      "outputs": [
        {
          "output_type": "execute_result",
          "data": {
            "text/plain": [
              "'data/cats_and_dogs_filtered/train/cats'"
            ],
            "application/vnd.google.colaboratory.intrinsic+json": {
              "type": "string"
            }
          },
          "metadata": {},
          "execution_count": 10
        }
      ]
    },
    {
      "cell_type": "code",
      "source": [
        "# os.listdir() -> list directory -> 해당 경로에 있는 파일명들을 리스트에 순서대로 저장\n",
        "train_cats_fname = os.listdir(train_dir_cats)\n",
        "train_dogs_fname = os.listdir(train_dir_dogs)\n",
        "test_cats_fname = os.listdir(test_dir_cats)\n",
        "test_dogs_fname = os.listdir(test_dir_dogs)"
      ],
      "metadata": {
        "id": "f0b7QGhCHHKt"
      },
      "execution_count": 11,
      "outputs": []
    },
    {
      "cell_type": "code",
      "source": [
        "train_cats_fname[:5]"
      ],
      "metadata": {
        "colab": {
          "base_uri": "https://localhost:8080/"
        },
        "id": "xqkKjVw_GCch",
        "outputId": "dd14d3b1-6598-4b5a-aef8-c1d518fe2c6c"
      },
      "execution_count": 18,
      "outputs": [
        {
          "output_type": "execute_result",
          "data": {
            "text/plain": [
              "['cat.0.jpg', 'cat.1.jpg', 'cat.10.jpg', 'cat.100.jpg', 'cat.101.jpg']"
            ]
          },
          "metadata": {},
          "execution_count": 18
        }
      ]
    },
    {
      "cell_type": "code",
      "source": [
        "# 파일 이름과 경로 결합 테스트\n",
        "test_path = os.path.join(train_dir_cats, train_cats_fname[0])\n",
        "test_path"
      ],
      "metadata": {
        "colab": {
          "base_uri": "https://localhost:8080/",
          "height": 35
        },
        "id": "w7WfkzNXPsa3",
        "outputId": "7a556594-cee0-4ad2-e039-7a2a4d5ae4ee"
      },
      "execution_count": 19,
      "outputs": [
        {
          "output_type": "execute_result",
          "data": {
            "text/plain": [
              "'data/cats_and_dogs_filtered/train/cats/cat.0.jpg'"
            ],
            "application/vnd.google.colaboratory.intrinsic+json": {
              "type": "string"
            }
          },
          "metadata": {},
          "execution_count": 19
        }
      ]
    },
    {
      "cell_type": "code",
      "source": [
        "# 이미지 사이즈 조정 및 배열로 변환\n",
        "img_shape = (224, 224)\n",
        "img = Image.open(test_path)\n",
        "img = img.resize(img_shape)\n",
        "np.array(img)"
      ],
      "metadata": {
        "colab": {
          "base_uri": "https://localhost:8080/",
          "height": 262
        },
        "id": "liGrA8NOPsdv",
        "outputId": "b119d50c-044c-43b2-dacd-5853faac9258"
      },
      "execution_count": 22,
      "outputs": [
        {
          "output_type": "execute_result",
          "data": {
            "text/plain": [
              "array([[[203, 164,  87],\n",
              "        [205, 166,  89],\n",
              "        [209, 170,  93],\n",
              "        ...,\n",
              "        [245, 204, 120],\n",
              "        [242, 202, 122],\n",
              "        [239, 200, 121]],\n",
              "\n",
              "       [[203, 164,  87],\n",
              "        [205, 166,  89],\n",
              "        [209, 170,  93],\n",
              "        ...,\n",
              "        [245, 204, 121],\n",
              "        [242, 203, 123],\n",
              "        [240, 201, 122]],\n",
              "\n",
              "       [[203, 164,  87],\n",
              "        [205, 166,  89],\n",
              "        [209, 170,  93],\n",
              "        ...,\n",
              "        [245, 205, 122],\n",
              "        [243, 204, 124],\n",
              "        [241, 202, 123]],\n",
              "\n",
              "       ...,\n",
              "\n",
              "       [[154, 123,  56],\n",
              "        [155, 124,  57],\n",
              "        [156, 125,  58],\n",
              "        ...,\n",
              "        [  3,   3,   1],\n",
              "        [  3,   3,   1],\n",
              "        [  3,   3,   1]],\n",
              "\n",
              "       [[153, 122,  55],\n",
              "        [153, 122,  55],\n",
              "        [154, 123,  56],\n",
              "        ...,\n",
              "        [  2,   2,   0],\n",
              "        [  2,   2,   0],\n",
              "        [  2,   2,   0]],\n",
              "\n",
              "       [[151, 120,  53],\n",
              "        [152, 121,  54],\n",
              "        [153, 122,  55],\n",
              "        ...,\n",
              "        [  1,   1,   0],\n",
              "        [  1,   1,   0],\n",
              "        [  1,   1,   0]]], dtype=uint8)"
            ],
            "text/html": [
              "<style>\n",
              "      .ndarray_repr .ndarray_raw_data {\n",
              "        display: none;\n",
              "      }\n",
              "      .ndarray_repr.show_array .ndarray_raw_data {\n",
              "        display: block;\n",
              "      }\n",
              "      .ndarray_repr.show_array .ndarray_image_preview {\n",
              "        display: none;\n",
              "      }\n",
              "      </style>\n",
              "      <div id=\"id-8796dafd-d013-42f2-b60f-fc44b50e0c5d\" class=\"ndarray_repr\"><pre>ndarray (224, 224, 3) <button style=\"padding: 0 2px;\">show data</button></pre><img src=\"data:image/png;base64,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\" class=\"ndarray_image_preview\" /><pre class=\"ndarray_raw_data\">array([[[203, 164,  87],\n",
              "        [205, 166,  89],\n",
              "        [209, 170,  93],\n",
              "        ...,\n",
              "        [245, 204, 120],\n",
              "        [242, 202, 122],\n",
              "        [239, 200, 121]],\n",
              "\n",
              "       [[203, 164,  87],\n",
              "        [205, 166,  89],\n",
              "        [209, 170,  93],\n",
              "        ...,\n",
              "        [245, 204, 121],\n",
              "        [242, 203, 123],\n",
              "        [240, 201, 122]],\n",
              "\n",
              "       [[203, 164,  87],\n",
              "        [205, 166,  89],\n",
              "        [209, 170,  93],\n",
              "        ...,\n",
              "        [245, 205, 122],\n",
              "        [243, 204, 124],\n",
              "        [241, 202, 123]],\n",
              "\n",
              "       ...,\n",
              "\n",
              "       [[154, 123,  56],\n",
              "        [155, 124,  57],\n",
              "        [156, 125,  58],\n",
              "        ...,\n",
              "        [  3,   3,   1],\n",
              "        [  3,   3,   1],\n",
              "        [  3,   3,   1]],\n",
              "\n",
              "       [[153, 122,  55],\n",
              "        [153, 122,  55],\n",
              "        [154, 123,  56],\n",
              "        ...,\n",
              "        [  2,   2,   0],\n",
              "        [  2,   2,   0],\n",
              "        [  2,   2,   0]],\n",
              "\n",
              "       [[151, 120,  53],\n",
              "        [152, 121,  54],\n",
              "        [153, 122,  55],\n",
              "        ...,\n",
              "        [  1,   1,   0],\n",
              "        [  1,   1,   0],\n",
              "        [  1,   1,   0]]], dtype=uint8)</pre></div><script>\n",
              "      (() => {\n",
              "      const titles = ['show data', 'hide data'];\n",
              "      let index = 0\n",
              "      document.querySelector('#id-8796dafd-d013-42f2-b60f-fc44b50e0c5d button').onclick = (e) => {\n",
              "        document.querySelector('#id-8796dafd-d013-42f2-b60f-fc44b50e0c5d').classList.toggle('show_array');\n",
              "        index = (++index) % 2;\n",
              "        document.querySelector('#id-8796dafd-d013-42f2-b60f-fc44b50e0c5d button').textContent = titles[index];\n",
              "        e.preventDefault();\n",
              "        e.stopPropagation();\n",
              "      }\n",
              "      })();\n",
              "    </script>"
            ]
          },
          "metadata": {},
          "execution_count": 22
        }
      ]
    },
    {
      "cell_type": "code",
      "source": [
        "# 사진을 불러와서 배열로 변경하는 함수를 만들어보자!\n",
        "def load_image(folder_path, file_name, img_size_shape=(224,224)):\n",
        "  imgs = []\n",
        "\n",
        "  for i in file_name :\n",
        "    # 폴더 경로 + 파일명\n",
        "    path = os.path.join(folder_path, i)\n",
        "    # 파일 오픈 후 크기 조정\n",
        "    img = Image.open(path).resize(img_size_shape)\n",
        "    # 넘파이 배열 변환\n",
        "    np_img = np.array(img)\n",
        "    # list에 저장\n",
        "    imgs.append(np_img)\n",
        "\n",
        "  return np.array(imgs)"
      ],
      "metadata": {
        "id": "GMHb9pHaPspP"
      },
      "execution_count": 23,
      "outputs": []
    },
    {
      "cell_type": "code",
      "source": [
        "# 변수 설정 후 파일을 저장하고 형태를 파악해보자\n",
        "X_train_cats = load_image(train_dir_cats, train_cats_fname)\n",
        "X_train_dogs = load_image(train_dir_dogs, train_dogs_fname)\n",
        "X_test_cats = load_image(test_dir_cats, test_cats_fname)\n",
        "X_test_dogs = load_image(test_dir_dogs, test_dogs_fname)"
      ],
      "metadata": {
        "id": "BfFut4MlTSrP"
      },
      "execution_count": 24,
      "outputs": []
    },
    {
      "cell_type": "code",
      "source": [
        "X_train_cats.shape, X_train_dogs.shape, X_test_cats.shape, X_test_dogs.shape"
      ],
      "metadata": {
        "colab": {
          "base_uri": "https://localhost:8080/"
        },
        "id": "y-ZX_XTJRghG",
        "outputId": "a52ad54c-ca66-4cba-f4b6-496e6962d57c"
      },
      "execution_count": 26,
      "outputs": [
        {
          "output_type": "execute_result",
          "data": {
            "text/plain": [
              "((1000, 224, 224, 3),\n",
              " (1000, 224, 224, 3),\n",
              " (500, 224, 224, 3),\n",
              " (500, 224, 224, 3))"
            ]
          },
          "metadata": {},
          "execution_count": 26
        }
      ]
    }
  ]
}