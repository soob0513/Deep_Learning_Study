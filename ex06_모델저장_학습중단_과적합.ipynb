{
  "nbformat": 4,
  "nbformat_minor": 0,
  "metadata": {
    "colab": {
      "provenance": []
    },
    "kernelspec": {
      "name": "python3",
      "display_name": "Python 3"
    },
    "language_info": {
      "name": "python"
    }
  },
  "cells": [
    {
      "cell_type": "code",
      "source": [
        "from google.colab import drive\n",
        "drive.mount('/content/drive')"
      ],
      "metadata": {
        "colab": {
          "base_uri": "https://localhost:8080/"
        },
        "id": "0w2CROWHuYs4",
        "outputId": "b47ae9f2-4297-44de-b035-49b22108cc83"
      },
      "execution_count": 43,
      "outputs": [
        {
          "output_type": "stream",
          "name": "stdout",
          "text": [
            "Drive already mounted at /content/drive; to attempt to forcibly remount, call drive.mount(\"/content/drive\", force_remount=True).\n"
          ]
        }
      ]
    },
    {
      "cell_type": "code",
      "source": [
        "%cd /content/drive/MyDrive/Colab Notebooks/딥러닝"
      ],
      "metadata": {
        "colab": {
          "base_uri": "https://localhost:8080/"
        },
        "id": "JfVNIhigLZnx",
        "outputId": "3f7023d9-8b8c-43d2-86a0-04066903cf22"
      },
      "execution_count": 44,
      "outputs": [
        {
          "output_type": "stream",
          "name": "stdout",
          "text": [
            "/content/drive/MyDrive/Colab Notebooks/딥러닝\n"
          ]
        }
      ]
    },
    {
      "cell_type": "markdown",
      "source": [
        "### 학습목표\n",
        "- 베스트 모델 저장하기 / 불러오기\n",
        "- 학습 중단 기능\n",
        "- 과적합 방지 - Dropout\n"
      ],
      "metadata": {
        "id": "TnhsrCVxuMpT"
      }
    },
    {
      "cell_type": "markdown",
      "source": [
        "### 베스트 모델 저장하기 / 학습 중단"
      ],
      "metadata": {
        "id": "OFB4h4u49WMq"
      }
    },
    {
      "cell_type": "markdown",
      "source": [
        "- 손글씨 이미지 데이터셋\n",
        "  - 훈련 데이터 6만 개. 테스트 데이터 1만 개\n",
        "  - 0~9까지 숫자 이미지에 대한 라벨링"
      ],
      "metadata": {
        "id": "sTtireg69yds"
      }
    },
    {
      "cell_type": "code",
      "source": [
        "from tensorflow.keras.datasets import mnist\n",
        "\n",
        "(X_train, y_train),(X_test, y_test) = mnist.load_data()\n",
        "\n",
        "X_train.shape, X_test.shape"
      ],
      "metadata": {
        "id": "pLCmtjP6uLK1",
        "colab": {
          "base_uri": "https://localhost:8080/"
        },
        "outputId": "896f93f5-6b4d-4aa4-f557-5b9eb0e61e12"
      },
      "execution_count": 45,
      "outputs": [
        {
          "output_type": "execute_result",
          "data": {
            "text/plain": [
              "((60000, 28, 28), (10000, 28, 28))"
            ]
          },
          "metadata": {},
          "execution_count": 45
        }
      ]
    },
    {
      "cell_type": "markdown",
      "source": [
        "- 데이터 확인"
      ],
      "metadata": {
        "id": "JBdEuMU0-sjo"
      }
    },
    {
      "cell_type": "code",
      "source": [
        "import matplotlib.pyplot as plt\n",
        "\n",
        "print(y_train[10])\n",
        "plt.imshow(X_train[10], cmap='gray')\n",
        "plt.show()"
      ],
      "metadata": {
        "id": "Ipa8PpIBuLNE",
        "colab": {
          "base_uri": "https://localhost:8080/",
          "height": 448
        },
        "outputId": "f75aaebd-f27a-432a-db14-11711348fab4"
      },
      "execution_count": 46,
      "outputs": [
        {
          "output_type": "stream",
          "name": "stdout",
          "text": [
            "3\n"
          ]
        },
        {
          "output_type": "display_data",
          "data": {
            "text/plain": [
              "<Figure size 640x480 with 1 Axes>"
            ],
            "image/png": "[encoded data removed]"
          },
          "metadata": {}
        }
      ]
    },
    {
      "cell_type": "markdown",
      "source": [
        "- 이미지 (2차원) -> Dense (1차원) 변환"
      ],
      "metadata": {
        "id": "DpBUW2S_AGiW"
      }
    },
    {
      "cell_type": "code",
      "source": [
        "X_train = X_train.reshape(-1, 28*28)\n",
        "X_test = X_test.reshape(-1, 28*28)\n",
        "\n",
        "X_train.shape, X_test.shape"
      ],
      "metadata": {
        "id": "kOMgXGSJuLRQ",
        "colab": {
          "base_uri": "https://localhost:8080/"
        },
        "outputId": "d1c8cb58-6a14-4578-9352-5cd4aa80167f"
      },
      "execution_count": 47,
      "outputs": [
        {
          "output_type": "execute_result",
          "data": {
            "text/plain": [
              "((60000, 784), (10000, 784))"
            ]
          },
          "metadata": {},
          "execution_count": 47
        }
      ]
    },
    {
      "cell_type": "markdown",
      "source": [
        "- 스케일링 : 0-255 -> 0.0-1.0"
      ],
      "metadata": {
        "id": "fG_o9xnTApKB"
      }
    },
    {
      "cell_type": "code",
      "source": [
        "X_train = X_train / 255.0\n",
        "X_test = X_test / 255.0"
      ],
      "metadata": {
        "id": "uybhgtS2uLUM"
      },
      "execution_count": 48,
      "outputs": []
    },
    {
      "cell_type": "code",
      "source": [
        "X_train"
      ],
      "metadata": {
        "colab": {
          "base_uri": "https://localhost:8080/"
        },
        "id": "ORnCCMP1A-Dg",
        "outputId": "4d8942bf-f665-46d4-dcfc-0034fc948947"
      },
      "execution_count": 49,
      "outputs": [
        {
          "output_type": "execute_result",
          "data": {
            "text/plain": [
              "array([[0., 0., 0., ..., 0., 0., 0.],\n",
              "       [0., 0., 0., ..., 0., 0., 0.],\n",
              "       [0., 0., 0., ..., 0., 0., 0.],\n",
              "       ...,\n",
              "       [0., 0., 0., ..., 0., 0., 0.],\n",
              "       [0., 0., 0., ..., 0., 0., 0.],\n",
              "       [0., 0., 0., ..., 0., 0., 0.]])"
            ]
          },
          "metadata": {},
          "execution_count": 49
        }
      ]
    },
    {
      "cell_type": "markdown",
      "source": [
        "- 라벨 데이터는 원핫인코딩 (다진분류)"
      ],
      "metadata": {
        "id": "WHsl_rUNBaq0"
      }
    },
    {
      "cell_type": "code",
      "source": [
        "from tensorflow.keras.utils import to_categorical\n",
        "\n",
        "y_train_oh = to_categorical(y_train)\n",
        "y_test_oh = to_categorical(y_test)\n",
        "\n",
        "y_train_oh.shape, y_test_oh.shape"
      ],
      "metadata": {
        "colab": {
          "base_uri": "https://localhost:8080/"
        },
        "id": "HLStAA35A9_w",
        "outputId": "baf4cd39-6c31-4699-867f-392099cb8d47"
      },
      "execution_count": 50,
      "outputs": [
        {
          "output_type": "execute_result",
          "data": {
            "text/plain": [
              "((60000, 10), (10000, 10))"
            ]
          },
          "metadata": {},
          "execution_count": 50
        }
      ]
    },
    {
      "cell_type": "markdown",
      "source": [
        "- 신경망 설계"
      ],
      "metadata": {
        "id": "NLbB2q1fCyhw"
      }
    },
    {
      "cell_type": "code",
      "source": [
        "from tensorflow.keras.models import Sequential\n",
        "from tensorflow.keras.layers import Dense\n",
        "\n",
        "model1 = Sequential()\n",
        "# input_dim : 입력 데이터의 크기(X_train의 크기)\n",
        "model1.add(Dense(512, activation='relu', input_dim=28*28))\n",
        "# 10 : 라벨 데이터의 크기(y_train의 크기)\n",
        "model1.add(Dense(10, activation = 'softmax'))\n",
        "\n",
        "model1.summary()"
      ],
      "metadata": {
        "colab": {
          "base_uri": "https://localhost:8080/"
        },
        "id": "4swy0OzWA995",
        "outputId": "3d140c3b-0896-40e3-9d26-c614124dcbdd"
      },
      "execution_count": 51,
      "outputs": [
        {
          "output_type": "stream",
          "name": "stdout",
          "text": [
            "Model: \"sequential_2\"\n",
            "_________________________________________________________________\n",
            " Layer (type)                Output Shape              Param #   \n",
            "=================================================================\n",
            " dense_4 (Dense)             (None, 512)               401920    \n",
            "                                                                 \n",
            " dense_5 (Dense)             (None, 10)                5130      \n",
            "                                                                 \n",
            "=================================================================\n",
            "Total params: 407050 (1.55 MB)\n",
            "Trainable params: 407050 (1.55 MB)\n",
            "Non-trainable params: 0 (0.00 Byte)\n",
            "_________________________________________________________________\n"
          ]
        }
      ]
    },
    {
      "cell_type": "code",
      "source": [
        "model1.compile(optimizer='adam', loss='categorical_crossentropy', metrics=['accuracy'])"
      ],
      "metadata": {
        "id": "jFjbccJZBxJC"
      },
      "execution_count": 52,
      "outputs": []
    },
    {
      "cell_type": "code",
      "source": [
        "# validation_data : 테스트 데이터가 있는 경우\n",
        "# validation_split : 테스트 데이터가 있는 경우 훈련 데이터에서 비율만큼 가져온다.\n",
        "h1 = model1.fit(X_train, y_train_oh, epochs = 20, batch_size = 128,\n",
        "                validation_data=(X_test, y_test_oh))"
      ],
      "metadata": {
        "id": "HOGqaRgoBxLZ",
        "colab": {
          "base_uri": "https://localhost:8080/"
        },
        "outputId": "bc6e006f-9b6d-4560-d4f4-5af99e32b04b"
      },
      "execution_count": 53,
      "outputs": [
        {
          "output_type": "stream",
          "name": "stdout",
          "text": [
            "Epoch 1/20\n",
            "469/469 [==============================] - 12s 23ms/step - loss: 0.2617 - accuracy: 0.9257 - val_loss: 0.1341 - val_accuracy: 0.9622\n",
            "Epoch 2/20\n",
            "469/469 [==============================] - 8s 16ms/step - loss: 0.1052 - accuracy: 0.9693 - val_loss: 0.0892 - val_accuracy: 0.9732\n",
            "Epoch 3/20\n",
            "469/469 [==============================] - 5s 11ms/step - loss: 0.0680 - accuracy: 0.9806 - val_loss: 0.0744 - val_accuracy: 0.9772\n",
            "Epoch 4/20\n",
            "469/469 [==============================] - 5s 11ms/step - loss: 0.0489 - accuracy: 0.9853 - val_loss: 0.0687 - val_accuracy: 0.9790\n",
            "Epoch 5/20\n",
            "469/469 [==============================] - 4s 9ms/step - loss: 0.0363 - accuracy: 0.9896 - val_loss: 0.0647 - val_accuracy: 0.9797\n",
            "Epoch 6/20\n",
            "469/469 [==============================] - 5s 11ms/step - loss: 0.0260 - accuracy: 0.9926 - val_loss: 0.0670 - val_accuracy: 0.9781\n",
            "Epoch 7/20\n",
            "469/469 [==============================] - 5s 11ms/step - loss: 0.0205 - accuracy: 0.9944 - val_loss: 0.0627 - val_accuracy: 0.9803\n",
            "Epoch 8/20\n",
            "469/469 [==============================] - 6s 12ms/step - loss: 0.0158 - accuracy: 0.9956 - val_loss: 0.0627 - val_accuracy: 0.9815\n",
            "Epoch 9/20\n",
            "469/469 [==============================] - 10s 21ms/step - loss: 0.0127 - accuracy: 0.9967 - val_loss: 0.0588 - val_accuracy: 0.9820\n",
            "Epoch 10/20\n",
            "469/469 [==============================] - 9s 19ms/step - loss: 0.0090 - accuracy: 0.9979 - val_loss: 0.0622 - val_accuracy: 0.9800\n",
            "Epoch 11/20\n",
            "469/469 [==============================] - 11s 24ms/step - loss: 0.0082 - accuracy: 0.9980 - val_loss: 0.0687 - val_accuracy: 0.9798\n",
            "Epoch 12/20\n",
            "469/469 [==============================] - 9s 18ms/step - loss: 0.0083 - accuracy: 0.9978 - val_loss: 0.0663 - val_accuracy: 0.9825\n",
            "Epoch 13/20\n",
            "469/469 [==============================] - 7s 14ms/step - loss: 0.0055 - accuracy: 0.9986 - val_loss: 0.0632 - val_accuracy: 0.9824\n",
            "Epoch 14/20\n",
            "469/469 [==============================] - 7s 14ms/step - loss: 0.0055 - accuracy: 0.9986 - val_loss: 0.0734 - val_accuracy: 0.9801\n",
            "Epoch 15/20\n",
            "469/469 [==============================] - 7s 15ms/step - loss: 0.0050 - accuracy: 0.9987 - val_loss: 0.0700 - val_accuracy: 0.9820\n",
            "Epoch 16/20\n",
            "469/469 [==============================] - 4s 9ms/step - loss: 0.0064 - accuracy: 0.9983 - val_loss: 0.0858 - val_accuracy: 0.9786\n",
            "Epoch 17/20\n",
            "469/469 [==============================] - 6s 12ms/step - loss: 0.0038 - accuracy: 0.9990 - val_loss: 0.0638 - val_accuracy: 0.9840\n",
            "Epoch 18/20\n",
            "469/469 [==============================] - 5s 10ms/step - loss: 0.0047 - accuracy: 0.9987 - val_loss: 0.0717 - val_accuracy: 0.9831\n",
            "Epoch 19/20\n",
            "469/469 [==============================] - 7s 15ms/step - loss: 0.0044 - accuracy: 0.9986 - val_loss: 0.0795 - val_accuracy: 0.9829\n",
            "Epoch 20/20\n",
            "469/469 [==============================] - 7s 14ms/step - loss: 0.0033 - accuracy: 0.9992 - val_loss: 0.0739 - val_accuracy: 0.9844\n"
          ]
        }
      ]
    },
    {
      "cell_type": "markdown",
      "source": [
        "- 시각화"
      ],
      "metadata": {
        "id": "1FEYUEsvIsGh"
      }
    },
    {
      "cell_type": "code",
      "source": [
        "import matplotlib.pyplot as plt\n",
        "\n",
        "plt.plot(h1.history['accuracy'], label = \"train\")\n",
        "plt.plot(h1.history['val_accuracy'], label = \"test\")\n",
        "plt.legend()\n",
        "plt.show()\n",
        "\n",
        "plt.plot(h1.history['loss'], label = \"train\")\n",
        "plt.plot(h1.history['val_loss'], label = \"test\")\n",
        "plt.legend()\n",
        "plt.show()"
      ],
      "metadata": {
        "id": "J89y-ruUBxNa",
        "colab": {
          "base_uri": "https://localhost:8080/",
          "height": 843
        },
        "outputId": "fd4797ac-e019-406a-842c-4901499d8421"
      },
      "execution_count": 54,
      "outputs": [
        {
          "output_type": "display_data",
          "data": {
            "text/plain": [
              "<Figure size 640x480 with 1 Axes>"
            ],
            "image/png": "[encoded data removed]"
          },
          "metadata": {}
        },
        {
          "output_type": "display_data",
          "data": {
            "text/plain": [
              "<Figure size 640x480 with 1 Axes>"
            ],
            "image/png": "[encoded data removed]"
          },
          "metadata": {}
        }
      ]
    },
    {
      "cell_type": "markdown",
      "source": [
        "- 베스트 모델 저장, 학습 중단 설정\n",
        "  - 베스트 모델 : 학습 중에서 설정한 기준값이 가장 좋은 모델을 저장 (ModelCheckpoint())\n",
        "  - 학습 모델 : 학습 중에 설정한 기준값이 만족하는 경우에 학습을 중지시키는 기능 (EarlyStopping())"
      ],
      "metadata": {
        "id": "ebGspwcBKHc6"
      }
    },
    {
      "cell_type": "code",
      "source": [
        "from tensorflow.keras.callbacks import ModelCheckpoint,EarlyStopping\n",
        "import os\n",
        "\n",
        "# 모델을 저장할 폴더\n",
        "model_dir = './model/'\n",
        "\n",
        "# 만약에 해당 폴더가 없다면 폴더를 생성\n",
        "if not os.path.exists(model_dir):\n",
        "  os.mkdir(model_dir)"
      ],
      "metadata": {
        "id": "EoW7gza2BxPQ"
      },
      "execution_count": 55,
      "outputs": []
    },
    {
      "cell_type": "code",
      "source": [
        "# {epoch:02d} : epoch 변수의 값을 2자리 정수로 출력\n",
        "# {loss:.4f} : loss 변수의 값을 소수점 넷째 자리까지로 설정\n",
        "# {val_loss:.4f} : val_loss 변수의 값을 소수점 넷째 자리까지로 설정\n",
        "# 파일명 예시 : ./model/model1_20_0.894_0.876.hdf5\n",
        "file_name = model_dir + \"model1_{epoch:02d}_{loss:.4f}_{val_loss:.4f}.hdf5\"\n",
        "\n",
        "# 베스트 모델 저장 설정\n",
        "# monitor : 베스트 모델을 결정하는 기준값\n",
        "# save_best_only=True : monitor에서 설정한 기준값이 더 나아지는 경우에만 저장\n",
        "mc = ModelCheckpoint(file_name, monitor='val_loss', save_best_only=True)\n",
        "\n",
        "# 학습 중단 기능 : 얼마만큼 학습횟수를 설정할지 알 수 없기 때문에 학습이 더 나아지지 않는 경우에 자동 중지\n",
        "# monitor : 학습 중단을 결정하는 기준값(가능하면 ModelCheckpoint와 동일한 값을 권장)\n",
        "# patience : 학습이 더 나아지지 않더라도 기다려주는 횟수\n",
        "es = EarlyStopping(monitor='val_loss', patience=5)"
      ],
      "metadata": {
        "id": "tuSb_0z9A97-"
      },
      "execution_count": 56,
      "outputs": []
    },
    {
      "cell_type": "code",
      "source": [
        "# callbacks : 반복할 때마다 호출되어 실행\n",
        "h1 = model1.fit(X_train, y_train_oh, epochs = 40, batch_size = 128,\n",
        "                validation_data=(X_test, y_test_oh),callbacks=[mc, es])"
      ],
      "metadata": {
        "id": "4QLMw6shOllx",
        "colab": {
          "base_uri": "https://localhost:8080/"
        },
        "outputId": "e6fdd390-0195-4464-c499-8ec0b85c0f5c"
      },
      "execution_count": 57,
      "outputs": [
        {
          "output_type": "stream",
          "name": "stdout",
          "text": [
            "Epoch 1/40\n",
            "469/469 [==============================] - 4s 9ms/step - loss: 0.0011 - accuracy: 0.9998 - val_loss: 0.0691 - val_accuracy: 0.9838\n",
            "Epoch 2/40\n",
            "  9/469 [..............................] - ETA: 6s - loss: 0.0030 - accuracy: 0.9983    "
          ]
        },
        {
          "output_type": "stream",
          "name": "stderr",
          "text": [
            "/usr/local/lib/python3.10/dist-packages/keras/src/engine/training.py:3103: UserWarning: You are saving your model as an HDF5 file via `model.save()`. This file format is considered legacy. We recommend using instead the native Keras format, e.g. `model.save('my_model.keras')`.\n",
            "  saving_api.save_model(\n"
          ]
        },
        {
          "output_type": "stream",
          "name": "stdout",
          "text": [
            "469/469 [==============================] - 6s 13ms/step - loss: 6.7367e-04 - accuracy: 0.9999 - val_loss: 0.0746 - val_accuracy: 0.9838\n",
            "Epoch 3/40\n",
            "469/469 [==============================] - 4s 9ms/step - loss: 2.0600e-04 - accuracy: 1.0000 - val_loss: 0.0708 - val_accuracy: 0.9851\n",
            "Epoch 4/40\n",
            "469/469 [==============================] - 5s 10ms/step - loss: 1.3314e-04 - accuracy: 1.0000 - val_loss: 0.0721 - val_accuracy: 0.9847\n",
            "Epoch 5/40\n",
            "469/469 [==============================] - 6s 12ms/step - loss: 1.0847e-04 - accuracy: 1.0000 - val_loss: 0.0725 - val_accuracy: 0.9853\n",
            "Epoch 6/40\n",
            "469/469 [==============================] - 5s 10ms/step - loss: 9.1880e-05 - accuracy: 1.0000 - val_loss: 0.0732 - val_accuracy: 0.9849\n"
          ]
        }
      ]
    },
    {
      "cell_type": "code",
      "source": [
        "# 시각화\n",
        "import matplotlib.pyplot as plt\n",
        "\n",
        "plt.plot(h1.history['accuracy'], label = \"train\")\n",
        "plt.plot(h1.history['val_accuracy'], label = \"test\")\n",
        "plt.legend()\n",
        "plt.show()\n",
        "\n",
        "plt.plot(h1.history['loss'], label = \"train\")\n",
        "plt.plot(h1.history['val_loss'], label = \"test\")\n",
        "plt.legend()\n",
        "plt.show()"
      ],
      "metadata": {
        "id": "1D_yDFK5RBAq",
        "colab": {
          "base_uri": "https://localhost:8080/",
          "height": 843
        },
        "outputId": "88a3b77a-841d-4b80-8dbe-d1a100cd060f"
      },
      "execution_count": 58,
      "outputs": [
        {
          "output_type": "display_data",
          "data": {
            "text/plain": [
              "<Figure size 640x480 with 1 Axes>"
            ],
            "image/png": "[encoded data removed]"
          },
          "metadata": {}
        },
        {
          "output_type": "display_data",
          "data": {
            "text/plain": [
              "<Figure size 640x480 with 1 Axes>"
            ],
            "image/png": "[encoded data removed]"
          },
          "metadata": {}
        }
      ]
    },
    {
      "cell_type": "markdown",
      "source": [
        "- 모델 불러오기"
      ],
      "metadata": {
        "id": "MvQCesKnRZlE"
      }
    },
    {
      "cell_type": "code",
      "source": [
        "from keras.models import load_model\n",
        "\n",
        "file_name = './model/model1_02_0.0002_0.0710.hdf5'\n",
        "model2 = load_model(file_name)\n",
        "\n",
        "model2.evaluate(X_train, y_train_oh)\n",
        "model2.evaluate(X_test, y_test_oh)"
      ],
      "metadata": {
        "id": "rlJdGyn3RbXh",
        "colab": {
          "base_uri": "https://localhost:8080/"
        },
        "outputId": "7130b1bc-4249-49d5-f771-a60c74c6f41b"
      },
      "execution_count": 59,
      "outputs": [
        {
          "output_type": "stream",
          "name": "stdout",
          "text": [
            "1875/1875 [==============================] - 5s 2ms/step - loss: 1.9063e-04 - accuracy: 1.0000\n",
            "313/313 [==============================] - 1s 4ms/step - loss: 0.0710 - accuracy: 0.9837\n"
          ]
        },
        {
          "output_type": "execute_result",
          "data": {
            "text/plain": [
              "[0.07097351551055908, 0.9836999773979187]"
            ]
          },
          "metadata": {},
          "execution_count": 59
        }
      ]
    },
    {
      "cell_type": "markdown",
      "source": [
        "- 예측하기"
      ],
      "metadata": {
        "id": "rvjtHh0vEFdg"
      }
    },
    {
      "cell_type": "code",
      "source": [
        "pred = model2.predict(X_test[0:1])\n",
        "print(pred)\n",
        "# 가장 큰 값을 갖는 인덱스를 반환\n",
        "print(pred.argmax())\n",
        "# 실제값\n",
        "print(y_test[0])"
      ],
      "metadata": {
        "id": "CpphBhKsCwLc",
        "colab": {
          "base_uri": "https://localhost:8080/"
        },
        "outputId": "d4736faa-1de7-42ee-e93f-82d0cdeb0d05"
      },
      "execution_count": 60,
      "outputs": [
        {
          "output_type": "stream",
          "name": "stdout",
          "text": [
            "1/1 [==============================] - 0s 82ms/step\n",
            "[[1.00478566e-11 5.69272819e-14 1.22564415e-11 1.37176333e-08\n",
            "  4.68413025e-18 5.12984566e-13 1.58380427e-18 1.00000000e+00\n",
            "  4.01840844e-12 5.57351443e-10]]\n",
            "7\n",
            "7\n"
          ]
        }
      ]
    },
    {
      "cell_type": "code",
      "source": [
        "import matplotlib.pyplot as plt\n",
        "\n",
        "plt.imshow(X_test[0].reshape(28,28), cmap='gray')\n",
        "plt.show()"
      ],
      "metadata": {
        "id": "KlvvJS-ZCwGg",
        "colab": {
          "base_uri": "https://localhost:8080/",
          "height": 430
        },
        "outputId": "9ac2dcb6-54ca-4c34-c02c-f8633d57656f"
      },
      "execution_count": 61,
      "outputs": [
        {
          "output_type": "display_data",
          "data": {
            "text/plain": [
              "<Figure size 640x480 with 1 Axes>"
            ],
            "image/png": "[encoded data removed]"
          },
          "metadata": {}
        }
      ]
    },
    {
      "cell_type": "code",
      "source": [
        "pred2 = model2.predict(X_test[23:24])\n",
        "print(pred2)\n",
        "# 가장 큰 값을 갖는 인덱스를 반환\n",
        "print(pred2.argmax())"
      ],
      "metadata": {
        "id": "4ZKzse7nCv_r",
        "colab": {
          "base_uri": "https://localhost:8080/"
        },
        "outputId": "b1c98dd8-fa56-43a4-8890-9ce362a8d337"
      },
      "execution_count": 62,
      "outputs": [
        {
          "output_type": "stream",
          "name": "stdout",
          "text": [
            "1/1 [==============================] - 0s 19ms/step\n",
            "[[1.9305930e-19 4.4900181e-17 4.5395344e-16 2.3718495e-12 1.4273738e-20\n",
            "  1.0000000e+00 2.4407074e-12 1.1894605e-23 3.1115498e-14 3.0523664e-15]]\n",
            "5\n"
          ]
        }
      ]
    },
    {
      "cell_type": "code",
      "source": [
        "import matplotlib.pyplot as plt\n",
        "\n",
        "plt.imshow(X_test[23].reshape(28,28), cmap='gray')\n",
        "plt.show()"
      ],
      "metadata": {
        "colab": {
          "base_uri": "https://localhost:8080/",
          "height": 430
        },
        "id": "Aa-iUSo6Fn-b",
        "outputId": "8314e596-c3f2-4026-ea34-e143286beb66"
      },
      "execution_count": 63,
      "outputs": [
        {
          "output_type": "display_data",
          "data": {
            "text/plain": [
              "<Figure size 640x480 with 1 Axes>"
            ],
            "image/png": "[encoded data removed]"
          },
          "metadata": {}
        }
      ]
    },
    {
      "cell_type": "code",
      "source": [
        "idx = 115\n",
        "\n",
        "pred3 = model2.predict(X_test[idx:idx+1])\n",
        "print(pred3)\n",
        "# 가장 큰 값을 갖는 인덱스를 반환\n",
        "print(pred3.argmax())\n",
        "# 실제값\n",
        "print(y_test[idx])"
      ],
      "metadata": {
        "colab": {
          "base_uri": "https://localhost:8080/"
        },
        "id": "0WpfLTpYF_eE",
        "outputId": "c64b3977-e379-45ad-97e2-f1c0e4b3c855"
      },
      "execution_count": 66,
      "outputs": [
        {
          "output_type": "stream",
          "name": "stdout",
          "text": [
            "1/1 [==============================] - 0s 42ms/step\n",
            "[[1.57969300e-08 2.11539657e-07 1.46726393e-07 1.13760244e-07\n",
            "  1.20922051e-01 1.94321586e-07 6.02205073e-05 8.65985061e-09\n",
            "  1.61549724e-06 8.79015446e-01]]\n",
            "9\n",
            "4\n"
          ]
        }
      ]
    },
    {
      "cell_type": "code",
      "source": [
        "# 잘못 예측한 데이터 출력해보기\n",
        "pred4 = model2.predict(X_test)\n",
        "\n",
        "co = 0\n",
        "failed = 0\n",
        "for i in pred4 :\n",
        "  if pred4[co].argmax() != y_test[co] :\n",
        "    failed += 1\n",
        "    print(co)\n",
        "  co += 1\n",
        "\n",
        "print(\"잘못 예측한 데이터 수 : \", failed)"
      ],
      "metadata": {
        "colab": {
          "base_uri": "https://localhost:8080/"
        },
        "id": "FNDL8npzGSPD",
        "outputId": "d577f33c-e168-4e4a-e380-36d70236cd32"
      },
      "execution_count": 69,
      "outputs": [
        {
          "output_type": "stream",
          "name": "stdout",
          "text": [
            "313/313 [==============================] - 1s 3ms/step\n",
            "115\n",
            "149\n",
            "247\n",
            "321\n",
            "340\n",
            "445\n",
            "449\n",
            "495\n",
            "582\n",
            "659\n",
            "684\n",
            "720\n",
            "947\n",
            "951\n",
            "956\n",
            "965\n",
            "1014\n",
            "1039\n",
            "1112\n",
            "1156\n",
            "1178\n",
            "1182\n",
            "1226\n",
            "1232\n",
            "1242\n",
            "1247\n",
            "1319\n",
            "1328\n",
            "1393\n",
            "1395\n",
            "1494\n",
            "1522\n",
            "1549\n",
            "1609\n",
            "1621\n",
            "1681\n",
            "1754\n",
            "1790\n",
            "1800\n",
            "1878\n",
            "1901\n",
            "1941\n",
            "1982\n",
            "1984\n",
            "1987\n",
            "2004\n",
            "2024\n",
            "2043\n",
            "2053\n",
            "2070\n",
            "2098\n",
            "2109\n",
            "2118\n",
            "2130\n",
            "2135\n",
            "2182\n",
            "2272\n",
            "2293\n",
            "2369\n",
            "2387\n",
            "2488\n",
            "2597\n",
            "2607\n",
            "2648\n",
            "2654\n",
            "2720\n",
            "2877\n",
            "2896\n",
            "2921\n",
            "2927\n",
            "2939\n",
            "2953\n",
            "3073\n",
            "3117\n",
            "3225\n",
            "3422\n",
            "3503\n",
            "3520\n",
            "3558\n",
            "3567\n",
            "3727\n",
            "3751\n",
            "3780\n",
            "3796\n",
            "3808\n",
            "3818\n",
            "3838\n",
            "3853\n",
            "3893\n",
            "3906\n",
            "3941\n",
            "3943\n",
            "4065\n",
            "4140\n",
            "4176\n",
            "4199\n",
            "4201\n",
            "4248\n",
            "4289\n",
            "4294\n",
            "4425\n",
            "4433\n",
            "4443\n",
            "4497\n",
            "4536\n",
            "4551\n",
            "4740\n",
            "4751\n",
            "4761\n",
            "4807\n",
            "4823\n",
            "4860\n",
            "4876\n",
            "4879\n",
            "4880\n",
            "4966\n",
            "5199\n",
            "5331\n",
            "5457\n",
            "5564\n",
            "5642\n",
            "5676\n",
            "5734\n",
            "5936\n",
            "5955\n",
            "5973\n",
            "6011\n",
            "6023\n",
            "6059\n",
            "6166\n",
            "6555\n",
            "6559\n",
            "6571\n",
            "6574\n",
            "6576\n",
            "6597\n",
            "6651\n",
            "6755\n",
            "6783\n",
            "6847\n",
            "7216\n",
            "7434\n",
            "8062\n",
            "8094\n",
            "8246\n",
            "8325\n",
            "8522\n",
            "8527\n",
            "9009\n",
            "9015\n",
            "9019\n",
            "9024\n",
            "9280\n",
            "9587\n",
            "9664\n",
            "9679\n",
            "9729\n",
            "9745\n",
            "9768\n",
            "9770\n",
            "9792\n",
            "9839\n",
            "9975\n",
            "잘못 예측한 데이터 수 :  163\n"
          ]
        }
      ]
    },
    {
      "cell_type": "code",
      "source": [
        "import matplotlib.pyplot as plt\n",
        "\n",
        "plt.imshow(X_test[115].reshape(28,28), cmap='gray')\n",
        "plt.show()"
      ],
      "metadata": {
        "colab": {
          "base_uri": "https://localhost:8080/",
          "height": 430
        },
        "id": "myWndTdjIs8U",
        "outputId": "f35d9a42-ada0-4779-ceb7-15b5b2c555d6"
      },
      "execution_count": 70,
      "outputs": [
        {
          "output_type": "display_data",
          "data": {
            "text/plain": [
              "<Figure size 640x480 with 1 Axes>"
            ],
            "image/png": "[encoded data removed]"
          },
          "metadata": {}
        }
      ]
    },
    {
      "cell_type": "code",
      "source": [
        "import matplotlib.pyplot as plt\n",
        "\n",
        "plt.imshow(X_test[9975].reshape(28,28), cmap='gray')\n",
        "plt.show()"
      ],
      "metadata": {
        "colab": {
          "base_uri": "https://localhost:8080/",
          "height": 430
        },
        "id": "UT8gCzcaI6sQ",
        "outputId": "3b4c886e-f867-480d-c9a3-d2881221d0fd"
      },
      "execution_count": 71,
      "outputs": [
        {
          "output_type": "display_data",
          "data": {
            "text/plain": [
              "<Figure size 640x480 with 1 Axes>"
            ],
            "image/png": "[encoded data removed]"
          },
          "metadata": {}
        }
      ]
    },
    {
      "cell_type": "code",
      "source": [
        "idx = 9975\n",
        "\n",
        "pred3 = model2.predict(X_test[idx:idx+1])\n",
        "print(pred3)\n",
        "# 가장 큰 값을 갖는 인덱스를 반환\n",
        "print(pred3.argmax())\n",
        "# 실제값\n",
        "print(y_test[idx])"
      ],
      "metadata": {
        "colab": {
          "base_uri": "https://localhost:8080/"
        },
        "id": "OjlPDCftJAZc",
        "outputId": "9d7d8e30-a4dc-4b1c-a0ad-5ea326a5e53b"
      },
      "execution_count": 72,
      "outputs": [
        {
          "output_type": "stream",
          "name": "stdout",
          "text": [
            "1/1 [==============================] - 0s 34ms/step\n",
            "[[1.0022501e-09 2.1679043e-06 4.0550120e-04 4.6127445e-01 1.7654080e-11\n",
            "  3.9278314e-07 2.4079991e-09 5.6440267e-04 5.3775287e-01 1.7006204e-07]]\n",
            "8\n",
            "3\n"
          ]
        }
      ]
    },
    {
      "cell_type": "markdown",
      "source": [
        "- 내 손글씨 인식하기\n",
        "  - 모델을 만들 때 수행했던 전처리를 그대로 해주어야 한다"
      ],
      "metadata": {
        "id": "s_p58T-ELW9H"
      }
    },
    {
      "cell_type": "code",
      "source": [
        "# 이미지 불러오기!\n",
        "import PIL.Image as pimg\n",
        "import numpy as np\n",
        "import matplotlib.pyplot as plt\n",
        "\n",
        "img = pimg.open('./data/8.png').convert('L') # convert('L') : 흑백으로 변환\n",
        "plt.imshow(img, cmap=\"gray\")\n",
        "plt.show()"
      ],
      "metadata": {
        "colab": {
          "base_uri": "https://localhost:8080/",
          "height": 430
        },
        "id": "p41IZfKzLYk1",
        "outputId": "9366a0b3-0f06-4056-fbcc-dd5c03aab4ed"
      },
      "execution_count": 81,
      "outputs": [
        {
          "output_type": "display_data",
          "data": {
            "text/plain": [
              "<Figure size 640x480 with 1 Axes>"
            ],
            "image/png": "[encoded data removed]"
          },
          "metadata": {}
        }
      ]
    },
    {
      "cell_type": "markdown",
      "source": [
        "- 데이터 전처리\n",
        "  - 데이터의 형태 : (1, 784)\n",
        "  - 데이터의 값 : 0.0 - 1.0"
      ],
      "metadata": {
        "id": "h6E4V6hRPBiX"
      }
    },
    {
      "cell_type": "code",
      "source": [
        "img = np.array(img)\n",
        "img.shape"
      ],
      "metadata": {
        "colab": {
          "base_uri": "https://localhost:8080/"
        },
        "id": "FEtOUPJvLY5j",
        "outputId": "43d0a851-7ddf-4875-9ff7-576652c3d62b"
      },
      "execution_count": 82,
      "outputs": [
        {
          "output_type": "execute_result",
          "data": {
            "text/plain": [
              "(28, 28)"
            ]
          },
          "metadata": {},
          "execution_count": 82
        }
      ]
    },
    {
      "cell_type": "code",
      "source": [
        "img"
      ],
      "metadata": {
        "colab": {
          "base_uri": "https://localhost:8080/",
          "height": 66
        },
        "id": "rRQfwFlVLY3f",
        "outputId": "a59e4449-c1ee-4c57-b658-10bf1bbcd88d"
      },
      "execution_count": 85,
      "outputs": [
        {
          "output_type": "execute_result",
          "data": {
            "text/plain": [
              "array([[  0,   0,   0,   0,   0,   0,   0,   0,   0,   0,   0,   0,   0,\n",
              "          0,   0,   0,   0,   0,   0,   0,   0,   0,   0,   0,   0,   0,\n",
              "          0,   0],\n",
              "       [  0,   0,   0,   0,   0,   0,   0,   0,   0,   0,   0,   0,   0,\n",
              "          0,   0,   0,   0,   0,   0,   0,   0,   0,   0,   0,   0,   0,\n",
              "          0,   0],\n",
              "       [  0,   0,   0,   0,   0,   0,   0,   0,   0,   0,   0,   0,   0,\n",
              "          0,   0,   0,   0,   0,   0,   0,   0,   0,   0,   0,   0,   0,\n",
              "          0,   0],\n",
              "       [  0,   0,   0,   0,   0,   0,   0,   0,   0,   0,   0,  96, 223,\n",
              "        255, 255, 255, 255, 255, 223,  96,   0,   0,   0,   0,   0,   0,\n",
              "          0,   0],\n",
              "       [  0,   0,   0,   0,   0,   0,   0,   0,   0,  72, 223, 255, 255,\n",
              "        255, 255, 255, 255, 255, 255, 247,  96,   0,   0,   0,   0,   0,\n",
              "          0,   0],\n",
              "       [  0,   0,   0,   0,   0,   0,   0,   0,  96, 239, 255, 255, 255,\n",
              "        255, 255, 255, 255, 255, 255, 255, 247,   0,   0,   0,   0,   0,\n",
              "          0,   0],\n",
              "       [  0,   0,   0,   0,   0,   0,   0, 104, 255, 255, 255, 255, 167,\n",
              "          8,   0,   0,   0, 120, 255, 255, 255,   0,   0,   0,   0,   0,\n",
              "          0,   0],\n",
              "       [  0,   0,   0,   0,   0,   0,   0, 231, 255, 255, 255, 151,   0,\n",
              "          0,   0,   0,   0,  72, 255, 255, 255,   0,   0,   0,   0,   0,\n",
              "          0,   0],\n",
              "       [  0,   0,   0,   0,   0,   0,   0, 255, 255, 255,   8,   0,   0,\n",
              "          0,   0,   0,   0, 231, 255, 255, 255,   0,   0,   0,   0,   0,\n",
              "          0,   0],\n",
              "       [  0,   0,   0,   0,   0,   0,   0, 247, 255, 255, 120,   0,   0,\n",
              "          0,   0,   0,  72, 255, 255, 255, 151,   0,   0,   0,   0,   0,\n",
              "          0,   0],\n",
              "       [  0,   0,   0,   0,   0,   0,   0, 143, 255, 255, 247, 104,   0,\n",
              "          0,   0,  72, 239, 255, 255, 255,   0,   0,   0,   0,   0,   0,\n",
              "          0,   0],\n",
              "       [  0,   0,   0,   0,   0,   0,   0,   8, 247, 255, 255, 255, 120,\n",
              "          0,   0, 231, 255, 255, 255, 151,   0,   0,   0,   0,   0,   0,\n",
              "          0,   0],\n",
              "       [  0,   0,   0,   0,   0,   0,   0,   0, 120, 255, 255, 255, 255,\n",
              "        223, 135, 255, 255, 255, 151,   0,   0,   0,   0,   0,   0,   0,\n",
              "          0,   0],\n",
              "       [  0,   0,   0,   0,   0,   0,   0,   0,   0,   8, 247, 255, 255,\n",
              "        255, 255, 255, 255, 255,   0,   0,   0,   0,   0,   0,   0,   0,\n",
              "          0,   0],\n",
              "       [  0,   0,   0,   0,   0,   0,   0,   0,   0,   0, 159, 255, 255,\n",
              "        255, 255, 255, 255, 191,   0,   0,   0,   0,   0,   0,   0,   0,\n",
              "          0,   0],\n",
              "       [  0,   0,   0,   0,   0,   0,   0,   0,  72, 223, 255, 255, 255,\n",
              "        255, 255, 255, 255, 255, 223,  96,   0,   0,   0,   0,   0,   0,\n",
              "          0,   0],\n",
              "       [  0,   0,   0,   0,   0,   0,   0,   0, 231, 255, 255, 255, 255,\n",
              "        159, 159, 255, 255, 255, 255, 247, 104,   0,   0,   0,   0,   0,\n",
              "          0,   0],\n",
              "       [  0,   0,   0,   0,   0,   0,   0, 128, 255, 255, 255, 255, 151,\n",
              "          0,   0, 120, 255, 255, 255, 255, 255, 120,   0,   0,   0,   0,\n",
              "          0,   0],\n",
              "       [  0,   0,   0,   0,   0,   0, 104, 255, 255, 255, 167,   0,   0,\n",
              "          0,   0,   0,   0, 120, 255, 255, 255, 247,  96,   0,   0,   0,\n",
              "          0,   0],\n",
              "       [  0,   0,   0,   0,   0,  72, 239, 255, 255, 183,   8,   0,   0,\n",
              "          0,   0,   0,   0,   0,   8, 247, 255, 255, 247,   0,   0,   0,\n",
              "          0,   0],\n",
              "       [  0,   0,   0,   0,   0, 231, 255, 255, 255,   8,   0,   0,   0,\n",
              "          0,   0,   0,   0,   0,   0, 120, 255, 255, 255,   0,   0,   0,\n",
              "          0,   0],\n",
              "       [  0,   0,   0,   0,   0, 255, 255, 255, 151,   0,   0,   0,   0,\n",
              "          0,   0,   0,   0,   0,   0,   0, 255, 255, 255,   0,   0,   0,\n",
              "          0,   0],\n",
              "       [  0,   0,   0,   0,   0, 255, 255, 255,   0,   0,   0,   0,   0,\n",
              "          0,   0,   0,   0,   0,   0,  72, 255, 255, 255,   0,   0,   0,\n",
              "          0,   0],\n",
              "       [  0,   0,   0,   0,   0, 255, 255, 255, 255, 255, 255, 255, 255,\n",
              "        255, 255, 255, 255, 255, 255, 255, 255, 255, 255,   0,   0,   0,\n",
              "          0,   0],\n",
              "       [  0,   0,   0,   0,   0, 247, 255, 255, 255, 255, 255, 255, 255,\n",
              "        255, 255, 255, 255, 255, 255, 255, 255, 255, 151,   0,   0,   0,\n",
              "          0,   0],\n",
              "       [  0,   0,   0,   0,   0, 120, 255, 255, 255, 255, 255, 255, 255,\n",
              "        255, 255, 255, 255, 255, 255, 255, 255, 151,   0,   0,   0,   0,\n",
              "          0,   0],\n",
              "       [  0,   0,   0,   0,   0,   0,   0,   0,   0,   0,   0,   0,   0,\n",
              "          0,   0,   0,   0,   0,   0,   0,   0,   0,   0,   0,   0,   0,\n",
              "          0,   0],\n",
              "       [  0,   0,   0,   0,   0,   0,   0,   0,   0,   0,   0,   0,   0,\n",
              "          0,   0,   0,   0,   0,   0,   0,   0,   0,   0,   0,   0,   0,\n",
              "          0,   0]], dtype=uint8)"
            ],
            "text/html": [
              "<style>\n",
              "      .ndarray_repr .ndarray_raw_data {\n",
              "        display: none;\n",
              "      }\n",
              "      .ndarray_repr.show_array .ndarray_raw_data {\n",
              "        display: block;\n",
              "      }\n",
              "      .ndarray_repr.show_array .ndarray_image_preview {\n",
              "        display: none;\n",
              "      }\n",
              "      </style>\n",
              "      <div id=\"id-bdd02aa2-425f-4ee5-8d3f-8bc970d6d8ae\" class=\"ndarray_repr\"><pre>ndarray (28, 28) <button style=\"padding: 0 2px;\">show data</button></pre><img src=\"data:image/png;base64,iVBORw0KGgoAAAANSUhEUgAAABwAAAAcCAAAAABXZoBIAAAAuElEQVR4nLWRqxXDMAxFdXoKPFrGCMwIhmWFhSkLTDco7SaBgYEOuwWObcUyKegj/lxLlp5E/q5+AWDpLeoiAoKh/UZWqNgAMDsR8UAFV2CM6S0EXHlWwQA+B44VfEAYRKTbbKC4AHj9t5YHWO5NdsRySnrJu/0V108jsLjX8HYFmCY4yta6EUvxQGo5aQDmUvZpLt0Gb6fK1nNZi7Vi5lK1bqD+JB2vmZvmkkN7ff1Ue89ZLe9/0heziLneNEK+zwAAAABJRU5ErkJggg==\" class=\"ndarray_image_preview\" /><pre class=\"ndarray_raw_data\">array([[  0,   0,   0,   0,   0,   0,   0,   0,   0,   0,   0,   0,   0,\n",
              "          0,   0,   0,   0,   0,   0,   0,   0,   0,   0,   0,   0,   0,\n",
              "          0,   0],\n",
              "       [  0,   0,   0,   0,   0,   0,   0,   0,   0,   0,   0,   0,   0,\n",
              "          0,   0,   0,   0,   0,   0,   0,   0,   0,   0,   0,   0,   0,\n",
              "          0,   0],\n",
              "       [  0,   0,   0,   0,   0,   0,   0,   0,   0,   0,   0,   0,   0,\n",
              "          0,   0,   0,   0,   0,   0,   0,   0,   0,   0,   0,   0,   0,\n",
              "          0,   0],\n",
              "       [  0,   0,   0,   0,   0,   0,   0,   0,   0,   0,   0,  96, 223,\n",
              "        255, 255, 255, 255, 255, 223,  96,   0,   0,   0,   0,   0,   0,\n",
              "          0,   0],\n",
              "       [  0,   0,   0,   0,   0,   0,   0,   0,   0,  72, 223, 255, 255,\n",
              "        255, 255, 255, 255, 255, 255, 247,  96,   0,   0,   0,   0,   0,\n",
              "          0,   0],\n",
              "       [  0,   0,   0,   0,   0,   0,   0,   0,  96, 239, 255, 255, 255,\n",
              "        255, 255, 255, 255, 255, 255, 255, 247,   0,   0,   0,   0,   0,\n",
              "          0,   0],\n",
              "       [  0,   0,   0,   0,   0,   0,   0, 104, 255, 255, 255, 255, 167,\n",
              "          8,   0,   0,   0, 120, 255, 255, 255,   0,   0,   0,   0,   0,\n",
              "          0,   0],\n",
              "       [  0,   0,   0,   0,   0,   0,   0, 231, 255, 255, 255, 151,   0,\n",
              "          0,   0,   0,   0,  72, 255, 255, 255,   0,   0,   0,   0,   0,\n",
              "          0,   0],\n",
              "       [  0,   0,   0,   0,   0,   0,   0, 255, 255, 255,   8,   0,   0,\n",
              "          0,   0,   0,   0, 231, 255, 255, 255,   0,   0,   0,   0,   0,\n",
              "          0,   0],\n",
              "       [  0,   0,   0,   0,   0,   0,   0, 247, 255, 255, 120,   0,   0,\n",
              "          0,   0,   0,  72, 255, 255, 255, 151,   0,   0,   0,   0,   0,\n",
              "          0,   0],\n",
              "       [  0,   0,   0,   0,   0,   0,   0, 143, 255, 255, 247, 104,   0,\n",
              "          0,   0,  72, 239, 255, 255, 255,   0,   0,   0,   0,   0,   0,\n",
              "          0,   0],\n",
              "       [  0,   0,   0,   0,   0,   0,   0,   8, 247, 255, 255, 255, 120,\n",
              "          0,   0, 231, 255, 255, 255, 151,   0,   0,   0,   0,   0,   0,\n",
              "          0,   0],\n",
              "       [  0,   0,   0,   0,   0,   0,   0,   0, 120, 255, 255, 255, 255,\n",
              "        223, 135, 255, 255, 255, 151,   0,   0,   0,   0,   0,   0,   0,\n",
              "          0,   0],\n",
              "       [  0,   0,   0,   0,   0,   0,   0,   0,   0,   8, 247, 255, 255,\n",
              "        255, 255, 255, 255, 255,   0,   0,   0,   0,   0,   0,   0,   0,\n",
              "          0,   0],\n",
              "       [  0,   0,   0,   0,   0,   0,   0,   0,   0,   0, 159, 255, 255,\n",
              "        255, 255, 255, 255, 191,   0,   0,   0,   0,   0,   0,   0,   0,\n",
              "          0,   0],\n",
              "       [  0,   0,   0,   0,   0,   0,   0,   0,  72, 223, 255, 255, 255,\n",
              "        255, 255, 255, 255, 255, 223,  96,   0,   0,   0,   0,   0,   0,\n",
              "          0,   0],\n",
              "       [  0,   0,   0,   0,   0,   0,   0,   0, 231, 255, 255, 255, 255,\n",
              "        159, 159, 255, 255, 255, 255, 247, 104,   0,   0,   0,   0,   0,\n",
              "          0,   0],\n",
              "       [  0,   0,   0,   0,   0,   0,   0, 128, 255, 255, 255, 255, 151,\n",
              "          0,   0, 120, 255, 255, 255, 255, 255, 120,   0,   0,   0,   0,\n",
              "          0,   0],\n",
              "       [  0,   0,   0,   0,   0,   0, 104, 255, 255, 255, 167,   0,   0,\n",
              "          0,   0,   0,   0, 120, 255, 255, 255, 247,  96,   0,   0,   0,\n",
              "          0,   0],\n",
              "       [  0,   0,   0,   0,   0,  72, 239, 255, 255, 183,   8,   0,   0,\n",
              "          0,   0,   0,   0,   0,   8, 247, 255, 255, 247,   0,   0,   0,\n",
              "          0,   0],\n",
              "       [  0,   0,   0,   0,   0, 231, 255, 255, 255,   8,   0,   0,   0,\n",
              "          0,   0,   0,   0,   0,   0, 120, 255, 255, 255,   0,   0,   0,\n",
              "          0,   0],\n",
              "       [  0,   0,   0,   0,   0, 255, 255, 255, 151,   0,   0,   0,   0,\n",
              "          0,   0,   0,   0,   0,   0,   0, 255, 255, 255,   0,   0,   0,\n",
              "          0,   0],\n",
              "       [  0,   0,   0,   0,   0, 255, 255, 255,   0,   0,   0,   0,   0,\n",
              "          0,   0,   0,   0,   0,   0,  72, 255, 255, 255,   0,   0,   0,\n",
              "          0,   0],\n",
              "       [  0,   0,   0,   0,   0, 255, 255, 255, 255, 255, 255, 255, 255,\n",
              "        255, 255, 255, 255, 255, 255, 255, 255, 255, 255,   0,   0,   0,\n",
              "          0,   0],\n",
              "       [  0,   0,   0,   0,   0, 247, 255, 255, 255, 255, 255, 255, 255,\n",
              "        255, 255, 255, 255, 255, 255, 255, 255, 255, 151,   0,   0,   0,\n",
              "          0,   0],\n",
              "       [  0,   0,   0,   0,   0, 120, 255, 255, 255, 255, 255, 255, 255,\n",
              "        255, 255, 255, 255, 255, 255, 255, 255, 151,   0,   0,   0,   0,\n",
              "          0,   0],\n",
              "       [  0,   0,   0,   0,   0,   0,   0,   0,   0,   0,   0,   0,   0,\n",
              "          0,   0,   0,   0,   0,   0,   0,   0,   0,   0,   0,   0,   0,\n",
              "          0,   0],\n",
              "       [  0,   0,   0,   0,   0,   0,   0,   0,   0,   0,   0,   0,   0,\n",
              "          0,   0,   0,   0,   0,   0,   0,   0,   0,   0,   0,   0,   0,\n",
              "          0,   0]], dtype=uint8)</pre></div><script>\n",
              "      (() => {\n",
              "      const titles = ['show data', 'hide data'];\n",
              "      let index = 0\n",
              "      document.querySelector('#id-bdd02aa2-425f-4ee5-8d3f-8bc970d6d8ae button').onclick = (e) => {\n",
              "        document.querySelector('#id-bdd02aa2-425f-4ee5-8d3f-8bc970d6d8ae').classList.toggle('show_array');\n",
              "        index = (++index) % 2;\n",
              "        document.querySelector('#id-bdd02aa2-425f-4ee5-8d3f-8bc970d6d8ae button').textContent = titles[index];\n",
              "        e.preventDefault();\n",
              "        e.stopPropagation();\n",
              "      }\n",
              "      })();\n",
              "    </script>"
            ]
          },
          "metadata": {},
          "execution_count": 85
        }
      ]
    },
    {
      "cell_type": "code",
      "source": [
        "testimg = img.reshape(-1, 28*28)  # reshape할 때 -1 -> 차원이 하나 추가\n",
        "testimg.shape"
      ],
      "metadata": {
        "colab": {
          "base_uri": "https://localhost:8080/"
        },
        "id": "u05PHx1CLY1D",
        "outputId": "50a8c902-e61d-4621-e787-ea9d95d6b094"
      },
      "execution_count": 84,
      "outputs": [
        {
          "output_type": "execute_result",
          "data": {
            "text/plain": [
              "(1, 784)"
            ]
          },
          "metadata": {},
          "execution_count": 84
        }
      ]
    },
    {
      "cell_type": "code",
      "source": [
        "testimg = testimg/255.0\n",
        "testimg\n",
        "# -> 0과 1 사이의 값으로 변경되었다!"
      ],
      "metadata": {
        "colab": {
          "base_uri": "https://localhost:8080/"
        },
        "id": "WDXRryM5LYzT",
        "outputId": "67d507e2-df8e-47d6-81dd-d25132d90d67"
      },
      "execution_count": 86,
      "outputs": [
        {
          "output_type": "execute_result",
          "data": {
            "text/plain": [
              "array([[0.        , 0.        , 0.        , 0.        , 0.        ,\n",
              "        0.        , 0.        , 0.        , 0.        , 0.        ,\n",
              "        0.        , 0.        , 0.        , 0.        , 0.        ,\n",
              "        0.        , 0.        , 0.        , 0.        , 0.        ,\n",
              "        0.        , 0.        , 0.        , 0.        , 0.        ,\n",
              "        0.        , 0.        , 0.        , 0.        , 0.        ,\n",
              "        0.        , 0.        , 0.        , 0.        , 0.        ,\n",
              "        0.        , 0.        , 0.        , 0.        , 0.        ,\n",
              "        0.        , 0.        , 0.        , 0.        , 0.        ,\n",
              "        0.        , 0.        , 0.        , 0.        , 0.        ,\n",
              "        0.        , 0.        , 0.        , 0.        , 0.        ,\n",
              "        0.        , 0.        , 0.        , 0.        , 0.        ,\n",
              "        0.        , 0.        , 0.        , 0.        , 0.        ,\n",
              "        0.        , 0.        , 0.        , 0.        , 0.        ,\n",
              "        0.        , 0.        , 0.        , 0.        , 0.        ,\n",
              "        0.        , 0.        , 0.        , 0.        , 0.        ,\n",
              "        0.        , 0.        , 0.        , 0.        , 0.        ,\n",
              "        0.        , 0.        , 0.        , 0.        , 0.        ,\n",
              "        0.        , 0.        , 0.        , 0.        , 0.        ,\n",
              "        0.37647059, 0.8745098 , 1.        , 1.        , 1.        ,\n",
              "        1.        , 1.        , 0.8745098 , 0.37647059, 0.        ,\n",
              "        0.        , 0.        , 0.        , 0.        , 0.        ,\n",
              "        0.        , 0.        , 0.        , 0.        , 0.        ,\n",
              "        0.        , 0.        , 0.        , 0.        , 0.        ,\n",
              "        0.        , 0.28235294, 0.8745098 , 1.        , 1.        ,\n",
              "        1.        , 1.        , 1.        , 1.        , 1.        ,\n",
              "        1.        , 0.96862745, 0.37647059, 0.        , 0.        ,\n",
              "        0.        , 0.        , 0.        , 0.        , 0.        ,\n",
              "        0.        , 0.        , 0.        , 0.        , 0.        ,\n",
              "        0.        , 0.        , 0.        , 0.37647059, 0.9372549 ,\n",
              "        1.        , 1.        , 1.        , 1.        , 1.        ,\n",
              "        1.        , 1.        , 1.        , 1.        , 1.        ,\n",
              "        0.96862745, 0.        , 0.        , 0.        , 0.        ,\n",
              "        0.        , 0.        , 0.        , 0.        , 0.        ,\n",
              "        0.        , 0.        , 0.        , 0.        , 0.        ,\n",
              "        0.40784314, 1.        , 1.        , 1.        , 1.        ,\n",
              "        0.65490196, 0.03137255, 0.        , 0.        , 0.        ,\n",
              "        0.47058824, 1.        , 1.        , 1.        , 0.        ,\n",
              "        0.        , 0.        , 0.        , 0.        , 0.        ,\n",
              "        0.        , 0.        , 0.        , 0.        , 0.        ,\n",
              "        0.        , 0.        , 0.        , 0.90588235, 1.        ,\n",
              "        1.        , 1.        , 0.59215686, 0.        , 0.        ,\n",
              "        0.        , 0.        , 0.        , 0.28235294, 1.        ,\n",
              "        1.        , 1.        , 0.        , 0.        , 0.        ,\n",
              "        0.        , 0.        , 0.        , 0.        , 0.        ,\n",
              "        0.        , 0.        , 0.        , 0.        , 0.        ,\n",
              "        0.        , 1.        , 1.        , 1.        , 0.03137255,\n",
              "        0.        , 0.        , 0.        , 0.        , 0.        ,\n",
              "        0.        , 0.90588235, 1.        , 1.        , 1.        ,\n",
              "        0.        , 0.        , 0.        , 0.        , 0.        ,\n",
              "        0.        , 0.        , 0.        , 0.        , 0.        ,\n",
              "        0.        , 0.        , 0.        , 0.        , 0.96862745,\n",
              "        1.        , 1.        , 0.47058824, 0.        , 0.        ,\n",
              "        0.        , 0.        , 0.        , 0.28235294, 1.        ,\n",
              "        1.        , 1.        , 0.59215686, 0.        , 0.        ,\n",
              "        0.        , 0.        , 0.        , 0.        , 0.        ,\n",
              "        0.        , 0.        , 0.        , 0.        , 0.        ,\n",
              "        0.        , 0.        , 0.56078431, 1.        , 1.        ,\n",
              "        0.96862745, 0.40784314, 0.        , 0.        , 0.        ,\n",
              "        0.28235294, 0.9372549 , 1.        , 1.        , 1.        ,\n",
              "        0.        , 0.        , 0.        , 0.        , 0.        ,\n",
              "        0.        , 0.        , 0.        , 0.        , 0.        ,\n",
              "        0.        , 0.        , 0.        , 0.        , 0.        ,\n",
              "        0.03137255, 0.96862745, 1.        , 1.        , 1.        ,\n",
              "        0.47058824, 0.        , 0.        , 0.90588235, 1.        ,\n",
              "        1.        , 1.        , 0.59215686, 0.        , 0.        ,\n",
              "        0.        , 0.        , 0.        , 0.        , 0.        ,\n",
              "        0.        , 0.        , 0.        , 0.        , 0.        ,\n",
              "        0.        , 0.        , 0.        , 0.        , 0.47058824,\n",
              "        1.        , 1.        , 1.        , 1.        , 0.8745098 ,\n",
              "        0.52941176, 1.        , 1.        , 1.        , 0.59215686,\n",
              "        0.        , 0.        , 0.        , 0.        , 0.        ,\n",
              "        0.        , 0.        , 0.        , 0.        , 0.        ,\n",
              "        0.        , 0.        , 0.        , 0.        , 0.        ,\n",
              "        0.        , 0.        , 0.        , 0.03137255, 0.96862745,\n",
              "        1.        , 1.        , 1.        , 1.        , 1.        ,\n",
              "        1.        , 1.        , 0.        , 0.        , 0.        ,\n",
              "        0.        , 0.        , 0.        , 0.        , 0.        ,\n",
              "        0.        , 0.        , 0.        , 0.        , 0.        ,\n",
              "        0.        , 0.        , 0.        , 0.        , 0.        ,\n",
              "        0.        , 0.        , 0.62352941, 1.        , 1.        ,\n",
              "        1.        , 1.        , 1.        , 1.        , 0.74901961,\n",
              "        0.        , 0.        , 0.        , 0.        , 0.        ,\n",
              "        0.        , 0.        , 0.        , 0.        , 0.        ,\n",
              "        0.        , 0.        , 0.        , 0.        , 0.        ,\n",
              "        0.        , 0.        , 0.        , 0.28235294, 0.8745098 ,\n",
              "        1.        , 1.        , 1.        , 1.        , 1.        ,\n",
              "        1.        , 1.        , 1.        , 0.8745098 , 0.37647059,\n",
              "        0.        , 0.        , 0.        , 0.        , 0.        ,\n",
              "        0.        , 0.        , 0.        , 0.        , 0.        ,\n",
              "        0.        , 0.        , 0.        , 0.        , 0.        ,\n",
              "        0.        , 0.90588235, 1.        , 1.        , 1.        ,\n",
              "        1.        , 0.62352941, 0.62352941, 1.        , 1.        ,\n",
              "        1.        , 1.        , 0.96862745, 0.40784314, 0.        ,\n",
              "        0.        , 0.        , 0.        , 0.        , 0.        ,\n",
              "        0.        , 0.        , 0.        , 0.        , 0.        ,\n",
              "        0.        , 0.        , 0.        , 0.50196078, 1.        ,\n",
              "        1.        , 1.        , 1.        , 0.59215686, 0.        ,\n",
              "        0.        , 0.47058824, 1.        , 1.        , 1.        ,\n",
              "        1.        , 1.        , 0.47058824, 0.        , 0.        ,\n",
              "        0.        , 0.        , 0.        , 0.        , 0.        ,\n",
              "        0.        , 0.        , 0.        , 0.        , 0.        ,\n",
              "        0.40784314, 1.        , 1.        , 1.        , 0.65490196,\n",
              "        0.        , 0.        , 0.        , 0.        , 0.        ,\n",
              "        0.        , 0.47058824, 1.        , 1.        , 1.        ,\n",
              "        0.96862745, 0.37647059, 0.        , 0.        , 0.        ,\n",
              "        0.        , 0.        , 0.        , 0.        , 0.        ,\n",
              "        0.        , 0.        , 0.28235294, 0.9372549 , 1.        ,\n",
              "        1.        , 0.71764706, 0.03137255, 0.        , 0.        ,\n",
              "        0.        , 0.        , 0.        , 0.        , 0.        ,\n",
              "        0.03137255, 0.96862745, 1.        , 1.        , 0.96862745,\n",
              "        0.        , 0.        , 0.        , 0.        , 0.        ,\n",
              "        0.        , 0.        , 0.        , 0.        , 0.        ,\n",
              "        0.90588235, 1.        , 1.        , 1.        , 0.03137255,\n",
              "        0.        , 0.        , 0.        , 0.        , 0.        ,\n",
              "        0.        , 0.        , 0.        , 0.        , 0.47058824,\n",
              "        1.        , 1.        , 1.        , 0.        , 0.        ,\n",
              "        0.        , 0.        , 0.        , 0.        , 0.        ,\n",
              "        0.        , 0.        , 0.        , 1.        , 1.        ,\n",
              "        1.        , 0.59215686, 0.        , 0.        , 0.        ,\n",
              "        0.        , 0.        , 0.        , 0.        , 0.        ,\n",
              "        0.        , 0.        , 0.        , 1.        , 1.        ,\n",
              "        1.        , 0.        , 0.        , 0.        , 0.        ,\n",
              "        0.        , 0.        , 0.        , 0.        , 0.        ,\n",
              "        0.        , 1.        , 1.        , 1.        , 0.        ,\n",
              "        0.        , 0.        , 0.        , 0.        , 0.        ,\n",
              "        0.        , 0.        , 0.        , 0.        , 0.        ,\n",
              "        0.28235294, 1.        , 1.        , 1.        , 0.        ,\n",
              "        0.        , 0.        , 0.        , 0.        , 0.        ,\n",
              "        0.        , 0.        , 0.        , 0.        , 1.        ,\n",
              "        1.        , 1.        , 1.        , 1.        , 1.        ,\n",
              "        1.        , 1.        , 1.        , 1.        , 1.        ,\n",
              "        1.        , 1.        , 1.        , 1.        , 1.        ,\n",
              "        1.        , 1.        , 0.        , 0.        , 0.        ,\n",
              "        0.        , 0.        , 0.        , 0.        , 0.        ,\n",
              "        0.        , 0.        , 0.96862745, 1.        , 1.        ,\n",
              "        1.        , 1.        , 1.        , 1.        , 1.        ,\n",
              "        1.        , 1.        , 1.        , 1.        , 1.        ,\n",
              "        1.        , 1.        , 1.        , 1.        , 0.59215686,\n",
              "        0.        , 0.        , 0.        , 0.        , 0.        ,\n",
              "        0.        , 0.        , 0.        , 0.        , 0.        ,\n",
              "        0.47058824, 1.        , 1.        , 1.        , 1.        ,\n",
              "        1.        , 1.        , 1.        , 1.        , 1.        ,\n",
              "        1.        , 1.        , 1.        , 1.        , 1.        ,\n",
              "        1.        , 0.59215686, 0.        , 0.        , 0.        ,\n",
              "        0.        , 0.        , 0.        , 0.        , 0.        ,\n",
              "        0.        , 0.        , 0.        , 0.        , 0.        ,\n",
              "        0.        , 0.        , 0.        , 0.        , 0.        ,\n",
              "        0.        , 0.        , 0.        , 0.        , 0.        ,\n",
              "        0.        , 0.        , 0.        , 0.        , 0.        ,\n",
              "        0.        , 0.        , 0.        , 0.        , 0.        ,\n",
              "        0.        , 0.        , 0.        , 0.        , 0.        ,\n",
              "        0.        , 0.        , 0.        , 0.        , 0.        ,\n",
              "        0.        , 0.        , 0.        , 0.        , 0.        ,\n",
              "        0.        , 0.        , 0.        , 0.        , 0.        ,\n",
              "        0.        , 0.        , 0.        , 0.        , 0.        ,\n",
              "        0.        , 0.        , 0.        , 0.        ]])"
            ]
          },
          "metadata": {},
          "execution_count": 86
        }
      ]
    },
    {
      "cell_type": "code",
      "source": [
        "pred = model2.predict(testimg)\n",
        "print(pred)\n",
        "print(pred.argmax())"
      ],
      "metadata": {
        "colab": {
          "base_uri": "https://localhost:8080/"
        },
        "id": "49JgMuzULYw5",
        "outputId": "17e7e79e-a464-438b-9599-407a1ea80689"
      },
      "execution_count": 87,
      "outputs": [
        {
          "output_type": "stream",
          "name": "stdout",
          "text": [
            "1/1 [==============================] - 0s 42ms/step\n",
            "[[3.5320172e-21 2.2439536e-16 2.1643447e-09 7.4426949e-01 2.6831348e-21\n",
            "  4.3070485e-09 3.5898786e-16 1.2256530e-21 2.5573045e-01 3.2253342e-15]]\n",
            "3\n"
          ]
        }
      ]
    },
    {
      "cell_type": "code",
      "source": [
        "img2 = pimg.open('./data/6.png').convert('L') # convert('L') : 흑백으로 변환\n",
        "img2 = np.array(img2)\n",
        "img2.shape\n",
        "\n",
        "testimg2 = img2.reshape(-1, 28*28)  # reshape할 때 -1 -> 차원이 하나 추가\n",
        "\n",
        "testimg2 = testimg2/255.0\n",
        "\n",
        "pred2 = model2.predict(testimg2)\n",
        "print(pred2)\n",
        "print(pred2.argmax())"
      ],
      "metadata": {
        "colab": {
          "base_uri": "https://localhost:8080/"
        },
        "id": "anihIjuhLYpe",
        "outputId": "fbf77154-c4d0-4ed8-e937-2e5b7332f908"
      },
      "execution_count": 103,
      "outputs": [
        {
          "output_type": "stream",
          "name": "stdout",
          "text": [
            "1/1 [==============================] - 0s 33ms/step\n",
            "[[1.7687051e-15 1.8289197e-15 9.9566454e-01 3.3759711e-14 3.0311348e-10\n",
            "  4.6208336e-07 4.3350100e-03 1.6395076e-23 1.5845434e-12 1.0347993e-13]]\n",
            "2\n"
          ]
        }
      ]
    },
    {
      "cell_type": "code",
      "source": [
        "img2"
      ],
      "metadata": {
        "colab": {
          "base_uri": "https://localhost:8080/",
          "height": 66
        },
        "id": "jIbq9Iw2Ut_n",
        "outputId": "73e5e342-68d7-4e30-d941-7b8293994fa6"
      },
      "execution_count": 99,
      "outputs": [
        {
          "output_type": "execute_result",
          "data": {
            "text/plain": [
              "array([[  0,   0,   0,   0,   0,   0,   0,   0,   0,   0,   0,   0,   0,\n",
              "          0,   0,   0,   0,   0,   0,   0,   0,   0,   0,   0,   0,   0,\n",
              "          0,   0],\n",
              "       [  0,   0,   0,   0,   0,   0,   0,   0,   0,   0,   0,   0,   0,\n",
              "          0,   0,   0,   0,   0,   0,   0,   0,   0,   0,   0,   0,   0,\n",
              "          0,   0],\n",
              "       [  0,   0,   0,   0,   0,   0,   0,   0,   0,   0,   0,   0,   0,\n",
              "          0,   0,   0,   0,   0,   0,   0,   0,   0,   0,   0,   0,   0,\n",
              "          0,   0],\n",
              "       [  0,   0,   0,   0,   0,   0,   0,   0,   0,   0,   0,   0,   0,\n",
              "          0,   0,   0,   0,   0,   0,   0,   0,   0,   0,   0,   0,   0,\n",
              "          0,   0],\n",
              "       [  0,   0,   0,   0,   0,   0,   0,   0,   0,   0,   0,   0,   0,\n",
              "          0,   0,   0,  96, 223, 223,  96,   0,   0,   0,   0,   0,   0,\n",
              "          0,   0],\n",
              "       [  0,   0,   0,   0,   0,   0,   0,   0,   0,   0,   0,   0,   0,\n",
              "          0,   0, 128, 255, 255, 255, 247,   0,   0,   0,   0,   0,   0,\n",
              "          0,   0],\n",
              "       [  0,   0,   0,   0,   0,   0,   0,   0,   0,   0,   0,   0,   0,\n",
              "         96, 223, 255, 255, 255, 255, 151,   0,   0,   0,   0,   0,   0,\n",
              "          0,   0],\n",
              "       [  0,   0,   0,   0,   0,   0,   0,   0,   0,   0,   0,  96, 223,\n",
              "        255, 255, 255, 255, 183,   8,   0,   0,   0,   0,   0,   0,   0,\n",
              "          0,   0],\n",
              "       [  0,   0,   0,   0,   0,   0,   0,   0,   0,  72, 223, 255, 255,\n",
              "        255, 255, 255, 167,   8,   0,   0,   0,   0,   0,   0,   0,   0,\n",
              "          0,   0],\n",
              "       [  0,   0,   0,   0,   0,   0,   0,   0,   0, 231, 255, 255, 255,\n",
              "        255, 167,   8,   0,   0,   0,   0,   0,   0,   0,   0,   0,   0,\n",
              "          0,   0],\n",
              "       [  0,   0,   0,   0,   0,   0,   0,   0, 128, 255, 255, 255, 167,\n",
              "          8,   0,   0,   0,   0,   0,   0,   0,   0,   0,   0,   0,   0,\n",
              "          0,   0],\n",
              "       [  0,   0,   0,   0,   0,   0,   0, 104, 255, 255, 255, 167,   0,\n",
              "          0,   0,   0,   0,   0,   0,   0,   0,   0,   0,   0,   0,   0,\n",
              "          0,   0],\n",
              "       [  0,   0,   0,   0,   0,   0,  72, 239, 255, 255, 183,   8,   0,\n",
              "          0,   0,   0,   0,   0,   0,   0,   0,   0,   0,   0,   0,   0,\n",
              "          0,   0],\n",
              "       [  0,   0,   0,   0,   0,   0, 231, 255, 255, 255,   8,   0,   0,\n",
              "          0,   0,   0,   0,   0,   0,   0,   0,   0,   0,   0,   0,   0,\n",
              "          0,   0],\n",
              "       [  0,   0,   0,   0,   0,   0, 255, 255, 255, 151,   0,   0,   0,\n",
              "         96, 223, 255, 255, 255, 223,  96,   0,   0,   0,   0,   0,   0,\n",
              "          0,   0],\n",
              "       [  0,   0,   0,   0,   0,   0, 255, 255, 255,   0,  16, 128, 223,\n",
              "        255, 255, 255, 255, 255, 255, 247,   0,   0,   0,   0,   0,   0,\n",
              "          0,   0],\n",
              "       [  0,   0,   0,   0,   0,   0, 255, 255, 255, 255, 255, 255, 255,\n",
              "        255, 255, 255, 255, 255, 255, 255,   0,   0,   0,   0,   0,   0,\n",
              "          0,   0],\n",
              "       [  0,   0,   0,   0,   0,  72, 255, 255, 255, 255, 255, 255, 255,\n",
              "        255, 167,   8,   0, 255, 255, 255,   0,   0,   0,   0,   0,   0,\n",
              "          0,   0],\n",
              "       [  0,   0,   0,  72, 223, 255, 255, 255, 255, 255, 255, 223,  96,\n",
              "          0,   0,   0,  72, 255, 255, 255,   0,   0,   0,   0,   0,   0,\n",
              "          0,   0],\n",
              "       [  0,   0,  72, 239, 255, 255, 255, 255, 255, 255, 255, 255, 255,\n",
              "        255, 255, 255, 255, 255, 255, 255,   0,   0,   0,   0,   0,   0,\n",
              "          0,   0],\n",
              "       [  0,   0, 231, 255, 255, 255, 255, 255, 255, 255, 255, 255, 255,\n",
              "        255, 255, 255, 255, 255, 255, 151,   0,   0,   0,   0,   0,   0,\n",
              "          0,   0],\n",
              "       [  0,   0, 247, 255, 255, 151,   0,   0,   8, 159, 255, 255, 255,\n",
              "        255, 255, 255, 255, 255, 151,   0,   0,   0,   0,   0,   0,   0,\n",
              "          0,   0],\n",
              "       [  0,   0, 120, 255, 151,   0,   0,   0,   0,   0,   0,   0,   0,\n",
              "          0,   0,   0,   0,   0,   0,   0,   0,   0,   0,   0,   0,   0,\n",
              "          0,   0],\n",
              "       [  0,   0,   0,   0,   0,   0,   0,   0,   0,   0,   0,   0,   0,\n",
              "          0,   0,   0,   0,   0,   0,   0,   0,   0,   0,   0,   0,   0,\n",
              "          0,   0],\n",
              "       [  0,   0,   0,   0,   0,   0,   0,   0,   0,   0,   0,   0,   0,\n",
              "          0,   0,   0,   0,   0,   0,   0,   0,   0,   0,   0,   0,   0,\n",
              "          0,   0],\n",
              "       [  0,   0,   0,   0,   0,   0,   0,   0,   0,   0,   0,   0,   0,\n",
              "          0,   0,   0,   0,   0,   0,   0,   0,   0,   0,   0,   0,   0,\n",
              "          0,   0],\n",
              "       [  0,   0,   0,   0,   0,   0,   0,   0,   0,   0,   0,   0,   0,\n",
              "          0,   0,   0,   0,   0,   0,   0,   0,   0,   0,   0,   0,   0,\n",
              "          0,   0],\n",
              "       [  0,   0,   0,   0,   0,   0,   0,   0,   0,   0,   0,   0,   0,\n",
              "          0,   0,   0,   0,   0,   0,   0,   0,   0,   0,   0,   0,   0,\n",
              "          0,   0]], dtype=uint8)"
            ],
            "text/html": [
              "<style>\n",
              "      .ndarray_repr .ndarray_raw_data {\n",
              "        display: none;\n",
              "      }\n",
              "      .ndarray_repr.show_array .ndarray_raw_data {\n",
              "        display: block;\n",
              "      }\n",
              "      .ndarray_repr.show_array .ndarray_image_preview {\n",
              "        display: none;\n",
              "      }\n",
              "      </style>\n",
              "      <div id=\"id-5601075c-e7f5-4c62-85fd-a223f0007e89\" class=\"ndarray_repr\"><pre>ndarray (28, 28) <button style=\"padding: 0 2px;\">show data</button></pre><img src=\"data:image/png;base64,iVBORw0KGgoAAAANSUhEUgAAABwAAAAcCAAAAABXZoBIAAAAi0lEQVR4nM2RsRWDMAxEj1TQZSyP4ZIRKL0FZUqyQcZxmZKS8lPYvGAi9VypL1u6k3QDxZyjxxKwec8AZh99egOFDMBiMX19pOQjjcBiI4XV2eQY6DFVdzEDfwkBeqZi5pdQV2HTWot6lH2O8nvo1KpmU4YFOH8TVi662Gh0vsoGs9S/LKbJPuAdtQMFwoKtLY7gPwAAAABJRU5ErkJggg==\" class=\"ndarray_image_preview\" /><pre class=\"ndarray_raw_data\">array([[  0,   0,   0,   0,   0,   0,   0,   0,   0,   0,   0,   0,   0,\n",
              "          0,   0,   0,   0,   0,   0,   0,   0,   0,   0,   0,   0,   0,\n",
              "          0,   0],\n",
              "       [  0,   0,   0,   0,   0,   0,   0,   0,   0,   0,   0,   0,   0,\n",
              "          0,   0,   0,   0,   0,   0,   0,   0,   0,   0,   0,   0,   0,\n",
              "          0,   0],\n",
              "       [  0,   0,   0,   0,   0,   0,   0,   0,   0,   0,   0,   0,   0,\n",
              "          0,   0,   0,   0,   0,   0,   0,   0,   0,   0,   0,   0,   0,\n",
              "          0,   0],\n",
              "       [  0,   0,   0,   0,   0,   0,   0,   0,   0,   0,   0,   0,   0,\n",
              "          0,   0,   0,   0,   0,   0,   0,   0,   0,   0,   0,   0,   0,\n",
              "          0,   0],\n",
              "       [  0,   0,   0,   0,   0,   0,   0,   0,   0,   0,   0,   0,   0,\n",
              "          0,   0,   0,  96, 223, 223,  96,   0,   0,   0,   0,   0,   0,\n",
              "          0,   0],\n",
              "       [  0,   0,   0,   0,   0,   0,   0,   0,   0,   0,   0,   0,   0,\n",
              "          0,   0, 128, 255, 255, 255, 247,   0,   0,   0,   0,   0,   0,\n",
              "          0,   0],\n",
              "       [  0,   0,   0,   0,   0,   0,   0,   0,   0,   0,   0,   0,   0,\n",
              "         96, 223, 255, 255, 255, 255, 151,   0,   0,   0,   0,   0,   0,\n",
              "          0,   0],\n",
              "       [  0,   0,   0,   0,   0,   0,   0,   0,   0,   0,   0,  96, 223,\n",
              "        255, 255, 255, 255, 183,   8,   0,   0,   0,   0,   0,   0,   0,\n",
              "          0,   0],\n",
              "       [  0,   0,   0,   0,   0,   0,   0,   0,   0,  72, 223, 255, 255,\n",
              "        255, 255, 255, 167,   8,   0,   0,   0,   0,   0,   0,   0,   0,\n",
              "          0,   0],\n",
              "       [  0,   0,   0,   0,   0,   0,   0,   0,   0, 231, 255, 255, 255,\n",
              "        255, 167,   8,   0,   0,   0,   0,   0,   0,   0,   0,   0,   0,\n",
              "          0,   0],\n",
              "       [  0,   0,   0,   0,   0,   0,   0,   0, 128, 255, 255, 255, 167,\n",
              "          8,   0,   0,   0,   0,   0,   0,   0,   0,   0,   0,   0,   0,\n",
              "          0,   0],\n",
              "       [  0,   0,   0,   0,   0,   0,   0, 104, 255, 255, 255, 167,   0,\n",
              "          0,   0,   0,   0,   0,   0,   0,   0,   0,   0,   0,   0,   0,\n",
              "          0,   0],\n",
              "       [  0,   0,   0,   0,   0,   0,  72, 239, 255, 255, 183,   8,   0,\n",
              "          0,   0,   0,   0,   0,   0,   0,   0,   0,   0,   0,   0,   0,\n",
              "          0,   0],\n",
              "       [  0,   0,   0,   0,   0,   0, 231, 255, 255, 255,   8,   0,   0,\n",
              "          0,   0,   0,   0,   0,   0,   0,   0,   0,   0,   0,   0,   0,\n",
              "          0,   0],\n",
              "       [  0,   0,   0,   0,   0,   0, 255, 255, 255, 151,   0,   0,   0,\n",
              "         96, 223, 255, 255, 255, 223,  96,   0,   0,   0,   0,   0,   0,\n",
              "          0,   0],\n",
              "       [  0,   0,   0,   0,   0,   0, 255, 255, 255,   0,  16, 128, 223,\n",
              "        255, 255, 255, 255, 255, 255, 247,   0,   0,   0,   0,   0,   0,\n",
              "          0,   0],\n",
              "       [  0,   0,   0,   0,   0,   0, 255, 255, 255, 255, 255, 255, 255,\n",
              "        255, 255, 255, 255, 255, 255, 255,   0,   0,   0,   0,   0,   0,\n",
              "          0,   0],\n",
              "       [  0,   0,   0,   0,   0,  72, 255, 255, 255, 255, 255, 255, 255,\n",
              "        255, 167,   8,   0, 255, 255, 255,   0,   0,   0,   0,   0,   0,\n",
              "          0,   0],\n",
              "       [  0,   0,   0,  72, 223, 255, 255, 255, 255, 255, 255, 223,  96,\n",
              "          0,   0,   0,  72, 255, 255, 255,   0,   0,   0,   0,   0,   0,\n",
              "          0,   0],\n",
              "       [  0,   0,  72, 239, 255, 255, 255, 255, 255, 255, 255, 255, 255,\n",
              "        255, 255, 255, 255, 255, 255, 255,   0,   0,   0,   0,   0,   0,\n",
              "          0,   0],\n",
              "       [  0,   0, 231, 255, 255, 255, 255, 255, 255, 255, 255, 255, 255,\n",
              "        255, 255, 255, 255, 255, 255, 151,   0,   0,   0,   0,   0,   0,\n",
              "          0,   0],\n",
              "       [  0,   0, 247, 255, 255, 151,   0,   0,   8, 159, 255, 255, 255,\n",
              "        255, 255, 255, 255, 255, 151,   0,   0,   0,   0,   0,   0,   0,\n",
              "          0,   0],\n",
              "       [  0,   0, 120, 255, 151,   0,   0,   0,   0,   0,   0,   0,   0,\n",
              "          0,   0,   0,   0,   0,   0,   0,   0,   0,   0,   0,   0,   0,\n",
              "          0,   0],\n",
              "       [  0,   0,   0,   0,   0,   0,   0,   0,   0,   0,   0,   0,   0,\n",
              "          0,   0,   0,   0,   0,   0,   0,   0,   0,   0,   0,   0,   0,\n",
              "          0,   0],\n",
              "       [  0,   0,   0,   0,   0,   0,   0,   0,   0,   0,   0,   0,   0,\n",
              "          0,   0,   0,   0,   0,   0,   0,   0,   0,   0,   0,   0,   0,\n",
              "          0,   0],\n",
              "       [  0,   0,   0,   0,   0,   0,   0,   0,   0,   0,   0,   0,   0,\n",
              "          0,   0,   0,   0,   0,   0,   0,   0,   0,   0,   0,   0,   0,\n",
              "          0,   0],\n",
              "       [  0,   0,   0,   0,   0,   0,   0,   0,   0,   0,   0,   0,   0,\n",
              "          0,   0,   0,   0,   0,   0,   0,   0,   0,   0,   0,   0,   0,\n",
              "          0,   0],\n",
              "       [  0,   0,   0,   0,   0,   0,   0,   0,   0,   0,   0,   0,   0,\n",
              "          0,   0,   0,   0,   0,   0,   0,   0,   0,   0,   0,   0,   0,\n",
              "          0,   0]], dtype=uint8)</pre></div><script>\n",
              "      (() => {\n",
              "      const titles = ['show data', 'hide data'];\n",
              "      let index = 0\n",
              "      document.querySelector('#id-5601075c-e7f5-4c62-85fd-a223f0007e89 button').onclick = (e) => {\n",
              "        document.querySelector('#id-5601075c-e7f5-4c62-85fd-a223f0007e89').classList.toggle('show_array');\n",
              "        index = (++index) % 2;\n",
              "        document.querySelector('#id-5601075c-e7f5-4c62-85fd-a223f0007e89 button').textContent = titles[index];\n",
              "        e.preventDefault();\n",
              "        e.stopPropagation();\n",
              "      }\n",
              "      })();\n",
              "    </script>"
            ]
          },
          "metadata": {},
          "execution_count": 99
        }
      ]
    },
    {
      "cell_type": "code",
      "source": [
        "img3 = pimg.open('./data/0.png').convert('L') # convert('L') : 흑백으로 변환\n",
        "img3 = np.array(img3)\n",
        "img3.shape\n",
        "\n",
        "testimg3 = img3.reshape(-1, 28*28)  # reshape할 때 -1 -> 차원이 하나 추가\n",
        "\n",
        "testimg3 = testimg/255.0\n",
        "\n",
        "pred3 = model1.predict(testimg3)\n",
        "print(pred3)\n",
        "print(pred3.argmax())"
      ],
      "metadata": {
        "colab": {
          "base_uri": "https://localhost:8080/"
        },
        "id": "t27gCQJILYnB",
        "outputId": "a6cca202-12ad-400c-9a74-8418f5646de3"
      },
      "execution_count": 94,
      "outputs": [
        {
          "output_type": "stream",
          "name": "stdout",
          "text": [
            "1/1 [==============================] - 0s 156ms/step\n",
            "[[0.0305531  0.05095506 0.11071106 0.02462695 0.10176802 0.4020477\n",
            "  0.08817317 0.05765213 0.08416648 0.04934638]]\n",
            "5\n"
          ]
        }
      ]
    },
    {
      "cell_type": "markdown",
      "source": [
        "- 과적합 방지\n",
        "  - Dropout()\n",
        "    - 각 층의 퍼셉트론의 수를 설정한 비율만큼 제한 -> 각 반복마다 적용되는 퍼셉트론은 랜덤으로 선택\n",
        "    - 제한 비율은 0.5 이하로 설정 -> 0.5 이상이면 해당 층의 신경망이 가지는 특성이 효과적으로 적용되지 못하기 때문\n",
        "    - 퍼셉트론의 수가 감소 -> 파라미터의 수가 감소 -> 복잡도가 감소 -> 과적합 감소"
      ],
      "metadata": {
        "id": "5IDVpVnbVq82"
      }
    },
    {
      "cell_type": "code",
      "source": [
        "import pandas as pd\n",
        "\n",
        "# 특성 60개로 구성\n",
        "# 암석에서 음파를 쏴서 반사하는 파를 확인해서 금속을 탐지\n",
        "# header=None -> 원본 파일에 열 이름이 없는 데이터\n",
        "sonar = pd.read_csv('./data/sonar.csv', header=None)\n",
        "sonar.head()"
      ],
      "metadata": {
        "colab": {
          "base_uri": "https://localhost:8080/",
          "height": 255
        },
        "id": "zPqDfVveV1J_",
        "outputId": "d3f8efb4-be6f-4332-ad0b-30d4b302151a"
      },
      "execution_count": 104,
      "outputs": [
        {
          "output_type": "execute_result",
          "data": {
            "text/plain": [
              "       0       1       2       3       4       5       6       7       8   \\\n",
              "0  0.0200  0.0371  0.0428  0.0207  0.0954  0.0986  0.1539  0.1601  0.3109   \n",
              "1  0.0453  0.0523  0.0843  0.0689  0.1183  0.2583  0.2156  0.3481  0.3337   \n",
              "2  0.0262  0.0582  0.1099  0.1083  0.0974  0.2280  0.2431  0.3771  0.5598   \n",
              "3  0.0100  0.0171  0.0623  0.0205  0.0205  0.0368  0.1098  0.1276  0.0598   \n",
              "4  0.0762  0.0666  0.0481  0.0394  0.0590  0.0649  0.1209  0.2467  0.3564   \n",
              "\n",
              "       9   ...      51      52      53      54      55      56      57  \\\n",
              "0  0.2111  ...  0.0027  0.0065  0.0159  0.0072  0.0167  0.0180  0.0084   \n",
              "1  0.2872  ...  0.0084  0.0089  0.0048  0.0094  0.0191  0.0140  0.0049   \n",
              "2  0.6194  ...  0.0232  0.0166  0.0095  0.0180  0.0244  0.0316  0.0164   \n",
              "3  0.1264  ...  0.0121  0.0036  0.0150  0.0085  0.0073  0.0050  0.0044   \n",
              "4  0.4459  ...  0.0031  0.0054  0.0105  0.0110  0.0015  0.0072  0.0048   \n",
              "\n",
              "       58      59  60  \n",
              "0  0.0090  0.0032   R  \n",
              "1  0.0052  0.0044   R  \n",
              "2  0.0095  0.0078   R  \n",
              "3  0.0040  0.0117   R  \n",
              "4  0.0107  0.0094   R  \n",
              "\n",
              "[5 rows x 61 columns]"
            ],
            "text/html": [
              "\n",
              "  <div id=\"df-3180a565-ce57-4818-8acb-c1e7ceb3f2d0\" class=\"colab-df-container\">\n",
              "    <div>\n",
              "<style scoped>\n",
              "    .dataframe tbody tr th:only-of-type {\n",
              "        vertical-align: middle;\n",
              "    }\n",
              "\n",
              "    .dataframe tbody tr th {\n",
              "        vertical-align: top;\n",
              "    }\n",
              "\n",
              "    .dataframe thead th {\n",
              "        text-align: right;\n",
              "    }\n",
              "</style>\n",
              "<table border=\"1\" class=\"dataframe\">\n",
              "  <thead>\n",
              "    <tr style=\"text-align: right;\">\n",
              "      <th></th>\n",
              "      <th>0</th>\n",
              "      <th>1</th>\n",
              "      <th>2</th>\n",
              "      <th>3</th>\n",
              "      <th>4</th>\n",
              "      <th>5</th>\n",
              "      <th>6</th>\n",
              "      <th>7</th>\n",
              "      <th>8</th>\n",
              "      <th>9</th>\n",
              "      <th>...</th>\n",
              "      <th>51</th>\n",
              "      <th>52</th>\n",
              "      <th>53</th>\n",
              "      <th>54</th>\n",
              "      <th>55</th>\n",
              "      <th>56</th>\n",
              "      <th>57</th>\n",
              "      <th>58</th>\n",
              "      <th>59</th>\n",
              "      <th>60</th>\n",
              "    </tr>\n",
              "  </thead>\n",
              "  <tbody>\n",
              "    <tr>\n",
              "      <th>0</th>\n",
              "      <td>0.0200</td>\n",
              "      <td>0.0371</td>\n",
              "      <td>0.0428</td>\n",
              "      <td>0.0207</td>\n",
              "      <td>0.0954</td>\n",
              "      <td>0.0986</td>\n",
              "      <td>0.1539</td>\n",
              "      <td>0.1601</td>\n",
              "      <td>0.3109</td>\n",
              "      <td>0.2111</td>\n",
              "      <td>...</td>\n",
              "      <td>0.0027</td>\n",
              "      <td>0.0065</td>\n",
              "      <td>0.0159</td>\n",
              "      <td>0.0072</td>\n",
              "      <td>0.0167</td>\n",
              "      <td>0.0180</td>\n",
              "      <td>0.0084</td>\n",
              "      <td>0.0090</td>\n",
              "      <td>0.0032</td>\n",
              "      <td>R</td>\n",
              "    </tr>\n",
              "    <tr>\n",
              "      <th>1</th>\n",
              "      <td>0.0453</td>\n",
              "      <td>0.0523</td>\n",
              "      <td>0.0843</td>\n",
              "      <td>0.0689</td>\n",
              "      <td>0.1183</td>\n",
              "      <td>0.2583</td>\n",
              "      <td>0.2156</td>\n",
              "      <td>0.3481</td>\n",
              "      <td>0.3337</td>\n",
              "      <td>0.2872</td>\n",
              "      <td>...</td>\n",
              "      <td>0.0084</td>\n",
              "      <td>0.0089</td>\n",
              "      <td>0.0048</td>\n",
              "      <td>0.0094</td>\n",
              "      <td>0.0191</td>\n",
              "      <td>0.0140</td>\n",
              "      <td>0.0049</td>\n",
              "      <td>0.0052</td>\n",
              "      <td>0.0044</td>\n",
              "      <td>R</td>\n",
              "    </tr>\n",
              "    <tr>\n",
              "      <th>2</th>\n",
              "      <td>0.0262</td>\n",
              "      <td>0.0582</td>\n",
              "      <td>0.1099</td>\n",
              "      <td>0.1083</td>\n",
              "      <td>0.0974</td>\n",
              "      <td>0.2280</td>\n",
              "      <td>0.2431</td>\n",
              "      <td>0.3771</td>\n",
              "      <td>0.5598</td>\n",
              "      <td>0.6194</td>\n",
              "      <td>...</td>\n",
              "      <td>0.0232</td>\n",
              "      <td>0.0166</td>\n",
              "      <td>0.0095</td>\n",
              "      <td>0.0180</td>\n",
              "      <td>0.0244</td>\n",
              "      <td>0.0316</td>\n",
              "      <td>0.0164</td>\n",
              "      <td>0.0095</td>\n",
              "      <td>0.0078</td>\n",
              "      <td>R</td>\n",
              "    </tr>\n",
              "    <tr>\n",
              "      <th>3</th>\n",
              "      <td>0.0100</td>\n",
              "      <td>0.0171</td>\n",
              "      <td>0.0623</td>\n",
              "      <td>0.0205</td>\n",
              "      <td>0.0205</td>\n",
              "      <td>0.0368</td>\n",
              "      <td>0.1098</td>\n",
              "      <td>0.1276</td>\n",
              "      <td>0.0598</td>\n",
              "      <td>0.1264</td>\n",
              "      <td>...</td>\n",
              "      <td>0.0121</td>\n",
              "      <td>0.0036</td>\n",
              "      <td>0.0150</td>\n",
              "      <td>0.0085</td>\n",
              "      <td>0.0073</td>\n",
              "      <td>0.0050</td>\n",
              "      <td>0.0044</td>\n",
              "      <td>0.0040</td>\n",
              "      <td>0.0117</td>\n",
              "      <td>R</td>\n",
              "    </tr>\n",
              "    <tr>\n",
              "      <th>4</th>\n",
              "      <td>0.0762</td>\n",
              "      <td>0.0666</td>\n",
              "      <td>0.0481</td>\n",
              "      <td>0.0394</td>\n",
              "      <td>0.0590</td>\n",
              "      <td>0.0649</td>\n",
              "      <td>0.1209</td>\n",
              "      <td>0.2467</td>\n",
              "      <td>0.3564</td>\n",
              "      <td>0.4459</td>\n",
              "      <td>...</td>\n",
              "      <td>0.0031</td>\n",
              "      <td>0.0054</td>\n",
              "      <td>0.0105</td>\n",
              "      <td>0.0110</td>\n",
              "      <td>0.0015</td>\n",
              "      <td>0.0072</td>\n",
              "      <td>0.0048</td>\n",
              "      <td>0.0107</td>\n",
              "      <td>0.0094</td>\n",
              "      <td>R</td>\n",
              "    </tr>\n",
              "  </tbody>\n",
              "</table>\n",
              "<p>5 rows × 61 columns</p>\n",
              "</div>\n",
              "    <div class=\"colab-df-buttons\">\n",
              "\n",
              "  <div class=\"colab-df-container\">\n",
              "    <button class=\"colab-df-convert\" onclick=\"convertToInteractive('df-3180a565-ce57-4818-8acb-c1e7ceb3f2d0')\"\n",
              "            title=\"Convert this dataframe to an interactive table.\"\n",
              "            style=\"display:none;\">\n",
              "\n",
              "  <svg xmlns=\"http://www.w3.org/2000/svg\" height=\"24px\" viewBox=\"0 -960 960 960\">\n",
              "    <path d=\"M120-120v-720h720v720H120Zm60-500h600v-160H180v160Zm220 220h160v-160H400v160Zm0 220h160v-160H400v160ZM180-400h160v-160H180v160Zm440 0h160v-160H620v160ZM180-180h160v-160H180v160Zm440 0h160v-160H620v160Z\"/>\n",
              "  </svg>\n",
              "    </button>\n",
              "\n",
              "  <style>\n",
              "    .colab-df-container {\n",
              "      display:flex;\n",
              "      gap: 12px;\n",
              "    }\n",
              "\n",
              "    .colab-df-convert {\n",
              "      background-color: #E8F0FE;\n",
              "      border: none;\n",
              "      border-radius: 50%;\n",
              "      cursor: pointer;\n",
              "      display: none;\n",
              "      fill: #1967D2;\n",
              "      height: 32px;\n",
              "      padding: 0 0 0 0;\n",
              "      width: 32px;\n",
              "    }\n",
              "\n",
              "    .colab-df-convert:hover {\n",
              "      background-color: #E2EBFA;\n",
              "      box-shadow: 0px 1px 2px rgba(60, 64, 67, 0.3), 0px 1px 3px 1px rgba(60, 64, 67, 0.15);\n",
              "      fill: #174EA6;\n",
              "    }\n",
              "\n",
              "    .colab-df-buttons div {\n",
              "      margin-bottom: 4px;\n",
              "    }\n",
              "\n",
              "    [theme=dark] .colab-df-convert {\n",
              "      background-color: #3B4455;\n",
              "      fill: #D2E3FC;\n",
              "    }\n",
              "\n",
              "    [theme=dark] .colab-df-convert:hover {\n",
              "      background-color: #434B5C;\n",
              "      box-shadow: 0px 1px 3px 1px rgba(0, 0, 0, 0.15);\n",
              "      filter: drop-shadow(0px 1px 2px rgba(0, 0, 0, 0.3));\n",
              "      fill: #FFFFFF;\n",
              "    }\n",
              "  </style>\n",
              "\n",
              "    <script>\n",
              "      const buttonEl =\n",
              "        document.querySelector('#df-3180a565-ce57-4818-8acb-c1e7ceb3f2d0 button.colab-df-convert');\n",
              "      buttonEl.style.display =\n",
              "        google.colab.kernel.accessAllowed ? 'block' : 'none';\n",
              "\n",
              "      async function convertToInteractive(key) {\n",
              "        const element = document.querySelector('#df-3180a565-ce57-4818-8acb-c1e7ceb3f2d0');\n",
              "        const dataTable =\n",
              "          await google.colab.kernel.invokeFunction('convertToInteractive',\n",
              "                                                    [key], {});\n",
              "        if (!dataTable) return;\n",
              "\n",
              "        const docLinkHtml = 'Like what you see? Visit the ' +\n",
              "          '<a target=\"_blank\" href=https://colab.research.google.com/notebooks/data_table.ipynb>data table notebook</a>'\n",
              "          + ' to learn more about interactive tables.';\n",
              "        element.innerHTML = '';\n",
              "        dataTable['output_type'] = 'display_data';\n",
              "        await google.colab.output.renderOutput(dataTable, element);\n",
              "        const docLink = document.createElement('div');\n",
              "        docLink.innerHTML = docLinkHtml;\n",
              "        element.appendChild(docLink);\n",
              "      }\n",
              "    </script>\n",
              "  </div>\n",
              "\n",
              "\n",
              "<div id=\"df-2f2b8606-d95b-4685-8a9b-1ed4d1c931b5\">\n",
              "  <button class=\"colab-df-quickchart\" onclick=\"quickchart('df-2f2b8606-d95b-4685-8a9b-1ed4d1c931b5')\"\n",
              "            title=\"Suggest charts\"\n",
              "            style=\"display:none;\">\n",
              "\n",
              "<svg xmlns=\"http://www.w3.org/2000/svg\" height=\"24px\"viewBox=\"0 0 24 24\"\n",
              "     width=\"24px\">\n",
              "    <g>\n",
              "        <path d=\"M19 3H5c-1.1 0-2 .9-2 2v14c0 1.1.9 2 2 2h14c1.1 0 2-.9 2-2V5c0-1.1-.9-2-2-2zM9 17H7v-7h2v7zm4 0h-2V7h2v10zm4 0h-2v-4h2v4z\"/>\n",
              "    </g>\n",
              "</svg>\n",
              "  </button>\n",
              "\n",
              "<style>\n",
              "  .colab-df-quickchart {\n",
              "      --bg-color: #E8F0FE;\n",
              "      --fill-color: #1967D2;\n",
              "      --hover-bg-color: #E2EBFA;\n",
              "      --hover-fill-color: #174EA6;\n",
              "      --disabled-fill-color: #AAA;\n",
              "      --disabled-bg-color: #DDD;\n",
              "  }\n",
              "\n",
              "  [theme=dark] .colab-df-quickchart {\n",
              "      --bg-color: #3B4455;\n",
              "      --fill-color: #D2E3FC;\n",
              "      --hover-bg-color: #434B5C;\n",
              "      --hover-fill-color: #FFFFFF;\n",
              "      --disabled-bg-color: #3B4455;\n",
              "      --disabled-fill-color: #666;\n",
              "  }\n",
              "\n",
              "  .colab-df-quickchart {\n",
              "    background-color: var(--bg-color);\n",
              "    border: none;\n",
              "    border-radius: 50%;\n",
              "    cursor: pointer;\n",
              "    display: none;\n",
              "    fill: var(--fill-color);\n",
              "    height: 32px;\n",
              "    padding: 0;\n",
              "    width: 32px;\n",
              "  }\n",
              "\n",
              "  .colab-df-quickchart:hover {\n",
              "    background-color: var(--hover-bg-color);\n",
              "    box-shadow: 0 1px 2px rgba(60, 64, 67, 0.3), 0 1px 3px 1px rgba(60, 64, 67, 0.15);\n",
              "    fill: var(--button-hover-fill-color);\n",
              "  }\n",
              "\n",
              "  .colab-df-quickchart-complete:disabled,\n",
              "  .colab-df-quickchart-complete:disabled:hover {\n",
              "    background-color: var(--disabled-bg-color);\n",
              "    fill: var(--disabled-fill-color);\n",
              "    box-shadow: none;\n",
              "  }\n",
              "\n",
              "  .colab-df-spinner {\n",
              "    border: 2px solid var(--fill-color);\n",
              "    border-color: transparent;\n",
              "    border-bottom-color: var(--fill-color);\n",
              "    animation:\n",
              "      spin 1s steps(1) infinite;\n",
              "  }\n",
              "\n",
              "  @keyframes spin {\n",
              "    0% {\n",
              "      border-color: transparent;\n",
              "      border-bottom-color: var(--fill-color);\n",
              "      border-left-color: var(--fill-color);\n",
              "    }\n",
              "    20% {\n",
              "      border-color: transparent;\n",
              "      border-left-color: var(--fill-color);\n",
              "      border-top-color: var(--fill-color);\n",
              "    }\n",
              "    30% {\n",
              "      border-color: transparent;\n",
              "      border-left-color: var(--fill-color);\n",
              "      border-top-color: var(--fill-color);\n",
              "      border-right-color: var(--fill-color);\n",
              "    }\n",
              "    40% {\n",
              "      border-color: transparent;\n",
              "      border-right-color: var(--fill-color);\n",
              "      border-top-color: var(--fill-color);\n",
              "    }\n",
              "    60% {\n",
              "      border-color: transparent;\n",
              "      border-right-color: var(--fill-color);\n",
              "    }\n",
              "    80% {\n",
              "      border-color: transparent;\n",
              "      border-right-color: var(--fill-color);\n",
              "      border-bottom-color: var(--fill-color);\n",
              "    }\n",
              "    90% {\n",
              "      border-color: transparent;\n",
              "      border-bottom-color: var(--fill-color);\n",
              "    }\n",
              "  }\n",
              "</style>\n",
              "\n",
              "  <script>\n",
              "    async function quickchart(key) {\n",
              "      const quickchartButtonEl =\n",
              "        document.querySelector('#' + key + ' button');\n",
              "      quickchartButtonEl.disabled = true;  // To prevent multiple clicks.\n",
              "      quickchartButtonEl.classList.add('colab-df-spinner');\n",
              "      try {\n",
              "        const charts = await google.colab.kernel.invokeFunction(\n",
              "            'suggestCharts', [key], {});\n",
              "      } catch (error) {\n",
              "        console.error('Error during call to suggestCharts:', error);\n",
              "      }\n",
              "      quickchartButtonEl.classList.remove('colab-df-spinner');\n",
              "      quickchartButtonEl.classList.add('colab-df-quickchart-complete');\n",
              "    }\n",
              "    (() => {\n",
              "      let quickchartButtonEl =\n",
              "        document.querySelector('#df-2f2b8606-d95b-4685-8a9b-1ed4d1c931b5 button');\n",
              "      quickchartButtonEl.style.display =\n",
              "        google.colab.kernel.accessAllowed ? 'block' : 'none';\n",
              "    })();\n",
              "  </script>\n",
              "</div>\n",
              "\n",
              "    </div>\n",
              "  </div>\n"
            ],
            "application/vnd.google.colaboratory.intrinsic+json": {
              "type": "dataframe",
              "variable_name": "sonar"
            }
          },
          "metadata": {},
          "execution_count": 104
        }
      ]
    },
    {
      "cell_type": "code",
      "source": [
        "# 라벨 데이터 확인\n",
        "sonar[60].value_counts()\n",
        "# M -> Metal / R -> Rock"
      ],
      "metadata": {
        "colab": {
          "base_uri": "https://localhost:8080/"
        },
        "id": "Udm_2DhrV1Nt",
        "outputId": "70b01bd4-bb34-4d88-c609-dc95793a2109"
      },
      "execution_count": 105,
      "outputs": [
        {
          "output_type": "execute_result",
          "data": {
            "text/plain": [
              "60\n",
              "M    111\n",
              "R     97\n",
              "Name: count, dtype: int64"
            ]
          },
          "metadata": {},
          "execution_count": 105
        }
      ]
    },
    {
      "cell_type": "code",
      "source": [
        "import tensorflow as tf\n",
        "\n",
        "# seed -> 다른 컴퓨터에서 작업을 하더라도 w와 b값이 같은 값으로 초기화\n",
        "# 모델을 개선했을 때 모델의 성능을 판별\n",
        "seed = 0\n",
        "tf.random.set_seed(seed)\n",
        "np.random.seed(seed)"
      ],
      "metadata": {
        "id": "JYm6GP6CV1P2"
      },
      "execution_count": 106,
      "outputs": []
    },
    {
      "cell_type": "code",
      "source": [
        "# 특성 / 라벨 데이터 분리\n",
        "X = sonar.iloc[:,0:60]\n",
        "y = sonar.iloc[:,60]\n",
        "\n",
        "X.shape, y.shape"
      ],
      "metadata": {
        "colab": {
          "base_uri": "https://localhost:8080/"
        },
        "id": "OwtN95TIV1SE",
        "outputId": "9da3c385-a3d7-4c3e-b66b-71bce26e3c2b"
      },
      "execution_count": 109,
      "outputs": [
        {
          "output_type": "execute_result",
          "data": {
            "text/plain": [
              "((208, 60), (208,))"
            ]
          },
          "metadata": {},
          "execution_count": 109
        }
      ]
    },
    {
      "cell_type": "markdown",
      "source": [
        "- 라벨 데이터 인코딩\n",
        "  - M, R의 문자 형태로 되어 있는 라벨을 숫자로 변환 -> 라벨 인코딩\n",
        "  - 0부터 숫자가 부여, 알파벳 순"
      ],
      "metadata": {
        "id": "5vSFmZqmcc5v"
      }
    },
    {
      "cell_type": "code",
      "source": [
        "from sklearn.preprocessing import LabelEncoder\n",
        "\n",
        "encoder = LabelEncoder()\n",
        "encoder.fit(y)\n",
        "y_en = encoder.transform(y)"
      ],
      "metadata": {
        "id": "cvuuzJSocgDQ"
      },
      "execution_count": 110,
      "outputs": []
    },
    {
      "cell_type": "code",
      "source": [
        "# 훈련 / 검증 데이터로 분리\n",
        "from sklearn.model_selection import train_test_split\n",
        "\n",
        "X_train, X_test, y_train, y_test = train_test_split(X, y_en, test_size=0.2)\n",
        "X_train.shape, X_test.shape, y_train.shape, y_test.shape"
      ],
      "metadata": {
        "colab": {
          "base_uri": "https://localhost:8080/"
        },
        "id": "fpsyJwBpV1V4",
        "outputId": "58739cb5-353a-441a-d218-4d82a2ca0f03"
      },
      "execution_count": 112,
      "outputs": [
        {
          "output_type": "execute_result",
          "data": {
            "text/plain": [
              "((166, 60), (42, 60), (166,), (42,))"
            ]
          },
          "metadata": {},
          "execution_count": 112
        }
      ]
    },
    {
      "cell_type": "code",
      "source": [
        "y_en\n",
        "\n",
        "# M -> 0 / R -> 1"
      ],
      "metadata": {
        "colab": {
          "base_uri": "https://localhost:8080/"
        },
        "id": "BXXpDmlWV1Xp",
        "outputId": "7a0a4699-6a3b-41fd-c86a-a4275d0eb407"
      },
      "execution_count": 113,
      "outputs": [
        {
          "output_type": "execute_result",
          "data": {
            "text/plain": [
              "array([1, 1, 1, 1, 1, 1, 1, 1, 1, 1, 1, 1, 1, 1, 1, 1, 1, 1, 1, 1, 1, 1,\n",
              "       1, 1, 1, 1, 1, 1, 1, 1, 1, 1, 1, 1, 1, 1, 1, 1, 1, 1, 1, 1, 1, 1,\n",
              "       1, 1, 1, 1, 1, 1, 1, 1, 1, 1, 1, 1, 1, 1, 1, 1, 1, 1, 1, 1, 1, 1,\n",
              "       1, 1, 1, 1, 1, 1, 1, 1, 1, 1, 1, 1, 1, 1, 1, 1, 1, 1, 1, 1, 1, 1,\n",
              "       1, 1, 1, 1, 1, 1, 1, 1, 1, 0, 0, 0, 0, 0, 0, 0, 0, 0, 0, 0, 0, 0,\n",
              "       0, 0, 0, 0, 0, 0, 0, 0, 0, 0, 0, 0, 0, 0, 0, 0, 0, 0, 0, 0, 0, 0,\n",
              "       0, 0, 0, 0, 0, 0, 0, 0, 0, 0, 0, 0, 0, 0, 0, 0, 0, 0, 0, 0, 0, 0,\n",
              "       0, 0, 0, 0, 0, 0, 0, 0, 0, 0, 0, 0, 0, 0, 0, 0, 0, 0, 0, 0, 0, 0,\n",
              "       0, 0, 0, 0, 0, 0, 0, 0, 0, 0, 0, 0, 0, 0, 0, 0, 0, 0, 0, 0, 0, 0,\n",
              "       0, 0, 0, 0, 0, 0, 0, 0, 0, 0])"
            ]
          },
          "metadata": {},
          "execution_count": 113
        }
      ]
    },
    {
      "cell_type": "markdown",
      "source": [
        "- 모델 설계\n",
        "- 컴파일\n",
        "- 학습 (베스트모델 저장, 학습중단)\n",
        "- 저장된 모델 불러오기\n",
        "- 불러온 모델로 예측하기(X_test)"
      ],
      "metadata": {
        "id": "JzKx0cRqdtxS"
      }
    },
    {
      "cell_type": "code",
      "source": [
        "from tensorflow.keras.models import Sequential\n",
        "from tensorflow.keras.layers import Dense\n",
        "\n",
        "model3 = Sequential()\n",
        "\n",
        "# 입력층\n",
        "model3.add(Dense(512, activation='relu', input_dim=60))\n",
        "\n",
        "# 은닉층\n",
        "model3.add(Dense(256, activation = 'relu'))\n",
        "model3.add(Dense(128, activation = 'relu'))\n",
        "model3.add(Dense(64, activation = 'relu'))\n",
        "\n",
        "# 인코딩 : 퍼셉트론 수 (특성 수)를 감소시켜가는 방식 (압축, 정보 요약, 중요 특성 추출/선택)\n",
        "# 디코딩 : 퍼셉트론 수 (특성 수)를 증가시켜가는 방식 (복원)\n",
        "\n",
        "# 출력층\n",
        "# 원핫 인코딩하지 않았기 때문에 -> 퍼셉트론 수 1, 활성화함수 sigmoid\n",
        "# 원핫 인코딩 했다면 -> 퍼셉트론 수 2, 활성화함수 softmax\n",
        "model3.add(Dense(1, activation = 'sigmoid'))\n",
        "\n",
        "model3.summary()"
      ],
      "metadata": {
        "colab": {
          "base_uri": "https://localhost:8080/"
        },
        "id": "2EhH_g26ZmZq",
        "outputId": "4d650e62-68d0-4076-d474-b90e12c59cb3"
      },
      "execution_count": 126,
      "outputs": [
        {
          "output_type": "stream",
          "name": "stdout",
          "text": [
            "Model: \"sequential_6\"\n",
            "_________________________________________________________________\n",
            " Layer (type)                Output Shape              Param #   \n",
            "=================================================================\n",
            " dense_14 (Dense)            (None, 512)               31232     \n",
            "                                                                 \n",
            " dense_15 (Dense)            (None, 256)               131328    \n",
            "                                                                 \n",
            " dense_16 (Dense)            (None, 128)               32896     \n",
            "                                                                 \n",
            " dense_17 (Dense)            (None, 64)                8256      \n",
            "                                                                 \n",
            " dense_18 (Dense)            (None, 1)                 65        \n",
            "                                                                 \n",
            "=================================================================\n",
            "Total params: 203777 (796.00 KB)\n",
            "Trainable params: 203777 (796.00 KB)\n",
            "Non-trainable params: 0 (0.00 Byte)\n",
            "_________________________________________________________________\n"
          ]
        }
      ]
    },
    {
      "cell_type": "code",
      "source": [
        "model3.compile(optimizer='adam', loss='binary_crossentropy', metrics=['accuracy'])"
      ],
      "metadata": {
        "id": "k4ARQgEuZmb6"
      },
      "execution_count": 127,
      "outputs": []
    },
    {
      "cell_type": "code",
      "source": [
        "from tensorflow.keras.callbacks import ModelCheckpoint,EarlyStopping\n",
        "import os\n",
        "\n",
        "file_name = model_dir + \"model3_{epoch:02d}_{loss:.4f}_{val_loss:.4f}.hdf5\"\n",
        "\n",
        "mc = ModelCheckpoint(file_name, monitor='val_loss', save_best_only=True)\n",
        "es = EarlyStopping(monitor='val_loss', patience=10)"
      ],
      "metadata": {
        "id": "eUXez04Yf7Ka"
      },
      "execution_count": 129,
      "outputs": []
    },
    {
      "cell_type": "code",
      "source": [
        "h3 = model3.fit(X_train,y_train, epochs=200, batch_size=16,\n",
        "              validation_data=(X_test, y_test), callbacks=[mc, es])"
      ],
      "metadata": {
        "colab": {
          "base_uri": "https://localhost:8080/"
        },
        "id": "EXN1VHDOfUpe",
        "outputId": "628724a9-30d7-43cf-cced-dc561656e101"
      },
      "execution_count": 130,
      "outputs": [
        {
          "output_type": "stream",
          "name": "stdout",
          "text": [
            "Epoch 1/200\n",
            "11/11 [==============================] - 0s 21ms/step - loss: 0.3444 - accuracy: 0.8373 - val_loss: 0.4491 - val_accuracy: 0.7857\n",
            "Epoch 2/200\n",
            "11/11 [==============================] - 0s 9ms/step - loss: 0.3408 - accuracy: 0.7771 - val_loss: 0.5242 - val_accuracy: 0.7143\n",
            "Epoch 3/200\n",
            " 1/11 [=>............................] - ETA: 0s - loss: 0.3342 - accuracy: 0.8750"
          ]
        },
        {
          "output_type": "stream",
          "name": "stderr",
          "text": [
            "/usr/local/lib/python3.10/dist-packages/keras/src/engine/training.py:3103: UserWarning: You are saving your model as an HDF5 file via `model.save()`. This file format is considered legacy. We recommend using instead the native Keras format, e.g. `model.save('my_model.keras')`.\n",
            "  saving_api.save_model(\n"
          ]
        },
        {
          "output_type": "stream",
          "name": "stdout",
          "text": [
            "\b\b\b\b\b\b\b\b\b\b\b\b\b\b\b\b\b\b\b\b\b\b\b\b\b\b\b\b\b\b\b\b\b\b\b\b\b\b\b\b\b\b\b\b\b\b\b\b\b\b\b\b\b\b\b\b\b\b\b\b\b\b\b\b\b\b\b\b\b\b\b\b\b\b\b\b\b\b\b\b\b\b\r11/11 [==============================] - 0s 9ms/step - loss: 0.3077 - accuracy: 0.8554 - val_loss: 0.5600 - val_accuracy: 0.7619\n",
            "Epoch 4/200\n",
            "11/11 [==============================] - 0s 12ms/step - loss: 0.2377 - accuracy: 0.9157 - val_loss: 0.6033 - val_accuracy: 0.6667\n",
            "Epoch 5/200\n",
            "11/11 [==============================] - 0s 12ms/step - loss: 0.2190 - accuracy: 0.9157 - val_loss: 0.4388 - val_accuracy: 0.8095\n",
            "Epoch 6/200\n",
            "11/11 [==============================] - 0s 9ms/step - loss: 0.2074 - accuracy: 0.9157 - val_loss: 0.7379 - val_accuracy: 0.6905\n",
            "Epoch 7/200\n",
            "11/11 [==============================] - 0s 8ms/step - loss: 0.2164 - accuracy: 0.8916 - val_loss: 0.4469 - val_accuracy: 0.8333\n",
            "Epoch 8/200\n",
            "11/11 [==============================] - 0s 12ms/step - loss: 0.1385 - accuracy: 0.9578 - val_loss: 0.4170 - val_accuracy: 0.8810\n",
            "Epoch 9/200\n",
            "11/11 [==============================] - 0s 8ms/step - loss: 0.1409 - accuracy: 0.9398 - val_loss: 0.4234 - val_accuracy: 0.8095\n",
            "Epoch 10/200\n",
            "11/11 [==============================] - 0s 13ms/step - loss: 0.1372 - accuracy: 0.9518 - val_loss: 0.4010 - val_accuracy: 0.8095\n",
            "Epoch 11/200\n",
            "11/11 [==============================] - 0s 8ms/step - loss: 0.0799 - accuracy: 0.9759 - val_loss: 0.6806 - val_accuracy: 0.7143\n",
            "Epoch 12/200\n",
            "11/11 [==============================] - 0s 9ms/step - loss: 0.0577 - accuracy: 0.9880 - val_loss: 0.4776 - val_accuracy: 0.7857\n",
            "Epoch 13/200\n",
            "11/11 [==============================] - 0s 10ms/step - loss: 0.0402 - accuracy: 0.9940 - val_loss: 0.5312 - val_accuracy: 0.8333\n",
            "Epoch 14/200\n",
            "11/11 [==============================] - 0s 8ms/step - loss: 0.0258 - accuracy: 0.9940 - val_loss: 0.5621 - val_accuracy: 0.8333\n",
            "Epoch 15/200\n",
            "11/11 [==============================] - 0s 7ms/step - loss: 0.0341 - accuracy: 0.9880 - val_loss: 0.4944 - val_accuracy: 0.8333\n",
            "Epoch 16/200\n",
            "11/11 [==============================] - 0s 8ms/step - loss: 0.0582 - accuracy: 0.9819 - val_loss: 0.6318 - val_accuracy: 0.7857\n",
            "Epoch 17/200\n",
            "11/11 [==============================] - 0s 9ms/step - loss: 0.0804 - accuracy: 0.9699 - val_loss: 0.4953 - val_accuracy: 0.8333\n",
            "Epoch 18/200\n",
            "11/11 [==============================] - 0s 7ms/step - loss: 0.0876 - accuracy: 0.9699 - val_loss: 0.6731 - val_accuracy: 0.7857\n",
            "Epoch 19/200\n",
            "11/11 [==============================] - 0s 7ms/step - loss: 0.1136 - accuracy: 0.9458 - val_loss: 0.6388 - val_accuracy: 0.8333\n",
            "Epoch 20/200\n",
            "11/11 [==============================] - 0s 9ms/step - loss: 0.0186 - accuracy: 1.0000 - val_loss: 0.5969 - val_accuracy: 0.8095\n"
          ]
        }
      ]
    },
    {
      "cell_type": "code",
      "source": [
        "# 시각화\n",
        "import matplotlib.pyplot as plt\n",
        "\n",
        "plt.plot(h3.history['accuracy'], label = \"train\")\n",
        "plt.plot(h3.history['val_accuracy'], label = \"test\")\n",
        "plt.legend()\n",
        "plt.show()\n",
        "\n",
        "plt.plot(h3.history['loss'], label = \"train\")\n",
        "plt.plot(h3.history['val_loss'], label = \"test\")\n",
        "plt.legend()\n",
        "plt.show()"
      ],
      "metadata": {
        "colab": {
          "base_uri": "https://localhost:8080/",
          "height": 843
        },
        "id": "I5DOPwrWrQ75",
        "outputId": "d57a05ce-dddf-43a7-d50b-fc3875d83a5d"
      },
      "execution_count": 131,
      "outputs": [
        {
          "output_type": "display_data",
          "data": {
            "text/plain": [
              "<Figure size 640x480 with 1 Axes>"
            ],
            "image/png": "[encoded data removed]"
          },
          "metadata": {}
        },
        {
          "output_type": "display_data",
          "data": {
            "text/plain": [
              "<Figure size 640x480 with 1 Axes>"
            ],
            "image/png": "[encoded data removed]"
          },
          "metadata": {}
        }
      ]
    },
    {
      "cell_type": "markdown",
      "source": [
        "- Dropout 추가해보기"
      ],
      "metadata": {
        "id": "m6sOTDcMsNz3"
      }
    },
    {
      "cell_type": "code",
      "source": [
        "from tensorflow.keras.models import Sequential\n",
        "from tensorflow.keras.layers import Dense,Dropout\n",
        "\n",
        "model4 = Sequential()\n",
        "\n",
        "# 입력층\n",
        "model4.add(Dense(512, activation='relu', input_dim=60))\n",
        "\n",
        "# 은닉층\n",
        "model4.add(Dropout(0.3))\n",
        "model4.add(Dense(256, activation = 'relu'))\n",
        "model4.add(Dropout(0.3))\n",
        "model4.add(Dense(128, activation = 'relu'))\n",
        "model4.add(Dropout(0.3))\n",
        "model4.add(Dense(64, activation = 'relu'))\n",
        "\n",
        "# 출력층\n",
        "model4.add(Dense(1, activation = 'sigmoid'))\n",
        "\n",
        "model4.summary()"
      ],
      "metadata": {
        "colab": {
          "base_uri": "https://localhost:8080/"
        },
        "id": "sE0w3EXAsM2Y",
        "outputId": "39073f97-14de-43a8-f06f-0e775df7a225"
      },
      "execution_count": 132,
      "outputs": [
        {
          "output_type": "stream",
          "name": "stdout",
          "text": [
            "Model: \"sequential_7\"\n",
            "_________________________________________________________________\n",
            " Layer (type)                Output Shape              Param #   \n",
            "=================================================================\n",
            " dense_19 (Dense)            (None, 512)               31232     \n",
            "                                                                 \n",
            " dropout (Dropout)           (None, 512)               0         \n",
            "                                                                 \n",
            " dense_20 (Dense)            (None, 256)               131328    \n",
            "                                                                 \n",
            " dropout_1 (Dropout)         (None, 256)               0         \n",
            "                                                                 \n",
            " dense_21 (Dense)            (None, 128)               32896     \n",
            "                                                                 \n",
            " dropout_2 (Dropout)         (None, 128)               0         \n",
            "                                                                 \n",
            " dense_22 (Dense)            (None, 64)                8256      \n",
            "                                                                 \n",
            " dense_23 (Dense)            (None, 1)                 65        \n",
            "                                                                 \n",
            "=================================================================\n",
            "Total params: 203777 (796.00 KB)\n",
            "Trainable params: 203777 (796.00 KB)\n",
            "Non-trainable params: 0 (0.00 Byte)\n",
            "_________________________________________________________________\n"
          ]
        }
      ]
    },
    {
      "cell_type": "code",
      "source": [
        "model4.compile(optimizer='adam', loss='binary_crossentropy', metrics=['accuracy'])"
      ],
      "metadata": {
        "id": "KNESEYMwsnc9"
      },
      "execution_count": 133,
      "outputs": []
    },
    {
      "cell_type": "code",
      "source": [
        "h4 = model4.fit(X_train, y_train, epochs=200,batch_size=16,\n",
        "                validation_data=(X_test,y_test))"
      ],
      "metadata": {
        "colab": {
          "base_uri": "https://localhost:8080/"
        },
        "id": "2VULcRqisne4",
        "outputId": "db1cf395-f47f-479a-e6a3-1359b0dfb35f"
      },
      "execution_count": 135,
      "outputs": [
        {
          "output_type": "stream",
          "name": "stdout",
          "text": [
            "Epoch 1/200\n",
            "11/11 [==============================] - 1s 28ms/step - loss: 0.6988 - accuracy: 0.4940 - val_loss: 0.7069 - val_accuracy: 0.4524\n",
            "Epoch 2/200\n",
            "11/11 [==============================] - 0s 9ms/step - loss: 0.6796 - accuracy: 0.5783 - val_loss: 0.6526 - val_accuracy: 0.6429\n",
            "Epoch 3/200\n",
            "11/11 [==============================] - 0s 8ms/step - loss: 0.6295 - accuracy: 0.6566 - val_loss: 0.7246 - val_accuracy: 0.5952\n",
            "Epoch 4/200\n",
            "11/11 [==============================] - 0s 8ms/step - loss: 0.5933 - accuracy: 0.6687 - val_loss: 0.7229 - val_accuracy: 0.6667\n",
            "Epoch 5/200\n",
            "11/11 [==============================] - 0s 9ms/step - loss: 0.5638 - accuracy: 0.7410 - val_loss: 0.5043 - val_accuracy: 0.7381\n",
            "Epoch 6/200\n",
            "11/11 [==============================] - 0s 8ms/step - loss: 0.4896 - accuracy: 0.7349 - val_loss: 0.6589 - val_accuracy: 0.6667\n",
            "Epoch 7/200\n",
            "11/11 [==============================] - 0s 9ms/step - loss: 0.4498 - accuracy: 0.8012 - val_loss: 0.6081 - val_accuracy: 0.7619\n",
            "Epoch 8/200\n",
            "11/11 [==============================] - 0s 11ms/step - loss: 0.4243 - accuracy: 0.7530 - val_loss: 0.4813 - val_accuracy: 0.7381\n",
            "Epoch 9/200\n",
            "11/11 [==============================] - 0s 9ms/step - loss: 0.4187 - accuracy: 0.7892 - val_loss: 0.4509 - val_accuracy: 0.7619\n",
            "Epoch 10/200\n",
            "11/11 [==============================] - 0s 9ms/step - loss: 0.4086 - accuracy: 0.7952 - val_loss: 0.4577 - val_accuracy: 0.7857\n",
            "Epoch 11/200\n",
            "11/11 [==============================] - 0s 7ms/step - loss: 0.3828 - accuracy: 0.8253 - val_loss: 0.4258 - val_accuracy: 0.8095\n",
            "Epoch 12/200\n",
            "11/11 [==============================] - 0s 9ms/step - loss: 0.3708 - accuracy: 0.8133 - val_loss: 0.5926 - val_accuracy: 0.7143\n",
            "Epoch 13/200\n",
            "11/11 [==============================] - 0s 7ms/step - loss: 0.3639 - accuracy: 0.8494 - val_loss: 0.4420 - val_accuracy: 0.8095\n",
            "Epoch 14/200\n",
            "11/11 [==============================] - 0s 10ms/step - loss: 0.3492 - accuracy: 0.8554 - val_loss: 0.5319 - val_accuracy: 0.7857\n",
            "Epoch 15/200\n",
            "11/11 [==============================] - 0s 7ms/step - loss: 0.3294 - accuracy: 0.8494 - val_loss: 0.4092 - val_accuracy: 0.8333\n",
            "Epoch 16/200\n",
            "11/11 [==============================] - 0s 8ms/step - loss: 0.3412 - accuracy: 0.8313 - val_loss: 0.3971 - val_accuracy: 0.8095\n",
            "Epoch 17/200\n",
            "11/11 [==============================] - 0s 7ms/step - loss: 0.2530 - accuracy: 0.9157 - val_loss: 0.6934 - val_accuracy: 0.6667\n",
            "Epoch 18/200\n",
            "11/11 [==============================] - 0s 11ms/step - loss: 0.3103 - accuracy: 0.8855 - val_loss: 0.4063 - val_accuracy: 0.8095\n",
            "Epoch 19/200\n",
            "11/11 [==============================] - 0s 10ms/step - loss: 0.2772 - accuracy: 0.8735 - val_loss: 0.3878 - val_accuracy: 0.8333\n",
            "Epoch 20/200\n",
            "11/11 [==============================] - 0s 9ms/step - loss: 0.2766 - accuracy: 0.8976 - val_loss: 0.3745 - val_accuracy: 0.8571\n",
            "Epoch 21/200\n",
            "11/11 [==============================] - 0s 7ms/step - loss: 0.2552 - accuracy: 0.9036 - val_loss: 0.5625 - val_accuracy: 0.7143\n",
            "Epoch 22/200\n",
            "11/11 [==============================] - 0s 9ms/step - loss: 0.2334 - accuracy: 0.9277 - val_loss: 0.5644 - val_accuracy: 0.7619\n",
            "Epoch 23/200\n",
            "11/11 [==============================] - 0s 7ms/step - loss: 0.2035 - accuracy: 0.9157 - val_loss: 0.5998 - val_accuracy: 0.7619\n",
            "Epoch 24/200\n",
            "11/11 [==============================] - 0s 7ms/step - loss: 0.2580 - accuracy: 0.8855 - val_loss: 0.6410 - val_accuracy: 0.7857\n",
            "Epoch 25/200\n",
            "11/11 [==============================] - 0s 7ms/step - loss: 0.4188 - accuracy: 0.8012 - val_loss: 0.4269 - val_accuracy: 0.8571\n",
            "Epoch 26/200\n",
            "11/11 [==============================] - 0s 8ms/step - loss: 0.2791 - accuracy: 0.8976 - val_loss: 0.6352 - val_accuracy: 0.6429\n",
            "Epoch 27/200\n",
            "11/11 [==============================] - 0s 9ms/step - loss: 0.2268 - accuracy: 0.8916 - val_loss: 0.3968 - val_accuracy: 0.8095\n",
            "Epoch 28/200\n",
            "11/11 [==============================] - 0s 8ms/step - loss: 0.1726 - accuracy: 0.9337 - val_loss: 0.6911 - val_accuracy: 0.7143\n",
            "Epoch 29/200\n",
            "11/11 [==============================] - 0s 11ms/step - loss: 0.1924 - accuracy: 0.8916 - val_loss: 0.7566 - val_accuracy: 0.7619\n",
            "Epoch 30/200\n",
            "11/11 [==============================] - 0s 9ms/step - loss: 0.1234 - accuracy: 0.9458 - val_loss: 0.5574 - val_accuracy: 0.8095\n",
            "Epoch 31/200\n",
            "11/11 [==============================] - 0s 11ms/step - loss: 0.1652 - accuracy: 0.9458 - val_loss: 0.4924 - val_accuracy: 0.7857\n",
            "Epoch 32/200\n",
            "11/11 [==============================] - 0s 7ms/step - loss: 0.1565 - accuracy: 0.9337 - val_loss: 0.5087 - val_accuracy: 0.7619\n",
            "Epoch 33/200\n",
            "11/11 [==============================] - 0s 9ms/step - loss: 0.1620 - accuracy: 0.9337 - val_loss: 0.5912 - val_accuracy: 0.7857\n",
            "Epoch 34/200\n",
            "11/11 [==============================] - 0s 8ms/step - loss: 0.1119 - accuracy: 0.9639 - val_loss: 0.7024 - val_accuracy: 0.6905\n",
            "Epoch 35/200\n",
            "11/11 [==============================] - 0s 9ms/step - loss: 0.1138 - accuracy: 0.9458 - val_loss: 0.5030 - val_accuracy: 0.7857\n",
            "Epoch 36/200\n",
            "11/11 [==============================] - 0s 7ms/step - loss: 0.1135 - accuracy: 0.9578 - val_loss: 0.5409 - val_accuracy: 0.8095\n",
            "Epoch 37/200\n",
            "11/11 [==============================] - 0s 7ms/step - loss: 0.1126 - accuracy: 0.9398 - val_loss: 0.7521 - val_accuracy: 0.7619\n",
            "Epoch 38/200\n",
            "11/11 [==============================] - 0s 8ms/step - loss: 0.1941 - accuracy: 0.9337 - val_loss: 0.8276 - val_accuracy: 0.7381\n",
            "Epoch 39/200\n",
            "11/11 [==============================] - 0s 11ms/step - loss: 0.0954 - accuracy: 0.9759 - val_loss: 0.3468 - val_accuracy: 0.8571\n",
            "Epoch 40/200\n",
            "11/11 [==============================] - 0s 8ms/step - loss: 0.0914 - accuracy: 0.9578 - val_loss: 0.6704 - val_accuracy: 0.7619\n",
            "Epoch 41/200\n",
            "11/11 [==============================] - 0s 7ms/step - loss: 0.1052 - accuracy: 0.9639 - val_loss: 0.5529 - val_accuracy: 0.8095\n",
            "Epoch 42/200\n",
            "11/11 [==============================] - 0s 8ms/step - loss: 0.0777 - accuracy: 0.9759 - val_loss: 0.3994 - val_accuracy: 0.8571\n",
            "Epoch 43/200\n",
            "11/11 [==============================] - 0s 8ms/step - loss: 0.0768 - accuracy: 0.9699 - val_loss: 0.5127 - val_accuracy: 0.8095\n",
            "Epoch 44/200\n",
            "11/11 [==============================] - 0s 14ms/step - loss: 0.0377 - accuracy: 0.9880 - val_loss: 0.4871 - val_accuracy: 0.8571\n",
            "Epoch 45/200\n",
            "11/11 [==============================] - 0s 14ms/step - loss: 0.0789 - accuracy: 0.9759 - val_loss: 0.4645 - val_accuracy: 0.8571\n",
            "Epoch 46/200\n",
            "11/11 [==============================] - 0s 14ms/step - loss: 0.0893 - accuracy: 0.9639 - val_loss: 0.7403 - val_accuracy: 0.7857\n",
            "Epoch 47/200\n",
            "11/11 [==============================] - 0s 15ms/step - loss: 0.0604 - accuracy: 0.9759 - val_loss: 0.7191 - val_accuracy: 0.7857\n",
            "Epoch 48/200\n",
            "11/11 [==============================] - 0s 13ms/step - loss: 0.0724 - accuracy: 0.9639 - val_loss: 0.5063 - val_accuracy: 0.8810\n",
            "Epoch 49/200\n",
            "11/11 [==============================] - 0s 14ms/step - loss: 0.1225 - accuracy: 0.9578 - val_loss: 0.5318 - val_accuracy: 0.8333\n",
            "Epoch 50/200\n",
            "11/11 [==============================] - 0s 12ms/step - loss: 0.0722 - accuracy: 0.9819 - val_loss: 0.6962 - val_accuracy: 0.7857\n",
            "Epoch 51/200\n",
            "11/11 [==============================] - 0s 13ms/step - loss: 0.0742 - accuracy: 0.9759 - val_loss: 0.6609 - val_accuracy: 0.8333\n",
            "Epoch 52/200\n",
            "11/11 [==============================] - 0s 13ms/step - loss: 0.0544 - accuracy: 0.9759 - val_loss: 1.0633 - val_accuracy: 0.7143\n",
            "Epoch 53/200\n",
            "11/11 [==============================] - 0s 19ms/step - loss: 0.0865 - accuracy: 0.9699 - val_loss: 0.4767 - val_accuracy: 0.8810\n",
            "Epoch 54/200\n",
            "11/11 [==============================] - 0s 27ms/step - loss: 0.1914 - accuracy: 0.9398 - val_loss: 0.5998 - val_accuracy: 0.8571\n",
            "Epoch 55/200\n",
            "11/11 [==============================] - 0s 25ms/step - loss: 0.0999 - accuracy: 0.9639 - val_loss: 0.5762 - val_accuracy: 0.8333\n",
            "Epoch 56/200\n",
            "11/11 [==============================] - 0s 20ms/step - loss: 0.0815 - accuracy: 0.9699 - val_loss: 0.6793 - val_accuracy: 0.7857\n",
            "Epoch 57/200\n",
            "11/11 [==============================] - 0s 21ms/step - loss: 0.0493 - accuracy: 0.9819 - val_loss: 0.5683 - val_accuracy: 0.8333\n",
            "Epoch 58/200\n",
            "11/11 [==============================] - 0s 17ms/step - loss: 0.0586 - accuracy: 0.9880 - val_loss: 0.5729 - val_accuracy: 0.7857\n",
            "Epoch 59/200\n",
            "11/11 [==============================] - 0s 20ms/step - loss: 0.0240 - accuracy: 0.9940 - val_loss: 0.5186 - val_accuracy: 0.8095\n",
            "Epoch 60/200\n",
            "11/11 [==============================] - 0s 20ms/step - loss: 0.0548 - accuracy: 0.9819 - val_loss: 0.9516 - val_accuracy: 0.7619\n",
            "Epoch 61/200\n",
            "11/11 [==============================] - 0s 19ms/step - loss: 0.0587 - accuracy: 0.9699 - val_loss: 0.5222 - val_accuracy: 0.8571\n",
            "Epoch 62/200\n",
            "11/11 [==============================] - 0s 22ms/step - loss: 0.0626 - accuracy: 0.9699 - val_loss: 0.5844 - val_accuracy: 0.8571\n",
            "Epoch 63/200\n",
            "11/11 [==============================] - 0s 23ms/step - loss: 0.0382 - accuracy: 0.9880 - val_loss: 0.8248 - val_accuracy: 0.7619\n",
            "Epoch 64/200\n",
            "11/11 [==============================] - 0s 21ms/step - loss: 0.0594 - accuracy: 0.9759 - val_loss: 0.5484 - val_accuracy: 0.8333\n",
            "Epoch 65/200\n",
            "11/11 [==============================] - 0s 17ms/step - loss: 0.0833 - accuracy: 0.9639 - val_loss: 0.4862 - val_accuracy: 0.8810\n",
            "Epoch 66/200\n",
            "11/11 [==============================] - 0s 12ms/step - loss: 0.0877 - accuracy: 0.9699 - val_loss: 0.6230 - val_accuracy: 0.8333\n",
            "Epoch 67/200\n",
            "11/11 [==============================] - 0s 16ms/step - loss: 0.0420 - accuracy: 0.9880 - val_loss: 0.5311 - val_accuracy: 0.8333\n",
            "Epoch 68/200\n",
            "11/11 [==============================] - 0s 13ms/step - loss: 0.0524 - accuracy: 0.9759 - val_loss: 0.6567 - val_accuracy: 0.8333\n",
            "Epoch 69/200\n",
            "11/11 [==============================] - 0s 12ms/step - loss: 0.0328 - accuracy: 0.9880 - val_loss: 0.7687 - val_accuracy: 0.8095\n",
            "Epoch 70/200\n",
            "11/11 [==============================] - 0s 11ms/step - loss: 0.0427 - accuracy: 0.9880 - val_loss: 0.6636 - val_accuracy: 0.7857\n",
            "Epoch 71/200\n",
            "11/11 [==============================] - 0s 9ms/step - loss: 0.0341 - accuracy: 0.9819 - val_loss: 0.5160 - val_accuracy: 0.8333\n",
            "Epoch 72/200\n",
            "11/11 [==============================] - 0s 8ms/step - loss: 0.0360 - accuracy: 0.9940 - val_loss: 0.7756 - val_accuracy: 0.8095\n",
            "Epoch 73/200\n",
            "11/11 [==============================] - 0s 7ms/step - loss: 0.0132 - accuracy: 1.0000 - val_loss: 0.5433 - val_accuracy: 0.8333\n",
            "Epoch 74/200\n",
            "11/11 [==============================] - 0s 7ms/step - loss: 0.0509 - accuracy: 0.9880 - val_loss: 1.2301 - val_accuracy: 0.7381\n",
            "Epoch 75/200\n",
            "11/11 [==============================] - 0s 8ms/step - loss: 0.0371 - accuracy: 0.9880 - val_loss: 0.4571 - val_accuracy: 0.9048\n",
            "Epoch 76/200\n",
            "11/11 [==============================] - 0s 10ms/step - loss: 0.0145 - accuracy: 0.9940 - val_loss: 0.8405 - val_accuracy: 0.7619\n",
            "Epoch 77/200\n",
            "11/11 [==============================] - 0s 8ms/step - loss: 0.1524 - accuracy: 0.9578 - val_loss: 0.5398 - val_accuracy: 0.8810\n",
            "Epoch 78/200\n",
            "11/11 [==============================] - 0s 9ms/step - loss: 0.1593 - accuracy: 0.9518 - val_loss: 0.4139 - val_accuracy: 0.8571\n",
            "Epoch 79/200\n",
            "11/11 [==============================] - 0s 8ms/step - loss: 0.0591 - accuracy: 0.9819 - val_loss: 0.6487 - val_accuracy: 0.8095\n",
            "Epoch 80/200\n",
            "11/11 [==============================] - 0s 8ms/step - loss: 0.0394 - accuracy: 0.9819 - val_loss: 0.5198 - val_accuracy: 0.8333\n",
            "Epoch 81/200\n",
            "11/11 [==============================] - 0s 8ms/step - loss: 0.0433 - accuracy: 0.9940 - val_loss: 0.7099 - val_accuracy: 0.7619\n",
            "Epoch 82/200\n",
            "11/11 [==============================] - 0s 9ms/step - loss: 0.0407 - accuracy: 0.9759 - val_loss: 0.6287 - val_accuracy: 0.8095\n",
            "Epoch 83/200\n",
            "11/11 [==============================] - 0s 7ms/step - loss: 0.0235 - accuracy: 0.9940 - val_loss: 0.4923 - val_accuracy: 0.8571\n",
            "Epoch 84/200\n",
            "11/11 [==============================] - 0s 9ms/step - loss: 0.0109 - accuracy: 1.0000 - val_loss: 0.8751 - val_accuracy: 0.7857\n",
            "Epoch 85/200\n",
            "11/11 [==============================] - 0s 7ms/step - loss: 0.0167 - accuracy: 0.9940 - val_loss: 0.4908 - val_accuracy: 0.9048\n",
            "Epoch 86/200\n",
            "11/11 [==============================] - 0s 10ms/step - loss: 0.0586 - accuracy: 0.9819 - val_loss: 0.8172 - val_accuracy: 0.8333\n",
            "Epoch 87/200\n",
            "11/11 [==============================] - 0s 10ms/step - loss: 0.0127 - accuracy: 0.9940 - val_loss: 0.7414 - val_accuracy: 0.8333\n",
            "Epoch 88/200\n",
            "11/11 [==============================] - 0s 7ms/step - loss: 0.0591 - accuracy: 0.9819 - val_loss: 0.5805 - val_accuracy: 0.9048\n",
            "Epoch 89/200\n",
            "11/11 [==============================] - 0s 7ms/step - loss: 0.0386 - accuracy: 0.9880 - val_loss: 0.9925 - val_accuracy: 0.7619\n",
            "Epoch 90/200\n",
            "11/11 [==============================] - 0s 7ms/step - loss: 0.0543 - accuracy: 0.9759 - val_loss: 0.5947 - val_accuracy: 0.7857\n",
            "Epoch 91/200\n",
            "11/11 [==============================] - 0s 8ms/step - loss: 0.0247 - accuracy: 0.9880 - val_loss: 0.4719 - val_accuracy: 0.8571\n",
            "Epoch 92/200\n",
            "11/11 [==============================] - 0s 8ms/step - loss: 0.0242 - accuracy: 0.9940 - val_loss: 1.2448 - val_accuracy: 0.7381\n",
            "Epoch 93/200\n",
            "11/11 [==============================] - 0s 9ms/step - loss: 0.0318 - accuracy: 0.9819 - val_loss: 0.5416 - val_accuracy: 0.9048\n",
            "Epoch 94/200\n",
            "11/11 [==============================] - 0s 9ms/step - loss: 0.0151 - accuracy: 0.9940 - val_loss: 0.5859 - val_accuracy: 0.8571\n",
            "Epoch 95/200\n",
            "11/11 [==============================] - 0s 9ms/step - loss: 0.0194 - accuracy: 0.9940 - val_loss: 0.4587 - val_accuracy: 0.8810\n",
            "Epoch 96/200\n",
            "11/11 [==============================] - 0s 7ms/step - loss: 0.0505 - accuracy: 0.9819 - val_loss: 0.5653 - val_accuracy: 0.8571\n",
            "Epoch 97/200\n",
            "11/11 [==============================] - 0s 11ms/step - loss: 0.0139 - accuracy: 0.9940 - val_loss: 0.6919 - val_accuracy: 0.8333\n",
            "Epoch 98/200\n",
            "11/11 [==============================] - 0s 9ms/step - loss: 0.0513 - accuracy: 0.9819 - val_loss: 1.3167 - val_accuracy: 0.7619\n",
            "Epoch 99/200\n",
            "11/11 [==============================] - 0s 8ms/step - loss: 0.0213 - accuracy: 0.9880 - val_loss: 1.0014 - val_accuracy: 0.7619\n",
            "Epoch 100/200\n",
            "11/11 [==============================] - 0s 9ms/step - loss: 0.0306 - accuracy: 0.9940 - val_loss: 1.3910 - val_accuracy: 0.7619\n",
            "Epoch 101/200\n",
            "11/11 [==============================] - 0s 7ms/step - loss: 0.0738 - accuracy: 0.9699 - val_loss: 1.1204 - val_accuracy: 0.7857\n",
            "Epoch 102/200\n",
            "11/11 [==============================] - 0s 9ms/step - loss: 0.0323 - accuracy: 0.9759 - val_loss: 0.8040 - val_accuracy: 0.8333\n",
            "Epoch 103/200\n",
            "11/11 [==============================] - 0s 9ms/step - loss: 0.0411 - accuracy: 0.9940 - val_loss: 0.7659 - val_accuracy: 0.8333\n",
            "Epoch 104/200\n",
            "11/11 [==============================] - 0s 7ms/step - loss: 0.0666 - accuracy: 0.9819 - val_loss: 0.6787 - val_accuracy: 0.8333\n",
            "Epoch 105/200\n",
            "11/11 [==============================] - 0s 7ms/step - loss: 0.0325 - accuracy: 0.9819 - val_loss: 0.4512 - val_accuracy: 0.8810\n",
            "Epoch 106/200\n",
            "11/11 [==============================] - 0s 7ms/step - loss: 0.0764 - accuracy: 0.9759 - val_loss: 0.9189 - val_accuracy: 0.7857\n",
            "Epoch 107/200\n",
            "11/11 [==============================] - 0s 12ms/step - loss: 0.0246 - accuracy: 0.9940 - val_loss: 0.6131 - val_accuracy: 0.8810\n",
            "Epoch 108/200\n",
            "11/11 [==============================] - 0s 9ms/step - loss: 0.0274 - accuracy: 0.9880 - val_loss: 0.5069 - val_accuracy: 0.8571\n",
            "Epoch 109/200\n",
            "11/11 [==============================] - 0s 8ms/step - loss: 0.0494 - accuracy: 0.9759 - val_loss: 0.9543 - val_accuracy: 0.7857\n",
            "Epoch 110/200\n",
            "11/11 [==============================] - 0s 7ms/step - loss: 0.0315 - accuracy: 0.9880 - val_loss: 0.5412 - val_accuracy: 0.8810\n",
            "Epoch 111/200\n",
            "11/11 [==============================] - 0s 7ms/step - loss: 0.0481 - accuracy: 0.9880 - val_loss: 0.5570 - val_accuracy: 0.8333\n",
            "Epoch 112/200\n",
            "11/11 [==============================] - 0s 7ms/step - loss: 0.0876 - accuracy: 0.9699 - val_loss: 1.2301 - val_accuracy: 0.7381\n",
            "Epoch 113/200\n",
            "11/11 [==============================] - 0s 8ms/step - loss: 0.0283 - accuracy: 0.9940 - val_loss: 0.5512 - val_accuracy: 0.8571\n",
            "Epoch 114/200\n",
            "11/11 [==============================] - 0s 9ms/step - loss: 0.0188 - accuracy: 0.9940 - val_loss: 0.8454 - val_accuracy: 0.7857\n",
            "Epoch 115/200\n",
            "11/11 [==============================] - 0s 9ms/step - loss: 0.0383 - accuracy: 0.9880 - val_loss: 0.7684 - val_accuracy: 0.8333\n",
            "Epoch 116/200\n",
            "11/11 [==============================] - 0s 7ms/step - loss: 0.0386 - accuracy: 0.9759 - val_loss: 1.0862 - val_accuracy: 0.7619\n",
            "Epoch 117/200\n",
            "11/11 [==============================] - 0s 11ms/step - loss: 0.0527 - accuracy: 0.9759 - val_loss: 0.8011 - val_accuracy: 0.8095\n",
            "Epoch 118/200\n",
            "11/11 [==============================] - 0s 12ms/step - loss: 0.0455 - accuracy: 0.9880 - val_loss: 0.5428 - val_accuracy: 0.8810\n",
            "Epoch 119/200\n",
            "11/11 [==============================] - 0s 7ms/step - loss: 0.0796 - accuracy: 0.9578 - val_loss: 0.7355 - val_accuracy: 0.8095\n",
            "Epoch 120/200\n",
            "11/11 [==============================] - 0s 9ms/step - loss: 0.0493 - accuracy: 0.9880 - val_loss: 0.9754 - val_accuracy: 0.7857\n",
            "Epoch 121/200\n",
            "11/11 [==============================] - 0s 9ms/step - loss: 0.0471 - accuracy: 0.9880 - val_loss: 0.6025 - val_accuracy: 0.8571\n",
            "Epoch 122/200\n",
            "11/11 [==============================] - 0s 9ms/step - loss: 0.0624 - accuracy: 0.9759 - val_loss: 0.7164 - val_accuracy: 0.8095\n",
            "Epoch 123/200\n",
            "11/11 [==============================] - 0s 13ms/step - loss: 0.0109 - accuracy: 1.0000 - val_loss: 0.5413 - val_accuracy: 0.9048\n",
            "Epoch 124/200\n",
            "11/11 [==============================] - 0s 13ms/step - loss: 0.0201 - accuracy: 0.9940 - val_loss: 0.5645 - val_accuracy: 0.8333\n",
            "Epoch 125/200\n",
            "11/11 [==============================] - 0s 18ms/step - loss: 0.0162 - accuracy: 1.0000 - val_loss: 1.0116 - val_accuracy: 0.7857\n",
            "Epoch 126/200\n",
            "11/11 [==============================] - 0s 14ms/step - loss: 0.0266 - accuracy: 0.9880 - val_loss: 0.8136 - val_accuracy: 0.8333\n",
            "Epoch 127/200\n",
            "11/11 [==============================] - 0s 16ms/step - loss: 0.0329 - accuracy: 0.9880 - val_loss: 0.5325 - val_accuracy: 0.8571\n",
            "Epoch 128/200\n",
            "11/11 [==============================] - 0s 14ms/step - loss: 0.0332 - accuracy: 0.9880 - val_loss: 1.3305 - val_accuracy: 0.7619\n",
            "Epoch 129/200\n",
            "11/11 [==============================] - 0s 16ms/step - loss: 0.0216 - accuracy: 0.9819 - val_loss: 0.5747 - val_accuracy: 0.8810\n",
            "Epoch 130/200\n",
            "11/11 [==============================] - 0s 12ms/step - loss: 0.0443 - accuracy: 0.9880 - val_loss: 0.6576 - val_accuracy: 0.8571\n",
            "Epoch 131/200\n",
            "11/11 [==============================] - 0s 11ms/step - loss: 0.0053 - accuracy: 1.0000 - val_loss: 0.7869 - val_accuracy: 0.8333\n",
            "Epoch 132/200\n",
            "11/11 [==============================] - 0s 8ms/step - loss: 0.0401 - accuracy: 0.9819 - val_loss: 0.9380 - val_accuracy: 0.7857\n",
            "Epoch 133/200\n",
            "11/11 [==============================] - 0s 8ms/step - loss: 0.0207 - accuracy: 0.9880 - val_loss: 0.5007 - val_accuracy: 0.9048\n",
            "Epoch 134/200\n",
            "11/11 [==============================] - 0s 8ms/step - loss: 0.0895 - accuracy: 0.9699 - val_loss: 0.8749 - val_accuracy: 0.7857\n",
            "Epoch 135/200\n",
            "11/11 [==============================] - 0s 7ms/step - loss: 0.0336 - accuracy: 0.9940 - val_loss: 1.0206 - val_accuracy: 0.8333\n",
            "Epoch 136/200\n",
            "11/11 [==============================] - 0s 10ms/step - loss: 0.1509 - accuracy: 0.9578 - val_loss: 1.0524 - val_accuracy: 0.8333\n",
            "Epoch 137/200\n",
            "11/11 [==============================] - 0s 8ms/step - loss: 0.1440 - accuracy: 0.9217 - val_loss: 0.7060 - val_accuracy: 0.8333\n",
            "Epoch 138/200\n",
            "11/11 [==============================] - 0s 7ms/step - loss: 0.1486 - accuracy: 0.9518 - val_loss: 0.5374 - val_accuracy: 0.8571\n",
            "Epoch 139/200\n",
            "11/11 [==============================] - 0s 8ms/step - loss: 0.0629 - accuracy: 0.9759 - val_loss: 0.4370 - val_accuracy: 0.8571\n",
            "Epoch 140/200\n",
            "11/11 [==============================] - 0s 10ms/step - loss: 0.0565 - accuracy: 0.9759 - val_loss: 0.6978 - val_accuracy: 0.7857\n",
            "Epoch 141/200\n",
            "11/11 [==============================] - 0s 10ms/step - loss: 0.0400 - accuracy: 0.9880 - val_loss: 0.4530 - val_accuracy: 0.9048\n",
            "Epoch 142/200\n",
            "11/11 [==============================] - 0s 10ms/step - loss: 0.0341 - accuracy: 0.9880 - val_loss: 0.7204 - val_accuracy: 0.8095\n",
            "Epoch 143/200\n",
            "11/11 [==============================] - 0s 8ms/step - loss: 0.0218 - accuracy: 0.9940 - val_loss: 0.6502 - val_accuracy: 0.8095\n",
            "Epoch 144/200\n",
            "11/11 [==============================] - 0s 7ms/step - loss: 0.0370 - accuracy: 0.9759 - val_loss: 0.7765 - val_accuracy: 0.8095\n",
            "Epoch 145/200\n",
            "11/11 [==============================] - 0s 13ms/step - loss: 0.0177 - accuracy: 1.0000 - val_loss: 0.7925 - val_accuracy: 0.8095\n",
            "Epoch 146/200\n",
            "11/11 [==============================] - 0s 12ms/step - loss: 0.0245 - accuracy: 0.9940 - val_loss: 0.7314 - val_accuracy: 0.8571\n",
            "Epoch 147/200\n",
            "11/11 [==============================] - 0s 14ms/step - loss: 0.0480 - accuracy: 0.9759 - val_loss: 0.8565 - val_accuracy: 0.8095\n",
            "Epoch 148/200\n",
            "11/11 [==============================] - 0s 14ms/step - loss: 0.0315 - accuracy: 0.9880 - val_loss: 0.9013 - val_accuracy: 0.8333\n",
            "Epoch 149/200\n",
            "11/11 [==============================] - 0s 24ms/step - loss: 0.0536 - accuracy: 0.9819 - val_loss: 0.4531 - val_accuracy: 0.8810\n",
            "Epoch 150/200\n",
            "11/11 [==============================] - 0s 15ms/step - loss: 0.0098 - accuracy: 0.9940 - val_loss: 0.5330 - val_accuracy: 0.8810\n",
            "Epoch 151/200\n",
            "11/11 [==============================] - 0s 18ms/step - loss: 0.0324 - accuracy: 0.9819 - val_loss: 0.8678 - val_accuracy: 0.8571\n",
            "Epoch 152/200\n",
            "11/11 [==============================] - 0s 14ms/step - loss: 0.0138 - accuracy: 0.9940 - val_loss: 0.7906 - val_accuracy: 0.8571\n",
            "Epoch 153/200\n",
            "11/11 [==============================] - 0s 12ms/step - loss: 0.0382 - accuracy: 0.9940 - val_loss: 1.0388 - val_accuracy: 0.7857\n",
            "Epoch 154/200\n",
            "11/11 [==============================] - 0s 10ms/step - loss: 0.0261 - accuracy: 0.9819 - val_loss: 0.5817 - val_accuracy: 0.9048\n",
            "Epoch 155/200\n",
            "11/11 [==============================] - 0s 11ms/step - loss: 0.0155 - accuracy: 0.9940 - val_loss: 0.7271 - val_accuracy: 0.8333\n",
            "Epoch 156/200\n",
            "11/11 [==============================] - 0s 8ms/step - loss: 0.0269 - accuracy: 0.9940 - val_loss: 0.9473 - val_accuracy: 0.8095\n",
            "Epoch 157/200\n",
            "11/11 [==============================] - 0s 9ms/step - loss: 0.0539 - accuracy: 0.9819 - val_loss: 1.4432 - val_accuracy: 0.7619\n",
            "Epoch 158/200\n",
            "11/11 [==============================] - 0s 14ms/step - loss: 0.0294 - accuracy: 0.9880 - val_loss: 0.6139 - val_accuracy: 0.9048\n",
            "Epoch 159/200\n",
            "11/11 [==============================] - 0s 17ms/step - loss: 0.0489 - accuracy: 0.9880 - val_loss: 0.9260 - val_accuracy: 0.8095\n",
            "Epoch 160/200\n",
            "11/11 [==============================] - 0s 18ms/step - loss: 0.0216 - accuracy: 0.9880 - val_loss: 0.7069 - val_accuracy: 0.8571\n",
            "Epoch 161/200\n",
            "11/11 [==============================] - 0s 30ms/step - loss: 0.0093 - accuracy: 0.9940 - val_loss: 0.6751 - val_accuracy: 0.8810\n",
            "Epoch 162/200\n",
            "11/11 [==============================] - 0s 20ms/step - loss: 0.0224 - accuracy: 0.9880 - val_loss: 0.9662 - val_accuracy: 0.8333\n",
            "Epoch 163/200\n",
            "11/11 [==============================] - 0s 27ms/step - loss: 0.0052 - accuracy: 1.0000 - val_loss: 0.6891 - val_accuracy: 0.8333\n",
            "Epoch 164/200\n",
            "11/11 [==============================] - 0s 25ms/step - loss: 0.0160 - accuracy: 0.9940 - val_loss: 0.9812 - val_accuracy: 0.8095\n",
            "Epoch 165/200\n",
            "11/11 [==============================] - 0s 21ms/step - loss: 0.0053 - accuracy: 1.0000 - val_loss: 0.7026 - val_accuracy: 0.8333\n",
            "Epoch 166/200\n",
            "11/11 [==============================] - 0s 23ms/step - loss: 0.0336 - accuracy: 0.9880 - val_loss: 0.5832 - val_accuracy: 0.8810\n",
            "Epoch 167/200\n",
            "11/11 [==============================] - 0s 12ms/step - loss: 0.0215 - accuracy: 0.9880 - val_loss: 0.9169 - val_accuracy: 0.8571\n",
            "Epoch 168/200\n",
            "11/11 [==============================] - 0s 12ms/step - loss: 0.0241 - accuracy: 0.9880 - val_loss: 0.8813 - val_accuracy: 0.8095\n",
            "Epoch 169/200\n",
            "11/11 [==============================] - 0s 12ms/step - loss: 0.0193 - accuracy: 0.9880 - val_loss: 1.0592 - val_accuracy: 0.7857\n",
            "Epoch 170/200\n",
            "11/11 [==============================] - 0s 15ms/step - loss: 0.0494 - accuracy: 0.9819 - val_loss: 0.7405 - val_accuracy: 0.8571\n",
            "Epoch 171/200\n",
            "11/11 [==============================] - 0s 17ms/step - loss: 0.0022 - accuracy: 1.0000 - val_loss: 0.5640 - val_accuracy: 0.8571\n",
            "Epoch 172/200\n",
            "11/11 [==============================] - 0s 13ms/step - loss: 0.0352 - accuracy: 0.9759 - val_loss: 0.6270 - val_accuracy: 0.8571\n",
            "Epoch 173/200\n",
            "11/11 [==============================] - 0s 13ms/step - loss: 0.0628 - accuracy: 0.9759 - val_loss: 0.4762 - val_accuracy: 0.8810\n",
            "Epoch 174/200\n",
            "11/11 [==============================] - 0s 12ms/step - loss: 0.0218 - accuracy: 0.9940 - val_loss: 0.4932 - val_accuracy: 0.8571\n",
            "Epoch 175/200\n",
            "11/11 [==============================] - 0s 13ms/step - loss: 0.0469 - accuracy: 0.9880 - val_loss: 0.4413 - val_accuracy: 0.9286\n",
            "Epoch 176/200\n",
            "11/11 [==============================] - 0s 14ms/step - loss: 0.0420 - accuracy: 0.9880 - val_loss: 0.5636 - val_accuracy: 0.8810\n",
            "Epoch 177/200\n",
            "11/11 [==============================] - 0s 13ms/step - loss: 0.0271 - accuracy: 0.9819 - val_loss: 0.8712 - val_accuracy: 0.8571\n",
            "Epoch 178/200\n",
            "11/11 [==============================] - 0s 15ms/step - loss: 0.0612 - accuracy: 0.9759 - val_loss: 0.6262 - val_accuracy: 0.8810\n",
            "Epoch 179/200\n",
            "11/11 [==============================] - 0s 11ms/step - loss: 0.0356 - accuracy: 0.9880 - val_loss: 0.5532 - val_accuracy: 0.8810\n",
            "Epoch 180/200\n",
            "11/11 [==============================] - 0s 14ms/step - loss: 0.0083 - accuracy: 1.0000 - val_loss: 0.6356 - val_accuracy: 0.8333\n",
            "Epoch 181/200\n",
            "11/11 [==============================] - 0s 13ms/step - loss: 0.0279 - accuracy: 0.9880 - val_loss: 0.6689 - val_accuracy: 0.8095\n",
            "Epoch 182/200\n",
            "11/11 [==============================] - 0s 13ms/step - loss: 0.0360 - accuracy: 0.9880 - val_loss: 0.8368 - val_accuracy: 0.8095\n",
            "Epoch 183/200\n",
            "11/11 [==============================] - 0s 14ms/step - loss: 0.0021 - accuracy: 1.0000 - val_loss: 0.7980 - val_accuracy: 0.8810\n",
            "Epoch 184/200\n",
            "11/11 [==============================] - 0s 14ms/step - loss: 0.0057 - accuracy: 1.0000 - val_loss: 0.7237 - val_accuracy: 0.8810\n",
            "Epoch 185/200\n",
            "11/11 [==============================] - 0s 12ms/step - loss: 0.0427 - accuracy: 0.9880 - val_loss: 1.0518 - val_accuracy: 0.8095\n",
            "Epoch 186/200\n",
            "11/11 [==============================] - 0s 7ms/step - loss: 0.0133 - accuracy: 1.0000 - val_loss: 0.9905 - val_accuracy: 0.8095\n",
            "Epoch 187/200\n",
            "11/11 [==============================] - 0s 9ms/step - loss: 0.0208 - accuracy: 0.9880 - val_loss: 0.7332 - val_accuracy: 0.8571\n",
            "Epoch 188/200\n",
            "11/11 [==============================] - 0s 7ms/step - loss: 0.0245 - accuracy: 0.9880 - val_loss: 1.0823 - val_accuracy: 0.7857\n",
            "Epoch 189/200\n",
            "11/11 [==============================] - 0s 7ms/step - loss: 0.0154 - accuracy: 0.9940 - val_loss: 0.7222 - val_accuracy: 0.8333\n",
            "Epoch 190/200\n",
            "11/11 [==============================] - 0s 8ms/step - loss: 0.0059 - accuracy: 1.0000 - val_loss: 0.5764 - val_accuracy: 0.9048\n",
            "Epoch 191/200\n",
            "11/11 [==============================] - 0s 8ms/step - loss: 0.0067 - accuracy: 0.9940 - val_loss: 0.7651 - val_accuracy: 0.8095\n",
            "Epoch 192/200\n",
            "11/11 [==============================] - 0s 11ms/step - loss: 0.0030 - accuracy: 1.0000 - val_loss: 0.6556 - val_accuracy: 0.8333\n",
            "Epoch 193/200\n",
            "11/11 [==============================] - 0s 8ms/step - loss: 0.0012 - accuracy: 1.0000 - val_loss: 0.5392 - val_accuracy: 0.8810\n",
            "Epoch 194/200\n",
            "11/11 [==============================] - 0s 9ms/step - loss: 0.0018 - accuracy: 1.0000 - val_loss: 0.6931 - val_accuracy: 0.8333\n",
            "Epoch 195/200\n",
            "11/11 [==============================] - 0s 9ms/step - loss: 0.0020 - accuracy: 1.0000 - val_loss: 0.7139 - val_accuracy: 0.8333\n",
            "Epoch 196/200\n",
            "11/11 [==============================] - 0s 7ms/step - loss: 0.0037 - accuracy: 1.0000 - val_loss: 0.6121 - val_accuracy: 0.8810\n",
            "Epoch 197/200\n",
            "11/11 [==============================] - 0s 7ms/step - loss: 0.0048 - accuracy: 1.0000 - val_loss: 0.8210 - val_accuracy: 0.8333\n",
            "Epoch 198/200\n",
            "11/11 [==============================] - 0s 7ms/step - loss: 0.0039 - accuracy: 1.0000 - val_loss: 1.0827 - val_accuracy: 0.8095\n",
            "Epoch 199/200\n",
            "11/11 [==============================] - 0s 7ms/step - loss: 0.0164 - accuracy: 0.9880 - val_loss: 0.8133 - val_accuracy: 0.8571\n",
            "Epoch 200/200\n",
            "11/11 [==============================] - 0s 7ms/step - loss: 0.0238 - accuracy: 0.9940 - val_loss: 0.8691 - val_accuracy: 0.8571\n"
          ]
        }
      ]
    },
    {
      "cell_type": "code",
      "source": [
        "# 시각화\n",
        "import matplotlib.pyplot as plt\n",
        "\n",
        "plt.plot(h4.history['accuracy'], label = \"train\")\n",
        "plt.plot(h4.history['val_accuracy'], label = \"test\")\n",
        "plt.legend()\n",
        "plt.show()\n",
        "\n",
        "plt.plot(h4.history['loss'], label = \"train\")\n",
        "plt.plot(h4.history['val_loss'], label = \"test\")\n",
        "plt.legend()\n",
        "plt.show()"
      ],
      "metadata": {
        "colab": {
          "base_uri": "https://localhost:8080/",
          "height": 843
        },
        "id": "b7pb3aqHsng-",
        "outputId": "00108391-9af7-4f32-abf8-326de442fa59"
      },
      "execution_count": 136,
      "outputs": [
        {
          "output_type": "display_data",
          "data": {
            "text/plain": [
              "<Figure size 640x480 with 1 Axes>"
            ],
            "image/png": "[encoded data removed]"
          },
          "metadata": {}
        },
        {
          "output_type": "display_data",
          "data": {
            "text/plain": [
              "<Figure size 640x480 with 1 Axes>"
            ],
            "image/png": "[encoded data removed]"
          },
          "metadata": {}
        }
      ]
    },
    {
      "cell_type": "code",
      "source": [],
      "metadata": {
        "id": "2V7MOGpqvO82"
      },
      "execution_count": null,
      "outputs": []
    },
    {
      "cell_type": "code",
      "source": [
        "from tensorflow.keras.models import Sequential\n",
        "from tensorflow.keras.layers import Dense\n",
        "\n",
        "model5 = Sequential()\n",
        "\n",
        "# 입력층\n",
        "model5.add(Dense(512, activation='relu', input_dim=60))\n",
        "\n",
        "# 은닉층\n",
        "model5.add(Dense(256, activation = 'relu'))\n",
        "model5.add(Dense(128, activation = 'relu'))\n",
        "model5.add(Dense(64, activation = 'relu'))\n",
        "\n",
        "# 출력층\n",
        "# 원핫 인코딩하지 않았기 때문에 -> 퍼셉트론 수 1, 활성화함수 sigmoid\n",
        "# 원핫 인코딩 했다면 -> 퍼셉트론 수 2, 활성화함수 softmax\n",
        "model5.add(Dense(1, activation = 'sigmoid'))\n",
        "\n",
        "model5.summary()"
      ],
      "metadata": {
        "colab": {
          "base_uri": "https://localhost:8080/"
        },
        "id": "mz_8mtmruQEB",
        "outputId": "540bf022-95bf-4c79-e2ab-85d542d79e95"
      },
      "execution_count": 137,
      "outputs": [
        {
          "output_type": "stream",
          "name": "stdout",
          "text": [
            "Model: \"sequential_8\"\n",
            "_________________________________________________________________\n",
            " Layer (type)                Output Shape              Param #   \n",
            "=================================================================\n",
            " dense_24 (Dense)            (None, 512)               31232     \n",
            "                                                                 \n",
            " dense_25 (Dense)            (None, 256)               131328    \n",
            "                                                                 \n",
            " dense_26 (Dense)            (None, 128)               32896     \n",
            "                                                                 \n",
            " dense_27 (Dense)            (None, 64)                8256      \n",
            "                                                                 \n",
            " dense_28 (Dense)            (None, 1)                 65        \n",
            "                                                                 \n",
            "=================================================================\n",
            "Total params: 203777 (796.00 KB)\n",
            "Trainable params: 203777 (796.00 KB)\n",
            "Non-trainable params: 0 (0.00 Byte)\n",
            "_________________________________________________________________\n"
          ]
        }
      ]
    },
    {
      "cell_type": "code",
      "source": [
        "model5.compile(optimizer='adam', loss='binary_crossentropy', metrics=['accuracy'])"
      ],
      "metadata": {
        "id": "YzB-MEb6uQGc"
      },
      "execution_count": 138,
      "outputs": []
    },
    {
      "cell_type": "code",
      "source": [
        "h5 = model5.fit(X_train,y_train, epochs=200, batch_size=16,\n",
        "              validation_data=(X_test, y_test))"
      ],
      "metadata": {
        "colab": {
          "base_uri": "https://localhost:8080/"
        },
        "id": "IxJPcQwguaUB",
        "outputId": "833fbcf2-a7b4-43c5-b51b-c0de836deb09"
      },
      "execution_count": 139,
      "outputs": [
        {
          "output_type": "stream",
          "name": "stdout",
          "text": [
            "Epoch 1/200\n",
            "11/11 [==============================] - 1s 28ms/step - loss: 0.6877 - accuracy: 0.5301 - val_loss: 0.6632 - val_accuracy: 0.5952\n",
            "Epoch 2/200\n",
            "11/11 [==============================] - 0s 8ms/step - loss: 0.6103 - accuracy: 0.7169 - val_loss: 0.6521 - val_accuracy: 0.6905\n",
            "Epoch 3/200\n",
            "11/11 [==============================] - 0s 8ms/step - loss: 0.4992 - accuracy: 0.7952 - val_loss: 0.6080 - val_accuracy: 0.7381\n",
            "Epoch 4/200\n",
            "11/11 [==============================] - 0s 7ms/step - loss: 0.4421 - accuracy: 0.7530 - val_loss: 0.5776 - val_accuracy: 0.7381\n",
            "Epoch 5/200\n",
            "11/11 [==============================] - 0s 8ms/step - loss: 0.4106 - accuracy: 0.8193 - val_loss: 0.5063 - val_accuracy: 0.7857\n",
            "Epoch 6/200\n",
            "11/11 [==============================] - 0s 8ms/step - loss: 0.4105 - accuracy: 0.8133 - val_loss: 0.5295 - val_accuracy: 0.6667\n",
            "Epoch 7/200\n",
            "11/11 [==============================] - 0s 7ms/step - loss: 0.3185 - accuracy: 0.8795 - val_loss: 0.5284 - val_accuracy: 0.7143\n",
            "Epoch 8/200\n",
            "11/11 [==============================] - 0s 14ms/step - loss: 0.2830 - accuracy: 0.8916 - val_loss: 0.4391 - val_accuracy: 0.7857\n",
            "Epoch 9/200\n",
            "11/11 [==============================] - 0s 12ms/step - loss: 0.2773 - accuracy: 0.8675 - val_loss: 0.5166 - val_accuracy: 0.7619\n",
            "Epoch 10/200\n",
            "11/11 [==============================] - 0s 16ms/step - loss: 0.3068 - accuracy: 0.8614 - val_loss: 0.5146 - val_accuracy: 0.7381\n",
            "Epoch 11/200\n",
            "11/11 [==============================] - 0s 13ms/step - loss: 0.2569 - accuracy: 0.8675 - val_loss: 0.5316 - val_accuracy: 0.7857\n",
            "Epoch 12/200\n",
            "11/11 [==============================] - 0s 13ms/step - loss: 0.1956 - accuracy: 0.9277 - val_loss: 0.4230 - val_accuracy: 0.8095\n",
            "Epoch 13/200\n",
            "11/11 [==============================] - 0s 17ms/step - loss: 0.1903 - accuracy: 0.9096 - val_loss: 0.4591 - val_accuracy: 0.7619\n",
            "Epoch 14/200\n",
            "11/11 [==============================] - 0s 19ms/step - loss: 0.1648 - accuracy: 0.9398 - val_loss: 0.7205 - val_accuracy: 0.7381\n",
            "Epoch 15/200\n",
            "11/11 [==============================] - 0s 23ms/step - loss: 0.1509 - accuracy: 0.9458 - val_loss: 0.4042 - val_accuracy: 0.8810\n",
            "Epoch 16/200\n",
            "11/11 [==============================] - 0s 26ms/step - loss: 0.1275 - accuracy: 0.9578 - val_loss: 0.4225 - val_accuracy: 0.8095\n",
            "Epoch 17/200\n",
            "11/11 [==============================] - 0s 18ms/step - loss: 0.0848 - accuracy: 0.9819 - val_loss: 0.6037 - val_accuracy: 0.8095\n",
            "Epoch 18/200\n",
            "11/11 [==============================] - 0s 27ms/step - loss: 0.0801 - accuracy: 0.9819 - val_loss: 0.5260 - val_accuracy: 0.7857\n",
            "Epoch 19/200\n",
            "11/11 [==============================] - 0s 28ms/step - loss: 0.0721 - accuracy: 0.9819 - val_loss: 0.7727 - val_accuracy: 0.7619\n",
            "Epoch 20/200\n",
            "11/11 [==============================] - 0s 25ms/step - loss: 0.1237 - accuracy: 0.9578 - val_loss: 0.5015 - val_accuracy: 0.8333\n",
            "Epoch 21/200\n",
            "11/11 [==============================] - 0s 28ms/step - loss: 0.1008 - accuracy: 0.9578 - val_loss: 0.8466 - val_accuracy: 0.7143\n",
            "Epoch 22/200\n",
            "11/11 [==============================] - 0s 13ms/step - loss: 0.0479 - accuracy: 0.9880 - val_loss: 0.6529 - val_accuracy: 0.7857\n",
            "Epoch 23/200\n",
            "11/11 [==============================] - 0s 23ms/step - loss: 0.0310 - accuracy: 0.9940 - val_loss: 0.6984 - val_accuracy: 0.8095\n",
            "Epoch 24/200\n",
            "11/11 [==============================] - 0s 24ms/step - loss: 0.0750 - accuracy: 0.9819 - val_loss: 0.3972 - val_accuracy: 0.8571\n",
            "Epoch 25/200\n",
            "11/11 [==============================] - 0s 22ms/step - loss: 0.0449 - accuracy: 0.9819 - val_loss: 0.3883 - val_accuracy: 0.8810\n",
            "Epoch 26/200\n",
            "11/11 [==============================] - 0s 28ms/step - loss: 0.1322 - accuracy: 0.9578 - val_loss: 0.6724 - val_accuracy: 0.8095\n",
            "Epoch 27/200\n",
            "11/11 [==============================] - 0s 33ms/step - loss: 0.1013 - accuracy: 0.9639 - val_loss: 0.4771 - val_accuracy: 0.8571\n",
            "Epoch 28/200\n",
            "11/11 [==============================] - 0s 32ms/step - loss: 0.0338 - accuracy: 0.9940 - val_loss: 0.8197 - val_accuracy: 0.7619\n",
            "Epoch 29/200\n",
            "11/11 [==============================] - 0s 28ms/step - loss: 0.0313 - accuracy: 0.9940 - val_loss: 0.7028 - val_accuracy: 0.7857\n",
            "Epoch 30/200\n",
            "11/11 [==============================] - 0s 27ms/step - loss: 0.0293 - accuracy: 0.9819 - val_loss: 0.6991 - val_accuracy: 0.7619\n",
            "Epoch 31/200\n",
            "11/11 [==============================] - 0s 19ms/step - loss: 0.0118 - accuracy: 1.0000 - val_loss: 0.4554 - val_accuracy: 0.8571\n",
            "Epoch 32/200\n",
            "11/11 [==============================] - 0s 19ms/step - loss: 0.0109 - accuracy: 1.0000 - val_loss: 0.8926 - val_accuracy: 0.7619\n",
            "Epoch 33/200\n",
            "11/11 [==============================] - 0s 7ms/step - loss: 0.0078 - accuracy: 1.0000 - val_loss: 0.5100 - val_accuracy: 0.8571\n",
            "Epoch 34/200\n",
            "11/11 [==============================] - 0s 7ms/step - loss: 0.0081 - accuracy: 1.0000 - val_loss: 0.7476 - val_accuracy: 0.7857\n",
            "Epoch 35/200\n",
            "11/11 [==============================] - 0s 9ms/step - loss: 0.0028 - accuracy: 1.0000 - val_loss: 0.5851 - val_accuracy: 0.8333\n",
            "Epoch 36/200\n",
            "11/11 [==============================] - 0s 20ms/step - loss: 0.0018 - accuracy: 1.0000 - val_loss: 0.6932 - val_accuracy: 0.8095\n",
            "Epoch 37/200\n",
            "11/11 [==============================] - 0s 16ms/step - loss: 0.0017 - accuracy: 1.0000 - val_loss: 0.6775 - val_accuracy: 0.7857\n",
            "Epoch 38/200\n",
            "11/11 [==============================] - 0s 12ms/step - loss: 0.0014 - accuracy: 1.0000 - val_loss: 0.6117 - val_accuracy: 0.8333\n",
            "Epoch 39/200\n",
            "11/11 [==============================] - 0s 12ms/step - loss: 0.0010 - accuracy: 1.0000 - val_loss: 0.7301 - val_accuracy: 0.8095\n",
            "Epoch 40/200\n",
            "11/11 [==============================] - 0s 13ms/step - loss: 9.0589e-04 - accuracy: 1.0000 - val_loss: 0.7027 - val_accuracy: 0.8095\n",
            "Epoch 41/200\n",
            "11/11 [==============================] - 0s 17ms/step - loss: 7.8327e-04 - accuracy: 1.0000 - val_loss: 0.6974 - val_accuracy: 0.8095\n",
            "Epoch 42/200\n",
            "11/11 [==============================] - 0s 13ms/step - loss: 7.2456e-04 - accuracy: 1.0000 - val_loss: 0.7179 - val_accuracy: 0.8095\n",
            "Epoch 43/200\n",
            "11/11 [==============================] - 0s 17ms/step - loss: 6.5912e-04 - accuracy: 1.0000 - val_loss: 0.6985 - val_accuracy: 0.8095\n",
            "Epoch 44/200\n",
            "11/11 [==============================] - 0s 13ms/step - loss: 6.0457e-04 - accuracy: 1.0000 - val_loss: 0.7268 - val_accuracy: 0.8095\n",
            "Epoch 45/200\n",
            "11/11 [==============================] - 0s 11ms/step - loss: 5.6542e-04 - accuracy: 1.0000 - val_loss: 0.7428 - val_accuracy: 0.8095\n",
            "Epoch 46/200\n",
            "11/11 [==============================] - 0s 8ms/step - loss: 5.3895e-04 - accuracy: 1.0000 - val_loss: 0.7201 - val_accuracy: 0.8095\n",
            "Epoch 47/200\n",
            "11/11 [==============================] - 0s 8ms/step - loss: 4.9183e-04 - accuracy: 1.0000 - val_loss: 0.7351 - val_accuracy: 0.8095\n",
            "Epoch 48/200\n",
            "11/11 [==============================] - 0s 8ms/step - loss: 4.6617e-04 - accuracy: 1.0000 - val_loss: 0.7485 - val_accuracy: 0.8095\n",
            "Epoch 49/200\n",
            "11/11 [==============================] - 0s 9ms/step - loss: 4.6363e-04 - accuracy: 1.0000 - val_loss: 0.7187 - val_accuracy: 0.8095\n",
            "Epoch 50/200\n",
            "11/11 [==============================] - 0s 18ms/step - loss: 4.0274e-04 - accuracy: 1.0000 - val_loss: 0.7613 - val_accuracy: 0.8095\n",
            "Epoch 51/200\n",
            "11/11 [==============================] - 0s 16ms/step - loss: 3.7333e-04 - accuracy: 1.0000 - val_loss: 0.7777 - val_accuracy: 0.8095\n",
            "Epoch 52/200\n",
            "11/11 [==============================] - 0s 14ms/step - loss: 3.5061e-04 - accuracy: 1.0000 - val_loss: 0.7528 - val_accuracy: 0.8095\n",
            "Epoch 53/200\n",
            "11/11 [==============================] - 0s 12ms/step - loss: 3.1350e-04 - accuracy: 1.0000 - val_loss: 0.7828 - val_accuracy: 0.8095\n",
            "Epoch 54/200\n",
            "11/11 [==============================] - 0s 14ms/step - loss: 2.8790e-04 - accuracy: 1.0000 - val_loss: 0.7828 - val_accuracy: 0.8095\n",
            "Epoch 55/200\n",
            "11/11 [==============================] - 0s 14ms/step - loss: 2.5692e-04 - accuracy: 1.0000 - val_loss: 0.7791 - val_accuracy: 0.8095\n",
            "Epoch 56/200\n",
            "11/11 [==============================] - 0s 14ms/step - loss: 2.3343e-04 - accuracy: 1.0000 - val_loss: 0.7848 - val_accuracy: 0.8095\n",
            "Epoch 57/200\n",
            "11/11 [==============================] - 0s 16ms/step - loss: 2.1128e-04 - accuracy: 1.0000 - val_loss: 0.8268 - val_accuracy: 0.8095\n",
            "Epoch 58/200\n",
            "11/11 [==============================] - 0s 15ms/step - loss: 1.8210e-04 - accuracy: 1.0000 - val_loss: 0.7904 - val_accuracy: 0.8095\n",
            "Epoch 59/200\n",
            "11/11 [==============================] - 0s 13ms/step - loss: 1.5709e-04 - accuracy: 1.0000 - val_loss: 0.8271 - val_accuracy: 0.8095\n",
            "Epoch 60/200\n",
            "11/11 [==============================] - 0s 12ms/step - loss: 1.3751e-04 - accuracy: 1.0000 - val_loss: 0.8364 - val_accuracy: 0.8095\n",
            "Epoch 61/200\n",
            "11/11 [==============================] - 0s 17ms/step - loss: 1.2124e-04 - accuracy: 1.0000 - val_loss: 0.8385 - val_accuracy: 0.8095\n",
            "Epoch 62/200\n",
            "11/11 [==============================] - 0s 26ms/step - loss: 1.0948e-04 - accuracy: 1.0000 - val_loss: 0.8616 - val_accuracy: 0.8095\n",
            "Epoch 63/200\n",
            "11/11 [==============================] - 0s 26ms/step - loss: 9.6575e-05 - accuracy: 1.0000 - val_loss: 0.8724 - val_accuracy: 0.8095\n",
            "Epoch 64/200\n",
            "11/11 [==============================] - 0s 30ms/step - loss: 8.5470e-05 - accuracy: 1.0000 - val_loss: 0.8712 - val_accuracy: 0.8095\n",
            "Epoch 65/200\n",
            "11/11 [==============================] - 0s 26ms/step - loss: 7.7234e-05 - accuracy: 1.0000 - val_loss: 0.8717 - val_accuracy: 0.8095\n",
            "Epoch 66/200\n",
            "11/11 [==============================] - 0s 27ms/step - loss: 6.9217e-05 - accuracy: 1.0000 - val_loss: 0.8959 - val_accuracy: 0.8095\n",
            "Epoch 67/200\n",
            "11/11 [==============================] - 0s 26ms/step - loss: 6.2594e-05 - accuracy: 1.0000 - val_loss: 0.9189 - val_accuracy: 0.8095\n",
            "Epoch 68/200\n",
            "11/11 [==============================] - 0s 22ms/step - loss: 5.7229e-05 - accuracy: 1.0000 - val_loss: 0.9148 - val_accuracy: 0.8095\n",
            "Epoch 69/200\n",
            "11/11 [==============================] - 0s 15ms/step - loss: 5.2102e-05 - accuracy: 1.0000 - val_loss: 0.9170 - val_accuracy: 0.8095\n",
            "Epoch 70/200\n",
            "11/11 [==============================] - 0s 13ms/step - loss: 4.7755e-05 - accuracy: 1.0000 - val_loss: 0.9374 - val_accuracy: 0.8095\n",
            "Epoch 71/200\n",
            "11/11 [==============================] - 0s 21ms/step - loss: 4.4262e-05 - accuracy: 1.0000 - val_loss: 0.9720 - val_accuracy: 0.8095\n",
            "Epoch 72/200\n",
            "11/11 [==============================] - 0s 13ms/step - loss: 4.0917e-05 - accuracy: 1.0000 - val_loss: 0.9553 - val_accuracy: 0.8095\n",
            "Epoch 73/200\n",
            "11/11 [==============================] - 0s 12ms/step - loss: 3.7178e-05 - accuracy: 1.0000 - val_loss: 0.9522 - val_accuracy: 0.8095\n",
            "Epoch 74/200\n",
            "11/11 [==============================] - 0s 14ms/step - loss: 3.4584e-05 - accuracy: 1.0000 - val_loss: 0.9610 - val_accuracy: 0.8095\n",
            "Epoch 75/200\n",
            "11/11 [==============================] - 0s 17ms/step - loss: 3.2440e-05 - accuracy: 1.0000 - val_loss: 0.9828 - val_accuracy: 0.8095\n",
            "Epoch 76/200\n",
            "11/11 [==============================] - 0s 11ms/step - loss: 3.0135e-05 - accuracy: 1.0000 - val_loss: 0.9745 - val_accuracy: 0.8095\n",
            "Epoch 77/200\n",
            "11/11 [==============================] - 0s 17ms/step - loss: 2.8106e-05 - accuracy: 1.0000 - val_loss: 0.9883 - val_accuracy: 0.8095\n",
            "Epoch 78/200\n",
            "11/11 [==============================] - 0s 12ms/step - loss: 2.6243e-05 - accuracy: 1.0000 - val_loss: 0.9947 - val_accuracy: 0.8095\n",
            "Epoch 79/200\n",
            "11/11 [==============================] - 0s 13ms/step - loss: 2.4664e-05 - accuracy: 1.0000 - val_loss: 1.0052 - val_accuracy: 0.8095\n",
            "Epoch 80/200\n",
            "11/11 [==============================] - 0s 18ms/step - loss: 2.3258e-05 - accuracy: 1.0000 - val_loss: 1.0124 - val_accuracy: 0.8095\n",
            "Epoch 81/200\n",
            "11/11 [==============================] - 0s 13ms/step - loss: 2.1961e-05 - accuracy: 1.0000 - val_loss: 1.0084 - val_accuracy: 0.8095\n",
            "Epoch 82/200\n",
            "11/11 [==============================] - 0s 12ms/step - loss: 2.0725e-05 - accuracy: 1.0000 - val_loss: 1.0272 - val_accuracy: 0.8095\n",
            "Epoch 83/200\n",
            "11/11 [==============================] - 0s 13ms/step - loss: 1.9579e-05 - accuracy: 1.0000 - val_loss: 1.0281 - val_accuracy: 0.8095\n",
            "Epoch 84/200\n",
            "11/11 [==============================] - 0s 14ms/step - loss: 1.8585e-05 - accuracy: 1.0000 - val_loss: 1.0315 - val_accuracy: 0.8095\n",
            "Epoch 85/200\n",
            "11/11 [==============================] - 0s 16ms/step - loss: 1.7666e-05 - accuracy: 1.0000 - val_loss: 1.0444 - val_accuracy: 0.8095\n",
            "Epoch 86/200\n",
            "11/11 [==============================] - 0s 14ms/step - loss: 1.6516e-05 - accuracy: 1.0000 - val_loss: 1.0335 - val_accuracy: 0.8095\n",
            "Epoch 87/200\n",
            "11/11 [==============================] - 0s 15ms/step - loss: 1.5883e-05 - accuracy: 1.0000 - val_loss: 1.0430 - val_accuracy: 0.8095\n",
            "Epoch 88/200\n",
            "11/11 [==============================] - 0s 15ms/step - loss: 1.5261e-05 - accuracy: 1.0000 - val_loss: 1.0619 - val_accuracy: 0.8095\n",
            "Epoch 89/200\n",
            "11/11 [==============================] - 0s 22ms/step - loss: 1.4306e-05 - accuracy: 1.0000 - val_loss: 1.0629 - val_accuracy: 0.8095\n",
            "Epoch 90/200\n",
            "11/11 [==============================] - 0s 27ms/step - loss: 1.3677e-05 - accuracy: 1.0000 - val_loss: 1.0579 - val_accuracy: 0.8095\n",
            "Epoch 91/200\n",
            "11/11 [==============================] - 0s 24ms/step - loss: 1.3259e-05 - accuracy: 1.0000 - val_loss: 1.0764 - val_accuracy: 0.8095\n",
            "Epoch 92/200\n",
            "11/11 [==============================] - 0s 24ms/step - loss: 1.2675e-05 - accuracy: 1.0000 - val_loss: 1.0652 - val_accuracy: 0.8095\n",
            "Epoch 93/200\n",
            "11/11 [==============================] - 0s 26ms/step - loss: 1.1919e-05 - accuracy: 1.0000 - val_loss: 1.0832 - val_accuracy: 0.8095\n",
            "Epoch 94/200\n",
            "11/11 [==============================] - 0s 23ms/step - loss: 1.1651e-05 - accuracy: 1.0000 - val_loss: 1.1164 - val_accuracy: 0.8095\n",
            "Epoch 95/200\n",
            "11/11 [==============================] - 0s 13ms/step - loss: 1.1063e-05 - accuracy: 1.0000 - val_loss: 1.1070 - val_accuracy: 0.8095\n",
            "Epoch 96/200\n",
            "11/11 [==============================] - 0s 12ms/step - loss: 1.0424e-05 - accuracy: 1.0000 - val_loss: 1.0920 - val_accuracy: 0.8095\n",
            "Epoch 97/200\n",
            "11/11 [==============================] - 0s 13ms/step - loss: 1.0077e-05 - accuracy: 1.0000 - val_loss: 1.0970 - val_accuracy: 0.8095\n",
            "Epoch 98/200\n",
            "11/11 [==============================] - 0s 13ms/step - loss: 9.6285e-06 - accuracy: 1.0000 - val_loss: 1.1047 - val_accuracy: 0.8095\n",
            "Epoch 99/200\n",
            "11/11 [==============================] - 0s 11ms/step - loss: 9.2639e-06 - accuracy: 1.0000 - val_loss: 1.0978 - val_accuracy: 0.8095\n",
            "Epoch 100/200\n",
            "11/11 [==============================] - 0s 14ms/step - loss: 8.8954e-06 - accuracy: 1.0000 - val_loss: 1.1058 - val_accuracy: 0.8095\n",
            "Epoch 101/200\n",
            "11/11 [==============================] - 0s 13ms/step - loss: 8.6887e-06 - accuracy: 1.0000 - val_loss: 1.1248 - val_accuracy: 0.8095\n",
            "Epoch 102/200\n",
            "11/11 [==============================] - 0s 12ms/step - loss: 8.2421e-06 - accuracy: 1.0000 - val_loss: 1.1238 - val_accuracy: 0.8095\n",
            "Epoch 103/200\n",
            "11/11 [==============================] - 0s 14ms/step - loss: 8.0028e-06 - accuracy: 1.0000 - val_loss: 1.1197 - val_accuracy: 0.8095\n",
            "Epoch 104/200\n",
            "11/11 [==============================] - 0s 12ms/step - loss: 7.6326e-06 - accuracy: 1.0000 - val_loss: 1.1352 - val_accuracy: 0.8095\n",
            "Epoch 105/200\n",
            "11/11 [==============================] - 0s 12ms/step - loss: 7.4206e-06 - accuracy: 1.0000 - val_loss: 1.1407 - val_accuracy: 0.8095\n",
            "Epoch 106/200\n",
            "11/11 [==============================] - 0s 12ms/step - loss: 7.2422e-06 - accuracy: 1.0000 - val_loss: 1.1490 - val_accuracy: 0.8095\n",
            "Epoch 107/200\n",
            "11/11 [==============================] - 0s 12ms/step - loss: 6.8672e-06 - accuracy: 1.0000 - val_loss: 1.1386 - val_accuracy: 0.8095\n",
            "Epoch 108/200\n",
            "11/11 [==============================] - 0s 13ms/step - loss: 6.7038e-06 - accuracy: 1.0000 - val_loss: 1.1323 - val_accuracy: 0.8095\n",
            "Epoch 109/200\n",
            "11/11 [==============================] - 0s 13ms/step - loss: 6.4691e-06 - accuracy: 1.0000 - val_loss: 1.1441 - val_accuracy: 0.8095\n",
            "Epoch 110/200\n",
            "11/11 [==============================] - 0s 12ms/step - loss: 6.2545e-06 - accuracy: 1.0000 - val_loss: 1.1573 - val_accuracy: 0.8095\n",
            "Epoch 111/200\n",
            "11/11 [==============================] - 0s 13ms/step - loss: 6.0335e-06 - accuracy: 1.0000 - val_loss: 1.1569 - val_accuracy: 0.8095\n",
            "Epoch 112/200\n",
            "11/11 [==============================] - 0s 13ms/step - loss: 5.9309e-06 - accuracy: 1.0000 - val_loss: 1.1515 - val_accuracy: 0.8095\n",
            "Epoch 113/200\n",
            "11/11 [==============================] - 0s 12ms/step - loss: 5.8810e-06 - accuracy: 1.0000 - val_loss: 1.1871 - val_accuracy: 0.8095\n",
            "Epoch 114/200\n",
            "11/11 [==============================] - 0s 12ms/step - loss: 5.5658e-06 - accuracy: 1.0000 - val_loss: 1.1781 - val_accuracy: 0.8095\n",
            "Epoch 115/200\n",
            "11/11 [==============================] - 0s 13ms/step - loss: 5.3448e-06 - accuracy: 1.0000 - val_loss: 1.1784 - val_accuracy: 0.8095\n",
            "Epoch 116/200\n",
            "11/11 [==============================] - 0s 12ms/step - loss: 5.1493e-06 - accuracy: 1.0000 - val_loss: 1.1737 - val_accuracy: 0.8095\n",
            "Epoch 117/200\n",
            "11/11 [==============================] - 0s 15ms/step - loss: 5.0934e-06 - accuracy: 1.0000 - val_loss: 1.1647 - val_accuracy: 0.8095\n",
            "Epoch 118/200\n",
            "11/11 [==============================] - 0s 12ms/step - loss: 4.8924e-06 - accuracy: 1.0000 - val_loss: 1.1739 - val_accuracy: 0.8095\n",
            "Epoch 119/200\n",
            "11/11 [==============================] - 0s 12ms/step - loss: 4.7762e-06 - accuracy: 1.0000 - val_loss: 1.1855 - val_accuracy: 0.8095\n",
            "Epoch 120/200\n",
            "11/11 [==============================] - 0s 7ms/step - loss: 4.6215e-06 - accuracy: 1.0000 - val_loss: 1.1880 - val_accuracy: 0.8095\n",
            "Epoch 121/200\n",
            "11/11 [==============================] - 0s 7ms/step - loss: 4.4988e-06 - accuracy: 1.0000 - val_loss: 1.1916 - val_accuracy: 0.8095\n",
            "Epoch 122/200\n",
            "11/11 [==============================] - 0s 8ms/step - loss: 4.3765e-06 - accuracy: 1.0000 - val_loss: 1.1910 - val_accuracy: 0.8095\n",
            "Epoch 123/200\n",
            "11/11 [==============================] - 0s 7ms/step - loss: 4.2633e-06 - accuracy: 1.0000 - val_loss: 1.1920 - val_accuracy: 0.8095\n",
            "Epoch 124/200\n",
            "11/11 [==============================] - 0s 7ms/step - loss: 4.1419e-06 - accuracy: 1.0000 - val_loss: 1.1953 - val_accuracy: 0.8095\n",
            "Epoch 125/200\n",
            "11/11 [==============================] - 0s 10ms/step - loss: 4.0401e-06 - accuracy: 1.0000 - val_loss: 1.2012 - val_accuracy: 0.8095\n",
            "Epoch 126/200\n",
            "11/11 [==============================] - 0s 9ms/step - loss: 3.9340e-06 - accuracy: 1.0000 - val_loss: 1.2025 - val_accuracy: 0.8095\n",
            "Epoch 127/200\n",
            "11/11 [==============================] - 0s 8ms/step - loss: 3.8296e-06 - accuracy: 1.0000 - val_loss: 1.2057 - val_accuracy: 0.8095\n",
            "Epoch 128/200\n",
            "11/11 [==============================] - 0s 9ms/step - loss: 3.7483e-06 - accuracy: 1.0000 - val_loss: 1.2044 - val_accuracy: 0.8095\n",
            "Epoch 129/200\n",
            "11/11 [==============================] - 0s 8ms/step - loss: 3.6473e-06 - accuracy: 1.0000 - val_loss: 1.2112 - val_accuracy: 0.8095\n",
            "Epoch 130/200\n",
            "11/11 [==============================] - 0s 8ms/step - loss: 3.5634e-06 - accuracy: 1.0000 - val_loss: 1.2137 - val_accuracy: 0.8095\n",
            "Epoch 131/200\n",
            "11/11 [==============================] - 0s 7ms/step - loss: 3.4842e-06 - accuracy: 1.0000 - val_loss: 1.2162 - val_accuracy: 0.8095\n",
            "Epoch 132/200\n",
            "11/11 [==============================] - 0s 7ms/step - loss: 3.3944e-06 - accuracy: 1.0000 - val_loss: 1.2145 - val_accuracy: 0.8095\n",
            "Epoch 133/200\n",
            "11/11 [==============================] - 0s 8ms/step - loss: 3.3214e-06 - accuracy: 1.0000 - val_loss: 1.2168 - val_accuracy: 0.8095\n",
            "Epoch 134/200\n",
            "11/11 [==============================] - 0s 8ms/step - loss: 3.2375e-06 - accuracy: 1.0000 - val_loss: 1.2241 - val_accuracy: 0.8095\n",
            "Epoch 135/200\n",
            "11/11 [==============================] - 0s 8ms/step - loss: 3.1698e-06 - accuracy: 1.0000 - val_loss: 1.2300 - val_accuracy: 0.8095\n",
            "Epoch 136/200\n",
            "11/11 [==============================] - 0s 10ms/step - loss: 3.1022e-06 - accuracy: 1.0000 - val_loss: 1.2276 - val_accuracy: 0.8095\n",
            "Epoch 137/200\n",
            "11/11 [==============================] - 0s 11ms/step - loss: 3.0130e-06 - accuracy: 1.0000 - val_loss: 1.2308 - val_accuracy: 0.8095\n",
            "Epoch 138/200\n",
            "11/11 [==============================] - 0s 7ms/step - loss: 2.9695e-06 - accuracy: 1.0000 - val_loss: 1.2260 - val_accuracy: 0.8095\n",
            "Epoch 139/200\n",
            "11/11 [==============================] - 0s 7ms/step - loss: 2.8800e-06 - accuracy: 1.0000 - val_loss: 1.2324 - val_accuracy: 0.8095\n",
            "Epoch 140/200\n",
            "11/11 [==============================] - 0s 7ms/step - loss: 2.8231e-06 - accuracy: 1.0000 - val_loss: 1.2351 - val_accuracy: 0.8095\n",
            "Epoch 141/200\n",
            "11/11 [==============================] - 0s 7ms/step - loss: 2.7598e-06 - accuracy: 1.0000 - val_loss: 1.2446 - val_accuracy: 0.8095\n",
            "Epoch 142/200\n",
            "11/11 [==============================] - 0s 7ms/step - loss: 2.7084e-06 - accuracy: 1.0000 - val_loss: 1.2469 - val_accuracy: 0.8095\n",
            "Epoch 143/200\n",
            "11/11 [==============================] - 0s 8ms/step - loss: 2.6118e-06 - accuracy: 1.0000 - val_loss: 1.2441 - val_accuracy: 0.8095\n",
            "Epoch 144/200\n",
            "11/11 [==============================] - 0s 7ms/step - loss: 2.5613e-06 - accuracy: 1.0000 - val_loss: 1.2449 - val_accuracy: 0.8095\n",
            "Epoch 145/200\n",
            "11/11 [==============================] - 0s 7ms/step - loss: 2.5056e-06 - accuracy: 1.0000 - val_loss: 1.2385 - val_accuracy: 0.8095\n",
            "Epoch 146/200\n",
            "11/11 [==============================] - 0s 8ms/step - loss: 2.4370e-06 - accuracy: 1.0000 - val_loss: 1.2417 - val_accuracy: 0.8095\n",
            "Epoch 147/200\n",
            "11/11 [==============================] - 0s 10ms/step - loss: 2.4092e-06 - accuracy: 1.0000 - val_loss: 1.2553 - val_accuracy: 0.8095\n",
            "Epoch 148/200\n",
            "11/11 [==============================] - 0s 10ms/step - loss: 2.3056e-06 - accuracy: 1.0000 - val_loss: 1.2571 - val_accuracy: 0.8095\n",
            "Epoch 149/200\n",
            "11/11 [==============================] - 0s 8ms/step - loss: 2.2473e-06 - accuracy: 1.0000 - val_loss: 1.2692 - val_accuracy: 0.8095\n",
            "Epoch 150/200\n",
            "11/11 [==============================] - 0s 7ms/step - loss: 2.1809e-06 - accuracy: 1.0000 - val_loss: 1.2716 - val_accuracy: 0.8095\n",
            "Epoch 151/200\n",
            "11/11 [==============================] - 0s 7ms/step - loss: 2.1244e-06 - accuracy: 1.0000 - val_loss: 1.2728 - val_accuracy: 0.8095\n",
            "Epoch 152/200\n",
            "11/11 [==============================] - 0s 9ms/step - loss: 2.0639e-06 - accuracy: 1.0000 - val_loss: 1.2699 - val_accuracy: 0.8095\n",
            "Epoch 153/200\n",
            "11/11 [==============================] - 0s 7ms/step - loss: 2.0210e-06 - accuracy: 1.0000 - val_loss: 1.2676 - val_accuracy: 0.8095\n",
            "Epoch 154/200\n",
            "11/11 [==============================] - 0s 7ms/step - loss: 1.9872e-06 - accuracy: 1.0000 - val_loss: 1.2798 - val_accuracy: 0.8095\n",
            "Epoch 155/200\n",
            "11/11 [==============================] - 0s 7ms/step - loss: 1.9181e-06 - accuracy: 1.0000 - val_loss: 1.2691 - val_accuracy: 0.8095\n",
            "Epoch 156/200\n",
            "11/11 [==============================] - 0s 9ms/step - loss: 1.8654e-06 - accuracy: 1.0000 - val_loss: 1.2731 - val_accuracy: 0.8095\n",
            "Epoch 157/200\n",
            "11/11 [==============================] - 0s 7ms/step - loss: 1.7998e-06 - accuracy: 1.0000 - val_loss: 1.2855 - val_accuracy: 0.8095\n",
            "Epoch 158/200\n",
            "11/11 [==============================] - 0s 10ms/step - loss: 1.7522e-06 - accuracy: 1.0000 - val_loss: 1.2911 - val_accuracy: 0.8095\n",
            "Epoch 159/200\n",
            "11/11 [==============================] - 0s 9ms/step - loss: 1.7309e-06 - accuracy: 1.0000 - val_loss: 1.2835 - val_accuracy: 0.8095\n",
            "Epoch 160/200\n",
            "11/11 [==============================] - 0s 8ms/step - loss: 1.6239e-06 - accuracy: 1.0000 - val_loss: 1.3072 - val_accuracy: 0.8095\n",
            "Epoch 161/200\n",
            "11/11 [==============================] - 0s 8ms/step - loss: 1.6366e-06 - accuracy: 1.0000 - val_loss: 1.3143 - val_accuracy: 0.8095\n",
            "Epoch 162/200\n",
            "11/11 [==============================] - 0s 7ms/step - loss: 1.5452e-06 - accuracy: 1.0000 - val_loss: 1.3035 - val_accuracy: 0.8095\n",
            "Epoch 163/200\n",
            "11/11 [==============================] - 0s 9ms/step - loss: 1.5082e-06 - accuracy: 1.0000 - val_loss: 1.3068 - val_accuracy: 0.8095\n",
            "Epoch 164/200\n",
            "11/11 [==============================] - 0s 10ms/step - loss: 1.4608e-06 - accuracy: 1.0000 - val_loss: 1.3070 - val_accuracy: 0.8095\n",
            "Epoch 165/200\n",
            "11/11 [==============================] - 0s 8ms/step - loss: 1.4114e-06 - accuracy: 1.0000 - val_loss: 1.3125 - val_accuracy: 0.8095\n",
            "Epoch 166/200\n",
            "11/11 [==============================] - 0s 7ms/step - loss: 1.3950e-06 - accuracy: 1.0000 - val_loss: 1.3359 - val_accuracy: 0.8095\n",
            "Epoch 167/200\n",
            "11/11 [==============================] - 0s 8ms/step - loss: 1.3429e-06 - accuracy: 1.0000 - val_loss: 1.3328 - val_accuracy: 0.8095\n",
            "Epoch 168/200\n",
            "11/11 [==============================] - 0s 10ms/step - loss: 1.2777e-06 - accuracy: 1.0000 - val_loss: 1.3225 - val_accuracy: 0.8095\n",
            "Epoch 169/200\n",
            "11/11 [==============================] - 0s 10ms/step - loss: 1.2420e-06 - accuracy: 1.0000 - val_loss: 1.3256 - val_accuracy: 0.8095\n",
            "Epoch 170/200\n",
            "11/11 [==============================] - 0s 7ms/step - loss: 1.1980e-06 - accuracy: 1.0000 - val_loss: 1.3352 - val_accuracy: 0.8095\n",
            "Epoch 171/200\n",
            "11/11 [==============================] - 0s 7ms/step - loss: 1.1617e-06 - accuracy: 1.0000 - val_loss: 1.3349 - val_accuracy: 0.8095\n",
            "Epoch 172/200\n",
            "11/11 [==============================] - 0s 7ms/step - loss: 1.1223e-06 - accuracy: 1.0000 - val_loss: 1.3339 - val_accuracy: 0.8095\n",
            "Epoch 173/200\n",
            "11/11 [==============================] - 0s 8ms/step - loss: 1.0902e-06 - accuracy: 1.0000 - val_loss: 1.3309 - val_accuracy: 0.8095\n",
            "Epoch 174/200\n",
            "11/11 [==============================] - 0s 8ms/step - loss: 1.0560e-06 - accuracy: 1.0000 - val_loss: 1.3356 - val_accuracy: 0.8095\n",
            "Epoch 175/200\n",
            "11/11 [==============================] - 0s 8ms/step - loss: 1.0286e-06 - accuracy: 1.0000 - val_loss: 1.3344 - val_accuracy: 0.8095\n",
            "Epoch 176/200\n",
            "11/11 [==============================] - 0s 8ms/step - loss: 9.9937e-07 - accuracy: 1.0000 - val_loss: 1.3482 - val_accuracy: 0.8095\n",
            "Epoch 177/200\n",
            "11/11 [==============================] - 0s 7ms/step - loss: 9.7923e-07 - accuracy: 1.0000 - val_loss: 1.3458 - val_accuracy: 0.8095\n",
            "Epoch 178/200\n",
            "11/11 [==============================] - 0s 8ms/step - loss: 9.4071e-07 - accuracy: 1.0000 - val_loss: 1.3514 - val_accuracy: 0.8095\n",
            "Epoch 179/200\n",
            "11/11 [==============================] - 0s 12ms/step - loss: 9.1343e-07 - accuracy: 1.0000 - val_loss: 1.3556 - val_accuracy: 0.8095\n",
            "Epoch 180/200\n",
            "11/11 [==============================] - 0s 9ms/step - loss: 8.8955e-07 - accuracy: 1.0000 - val_loss: 1.3630 - val_accuracy: 0.8095\n",
            "Epoch 181/200\n",
            "11/11 [==============================] - 0s 9ms/step - loss: 8.6900e-07 - accuracy: 1.0000 - val_loss: 1.3590 - val_accuracy: 0.8095\n",
            "Epoch 182/200\n",
            "11/11 [==============================] - 0s 7ms/step - loss: 8.5247e-07 - accuracy: 1.0000 - val_loss: 1.3708 - val_accuracy: 0.8095\n",
            "Epoch 183/200\n",
            "11/11 [==============================] - 0s 7ms/step - loss: 8.2360e-07 - accuracy: 1.0000 - val_loss: 1.3644 - val_accuracy: 0.8095\n",
            "Epoch 184/200\n",
            "11/11 [==============================] - 0s 8ms/step - loss: 8.0248e-07 - accuracy: 1.0000 - val_loss: 1.3693 - val_accuracy: 0.8095\n",
            "Epoch 185/200\n",
            "11/11 [==============================] - 0s 7ms/step - loss: 7.8342e-07 - accuracy: 1.0000 - val_loss: 1.3705 - val_accuracy: 0.8095\n",
            "Epoch 186/200\n",
            "11/11 [==============================] - 0s 7ms/step - loss: 7.6878e-07 - accuracy: 1.0000 - val_loss: 1.3899 - val_accuracy: 0.8095\n",
            "Epoch 187/200\n",
            "11/11 [==============================] - 0s 7ms/step - loss: 7.4199e-07 - accuracy: 1.0000 - val_loss: 1.3709 - val_accuracy: 0.8095\n",
            "Epoch 188/200\n",
            "11/11 [==============================] - 0s 7ms/step - loss: 7.2094e-07 - accuracy: 1.0000 - val_loss: 1.3775 - val_accuracy: 0.8095\n",
            "Epoch 189/200\n",
            "11/11 [==============================] - 0s 9ms/step - loss: 6.9806e-07 - accuracy: 1.0000 - val_loss: 1.3867 - val_accuracy: 0.8095\n",
            "Epoch 190/200\n",
            "11/11 [==============================] - 0s 12ms/step - loss: 6.8395e-07 - accuracy: 1.0000 - val_loss: 1.3875 - val_accuracy: 0.8095\n",
            "Epoch 191/200\n",
            "11/11 [==============================] - 0s 7ms/step - loss: 6.6747e-07 - accuracy: 1.0000 - val_loss: 1.4030 - val_accuracy: 0.8095\n",
            "Epoch 192/200\n",
            "11/11 [==============================] - 0s 7ms/step - loss: 6.4890e-07 - accuracy: 1.0000 - val_loss: 1.3977 - val_accuracy: 0.8095\n",
            "Epoch 193/200\n",
            "11/11 [==============================] - 0s 7ms/step - loss: 6.3581e-07 - accuracy: 1.0000 - val_loss: 1.3949 - val_accuracy: 0.8095\n",
            "Epoch 194/200\n",
            "11/11 [==============================] - 0s 7ms/step - loss: 6.1745e-07 - accuracy: 1.0000 - val_loss: 1.3973 - val_accuracy: 0.8095\n",
            "Epoch 195/200\n",
            "11/11 [==============================] - 0s 8ms/step - loss: 6.0379e-07 - accuracy: 1.0000 - val_loss: 1.4085 - val_accuracy: 0.8095\n",
            "Epoch 196/200\n",
            "11/11 [==============================] - 0s 9ms/step - loss: 5.9243e-07 - accuracy: 1.0000 - val_loss: 1.4057 - val_accuracy: 0.8095\n",
            "Epoch 197/200\n",
            "11/11 [==============================] - 0s 9ms/step - loss: 5.8195e-07 - accuracy: 1.0000 - val_loss: 1.4312 - val_accuracy: 0.8095\n",
            "Epoch 198/200\n",
            "11/11 [==============================] - 0s 9ms/step - loss: 5.6795e-07 - accuracy: 1.0000 - val_loss: 1.4201 - val_accuracy: 0.8095\n",
            "Epoch 199/200\n",
            "11/11 [==============================] - 0s 9ms/step - loss: 5.4609e-07 - accuracy: 1.0000 - val_loss: 1.4141 - val_accuracy: 0.8095\n",
            "Epoch 200/200\n",
            "11/11 [==============================] - 0s 11ms/step - loss: 5.3489e-07 - accuracy: 1.0000 - val_loss: 1.4249 - val_accuracy: 0.8095\n"
          ]
        }
      ]
    },
    {
      "cell_type": "code",
      "source": [
        "# 시각화\n",
        "import matplotlib.pyplot as plt\n",
        "\n",
        "plt.plot(h5.history['accuracy'], label = \"train\")\n",
        "plt.plot(h5.history['val_accuracy'], label = \"test\")\n",
        "plt.legend()\n",
        "plt.show()\n",
        "\n",
        "plt.plot(h5.history['loss'], label = \"train\")\n",
        "plt.plot(h5.history['val_loss'], label = \"test\")\n",
        "plt.legend()\n",
        "plt.show()"
      ],
      "metadata": {
        "colab": {
          "base_uri": "https://localhost:8080/",
          "height": 843
        },
        "id": "QZH2dGgcuimw",
        "outputId": "86b21fd5-b79a-4917-f66f-c0e1b5138b39"
      },
      "execution_count": 141,
      "outputs": [
        {
          "output_type": "display_data",
          "data": {
            "text/plain": [
              "<Figure size 640x480 with 1 Axes>"
            ],
            "image/png": "[encoded data removed]"
          },
          "metadata": {}
        },
        {
          "output_type": "display_data",
          "data": {
            "text/plain": [
              "<Figure size 640x480 with 1 Axes>"
            ],
            "image/png": "[encoded data removed]"
          },
          "metadata": {}
        }
      ]
    }
  ]
}