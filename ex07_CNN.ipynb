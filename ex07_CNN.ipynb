{
  "nbformat": 4,
  "nbformat_minor": 0,
  "metadata": {
    "colab": {
      "provenance": []
    },
    "kernelspec": {
      "name": "python3",
      "display_name": "Python 3"
    },
    "language_info": {
      "name": "python"
    }
  },
  "cells": [
    {
      "cell_type": "code",
      "source": [
        "from google.colab import drive\n",
        "drive.mount('/content/drive')"
      ],
      "metadata": {
        "colab": {
          "base_uri": "https://localhost:8080/"
        },
        "id": "eSTZ7DgPs8f7",
        "outputId": "55ff22fc-84f8-4e54-b431-b15c98e4a67e"
      },
      "execution_count": 1,
      "outputs": [
        {
          "output_type": "stream",
          "name": "stdout",
          "text": [
            "Drive already mounted at /content/drive; to attempt to forcibly remount, call drive.mount(\"/content/drive\", force_remount=True).\n"
          ]
        }
      ]
    },
    {
      "cell_type": "code",
      "source": [
        "%cd /content/drive/MyDrive/Colab Notebooks/딥러닝"
      ],
      "metadata": {
        "colab": {
          "base_uri": "https://localhost:8080/"
        },
        "id": "ynJfi5ROs-BM",
        "outputId": "ff2f499f-da9e-4125-ac83-1e04da21ef93"
      },
      "execution_count": 2,
      "outputs": [
        {
          "output_type": "stream",
          "name": "stdout",
          "text": [
            "/content/drive/MyDrive/Colab Notebooks/딥러닝\n"
          ]
        }
      ]
    },
    {
      "cell_type": "markdown",
      "source": [
        "## 학습 목표\n",
        "- CNN으로 특성을 추출해서 손글씨 숫자 데이터 분류"
      ],
      "metadata": {
        "id": "dhaxg77gsxsk"
      }
    },
    {
      "cell_type": "markdown",
      "source": [
        "- CNN 층\n",
        "  - Conv2D() : 특성 추출기\n",
        "  - MaxPooling2D() : 크기 축소\n",
        "  - Flatten() : 특성 이미지를 1차원으로 변환"
      ],
      "metadata": {
        "id": "D-kMlI6us_aO"
      }
    },
    {
      "cell_type": "code",
      "source": [
        "from tensorflow.keras.datasets import mnist\n",
        "\n",
        "(X_train, y_train), (X_test, y_test) = mnist.load_data()\n",
        "\n",
        "X_train.shape, X_test.shape"
      ],
      "metadata": {
        "colab": {
          "base_uri": "https://localhost:8080/"
        },
        "id": "E-2-VzXns4fq",
        "outputId": "c471fc98-e36d-41c6-c4a2-d6d0cc3e4027"
      },
      "execution_count": 16,
      "outputs": [
        {
          "output_type": "execute_result",
          "data": {
            "text/plain": [
              "((60000, 28, 28), (10000, 28, 28))"
            ]
          },
          "metadata": {},
          "execution_count": 16
        }
      ]
    },
    {
      "cell_type": "code",
      "source": [
        "import numpy as np\n",
        "import tensorflow as tf\n",
        "\n",
        "seed = 0\n",
        "np.random.seed(seed)\n",
        "tf.random.set_seed(seed)"
      ],
      "metadata": {
        "id": "9DYrW7Kzs4iO"
      },
      "execution_count": 17,
      "outputs": []
    },
    {
      "cell_type": "markdown",
      "source": [
        "- 데이터 전처리"
      ],
      "metadata": {
        "id": "9TMxYzNeuVH9"
      }
    },
    {
      "cell_type": "code",
      "source": [
        "# 스케일링\n",
        "X_train = X_train / 255.0\n",
        "X_test = X_test / 255.0"
      ],
      "metadata": {
        "id": "euWchSeIs4kj"
      },
      "execution_count": 18,
      "outputs": []
    },
    {
      "cell_type": "code",
      "source": [
        "X_train.shape, X_test.shape"
      ],
      "metadata": {
        "colab": {
          "base_uri": "https://localhost:8080/"
        },
        "id": "olMd3noss4mp",
        "outputId": "2e13c2da-ae38-4f89-e516-d8ed84d83907"
      },
      "execution_count": 19,
      "outputs": [
        {
          "output_type": "execute_result",
          "data": {
            "text/plain": [
              "((60000, 28, 28), (10000, 28, 28))"
            ]
          },
          "metadata": {},
          "execution_count": 19
        }
      ]
    },
    {
      "cell_type": "code",
      "source": [
        "# CNN에 입력으로 하려면 색상 차원이 필요 (흑백 1, 컬러 3)\n",
        "X_train = X_train.reshape(-1, 28, 28, 1)\n",
        "X_test = X_test.reshape(-1, 28, 28, 1)\n",
        "\n",
        "X_train.shape, X_test.shape"
      ],
      "metadata": {
        "colab": {
          "base_uri": "https://localhost:8080/"
        },
        "id": "ti3KEZwtubRw",
        "outputId": "5debfc83-1533-4d82-b9c6-9e2a636da95a"
      },
      "execution_count": 20,
      "outputs": [
        {
          "output_type": "execute_result",
          "data": {
            "text/plain": [
              "((60000, 28, 28, 1), (10000, 28, 28, 1))"
            ]
          },
          "metadata": {},
          "execution_count": 20
        }
      ]
    },
    {
      "cell_type": "markdown",
      "source": [
        "- 샘플링 : 일부 데이터만 이용해서 학습\n",
        "  - 중요 특성만 뽑기 때문에 데이터의 수가 적어도 잘 분류하는지 확인"
      ],
      "metadata": {
        "id": "kGpsirPFvGqK"
      }
    },
    {
      "cell_type": "code",
      "source": [
        "X_train = X_train[:3000]\n",
        "y_train = y_train[:3000]\n",
        "X_test = X_test[:900]\n",
        "y_test = y_test[:900]\n",
        "\n",
        "X_train.shape, X_test.shape"
      ],
      "metadata": {
        "colab": {
          "base_uri": "https://localhost:8080/"
        },
        "id": "wFwWeY88ubUB",
        "outputId": "52943b95-1752-4357-8228-fed420c83168"
      },
      "execution_count": 21,
      "outputs": [
        {
          "output_type": "execute_result",
          "data": {
            "text/plain": [
              "((3000, 28, 28, 1), (900, 28, 28, 1))"
            ]
          },
          "metadata": {},
          "execution_count": 21
        }
      ]
    },
    {
      "cell_type": "markdown",
      "source": [
        "- 라벨 원핫 인코딩"
      ],
      "metadata": {
        "id": "O9N8Qa2_vkUZ"
      }
    },
    {
      "cell_type": "code",
      "source": [
        "from tensorflow.keras.utils import to_categorical\n",
        "\n",
        "y_train_oh = to_categorical(y_train)\n",
        "y_test_oh = to_categorical(y_test)\n",
        "\n",
        "y_train_oh.shape, y_test_oh.shape"
      ],
      "metadata": {
        "colab": {
          "base_uri": "https://localhost:8080/"
        },
        "id": "WDNiOVj2ubWB",
        "outputId": "88969c70-9167-4607-9a5d-0449cec7ab2d"
      },
      "execution_count": 22,
      "outputs": [
        {
          "output_type": "execute_result",
          "data": {
            "text/plain": [
              "((3000, 10), (900, 10))"
            ]
          },
          "metadata": {},
          "execution_count": 22
        }
      ]
    },
    {
      "cell_type": "markdown",
      "source": [
        "- 특성 추출기(CNN) + 분류기 (Dense) 신경망 설계"
      ],
      "metadata": {
        "id": "LUBOphbAwi1n"
      }
    },
    {
      "cell_type": "code",
      "source": [
        "from tensorflow.keras.models import Sequential\n",
        "from tensorflow.keras.layers import Conv2D, MaxPooling2D, Flatten, Dense\n",
        "\n",
        "model = Sequential()\n",
        "\n",
        "# Conv2D() : 특성 추출기\n",
        "# C-C-M / C-C-C-M -> Conv2D 층을 두 개 이상 쌓고 MaxPooling을 하나 쌓는 것이 일반적\n",
        "model.add(Conv2D(filters=32, kernel_size=(3,3), activation=\"relu\",\n",
        "                 input_shape=(28,28,1)))\n",
        "\n",
        "# MaxPooling() : 특성 이미지 축소\n",
        "model.add(MaxPooling2D(pool_size=(2,2)))\n",
        "\n",
        "# Flatten() : 특성 이미지를 1차원으로 변환\n",
        "model.add(Flatten())\n",
        "\n",
        "# 분류기\n",
        "model.add(Dense(units=512, activation=\"relu\"))\n",
        "model.add(Dense(units=10, activation=\"softmax\"))\n",
        "\n",
        "model.summary()"
      ],
      "metadata": {
        "colab": {
          "base_uri": "https://localhost:8080/"
        },
        "id": "-P4gfuLjubZZ",
        "outputId": "70b12336-a400-409a-d8c8-a35e8b84349c"
      },
      "execution_count": 23,
      "outputs": [
        {
          "output_type": "stream",
          "name": "stdout",
          "text": [
            "Model: \"sequential_2\"\n",
            "_________________________________________________________________\n",
            " Layer (type)                Output Shape              Param #   \n",
            "=================================================================\n",
            " conv2d_3 (Conv2D)           (None, 26, 26, 32)        320       \n",
            "                                                                 \n",
            " max_pooling2d_2 (MaxPoolin  (None, 13, 13, 32)        0         \n",
            " g2D)                                                            \n",
            "                                                                 \n",
            " flatten_2 (Flatten)         (None, 5408)              0         \n",
            "                                                                 \n",
            " dense_4 (Dense)             (None, 512)               2769408   \n",
            "                                                                 \n",
            " dense_5 (Dense)             (None, 10)                5130      \n",
            "                                                                 \n",
            "=================================================================\n",
            "Total params: 2774858 (10.59 MB)\n",
            "Trainable params: 2774858 (10.59 MB)\n",
            "Non-trainable params: 0 (0.00 Byte)\n",
            "_________________________________________________________________\n"
          ]
        }
      ]
    },
    {
      "cell_type": "code",
      "source": [
        "from tensorflow.keras.models import Sequential\n",
        "from tensorflow.keras.layers import Conv2D, MaxPooling2D, Flatten, Dense\n",
        "\n",
        "model2 = Sequential()\n",
        "\n",
        "# Conv2D() : 특성 추출기\n",
        "# C-C-M / C-C-C-M -> Conv2D 층을 두 개 이상 쌓고 MaxPooling을 하나 쌓는 것이 일반적\n",
        "model2.add(Conv2D(filters=32, kernel_size=(3,3), activation=\"relu\",\n",
        "                 input_shape=(28,28,1)))\n",
        "model2.add(Conv2D(filters=32, kernel_size=(3,3), activation=\"relu\"))\n",
        "\n",
        "# MaxPooling() : 특성 이미지 축소\n",
        "model2.add(MaxPooling2D(pool_size=(2,2)))\n",
        "\n",
        "# Flatten() : 특성 이미지를 1차원으로 변환\n",
        "model2.add(Flatten())\n",
        "\n",
        "# 분류기\n",
        "model2.add(Dense(units=512, activation=\"relu\"))\n",
        "model2.add(Dense(units=10, activation=\"softmax\"))\n",
        "\n",
        "model2.summary()"
      ],
      "metadata": {
        "colab": {
          "base_uri": "https://localhost:8080/"
        },
        "id": "_Wz3ahlFubcp",
        "outputId": "2bf8feb8-9437-462b-fe98-d0d03a6c1067"
      },
      "execution_count": 24,
      "outputs": [
        {
          "output_type": "stream",
          "name": "stdout",
          "text": [
            "Model: \"sequential_3\"\n",
            "_________________________________________________________________\n",
            " Layer (type)                Output Shape              Param #   \n",
            "=================================================================\n",
            " conv2d_4 (Conv2D)           (None, 26, 26, 32)        320       \n",
            "                                                                 \n",
            " conv2d_5 (Conv2D)           (None, 24, 24, 32)        9248      \n",
            "                                                                 \n",
            " max_pooling2d_3 (MaxPoolin  (None, 12, 12, 32)        0         \n",
            " g2D)                                                            \n",
            "                                                                 \n",
            " flatten_3 (Flatten)         (None, 4608)              0         \n",
            "                                                                 \n",
            " dense_6 (Dense)             (None, 512)               2359808   \n",
            "                                                                 \n",
            " dense_7 (Dense)             (None, 10)                5130      \n",
            "                                                                 \n",
            "=================================================================\n",
            "Total params: 2374506 (9.06 MB)\n",
            "Trainable params: 2374506 (9.06 MB)\n",
            "Non-trainable params: 0 (0.00 Byte)\n",
            "_________________________________________________________________\n"
          ]
        }
      ]
    },
    {
      "cell_type": "code",
      "source": [
        "model.compile(optimizer='adam', loss='categorical_crossentropy',\n",
        "              metrics=['accuracy'])"
      ],
      "metadata": {
        "id": "68YZx44b1wRw"
      },
      "execution_count": 25,
      "outputs": []
    },
    {
      "cell_type": "markdown",
      "source": [
        "- 베스트 모델 저장, 학습 중단 기능 추가"
      ],
      "metadata": {
        "id": "gojspKsf2Ru4"
      }
    },
    {
      "cell_type": "code",
      "source": [
        "from tensorflow.keras.callbacks import ModelCheckpoint, EarlyStopping\n",
        "\n",
        "file_name = './model/model_cnn_{epoch:02d}_{loss:.3f}_{val_loss:.3f}.hdf5'\n",
        "\n",
        "mc = ModelCheckpoint(filepath=file_name, monitor='val_loss',\n",
        "                             verbose=1, save_best_only=True)\n",
        "\n",
        "es = EarlyStopping(monitor='val_loss', patience=10)\n",
        "\n",
        "h1 = model.fit(X_train, y_train_oh, epochs=30, batch_size=32,\n",
        "               validation_data=(X_test, y_test_oh), callbacks=[mc,es])"
      ],
      "metadata": {
        "colab": {
          "base_uri": "https://localhost:8080/"
        },
        "id": "KJgP9hcP1wWx",
        "outputId": "de0166bd-4142-4cea-f902-04ff963d037e"
      },
      "execution_count": 26,
      "outputs": [
        {
          "output_type": "stream",
          "name": "stdout",
          "text": [
            "Epoch 1/30\n",
            "94/94 [==============================] - ETA: 0s - loss: 0.5526 - accuracy: 0.8387\n",
            "Epoch 1: val_loss improved from inf to 0.30844, saving model to ./model/model_cnn_01_0.553_0.308.hdf5\n",
            "94/94 [==============================] - 8s 78ms/step - loss: 0.5526 - accuracy: 0.8387 - val_loss: 0.3084 - val_accuracy: 0.9067\n",
            "Epoch 2/30\n",
            "93/94 [============================>.] - ETA: 0s - loss: 0.1626 - accuracy: 0.9530\n",
            "Epoch 2: val_loss improved from 0.30844 to 0.23240, saving model to ./model/model_cnn_02_0.162_0.232.hdf5\n",
            "94/94 [==============================] - 5s 50ms/step - loss: 0.1616 - accuracy: 0.9533 - val_loss: 0.2324 - val_accuracy: 0.9311\n",
            "Epoch 3/30\n",
            "94/94 [==============================] - ETA: 0s - loss: 0.0907 - accuracy: 0.9750\n",
            "Epoch 3: val_loss improved from 0.23240 to 0.16626, saving model to ./model/model_cnn_03_0.091_0.166.hdf5\n",
            "94/94 [==============================] - 6s 65ms/step - loss: 0.0907 - accuracy: 0.9750 - val_loss: 0.1663 - val_accuracy: 0.9444\n",
            "Epoch 4/30\n",
            "93/94 [============================>.] - ETA: 0s - loss: 0.0427 - accuracy: 0.9896\n",
            "Epoch 4: val_loss improved from 0.16626 to 0.16103, saving model to ./model/model_cnn_04_0.042_0.161.hdf5\n",
            "94/94 [==============================] - 5s 57ms/step - loss: 0.0425 - accuracy: 0.9897 - val_loss: 0.1610 - val_accuracy: 0.9533\n",
            "Epoch 5/30\n",
            "94/94 [==============================] - ETA: 0s - loss: 0.0207 - accuracy: 0.9957\n",
            "Epoch 5: val_loss did not improve from 0.16103\n",
            "94/94 [==============================] - 5s 49ms/step - loss: 0.0207 - accuracy: 0.9957 - val_loss: 0.1722 - val_accuracy: 0.9522\n",
            "Epoch 6/30\n",
            "94/94 [==============================] - ETA: 0s - loss: 0.0092 - accuracy: 0.9987\n",
            "Epoch 6: val_loss improved from 0.16103 to 0.15115, saving model to ./model/model_cnn_06_0.009_0.151.hdf5\n",
            "94/94 [==============================] - 7s 72ms/step - loss: 0.0092 - accuracy: 0.9987 - val_loss: 0.1512 - val_accuracy: 0.9622\n",
            "Epoch 7/30\n",
            "93/94 [============================>.] - ETA: 0s - loss: 0.0034 - accuracy: 1.0000\n",
            "Epoch 7: val_loss did not improve from 0.15115\n",
            "94/94 [==============================] - 5s 48ms/step - loss: 0.0034 - accuracy: 1.0000 - val_loss: 0.1551 - val_accuracy: 0.9611\n",
            "Epoch 8/30\n",
            "94/94 [==============================] - ETA: 0s - loss: 0.0019 - accuracy: 1.0000\n",
            "Epoch 8: val_loss did not improve from 0.15115\n",
            "94/94 [==============================] - 5s 48ms/step - loss: 0.0019 - accuracy: 1.0000 - val_loss: 0.1570 - val_accuracy: 0.9600\n",
            "Epoch 9/30\n",
            "94/94 [==============================] - ETA: 0s - loss: 0.0013 - accuracy: 1.0000\n",
            "Epoch 9: val_loss did not improve from 0.15115\n",
            "94/94 [==============================] - 7s 78ms/step - loss: 0.0013 - accuracy: 1.0000 - val_loss: 0.1629 - val_accuracy: 0.9611\n",
            "Epoch 10/30\n",
            "93/94 [============================>.] - ETA: 0s - loss: 0.0010 - accuracy: 1.0000\n",
            "Epoch 10: val_loss did not improve from 0.15115\n",
            "94/94 [==============================] - 6s 68ms/step - loss: 0.0010 - accuracy: 1.0000 - val_loss: 0.1632 - val_accuracy: 0.9600\n",
            "Epoch 11/30\n",
            "94/94 [==============================] - ETA: 0s - loss: 8.8559e-04 - accuracy: 1.0000\n",
            "Epoch 11: val_loss did not improve from 0.15115\n",
            "94/94 [==============================] - 6s 59ms/step - loss: 8.8559e-04 - accuracy: 1.0000 - val_loss: 0.1661 - val_accuracy: 0.9622\n",
            "Epoch 12/30\n",
            "93/94 [============================>.] - ETA: 0s - loss: 7.1816e-04 - accuracy: 1.0000\n",
            "Epoch 12: val_loss did not improve from 0.15115\n",
            "94/94 [==============================] - 5s 57ms/step - loss: 7.1389e-04 - accuracy: 1.0000 - val_loss: 0.1684 - val_accuracy: 0.9622\n",
            "Epoch 13/30\n",
            "93/94 [============================>.] - ETA: 0s - loss: 6.0943e-04 - accuracy: 1.0000\n",
            "Epoch 13: val_loss did not improve from 0.15115\n",
            "94/94 [==============================] - 4s 48ms/step - loss: 6.0680e-04 - accuracy: 1.0000 - val_loss: 0.1734 - val_accuracy: 0.9567\n",
            "Epoch 14/30\n",
            "94/94 [==============================] - ETA: 0s - loss: 5.2142e-04 - accuracy: 1.0000\n",
            "Epoch 14: val_loss did not improve from 0.15115\n",
            "94/94 [==============================] - 6s 60ms/step - loss: 5.2142e-04 - accuracy: 1.0000 - val_loss: 0.1724 - val_accuracy: 0.9611\n",
            "Epoch 15/30\n",
            "94/94 [==============================] - ETA: 0s - loss: 4.4404e-04 - accuracy: 1.0000\n",
            "Epoch 15: val_loss did not improve from 0.15115\n",
            "94/94 [==============================] - 5s 57ms/step - loss: 4.4404e-04 - accuracy: 1.0000 - val_loss: 0.1725 - val_accuracy: 0.9611\n",
            "Epoch 16/30\n",
            "93/94 [============================>.] - ETA: 0s - loss: 3.8626e-04 - accuracy: 1.0000\n",
            "Epoch 16: val_loss did not improve from 0.15115\n",
            "94/94 [==============================] - 5s 48ms/step - loss: 3.8756e-04 - accuracy: 1.0000 - val_loss: 0.1747 - val_accuracy: 0.9611\n"
          ]
        }
      ]
    },
    {
      "cell_type": "code",
      "source": [
        "# 시각화\n",
        "import matplotlib.pyplot as plt\n",
        "\n",
        "plt.plot(h1.history['accuracy'], label = \"train\")\n",
        "plt.plot(h1.history['val_accuracy'], label = \"test\")\n",
        "plt.legend()\n",
        "plt.show()\n",
        "\n",
        "plt.plot(h1.history['loss'], label = \"train\")\n",
        "plt.plot(h1.history['val_loss'], label = \"test\")\n",
        "plt.legend()\n",
        "plt.show()"
      ],
      "metadata": {
        "colab": {
          "base_uri": "https://localhost:8080/",
          "height": 843
        },
        "id": "E0xP_FJl1wZB",
        "outputId": "447393f7-069d-4b54-dfd4-39352e86a752"
      },
      "execution_count": 27,
      "outputs": [
        {
          "output_type": "display_data",
          "data": {
            "text/plain": [
              "<Figure size 640x480 with 1 Axes>"
            ],
            "image/png": "[encoded data removed]"
          },
          "metadata": {}
        },
        {
          "output_type": "display_data",
          "data": {
            "text/plain": [
              "<Figure size 640x480 with 1 Axes>"
            ],
            "image/png": "[encoded data removed]"
          },
          "metadata": {}
        }
      ]
    },
    {
      "cell_type": "markdown",
      "source": [
        "- ex06의 손글씨 코드 불러오기"
      ],
      "metadata": {
        "id": "EnR3mSGz7hAX"
      }
    },
    {
      "cell_type": "code",
      "source": [
        "# 이미지 불러오기!\n",
        "import PIL.Image as pimg\n",
        "import numpy as np\n",
        "import matplotlib.pyplot as plt\n",
        "\n",
        "img = pimg.open('./data/8.png').convert('L') # convert('L') : 흑백으로 변환\n",
        "img = np.array(img)\n",
        "\n",
        "# testimg = img.reshape(-1, 28*28)  # reshape할 때 -1 -> 차원이 하나 추가\n",
        "testimg = img.reshape(-1, 28, 28, 1)  # CNN이라 색상 차원 추가\n",
        "\n",
        "testimg = testimg/255.0\n",
        "\n",
        "pred = model.predict(testimg)\n",
        "print(pred)\n",
        "print(pred.argmax())"
      ],
      "metadata": {
        "colab": {
          "base_uri": "https://localhost:8080/"
        },
        "id": "ciQ8fsSuubeF",
        "outputId": "89dbc45c-12b6-4fa7-9c2a-952de9578861"
      },
      "execution_count": 33,
      "outputs": [
        {
          "output_type": "stream",
          "name": "stdout",
          "text": [
            "1/1 [==============================] - 0s 21ms/step\n",
            "[[5.0462041e-11 8.7755792e-12 5.2806314e-05 5.5189705e-01 1.0559690e-09\n",
            "  3.6574482e-05 2.7819838e-14 3.2554064e-09 4.4801313e-01 4.3210827e-07]]\n",
            "3\n"
          ]
        }
      ]
    }
  ]
}