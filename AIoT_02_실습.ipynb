{
  "nbformat": 4,
  "nbformat_minor": 0,
  "metadata": {
    "colab": {
      "provenance": []
    },
    "kernelspec": {
      "name": "python3",
      "display_name": "Python 3"
    },
    "language_info": {
      "name": "python"
    }
  },
  "cells": [
    {
      "cell_type": "markdown",
      "source": [
        "## 문자 단위 RNN (Char RNN)\n",
        "- 입출력의 단위가 단어 레벨이 아니라 문자 레벨"
      ],
      "metadata": {
        "id": "V7b7iizm5b2i"
      }
    },
    {
      "cell_type": "code",
      "source": [
        "from google.colab import drive\n",
        "drive.mount('/content/drive')"
      ],
      "metadata": {
        "colab": {
          "base_uri": "https://localhost:8080/"
        },
        "id": "M5Lm2PHm5-E9",
        "outputId": "b2781386-0286-4f80-cb6b-85f6d1a9eaac"
      },
      "execution_count": 264,
      "outputs": [
        {
          "output_type": "stream",
          "name": "stdout",
          "text": [
            "Drive already mounted at /content/drive; to attempt to forcibly remount, call drive.mount(\"/content/drive\", force_remount=True).\n"
          ]
        }
      ]
    },
    {
      "cell_type": "code",
      "source": [
        "%cd /content/drive/MyDrive/Colab Notebooks/딥러닝"
      ],
      "metadata": {
        "colab": {
          "base_uri": "https://localhost:8080/"
        },
        "id": "X5JspQtP5-lY",
        "outputId": "68094aa9-030d-4b12-ac54-41c64323b96e"
      },
      "execution_count": 265,
      "outputs": [
        {
          "output_type": "stream",
          "name": "stdout",
          "text": [
            "/content/drive/MyDrive/Colab Notebooks/딥러닝\n"
          ]
        }
      ]
    },
    {
      "cell_type": "code",
      "execution_count": 266,
      "metadata": {
        "id": "lfzk7XjX5YJp"
      },
      "outputs": [],
      "source": [
        "import torch\n",
        "import torch.nn as nn\n",
        "import torch.optim as optim\n",
        "import numpy as np"
      ]
    },
    {
      "cell_type": "markdown",
      "source": [
        "## 1. 훈련 데이터 전처리\n",
        "- 입력 데이터와 레이블 데이터에 대해서 문자 집합을 만들겠습니다. -> 중복은 제외해야함! -> set"
      ],
      "metadata": {
        "id": "IL9THirL56yf"
      }
    },
    {
      "cell_type": "code",
      "source": [
        "input_str = 'apple'\n",
        "output_str = 'pple!'\n",
        "\n",
        "char_vocab = sorted(list(set(input_str + output_str)))  # 중복 원소가 없는 문자 집합\n",
        "vocab_size = len(char_vocab)\n",
        "print(\"문자 집합의 크기 : \", vocab_size)\n",
        "# char_socab = 'aple!'"
      ],
      "metadata": {
        "colab": {
          "base_uri": "https://localhost:8080/"
        },
        "id": "CjZHpV7-5hDi",
        "outputId": "f41eb6d5-43f6-48a7-a5b3-6573f200df96"
      },
      "execution_count": 267,
      "outputs": [
        {
          "output_type": "stream",
          "name": "stdout",
          "text": [
            "문자 집합의 크기 :  5\n"
          ]
        }
      ]
    },
    {
      "cell_type": "markdown",
      "source": [
        "입력은 one-hot 벡터를 사용할 것이기 때문에 **입력의 크기는 문자 집합의 크기**가 되어야 함"
      ],
      "metadata": {
        "id": "a4aq7SqA60tx"
      }
    },
    {
      "cell_type": "code",
      "source": [
        "input_size = vocab_size\n",
        "hidden_size = 5\n",
        "output_size = 5\n",
        "lr = 0.1   # learning rate"
      ],
      "metadata": {
        "id": "4pn2wIpd5hJv"
      },
      "execution_count": 268,
      "outputs": []
    },
    {
      "cell_type": "markdown",
      "source": [
        "문자 집합에 레이블 부여"
      ],
      "metadata": {
        "id": "06e70dLg7MXJ"
      }
    },
    {
      "cell_type": "code",
      "source": [
        "char_to_index = dict((c,i) for i, c in enumerate(char_vocab))\n",
        "print(char_to_index)"
      ],
      "metadata": {
        "colab": {
          "base_uri": "https://localhost:8080/"
        },
        "id": "aDOKsYDO5hOo",
        "outputId": "d891fcfd-3dd9-4b55-e0c8-ce13126b5ab6"
      },
      "execution_count": 269,
      "outputs": [
        {
          "output_type": "stream",
          "name": "stdout",
          "text": [
            "{'!': 0, 'a': 1, 'e': 2, 'l': 3, 'p': 4}\n"
          ]
        }
      ]
    },
    {
      "cell_type": "code",
      "source": [
        "index_to_char = dict()\n",
        "for k,v in char_to_index.items() :\n",
        "  index_to_char[v] = k\n",
        "print(index_to_char)"
      ],
      "metadata": {
        "colab": {
          "base_uri": "https://localhost:8080/"
        },
        "id": "GTnJPG8N5bTe",
        "outputId": "aff0b915-4737-4c2d-8884-86a353835de8"
      },
      "execution_count": 270,
      "outputs": [
        {
          "output_type": "stream",
          "name": "stdout",
          "text": [
            "{0: '!', 1: 'a', 2: 'e', 3: 'l', 4: 'p'}\n"
          ]
        }
      ]
    },
    {
      "cell_type": "markdown",
      "source": [
        "입력 데이터와 레이블 데이터를 구성하는 문자들을 정수로 맵핑하기"
      ],
      "metadata": {
        "id": "6rBiv-pr8TFr"
      }
    },
    {
      "cell_type": "code",
      "source": [
        "x_data = [char_to_index[c] for c in input_str]\n",
        "y_data = [char_to_index[c] for c in output_str]\n",
        "print(x_data)\n",
        "print(y_data)"
      ],
      "metadata": {
        "colab": {
          "base_uri": "https://localhost:8080/"
        },
        "id": "CRC04oDy7wkA",
        "outputId": "421f068f-c112-470b-ac4b-aeb98539a5fe"
      },
      "execution_count": 271,
      "outputs": [
        {
          "output_type": "stream",
          "name": "stdout",
          "text": [
            "[1, 4, 4, 3, 2]\n",
            "[4, 4, 3, 2, 0]\n"
          ]
        }
      ]
    },
    {
      "cell_type": "markdown",
      "source": [
        "NLP에서는 3차원 텐서가 기본이기 때문에, 배치 차원을 추가해준다 (※이미지는 4차원 데이터)"
      ],
      "metadata": {
        "id": "vOOF73Ae9aWW"
      }
    },
    {
      "cell_type": "code",
      "source": [
        "# 배치 차원 추가\n",
        "\n",
        "x_data_ = [x_data]\n",
        "y_data_ = [y_data]\n",
        "print(x_data_)\n",
        "print(y_data_)"
      ],
      "metadata": {
        "colab": {
          "base_uri": "https://localhost:8080/"
        },
        "id": "xmaNccg58kA7",
        "outputId": "0bbce099-4a4a-4e36-eb6e-731d1f217897"
      },
      "execution_count": 272,
      "outputs": [
        {
          "output_type": "stream",
          "name": "stdout",
          "text": [
            "[[1, 4, 4, 3, 2]]\n",
            "[[4, 4, 3, 2, 0]]\n"
          ]
        }
      ]
    },
    {
      "cell_type": "code",
      "source": [
        "# Pytorch에서의 텐서 연산인 unsqueeze(0)도 활용 가능\n",
        "# squeeze -> 1차원 제거\n",
        "# squeeze -> 1차원 생성\n",
        "x_data_2 = torch.tensor(x_data).unsqueeze(0)\n",
        "y_data_2 = torch.tensor(y_data).unsqueeze(0)\n",
        "print(x_data_2.shape)\n",
        "print(y_data_2.shape)"
      ],
      "metadata": {
        "colab": {
          "base_uri": "https://localhost:8080/"
        },
        "id": "ivvTv9tX8j9a",
        "outputId": "ce018696-0b9a-4e50-a6a0-48a5ef23da70"
      },
      "execution_count": 273,
      "outputs": [
        {
          "output_type": "stream",
          "name": "stdout",
          "text": [
            "torch.Size([1, 5])\n",
            "torch.Size([1, 5])\n"
          ]
        }
      ]
    },
    {
      "cell_type": "markdown",
      "source": [
        "입력 시퀀스의 각 문자들을 one-hot 벡터로 변환!"
      ],
      "metadata": {
        "id": "PCDT15wG-J77"
      }
    },
    {
      "cell_type": "code",
      "source": [
        "# np.eye(n) -> n * n 사이즈의 단위 행렬 생성\n",
        "x_one_hot = [np.eye(vocab_size)[x] for x in x_data_]\n",
        "print(x_one_hot)"
      ],
      "metadata": {
        "colab": {
          "base_uri": "https://localhost:8080/"
        },
        "id": "SsfYo1yp8j4o",
        "outputId": "0f5fc836-ca87-4f79-f56c-8af4dccae008"
      },
      "execution_count": 274,
      "outputs": [
        {
          "output_type": "stream",
          "name": "stdout",
          "text": [
            "[array([[0., 1., 0., 0., 0.],\n",
            "       [0., 0., 0., 0., 1.],\n",
            "       [0., 0., 0., 0., 1.],\n",
            "       [0., 0., 0., 1., 0.],\n",
            "       [0., 0., 1., 0., 0.]])]\n"
          ]
        }
      ]
    },
    {
      "cell_type": "markdown",
      "source": [
        "입력과 레이블 데이터를 텐서로 캐스팅"
      ],
      "metadata": {
        "id": "g7WNg1-J-rfv"
      }
    },
    {
      "cell_type": "code",
      "source": [
        "# FloatTensor, LongTensor -> 특정 텐서 타입의 생성자 호출\n",
        "X = torch.FloatTensor(x_one_hot)\n",
        "Y = torch.LongTensor(y_data_)"
      ],
      "metadata": {
        "id": "aUBjF6aM-bWH"
      },
      "execution_count": 275,
      "outputs": []
    },
    {
      "cell_type": "code",
      "source": [
        "# 텐서의 shape 확인\n",
        "print(\"학습 데이터의 크기 : {}\".format(X.shape))\n",
        "print(\"레이블 데이터의 크기 : {}\".format(Y.shape))"
      ],
      "metadata": {
        "colab": {
          "base_uri": "https://localhost:8080/"
        },
        "id": "pWIvygUn-bTh",
        "outputId": "9034a9c6-fc41-47ea-ac11-d8b57a6252df"
      },
      "execution_count": 276,
      "outputs": [
        {
          "output_type": "stream",
          "name": "stdout",
          "text": [
            "학습 데이터의 크기 : torch.Size([1, 5, 5])\n",
            "레이블 데이터의 크기 : torch.Size([1, 5])\n"
          ]
        }
      ]
    },
    {
      "cell_type": "markdown",
      "source": [
        "## 모델 구현하기"
      ],
      "metadata": {
        "id": "aTtl3WmH_faP"
      }
    },
    {
      "cell_type": "code",
      "source": [
        "class Net(nn.Module):\n",
        "  def __init__(self, input_size, hidden_size, output_size):\n",
        "    super(Net, self).__init__()\n",
        "    self.rnn = nn.RNN(input_size, hidden_size, batch_first=True)\n",
        "    self.fc = nn.Linear(hidden_size, output_size, bias=True)  # 출력층\n",
        "\n",
        "  def forward(self, x): # 구현한 RNN 셀과 FC 층을 연결하는 역할\n",
        "    x, _ = self.rnn(x)\n",
        "    x = self.fc(x)\n",
        "    return x"
      ],
      "metadata": {
        "id": "U17W6lOx_e6m"
      },
      "execution_count": 277,
      "outputs": []
    },
    {
      "cell_type": "code",
      "source": [
        "# 인스턴스 생성\n",
        "net = Net(input_size, hidden_size, output_size)"
      ],
      "metadata": {
        "id": "gYns4JOF_e87"
      },
      "execution_count": 278,
      "outputs": []
    },
    {
      "cell_type": "code",
      "source": [
        "outputs = net(X)\n",
        "print(outputs.shape)\n",
        "# 3차원 텐서"
      ],
      "metadata": {
        "colab": {
          "base_uri": "https://localhost:8080/"
        },
        "id": "HgV4kLy7_e_i",
        "outputId": "4b0911bc-582f-405b-dc15-d1396605788d"
      },
      "execution_count": 279,
      "outputs": [
        {
          "output_type": "stream",
          "name": "stdout",
          "text": [
            "torch.Size([1, 5, 5])\n"
          ]
        }
      ]
    },
    {
      "cell_type": "markdown",
      "source": [
        "(1,5,5)의 크기를 가지는 output tensor를 나중에 정확도 측정을 위해 2차원 텐서로 바꾸는 과정이 필요함"
      ],
      "metadata": {
        "id": "abjRlhzBESwQ"
      }
    },
    {
      "cell_type": "code",
      "source": [
        "# 데이터를 보존하면서 차원을 줄이려면 reshape\n",
        "# view -> 차원 축소\n",
        "# -1 -> axis 하나를 줄임\n",
        "print(outputs.view(-1, output_size).shape)"
      ],
      "metadata": {
        "colab": {
          "base_uri": "https://localhost:8080/"
        },
        "id": "jhn4kLcW-bL_",
        "outputId": "7be540f8-f246-4d25-9da7-a78b2ba54b4f"
      },
      "execution_count": 280,
      "outputs": [
        {
          "output_type": "stream",
          "name": "stdout",
          "text": [
            "torch.Size([5, 5])\n"
          ]
        }
      ]
    },
    {
      "cell_type": "code",
      "source": [
        "# 레이블 데이터 확인\n",
        "# 2차원 -> 1차원으로 차원 축소\n",
        "print(Y.shape)\n",
        "print(Y.view(-1).shape) # 차원 축소"
      ],
      "metadata": {
        "colab": {
          "base_uri": "https://localhost:8080/"
        },
        "id": "ZMx0HDpzEglp",
        "outputId": "7806d06a-cbfa-46ad-e860-b518c508675a"
      },
      "execution_count": 281,
      "outputs": [
        {
          "output_type": "stream",
          "name": "stdout",
          "text": [
            "torch.Size([1, 5])\n",
            "torch.Size([5])\n"
          ]
        }
      ]
    },
    {
      "cell_type": "markdown",
      "source": [
        "Optimizer와 loss function(criterion)을 정의해보자"
      ],
      "metadata": {
        "id": "sgtqKiAOE9lz"
      }
    },
    {
      "cell_type": "code",
      "source": [
        "ciriterion = nn.CrossEntropyLoss()\n",
        "optimizer = optim.Adam(net.parameters(), lr=lr)"
      ],
      "metadata": {
        "id": "afrC-y_hEgpn"
      },
      "execution_count": 282,
      "outputs": []
    },
    {
      "cell_type": "code",
      "source": [
        "# Training code\n",
        "epoch = 100\n",
        "for i in range(epoch):\n",
        "  optimizer.zero_grad()\n",
        "  outputs = net(X)\n",
        "  loss = ciriterion(outputs.view(-1, output_size), Y.view(-1)) # view() -> Batch dimension 제거를 위해\n",
        "  loss.backward()  # 그래디언트 계산\n",
        "  optimizer.step()\n",
        "\n",
        "  # 프로그레스 바\n",
        "  result = outputs.data.numpy().argmax(axis=2)  # output(5개의 값)에 대해서 가장 높은 값의 인덱스 선택! (숫자 형태)\n",
        "  result_str = ''.join([index_to_char[c] for c in np.squeeze(result)]) # helper function을 호출하여 char를 str 형태로 변환\n",
        "  print(i, \"loss :\", loss.item(), \"prediction :\", result, \"label :\", y_data_, \"output_str :\", result_str)"
      ],
      "metadata": {
        "colab": {
          "base_uri": "https://localhost:8080/"
        },
        "id": "ADpUFTPKEgsi",
        "outputId": "487f8c2e-ba51-4d73-dd4f-c325d6d5d3fa"
      },
      "execution_count": 283,
      "outputs": [
        {
          "output_type": "stream",
          "name": "stdout",
          "text": [
            "0 loss : 1.8654323816299438 prediction : [[3 1 1 1 1]] label : [[4, 4, 3, 2, 0]] output_str : laaaa\n",
            "1 loss : 1.5222028493881226 prediction : [[3 3 3 3 3]] label : [[4, 4, 3, 2, 0]] output_str : lllll\n",
            "2 loss : 1.3385114669799805 prediction : [[4 4 4 4 4]] label : [[4, 4, 3, 2, 0]] output_str : ppppp\n",
            "3 loss : 1.1741905212402344 prediction : [[4 4 4 2 4]] label : [[4, 4, 3, 2, 0]] output_str : pppep\n",
            "4 loss : 1.0202528238296509 prediction : [[4 4 4 2 4]] label : [[4, 4, 3, 2, 0]] output_str : pppep\n",
            "5 loss : 0.8204559087753296 prediction : [[4 4 3 2 4]] label : [[4, 4, 3, 2, 0]] output_str : pplep\n",
            "6 loss : 0.6267227530479431 prediction : [[4 4 3 2 0]] label : [[4, 4, 3, 2, 0]] output_str : pple!\n",
            "7 loss : 0.4687255322933197 prediction : [[4 4 3 2 0]] label : [[4, 4, 3, 2, 0]] output_str : pple!\n",
            "8 loss : 0.3463582694530487 prediction : [[4 4 3 2 0]] label : [[4, 4, 3, 2, 0]] output_str : pple!\n",
            "9 loss : 0.26269373297691345 prediction : [[4 4 3 2 0]] label : [[4, 4, 3, 2, 0]] output_str : pple!\n",
            "10 loss : 0.2053871601819992 prediction : [[4 4 3 2 0]] label : [[4, 4, 3, 2, 0]] output_str : pple!\n",
            "11 loss : 0.16033095121383667 prediction : [[4 4 3 2 0]] label : [[4, 4, 3, 2, 0]] output_str : pple!\n",
            "12 loss : 0.12237093597650528 prediction : [[4 4 3 2 0]] label : [[4, 4, 3, 2, 0]] output_str : pple!\n",
            "13 loss : 0.09266558289527893 prediction : [[4 4 3 2 0]] label : [[4, 4, 3, 2, 0]] output_str : pple!\n",
            "14 loss : 0.07076811790466309 prediction : [[4 4 3 2 0]] label : [[4, 4, 3, 2, 0]] output_str : pple!\n",
            "15 loss : 0.05449789762496948 prediction : [[4 4 3 2 0]] label : [[4, 4, 3, 2, 0]] output_str : pple!\n",
            "16 loss : 0.04231308028101921 prediction : [[4 4 3 2 0]] label : [[4, 4, 3, 2, 0]] output_str : pple!\n",
            "17 loss : 0.03332025185227394 prediction : [[4 4 3 2 0]] label : [[4, 4, 3, 2, 0]] output_str : pple!\n",
            "18 loss : 0.02677486278116703 prediction : [[4 4 3 2 0]] label : [[4, 4, 3, 2, 0]] output_str : pple!\n",
            "19 loss : 0.021991951391100883 prediction : [[4 4 3 2 0]] label : [[4, 4, 3, 2, 0]] output_str : pple!\n",
            "20 loss : 0.018423844128847122 prediction : [[4 4 3 2 0]] label : [[4, 4, 3, 2, 0]] output_str : pple!\n",
            "21 loss : 0.01568831130862236 prediction : [[4 4 3 2 0]] label : [[4, 4, 3, 2, 0]] output_str : pple!\n",
            "22 loss : 0.013537153601646423 prediction : [[4 4 3 2 0]] label : [[4, 4, 3, 2, 0]] output_str : pple!\n",
            "23 loss : 0.011810841970145702 prediction : [[4 4 3 2 0]] label : [[4, 4, 3, 2, 0]] output_str : pple!\n",
            "24 loss : 0.010403674095869064 prediction : [[4 4 3 2 0]] label : [[4, 4, 3, 2, 0]] output_str : pple!\n",
            "25 loss : 0.00924263522028923 prediction : [[4 4 3 2 0]] label : [[4, 4, 3, 2, 0]] output_str : pple!\n",
            "26 loss : 0.008275100030004978 prediction : [[4 4 3 2 0]] label : [[4, 4, 3, 2, 0]] output_str : pple!\n",
            "27 loss : 0.00746217742562294 prediction : [[4 4 3 2 0]] label : [[4, 4, 3, 2, 0]] output_str : pple!\n",
            "28 loss : 0.006774274166673422 prediction : [[4 4 3 2 0]] label : [[4, 4, 3, 2, 0]] output_str : pple!\n",
            "29 loss : 0.00618862034752965 prediction : [[4 4 3 2 0]] label : [[4, 4, 3, 2, 0]] output_str : pple!\n",
            "30 loss : 0.005687412805855274 prediction : [[4 4 3 2 0]] label : [[4, 4, 3, 2, 0]] output_str : pple!\n",
            "31 loss : 0.005256478674709797 prediction : [[4 4 3 2 0]] label : [[4, 4, 3, 2, 0]] output_str : pple!\n",
            "32 loss : 0.004884437657892704 prediction : [[4 4 3 2 0]] label : [[4, 4, 3, 2, 0]] output_str : pple!\n",
            "33 loss : 0.00456199049949646 prediction : [[4 4 3 2 0]] label : [[4, 4, 3, 2, 0]] output_str : pple!\n",
            "34 loss : 0.004281256813555956 prediction : [[4 4 3 2 0]] label : [[4, 4, 3, 2, 0]] output_str : pple!\n",
            "35 loss : 0.0040359776467084885 prediction : [[4 4 3 2 0]] label : [[4, 4, 3, 2, 0]] output_str : pple!\n",
            "36 loss : 0.003820568323135376 prediction : [[4 4 3 2 0]] label : [[4, 4, 3, 2, 0]] output_str : pple!\n",
            "37 loss : 0.003630430204793811 prediction : [[4 4 3 2 0]] label : [[4, 4, 3, 2, 0]] output_str : pple!\n",
            "38 loss : 0.0034616715274751186 prediction : [[4 4 3 2 0]] label : [[4, 4, 3, 2, 0]] output_str : pple!\n",
            "39 loss : 0.0033110566437244415 prediction : [[4 4 3 2 0]] label : [[4, 4, 3, 2, 0]] output_str : pple!\n",
            "40 loss : 0.003175894496962428 prediction : [[4 4 3 2 0]] label : [[4, 4, 3, 2, 0]] output_str : pple!\n",
            "41 loss : 0.003053939901292324 prediction : [[4 4 3 2 0]] label : [[4, 4, 3, 2, 0]] output_str : pple!\n",
            "42 loss : 0.002943516243249178 prediction : [[4 4 3 2 0]] label : [[4, 4, 3, 2, 0]] output_str : pple!\n",
            "43 loss : 0.0028431585524231195 prediction : [[4 4 3 2 0]] label : [[4, 4, 3, 2, 0]] output_str : pple!\n",
            "44 loss : 0.00275173201225698 prediction : [[4 4 3 2 0]] label : [[4, 4, 3, 2, 0]] output_str : pple!\n",
            "45 loss : 0.002668387023732066 prediction : [[4 4 3 2 0]] label : [[4, 4, 3, 2, 0]] output_str : pple!\n",
            "46 loss : 0.002592319156974554 prediction : [[4 4 3 2 0]] label : [[4, 4, 3, 2, 0]] output_str : pple!\n",
            "47 loss : 0.002522795693948865 prediction : [[4 4 3 2 0]] label : [[4, 4, 3, 2, 0]] output_str : pple!\n",
            "48 loss : 0.0024592967238277197 prediction : [[4 4 3 2 0]] label : [[4, 4, 3, 2, 0]] output_str : pple!\n",
            "49 loss : 0.0024012539070099592 prediction : [[4 4 3 2 0]] label : [[4, 4, 3, 2, 0]] output_str : pple!\n",
            "50 loss : 0.00234805210493505 prediction : [[4 4 3 2 0]] label : [[4, 4, 3, 2, 0]] output_str : pple!\n",
            "51 loss : 0.002299264771863818 prediction : [[4 4 3 2 0]] label : [[4, 4, 3, 2, 0]] output_str : pple!\n",
            "52 loss : 0.00225434685125947 prediction : [[4 4 3 2 0]] label : [[4, 4, 3, 2, 0]] output_str : pple!\n",
            "53 loss : 0.0022127770353108644 prediction : [[4 4 3 2 0]] label : [[4, 4, 3, 2, 0]] output_str : pple!\n",
            "54 loss : 0.0021741758100688457 prediction : [[4 4 3 2 0]] label : [[4, 4, 3, 2, 0]] output_str : pple!\n",
            "55 loss : 0.0021381638944149017 prediction : [[4 4 3 2 0]] label : [[4, 4, 3, 2, 0]] output_str : pple!\n",
            "56 loss : 0.002104361541569233 prediction : [[4 4 3 2 0]] label : [[4, 4, 3, 2, 0]] output_str : pple!\n",
            "57 loss : 0.0020724604837596416 prediction : [[4 4 3 2 0]] label : [[4, 4, 3, 2, 0]] output_str : pple!\n",
            "58 loss : 0.002042199019342661 prediction : [[4 4 3 2 0]] label : [[4, 4, 3, 2, 0]] output_str : pple!\n",
            "59 loss : 0.002013458637520671 prediction : [[4 4 3 2 0]] label : [[4, 4, 3, 2, 0]] output_str : pple!\n",
            "60 loss : 0.0019860260654240847 prediction : [[4 4 3 2 0]] label : [[4, 4, 3, 2, 0]] output_str : pple!\n",
            "61 loss : 0.001959877321496606 prediction : [[4 4 3 2 0]] label : [[4, 4, 3, 2, 0]] output_str : pple!\n",
            "62 loss : 0.0019348219502717257 prediction : [[4 4 3 2 0]] label : [[4, 4, 3, 2, 0]] output_str : pple!\n",
            "63 loss : 0.001910788589157164 prediction : [[4 4 3 2 0]] label : [[4, 4, 3, 2, 0]] output_str : pple!\n",
            "64 loss : 0.0018878011032938957 prediction : [[4 4 3 2 0]] label : [[4, 4, 3, 2, 0]] output_str : pple!\n",
            "65 loss : 0.001865693018771708 prediction : [[4 4 3 2 0]] label : [[4, 4, 3, 2, 0]] output_str : pple!\n",
            "66 loss : 0.0018444403540343046 prediction : [[4 4 3 2 0]] label : [[4, 4, 3, 2, 0]] output_str : pple!\n",
            "67 loss : 0.0018239956116303802 prediction : [[4 4 3 2 0]] label : [[4, 4, 3, 2, 0]] output_str : pple!\n",
            "68 loss : 0.001804311410523951 prediction : [[4 4 3 2 0]] label : [[4, 4, 3, 2, 0]] output_str : pple!\n",
            "69 loss : 0.0017852444434538484 prediction : [[4 4 3 2 0]] label : [[4, 4, 3, 2, 0]] output_str : pple!\n",
            "70 loss : 0.0017667477950453758 prediction : [[4 4 3 2 0]] label : [[4, 4, 3, 2, 0]] output_str : pple!\n",
            "71 loss : 0.0017488449811935425 prediction : [[4 4 3 2 0]] label : [[4, 4, 3, 2, 0]] output_str : pple!\n",
            "72 loss : 0.0017313217977061868 prediction : [[4 4 3 2 0]] label : [[4, 4, 3, 2, 0]] output_str : pple!\n",
            "73 loss : 0.0017141785938292742 prediction : [[4 4 3 2 0]] label : [[4, 4, 3, 2, 0]] output_str : pple!\n",
            "74 loss : 0.0016974868485704064 prediction : [[4 4 3 2 0]] label : [[4, 4, 3, 2, 0]] output_str : pple!\n",
            "75 loss : 0.0016810318920761347 prediction : [[4 4 3 2 0]] label : [[4, 4, 3, 2, 0]] output_str : pple!\n",
            "76 loss : 0.001664933399297297 prediction : [[4 4 3 2 0]] label : [[4, 4, 3, 2, 0]] output_str : pple!\n",
            "77 loss : 0.0016491198912262917 prediction : [[4 4 3 2 0]] label : [[4, 4, 3, 2, 0]] output_str : pple!\n",
            "78 loss : 0.0016336150001734495 prediction : [[4 4 3 2 0]] label : [[4, 4, 3, 2, 0]] output_str : pple!\n",
            "79 loss : 0.0016183477127924562 prediction : [[4 4 3 2 0]] label : [[4, 4, 3, 2, 0]] output_str : pple!\n",
            "80 loss : 0.0016033414285629988 prediction : [[4 4 3 2 0]] label : [[4, 4, 3, 2, 0]] output_str : pple!\n",
            "81 loss : 0.0015885492321103811 prediction : [[4 4 3 2 0]] label : [[4, 4, 3, 2, 0]] output_str : pple!\n",
            "82 loss : 0.0015739945229142904 prediction : [[4 4 3 2 0]] label : [[4, 4, 3, 2, 0]] output_str : pple!\n",
            "83 loss : 0.001559701282531023 prediction : [[4 4 3 2 0]] label : [[4, 4, 3, 2, 0]] output_str : pple!\n",
            "84 loss : 0.0015455505345016718 prediction : [[4 4 3 2 0]] label : [[4, 4, 3, 2, 0]] output_str : pple!\n",
            "85 loss : 0.0015316614881157875 prediction : [[4 4 3 2 0]] label : [[4, 4, 3, 2, 0]] output_str : pple!\n",
            "86 loss : 0.0015179149340838194 prediction : [[4 4 3 2 0]] label : [[4, 4, 3, 2, 0]] output_str : pple!\n",
            "87 loss : 0.0015043348539620638 prediction : [[4 4 3 2 0]] label : [[4, 4, 3, 2, 0]] output_str : pple!\n",
            "88 loss : 0.001490849768742919 prediction : [[4 4 3 2 0]] label : [[4, 4, 3, 2, 0]] output_str : pple!\n",
            "89 loss : 0.001477555138990283 prediction : [[4 4 3 2 0]] label : [[4, 4, 3, 2, 0]] output_str : pple!\n",
            "90 loss : 0.0014643791364505887 prediction : [[4 4 3 2 0]] label : [[4, 4, 3, 2, 0]] output_str : pple!\n",
            "91 loss : 0.0014513219939544797 prediction : [[4 4 3 2 0]] label : [[4, 4, 3, 2, 0]] output_str : pple!\n",
            "92 loss : 0.0014383360976353288 prediction : [[4 4 3 2 0]] label : [[4, 4, 3, 2, 0]] output_str : pple!\n",
            "93 loss : 0.0014254928100854158 prediction : [[4 4 3 2 0]] label : [[4, 4, 3, 2, 0]] output_str : pple!\n",
            "94 loss : 0.0014127206522971392 prediction : [[4 4 3 2 0]] label : [[4, 4, 3, 2, 0]] output_str : pple!\n",
            "95 loss : 0.0013999959919601679 prediction : [[4 4 3 2 0]] label : [[4, 4, 3, 2, 0]] output_str : pple!\n",
            "96 loss : 0.00138746143784374 prediction : [[4 4 3 2 0]] label : [[4, 4, 3, 2, 0]] output_str : pple!\n",
            "97 loss : 0.0013748076744377613 prediction : [[4 4 3 2 0]] label : [[4, 4, 3, 2, 0]] output_str : pple!\n",
            "98 loss : 0.0013623915147036314 prediction : [[4 4 3 2 0]] label : [[4, 4, 3, 2, 0]] output_str : pple!\n",
            "99 loss : 0.0013499277411028743 prediction : [[4 4 3 2 0]] label : [[4, 4, 3, 2, 0]] output_str : pple!\n"
          ]
        }
      ]
    },
    {
      "cell_type": "markdown",
      "source": [
        "## 문자 단위 RNN - with Sentence data"
      ],
      "metadata": {
        "id": "HHljq3aLH6sl"
      }
    },
    {
      "cell_type": "code",
      "source": [
        "import torch\n",
        "import torch.nn as nn\n",
        "import torch.optim as optim\n",
        "import numpy as np"
      ],
      "metadata": {
        "id": "r1nt12mGK-gb"
      },
      "execution_count": 284,
      "outputs": []
    },
    {
      "cell_type": "markdown",
      "source": [
        "### 1. 훈련 데이터 전처리하기"
      ],
      "metadata": {
        "id": "TuZ_576_LFLA"
      }
    },
    {
      "cell_type": "code",
      "source": [
        "sentence = (\"if you want to build a ship, don't drum up people together to \"\n",
        "            \"collect wood and don't assign them tasks and work, but rather \"\n",
        "            \"teach them to long for the endless immensity of the sea.\")"
      ],
      "metadata": {
        "id": "JEzrXEs7K-m4"
      },
      "execution_count": 285,
      "outputs": []
    },
    {
      "cell_type": "code",
      "source": [
        "print(len(sentence))"
      ],
      "metadata": {
        "colab": {
          "base_uri": "https://localhost:8080/"
        },
        "id": "kkN8YYR7LVnB",
        "outputId": "668d1c93-d063-452f-abd8-0f2e6b608d7a"
      },
      "execution_count": 286,
      "outputs": [
        {
          "output_type": "stream",
          "name": "stdout",
          "text": [
            "180\n"
          ]
        }
      ]
    },
    {
      "cell_type": "code",
      "source": [
        "char_set = sorted(list(set(sentence)))   # 문자 집합 생성\n",
        "char_dic = {c: i for i, c in enumerate(char_set)}  # 각 문자에 정수 인코딩\n",
        "print(char_dic) # !! 문장에서는 공백도 하나의 원소로 대응!!"
      ],
      "metadata": {
        "colab": {
          "base_uri": "https://localhost:8080/"
        },
        "id": "u3mu4PyCLeCm",
        "outputId": "b93e8683-6f98-4133-909f-97c775393cea"
      },
      "execution_count": 287,
      "outputs": [
        {
          "output_type": "stream",
          "name": "stdout",
          "text": [
            "{' ': 0, \"'\": 1, ',': 2, '.': 3, 'a': 4, 'b': 5, 'c': 6, 'd': 7, 'e': 8, 'f': 9, 'g': 10, 'h': 11, 'i': 12, 'k': 13, 'l': 14, 'm': 15, 'n': 16, 'o': 17, 'p': 18, 'r': 19, 's': 20, 't': 21, 'u': 22, 'w': 23, 'y': 24}\n"
          ]
        }
      ]
    },
    {
      "cell_type": "markdown",
      "source": [
        "각 문자에 single-digit 레이블을 부여하였으며, 25의 크기를 가지는 문자 집합 완성"
      ],
      "metadata": {
        "id": "CQ9PHq5GL4wO"
      }
    },
    {
      "cell_type": "code",
      "source": [
        "print('문자 집합의 크기 : {}'.format(len(char_dic)))"
      ],
      "metadata": {
        "colab": {
          "base_uri": "https://localhost:8080/"
        },
        "id": "o0xjV4RuLeE3",
        "outputId": "68dd2fc1-71b6-43c9-d568-57690d30c849"
      },
      "execution_count": 288,
      "outputs": [
        {
          "output_type": "stream",
          "name": "stdout",
          "text": [
            "문자 집합의 크기 : 25\n"
          ]
        }
      ]
    },
    {
      "cell_type": "markdown",
      "source": [
        "입력은 one-hot 벡터로 사용할 것이기 때문에 변환 과정 필요"
      ],
      "metadata": {
        "id": "PS5oODgNMVmH"
      }
    },
    {
      "cell_type": "code",
      "source": [
        "# 문장 데이터이기 때문에 단위별로 끊어서 처리\n",
        "# sentence_length라는 변수를 활용해보자\n",
        "hidden_size = len(char_dic)  # hidden size -> 메모리 용량\n",
        "sentence_length = 10  # -> 문장을 문자 10개 단위로 끊어서 전처리\n",
        "lr = 0.1"
      ],
      "metadata": {
        "id": "CzBuRzhaLeHj"
      },
      "execution_count": 289,
      "outputs": []
    },
    {
      "cell_type": "code",
      "source": [
        "# 데이터 구성\n",
        "# x -> 인덱스 0~9번\n",
        "# y -> 인덱스 1~10번\n",
        "# x,y가 페어로 연결되어 있음\n",
        "x_data = list()\n",
        "y_data = list()\n",
        "\n",
        "for i in range(0, len(sentence) - sentence_length):  # 170개\n",
        "  x_str = sentence[i:i+sentence_length]\n",
        "  y_str = sentence[i+1:i+sentence_length+1]\n",
        "  print(i, x_str, '->', y_str)\n",
        "\n",
        "  x_data.append([char_dic[c] for c in x_str])  # 입력 데이터를 single-digit화\n",
        "  y_data.append([char_dic[c] for c in y_str])"
      ],
      "metadata": {
        "colab": {
          "base_uri": "https://localhost:8080/"
        },
        "collapsed": true,
        "id": "XahNHxLfM0iy",
        "outputId": "2a13c571-fa5b-44ac-e57a-713d4cf0cfd4"
      },
      "execution_count": 290,
      "outputs": [
        {
          "output_type": "stream",
          "name": "stdout",
          "text": [
            "0 if you wan -> f you want\n",
            "1 f you want ->  you want \n",
            "2  you want  -> you want t\n",
            "3 you want t -> ou want to\n",
            "4 ou want to -> u want to \n",
            "5 u want to  ->  want to b\n",
            "6  want to b -> want to bu\n",
            "7 want to bu -> ant to bui\n",
            "8 ant to bui -> nt to buil\n",
            "9 nt to buil -> t to build\n",
            "10 t to build ->  to build \n",
            "11  to build  -> to build a\n",
            "12 to build a -> o build a \n",
            "13 o build a  ->  build a s\n",
            "14  build a s -> build a sh\n",
            "15 build a sh -> uild a shi\n",
            "16 uild a shi -> ild a ship\n",
            "17 ild a ship -> ld a ship,\n",
            "18 ld a ship, -> d a ship, \n",
            "19 d a ship,  ->  a ship, d\n",
            "20  a ship, d -> a ship, do\n",
            "21 a ship, do ->  ship, don\n",
            "22  ship, don -> ship, don'\n",
            "23 ship, don' -> hip, don't\n",
            "24 hip, don't -> ip, don't \n",
            "25 ip, don't  -> p, don't d\n",
            "26 p, don't d -> , don't dr\n",
            "27 , don't dr ->  don't dru\n",
            "28  don't dru -> don't drum\n",
            "29 don't drum -> on't drum \n",
            "30 on't drum  -> n't drum u\n",
            "31 n't drum u -> 't drum up\n",
            "32 't drum up -> t drum up \n",
            "33 t drum up  ->  drum up p\n",
            "34  drum up p -> drum up pe\n",
            "35 drum up pe -> rum up peo\n",
            "36 rum up peo -> um up peop\n",
            "37 um up peop -> m up peopl\n",
            "38 m up peopl ->  up people\n",
            "39  up people -> up people \n",
            "40 up people  -> p people t\n",
            "41 p people t ->  people to\n",
            "42  people to -> people tog\n",
            "43 people tog -> eople toge\n",
            "44 eople toge -> ople toget\n",
            "45 ople toget -> ple togeth\n",
            "46 ple togeth -> le togethe\n",
            "47 le togethe -> e together\n",
            "48 e together ->  together \n",
            "49  together  -> together t\n",
            "50 together t -> ogether to\n",
            "51 ogether to -> gether to \n",
            "52 gether to  -> ether to c\n",
            "53 ether to c -> ther to co\n",
            "54 ther to co -> her to col\n",
            "55 her to col -> er to coll\n",
            "56 er to coll -> r to colle\n",
            "57 r to colle ->  to collec\n",
            "58  to collec -> to collect\n",
            "59 to collect -> o collect \n",
            "60 o collect  ->  collect w\n",
            "61  collect w -> collect wo\n",
            "62 collect wo -> ollect woo\n",
            "63 ollect woo -> llect wood\n",
            "64 llect wood -> lect wood \n",
            "65 lect wood  -> ect wood a\n",
            "66 ect wood a -> ct wood an\n",
            "67 ct wood an -> t wood and\n",
            "68 t wood and ->  wood and \n",
            "69  wood and  -> wood and d\n",
            "70 wood and d -> ood and do\n",
            "71 ood and do -> od and don\n",
            "72 od and don -> d and don'\n",
            "73 d and don' ->  and don't\n",
            "74  and don't -> and don't \n",
            "75 and don't  -> nd don't a\n",
            "76 nd don't a -> d don't as\n",
            "77 d don't as ->  don't ass\n",
            "78  don't ass -> don't assi\n",
            "79 don't assi -> on't assig\n",
            "80 on't assig -> n't assign\n",
            "81 n't assign -> 't assign \n",
            "82 't assign  -> t assign t\n",
            "83 t assign t ->  assign th\n",
            "84  assign th -> assign the\n",
            "85 assign the -> ssign them\n",
            "86 ssign them -> sign them \n",
            "87 sign them  -> ign them t\n",
            "88 ign them t -> gn them ta\n",
            "89 gn them ta -> n them tas\n",
            "90 n them tas ->  them task\n",
            "91  them task -> them tasks\n",
            "92 them tasks -> hem tasks \n",
            "93 hem tasks  -> em tasks a\n",
            "94 em tasks a -> m tasks an\n",
            "95 m tasks an ->  tasks and\n",
            "96  tasks and -> tasks and \n",
            "97 tasks and  -> asks and w\n",
            "98 asks and w -> sks and wo\n",
            "99 sks and wo -> ks and wor\n",
            "100 ks and wor -> s and work\n",
            "101 s and work ->  and work,\n",
            "102  and work, -> and work, \n",
            "103 and work,  -> nd work, b\n",
            "104 nd work, b -> d work, bu\n",
            "105 d work, bu ->  work, but\n",
            "106  work, but -> work, but \n",
            "107 work, but  -> ork, but r\n",
            "108 ork, but r -> rk, but ra\n",
            "109 rk, but ra -> k, but rat\n",
            "110 k, but rat -> , but rath\n",
            "111 , but rath ->  but rathe\n",
            "112  but rathe -> but rather\n",
            "113 but rather -> ut rather \n",
            "114 ut rather  -> t rather t\n",
            "115 t rather t ->  rather te\n",
            "116  rather te -> rather tea\n",
            "117 rather tea -> ather teac\n",
            "118 ather teac -> ther teach\n",
            "119 ther teach -> her teach \n",
            "120 her teach  -> er teach t\n",
            "121 er teach t -> r teach th\n",
            "122 r teach th ->  teach the\n",
            "123  teach the -> teach them\n",
            "124 teach them -> each them \n",
            "125 each them  -> ach them t\n",
            "126 ach them t -> ch them to\n",
            "127 ch them to -> h them to \n",
            "128 h them to  ->  them to l\n",
            "129  them to l -> them to lo\n",
            "130 them to lo -> hem to lon\n",
            "131 hem to lon -> em to long\n",
            "132 em to long -> m to long \n",
            "133 m to long  ->  to long f\n",
            "134  to long f -> to long fo\n",
            "135 to long fo -> o long for\n",
            "136 o long for ->  long for \n",
            "137  long for  -> long for t\n",
            "138 long for t -> ong for th\n",
            "139 ong for th -> ng for the\n",
            "140 ng for the -> g for the \n",
            "141 g for the  ->  for the e\n",
            "142  for the e -> for the en\n",
            "143 for the en -> or the end\n",
            "144 or the end -> r the endl\n",
            "145 r the endl ->  the endle\n",
            "146  the endle -> the endles\n",
            "147 the endles -> he endless\n",
            "148 he endless -> e endless \n",
            "149 e endless  ->  endless i\n",
            "150  endless i -> endless im\n",
            "151 endless im -> ndless imm\n",
            "152 ndless imm -> dless imme\n",
            "153 dless imme -> less immen\n",
            "154 less immen -> ess immens\n",
            "155 ess immens -> ss immensi\n",
            "156 ss immensi -> s immensit\n",
            "157 s immensit ->  immensity\n",
            "158  immensity -> immensity \n",
            "159 immensity  -> mmensity o\n",
            "160 mmensity o -> mensity of\n",
            "161 mensity of -> ensity of \n",
            "162 ensity of  -> nsity of t\n",
            "163 nsity of t -> sity of th\n",
            "164 sity of th -> ity of the\n",
            "165 ity of the -> ty of the \n",
            "166 ty of the  -> y of the s\n",
            "167 y of the s ->  of the se\n",
            "168  of the se -> of the sea\n",
            "169 of the sea -> f the sea.\n"
          ]
        }
      ]
    },
    {
      "cell_type": "markdown",
      "source": [
        "#### 현재까지 총 170개로 구성된 데이터셋(x, y페어)를 생성하였음. 각 페어의 입력 데이터는 고유 정수로 인코딩이 된 상태"
      ],
      "metadata": {
        "id": "PafVz6JyOHM0"
      }
    },
    {
      "cell_type": "code",
      "source": [
        "print(x_data[0])\n",
        "print(y_data[0])"
      ],
      "metadata": {
        "colab": {
          "base_uri": "https://localhost:8080/"
        },
        "id": "Qo-3chCLM0k6",
        "outputId": "36152eb9-a026-4858-d941-f2d222b5c5e0"
      },
      "execution_count": 291,
      "outputs": [
        {
          "output_type": "stream",
          "name": "stdout",
          "text": [
            "[12, 9, 0, 24, 17, 22, 0, 23, 4, 16]\n",
            "[9, 0, 24, 17, 22, 0, 23, 4, 16, 21]\n"
          ]
        }
      ]
    },
    {
      "cell_type": "code",
      "source": [
        "x_one_hot = [np.eye(len(char_dic))[x] for x in x_data] # one_hot 벡터 생성\n",
        "X = torch.FloatTensor(x_one_hot)\n",
        "Y = torch.LongTensor(y_data)   # Long -> 굉장히 큰 정수"
      ],
      "metadata": {
        "id": "aXuUWt1VM0nB"
      },
      "execution_count": 292,
      "outputs": []
    },
    {
      "cell_type": "code",
      "source": [
        "print('학습 데이터의 크기 : {}'.format(X.shape))\n",
        "print('레이블 데이터의 크기 : {}'.format(Y.shape))"
      ],
      "metadata": {
        "colab": {
          "base_uri": "https://localhost:8080/"
        },
        "id": "iEHlUXkOK3Xn",
        "outputId": "b3699945-9a19-4956-92d5-759be3394909"
      },
      "execution_count": 293,
      "outputs": [
        {
          "output_type": "stream",
          "name": "stdout",
          "text": [
            "학습 데이터의 크기 : torch.Size([170, 10, 25])\n",
            "레이블 데이터의 크기 : torch.Size([170, 10])\n"
          ]
        }
      ]
    },
    {
      "cell_type": "code",
      "source": [
        "print(Y[0])"
      ],
      "metadata": {
        "colab": {
          "base_uri": "https://localhost:8080/"
        },
        "id": "7uSbIqBLK3e5",
        "outputId": "b34a2d8d-e4e9-4965-f6a7-6e7f217ad499"
      },
      "execution_count": 294,
      "outputs": [
        {
          "output_type": "stream",
          "name": "stdout",
          "text": [
            "tensor([ 9,  0, 24, 17, 22,  0, 23,  4, 16, 21])\n"
          ]
        }
      ]
    },
    {
      "cell_type": "markdown",
      "source": [
        "## 모델 구현하기"
      ],
      "metadata": {
        "id": "k2rT8Kj9PaPm"
      }
    },
    {
      "cell_type": "code",
      "source": [
        "class Net(nn.Module) :\n",
        "  def __init__(self, input_dim, hidden_dim, layers):\n",
        "    super(Net, self).__init__()\n",
        "    self.rnn = nn.RNN(input_dim, hidden_dim, num_layers=layers, batch_first=True)\n",
        "    self.fc = nn.Linear(hidden_dim, hidden_dim, bias=True)\n",
        "\n",
        "  def forward(self, x):\n",
        "    x, _ = self.rnn(x)\n",
        "    x = self.fc(x)\n",
        "    return x"
      ],
      "metadata": {
        "id": "9ZPr258BK3na"
      },
      "execution_count": 295,
      "outputs": []
    },
    {
      "cell_type": "code",
      "source": [
        "dic_size = len(char_dic)\n",
        "\n",
        "net = Net(dic_size, hidden_size, 2) # hidden layer가 2층짜리인 DRNN"
      ],
      "metadata": {
        "id": "-MhWVyFGK3rn"
      },
      "execution_count": 296,
      "outputs": []
    },
    {
      "cell_type": "code",
      "source": [
        "# 손실 함수\n",
        "criterion = nn.CrossEntropyLoss()\n",
        "# 옵티마이저\n",
        "optimizer = optim.Adam(net.parameters(), lr)"
      ],
      "metadata": {
        "id": "l9zO_ZQPTLAj"
      },
      "execution_count": 297,
      "outputs": []
    },
    {
      "cell_type": "markdown",
      "source": [
        "## 학습 진행하기"
      ],
      "metadata": {
        "id": "11Rm8C8sTdT9"
      }
    },
    {
      "cell_type": "code",
      "source": [
        "epoch = 100\n",
        "\n",
        "for i in range(100):\n",
        "  optimizer.zero_grad()\n",
        "  outputs = net(X)  # (170, 10, 25) 크기를 가진 텐서를 매 epoch마다 모델의 입력으로 사용\n",
        "  loss = criterion(outputs.view(-1, dic_size), Y.view(-1))\n",
        "  loss.backward()\n",
        "  optimizer.step()\n",
        "\n",
        "  # 프로그레스 바\n",
        "  # results의 텐서 크기는 (170,10)\n",
        "  results = outputs.argmax(dim = 2)\n",
        "  predict_str = str()\n",
        "  for j, result in enumerate(results):\n",
        "    if j == 0:   # 처음에는 예측 결과를 전부 가져오지만\n",
        "      predict_str += ''.join([char_set[t] for t in result])\n",
        "    else:  # 그 다음에는 마지막 글자만 반복 추가\n",
        "      predict_str += char_set[result[-1]]\n",
        "\n",
        "  print(predict_str)"
      ],
      "metadata": {
        "colab": {
          "base_uri": "https://localhost:8080/"
        },
        "collapsed": true,
        "id": "Murk9XEVTVKU",
        "outputId": "97789953-28f2-40ea-b6ec-26bd2728f7ed"
      },
      "execution_count": 298,
      "outputs": [
        {
          "output_type": "stream",
          "name": "stdout",
          "text": [
            "eerrrrrrrrrerrrrrerrrrrrerrrrererrreererrirrrrrrrerrrrrrrrrrrrrrrrrerrrrrerrrrrererrrrrrrrirrrrrrrrrrrrrrrerrrrerrrrrrrrirrrrirrierrrrrrerrrerrrrrrrirrrirrrrrrrrrrrrrrrererrirrrrr\n",
            "tttttttttt ttttottt tttttt ttt t ttt t tt t t tt tttt ttt ttttt tt t ttt  ttt tttt tttttttttttt ttttttttt ttt t tot t t t  tttttttttt ttttt tttt  t t ttttt tttt  tttt ttttttt tttt\n",
            "ee e e e e  e ee eee e e e e e eee ee e e e e eee e e  ee  e e  ee ee e e e e  e e e eeeeeee eeeee e e e e e e e e e e e e e e ee e e   e e e  e e e e e e e e e e e  e e e e e e  \n",
            "ooroooh,oosso ossososososoooso sssoo ss osoossoosoososs o sossssssoss oss oososossoo osssossoossssssosss osososososososososoooos sosossos ossonosssoso osososososonossssooo osososs\n",
            "oosoosoosoosoooooooosooooososoosooooosooooooooosososoooooooooooosooooooooooooosoooossooooosooosooooooooosososooosooosooosoooooooooodoooooooooosooosooooohooohoooooooooooosooooooooo\n",
            "        d  d                                   d                d                                                     d                                                            \n",
            "  t             t     t                          t t        tt t       t  t t t t       t         t   t         t t t      t            t     d t t t     d        t           t   \n",
            "  t t t t         g t t t   t g   t                g      t t                 t t   t     t       t t t t t t   t t t t        t g t          g g t t t t g t t        t   t   t t \n",
            "  t t t n  t      t t t t   t t   t n  t      ee t n      t tt  ee   t n  t t t t t t t t t  e  t t t t t t t t t t t t    t     r    t  t  e t   t t t t t   t    t   t  et   t t \n",
            "eutoreeonteeoetosoeototosoeororoeotoro ueete oeeeeonneoeeoto te eeoeetonoetoeotoree tot s to eneeotosotototo oeototototoe eeo ne foeoetonte eeroroeoeotototoeoto oeees eooetoeoeoro\n",
            "rltorlt t etostoroeototosoe rotle toro loslo le  t ros eo tot oreele torletosotot e tot sls  oretothshsotototht totototoe esosot rosle o tor'ororhtos todotosotoso   shth stoslt ro\n",
            "tlt  't  toto t   e dotht e to    t    do l  l   t  l  e  t  t rl  e to l t tod rte t t dhs   pea t t dodhd t t dothd th  et   t to pe   t  ' tor t   t tot   dh t    ht   to pe t \n",
            " lt  't  t t  d   d t t   e t  t  d  t t  t  pe  t  l     t  t  e    t  c t dhd  '  d   dht     t t   d dhd   t t t d t    t     t   et  t  t t t t   t t e   dh t   dht   t   e r \n",
            "rkt  lt  d t  t   d t t ty, t  t  d  t t  t   e  t ry     th l re    t  k t d d tle d   rut     t tk  dnthd  k  t thd t    t     t   et  t  l t r t   t t d   d  l   ikt   t   d ru\n",
            "rkt nkt  d to t   d t t the t  t  d  t d  t   e  t ry  erkth c re  t t  y t t d rktht   gn then t tk  tnthd rk  t tht then t  c  t enet  cere t r t ent t d   go t   ikt n t end rk\n",
            "gkt nltc dotortot e t t tp, to ct t  l toete  ee torp  er to toree t to c tot d rltht   goethen tot   d thdonke t t t then to to toe eto te l t r toentotoe   to e  eiketn toe totp\n",
            "gkt rltc toto tot d tot ep, tonlt togletoete fee torp  en to tonee toto cetotodor'tht signethe etoths dothdonk, t sht toe  tosnt toe eto ce dot r toe totoe s go en siketo toe toip\n",
            "g t rltc teto tosed tot ee, ton't t  leto cf fle torp  en to toree t to pet s dor't t sign the  tos s t thdonk, toshd she  to to toe  to te l t rkthe tothe s to et si  au toe tosp\n",
            "g t rltc thth dos d tot ip, ton't t mleto pf fle tore  e  to poree t to p t todon't t sigu the  tosks d thdonk, tushd she  tosco toem t  te ' t rkthe totoe s to en siheau toemtoip\n",
            "g t rltc thdh doe d t t ip, ton't d me to pf fl  toge  er tomcoree t to c t todon't d sigu them tosks d t donk, tus d them tosco toem to co d t r themt toe s do er  ih tf toemt ip\n",
            "g t r t  ehth po ld tot ip, don't d  l to pe fl  tome  er tomcoree t do p t t don't dosign them thsks d t donk, tut dother tosco toem to po ' c rkthemtotoe s do ert iy  f themtoip\n",
            "l tonktonthth do ld todhip, don't do l to pe pl  toge  er to poree t do ' tnt don't dosign them thsk, tod donk, tut dother tosco toem th po ' c rkthemtotoe s to ert iy  f themtoip\n",
            "l tofktontlto boeld tndhip, don't do l to pe pl  toge  er to couee t do dotnd don't dns gn the  toaks tnd donk, tut dothe  tosco toe  to con' corkthe todoe s to ers iy af the toip\n",
            "p tofktontldh boel, dodhip, don't doul po pe ple toget er to pomle t do d tnd don't dnsign toem thsks tnd donk, duthtothe  tosco toem th pon' porkthertodle s tn er iiy af themtoip\n",
            "p tofktontldo bosld dodhip, don't doul po pe ple toget er to pomle t do d tnd don't dosign the  thsks tnd donk, dus t the  toaco the  to pon' p rkthe tot e s tl ersiiy af the toip\n",
            "p tof tanildo bosld dodhip, don't dnue pp pe fle toget er to pomle t do detnd don't dosign them thsks tnd donk, bus d the  tosco them to pen' p r the tod e s tl ersiiy af the tosp\n",
            "pctof tasi dh boild todhip, don't drum pp pe fle toget er to comle t do detnd don't dosign them thsks tnd donk, but dother tosco them th cen' por the tod e s ip ersiiy af the tosc\n",
            "lctof tani dh boeld todhip, don't arum tp pe fle toget er to domle t do d tnd don't dosign the  thsks tnd donk, but tathe  tosco the  th don' por the tod e s im ensiiy af the tost\n",
            "lctou tani dh doild todhip, don't drum fp pe fle tomet er to domle t do d tnd don't dosign them thsks and donk, but tathem tosco them th don' fon the todle s ip ensiiy af themtoap\n",
            "lcfon tani do doeld todhip, don't arum fp pe fle toget er to dolle t da d tnd don't aosign them toaks and donk, but tathe  tosco the  to dong fon the todle s im ensiiy af the toac\n",
            "lcfon tasi wh build todhip, don't arum fp plonle to ether to ponle t waod tnd don't aosign them thsks and donk, but tather toaco them th po g for themtodle s ip ensiiy af themtoap\n",
            "l fon tant to build asdhip, don't wrum pp peonle together to dolle t wand tnd don't wosign them tosks and donk, but tather toaco them to don' for the todle s im ensiiy af the eoac\n",
            "l fon want th build tsdhip, don't wrum fp plonle together to lollect waod tnd don't wssign them tosks and work, but tather toaco them to eong for themeodle s im ensity of themeoac\n",
            "p fou tant th build tsdhip, don't wrum fp peonle together to collect waod tnd don't wssign them tosks and dork, but wather toaco the  to cong for the codle s immensity of the cosy\n",
            "p fou want th euild asdhip, don't arum pp p onle cogether to polle t waod tnd don't assign them tasks and dork, but dather toaco them ta pong for themeodle s immensity of themeoa.\n",
            "p fou tant to build tsdhip, don't arum fp p onle together to collect aaod tnd don't assign the  tosks and work, but tather toaco the  to con' for the eodle s im ensity of the eoac\n",
            "p fou tant to build asdhip, don't arum fp p ople together to collect aood tnd don't assign them tosks and dork, but aather toach them to eong for the eodle s immensigy of the eosy\n",
            "p fou want to build asdhip, don't arum fp people together to lollect aaod tnd don't assign them tosks and dork, but tather toach them to long for themeodle s immensity of themeoac\n",
            "p fou wast to cuild asship, don't arum up people together to collect aaod tnd won't assign them tosks and work, but tather toach them ta cond for the eodle s immensity of the eoac\n",
            "p pou wast to build dndhip, don't arum up people together to collect aood and don't assign them tosks and dork, but wather toach the  to bong for the eodle s immensity of the eos \n",
            "p pou wast to build anship, don't arum up people together to colle t aaod and don't assign them tasks and dork, but wather toach them ta long for the eodle s immensity of the eoae\n",
            "p pou wast to build anship, don't arum up people together to collect aaod and won't assign them tasks and work, but wather toach them ta long for themeodle s tmmensity of themeoap\n",
            "p uou want to build anship, don't arum up people together to collect aood and don't assign them tasks and work, but wather toach them ta long for the eodle s immensity of the eoap\n",
            "p uou want to build anship, don't arum up people together to collect dood and don't assign them tasks and dork, but wather toach the  ta long for the eodle s immensity of the seap\n",
            "m uou want to build anship, don't arum up people together to lollect dood and don't assign them tasks and dork, but dather toach them ta long for the endlecs immensity of themeeap\n",
            "m uou want to build anship, don't arum up people together to collect dood and don't assign them tasks and dork, but rather toach the  ta long for the endle s immensity of the soa.\n",
            "l uou want to build anship, don't arum up people together to collect wood and don't assign them tasks and dork, but tather toach them ta long for the endle s immensity of the eoa.\n",
            "p uou want to build anship, don't arum up people together to collect wood and don't assign them tasks and dork, but tather toach them ta long for the endle s immensity of the soa.\n",
            "l rou want to build anship, don't arum up people together to collect wood and don't assign them tasks and work, but tather toach them to long for the sndless immensity of the soa.\n",
            "p rou want to build anship, don't arum up people together to collect wood and don't assign them tasks and dork, but wather toach them to long for the endless immensity of themeoa.\n",
            "p tou want to build anship, don't drum up people together to collect wood and don't dnsign them tasks and dork, but tather toach them ta long for the endless immensity of the eea.\n",
            "l pou want to build asship, don't arum up people together to collect wood and don't assign them tasks and work, but tather toach them ta long for the endless immensity of the sea.\n",
            "l pou want to build a ship, don't arum up people together to collect wood and don't assign them tasks and work, but tather toach them ta long for the endless immensity of themeea.\n",
            "p tou want to build a ship, don't arum up people together to collect wood and don't assign them tasks and work, but rather teach them ta long for the endless immensity of the sea.\n",
            "p pou want to build a ship, don't drum up people together to collect wood and don't dss gn them tasks and work, but rather toach them ta long for the endless immensity of the sea.\n",
            "t pou want to build a ship, don't arum up people together te collect wood and don't ansign them tasks and dork, but rather teach them ta long for the endless immensity of the sea.\n",
            "t tou want to build a ship, don't arum up people together to collect wood and don't assign them tasks and work, but rather teach them ta long for the endless immensity of the tea.\n",
            "p you want to build a ship, don't drum up people together to lollect wood and don't dssign them tasks and work, but rather toach them ta long for the endless immensity of the eea.\n",
            "t uou want to build a ship, don't arum up people together to collect wood and don't assign them tasks and work, but rather teach them to long for the endless immensity of the eea.\n",
            "f you want to build a ship, don't arum up people together to collect wood and don't assign them tosks and work, but rather teach them to bong for the endless immensity of the eea.\n",
            "l pou want to build a ship, don't drum up people together to collect wood and don't dssign them tasks and work, but rather teach them ta long for the endless immensity of the eea.\n",
            "g tou want to build a ship, don't arum up people together to collect wood and don't assign them tasks and work, but rather teach them ta long for the endless immensity of the eea.\n",
            "p you want to build a ship, don't arum up people together to collect wood and don't assign them tasks and work, but rather teach them ta long for the endless immensity of the eea.\n",
            "p rou want to build a ship, don't arum up people together to collect wood and don't assign them tasks and work, but rather toach them ta long for the endless immensity of the sea.\n",
            "t uou want to build a ship, don't arum up people together to collect wood and don't assign them tasks and work, but rather toach them ta long for the endless immensity of the eea.\n",
            "p uou want to build a ship, don't arum up people together to collect wood and don't assign them tasks and work, but rather teach them ta long for the endless immensity of the eea.\n",
            "p fou want to build a ship, don't arum up people together to collect wood and don't assign them tasks and work, but rather teach them ta long for the endless immensity of the sea.\n",
            "p uou want to build a ship, don't arum up people together to collect wood and don't assign them tasks and work, but rather teach them ta long for the endless immensity of the eea.\n",
            "p uou want to build a ship, don't arum up people together to collect wood and don't assign them tasks and work, but rather teach them ta long for the endless immensity of the sea.\n",
            "f uou want to build a ship, don't arum up people together to collect wood and don't assign them tasks and work, but rather teach them ta long for the endless immensity of the sea.\n",
            "f uou want to build a ship, don't arum up people together to collect wood and don't assign them tasks and work, but rather teach them ta long for the endless immensity of the sea.\n",
            "p uou want to build a ship, don't arum up people together to collect wood and don't assign them tasks and work, but rather teach them ta long for the endless immensity of the sea.\n",
            "p tou want to build a ship, don't arum up people together to collect wood and don't assign them tasks and work, but rather teach them ta long for the endless immensity of the sea.\n",
            "p tou want to build a ship, don't arum up people together to collect wood and don't assign them tasks and work, but rather teach them ta long for the endless immensity of the sea.\n",
            "p rou want to build a ship, don't arum up people together to collect wood and don't assign them tasks and work, but rather teach them ta long for the endless immensity of the sea.\n",
            "t you want to build a ship, don't arum up people together to collect wood and don't assign them tasks and work, but rather teach them ta long for the endless immensity of the sea.\n",
            "t uou want to build a ship, don't arum up people together to collect wood and don't assign them tasks and work, but rather teach them ta long for the endless immensity of the sea.\n",
            "l uou want to build a ship, don't arum up people together to collect wood and don't assign them tasks and work, but rather teach them ta long for the endless immensity of the sea.\n",
            "m uou want to build a ship, don't arum up people together to collect wood and don't assign them tasks and work, but rather teach them ta long for the endless immensity of the sea.\n",
            "m you want to build a ship, don't arum up people together to collect wood and don't assign them tasks and work, but rather teach them ta long for the endless immensity of the sea.\n",
            "l rou want to build a ship, don't drum up people together to collect wood and don't dssign them tasks and work, but rather teach them to long for the endless immensity of the sea.\n",
            "l you want to build a ship, don't drum up people together to collect wood and don't dssign them tasks and work, but rather teach them to long for the endless immensity of the sea.\n",
            "p you want to build a ship, don't arum up people together to collect wood and don't assign them tasks and work, but rather teach them to long for the endless immensity of the sea.\n",
            "p you want to build a ship, don't arum up people together to collect wood and don't assign them tosks and work, but rather teach them to long for the endless immensity of the sea.\n",
            "p you want to build a ship, don't arum up people together to collect wood and don't assign them tosks and work, but rather teach them to long for the endless immensity of the sea.\n",
            "f you want to build a ship, don't arum up people together to collect wood and don't assign them tasks and work, but rather teach them ta long for the endless immensity of the sea.\n",
            "f you want to build a ship, don't arum up people together to collect wood and don't assign them tasks and work, but rather teach them to long for the endless immensity of the sea.\n",
            "m you want to build a ship, don't arum up people together to collect wood and don't assign them tasks and work, but rather teach them ta long for the endless immensity of the sea.\n",
            "p you want to build a ship, don't arum up people together to collect wood and don't assign them tosks and work, but rather teach them to long for the endless immensity of the sea.\n",
            "p you want to build a ship, don't drum up people together to collect wood and don't dssign them tosks and work, but rather teach them to long for the endless immensity of the sea.\n",
            "p you want to build a ship, don't arum up people together to collect wood and don't assign them tasks and work, but rather teach them to long for the endless immensity of the sea.\n",
            "g you want to build a ship, don't arum up people together to collect wood and don't assign them tasks and work, but rather teach them to long for the endless immensity of the sea.\n",
            "f you want to build a ship, don't arum up people together to collect wood and don't assign them tasks and work, but rather teach them to long for the endless immensity of the sea.\n",
            "m you want to build a ship, don't arum up people together to collect wood and don't assign them tasks and work, but rather teach them ta long for the endless immensity of the sea.\n",
            "p you want to build a ship, don't arum up people together to collect wood and don't assign them tosks and work, but rather teach them to long for the endless immensity of the sea.\n",
            "p you want to build a ship, don't arum up people together to collect wood and don't assign them tosks and work, but rather teach them to long for the endless immensity of the sea.\n",
            "p pou want to build a ship, don't drum up people togethem to collect wood and don't dssign them tosks and work, but rather teach them to long for the sndless immensity of the sea.\n",
            "f rou want to build a ship, don't arum up people together to collect wood and don't assign them tasks and work, but rather teach them to long for the endless immensity of the tea.\n",
            "g you want to build a ship, don't drum up people together to collect wood and don't dssign them tasks and work, but rather teach them ta long for themendless immensity of themeea.\n",
            "m tou want to build a ship, don't arum up people together to coleect wood and don't dssign them tasks and work, but rather teach them to long for the endless immensity of the eea.\n"
          ]
        }
      ]
    },
    {
      "cell_type": "code",
      "source": [
        "## Charseq 실습\n",
        "\n",
        "sample = \"if you want you\"\n",
        "\n",
        "# 딕셔너리 만들기\n",
        "sen_set = sorted(list(set(sample)))\n",
        "sen_dic = {c: i for i, c in enumerate(sen_set)}\n",
        "dic_size = len(sen_dic)\n",
        "print(sen_dic)"
      ],
      "metadata": {
        "colab": {
          "base_uri": "https://localhost:8080/"
        },
        "id": "ggav1-SrhQGi",
        "outputId": "7f34844e-9679-4377-a36b-753ca18c718b"
      },
      "execution_count": 300,
      "outputs": [
        {
          "output_type": "stream",
          "name": "stdout",
          "text": [
            "{' ': 0, 'a': 1, 'f': 2, 'i': 3, 'n': 4, 'o': 5, 't': 6, 'u': 7, 'w': 8, 'y': 9}\n"
          ]
        }
      ]
    },
    {
      "cell_type": "code",
      "source": [
        "# 네트워크 하이퍼 파라미터 설정\n",
        "hidden_size = dic_size # 은닉층 사이즈느 ㄴ문자 집합 크기와 무관! 랜덤하게 사용가능\n",
        "lr = 0.1\n",
        "\n",
        "# 데이터 구성\n",
        "idx= [ sen_dic[c] for c in sample]\n",
        "x_data = [idx[:-1]]\n",
        "print(f'x_data : {x_data}')\n",
        "x_one_hot = [np.eye(dic_size)[x] for x in x_data]\n",
        "print(f'one-hot vector :{x_one_hot}')\n",
        "y_data = [idx[1:]]\n",
        "print(f'y_data : {y_data}')"
      ],
      "metadata": {
        "colab": {
          "base_uri": "https://localhost:8080/"
        },
        "id": "zdxd6PV5TVM1",
        "outputId": "aedb8ce5-b253-402d-f536-4eda1beb0773"
      },
      "execution_count": 301,
      "outputs": [
        {
          "output_type": "stream",
          "name": "stdout",
          "text": [
            "x_data : [[3, 2, 0, 9, 5, 7, 0, 8, 1, 4, 6, 0, 9, 5]]\n",
            "one-hot vector :[array([[0., 0., 0., 1., 0., 0., 0., 0., 0., 0.],\n",
            "       [0., 0., 1., 0., 0., 0., 0., 0., 0., 0.],\n",
            "       [1., 0., 0., 0., 0., 0., 0., 0., 0., 0.],\n",
            "       [0., 0., 0., 0., 0., 0., 0., 0., 0., 1.],\n",
            "       [0., 0., 0., 0., 0., 1., 0., 0., 0., 0.],\n",
            "       [0., 0., 0., 0., 0., 0., 0., 1., 0., 0.],\n",
            "       [1., 0., 0., 0., 0., 0., 0., 0., 0., 0.],\n",
            "       [0., 0., 0., 0., 0., 0., 0., 0., 1., 0.],\n",
            "       [0., 1., 0., 0., 0., 0., 0., 0., 0., 0.],\n",
            "       [0., 0., 0., 0., 1., 0., 0., 0., 0., 0.],\n",
            "       [0., 0., 0., 0., 0., 0., 1., 0., 0., 0.],\n",
            "       [1., 0., 0., 0., 0., 0., 0., 0., 0., 0.],\n",
            "       [0., 0., 0., 0., 0., 0., 0., 0., 0., 1.],\n",
            "       [0., 0., 0., 0., 0., 1., 0., 0., 0., 0.]])]\n",
            "y_data : [[2, 0, 9, 5, 7, 0, 8, 1, 4, 6, 0, 9, 5, 7]]\n"
          ]
        }
      ]
    },
    {
      "cell_type": "code",
      "source": [
        "# tensor로 형변환(캐스팅)\n",
        "X = torch.FloatTensor(x_one_hot)\n",
        "Y = torch.LongTensor(y_data)\n",
        "\n",
        "# RNN 선언\n",
        "rnn = nn.RNN(dic_size, hidden_size, batch_first=True)\n",
        "\n",
        "# Loss와 optimizer 정의\n",
        "criterion = nn.CrossEntropyLoss()\n",
        "optimizer = optim.Adam(rnn.parameters(), lr)"
      ],
      "metadata": {
        "id": "2U0GZEPKcnD0"
      },
      "execution_count": 302,
      "outputs": []
    },
    {
      "cell_type": "code",
      "source": [
        "# 간단한 학습 코드\n",
        "epoch = 50\n",
        "\n",
        "for i in range(epoch):\n",
        "    optimizer.zero_grad()\n",
        "    outputs, _ = rnn(X)\n",
        "    loss = criterion(outputs.view(-1, dic_size), Y.view(-1))\n",
        "    loss.backward()\n",
        "    optimizer.step()\n",
        "\n",
        "    # 결과\n",
        "    results = outputs.data.numpy().argmax(axis=2)\n",
        "    predict_str = ''.join([char_set[c] for c in np.squeeze(results)])\n",
        "    print(i, \"loss : \", loss.item(), \"prediction : \", result, \"label : \", y_data, \"prediciton_str : \", result_str)"
      ],
      "metadata": {
        "colab": {
          "base_uri": "https://localhost:8080/"
        },
        "id": "KYcwYyXycnGc",
        "outputId": "ba9fdded-73be-4aae-8b9b-a4b6954891b1"
      },
      "execution_count": 303,
      "outputs": [
        {
          "output_type": "stream",
          "name": "stdout",
          "text": [
            "0 loss :  2.3241307735443115 prediction :  tensor([16,  0, 21, 11,  8,  0,  8,  8,  4,  3]) label :  [[2, 0, 9, 5, 7, 0, 8, 1, 4, 6, 0, 9, 5, 7]] prediciton_str :  pple!\n",
            "1 loss :  1.990020513534546 prediction :  tensor([16,  0, 21, 11,  8,  0,  8,  8,  4,  3]) label :  [[2, 0, 9, 5, 7, 0, 8, 1, 4, 6, 0, 9, 5, 7]] prediciton_str :  pple!\n",
            "2 loss :  1.733458161354065 prediction :  tensor([16,  0, 21, 11,  8,  0,  8,  8,  4,  3]) label :  [[2, 0, 9, 5, 7, 0, 8, 1, 4, 6, 0, 9, 5, 7]] prediciton_str :  pple!\n",
            "3 loss :  1.5568716526031494 prediction :  tensor([16,  0, 21, 11,  8,  0,  8,  8,  4,  3]) label :  [[2, 0, 9, 5, 7, 0, 8, 1, 4, 6, 0, 9, 5, 7]] prediciton_str :  pple!\n",
            "4 loss :  1.4337550401687622 prediction :  tensor([16,  0, 21, 11,  8,  0,  8,  8,  4,  3]) label :  [[2, 0, 9, 5, 7, 0, 8, 1, 4, 6, 0, 9, 5, 7]] prediciton_str :  pple!\n",
            "5 loss :  1.3407361507415771 prediction :  tensor([16,  0, 21, 11,  8,  0,  8,  8,  4,  3]) label :  [[2, 0, 9, 5, 7, 0, 8, 1, 4, 6, 0, 9, 5, 7]] prediciton_str :  pple!\n",
            "6 loss :  1.2577708959579468 prediction :  tensor([16,  0, 21, 11,  8,  0,  8,  8,  4,  3]) label :  [[2, 0, 9, 5, 7, 0, 8, 1, 4, 6, 0, 9, 5, 7]] prediciton_str :  pple!\n",
            "7 loss :  1.17927086353302 prediction :  tensor([16,  0, 21, 11,  8,  0,  8,  8,  4,  3]) label :  [[2, 0, 9, 5, 7, 0, 8, 1, 4, 6, 0, 9, 5, 7]] prediciton_str :  pple!\n",
            "8 loss :  1.118760585784912 prediction :  tensor([16,  0, 21, 11,  8,  0,  8,  8,  4,  3]) label :  [[2, 0, 9, 5, 7, 0, 8, 1, 4, 6, 0, 9, 5, 7]] prediciton_str :  pple!\n",
            "9 loss :  1.0851749181747437 prediction :  tensor([16,  0, 21, 11,  8,  0,  8,  8,  4,  3]) label :  [[2, 0, 9, 5, 7, 0, 8, 1, 4, 6, 0, 9, 5, 7]] prediciton_str :  pple!\n",
            "10 loss :  1.043834924697876 prediction :  tensor([16,  0, 21, 11,  8,  0,  8,  8,  4,  3]) label :  [[2, 0, 9, 5, 7, 0, 8, 1, 4, 6, 0, 9, 5, 7]] prediciton_str :  pple!\n",
            "11 loss :  1.013336181640625 prediction :  tensor([16,  0, 21, 11,  8,  0,  8,  8,  4,  3]) label :  [[2, 0, 9, 5, 7, 0, 8, 1, 4, 6, 0, 9, 5, 7]] prediciton_str :  pple!\n",
            "12 loss :  0.9974146485328674 prediction :  tensor([16,  0, 21, 11,  8,  0,  8,  8,  4,  3]) label :  [[2, 0, 9, 5, 7, 0, 8, 1, 4, 6, 0, 9, 5, 7]] prediciton_str :  pple!\n",
            "13 loss :  0.9818125367164612 prediction :  tensor([16,  0, 21, 11,  8,  0,  8,  8,  4,  3]) label :  [[2, 0, 9, 5, 7, 0, 8, 1, 4, 6, 0, 9, 5, 7]] prediciton_str :  pple!\n",
            "14 loss :  0.969563364982605 prediction :  tensor([16,  0, 21, 11,  8,  0,  8,  8,  4,  3]) label :  [[2, 0, 9, 5, 7, 0, 8, 1, 4, 6, 0, 9, 5, 7]] prediciton_str :  pple!\n",
            "15 loss :  0.9574242234230042 prediction :  tensor([16,  0, 21, 11,  8,  0,  8,  8,  4,  3]) label :  [[2, 0, 9, 5, 7, 0, 8, 1, 4, 6, 0, 9, 5, 7]] prediciton_str :  pple!\n",
            "16 loss :  0.9446820020675659 prediction :  tensor([16,  0, 21, 11,  8,  0,  8,  8,  4,  3]) label :  [[2, 0, 9, 5, 7, 0, 8, 1, 4, 6, 0, 9, 5, 7]] prediciton_str :  pple!\n",
            "17 loss :  0.9351094365119934 prediction :  tensor([16,  0, 21, 11,  8,  0,  8,  8,  4,  3]) label :  [[2, 0, 9, 5, 7, 0, 8, 1, 4, 6, 0, 9, 5, 7]] prediciton_str :  pple!\n",
            "18 loss :  0.9243903160095215 prediction :  tensor([16,  0, 21, 11,  8,  0,  8,  8,  4,  3]) label :  [[2, 0, 9, 5, 7, 0, 8, 1, 4, 6, 0, 9, 5, 7]] prediciton_str :  pple!\n",
            "19 loss :  0.9114807844161987 prediction :  tensor([16,  0, 21, 11,  8,  0,  8,  8,  4,  3]) label :  [[2, 0, 9, 5, 7, 0, 8, 1, 4, 6, 0, 9, 5, 7]] prediciton_str :  pple!\n",
            "20 loss :  0.8992295265197754 prediction :  tensor([16,  0, 21, 11,  8,  0,  8,  8,  4,  3]) label :  [[2, 0, 9, 5, 7, 0, 8, 1, 4, 6, 0, 9, 5, 7]] prediciton_str :  pple!\n",
            "21 loss :  0.8884106278419495 prediction :  tensor([16,  0, 21, 11,  8,  0,  8,  8,  4,  3]) label :  [[2, 0, 9, 5, 7, 0, 8, 1, 4, 6, 0, 9, 5, 7]] prediciton_str :  pple!\n",
            "22 loss :  0.8805612325668335 prediction :  tensor([16,  0, 21, 11,  8,  0,  8,  8,  4,  3]) label :  [[2, 0, 9, 5, 7, 0, 8, 1, 4, 6, 0, 9, 5, 7]] prediciton_str :  pple!\n",
            "23 loss :  0.8755727410316467 prediction :  tensor([16,  0, 21, 11,  8,  0,  8,  8,  4,  3]) label :  [[2, 0, 9, 5, 7, 0, 8, 1, 4, 6, 0, 9, 5, 7]] prediciton_str :  pple!\n",
            "24 loss :  0.8720713257789612 prediction :  tensor([16,  0, 21, 11,  8,  0,  8,  8,  4,  3]) label :  [[2, 0, 9, 5, 7, 0, 8, 1, 4, 6, 0, 9, 5, 7]] prediciton_str :  pple!\n",
            "25 loss :  0.8682960271835327 prediction :  tensor([16,  0, 21, 11,  8,  0,  8,  8,  4,  3]) label :  [[2, 0, 9, 5, 7, 0, 8, 1, 4, 6, 0, 9, 5, 7]] prediciton_str :  pple!\n",
            "26 loss :  0.8635674118995667 prediction :  tensor([16,  0, 21, 11,  8,  0,  8,  8,  4,  3]) label :  [[2, 0, 9, 5, 7, 0, 8, 1, 4, 6, 0, 9, 5, 7]] prediciton_str :  pple!\n",
            "27 loss :  0.858870804309845 prediction :  tensor([16,  0, 21, 11,  8,  0,  8,  8,  4,  3]) label :  [[2, 0, 9, 5, 7, 0, 8, 1, 4, 6, 0, 9, 5, 7]] prediciton_str :  pple!\n",
            "28 loss :  0.8540483713150024 prediction :  tensor([16,  0, 21, 11,  8,  0,  8,  8,  4,  3]) label :  [[2, 0, 9, 5, 7, 0, 8, 1, 4, 6, 0, 9, 5, 7]] prediciton_str :  pple!\n",
            "29 loss :  0.8500568270683289 prediction :  tensor([16,  0, 21, 11,  8,  0,  8,  8,  4,  3]) label :  [[2, 0, 9, 5, 7, 0, 8, 1, 4, 6, 0, 9, 5, 7]] prediciton_str :  pple!\n",
            "30 loss :  0.8472517132759094 prediction :  tensor([16,  0, 21, 11,  8,  0,  8,  8,  4,  3]) label :  [[2, 0, 9, 5, 7, 0, 8, 1, 4, 6, 0, 9, 5, 7]] prediciton_str :  pple!\n",
            "31 loss :  0.8436781167984009 prediction :  tensor([16,  0, 21, 11,  8,  0,  8,  8,  4,  3]) label :  [[2, 0, 9, 5, 7, 0, 8, 1, 4, 6, 0, 9, 5, 7]] prediciton_str :  pple!\n",
            "32 loss :  0.8412357568740845 prediction :  tensor([16,  0, 21, 11,  8,  0,  8,  8,  4,  3]) label :  [[2, 0, 9, 5, 7, 0, 8, 1, 4, 6, 0, 9, 5, 7]] prediciton_str :  pple!\n",
            "33 loss :  0.8383256196975708 prediction :  tensor([16,  0, 21, 11,  8,  0,  8,  8,  4,  3]) label :  [[2, 0, 9, 5, 7, 0, 8, 1, 4, 6, 0, 9, 5, 7]] prediciton_str :  pple!\n",
            "34 loss :  0.83587646484375 prediction :  tensor([16,  0, 21, 11,  8,  0,  8,  8,  4,  3]) label :  [[2, 0, 9, 5, 7, 0, 8, 1, 4, 6, 0, 9, 5, 7]] prediciton_str :  pple!\n",
            "35 loss :  0.8345459699630737 prediction :  tensor([16,  0, 21, 11,  8,  0,  8,  8,  4,  3]) label :  [[2, 0, 9, 5, 7, 0, 8, 1, 4, 6, 0, 9, 5, 7]] prediciton_str :  pple!\n",
            "36 loss :  0.8327473402023315 prediction :  tensor([16,  0, 21, 11,  8,  0,  8,  8,  4,  3]) label :  [[2, 0, 9, 5, 7, 0, 8, 1, 4, 6, 0, 9, 5, 7]] prediciton_str :  pple!\n",
            "37 loss :  0.8319597840309143 prediction :  tensor([16,  0, 21, 11,  8,  0,  8,  8,  4,  3]) label :  [[2, 0, 9, 5, 7, 0, 8, 1, 4, 6, 0, 9, 5, 7]] prediciton_str :  pple!\n",
            "38 loss :  0.830151379108429 prediction :  tensor([16,  0, 21, 11,  8,  0,  8,  8,  4,  3]) label :  [[2, 0, 9, 5, 7, 0, 8, 1, 4, 6, 0, 9, 5, 7]] prediciton_str :  pple!\n",
            "39 loss :  0.8292455673217773 prediction :  tensor([16,  0, 21, 11,  8,  0,  8,  8,  4,  3]) label :  [[2, 0, 9, 5, 7, 0, 8, 1, 4, 6, 0, 9, 5, 7]] prediciton_str :  pple!\n",
            "40 loss :  0.8276943564414978 prediction :  tensor([16,  0, 21, 11,  8,  0,  8,  8,  4,  3]) label :  [[2, 0, 9, 5, 7, 0, 8, 1, 4, 6, 0, 9, 5, 7]] prediciton_str :  pple!\n",
            "41 loss :  0.8271383047103882 prediction :  tensor([16,  0, 21, 11,  8,  0,  8,  8,  4,  3]) label :  [[2, 0, 9, 5, 7, 0, 8, 1, 4, 6, 0, 9, 5, 7]] prediciton_str :  pple!\n",
            "42 loss :  0.8262651562690735 prediction :  tensor([16,  0, 21, 11,  8,  0,  8,  8,  4,  3]) label :  [[2, 0, 9, 5, 7, 0, 8, 1, 4, 6, 0, 9, 5, 7]] prediciton_str :  pple!\n",
            "43 loss :  0.8254707455635071 prediction :  tensor([16,  0, 21, 11,  8,  0,  8,  8,  4,  3]) label :  [[2, 0, 9, 5, 7, 0, 8, 1, 4, 6, 0, 9, 5, 7]] prediciton_str :  pple!\n",
            "44 loss :  0.8245736360549927 prediction :  tensor([16,  0, 21, 11,  8,  0,  8,  8,  4,  3]) label :  [[2, 0, 9, 5, 7, 0, 8, 1, 4, 6, 0, 9, 5, 7]] prediciton_str :  pple!\n",
            "45 loss :  0.8239780068397522 prediction :  tensor([16,  0, 21, 11,  8,  0,  8,  8,  4,  3]) label :  [[2, 0, 9, 5, 7, 0, 8, 1, 4, 6, 0, 9, 5, 7]] prediciton_str :  pple!\n",
            "46 loss :  0.823503315448761 prediction :  tensor([16,  0, 21, 11,  8,  0,  8,  8,  4,  3]) label :  [[2, 0, 9, 5, 7, 0, 8, 1, 4, 6, 0, 9, 5, 7]] prediciton_str :  pple!\n",
            "47 loss :  0.8229077458381653 prediction :  tensor([16,  0, 21, 11,  8,  0,  8,  8,  4,  3]) label :  [[2, 0, 9, 5, 7, 0, 8, 1, 4, 6, 0, 9, 5, 7]] prediciton_str :  pple!\n",
            "48 loss :  0.8221647143363953 prediction :  tensor([16,  0, 21, 11,  8,  0,  8,  8,  4,  3]) label :  [[2, 0, 9, 5, 7, 0, 8, 1, 4, 6, 0, 9, 5, 7]] prediciton_str :  pple!\n",
            "49 loss :  0.8215875625610352 prediction :  tensor([16,  0, 21, 11,  8,  0,  8,  8,  4,  3]) label :  [[2, 0, 9, 5, 7, 0, 8, 1, 4, 6, 0, 9, 5, 7]] prediciton_str :  pple!\n"
          ]
        }
      ]
    },
    {
      "cell_type": "markdown",
      "source": [
        "## Char RNN으로 이름 분류하기\n",
        "데이터 주소 : http://download.pytorch.org/tutorial/data.zip"
      ],
      "metadata": {
        "id": "GuvnhTPThcn_"
      }
    },
    {
      "cell_type": "code",
      "source": [
        "from google.colab import drive\n",
        "import sys\n",
        "import os\n",
        "drive.mount('/content/drive')"
      ],
      "metadata": {
        "colab": {
          "base_uri": "https://localhost:8080/"
        },
        "id": "rfIxsY-EaY9F",
        "outputId": "0ca8f92f-c8ae-4a0f-dc62-12875c41e19b"
      },
      "execution_count": 304,
      "outputs": [
        {
          "output_type": "stream",
          "name": "stdout",
          "text": [
            "Drive already mounted at /content/drive; to attempt to forcibly remount, call drive.mount(\"/content/drive\", force_remount=True).\n"
          ]
        }
      ]
    },
    {
      "cell_type": "code",
      "source": [
        "%cd /content/drive/MyDrive/Colab Notebooks/딥러닝"
      ],
      "metadata": {
        "colab": {
          "base_uri": "https://localhost:8080/"
        },
        "id": "RZSbzhm2ildu",
        "outputId": "e798bbfc-1e81-47a2-aeec-f0ac0e487133"
      },
      "execution_count": 305,
      "outputs": [
        {
          "output_type": "stream",
          "name": "stdout",
          "text": [
            "/content/drive/MyDrive/Colab Notebooks/딥러닝\n"
          ]
        }
      ]
    },
    {
      "cell_type": "markdown",
      "source": [
        "- data2/names/[language].txt이 18개 존재\n",
        "- 각 파일에는 한 줄에 하나의 이름이 적혀있음 -> 로마자로 되어 있음\n",
        "- UNICODE -> ASCII"
      ],
      "metadata": {
        "id": "C78F1iyYivPM"
      }
    },
    {
      "cell_type": "code",
      "source": [
        "from __future__ import unicode_literals, print_function, division\n",
        "from io import open\n",
        "import glob\n",
        "import os\n",
        "\n",
        "def findFiles(path) :\n",
        "  return glob.glob(path)  # glob -> 파일명 호출\n",
        "\n",
        "print(findFiles('/content/drive/MyDrive/Colab Notebooks/딥러닝/data2/names/*.txt'))"
      ],
      "metadata": {
        "colab": {
          "base_uri": "https://localhost:8080/"
        },
        "id": "1zrsWP36ioPp",
        "outputId": "378535ce-4cba-4b0b-c273-fde65c8bb929"
      },
      "execution_count": 306,
      "outputs": [
        {
          "output_type": "stream",
          "name": "stdout",
          "text": [
            "['/content/drive/MyDrive/Colab Notebooks/딥러닝/data2/names/Spanish.txt', '/content/drive/MyDrive/Colab Notebooks/딥러닝/data2/names/Korean.txt', '/content/drive/MyDrive/Colab Notebooks/딥러닝/data2/names/Portuguese.txt', '/content/drive/MyDrive/Colab Notebooks/딥러닝/data2/names/Japanese.txt', '/content/drive/MyDrive/Colab Notebooks/딥러닝/data2/names/Italian.txt', '/content/drive/MyDrive/Colab Notebooks/딥러닝/data2/names/French.txt', '/content/drive/MyDrive/Colab Notebooks/딥러닝/data2/names/Scottish.txt', '/content/drive/MyDrive/Colab Notebooks/딥러닝/data2/names/Arabic.txt', '/content/drive/MyDrive/Colab Notebooks/딥러닝/data2/names/Russian.txt', '/content/drive/MyDrive/Colab Notebooks/딥러닝/data2/names/Greek.txt', '/content/drive/MyDrive/Colab Notebooks/딥러닝/data2/names/English.txt', '/content/drive/MyDrive/Colab Notebooks/딥러닝/data2/names/Czech.txt', '/content/drive/MyDrive/Colab Notebooks/딥러닝/data2/names/Chinese.txt', '/content/drive/MyDrive/Colab Notebooks/딥러닝/data2/names/Dutch.txt', '/content/drive/MyDrive/Colab Notebooks/딥러닝/data2/names/Polish.txt', '/content/drive/MyDrive/Colab Notebooks/딥러닝/data2/names/Irish.txt', '/content/drive/MyDrive/Colab Notebooks/딥러닝/data2/names/German.txt', '/content/drive/MyDrive/Colab Notebooks/딥러닝/data2/names/Vietnamese.txt']\n"
          ]
        }
      ]
    },
    {
      "cell_type": "code",
      "source": [
        "import unicodedata\n",
        "import string\n",
        "\n",
        "all_letters = string.ascii_letters + \" .,:'\"   # 문자 집합 = 아스키코드 + 특수문자\n",
        "# 57개 -> 소문자(26) + 대문자(26) + 특수문자(5개)\n",
        "n_letters = len(all_letters)  # 문자 집합의 크기\n",
        "\n",
        "# 유니코드 문자열을 ASCII로 변환\n",
        "def unicode2Ascii(s):\n",
        "  return ''.join(\n",
        "      c for c in unicodedata.normalize('NFD', s)\n",
        "      if unicodedata.category(c) != 'Mn'\n",
        "      and c in all_letters    # 'Mn'이 아니고 and 문자 집합에 있다면!\n",
        "  )"
      ],
      "metadata": {
        "id": "j3Y39lRok3AG"
      },
      "execution_count": 307,
      "outputs": []
    },
    {
      "cell_type": "code",
      "source": [
        "print(unicode2Ascii('Ślusàrski'))"
      ],
      "metadata": {
        "colab": {
          "base_uri": "https://localhost:8080/"
        },
        "id": "rdJjw1VLk3Ci",
        "outputId": "bfe2b49a-9c6a-405e-b5c2-19c2d7c2118a"
      },
      "execution_count": 308,
      "outputs": [
        {
          "output_type": "stream",
          "name": "stdout",
          "text": [
            "Slusarski\n"
          ]
        }
      ]
    },
    {
      "cell_type": "code",
      "source": [
        "# 이름 데이터 파일을 읽고 줄 단위로 분리 -> 데이터셋 구축!!\n",
        "\n",
        "def readLines(filename):\n",
        "  lines = open(filename, encoding='utf-8').read().strip().split('\\n')\n",
        "  return [unicode2Ascii(line) for line in lines]"
      ],
      "metadata": {
        "id": "Findw9Uuk3EX"
      },
      "execution_count": 309,
      "outputs": []
    },
    {
      "cell_type": "code",
      "source": [
        "category_lines = dict()\n",
        "all_categories = list()\n",
        "\n",
        "for filename in findFiles('/content/drive/MyDrive/Colab Notebooks/딥러닝/data2/names/*.txt'):\n",
        "  category = os.path.splitext(os.path.basename(filename))[0]  # 파일을 불러온 다음 확장자만 떼고 리스트 생성\n",
        "  all_categories.append(category)\n",
        "  lines = readLines(filename)  # 파일을 읽고 줄 단위로 분리\n",
        "  category_lines[category] = lines  # key(category) -> 언어명 / value(lines) -> 그 언어에서 사용하는 이름들\n",
        "\n",
        "n_categories = len(all_categories)\n",
        "print(n_categories)\n",
        "print(all_categories)\n",
        "print(category_lines)\n",
        "print(category_lines['Korean'])\n",
        "print(category_lines['Chinese'])\n",
        "print(category_lines['Japanese'])"
      ],
      "metadata": {
        "colab": {
          "base_uri": "https://localhost:8080/"
        },
        "id": "D-QtA9zgk3GV",
        "outputId": "51b41a4e-426c-4b52-bf55-5451714edf64"
      },
      "execution_count": 315,
      "outputs": [
        {
          "output_type": "stream",
          "name": "stdout",
          "text": [
            "18\n",
            "['Spanish', 'Korean', 'Portuguese', 'Japanese', 'Italian', 'French', 'Scottish', 'Arabic', 'Russian', 'Greek', 'English', 'Czech', 'Chinese', 'Dutch', 'Polish', 'Irish', 'German', 'Vietnamese']\n",
            "{'Spanish': ['Abana', 'Abano', 'Abarca', 'Abaroa', 'Abascal', 'Abasolo', 'Abel', 'Abello', 'Aberquero', 'Abreu', 'Acosta', 'Agramunt', 'Aiza', 'Alamilla', 'Albert', 'Albuquerque', 'Aldana', 'Alfaro', 'Alvarado', 'Alvarez', 'Alves', 'Amador', 'Andreu', 'Antunez', 'Aqua', 'Aquino', 'Araujo', 'Araullo', 'Araya', 'Arce', 'Arechavaleta', 'Arena', 'Aritza', 'Armando', 'Arreola', 'Arriola', 'Asis', 'Asturias', 'Avana', 'Azarola', 'Banderas', 'Barros', 'Basurto', 'Bautista', 'Bello', 'Belmonte', 'Bengochea', 'Benitez', 'Bermudez', 'Blanco', 'Blanxart', 'Bolivar', 'Bonaventura', 'Bosque', 'Bustillo', 'Busto', 'Bustos', 'Cabello', 'Cabrera', 'Campo', 'Campos', 'Capello', 'Cardona', 'Caro', 'Casales', 'Castell', 'Castellano', 'Castillion', 'Castillo', 'Castro', 'Chavarria', 'Chavez', 'Colon', 'Costa', 'Crespo', 'Cruz', 'Cuellar', 'Cuevas', \"D'cruz\", \"D'cruze\", 'De la cruz', 'De la fuente', 'Del bosque', 'De leon', 'Delgado', 'Del olmo', 'De santigo', 'Diaz', 'Dominguez', 'Duarte', 'Durante', 'Echevarria', 'Echeverria', 'Elizondo', 'Escamilla', 'Escarcega', 'Escarra', 'Esparza', 'Espina', 'Espino', 'Espinosa', 'Espinoza', 'Estevez', 'Etxebarria', 'Etxeberria', 'Felix', 'Fernandez', 'Ferrer', 'Fierro', 'Flores', 'Fonseca', 'Franco', 'Fuentes', 'Gallego', 'Gallo', 'Garcia', 'Garrastazu', 'Garza', 'Gaspar', 'Gebara', 'Gomez', 'Gonzales', 'Gonzalez', 'Grec', 'Guadarrama', 'Guerra', 'Guerrero', 'Gutierrez', 'Gutierrez', 'Hernandez', 'Herrera', 'Herrero', 'Hierro', 'Holguin', 'Huerta', 'Ibanez', 'Ibarra', 'Iniguez', 'Iturburua', 'Jaso', 'Jasso', 'Jimenez', 'Jorda', 'Juarez', 'Lobo', 'Lopez', 'Losa', 'Loyola', 'Machado', 'Macias', 'Maradona', 'Maria', 'Marino', 'Marquez', 'Martell', 'Marti', 'Martinez', 'Martinez', 'Mas', 'Mata', 'Mateu', 'Medina', 'Melendez', 'Mendez', 'Mendoza', 'Menendez', 'Merlo', 'Michel', 'Mingo', 'Moles', 'Molina', 'Montero', 'Morales', 'Moralez', 'Moreno', 'Narvaez', 'Nieves', 'Noguerra', 'Nunez', 'Obando', 'Ochoa', 'Ojeda', 'Ola', 'Oleastro', 'Olguin', 'Oliver', 'Olmos', 'Oquendo', 'Orellana', 'Oriol', 'Ortega', 'Ortiz', 'Palomo', 'Paredes', 'Pavia', 'Pelaez', 'Pena', 'Perez', 'Perez', 'Petit', 'Picasso', 'Porra', 'Porras', 'Prieto', 'Puerta', 'Puga', 'Puig', 'Quinones', 'Quintana', 'Quiros', 'Ramirez', 'Ramos', 'Rana', 'Rendon', 'Rey', 'Reyes', 'Rios', 'Rivera', 'Rivero', 'Robledo', 'Robles', 'Rocha', 'Rodriguez', 'Rodriquez', 'Roig', 'Rojas', 'Rojo', 'Roldan', 'Roma', 'Roma', 'Romero', 'Rosa', 'Rosales', 'Rubio', 'Ruiz', 'Sala', 'Salamanca', 'Salazar', 'Salcedo', 'Salinas', 'Sanchez', 'Sandoval', 'San nicolas', 'Santana', 'Santiago', 'Santillian', 'Santos', 'Sastre', 'Sepulveda', 'Sierra', 'Silva', 'Soler', 'Solo', 'Solos', 'Soto', 'Suarez', 'Suero', 'Tapia', 'Terrazas', 'Tomas', 'Torres', 'Tos', 'Tosell', 'Toset', 'Travieso', 'Trujillo', 'Ubina', 'Urbina', 'Urena', 'Valdez', 'Valencia', 'Varela', 'Vargas', 'Vasquez', 'Vazquez', 'Vega', 'Vela', 'Vela', 'Velazquez', 'Ventura', 'Vicario', 'Vilaro', 'Villa', 'Villalobos', 'Villanueva', 'Villaverde', 'Viola', 'Viteri', 'Vivas', 'Vives', 'Ybarra', 'Zabala', 'Zambrano', 'Zamorano', 'Zapatero', 'Zavala', 'Zubizarreta', 'Zuniga'], 'Korean': ['Ahn', 'Baik', 'Bang', 'Byon', 'Cha', 'Chang', 'Chi', 'Chin', 'Cho', 'Choe', 'Choi', 'Chong', 'Chou', 'Chu', 'Chun', 'Chung', 'Chweh', 'Gil', 'Gu', 'Gwang ', 'Ha', 'Han', 'Ho', 'Hong', 'Hung', 'Hwang', 'Hyun ', 'Jang', 'Jeon', 'Jeong', 'Jo', 'Jon', 'Jong', 'Jung ', 'Kang', 'Kim', 'Ko', 'Koo', 'Ku', 'Kwak', 'Kwang ', 'Lee', 'Li', 'Lim ', 'Ma', 'Mo', 'Moon', 'Nam', 'Ngai', 'Noh', 'Oh ', 'Pae', 'Pak', 'Park ', 'Ra', 'Rhee', 'Rheem', 'Ri', 'Rim', 'Ron', 'Ryom', 'Ryoo', 'Ryu', 'San', 'Seo', 'Seok', 'Shim', 'Shin', 'Shon', 'Si', 'Sin', 'So', 'Son', 'Song', 'Sook', 'Suh', 'Suk', 'Sun', 'Sung', 'Tsai ', 'Wang', 'Woo', 'Yang', 'Yeo', 'Yeon', 'Yi', 'Yim', 'Yoo', 'Yoon', 'You', 'Youj', 'Youn', 'Yu', 'Yun'], 'Portuguese': ['Abreu', 'Albuquerque', 'Almeida', 'Alves', 'Araujo', 'Araullo', 'Barros', 'Basurto', 'Belo', 'Cabral', 'Campos', 'Cardozo', 'Castro', 'Coelho', 'Costa', 'Crespo', 'Cruz', \"D'cruz\", \"D'cruze\", 'Delgado', 'De santigo', 'Duarte', 'Esteves', 'Fernandes', 'Ferreira', 'Ferreiro', 'Ferro', 'Fonseca', 'Franco', 'Freitas', 'Garcia', 'Gaspar', 'Gomes', 'Gouveia', 'Guerra', 'Henriques', 'Lobo', 'Machado', 'Madeira', 'Magalhaes', 'Maria', 'Mata', 'Mateus', 'Matos', 'Medeiros', 'Melo', 'Mendes', 'Moreno', 'Nunes', 'Palmeiro', 'Paredes', 'Pereira', 'Pinheiro', 'Pinho', 'Ramires', 'Ribeiro', 'Rios', 'Rocha', 'Rodrigues', 'Romao', 'Rosario', 'Salazar', 'Santana', 'Santiago', 'Santos', 'Serafim', 'Silva', 'Silveira', 'Simoes', 'Soares', 'Souza', 'Torres', 'Vargas', 'Ventura'], 'Japanese': ['Abe', 'Abukara', 'Adachi', 'Aida', 'Aihara', 'Aizawa', 'Ajibana', 'Akaike', 'Akamatsu', 'Akatsuka', 'Akechi', 'Akera', 'Akimoto', 'Akita', 'Akiyama', 'Akutagawa', 'Amagawa', 'Amaya', 'Amori', 'Anami', 'Ando', 'Anzai', 'Aoki', 'Arai', 'Arakawa', 'Araki', 'Arakida', 'Arato', 'Arihyoshi', 'Arishima', 'Arita', 'Ariwa', 'Ariwara', 'Asahara', 'Asahi', 'Asai', 'Asano', 'Asanuma', 'Asari', 'Ashia', 'Ashida', 'Ashikaga', 'Asuhara', 'Atshushi', 'Ayabito', 'Ayugai', 'Baba', 'Baisotei', 'Bando', 'Bunya', 'Chiba', 'Chikamatsu', 'Chikanatsu', 'Chino', 'Chishu', 'Choshi', 'Daishi', 'Dan', 'Date', 'Dazai', 'Deguchi', 'Deushi', 'Doi', 'Ebina', 'Ebisawa', 'Eda', 'Egami', 'Eguchi', 'Ekiguchi', 'Endo', 'Endoso', 'Enoki', 'Enomoto', 'Erizawa', 'Eto', 'Etsuko', 'Ezakiya', 'Fuchida', 'Fugunaga', 'Fujikage', 'Fujimaki', 'Fujimoto', 'Fujioka', 'Fujishima', 'Fujita', 'Fujiwara', 'Fukao', 'Fukayama', 'Fukuda', 'Fukumitsu', 'Fukunaka', 'Fukuoka', 'Fukusaku', 'Fukushima', 'Fukuyama', 'Fukuzawa', 'Fumihiko', 'Funabashi', 'Funaki', 'Funakoshi', 'Furusawa', 'Fuschida', 'Fuse', 'Futabatei', 'Fuwa', 'Gakusha', 'Genda', 'Genji', 'Gensai', 'Godo', 'Goto', 'Gushiken', 'Hachirobei', 'Haga', 'Hagino', 'Hagiwara', 'Hama', 'Hamacho', 'Hamada', 'Hamaguchi', 'Hamamoto', 'Hanabusa', 'Hanari', 'Handa', 'Hara', 'Harada', 'Haruguchi', 'Hasegawa', 'Hasekura', 'Hashimoto', 'Hasimoto', 'Hatakeda', 'Hatakeyama', 'Hatayama', 'Hatoyama', 'Hattori', 'Hayakawa', 'Hayami', 'Hayashi', 'Hayashida', 'Hayata', 'Hayuata', 'Hida', 'Hideaki', 'Hideki', 'Hideyoshi', 'Higashikuni', 'Higashiyama', 'Higo', 'Higoshi', 'Higuchi', 'Hike', 'Hino', 'Hira', 'Hiraga', 'Hiraki', 'Hirano', 'Hiranuma', 'Hiraoka', 'Hirase', 'Hirasi', 'Hirata', 'Hiratasuka', 'Hirayama', 'Hiro', 'Hirose', 'Hirota', 'Hiroyuki', 'Hisamatsu', 'Hishida', 'Hishikawa', 'Hitomi', 'Hiyama', 'Hohki', 'Hojo', 'Hokusai', 'Honami', 'Honda', 'Hori', 'Horigome', 'Horigoshi', 'Horiuchi', 'Horri', 'Hoshino', 'Hosokawa', 'Hosokaya', 'Hotate', 'Hotta', 'Hyata', 'Hyobanshi', 'Ibi', 'Ibu', 'Ibuka', 'Ichigawa', 'Ichihara', 'Ichikawa', 'Ichimonji', 'Ichiro', 'Ichisada', 'Ichiyusai', 'Idane', 'Iemochi', 'Ienari', 'Iesada', 'Ieyasu', 'Ieyoshi', 'Igarashi', 'Ihara', 'Ii', 'Iida', 'Iijima', 'Iitaka', 'Ijichi', 'Ijiri', 'Ikeda', 'Ikina', 'Ikoma', 'Imada', 'Imagawa', 'Imai', 'Imaizumi', 'Imamura', 'Imoo', 'Ina', 'Inaba', 'Inao', 'Inihara', 'Ino', 'Inoguchi', 'Inokuma', 'Inoue', 'Inouye', 'Inukai', 'Ippitsusai', 'Irie', 'Iriye', 'Isayama', 'Ise', 'Iseki', 'Iseya', 'Ishibashi', 'Ishida', 'Ishiguro', 'Ishihara', 'Ishikawa', 'Ishimaru', 'Ishimura', 'Ishinomori', 'Ishiyama', 'Isobe', 'Isoda', 'Isozaki', 'Itagaki', 'Itami', 'Ito', 'Itoh', 'Iwahara', 'Iwahashi', 'Iwakura', 'Iwasa', 'Iwasaki', 'Izumi', 'Jimbo', 'Jippensha', 'Jo', 'Joshuya', 'Joshuyo', 'Jukodo', 'Jumonji', 'Kada', 'Kagabu', 'Kagawa', 'Kahae', 'Kahaya', 'Kaibara', 'Kaima', 'Kajahara', 'Kajitani', 'Kajiwara', 'Kajiyama', 'Kakinomoto', 'Kakutama', 'Kamachi', 'Kamata', 'Kaminaga', 'Kamio', 'Kamioka', 'Kamisaka', 'Kamo', 'Kamon', 'Kan', 'Kanada', 'Kanagaki', 'Kanegawa', 'Kaneko', 'Kanesaka', 'Kano', 'Karamorita', 'Karube', 'Karubo', 'Kasahara', 'Kasai', 'Kasamatsu', 'Kasaya', 'Kase', 'Kashiwagi', 'Kasuse', 'Kataoka', 'Katayama', 'Katayanagi', 'Kate', 'Kato', 'Katoaka', 'Katsu', 'Katsukawa', 'Katsumata', 'Katsura', 'Katsushika', 'Kawabata', 'Kawachi', 'Kawagichi', 'Kawagishi', 'Kawaguchi', 'Kawai', 'Kawaii', 'Kawakami', 'Kawamata', 'Kawamura', 'Kawasaki', 'Kawasawa', 'Kawashima', 'Kawasie', 'Kawatake', 'Kawate', 'Kawayama', 'Kawazu', 'Kaza', 'Kazuyoshi', 'Kenkyusha', 'Kenmotsu', 'Kentaro', 'Ki', 'Kido', 'Kihara', 'Kijimuta', 'Kijmuta', 'Kikkawa', 'Kikuchi', 'Kikugawa', 'Kikui', 'Kikutake', 'Kimio', 'Kimiyama', 'Kimura', 'Kinashita', 'Kinoshita', 'Kinugasa', 'Kira', 'Kishi', 'Kiski', 'Kita', 'Kitabatake', 'Kitagawa', 'Kitamura', 'Kitano', 'Kitao', 'Kitoaji', 'Ko', 'Kobayashi', 'Kobi', 'Kodama', 'Koga', 'Kogara', 'Kogo', 'Koguchi', 'Koiso', 'Koizumi', 'Kojima', 'Kokan', 'Komagata', 'Komatsu', 'Komatsuzaki', 'Komine', 'Komiya', 'Komon', 'Komura', 'Kon', 'Konae', 'Konda', 'Kondo', 'Konishi', 'Kono', 'Konoe', 'Koruba', 'Koshin', 'Kotara', 'Kotoku', 'Koyama', 'Koyanagi', 'Kozu', 'Kubo', 'Kubota', 'Kudara', 'Kudo', 'Kuga', 'Kumagae', 'Kumasaka', 'Kunda', 'Kunikida', 'Kunisada', 'Kuno', 'Kunomasu', 'Kuramochi', 'Kuramoto', 'Kurata', 'Kurkawa', 'Kurmochi', 'Kuroda', 'Kurofuji', 'Kurogane', 'Kurohiko', 'Kuroki', 'Kurosawa', 'Kurusu', 'Kusatsu', 'Kusonoki', 'Kusuhara', 'Kusunoki', 'Kuwabara', 'Kwakami', 'Kyubei', 'Maeda', 'Maehata', 'Maeno', 'Maita', 'Makiguchi', 'Makino', 'Makioka', 'Makuda', 'Marubeni', 'Marugo', 'Marusa', 'Maruya', 'Maruyama', 'Masanobu', 'Masaoka', 'Mashita', 'Masoni', 'Masudu', 'Masuko', 'Masuno', 'Masuzoe', 'Matano', 'Matokai', 'Matoke', 'Matsuda', 'Matsukata', 'Matsuki', 'Matsumara', 'Matsumoto', 'Matsumura', 'Matsuo', 'Matsuoka', 'Matsura', 'Matsushina', 'Matsushita', 'Matsuya', 'Matsuzawa', 'Mayuzumi', 'Mazaki', 'Mazawa', 'Mazuka', 'Mifune', 'Mihashi', 'Miki', 'Mimasuya', 'Minabuchi', 'Minami', 'Minamoto', 'Minatoya', 'Minobe', 'Mishima', 'Mitsubishi', 'Mitsuharu', 'Mitsui', 'Mitsukuri', 'Mitsuwa', 'Mitsuya', 'Mitzusaka', 'Miura', 'Miwa', 'Miyagi', 'Miyahara', 'Miyajima', 'Miyake', 'Miyamae', 'Miyamoto', 'Miyazaki', 'Miyazawa', 'Miyoshi', 'Mizoguchi', 'Mizumaki', 'Mizuno', 'Mizutani', 'Modegi', 'Momotami', 'Momotani', 'Monomonoi', 'Mori', 'Moriguchi', 'Morimoto', 'Morinaga', 'Morioka', 'Morishita', 'Morisue', 'Morita', 'Morri', 'Moto', 'Motoori', 'Motoyoshi', 'Munakata', 'Munkata', 'Muraguchi', 'Murakami', 'Muraoka', 'Murasaki', 'Murase', 'Murata', 'Murkami', 'Muro', 'Muruyama', 'Mushanaokoji', 'Mushashibo', 'Muso', 'Mutsu', 'Nagahama', 'Nagai', 'Nagano', 'Nagasawa', 'Nagase', 'Nagata', 'Nagatsuka', 'Nagumo', 'Naito', 'Nakada', 'Nakadai', 'Nakadan', 'Nakae', 'Nakagawa', 'Nakahara', 'Nakajima', 'Nakamoto', 'Nakamura', 'Nakane', 'Nakanishi', 'Nakano', 'Nakanoi', 'Nakao', 'Nakasato', 'Nakasawa', 'Nakasone', 'Nakata', 'Nakatoni', 'Nakayama', 'Nakazawa', 'Namiki', 'Nanami', 'Narahashi', 'Narato', 'Narita', 'Nataga', 'Natsume', 'Nawabe', 'Nemoto', 'Niijima', 'Nijo', 'Ninomiya', 'Nishi', 'Nishihara', 'Nishikawa', 'Nishimoto', 'Nishimura', 'Nishimuraya', 'Nishio', 'Nishiwaki', 'Nitta', 'Nobunaga', 'Noda', 'Nogi', 'Noguchi', 'Nogushi', 'Nomura', 'Nonomura', 'Noro', 'Nosaka', 'Nose', 'Nozaki', 'Nozara', 'Numajiri', 'Numata', 'Obata', 'Obinata', 'Obuchi', 'Ochiai', 'Ochida', 'Odaka', 'Ogata', 'Ogiwara', 'Ogura', 'Ogyu', 'Ohba', 'Ohira', 'Ohishi', 'Ohka', 'Ohmae', 'Ohmiya', 'Oichi', 'Oinuma', 'Oishi', 'Okabe', 'Okada', 'Okakura', 'Okamoto', 'Okamura', 'Okanao', 'Okanaya', 'Okano', 'Okasawa', 'Okawa', 'Okazaki', 'Okazawaya', 'Okimasa', 'Okimoto', 'Okita', 'Okubo', 'Okuda', 'Okui', 'Okuma', 'Okuma', 'Okumura', 'Okura', 'Omori', 'Omura', 'Onishi', 'Ono', 'Onoda', 'Onoe', 'Onohara', 'Ooka', 'Osagawa', 'Osaragi', 'Oshima', 'Oshin', 'Ota', 'Otaka', 'Otake', 'Otani', 'Otomo', 'Otsu', 'Otsuka', 'Ouchi', 'Oyama', 'Ozaki', 'Ozawa', 'Ozu', 'Raikatuji', 'Royama', 'Ryusaki', 'Sada', 'Saeki', 'Saga', 'Saigo', 'Saiki', 'Saionji', 'Saito', 'Saitoh', 'Saji', 'Sakagami', 'Sakai', 'Sakakibara', 'Sakamoto', 'Sakanoue', 'Sakata', 'Sakiyurai', 'Sakoda', 'Sakubara', 'Sakuraba', 'Sakurai', 'Sammiya', 'Sanda', 'Sanjo', 'Sano', 'Santo', 'Saromi', 'Sarumara', 'Sasada', 'Sasakawa', 'Sasaki', 'Sassa', 'Satake', 'Sato', 'Satoh', 'Satoya', 'Sawamatsu', 'Sawamura', 'Sayuki', 'Segawa', 'Sekigawa', 'Sekine', 'Sekozawa', 'Sen', 'Senmatsu', 'Seo', 'Serizawa', 'Shiba', 'Shibaguchi', 'Shibanuma', 'Shibasaki', 'Shibasawa', 'Shibata', 'Shibukji', 'Shichirobei', 'Shidehara', 'Shiga', 'Shiganori', 'Shige', 'Shigeki', 'Shigemitsu', 'Shigi', 'Shikitei', 'Shikuk', 'Shima', 'Shimada', 'Shimakage', 'Shimamura', 'Shimanouchi', 'Shimaoka', 'Shimazaki', 'Shimazu', 'Shimedzu', 'Shimizu', 'Shimohira', 'Shimon', 'Shimura', 'Shimuzu', 'Shinko', 'Shinozaki', 'Shinozuka', 'Shintaro', 'Shiokawa', 'Shiomi', 'Shiomiya', 'Shionoya', 'Shiotani', 'Shioya', 'Shirahata', 'Shirai', 'Shiraishi', 'Shirane', 'Shirasu', 'Shiratori', 'Shirokawa', 'Shiroyama', 'Shiskikura', 'Shizuma', 'Shobo', 'Shoda', 'Shunji', 'Shunsen', 'Siagyo', 'Soga', 'Sohda', 'Soho', 'Soma', 'Someya', 'Sone', 'Sonoda', 'Soseki', 'Sotomura', 'Suenami', 'Sugai', 'Sugase', 'Sugawara', 'Sugihara', 'Sugimura', 'Sugisata', 'Sugita', 'Sugitani', 'Sugiyama', 'Sumitimo', 'Sunada', 'Suzambo', 'Suzuki', 'Tabuchi', 'Tadeshi', 'Tagawa', 'Taguchi', 'Taira', 'Taka', 'Takabe', 'Takagaki', 'Takagawa', 'Takagi', 'Takahama', 'Takahashi', 'Takaki', 'Takamura', 'Takano', 'Takaoka', 'Takara', 'Takarabe', 'Takashi', 'Takashita', 'Takasu', 'Takasugi', 'Takayama', 'Takecare', 'Takeda', 'Takei', 'Takekawa', 'Takemago', 'Takemitsu', 'Takemura', 'Takenouchi', 'Takeshita', 'Taketomo', 'Takeuchi', 'Takewaki', 'Takimoto', 'Takishida', 'Takishita', 'Takizawa', 'Taku', 'Takudo', 'Takudome', 'Tamazaki', 'Tamura', 'Tamuro', 'Tanaka', 'Tange', 'Tani', 'Taniguchi', 'Tanizaki', 'Tankoshitsu', 'Tansho', 'Tanuma', 'Tarumi', 'Tatenaka', 'Tatsuko', 'Tatsuno', 'Tatsuya', 'Tawaraya', 'Tayama', 'Temko', 'Tenshin', 'Terada', 'Terajima', 'Terakado', 'Terauchi', 'Teshigahara', 'Teshima', 'Tochikura', 'Togo', 'Tojo', 'Tokaji', 'Tokuda', 'Tokudome', 'Tokuoka', 'Tomika', 'Tomimoto', 'Tomioka', 'Tommii', 'Tomonaga', 'Tomori', 'Tono', 'Torii', 'Torisei', 'Toru', 'Toshishai', 'Toshitala', 'Toshusai', 'Toyama', 'Toyoda', 'Toyoshima', 'Toyota', 'Toyotomi', 'Tsubouchi', 'Tsucgimoto', 'Tsuchie', 'Tsuda', 'Tsuji', 'Tsujimoto', 'Tsujimura', 'Tsukada', 'Tsukade', 'Tsukahara', 'Tsukamoto', 'Tsukatani', 'Tsukawaki', 'Tsukehara', 'Tsukioka', 'Tsumemasa', 'Tsumura', 'Tsunoda', 'Tsurimi', 'Tsuruga', 'Tsuruya', 'Tsushima', 'Tsutaya', 'Tsutomu', 'Uboshita', 'Uchida', 'Uchiyama', 'Ueda', 'Uehara', 'Uemura', 'Ueshima', 'Uesugi', 'Uetake', 'Ugaki', 'Ui', 'Ukiyo', 'Umari', 'Umehara', 'Umeki', 'Uno', 'Uoya', 'Urogataya', 'Usami', 'Ushiba', 'Utagawa', 'Wakai', 'Wakatsuki', 'Watabe', 'Watanabe', 'Watari', 'Watnabe', 'Watoga', 'Yakuta', 'Yamabe', 'Yamada', 'Yamagata', 'Yamaguchi', 'Yamaguchiya', 'Yamaha', 'Yamahata', 'Yamakage', 'Yamakawa', 'Yamakazi', 'Yamamoto', 'Yamamura', 'Yamana', 'Yamanaka', 'Yamanouchi', 'Yamanoue', 'Yamaoka', 'Yamashita', 'Yamato', 'Yamawaki', 'Yamazaki', 'Yamhata', 'Yamura', 'Yanagawa', 'Yanagi', 'Yanagimoto', 'Yanagita', 'Yano', 'Yasuda', 'Yasuhiro', 'Yasui', 'Yasujiro', 'Yasukawa', 'Yasutake', 'Yoemon', 'Yokokawa', 'Yokoyama', 'Yonai', 'Yosano', 'Yoshida', 'Yoshifumi', 'Yoshihara', 'Yoshikawa', 'Yoshimatsu', 'Yoshinobu', 'Yoshioka', 'Yoshitomi', 'Yoshizaki', 'Yoshizawa', 'Yuasa', 'Yuhara', 'Yunokawa'], 'Italian': ['Abandonato', 'Abatangelo', 'Abatantuono', 'Abate', 'Abategiovanni', 'Abatescianni', 'Abba', 'Abbadelli', 'Abbascia', 'Abbatangelo', 'Abbatantuono', 'Abbate', 'Abbatelli', 'Abbaticchio', 'Abbiati', 'Abbracciabene', 'Abbracciabeni', 'Abelli', 'Abello', 'Abrami', 'Abramo', 'Acardi', 'Accardi', 'Accardo', 'Acciai', 'Acciaio', 'Acciaioli', 'Acconci', 'Acconcio', 'Accorsi', 'Accorso', 'Accosi', 'Accursio', 'Acerbi', 'Acone', 'Aconi', 'Acqua', 'Acquafredda', 'Acquarone', 'Acquati', 'Adalardi', 'Adami', 'Adamo', 'Adamoli', 'Addario', 'Adelardi', 'Adessi', 'Adimari', 'Adriatico', 'Affini', 'Africani', 'Africano', 'Agani', 'Aggi', 'Aggio', 'Agli', 'Agnelli', 'Agnellutti', 'Agnusdei', 'Agosti', 'Agostini', 'Agresta', 'Agrioli', 'Aiello', 'Aiolfi', 'Airaldi', 'Airo', 'Aita', 'Ajello', 'Alagona', 'Alamanni', 'Albanesi', 'Albani', 'Albano', 'Alberghi', 'Alberghini', 'Alberici', 'Alberighi', 'Albero', 'Albini', 'Albricci', 'Albrici', 'Alcheri', 'Aldebrandi', 'Alderisi', 'Alduino', 'Alemagna', 'Aleppo', 'Alesci', 'Alescio', 'Alesi', 'Alesini', 'Alesio', 'Alessandri', 'Alessi', 'Alfero', 'Aliberti', 'Alinari', 'Aliprandi', 'Allegri', 'Allegro', 'Alo', 'Aloia', 'Aloisi', 'Altamura', 'Altimari', 'Altoviti', 'Alunni', 'Amadei', 'Amadori', 'Amalberti', 'Amantea', 'Amato', 'Amatore', 'Ambrogi', 'Ambrosi', 'Amello', 'Amerighi', 'Amoretto', 'Angioli', 'Ansaldi', 'Anselmetti', 'Anselmi', 'Antonelli', 'Antonini', 'Antonino', 'Aquila', 'Aquino', 'Arbore', 'Ardiccioni', 'Ardizzone', 'Ardovini', 'Arena', 'Aringheri', 'Arlotti', 'Armani', 'Armati', 'Armonni', 'Arnolfi', 'Arnoni', 'Arrighetti', 'Arrighi', 'Arrigucci', 'Aucciello', 'Azzara', 'Baggi', 'Baggio', 'Baglio', 'Bagni', 'Bagnoli', 'Balboni', 'Baldi', 'Baldini', 'Baldinotti', 'Baldovini', 'Bandini', 'Bandoni', 'Barbieri', 'Barone', 'Barsetti', 'Bartalotti', 'Bartolomei', 'Bartolomeo', 'Barzetti', 'Basile', 'Bassanelli', 'Bassani', 'Bassi', 'Basso', 'Basurto', 'Battaglia', 'Bazzoli', 'Bellandi', 'Bellandini', 'Bellincioni', 'Bellini', 'Bello', 'Bellomi', 'Belloni', 'Belluomi', 'Belmonte', 'Bencivenni', 'Benedetti', 'Benenati', 'Benetton', 'Benini', 'Benivieni', 'Benvenuti', 'Berardi', 'Bergamaschi', 'Berti', 'Bertolini', 'Biancardi', 'Bianchi', 'Bicchieri', 'Biondi', 'Biondo', 'Boerio', 'Bologna', 'Bondesan', 'Bonomo', 'Borghi', 'Borgnino', 'Borgogni', 'Bosco', 'Bove', 'Bover', 'Boveri', 'Brambani', 'Brambilla', 'Breda', 'Brioschi', 'Brivio', 'Brunetti', 'Bruno', 'Buffone', 'Bulgarelli', 'Bulgari', 'Buonarroti', 'Busto', 'Caiazzo', 'Caito', 'Caivano', 'Calabrese', 'Calligaris', 'Campana', 'Campo', 'Cantu', 'Capello', 'Capello', 'Capello', 'Capitani', 'Carbone', 'Carboni', 'Carideo', 'Carlevaro', 'Caro', 'Carracci', 'Carrara', 'Caruso', 'Cassano', 'Castro', 'Catalano', 'Cattaneo', 'Cavalcante', 'Cavallo', 'Cingolani', 'Cino', 'Cipriani', 'Cisternino', 'Coiro', 'Cola', 'Colombera', 'Colombo', 'Columbo', 'Como', 'Como', 'Confortola', 'Conti', 'Corna', 'Corti', 'Corvi', 'Costa', 'Costantini', 'Costanzo', 'Cracchiolo', 'Cremaschi', 'Cremona', 'Cremonesi', 'Crespo', 'Croce', 'Crocetti', 'Cucinotta', 'Cuocco', 'Cuoco', \"D'ambrosio\", 'Damiani', \"D'amore\", \"D'angelo\", \"D'antonio\", 'De angelis', 'De campo', 'De felice', 'De filippis', 'De fiore', 'De laurentis', 'De luca', 'De palma', 'De rege', 'De santis', 'De vitis', 'Di antonio', 'Di caprio', 'Di mercurio', 'Dinapoli', 'Dioli', 'Di pasqua', 'Di pietro', 'Di stefano', 'Donati', \"D'onofrio\", 'Drago', 'Durante', 'Elena', 'Episcopo', 'Ermacora', 'Esposito', 'Evangelista', 'Fabbri', 'Fabbro', 'Falco', 'Faraldo', 'Farina', 'Farro', 'Fattore', 'Fausti', 'Fava', 'Favero', 'Fermi', 'Ferrara', 'Ferrari', 'Ferraro', 'Ferrero', 'Ferro', 'Fierro', 'Filippi', 'Fini', 'Fiore', 'Fiscella', 'Fiscella', 'Fonda', 'Fontana', 'Fortunato', 'Franco', 'Franzese', 'Furlan', 'Gabrielli', 'Gagliardi', 'Gallo', 'Ganza', 'Garfagnini', 'Garofalo', 'Gaspari', 'Gatti', 'Genovese', 'Gentile', 'Germano', 'Giannino', 'Gimondi', 'Giordano', 'Gismondi', 'Giugovaz', 'Giunta', 'Goretti', 'Gori', 'Greco', 'Grillo', 'Grimaldi', 'Gronchi', 'Guarneri', 'Guerra', 'Guerriero', 'Guidi', 'Guttuso', 'Idoni', 'Innocenti', 'Labriola', 'Laconi', 'Lagana', 'Lagomarsino', 'Lagorio', 'Laguardia', 'Lama', 'Lamberti', 'Lamon', 'Landi', 'Lando', 'Landolfi', 'Laterza', 'Laurito', 'Lazzari', 'Lecce', 'Leccese', 'Leggieri', 'Lemmi', 'Leone', 'Leoni', 'Lippi', 'Locatelli', 'Lombardi', 'Longo', 'Lupo', 'Luzzatto', 'Maestri', 'Magro', 'Mancini', 'Manco', 'Mancuso', 'Manfredi', 'Manfredonia', 'Mantovani', 'Marchegiano', 'Marchesi', 'Marchetti', 'Marchioni', 'Marconi', 'Mari', 'Maria', 'Mariani', 'Marino', 'Marmo', 'Martelli', 'Martinelli', 'Masi', 'Masin', 'Mazza', 'Merlo', 'Messana', 'Micheli', 'Milani', 'Milano', 'Modugno', 'Mondadori', 'Mondo', 'Montagna', 'Montana', 'Montanari', 'Monte', 'Monti', 'Morandi', 'Morello', 'Moretti', 'Morra', 'Moschella', 'Mosconi', 'Motta', 'Muggia', 'Muraro', 'Murgia', 'Murtas', 'Nacar', 'Naggi', 'Naggia', 'Naldi', 'Nana', 'Nani', 'Nanni', 'Nannini', 'Napoleoni', 'Napoletani', 'Napoliello', 'Nardi', 'Nardo', 'Nardovino', 'Nasato', 'Nascimbene', 'Nascimbeni', 'Natale', 'Nave', 'Nazario', 'Necchi', 'Negri', 'Negrini', 'Nelli', 'Nenci', 'Nepi', 'Neri', 'Neroni', 'Nervetti', 'Nervi', 'Nespola', 'Nicastro', 'Nicchi', 'Nicodemo', 'Nicolai', 'Nicolosi', 'Nicosia', 'Nicotera', 'Nieddu', 'Nieri', 'Nigro', 'Nisi', 'Nizzola', 'Noschese', 'Notaro', 'Notoriano', 'Oberti', 'Oberto', 'Ongaro', 'Orlando', 'Orsini', 'Pace', 'Padovan', 'Padovano', 'Pagani', 'Pagano', 'Palladino', 'Palmisano', 'Palumbo', 'Panzavecchia', 'Parisi', 'Parma', 'Parodi', 'Parri', 'Parrino', 'Passerini', 'Pastore', 'Paternoster', 'Pavesi', 'Pavone', 'Pavoni', 'Pecora', 'Pedrotti', 'Pellegrino', 'Perugia', 'Pesaresi', 'Pesaro', 'Pesce', 'Petri', 'Pherigo', 'Piazza', 'Piccirillo', 'Piccoli', 'Pierno', 'Pietri', 'Pini', 'Piovene', 'Piraino', 'Pisani', 'Pittaluga', 'Poggi', 'Poggio', 'Poletti', 'Pontecorvo', 'Portelli', 'Porto', 'Portoghese', 'Potenza', 'Pozzi', 'Profeta', 'Prosdocimi', 'Provenza', 'Provenzano', 'Pugliese', 'Quaranta', 'Quattrocchi', 'Ragno', 'Raimondi', 'Rais', 'Rana', 'Raneri', 'Rao', 'Rapallino', 'Ratti', 'Ravenna', 'Re', 'Ricchetti', 'Ricci', 'Riggi', 'Righi', 'Rinaldi', 'Riva', 'Rizzo', 'Robustelli', 'Rocca', 'Rocchi', 'Rocco', 'Roma', 'Roma', 'Romagna', 'Romagnoli', 'Romano', 'Romano', 'Romero', 'Roncalli', 'Ronchi', 'Rosa', 'Rossi', 'Rossini', 'Rotolo', 'Rovigatti', 'Ruggeri', 'Russo', 'Rustici', 'Ruzzier', 'Sabbadin', 'Sacco', 'Sala', 'Salomon', 'Salucci', 'Salvaggi', 'Salvai', 'Salvail', 'Salvatici', 'Salvay', 'Sanna', 'Sansone', 'Santini', 'Santoro', 'Sapienti', 'Sarno', 'Sarti', 'Sartini', 'Sarto', 'Savona', 'Scarpa', 'Scarsi', 'Scavo', 'Sciacca', 'Sciacchitano', 'Sciarra', 'Scordato', 'Scotti', 'Scutese', 'Sebastiani', 'Sebastino', 'Segreti', 'Selmone', 'Selvaggio', 'Serafin', 'Serafini', 'Serpico', 'Sessa', 'Sgro', 'Siena', 'Silvestri', 'Sinagra', 'Sinagra', 'Soldati', 'Somma', 'Sordi', 'Soriano', 'Sorrentino', 'Spada', 'Spano', 'Sparacello', 'Speziale', 'Spini', 'Stabile', 'Stablum', 'Stilo', 'Sultana', 'Tafani', 'Tamaro', 'Tamboia', 'Tanzi', 'Tarantino', 'Taverna', 'Tedesco', 'Terranova', 'Terzi', 'Tessaro', 'Testa', 'Tiraboschi', 'Tivoli', 'Todaro', 'Toloni', 'Tornincasa', 'Toselli', 'Tosetti', 'Tosi', 'Tosto', 'Trapani', 'Traversa', 'Traversi', 'Traversini', 'Traverso', 'Trucco', 'Trudu', 'Tumicelli', 'Turati', 'Turchi', 'Uberti', 'Uccello', 'Uggeri', 'Ughi', 'Ungaretti', 'Ungaro', 'Vacca', 'Vaccaro', 'Valenti', 'Valentini', 'Valerio', 'Varano', 'Ventimiglia', 'Ventura', 'Verona', 'Veronesi', 'Vescovi', 'Vespa', 'Vestri', 'Vicario', 'Vico', 'Vigo', 'Villa', 'Vinci', 'Vinci', 'Viola', 'Vitali', 'Viteri', 'Voltolini', 'Zambrano', 'Zanetti', 'Zangari', 'Zappa', 'Zeni', 'Zini', 'Zino', 'Zunino'], 'French': ['Abel', 'Abraham', 'Adam', 'Albert', 'Allard', 'Archambault', 'Armistead', 'Arthur', 'Augustin', 'Babineaux', 'Baudin', 'Beauchene', 'Beaulieu', 'Beaumont', 'Belanger', 'Bellamy', 'Bellerose', 'Belrose', 'Berger', 'Beringer', 'Bernard', 'Bertrand', 'Bisset', 'Bissette', 'Blaise', 'Blanc', 'Blanchet', 'Blanchett', 'Bonfils', 'Bonheur', 'Bonhomme', 'Bonnaire', 'Bonnay', 'Bonner', 'Bonnet', 'Borde', 'Bordelon', 'Bouchard', 'Boucher', 'Brisbois', 'Brodeur', 'Bureau', 'Caron', 'Cavey', 'Chaput', 'Charbonneau', 'Charpentier', 'Charron', 'Chastain', 'Chevalier', 'Chevrolet', 'Cloutier', 'Colbert', 'Comtois', 'Cornett', 'Cote', 'Coupe', 'Courtemanche', 'Cousineau', 'Couture', 'Daniau', \"D'aramitz\", 'Daviau', 'David', 'Deforest', 'Degarmo', 'Delacroix', 'De la fontaine', 'Deniau', 'Deniaud', 'Deniel', 'Denis', 'De sauveterre', 'Deschamps', 'Descoteaux', 'Desjardins', 'Desrochers', 'Desrosiers', 'Dubois', 'Duchamps', 'Dufort', 'Dufour', 'Duguay', 'Dupond', 'Dupont', 'Durand', 'Durant', 'Duval', 'Emile', 'Eustis', 'Fabian', 'Fabre', 'Fabron', 'Faucher', 'Faucheux', 'Faure', 'Favager', 'Favre', 'Favreau', 'Fay', 'Felix', 'Firmin', 'Fontaine', 'Forest', 'Forestier', 'Fortier', 'Foss', 'Fournier', 'Gage', 'Gagne', 'Gagnier', 'Gagnon', 'Garcon', 'Gardinier', 'Germain', 'Geroux', 'Giles', 'Girard', 'Giroux', 'Glaisyer', 'Gosse', 'Gosselin', 'Granger', 'Guerin', 'Guillory', 'Hardy', 'Harman', 'Hebert', 'Herbert', 'Herriot', 'Jacques', 'Janvier', 'Jordan', 'Joubert', 'Labelle', 'Lachance', 'Lachapelle', 'Lamar', 'Lambert', 'Lane', 'Langlais', 'Langlois', 'Lapointe', 'Larue', 'Laurent', 'Lavigne', 'Lavoie', 'Leandres', 'Lebeau', 'Leblanc', 'Leclair', 'Leclerc', 'Lecuyer', 'Lefebvre', 'Lefevre', 'Lefurgey', 'Legrand', 'Lemaire', 'Lemieux', 'Leon', 'Leroy', 'Lesauvage', 'Lestrange', 'Leveque', 'Levesque', 'Linville', 'Lyon', 'Lyon', 'Macon', 'Marchand', 'Marie', 'Marion', 'Martel', 'Martel', 'Martin', 'Masson', 'Masson', 'Mathieu', 'Mercier', 'Merle', 'Michaud', 'Michel', 'Monet', 'Monette', 'Montagne', 'Moreau', 'Moulin', 'Mullins', 'Noel', 'Oliver', 'Olivier', 'Page', 'Paget', 'Palomer', 'Pan', 'Pape', 'Paquet', 'Paquet', 'Parent', 'Paris', 'Parris', 'Pascal', 'Patenaude', 'Paternoster', 'Paul', 'Pelletier', 'Perrault', 'Perreault', 'Perrot', 'Petit', 'Pettigrew', 'Pierre', 'Plamondon', 'Plourde', 'Poingdestre', 'Poirier', 'Porcher', 'Poulin', 'Proulx', 'Renaud', 'Rey', 'Reyer', 'Richard', 'Richelieu', 'Robert', 'Roche', 'Rome', 'Romilly', 'Rose', 'Rousseau', 'Roux', 'Roy', 'Royer', 'Salomon', 'Salvage', 'Samson', 'Samuel', 'Sargent', 'Sarkozi', 'Sarkozy', 'Sartre', 'Sault', 'Sauvage', 'Sauvageau', 'Sauvageon', 'Sauvageot', 'Sauveterre', 'Savatier', 'Segal', 'Sergeant', 'Severin', 'Simon', 'Solomon', 'Soucy', 'St martin', 'St pierre', 'Tailler', 'Tasse', 'Thayer', 'Thibault', 'Thomas', 'Tobias', 'Tolbert', 'Traver', 'Travere', 'Travers', 'Traverse', 'Travert', 'Tremblay', 'Tremble', 'Victor', 'Victors', 'Villeneuve', 'Vincent', 'Vipond', 'Voclain', 'Yount'], 'Scottish': ['Smith', 'Brown', 'Wilson', 'Campbell', 'Stewart', 'Thomson', 'Robertson', 'Anderson', 'Macdonald', 'Scott', 'Reid', 'Murray', 'Taylor', 'Clark', 'Ross', 'Watson', 'Morrison', 'Paterson', 'Young', 'Mitchell', 'Walker', 'Fraser', 'Miller', 'Mcdonald', 'Gray', 'Henderson', 'Hamilton', 'Johnston', 'Duncan', 'Graham', 'Ferguson', 'Kerr', 'Davidson', 'Bell', 'Cameron', 'Kelly', 'Martin', 'Hunter', 'Allan', 'Mackenzie', 'Grant', 'Simpson', 'Mackay', 'Mclean', 'Macleod', 'Black', 'Russell', 'Marshall', 'Wallace', 'Gibson', 'Kennedy', 'Gordon', 'Burns', 'Sutherland', 'Stevenson', 'Munro', 'Milne', 'Watt', 'Murphy', 'Craig', 'Wood', 'Muir', 'Wright', 'Mckenzie', 'Ritchie', 'Johnstone', 'Sinclair', 'White', 'Mcmillan', 'Williamson', 'Dickson', 'Hughes', 'Cunningham', 'Mckay', 'Bruce', 'Millar', 'Crawford', 'Mcintosh', 'Douglas', 'Docherty', 'King', 'Jones', 'Boyle', 'Fleming', 'Mcgregor', 'Aitken', 'Christie', 'Shaw', 'Maclean', 'Jamieson', 'Mcintyre', 'Hay', 'Lindsay', 'Alexander', 'Ramsay', 'Mccallum', 'Whyte', 'Jackson', 'Mclaughlin', 'Hill'], 'Arabic': ['Khoury', 'Nahas', 'Daher', 'Gerges', 'Nazari', 'Maalouf', 'Gerges', 'Naifeh', 'Guirguis', 'Baba', 'Sabbagh', 'Attia', 'Tahan', 'Haddad', 'Aswad', 'Najjar', 'Dagher', 'Maloof', 'Isa', 'Asghar', 'Nader', 'Gaber', 'Abboud', 'Maalouf', 'Zogby', 'Srour', 'Bahar', 'Mustafa', 'Hanania', 'Daher', 'Tuma', 'Nahas', 'Saliba', 'Shamoon', 'Handal', 'Baba', 'Amari', 'Bahar', 'Atiyeh', 'Said', 'Khouri', 'Tahan', 'Baba', 'Mustafa', 'Guirguis', 'Sleiman', 'Seif', 'Dagher', 'Bahar', 'Gaber', 'Harb', 'Seif', 'Asker', 'Nader', 'Antar', 'Awad', 'Srour', 'Shadid', 'Hajjar', 'Hanania', 'Kalb', 'Shadid', 'Bazzi', 'Mustafa', 'Masih', 'Ghanem', 'Haddad', 'Isa', 'Antoun', 'Sarraf', 'Sleiman', 'Dagher', 'Najjar', 'Malouf', 'Nahas', 'Naser', 'Saliba', 'Shamon', 'Malouf', 'Kalb', 'Daher', 'Maalouf', 'Wasem', 'Kanaan', 'Naifeh', 'Boutros', 'Moghadam', 'Masih', 'Sleiman', 'Aswad', 'Cham', 'Assaf', 'Quraishi', 'Shalhoub', 'Sabbag', 'Mifsud', 'Gaber', 'Shammas', 'Tannous', 'Sleiman', 'Bazzi', 'Quraishi', 'Rahal', 'Cham', 'Ghanem', 'Ghanem', 'Naser', 'Baba', 'Shamon', 'Almasi', 'Basara', 'Quraishi', 'Bata', 'Wasem', 'Shamoun', 'Deeb', 'Touma', 'Asfour', 'Deeb', 'Hadad', 'Naifeh', 'Touma', 'Bazzi', 'Shamoun', 'Nahas', 'Haddad', 'Arian', 'Kouri', 'Deeb', 'Toma', 'Halabi', 'Nazari', 'Saliba', 'Fakhoury', 'Hadad', 'Baba', 'Mansour', 'Sayegh', 'Antar', 'Deeb', 'Morcos', 'Shalhoub', 'Sarraf', 'Amari', 'Wasem', 'Ganim', 'Tuma', 'Fakhoury', 'Hadad', 'Hakimi', 'Nader', 'Said', 'Ganim', 'Daher', 'Ganem', 'Tuma', 'Boutros', 'Aswad', 'Sarkis', 'Daher', 'Toma', 'Boutros', 'Kanaan', 'Antar', 'Gerges', 'Kouri', 'Maroun', 'Wasem', 'Dagher', 'Naifeh', 'Bishara', 'Ba', 'Cham', 'Kalb', 'Bazzi', 'Bitar', 'Hadad', 'Moghadam', 'Sleiman', 'Shamoun', 'Antar', 'Atiyeh', 'Koury', 'Nahas', 'Kouri', 'Maroun', 'Nassar', 'Sayegh', 'Haik', 'Ghanem', 'Sayegh', 'Salib', 'Cham', 'Bata', 'Touma', 'Antoun', 'Antar', 'Bata', 'Botros', 'Shammas', 'Ganim', 'Sleiman', 'Seif', 'Moghadam', 'Ba', 'Tannous', 'Bazzi', 'Seif', 'Salib', 'Hadad', 'Quraishi', 'Halabi', 'Essa', 'Bahar', 'Kattan', 'Boutros', 'Nahas', 'Sabbagh', 'Kanaan', 'Sayegh', 'Said', 'Botros', 'Najjar', 'Toma', 'Bata', 'Atiyeh', 'Halabi', 'Tannous', 'Kouri', 'Shamoon', 'Kassis', 'Haddad', 'Tuma', 'Mansour', 'Antar', 'Kassis', 'Kalb', 'Basara', 'Rahal', 'Mansour', 'Handal', 'Morcos', 'Fakhoury', 'Hadad', 'Morcos', 'Kouri', 'Quraishi', 'Almasi', 'Awad', 'Naifeh', 'Koury', 'Asker', 'Maroun', 'Fakhoury', 'Sabbag', 'Sarraf', 'Shamon', 'Assaf', 'Boutros', 'Malouf', 'Nassar', 'Qureshi', 'Ghanem', 'Srour', 'Almasi', 'Qureshi', 'Ghannam', 'Mustafa', 'Najjar', 'Kassab', 'Shadid', 'Shamoon', 'Morcos', 'Atiyeh', 'Isa', 'Ba', 'Baz', 'Asker', 'Seif', 'Asghar', 'Hajjar', 'Deeb', 'Essa', 'Qureshi', 'Abboud', 'Ganem', 'Haddad', 'Koury', 'Nassar', 'Abadi', 'Toma', 'Tannous', 'Harb', 'Issa', 'Khouri', 'Mifsud', 'Kalb', 'Gaber', 'Ganim', 'Boulos', 'Samaha', 'Haddad', 'Sabbag', 'Wasem', 'Dagher', 'Rahal', 'Atiyeh', 'Antar', 'Asghar', 'Mansour', 'Awad', 'Boulos', 'Sarraf', 'Deeb', 'Abadi', 'Nazari', 'Daher', 'Gerges', 'Shamoon', 'Gaber', 'Amari', 'Sarraf', 'Nazari', 'Saliba', 'Naifeh', 'Nazari', 'Hakimi', 'Shamon', 'Abboud', 'Quraishi', 'Tahan', 'Safar', 'Hajjar', 'Srour', 'Gaber', 'Shalhoub', 'Attia', 'Safar', 'Said', 'Ganem', 'Nader', 'Asghar', 'Mustafa', 'Said', 'Antar', 'Botros', 'Nader', 'Ghannam', 'Asfour', 'Tahan', 'Mansour', 'Attia', 'Touma', 'Najjar', 'Kassis', 'Abboud', 'Bishara', 'Bazzi', 'Shalhoub', 'Shalhoub', 'Safar', 'Khoury', 'Nazari', 'Sabbag', 'Sleiman', 'Atiyeh', 'Kouri', 'Bitar', 'Zogby', 'Ghanem', 'Assaf', 'Abadi', 'Arian', 'Shalhoub', 'Khoury', 'Morcos', 'Shamon', 'Wasem', 'Abadi', 'Antoun', 'Baz', 'Naser', 'Assaf', 'Saliba', 'Nader', 'Mikhail', 'Naser', 'Daher', 'Morcos', 'Awad', 'Nahas', 'Sarkis', 'Malouf', 'Mustafa', 'Fakhoury', 'Ghannam', 'Shadid', 'Gaber', 'Koury', 'Atiyeh', 'Shamon', 'Boutros', 'Sarraf', 'Arian', 'Fakhoury', 'Abadi', 'Kassab', 'Nahas', 'Quraishi', 'Mansour', 'Samaha', 'Wasem', 'Seif', 'Fakhoury', 'Saliba', 'Cham', 'Bahar', 'Shamoun', 'Essa', 'Shamon', 'Asfour', 'Bitar', 'Cham', 'Tahan', 'Tannous', 'Daher', 'Khoury', 'Shamon', 'Bahar', 'Quraishi', 'Ghannam', 'Kassab', 'Zogby', 'Basara', 'Shammas', 'Arian', 'Sayegh', 'Naifeh', 'Mifsud', 'Sleiman', 'Arian', 'Kassis', 'Shamoun', 'Kassis', 'Harb', 'Mustafa', 'Boulos', 'Asghar', 'Shamon', 'Kanaan', 'Atiyeh', 'Kassab', 'Tahan', 'Bazzi', 'Kassis', 'Qureshi', 'Basara', 'Shalhoub', 'Sayegh', 'Haik', 'Attia', 'Maroun', 'Kassis', 'Sarkis', 'Harb', 'Assaf', 'Kattan', 'Antar', 'Sleiman', 'Touma', 'Sarraf', 'Bazzi', 'Boulos', 'Baz', 'Issa', 'Shamon', 'Shadid', 'Deeb', 'Sabbag', 'Wasem', 'Awad', 'Mansour', 'Saliba', 'Fakhoury', 'Arian', 'Bishara', 'Dagher', 'Bishara', 'Koury', 'Fakhoury', 'Naser', 'Nader', 'Antar', 'Gerges', 'Handal', 'Hanania', 'Shadid', 'Gerges', 'Kassis', 'Essa', 'Assaf', 'Shadid', 'Seif', 'Shalhoub', 'Shamoun', 'Hajjar', 'Baba', 'Sayegh', 'Mustafa', 'Sabbagh', 'Isa', 'Najjar', 'Tannous', 'Hanania', 'Ganem', 'Gerges', 'Fakhoury', 'Mifsud', 'Nahas', 'Bishara', 'Bishara', 'Abadi', 'Sarkis', 'Masih', 'Isa', 'Attia', 'Kalb', 'Essa', 'Boulos', 'Basara', 'Halabi', 'Halabi', 'Dagher', 'Attia', 'Kassis', 'Tuma', 'Gerges', 'Ghannam', 'Toma', 'Baz', 'Asghar', 'Zogby', 'Aswad', 'Hadad', 'Dagher', 'Naser', 'Shadid', 'Atiyeh', 'Zogby', 'Abboud', 'Tannous', 'Khouri', 'Atiyeh', 'Ganem', 'Maalouf', 'Isa', 'Maroun', 'Issa', 'Khouri', 'Harb', 'Nader', 'Awad', 'Nahas', 'Said', 'Baba', 'Totah', 'Ganim', 'Handal', 'Mansour', 'Basara', 'Malouf', 'Said', 'Botros', 'Samaha', 'Safar', 'Tahan', 'Botros', 'Shamoun', 'Handal', 'Sarraf', 'Malouf', 'Bishara', 'Aswad', 'Khouri', 'Baz', 'Asker', 'Toma', 'Koury', 'Gerges', 'Bishara', 'Boulos', 'Najjar', 'Aswad', 'Shamon', 'Kouri', 'Srour', 'Assaf', 'Tannous', 'Attia', 'Mustafa', 'Kattan', 'Asghar', 'Amari', 'Shadid', 'Said', 'Bazzi', 'Masih', 'Antar', 'Fakhoury', 'Shadid', 'Masih', 'Handal', 'Sarraf', 'Kassis', 'Salib', 'Hajjar', 'Totah', 'Koury', 'Totah', 'Mustafa', 'Sabbagh', 'Moghadam', 'Toma', 'Srour', 'Almasi', 'Totah', 'Maroun', 'Kattan', 'Naifeh', 'Sarkis', 'Mikhail', 'Nazari', 'Boutros', 'Guirguis', 'Gaber', 'Kassis', 'Masih', 'Hanania', 'Maloof', 'Quraishi', 'Cham', 'Hadad', 'Tahan', 'Bitar', 'Arian', 'Gaber', 'Baz', 'Mansour', 'Kalb', 'Sarkis', 'Attia', 'Antar', 'Asfour', 'Said', 'Essa', 'Koury', 'Hadad', 'Tuma', 'Moghadam', 'Sabbagh', 'Amari', 'Dagher', 'Srour', 'Antoun', 'Sleiman', 'Maroun', 'Tuma', 'Nahas', 'Hanania', 'Sayegh', 'Amari', 'Sabbagh', 'Said', 'Cham', 'Asker', 'Nassar', 'Bitar', 'Said', 'Dagher', 'Safar', 'Khouri', 'Totah', 'Khoury', 'Salib', 'Basara', 'Abboud', 'Baz', 'Isa', 'Cham', 'Amari', 'Mifsud', 'Hadad', 'Rahal', 'Khoury', 'Bazzi', 'Basara', 'Totah', 'Ghannam', 'Koury', 'Malouf', 'Zogby', 'Zogby', 'Boutros', 'Nassar', 'Handal', 'Hajjar', 'Maloof', 'Abadi', 'Maroun', 'Mifsud', 'Kalb', 'Amari', 'Hakimi', 'Boutros', 'Masih', 'Kattan', 'Haddad', 'Arian', 'Nazari', 'Assaf', 'Attia', 'Wasem', 'Gerges', 'Asker', 'Tahan', 'Fakhoury', 'Shadid', 'Sarraf', 'Attia', 'Naifeh', 'Aswad', 'Deeb', 'Tannous', 'Totah', 'Cham', 'Baba', 'Najjar', 'Hajjar', 'Shamoon', 'Handal', 'Awad', 'Guirguis', 'Awad', 'Ganem', 'Naifeh', 'Khoury', 'Hajjar', 'Moghadam', 'Mikhail', 'Ghannam', 'Guirguis', 'Tannous', 'Kanaan', 'Handal', 'Khoury', 'Kalb', 'Qureshi', 'Najjar', 'Atiyeh', 'Gerges', 'Nassar', 'Tahan', 'Hadad', 'Fakhoury', 'Salib', 'Wasem', 'Bitar', 'Fakhoury', 'Attia', 'Awad', 'Totah', 'Deeb', 'Touma', 'Botros', 'Nazari', 'Nahas', 'Kouri', 'Ghannam', 'Assaf', 'Asfour', 'Sarraf', 'Naifeh', 'Toma', 'Asghar', 'Abboud', 'Issa', 'Sabbag', 'Sabbagh', 'Isa', 'Koury', 'Kattan', 'Shamoon', 'Rahal', 'Kalb', 'Naser', 'Masih', 'Sayegh', 'Dagher', 'Asker', 'Maroun', 'Dagher', 'Sleiman', 'Botros', 'Sleiman', 'Harb', 'Tahan', 'Tuma', 'Said', 'Hadad', 'Samaha', 'Harb', 'Cham', 'Atiyeh', 'Haik', 'Malouf', 'Bazzi', 'Harb', 'Malouf', 'Ghanem', 'Cham', 'Asghar', 'Samaha', 'Khouri', 'Nassar', 'Rahal', 'Baz', 'Kalb', 'Rahal', 'Gerges', 'Cham', 'Sayegh', 'Shadid', 'Morcos', 'Shamoon', 'Hakimi', 'Shamoon', 'Qureshi', 'Ganim', 'Shadid', 'Khoury', 'Boutros', 'Hanania', 'Antoun', 'Naifeh', 'Deeb', 'Samaha', 'Awad', 'Asghar', 'Awad', 'Saliba', 'Shamoun', 'Mikhail', 'Hakimi', 'Mikhail', 'Cham', 'Halabi', 'Sarkis', 'Kattan', 'Nazari', 'Safar', 'Morcos', 'Khoury', 'Essa', 'Nassar', 'Haik', 'Shadid', 'Fakhoury', 'Najjar', 'Arian', 'Botros', 'Daher', 'Saliba', 'Saliba', 'Kattan', 'Hajjar', 'Nader', 'Daher', 'Nassar', 'Maroun', 'Harb', 'Nassar', 'Antar', 'Shammas', 'Toma', 'Antar', 'Koury', 'Nader', 'Botros', 'Bahar', 'Najjar', 'Maloof', 'Salib', 'Malouf', 'Mansour', 'Bazzi', 'Atiyeh', 'Kanaan', 'Bishara', 'Hakimi', 'Saliba', 'Tuma', 'Mifsud', 'Hakimi', 'Assaf', 'Nassar', 'Sarkis', 'Bitar', 'Isa', 'Halabi', 'Shamon', 'Qureshi', 'Bishara', 'Maalouf', 'Srour', 'Boulos', 'Safar', 'Shamoun', 'Ganim', 'Abadi', 'Koury', 'Shadid', 'Zogby', 'Boutros', 'Shadid', 'Hakimi', 'Bazzi', 'Isa', 'Totah', 'Salib', 'Shamoon', 'Gaber', 'Antar', 'Antar', 'Najjar', 'Fakhoury', 'Malouf', 'Salib', 'Rahal', 'Boulos', 'Attia', 'Said', 'Kassis', 'Bahar', 'Bazzi', 'Srour', 'Antar', 'Nahas', 'Kassis', 'Samaha', 'Quraishi', 'Asghar', 'Asker', 'Antar', 'Totah', 'Haddad', 'Maloof', 'Kouri', 'Basara', 'Bata', 'Antar', 'Shammas', 'Arian', 'Gerges', 'Seif', 'Almasi', 'Tuma', 'Shamoon', 'Khoury', 'Hakimi', 'Abboud', 'Baz', 'Seif', 'Issa', 'Nazari', 'Harb', 'Shammas', 'Amari', 'Totah', 'Malouf', 'Sarkis', 'Naser', 'Zogby', 'Handal', 'Naifeh', 'Cham', 'Hadad', 'Gerges', 'Kalb', 'Shalhoub', 'Saliba', 'Tannous', 'Tahan', 'Tannous', 'Kassis', 'Shadid', 'Sabbag', 'Tahan', 'Abboud', 'Nahas', 'Shamoun', 'Dagher', 'Botros', 'Amari', 'Maalouf', 'Awad', 'Gerges', 'Shamoon', 'Haddad', 'Salib', 'Attia', 'Kassis', 'Sleiman', 'Maloof', 'Maroun', 'Koury', 'Asghar', 'Kalb', 'Asghar', 'Touma', 'Ganim', 'Rahal', 'Haddad', 'Zogby', 'Mansour', 'Guirguis', 'Touma', 'Maroun', 'Tannous', 'Hakimi', 'Baba', 'Toma', 'Botros', 'Sarraf', 'Koury', 'Sarraf', 'Nassar', 'Boutros', 'Guirguis', 'Qureshi', 'Aswad', 'Basara', 'Toma', 'Tuma', 'Mansour', 'Ba', 'Naifeh', 'Mikhail', 'Amari', 'Shamon', 'Malouf', 'Boutros', 'Hakimi', 'Srour', 'Morcos', 'Halabi', 'Bazzi', 'Abadi', 'Shamoun', 'Haddad', 'Baz', 'Baba', 'Hadad', 'Saliba', 'Haddad', 'Maalouf', 'Bitar', 'Shammas', 'Totah', 'Said', 'Najjar', 'Mikhail', 'Samaha', 'Boulos', 'Kalb', 'Shamon', 'Shamoun', 'Seif', 'Touma', 'Hajjar', 'Hadad', 'Atiyeh', 'Totah', 'Mansour', 'Nazari', 'Quraishi', 'Ba', 'Sarkis', 'Gerges', 'Shalhoub', 'Nazari', 'Issa', 'Salib', 'Shalhoub', 'Nassar', 'Guirguis', 'Daher', 'Hakimi', 'Attia', 'Cham', 'Isa', 'Hakimi', 'Amari', 'Boutros', 'Sarraf', 'Antoun', 'Botros', 'Haddad', 'Tahan', 'Bishara', 'Shalhoub', 'Safar', 'Haik', 'Tahan', 'Seif', 'Awad', 'Antoun', 'Atiyeh', 'Samaha', 'Assaf', 'Guirguis', 'Hadad', 'Sayegh', 'Khouri', 'Asghar', 'Tannous', 'Maalouf', 'Khouri', 'Hajjar', 'Abadi', 'Ghanem', 'Salib', 'Botros', 'Bitar', 'Bishara', 'Quraishi', 'Boutros', 'Aswad', 'Srour', 'Shamon', 'Abboud', 'Almasi', 'Baba', 'Tahan', 'Essa', 'Sabbag', 'Issa', 'Abadi', 'Abboud', 'Bazzi', 'Nader', 'Bahar', 'Ghannam', 'Asghar', 'Gaber', 'Sayegh', 'Guirguis', 'Srour', 'Asghar', 'Quraishi', 'Sayegh', 'Rahal', 'Tahan', 'Morcos', 'Cham', 'Kanaan', 'Nahas', 'Essa', 'Mifsud', 'Kouri', 'Isa', 'Saliba', 'Asfour', 'Guirguis', 'Isa', 'Bishara', 'Assaf', 'Naser', 'Moghadam', 'Kalb', 'Baba', 'Guirguis', 'Naifeh', 'Bitar', 'Samaha', 'Abboud', 'Hadad', 'Ghannam', 'Hanania', 'Shadid', 'Totah', 'Tahan', 'Toma', 'Maloof', 'Botros', 'Issa', 'Deeb', 'Nahas', 'Khoury', 'Sayegh', 'Harb', 'Said', 'Guirguis', 'Nader', 'Harb', 'Atiyeh', 'Zogby', 'Basara', 'Nassar', 'Kalb', 'Khoury', 'Mifsud', 'Wasem', 'Handal', 'Ganim', 'Harb', 'Ganim', 'Malouf', 'Sayegh', 'Khoury', 'Sabbag', 'Sabbag', 'Boulos', 'Malouf', 'Gaber', 'Shammas', 'Fakhoury', 'Halabi', 'Haddad', 'Asker', 'Morcos', 'Hanania', 'Amari', 'Kassab', 'Malouf', 'Khouri', 'Moghadam', 'Totah', 'Maloof', 'Atiyeh', 'Abadi', 'Baz', 'Khoury', 'Arian', 'Handal', 'Dagher', 'Awad', 'Atiyeh', 'Arian', 'Khoury', 'Amari', 'Attia', 'Ganim', 'Nader', 'Dagher', 'Sabbag', 'Halabi', 'Khouri', 'Khouri', 'Saliba', 'Mifsud', 'Koury', 'Awad', 'Bahar', 'Mustafa', 'Kassis', 'Gaber', 'Mifsud', 'Bishara', 'Asker', 'Nahas', 'Wasem', 'Sleiman', 'Bata', 'Daher', 'Antar', 'Isa', 'Ganim', 'Rahal', 'Toma', 'Rahal', 'Shamoun', 'Maloof', 'Hakimi', 'Safar', 'Gerges', 'Hanania', 'Koury', 'Assaf', 'Safar', 'Gerges', 'Ganim', 'Morcos', 'Awad', 'Arian', 'Tahan', 'Sleiman', 'Asker', 'Boulos', 'Koury', 'Mifsud', 'Sabbag', 'Dagher', 'Bazzi', 'Mustafa', 'Almasi', 'Handal', 'Isa', 'Guirguis', 'Sayegh', 'Ganim', 'Ghanem', 'Toma', 'Mustafa', 'Basara', 'Bitar', 'Samaha', 'Mifsud', 'Tahan', 'Issa', 'Salib', 'Khoury', 'Hadad', 'Haik', 'Gaber', 'Mansour', 'Hakimi', 'Ba', 'Mustafa', 'Gaber', 'Kattan', 'Koury', 'Awad', 'Maalouf', 'Masih', 'Harb', 'Atiyeh', 'Zogby', 'Nahas', 'Assaf', 'Morcos', 'Ganem', 'Ganem', 'Wasem', 'Fakhoury', 'Ghanem', 'Salib', 'Khouri', 'Maloof', 'Khouri', 'Shalhoub', 'Issa', 'Najjar', 'Kassis', 'Mustafa', 'Sayegh', 'Kassis', 'Hajjar', 'Nader', 'Sarkis', 'Tahan', 'Haddad', 'Antar', 'Sayegh', 'Zogby', 'Mifsud', 'Kassab', 'Hanania', 'Bishara', 'Shamoun', 'Abboud', 'Mustafa', 'Sleiman', 'Abadi', 'Sarraf', 'Zogby', 'Daher', 'Issa', 'Nazari', 'Shamon', 'Tuma', 'Asghar', 'Morcos', 'Mifsud', 'Cham', 'Sarraf', 'Antar', 'Ba', 'Aswad', 'Mikhail', 'Kouri', 'Mikhail', 'Awad', 'Halabi', 'Moghadam', 'Mikhail', 'Naifeh', 'Kattan', 'Shammas', 'Malouf', 'Najjar', 'Srour', 'Masih', 'Fakhoury', 'Khouri', 'Assaf', 'Mifsud', 'Malouf', 'Abboud', 'Shamoon', 'Mansour', 'Halabi', 'Ganem', 'Deeb', 'Wasem', 'Kalb', 'Safar', 'Tuma', 'Fakhoury', 'Toma', 'Guirguis', 'Kassab', 'Nader', 'Handal', 'Baba', 'Fakhoury', 'Haik', 'Guirguis', 'Seif', 'Almasi', 'Shamon', 'Ba', 'Salib', 'Zogby', 'Koury', 'Najjar', 'Atiyeh', 'Morcos', 'Antar', 'Awad', 'Hadad', 'Maroun', 'Touma', 'Almasi', 'Kassis', 'Arian', 'Malouf', 'Koury', 'Sarraf', 'Hadad', 'Bata', 'Tuma', 'Sarkis', 'Quraishi', 'Gaber', 'Abadi', 'Nader', 'Bazzi', 'Ghannam', 'Botros', 'Deeb', 'Awad', 'Kattan', 'Kanaan', 'Sarraf', 'Nahas', 'Assaf', 'Shadid', 'Gaber', 'Samaha', 'Harb', 'Samaha', 'Zogby', 'Atiyeh', 'Mustafa', 'Hanania', 'Isa', 'Almasi', 'Bitar', 'Fakhoury', 'Moghadam', 'Handal', 'Seif', 'Mustafa', 'Rahal', 'Antoun', 'Kassab', 'Bazzi', 'Hadad', 'Nader', 'Tuma', 'Basara', 'Totah', 'Nassar', 'Seif', 'Nassar', 'Daher', 'Daher', 'Maalouf', 'Rahal', 'Quraishi', 'Hadad', 'Bahar', 'Sabbag', 'Halabi', 'Tuma', 'Antoun', 'Boutros', 'Gerges', 'Bishara', 'Baba', 'Zogby', 'Nahas', 'Atiyeh', 'Rahal', 'Sabbagh', 'Bitar', 'Botros', 'Tuma', 'Ganim', 'Handal', 'Daher', 'Boutros', 'Khouri', 'Maroun', 'Mifsud', 'Arian', 'Safar', 'Koury', 'Deeb', 'Shamoun', 'Cham', 'Asghar', 'Morcos', 'Tahan', 'Salib', 'Aswad', 'Shadid', 'Saliba', 'Ganim', 'Haik', 'Kattan', 'Antoun', 'Hajjar', 'Toma', 'Toma', 'Antoun', 'Tahan', 'Haik', 'Kassis', 'Shamoun', 'Shammas', 'Kassis', 'Shadid', 'Samaha', 'Sarraf', 'Nader', 'Ganem', 'Zogby', 'Maloof', 'Kalb', 'Gerges', 'Seif', 'Nahas', 'Arian', 'Asfour', 'Hakimi', 'Ba', 'Handal', 'Abadi', 'Harb', 'Nader', 'Asghar', 'Sabbag', 'Touma', 'Amari', 'Kanaan', 'Hajjar', 'Said', 'Sarraf', 'Haddad', 'Mifsud', 'Shammas', 'Sleiman', 'Asfour', 'Deeb', 'Kattan', 'Naser', 'Said', 'Bishara', 'Harb', 'Morcos', 'Sayegh', 'Said', 'Naser', 'Aswad', 'Seif', 'Kouri', 'Dagher', 'Shamon', 'Hadad', 'Handal', 'Tuma', 'Shamon', 'Hakimi', 'Rahal', 'Hadad', 'Ghannam', 'Almasi', 'Daher', 'Handal', 'Malouf', 'Mansour', 'Sabbagh', 'Sabbag', 'Saliba', 'Haddad', 'Tahan', 'Khoury', 'Harb', 'Ganim', 'Mansour', 'Ganem', 'Handal', 'Handal', 'Antar', 'Asfour', 'Kouri', 'Cham', 'Masih', 'Saliba', 'Qureshi', 'Daher', 'Safar', 'Assaf', 'Harb', 'Abboud', 'Haik', 'Ghannam', 'Maalouf', 'Daher', 'Najjar', 'Mifsud', 'Daher', 'Amari', 'Saliba', 'Kanaan', 'Guirguis', 'Atiyeh', 'Sleiman', 'Mikhail', 'Arian', 'Wasem', 'Attia', 'Nassar', 'Cham', 'Koury', 'Baba', 'Guirguis', 'Morcos', 'Quraishi', 'Seif', 'Sarkis', 'Moghadam', 'Ba', 'Boutros', 'Nader', 'Gerges', 'Salib', 'Salib', 'Guirguis', 'Essa', 'Guirguis', 'Antoun', 'Kassis', 'Abboud', 'Najjar', 'Aswad', 'Srour', 'Mifsud', 'Ghanem', 'Bitar', 'Ghannam', 'Asghar', 'Deeb', 'Kalb', 'Nader', 'Srour', 'Attia', 'Shamon', 'Bata', 'Nahas', 'Gerges', 'Kanaan', 'Kassis', 'Sarkis', 'Maloof', 'Almasi', 'Nassar', 'Saliba', 'Arian', 'Ghanem', 'Awad', 'Naifeh', 'Boutros', 'Fakhoury', 'Sabbag', 'Antar', 'Tahan', 'Mustafa', 'Almasi', 'Shammas', 'Totah', 'Boutros', 'Cham', 'Shamon', 'Ganim', 'Ghanem', 'Assaf', 'Khoury', 'Naifeh', 'Bahar', 'Quraishi', 'Bishara', 'Cham', 'Asfour', 'Ghannam', 'Khoury', 'Sayegh', 'Hanania', 'Maroun', 'Kouri', 'Sarkis', 'Haik', 'Basara', 'Salib', 'Shammas', 'Fakhoury', 'Nahas', 'Ganim', 'Botros', 'Arian', 'Shalhoub', 'Hadad', 'Mustafa', 'Shalhoub', 'Kassab', 'Asker', 'Botros', 'Kanaan', 'Gaber', 'Bazzi', 'Sayegh', 'Nassar', 'Kassis', 'Fakhoury', 'Kassis', 'Amari', 'Sarraf', 'Mifsud', 'Salib', 'Samaha', 'Mustafa', 'Asfour', 'Najjar', 'Essa', 'Naifeh', 'Cham', 'Sarraf', 'Moghadam', 'Fakhoury', 'Assaf', 'Almasi', 'Asghar', 'Nader', 'Kalb', 'Shamoun', 'Gerges', 'Wasem', 'Morcos', 'Nader', 'Said', 'Safar', 'Quraishi', 'Samaha', 'Kassab', 'Deeb', 'Sarraf', 'Rahal', 'Naifeh', 'Ba', 'Nazari', 'Ganim', 'Arian', 'Asker', 'Touma', 'Kassab', 'Tahan', 'Mansour', 'Morcos', 'Shammas', 'Baba', 'Morcos', 'Isa', 'Moghadam', 'Ganem', 'Baz', 'Totah', 'Nader', 'Kouri', 'Guirguis', 'Koury', 'Zogby', 'Basara', 'Baz', 'Deeb', 'Mustafa', 'Shadid', 'Awad', 'Sarraf', 'Quraishi', 'Kanaan', 'Tahan', 'Ghannam', 'Shammas', 'Abboud', 'Najjar', 'Bishara', 'Tuma', 'Srour', 'Mifsud', 'Srour', 'Hajjar', 'Qureshi', 'Bitar', 'Hadad', 'Almasi', 'Wasem', 'Abadi', 'Maroun', 'Baz', 'Koury', 'Ganem', 'Awad', 'Maalouf', 'Mifsud', 'Haik', 'Sleiman', 'Arian', 'Seif', 'Mansour', 'Koury', 'Kattan', 'Koury', 'Aswad', 'Ba', 'Rahal', 'Zogby', 'Bahar', 'Fakhoury', 'Samaha', 'Sarraf', 'Mifsud', 'Antar', 'Moghadam', 'Botros', 'Srour', 'Sabbag', 'Sayegh', 'Rahal', 'Attia', 'Naifeh', 'Saliba', 'Mustafa', 'Amari', 'Issa', 'Masih', 'Khouri', 'Haddad', 'Kalb', 'Bazzi', 'Salib', 'Hanania', 'Shamoon', 'Tuma', 'Cham', 'Antoun', 'Wasem', 'Kouri', 'Ghanem', 'Wasem', 'Khoury', 'Assaf', 'Ganem', 'Seif', 'Nader', 'Essa', 'Shadid', 'Botros', 'Sleiman', 'Bishara', 'Basara', 'Maalouf', 'Issa', 'Nassar', 'Moghadam', 'Ganim', 'Kassis', 'Antoun', 'Said', 'Khouri', 'Salib', 'Baz', 'Sarkis', 'Tuma', 'Naifeh', 'Najjar', 'Asker', 'Khouri', 'Mustafa', 'Najjar', 'Sabbag', 'Malouf', 'Wasem', 'Maalouf', 'Gaber', 'Said', 'Zogby', 'Bahar', 'Hanania', 'Shalhoub', 'Abadi', 'Handal', 'Qureshi', 'Kanaan', 'Abboud', 'Mifsud', 'Touma', 'Ganim', 'Bishara', 'Bazzi', 'Gaber', 'Haik', 'Ghanem', 'Sarraf', 'Sarkis', 'Mustafa', 'Baz', 'Kanaan', 'Nazari', 'Bahar', 'Malouf', 'Quraishi', 'Kattan', 'Arian', 'Shadid', 'Tuma', 'Nader', 'Khoury', 'Safar', 'Wasem', 'Toma', 'Haddad', 'Quraishi', 'Nassar', 'Kanaan', 'Gaber', 'Haddad', 'Rahal', 'Koury', 'Harb', 'Mikhail', 'Dagher', 'Shadid', 'Boutros', 'Mikhail', 'Khouri', 'Nader', 'Issa', 'Harb', 'Dagher', 'Gerges', 'Morcos', 'Essa', 'Fakhoury', 'Tuma', 'Kattan', 'Totah', 'Qureshi', 'Nahas', 'Bitar', 'Tahan', 'Daher', 'Shammas', 'Kouri', 'Ganim', 'Daher', 'Awad', 'Malouf', 'Mustafa', 'Aswad'], 'Russian': ['Ababko', 'Abaev', 'Abagyan', 'Abaidulin', 'Abaidullin', 'Abaimoff', 'Abaimov', 'Abakeliya', 'Abakovsky', 'Abakshin', 'Abakumoff', 'Abakumov', 'Abakumtsev', 'Abakushin', 'Abalakin', 'Abalakoff', 'Abalakov', 'Abaleshev', 'Abalihin', 'Abalikhin', 'Abalkin', 'Abalmasoff', 'Abalmasov', 'Abaloff', 'Abalov', 'Abamelek', 'Abanin', 'Abankin', 'Abarinoff', 'Abarinov', 'Abasheev', 'Abashev', 'Abashidze', 'Abashin', 'Abashkin', 'Abasov', 'Abatsiev', 'Abaturoff', 'Abaturov', 'Abaza', 'Abaziev', 'Abbakumov', 'Abbakumovsky', 'Abbasov', 'AbdankKossovsky', 'Abdeev', 'Abdildin', 'Abdrahimoff', 'Abdrahimov', 'Abdrahmanoff', 'Abdrahmanov', 'Abdrakhimoff', 'Abdrakhimov', 'Abdrakhmanoff', 'Abdrakhmanov', 'Abdrashitoff', 'Abdrashitov', 'Abdrazakoff', 'Abdrazakov', 'Abdulaev', 'Abdulatipoff', 'Abdulatipov', 'Abdulazizoff', 'Abdulazizov', 'Abdulbasiroff', 'Abdulbasirov', 'Abdulbekoff', 'Abdulbekov', 'Abdulgapuroff', 'Abdulgapurov', 'Abdulgaziev', 'Abdulhabiroff', 'Abdulhabirov', 'Abdulin', 'Abdulkadyroff', 'Abdulkadyrov', 'Abdulkhabiroff', 'Abdulkhabirov', 'Abdulladjanov', 'Abdulladzhanoff', 'Abdulladzhanov', 'Abdullaev', 'Abdullin', 'Abduloff', 'Abdulov', 'Abdulrahmanoff', 'Abdulrahmanov', 'Abdulrakhmanoff', 'Abdulrakhmanov', 'Abdurahmanoff', 'Abdurahmanov', 'Abdurakhmanoff', 'Abdurakhmanov', 'Abegyan', 'Abel', 'Abeldyaev', 'Abelev', 'Abelman', 'Abelmazoff', 'Abelmazov', 'Abels', 'Abelsky', 'Abeltsev', 'Abelyan', 'Aberson', 'Abertasov', 'Abesadze', 'Abezgauz', 'Abgaryan', 'Abibulaev', 'Abidoff', 'Abidov', 'Abih', 'Abikh', 'Abisaloff', 'Abisalov', 'Abitoff', 'Abitov', 'Abjaliloff', 'Abjalilov', 'Abkin', 'Ablaev', 'Ablesimoff', 'Ablesimov', 'Abletsoff', 'Abletsov', 'Ableuhoff', 'Ableuhov', 'Ableukhoff', 'Ableukhov', 'Abloff', 'Ablov', 'Ablyakimoff', 'Ablyakimov', 'Ablyazov', 'Aboev', 'Aboff', 'Aboimoff', 'Aboimov', 'Abolihin', 'Abolikhin', 'Abolin', 'Abolins', 'Abov', 'Abovin', 'Abovyan', 'Aboyantsev', 'Abragam', 'Abragamson', 'Abrahimoff', 'Abrahimov', 'Abrajevich', 'Abrakhimoff', 'Abrakhimov', 'Abramchikoff', 'Abramchikov', 'Abramchuk', 'Abrameitsev', 'Abramenko', 'Abramenkoff', 'Abramenkov', 'Abramkoff', 'Abramkov', 'Abramoff', 'Abramov', 'Abramovich', 'Abramovitch', 'Abramovsky', 'Abramowich', 'Abramowitch', 'Abramowsky', 'Abramson', 'Abramtchikoff', 'Abramtchikov', 'Abramtchuk', 'Abramtsev', 'Abramyan', 'Abraroff', 'Abrarov', 'Abrashin', 'Abrashitov', 'Abrasimoff', 'Abrasimov', 'Abrazhevich', 'Abrikosoff', 'Abrikosov', 'Abrosimoff', 'Abrosimov', 'Abroskin', 'Abrosoff', 'Abrosov', 'Abrukov', 'Absalyamoff', 'Absalyamov', 'Absattaroff', 'Absattarov', 'Abubakiroff', 'Abubakirov', 'Abubekeroff', 'Abubekerov', 'Abudihin', 'Abudikhin', 'Abugoff', 'Abugov', 'Abuhoff', 'Abuhov', 'Abukhoff', 'Abukhov', 'Abuladze', 'Abulgatin', 'Abulhanoff', 'Abulhanov', 'Abulkhanoff', 'Abulkhanov', 'Abulmambetoff', 'Abulmambetov', 'Abushenko', 'Abutaliev', 'Abuzoff', 'Abuzov', 'Abylgaziev', 'Abyshev', 'Abyzgiddin', 'Abyzoff', 'Abyzov', 'Abzaev', 'Abzgildin', 'Abzhaliloff', 'Abzhalilov', 'Abzyaparoff', 'Abzyaparov', 'Adabash', 'Adabashian', 'Adabir', 'Adadurov', 'Adaikin', 'Adaksin', 'Adam', 'Adamenko', 'Adamiants', 'Adamishin', 'Adamoff', 'Adamov', 'Adamovich', 'Adamovitch', 'Adams', 'Adamski', 'Adamsky', 'Adamson', 'Adamyan', 'Adamyants', 'Adamyuk', 'Adarchenko', 'Adaryukov', 'Adashev', 'Adashevski', 'Adashevsky', 'Adashik', 'Adelfinski', 'Adelfinsky', 'Adelgeim', 'Adelhanoff', 'Adelhanov', 'Adelhanyan', 'Adelkhanoff', 'Adelkhanov', 'Adelkhanyan', 'Adelson', 'Adelung', 'Aden', 'Ader', 'Aderihin', 'Aderikhin', 'Aderkas', 'Adibekoff', 'Adibekov', 'Adiev', 'Adigamoff', 'Adigamov', 'Adiloff', 'Adilov', 'Adjaloff', 'Adjalov', 'Adjemoff', 'Adjemov', 'Adjemyan', 'Adjubei', 'Adler', 'Adlerberg', 'Adleroff', 'Adlerov', 'Admakin', 'Admoni', 'Adno', 'Ado', 'Adodin', 'Adoduroff', 'Adodurov', 'Adoff', 'Adohin', 'Adokhin', 'Adolf', 'Adomaitis', 'Adoniev', 'Adonts', 'Adoratski', 'Adoratsky', 'Adov', 'Adriankin', 'Adrianoff', 'Adrianov', 'Adriyanoff', 'Adriyanov', 'Adroff', 'Adrov', 'Aduloff', 'Adulov', 'Adushkin', 'Adyan', 'Adylov', 'Adyrhaev', 'Adyrkhaev', 'Adzhaloff', 'Adzhalov', 'Adzhemoff', 'Adzhemov', 'Adzhemyan', 'Adzhubei', 'Aedonitsky', 'Agababoff', 'Agababov', 'Agababyan', 'Agabekoff', 'Agabekov', 'Agadjanoff', 'Agadjanov', 'Agadjanyan', 'Agadzhanoff', 'Agadzhanov', 'Agadzhanyan', 'Agaev', 'Agafonoff', 'Agafonov', 'Agahanyan', 'Agaigeldiev', 'Agakhanyan', 'Agakoff', 'Agakov', 'Agalakoff', 'Agalakov', 'Agalaradze', 'Agalaroff', 'Agalarov', 'Agaloff', 'Agalov', 'Agaltsoff', 'Agaltsov', 'Agamiroff', 'Agamirov', 'Agamirzyan', 'Agamoff', 'Agamov', 'Aganbegyan', 'Aganoff', 'Aganov', 'Agapeev', 'Agaphonoff', 'Agaphonov', 'Agapiev', 'Agapitoff', 'Agapitov', 'Agapkin', 'Agapochkin', 'Agapoff', 'Agaponoff', 'Agaponov', 'Agapotchkin', 'Agapov', 'Agarev', 'Agarin', 'Agarkoff', 'Agarkov', 'Agaryshev', 'Agasaroff', 'Agasarov', 'Agashin', 'Agatoff', 'Agatov', 'Agatyev', 'Agayan', 'Agayants', 'Agdaroff', 'Agdarov', 'Ageenko', 'Ageenkov', 'Ageev', 'Ageevets', 'Ageichev', 'Ageichik', 'Ageikin', 'Ageitchev', 'Ageitchik', 'Agenosoff', 'Agenosov', 'Ageshin', 'Aggeev', 'Agibaloff', 'Agibalov', 'Agilera', 'Agin', 'Agishev', 'Agitshtein', 'Aglinskas', 'Agliullin', 'Agnivtsev', 'Agoev', 'Agol', 'Agoshkoff', 'Agoshkov', 'Agrachev', 'Agramoff', 'Agramov', 'Agranat', 'Agranenko', 'Agranoff', 'Agranov', 'Agranovich', 'Agranovitch', 'Agranovski', 'Agranovsky', 'Agranowich', 'Agranowitch', 'Agranowski', 'Agranowsky', 'Agrashev', 'Agratchev', 'Agratin', 'Agrba', 'Agrenev', 'Agrest', 'Agrikoff', 'Agrikov', 'Agroskin', 'Agudoff', 'Agudov', 'Agulian', 'Agulnik', 'Agumaa', 'Agureev', 'Agurski', 'Agursky', 'Agutin', 'Aguzaroff', 'Aguzarov', 'Agzamoff', 'Agzamov', 'Aivazovski', 'Aivazovsky', 'Ajaev', 'Ajiganoff', 'Ajiganov', 'Ajinoff', 'Ajinov', 'Ajnikoff', 'Ajnikov', 'Ajogin', 'Akimov', 'Albanov', 'Albats', 'Albedinsky', 'Albert', 'Albertini', 'Albinesku', 'Albitsky', 'Albov', 'Alchangyan', 'Alcheka', 'Alchevsky', 'Alchin', 'Alchubaev', 'Alferaki', 'Alferiev', 'Alferov', 'Alfimov', 'Alfionov', 'Alfonsky', 'Alfonsov', 'Alftan', 'Alhimenko', 'Alhimov', 'Alianaki', 'Alianov', 'Alkov', 'Alkvist', 'Alman', 'Almedingen', 'Almetiev', 'Almetov', 'Almondinov', 'Almuhametov', 'Almut', 'Almyashkin', 'Alper', 'Alperovich', 'Alpert', 'Alshansky', 'Alshevsky', 'Alshibaya', 'Alshits', 'Alshtut', 'Alsky', 'Altentaller', 'Alter', 'Altfater', 'Altman', 'Altshtein', 'Altshuler', 'Altshuller', 'Alybin', 'Alymov', 'Alypov', 'Alyrchikov', 'Alytsky', 'Amelin', 'Amelkin', 'Amelyakin', 'Amerhanov', 'AmetHan', 'Ametistov', 'Andreenko', 'Andreev', 'Andreevsky', 'Andreichenko', 'Andreichev', 'Andreichik', 'Andreichin', 'Andreichuk', 'Andreiko', 'Andreli', 'Andreyak', 'Andreyanov', 'Androhanov', 'Androkhanov', 'Andronchik', 'Andronikov', 'Andronnikov', 'Andronov', 'Andropov', 'Androsenko', 'Androsik', 'Androsov', 'Androsyuk', 'Androvsky', 'Andruhov', 'Andruhovich', 'Andrukhov', 'Andrukhovich', 'Andruschenko', 'Andrusenko', 'Andrushkevich', 'Andrushko', 'Andrusiv', 'Andrusiw', 'Andrusov', 'Andruzsky', 'Andryuhin', 'Andryuk', 'Andryukov', 'Andryunin', 'Andryuschenko', 'Andryushin', 'Anedchenko', 'Anekshtein', 'Anert', 'Anikanov', 'Anikeev', 'Anikiev', 'Anikin', 'Anikst', 'Anikushin', 'Animitsa', 'Anin', 'Anipkin', 'Anisemenok', 'Anisfeld', 'Anisihin', 'Anisikhin', 'Anisimkin', 'Anisimov', 'Aniskin', 'Anisovets', 'Anisovich', 'Anistratenko', 'Anodin', 'Anofriev', 'Anoprienko', 'Anopriev', 'Anorin', 'Anoskov', 'Anosov', 'Antohin', 'Antonchenko', 'Antonchenkov', 'Antonts', 'Antontsev', 'Antonyuk', 'Antopolsky', 'Antoschenko', 'Antoschin', 'Antoshevsky', 'Antoshin', 'Antoshkin', 'Antropov', 'Antufiev', 'Antushevsky', 'Antyshev', 'Antyufeev', 'Antyuganov', 'Antyuhov', 'Antyushin', 'Anuchin', 'Anufrienko', 'Anufriev', 'Anuprienko', 'Anuriev', 'Anurin', 'Anurov', 'Anutriev', 'Anzimirov', 'Anzonger', 'Aparin', 'Arapov', 'Araslanov', 'Arbudu', 'Arbuzov', 'Arsky', 'Artemev', 'Artemiev', 'Artenov', 'Artibyakin', 'Artischev', 'Artizov', 'Artobolevsky', 'Artseulov', 'Artyuhin', 'Artyuhov', 'Artyukhin', 'Artyukhov', 'Artyushin', 'Artyushkov', 'Asfandiyarov', 'Astrahankin', 'Astrahansky', 'Astrahantsev', 'Astrakhankin', 'Astrakhansky', 'Astrakhantsev', 'Astratov', 'Astronomov', 'Astrov', 'Astsaturov', 'Astyrev', 'Asylmuratov', \"At'Kov\", 'Atabekov', 'Atabekyan', 'Atabiev', 'Ataev', 'Atajahov', 'Atajakhov', 'Atalian', 'Atalikov', 'Atallahanov', 'Atallakhanov', 'Atamanchuk', 'Atamanenko', 'Atamanov', 'Atamanyuk', 'Atamoglanov', 'Atanasyan', 'Atanov', 'Atarskih', 'Atarskikh', 'Atazhahov', 'Atazhakhov', 'Ateev', 'Atepko', 'Atiskov', 'Atlanov', 'Atlantov', 'Atlas', 'Atlasov', 'Atopov', 'Atramov', 'Atroshenko', 'Atvilov', 'Atyashev', 'Atyashkin', 'Atyasov', 'Atyurievsky', 'Atyushov', 'Auerbach', 'Auerbah', 'Auerbakh', 'August', 'Augustoff', 'Augustov', 'Auktsionek', 'Aulov', 'Aurov', 'Aushev', 'Auslender', 'Autlev', 'Auzan', 'Avaev', 'Avagimoff', 'Avagimov', \"Avak'Yan\", 'Avakoff', 'Avakov', 'Avakshin', 'Avakyan', 'Avaliani', 'Avalishvili', 'Avalov', 'Avalyan', 'Avanesov', 'Avanesyan', 'Avash', 'Avatyan', 'Avchenko', 'Avchinnikov', 'Avdakoff', 'Avdakov', 'Avdeeff', 'Avdeenko', 'Avdeev', 'Avdeichikov', 'Avdienko', 'Avdiev', 'Avdievsky', 'Avdiewski', 'Avdiyants', 'Avdiyski', 'Avdiysky', 'Avdonin', 'Avdoshin', 'Avduevsky', 'Avduewski', 'Avduloff', 'Avdulov', 'Avdyukov', 'Avdyunin', 'Avdyushin', 'Avelan', 'Avelichev', 'Avelitchev', 'Aven', 'Avenarius', 'Averbah', 'Averbakh', 'Averbuch', 'Averbuh', 'Averbukh', 'Averchenko', 'Averchev', 'Averianoff', 'Averianov', 'Averichkin', 'Averin', 'Averintsev', 'Averitchkin', 'Averkiev', 'Averkin', 'Averkoff', 'Averkov', 'Averkovich', 'Averkovitch', 'Averochkin', 'Averotchkin', 'Avertchenko', 'Avertchev', 'Averyanov', 'Avetisov', 'Avetisyan', 'Avetyan', 'Avgustoff', 'Avgustov', 'Avhadiev', 'Avhimovich', 'Avhimovitch', 'Avik', 'Avilkin', 'Avilov', 'Avinov', 'Avinovitski', 'Avinovitsky', 'Avkhadiev', 'Avkhimovich', 'Avkhimovitch', 'Avksentiev', 'Avksentievski', 'Avksentievsky', 'Avladeev', 'Avlov', 'Avlukov', 'Avraamov', 'Avramchik', 'Avramenko', 'Avramov', 'Avramtchik', 'Avranek', 'Avrorin', 'Avrorov', 'Avrov', 'Avrus', 'Avrutin', 'Avrutsky', 'Avryasov', 'Avseenko', 'Avsenev', 'Avsyuk', 'Avtaev', 'Avtamonov', 'Avtandilov', 'Avtchenko', 'Avtchinnikov', 'Avtokratov', 'Avtomovich', 'Avtomovitch', 'Avtonomov', 'Avtorhanov', 'Avtorkhanov', 'Avtsin', 'Avtsyn', 'Avtuhov', 'Avtukhov', 'Avturhanov', 'Avturkhanov', 'Avvakumoff', 'Avvakumov', 'Avzalov', 'Awaeff', 'Awagimoff', \"Awak'Yan\", 'Awakoff', 'Awakshin', 'Awakyan', 'Awaliani', 'Awalishwili', 'Awaloff', 'Awalyan', 'Awanesov', 'Awanesyan', 'Awash', 'Awatyan', 'Awchenko', 'Awchinnikoff', 'Awdakoff', 'Awdeeff', 'Awdeenko', 'Awdeichikoff', 'Awdieff', 'Awdienko', 'Awdiewsky', 'Awdiyants', 'Awdiyski', 'Awdiysky', 'Awdonin', 'Awdoshin', 'Awduewski', 'Awduewsky', 'Awduloff', 'Awdyukoff', 'Awdyunin', 'Awdyushin', 'Awelan', 'Awelicheff', 'Awelitcheff', 'Awen', 'Awenarius', 'Awerbah', 'Awerbakh', 'Awerbuh', 'Awerbukh', 'Awercheff', 'Awerchenko', 'Awerianoff', 'Awerichkin', 'Awerin', 'Awerintsev', 'Aweritchkin', 'Awerkieff', 'Awerkin', 'Awerkoff', 'Awerkowich', 'Awerkowitch', 'Awerochkin', 'Awerotchkin', 'Awertcheff', 'Awertchenko', 'Aweryanoff', 'Awetisoff', 'Awetisyan', 'Awetyan', 'Awgustoff', 'Awhadieff', 'Awhimowich', 'Awik', 'Awilkin', 'Awiloff', 'Awinoff', 'Awinowitski', 'Awinowitsky', 'Awkhadieff', 'Awkhimovich', 'Awkhimovitch', 'Awksentiev', 'Awksentiewski', 'Awksentiewsky', 'Awladeeff', 'Awloff', 'Awlukoff', 'Awraamoff', 'Awramchik', 'Awramenko', 'Awramoff', 'Awramtchik', 'Awranek', 'Awroff', 'Awrorin', 'Awroroff', 'Awrus', 'Awrutin', 'Awrutsky', 'Awryasoff', 'Awseenko', 'Awseneff', 'Awsyuk', 'Awtaeff', 'Awtamonoff', 'Awtandiloff', 'Awtchenko', 'Awtchinnikoff', 'Awtokratoff', 'Awtomovich', 'Awtomovitch', 'Awtonomoff', 'Awtorhanoff', 'Awtorkhanoff', 'Awtsin', 'Awtsyn', 'Awtuhoff', 'Awtukhoff', 'Awturhanoff', 'Awturkhanoff', 'Awwakumoff', 'Awzaloff', 'Azhaev', 'Azhiganoff', 'Azhiganov', 'Azhinoff', 'Azhinov', 'Azhnikoff', 'Azhnikov', 'Azhogin', 'Babadei', 'Babadjan', 'Babadjanoff', 'Babadjanov', 'Babadjanyan', 'Babadzhan', 'Babadzhanoff', 'Babadzhanov', 'Babadzhanyan', 'Babaev', 'Babaevsky', 'Babahanov', 'Babaitsev', 'Babak', 'Babakhanoff', 'Babakhanov', 'Babakin', 'Babakov', 'Babakulov', 'Baban', 'Babanin', 'Babanoff', 'Babanov', 'Babansky', 'Babarin', 'Babarykin', 'Babashoff', 'Babashov', 'Babaskin', 'Babayan', 'Babayants', 'Babchenko', 'Babel', 'Babenchikoff', 'Babenchikov', 'Babenko', 'Babenkoff', 'Babenkov', 'Babentsev', 'Babenyshev', 'Babeshkin', 'Babeshko', 'Babetoff', 'Babetov', 'Babich', 'Babichenko', 'Babichev', 'Babienko', 'Babikoff', 'Babikov', 'Babilyas', 'Babin', 'Babinich', 'Babinoff', 'Babinov', 'Babintsev', 'Babitsky', 'Babiy', 'Babkeev', 'Babkin', 'Babkoff', 'Babkov', 'Babloev', 'Bablumyan', 'Babochkin', 'Baboshin', 'Baboshkin', 'Babosoff', 'Babosov', 'Babst', 'Babuh', 'Babuhin', 'Babukh', 'Babukhin', 'Baburin', 'Baburkin', 'Baburoff', 'Baburov', 'Babusenko', 'Babushkin', 'Babutski', 'Babutsky', 'Babynin', 'Babyuk', 'Bachaev', 'Bachaldin', 'Bachelis', 'Bacherikoff', 'Bacherikov', 'Bachev', 'Bachilo', 'Bachinski', 'Bachinsky', 'Bachish', 'Bachmanoff', 'Bachmanov', 'Bachuk', 'Bachurin', 'Bachyanskas', 'Badaev', 'Badalbeili', 'Badalov', 'Badalyants', 'Badamshin', 'Badanin', 'Badanoff', 'Badanov', 'Badelin', 'Bader', 'Baderski', 'Baderskoff', 'Baderskov', 'Badersky', 'Badeschenkov', 'Badich', 'Badikoff', 'Badikov', 'Badmaev', 'Badoev', 'Badoff', 'Badov', 'Badridze', 'Badukin', 'Badyaev', 'Badyagin', 'Badyashin', 'Badych', 'Badygin', 'Badyin', 'Badykshanoff', 'Badykshanov', 'Badylkin', 'Badyunoff', 'Badyunov', 'Baer', 'Baev', 'Baevski', 'Baevsky', 'Baewski', 'Baewsky', 'Bag', 'Bagachev', 'Bagaev', 'BagaiOol', 'Bagalei', 'Bagalin', 'Bagandaliev', 'Bagaryakoff', 'Bagaryakov', 'Bagaryatsky', 'Bagashev', 'Bagaturiya', 'Bagautdinov', 'Bagdasaroff', 'Bagdasarov', 'Bagdasaryan', 'Bagdatiev', 'Baggovut', 'Bagimoff', 'Bagimov', 'Bagin', 'Baginoff', 'Baginov', 'Bagiroff', 'Bagirov', 'Bagishaev', 'Bagishvili', 'Baglaenko', 'Baglai', 'Baglanoff', 'Baglanov', 'Bagler', 'Bagmet', 'Bagmevski', 'Bagmevsky', 'Bagmewski', 'Bagmewsky', 'Bagmut', 'Bagomaev', 'Bagrak', 'Bagramoff', 'Bagramov', 'Bagramyan', 'Bagration', 'Bagretsoff', 'Bagretsov', 'Bagrich', 'Bagrintsev', 'Bagritch', 'Bagroff', 'Bagrov', 'Bagryanski', 'Bagryansky', 'Bagryantsev', 'Bah', 'Bahanoff', 'Bahanov', 'Baharev', 'Bahchivandji', 'Bahchivandzhi', 'Baheloff', 'Bahelov', 'Bahin', 'Bahir', 'Bahlaev', 'Bahlulzade', 'Bahmat', 'Bahmatoff', 'Bahmatov', 'Bahmetev', 'Bahmetiev', 'Bahmetoff', 'Bahmetov', 'Bahmin', 'Bahmutoff', 'Bahmutov', 'Bahmutsky', 'Baholdin', 'Bahorin', 'Bahovkin', 'Bahovtsev', 'Bahrah', 'Bahrushin', 'Bahshiev', 'Bahtadze', 'Bahtchivandji', 'Bahtchivandzhi', 'Bahtiaroff', 'Bahtiarov', 'Bahtiev', 'Bahtigareev', 'Bahtin', 'Bahtinoff', 'Bahtinov', 'Bahtiyaroff', 'Bahtiyarov', 'Bahtizin', 'Bahtoff', 'Bahtov', 'Bahturin', 'Bahurin', 'Bahusov', 'Bahuta', 'Bahvaloff', 'Bahvalov', 'Baibakoff', 'Baibakov', 'Baibikoff', 'Baibikov', 'Baiborodoff', 'Baiborodov', 'Baiburin', 'Baiburski', 'Baibursky', 'Baiburtyan', 'Baichenko', 'Baichikoff', 'Baichikov', 'Baichoroff', 'Baichorov', 'Baidachny', 'Baidak', 'Baidakoff', 'Baidakov', 'Baidalin', 'Baidavletoff', 'Baidavletov', 'Baidin', 'Baidjanoff', 'Baidjanov', 'Baidukoff', 'Baidukov', 'Baidyuk', 'Baidzhanoff', 'Baidzhanov', 'Baier', 'Baigildeev', 'Baigozin', 'Baiguloff', 'Baigulov', 'Baigushev', 'Baiguzin', 'Baiguzoff', 'Baiguzov', 'Baikaloff', 'Baikalov', 'Baikin', 'Baikin', 'Baikoff', 'Baikov', 'Baikovski', 'Baikovsky', 'Baikowski', 'Baikowsky', 'Baimakoff', 'Baimakov', 'Baimiev', 'Bair', 'Bairak', 'Bairamkuloff', 'Bairamkulov', 'Bairamukoff', 'Bairamukov', 'Bairashevski', 'Bairashevsky', 'Bairashewski', 'Bairashewsky', 'Bairov', 'Baisak', 'Baisaroff', 'Baisarov', 'Baiseitoff', 'Baiseitov', 'Baishev', 'Baistryuchenko', 'Baistryutchenko', 'Baitalsky', 'Baitchenko', 'Baitchikoff', 'Baitchikov', 'Baitchoroff', 'Baitchorov', 'Baiteryakoff', 'Baiteryakov', 'Baitin', 'Baitoff', 'Baitov', 'Bajaev', 'Bajan', 'Bajanoff', 'Bajanov', 'Bajenin', 'Bajenoff', 'Bajenov', 'Bajev', 'Bajin', 'Bajinoff', 'Bajinov', 'Bajoff', 'Bajov', 'Bajukoff', 'Bajukov', 'Bajutkin', 'Bak', 'Baka', 'Bakadoroff', 'Bakadorov', 'Bakaev', 'Bakai', 'Bakaleiko', 'Bakaleinik', 'Bakaleinikoff', 'Bakaleinikov', 'Bakalinsky', 'Bakaloff', 'Bakalov', 'Bakanchuk', 'Bakanoff', 'Bakanov', 'Bakastoff', 'Bakastov', 'Bakatin', 'Bakeev', 'Bakerkin', 'Bakh', 'Bakhanoff', 'Bakhanov', 'Bakharev', 'Bakhchivandji', 'Bakhchivandzhi', 'Bakheloff', 'Bakhelov', 'Bakhin', 'Bakhir', 'Bakhlaev', 'Bakhlulzade', 'Bakhmat', 'Bakhmatoff', 'Bakhmatov', 'Bakhmetev', 'Bakhmetiev', 'Bakhmetoff', 'Bakhmetov', 'Bakhmin', 'Bakhmutoff', 'Bakhmutov', 'Bakhmutski', 'Bakhmutsky', 'Bakholdin', 'Bakhorin', 'Bakhovkin', 'Bakhovtsev', 'Bakhrakh', 'Bakhrushin', 'Bakhshiev', 'Bakhtadze', 'Bakhtchivandji', 'Bakhtchivandzhi', 'Bakhtiaroff', 'Bakhtiarov', 'Bakhtiev', 'Bakhtigareev', 'Bakhtin', 'Bakhtinoff', 'Bakhtinov', 'Bakhtiyaroff', 'Bakhtiyarov', 'Bakhtizin', 'Bakhtoff', 'Bakhtov', 'Bakhturin', 'Bakhurin', 'Bakhusoff', 'Bakhusov', 'Bakhuta', 'Bakhvaloff', 'Bakhvalov', 'Bakiev', 'Bakihanoff', 'Bakihanov', 'Bakikhanoff', 'Bakikhanov', 'Bakin', 'Bakinoff', 'Bakinov', 'Bakiroff', 'Bakirov', 'Bakis', 'Bakitski', 'Bakitsky', 'Bakkarevich', 'Bakkarevitch', 'Baklagin', 'Baklan', 'Baklanoff', 'Baklanov', 'Baklashoff', 'Baklashov', 'Baklastoff', 'Baklastov', 'Baklund', 'Baklykoff', 'Baklykov', 'Bakmeister', 'Bakoff', 'Bakoni', 'Bakotin', 'Bakov', 'Bakradze', 'Bakrymoff', 'Bakrymov', 'Baksaraev', 'Bakshandaev', 'Bakshanski', 'Bakshansky', 'Baksheev', 'Bakshtanovski', 'Bakshtanovsky', 'Bakshtanowski', 'Bakshtanowsky', 'Bakshtein', 'Bakst', 'Bakulev', 'Bakulin', 'Bakum', 'Bakun', 'Bakunin', 'Bakunoff', 'Bakunov', 'Bakunovets', 'Bakunts', 'Bakuridze', 'Bakurinsky', 'Bakuroff', 'Bakurov', 'Bakushinsky', 'Bakusoff', 'Bakusov', 'Balabaev', 'Balabai', 'Balaban', 'Balabanoff', 'Balabanov', 'Balabas', 'Balabko', 'Balabolkin', 'Balabudkin', 'Balabuev', 'Balabuha', 'Balabukha', 'Balaev', 'Balagul', 'Balagula', 'Balaguroff', 'Balagurov', 'Balahnin', 'Balahonov', 'Balahonsky', 'Balahontsev', 'Balahovski', 'Balahovsky', 'Balahowski', 'Balahowsky', 'Balakaev', 'Balakhnin', 'Balakhonoff', 'Balakhonov', 'Balakhonsky', 'Balakhontsev', 'Balakhovski', 'Balakhovsky', 'Balakhowski', 'Balakhowsky', 'Balakin', 'Balakirev', 'Balakleevski', 'Balakleevsky', 'Balakshin', 'Balalaev', 'Balamutenko', 'Balamykin', 'Balanchivadze', 'Balanda', 'Balandin', 'Balandyuk', 'Balanev', 'Balanovski', 'Balanovsky', 'Balanowski', 'Balanowsky', 'Balarev', 'Balasanyan', 'Balashev', 'Balashoff', 'Balashov', 'Balasoglo', 'Balavensky', 'Balavin', 'Balawensky', 'Balawin', 'Balayan', 'Balazovski', 'Balazovsky', 'Balazowski', 'Balazowsky', 'Barabanov', 'Barabanschikov', 'Barabash', 'Barabashev', 'Barabolya', 'Baraboshkin', 'Barakin', 'Barakov', 'Barakovsky', 'Baraks', 'Baram', 'Baramidze', 'Barandych', 'Baranenko', 'Baranetsky', 'Barankin', 'Barannikov', 'Barazbiev', 'Barazgov', \"Bas'Holov\", 'Bashkov', 'Basov', 'Basovsky', 'Bass', 'Bassin', 'Bastanov', 'Bastian', 'Basto', 'Bastrygin', 'Basygysov', 'Basyrov', 'Basyuk', 'Batchaev', 'Batchaldin', 'Batchelis', 'Batcherikov', 'Batchev', 'Batchilo', 'Batchinsky', 'Batchish', 'Batchmanoff', 'Batchmanov', 'Batchuk', 'Batchurin', 'Batchyanskas', 'Batsanov', 'Batsev', 'Batsevich', 'Batskaev', 'Batsman', 'Batsura', 'Batsyn', 'Batuev', 'Batugin', 'Batuhtin', 'Batukov', 'Batunov', 'Batura', 'Baturin', 'Baturkin', 'Baturov', 'Bauer', 'Baukin', 'Baulin', 'Baum', 'Bauman', 'Baumgarten', 'Baushev', 'Bausov', 'Bautin', 'Bauze', 'Bavarin', 'Bavidoff', 'Bavidov', 'Bavilin', 'Bavin', 'Bavtrukevich', 'Bavtrukevitch', 'Bavykin', 'Bawarin', 'Bawidov', 'Bawilin', 'Bawin', 'Bawtrukevich', 'Bawtrukevitch', 'Bawvykin', 'Bazaev', 'Bazai', 'Bazanov', 'Bazarbaev', 'Bazarevich', 'Bazarhandaev', 'Bazarov', 'Bazen', 'Bazetskov', 'Bazhaev', 'Bazhan', 'Bazhanov', 'Bazhenin', 'Bazhenov', 'Bazhev', 'Bazhin', 'Bazhinov', 'Bazhov', 'Bazhukov', 'Bazhutkin', 'Bazikov', 'Bazil', 'Bazilev', 'Bazilevich', 'Bazilevitch', 'Bazilevsky', 'Bazili', 'Baziner', 'Bazjin', 'Bazovski', 'Bazovsky', 'Bazowski', 'Bazowsky', 'Bazulev', 'Bazulin', 'Bazunov', 'Bazylev', 'Bazylnikov', 'Bazyuta', 'Bazzhin', 'Beh', 'Behmetiev', 'Behoev', 'Behteev', 'Behtenev', 'Behterev', 'Behtin', 'Behtold', 'BeiBienko', 'Beider', 'Beilin', 'Beilis', 'Beilshtein', 'Beiman', 'Bein', 'Beinenson', 'Beizerov', 'Bekh', 'Bekhmetiev', 'Bekhoev', 'Bekhteev', 'Bekhtenev', 'Bekhterev', 'Bekhtin', 'Bekhtold', 'Bekk', 'Bekkarevich', 'Bekker', 'Beklemeshev', 'Beklemischev', 'Beklemishev', 'Beklenischev', 'Bekleshev', 'Bekleshov', 'Beklov', 'Bekmahanov', 'Bekman', 'Bekmurzov', 'BeknazarYuzbashev', 'Bekoryukov', 'Bekov', 'BekovichCherkassky', 'Bekrenev', 'Bekshansky', 'Bekshtrem', 'Bektabegov', 'Bektemirov', 'Bektimirov', 'Bektuganov', 'Bekuh', 'Bekyashev', 'Belbaev', 'Belchenko', 'Belchenkov', 'Belchikov', 'Belchuk', 'Beldy', 'Belgibaev', 'Belgov', 'Belich', 'Belichenko', 'Belichev', 'Belik', 'Belikin', 'Belikov', 'Belikovetsky', 'Belikovich', 'Belilovsky', 'Belimov', 'Belin', 'Belinder', 'Belinskij', 'Belinsky', 'Belishko', 'Belitsky', 'Belkov', 'Belman', 'Belnikov', 'Belnov', 'Beloborodov', 'Belobrov', 'Belobrovkin', 'Beloded', 'Belodubrovsky', 'Beloenko', 'Beloglazov', 'Belogolovkin', 'Belogolovy', 'Belogorsky', 'Belogrud', 'Belogubov', 'Belohin', 'Belohvostikov', 'Belokhin', 'Belokhvostikov', 'Belorossov', 'Belorusov', 'Belorussov', 'Beloschin', 'Beloselsky', 'Beloshapka', 'Beloshapkin', 'Beloshapkov', 'Beloshitsky', 'Belosludtsev', 'Belosohov', 'Belostotsky', 'Belosvet', 'Belotelov', 'Belotserkovets', 'Belotserkovsky', 'Belotsitsky', 'Belotsvetov', 'Belous', 'Belousko', 'Belousov', 'Belov', 'Belovol', 'Beloyartsev', 'Belshtein', 'Belsky', 'Beltov', 'Beltsev', 'Beltsov', 'Beltyukov', 'Belyaninov', 'Belyavin', 'Belyavsky', 'Belyusov', 'Benevolensky', 'Berezansky', 'Berezin', 'Berezinsky', 'Berezitsky', 'Berezitzky', 'Berezkin', 'Bereznev', 'Bereznevich', 'Bereznikov', 'Bereznitsky', 'Bereznitzky', 'Berezovaya', 'Berezovikov', 'Berezovoi', 'Berezovsky', 'Berezutsky', 'Berezutzky', 'Berezyuk', 'Besschetny', 'Bessogonov', 'Bessonov', 'Bestemyanov', 'Bestolov', 'Bestov', 'Bestujev', 'BestujevLada', 'BestujevRyumin', 'Bestuzhev', 'BestuzhevLada', 'BestuzhevRyumin', 'Bezruchenkov', 'Bezrukavnikov', 'Bezrukih', 'Bezrukikh', 'Bezrukov', 'Bezubyak', 'Bezuglov', 'Bezugly', 'Bezumov', 'Bezusko', 'Bezyazykov', 'Bezyuk', 'Bezyzvestnyh', 'Bezyzvestnykh', 'Bibichev', 'Bibin', 'Bibishev', 'Bibitinsky', 'Bibler', 'Bilalov', 'Bilbasov', 'Bilderling', 'Bildin', 'Bilenkin', 'Bilenko', 'Bilenshtein', 'Bilibin', 'Bilichenko', 'Bilihodze', 'Bilik', 'Bilimovich', 'Bilinsky', 'Biljo', 'Bill', 'Billert', 'Billevich', 'Bilmus', 'Bilonog', 'Bilov', 'Bilyaev', 'Bilyarsky', 'Bilyk', 'Bim', 'BimBad', 'Bimbas', 'Bindyukov', 'Binevich', 'Binshtok', 'Bir', 'Biragov', 'Birentsveig', 'Birger', 'Birich', 'Birilev', 'Birin', 'Birk', 'Birkenberg', 'Birkin', 'Birman', 'Birnbaum', 'Biron', 'Birshtein', 'Birut', 'Biryukov', 'Biryukovich', 'Biryulev', 'Biryulin', 'Biryuzov', 'Bass', 'Bass', 'Chaadaev', 'Chabanov', 'Chabanov', 'Chabrov', 'Chabrov', 'Chadin', 'Chadin', 'Chadov', 'Chadov', 'Chadovich', 'Chadovich', 'Chadrantsev', 'Chadrantsev', 'Chaganov', 'Chagin', 'Chajegov', 'Chajengin', 'Chaldymov', 'Chaleev', 'Chalov', 'Chalovsky', 'Chaly', 'Chalyh', 'Chalykh', 'Chalyshev', 'Chamov', 'Chamushev', 'Chanchikov', 'Changli', 'Chanov', 'Chanturia', 'Chanyshev', 'Chapko', 'Charkin', 'Charnetsky', 'Charnolusky', 'Charoshnikov', 'Chartorijsky', 'Chartorizhsky', 'Charuhin', 'Charukhin', 'Charushin', 'Charushkin', 'Charykov', 'Chazov', 'Cheh', 'Chehanov', 'Cheharin', 'Chehladze', 'Chehlakovsky', 'Chehluev', 'Chehoev', 'Chehonin', 'Chehov', 'Chehovich', 'Chehovsky', 'Chekachev', 'Chekh', 'Chekhanov', 'Chekharin', 'Chekhladze', 'Chekhlakovsky', 'Chekhluev', 'Chekhoev', 'Chekhonin', 'Chekhov', 'Chekhovich', 'Chekhovsky', 'Chekin', 'Chekis', 'Chekletsov', 'Cheklyanov', 'Chekmarev', 'Chekmasov', 'Chekmenev', 'Chekmezov', 'Chekoev', 'Chekomasov', 'Chekonov', 'Chekvin', 'Chepaksin', 'Cheparev', 'Chepasov', 'Chepchyak', 'Chepel', 'Chepelkin', 'Chepelyanov', 'Chepik', 'Chepikov', 'Chepin', 'Chepko', 'Cheplakov', 'Chepraga', 'Cheptsov', 'Cheptygmashev', 'Chepulyanis', 'Chepurenko', 'Chepurin', 'Chepurkovsky', 'Chepurnov', 'Chepurnoy', 'Chepurnyh', 'Chepurov', 'Chepygin', 'Cherchen', 'Cherchesov', 'Chernin', 'Chernov', 'Chernovisov', 'Chernovol', 'Cherov', 'Cherpakov', 'Chershintsev', 'Chersky', 'Chertakov', 'Chertischev', 'Chertkov', 'Chertkovsky', 'Chertok', 'Chertolyas', 'Chertorijsky', 'Chertorinsky', 'Chertoritsky', 'Chertorizhsky', 'Chertorogov', 'Chertov', 'Chertushkin', 'Chertykov', 'Cheruhin', 'Cherukhin', 'Cherushov', 'Cheryshev', 'Chevtzoff', 'Chihachev', 'Chihanchin', 'Chijevsky', 'Chijik', 'Chijikov', 'Chijov', 'Chikanov', 'Chikhachev', 'Chikhanchin', 'Chikichev', 'Chikin', 'Chikirev', 'Chikishev', 'Chikomasov', 'Chikov', 'Chikulaev', 'Chikun', 'Chikurov', 'Chikviladze', 'Chizhevsky', 'Chizhik', 'Chizhikov', 'Chizhov', 'Chkhartishvili', 'Chkheidze', 'Chkhenkeli', 'Chkhikvadze', 'Chugaev', 'Chugainov', 'Chugreev', 'Chuguev', 'Chugunov', 'Chuhadjyan', 'Chuhalov', 'Chuhanov', 'Chuharev', 'Chuhin', 'Chuhlomin', 'Chuhlomsky', 'Chuhlov', 'Chuhman', 'Chuhmantsev', 'Chuhnin', 'Chuhnov', 'Chuhnovsky', 'Chuho', 'Chuhonkin', 'Chuhontsev', 'Chuhraev', 'Chuhray', 'Chuhrov', 'Chukhadzhyan', 'Chukhalov', 'Chukhanov', 'Chukharev', 'Chukhin', 'Chukhlomin', 'Chukhlomsky', 'Chukhlov', 'Chukhman', 'Chukhmantsev', 'Chukhnin', 'Chukhnov', 'Chukhnovsky', 'Chukho', 'Chukhonkin', 'Chukhontsev', 'Chukhraev', 'Chukhray', 'Chukhrov', 'Churnosov', 'Chursalov', 'Churshukov', 'Chursin', 'Chursinov', 'Churuksaev', 'Churyukin', 'Chusov', 'Chusovitin', 'Chuta', 'Chutchenko', 'Chutchev', 'Chutchikov', 'Chutko', 'Chuvahin', 'Chuvailov', 'Chuvaldin', 'Chuvanov', 'Chuvashev', 'Chuvashov', 'Chuvatkin', 'Chuvilev', 'Chuvilkin', 'Chuvilo', 'Chuvilyaev', 'Chuvstvin', 'Chuvyrov', 'ChyrgalOol', 'Ciurlionis', 'Dabahov', 'Dagaev', 'Dahaev', 'Dahin', 'Dahno', 'Dahnov', 'Dahov', 'Dakhaev', 'Dakhin', 'Dakhno', 'Dakhnov', 'Dakhov', \"Dan'Ko\", \"Dan'Shin\", 'Danchenko', 'Danchuk', 'Danich', 'Danichenko', 'Danichkin', 'Danilchenko', 'Danilchuk', 'Daniltsev', 'Danilyak', 'Danilyan', 'Danilyuk', 'Danin', 'Danisevich', 'Dankin', 'Dankov', 'Dankuldinets', 'Dannenberg', 'Danshin', 'Dantsig', 'Dantsiger', 'Danyarov', 'Danyukov', 'Danyushevsky', \"Dar'In\", \"Dar'Kin\", 'Daraev', 'Daragan', 'Darakov', 'Darchiashvili', 'Darchiev', 'Darchinyants', 'Dardyk', 'Dardyrenko', 'Darenkov', 'Darevsky', 'Dargevich', 'Dargomyjsky', 'Darichev', 'Darinsky', 'Darjaev', 'Darkov', 'Darkshevich', 'Darminov', 'Darsigov', 'Darsky', 'Daryalov', 'Dasaev', 'Datdeev', 'Dats', 'Datsenko', 'Daty', 'Daue', 'Dauengauer', 'Daugelo', 'Daugule', 'Daugulis', 'Dauman', 'Daunene', 'Daursky', 'Daushev', 'Dautov', 'Dav', 'David', 'Davidchuk', 'Davidenko', 'Davidenkov', 'Davidov', 'Davidovich', 'Davidson', 'Davidyants', 'Davidyuk', 'Davidzon', 'Davitashvili', 'Davlatov', 'Davlertgareev', 'Davletgaraev', 'Davletkildeev', 'Davletov', 'Davletshin', 'Davletyarov', 'Davlyatov', 'Davydchenko', 'Davydchenkov', 'Davydenko', 'Davydenkov', 'Davydkin', 'Davydov', 'Davydovich', 'Defabr', 'Dehanov', 'Dehant', 'Dehtyar', 'Dehtyar', 'Dehtyarenko', 'Dehtyarev', 'Demeshko', 'Demetkin', 'Demetr', 'Demich', 'Demichev', 'Demidenko', 'Demidoff', 'Demidov', 'Demidovich', 'Demihov', 'Demin', 'Deminov', 'Demirchyan', 'Demirhanov', 'Demishev', 'Deniskin', 'Denisov', 'Denisovsky', 'Derchansky', 'Derfel', 'Derfelden', 'Deribas', 'Deribin', 'Deribo', 'Derich', 'Deriglazov', 'Deripaska', 'Derjavets', 'Derjavin', 'Derkach', 'Derkachenko', 'Derkachev', 'Derkovsky', 'Derman', 'Dermelev', 'Dernov', 'Dertynov', 'Derunov', 'Deryabin', 'Deryabkin', 'Deryagin', 'Deryugin', 'Deryujinsky', 'Deryujkov', 'Deryushev', 'Deryuzhinsky', 'Deryuzhkov', 'Derzhavets', 'Derzhavin', 'Deshesko', 'Deshevyh', 'Deshkin', 'Desnitsky', 'Destunis', 'Desyatchikov', 'Desyatkin', 'Desyatkov', 'Desyatnichenko', 'Desyatnikov', 'Desyatov', 'Desyatovsky', 'Desyatskov', 'Detengof', 'Detinko', 'Detkov', 'Detsenko', 'Deulenko', 'Deulin', 'Deyanov', 'Didarov', 'Didenko', 'Diderihs', 'Didevich', 'Didichenko', 'Didigov', 'Didkovsky', 'Didrikil', 'Diduh', 'Didychenko', 'Dienko', 'Diev', 'Digurov', 'Dijbak', 'Dijin', 'Dijur', 'Dik', 'Dikansky', 'Dikarev', 'Dikarevsky', 'Dikih', 'Dikikh', 'Dikolenko', 'Dikov', 'Dikovenko', 'Dikovsky', 'Dikson', 'Dikul', 'Dikusar', 'Dikushin', 'Diky', 'Divaev', 'Divakov', 'Divavin', 'Diveev', 'Divilkovsky', 'Divin', 'Divinets', 'Divnich', 'Divnov', 'Divov', 'Diyajev', 'Dizhbak', 'Dizhin', 'Dizhur', 'Djabrailov', 'Djabruev', 'Djahaya', 'Djahbarov', 'Djakson', 'Djaldjireev', 'Djamaldinov', 'Djanaev', 'Djanakavov', 'Djanashia', 'Djanashiya', 'Djangirli', 'Djanibekov', 'Djankezov', 'Djanumov', 'Djarimov', 'Djatdoev', 'Djatiev', 'Djavahishvili', 'Djejela', 'Djeladze', 'Djelepov', 'Djemal', 'Djemilev', 'Djevetsky', 'Djibladze', 'Djibuti', 'Djigarhanyan', 'Djigit', 'Djikaev', 'Djikovich', 'Djincharadze', 'Djindo', 'Djirin', 'Djisev', 'Djugashvili', 'Djumabaev', 'Djumaev', 'Djumagaliev', 'Djumaniyazov', 'Djunkovsky', 'Djunusov', 'Djura', 'Djuro', 'Djuromsky', 'Dmitrochenko', 'Dmitrov', 'Dmitrovsky', 'Dmohovsky', 'Dmokhovsky', 'Dmuhovsky', 'Dmukhovsky', 'Dneprov', 'Dnishev', 'Dobrajansky', 'Dobreitser', 'Dobrenkov', 'Dobretsky', 'Dobretsov', 'Dobridnyuk', 'Dobrik', 'Dobrinsky', 'Dobritsky', 'Dobrivsky', 'Dobriyan', 'Dobrjansky', 'Dobrodeev', 'Dobrohotov', 'Dobrojanov', 'Dobroklonsky', 'Dobrolensky', 'Dobrolyubov', 'Dobromyslov', 'Dobronos', 'Dobronravov', 'Dobropolsky', 'Dobroserdov', 'Dobroslavin', 'Dobrosotsky', 'Dobrotin', 'Dobrotvorsky', 'Dobrotvortsev', 'Dobrov', 'Dobrovolsky', 'Dobrovsky', 'Dobrushin', 'Dobrushkin', 'Dobrusin', 'Dobryakov', 'Dobryansky', 'Dobrynchenko', 'Dobrynin', 'Dobrynsky', 'Dobryshev', 'Dobryshin', 'Dobujinsky', 'Dobulevich', 'Dobuzhinsky', 'Dobychin', 'Dodin', 'Dodolev', 'Dodonov', 'Doev', 'Doga', 'Dogadaev', 'Dogadin', 'Dogadkin', 'Dogadov', 'Dogel', 'Dogilev', 'Dogmarov', 'Dogujiev', 'Doguzov', 'Doich', 'Doikov', 'Doinikov', 'Doino', 'Dojdikov', 'Dojin', 'Donchak', 'Donchenko', 'Dontsov', 'Dopiro', 'Dorofeev', 'Dovator', 'Dovbyschuk', 'Doveiko', 'Dovetov', 'Dovgaev', 'Dovgalev', 'Dovgalevsky', 'Dovgan', 'Dovgel', 'Dovgello', 'Dovgolevsky', 'Dovgopoly', 'Dovgun', 'Dovgusha', 'Dovgyallo', 'Dovjenko', 'Dovjuk', 'Dovladbegyan', 'Dovlatov', 'Dovlatyan', 'Dovnar', 'Dovydenko', 'Dovzhenko', 'Dovzhuk', 'Dozmorov', 'Dozorny', 'Dozortsev', 'Drojdin', 'Drojjin', 'Drojjinov', 'Drozdenko', 'Drozdetsky', 'Drozdkov', 'Drozdov', 'Drozdovsky', 'Dubakin', 'Dubasov', 'Dubatkov', 'Dubatolov', 'Dubelir', 'Dubelt', 'Duben', 'Dubenetsky', 'Dubenkov', 'Dubensky', 'Dubentsov', 'Dubik', 'Dubin', 'Dubina', 'Dubinin', 'Dubinkin', 'Dubinovsky', 'Dubinsky', 'Dubitsky', 'Dubko', 'Dubkoff', 'Dubkov', 'Dublin', 'Dublyansky', 'Dubman', 'Dubnikov', 'Dubnitsky', 'Dubnov', 'Dubnyakov', 'Dubrouski', 'Dubrov', 'Dubrovin', 'Dubrovo', 'Dubrovsky', 'Dubrowski', 'Dubrowsky', 'Dudchik', 'Dudnakov', 'Dudnik', 'Dudnikov', 'Dudochkin', 'Dudorov', 'Dudunov', 'Dudurich', 'Durakov', 'Durasov', 'Durdin', 'Durdyev', 'Durgaryan', 'Durkin', 'Durmanov', 'Durmashkin', 'Durnev', 'Durnopeiko', 'Durnov', 'Durnovo', 'Durnovtsev', 'Duronov', 'Durov', 'Duryagin', 'Durylin', 'Dutikov', 'Dutov', 'Dyachkov', 'Dyachkovsky', 'Dyakov', 'Dyo', 'Dzhabrailov', 'Dzhabruev', 'Dzhahaya', 'Dzhahbarov', 'Dzhakson', 'Dzhaldzhireev', 'Dzhamaldinov', 'Dzhanaev', 'Dzhanakavov', 'Dzhanashia', 'Dzhanashiya', 'Dzhangirli', 'Dzhanibekov', 'Dzhankezov', 'Dzhanumov', 'Dzharimov', 'Dzhatdoev', 'Dzhatiev', 'Dzhavahishvili', 'Dzhavakhishvili', 'Dzheladze', 'Dzhelepov', 'Dzhemal', 'Dzhemilev', 'Dzhevetsky', 'Dzhezhela', 'Dzhibladze', 'Dzhibuti', 'Dzhigarhanyan', 'Dzhigit', 'Dzhikaev', 'Dzhikovich', 'Dzhincharadze', 'Dzhindo', 'Dzhirin', 'Dzhisev', 'Dzhugashvili', 'Dzhumabaev', 'Dzhumaev', 'Dzhumagaliev', 'Dzhumaniyazov', 'Dzhunkovsky', 'Dzhunusov', 'Dzhura', 'Dzhuro', 'Dzhuromsky', 'Eberg', 'Ebergard', 'Eberling', 'Eberman', 'Ebers', 'Ebert', 'Ebralidze', 'Ebsvort', 'Ebzeev', 'Efanov', 'Egamberdiev', 'Eganov', 'Eganyan', 'Egarmin', 'Eger', 'Egerev', 'Egershtrom', 'Eggert', 'Egiazarov', 'Egiazaryan', 'Egides', 'Egides', 'Egin', 'Egipko', 'Egishev', 'Egle', 'Eglevsky', 'Eglevsky', 'Egof', 'Egolin', 'Egorenko', 'Egorenkov', 'Egorichev', 'Egorihin', 'Egorin', 'Egorkin', 'Egorov', 'Eidelman', 'Eidelnant', 'Eidelstein', 'Eideman', 'Eides', 'Eidinov', 'Eidlin', 'Eidman', 'Eifman', 'Eig', 'Eigin', 'Eihe', 'Eihenbaum', 'Eihengolts', 'Eihenvald', 'Eihfeld', 'Eihmans', 'Eihvald', 'Eijvertin', 'Eikalovich', 'Eikhe', 'Eikhenbaum', 'Eikhengolts', 'Eikhenvald', 'Eikhfeld', 'Eikhmans', 'Eikhvald', 'Eilenkrig', 'Eiler', 'Eimontov', 'Eindorf', 'Eingorn', 'Eirih', 'Eizen', 'Eizenstein', 'Eizhvertin', 'Ekaterininsky', 'Ekelchik', 'Ekimov', 'Ekin', 'Elachich', 'Elagin', 'Elanchik', 'Elanin', 'Elansky', 'Elapov', 'Elashkin', 'Elatontsev', 'Elebaev', 'Elehin', 'Elenin', 'Elensky', 'Elentuh', 'Elepin', 'Elepov', 'Elesin', 'Eletskih', 'Eletsky', 'Elez', 'Elgin', 'Eliasberg', 'Eliashberg', 'Eliasov', 'Elinson', 'Eliovitch', 'Elisman', 'Eltsin', 'Emanov', 'Emchenko', 'Emelianenko', 'Emelianenkov', 'Emelianov', 'Emelin', 'Emelyantsev', 'Emeshin', 'Emets', 'Emkov', 'Emlin', 'Emohonov', 'Emtsov', 'Emyashev', 'Emyshev', \"En'Ko\", \"En'Kov\", 'Enchev', 'Enden', 'Endogurov', 'Endolov', 'Endzelin', 'Eneev', 'Enenko', 'Engalychev', 'Engel', 'Engelgard', 'Engelgardt', 'Engelke', 'Engelmeier', 'Engelsberg', 'Engibarov', 'Engman', 'Engver', 'Enik', 'Enikeev', 'Enikolopov', 'Enileev', 'Enin', 'Enman', 'Enner', 'Ennikeev', 'Enns', 'Enohin', 'Ens', 'Enshin', 'Entin', 'Entov', 'Entov', 'Ents', 'Entus', 'Enukidze', 'Enyagin', 'Eremchenko', 'Eremkin', 'Eremushkin', 'Erenkov', 'Erepov', 'Eretsky', 'Eretzky', 'Erjenkov', 'Eroschenko', 'Eroschenkov', 'Eroshenko', 'Eroshevsky', 'Eroshin', 'Eroshkevich', 'Eroshkin', 'Eroshov', 'Eruhimovich', 'Erunov', 'Erusalimchik', 'Erusalimsky', 'Eruzalimchik', 'Erzhenkov', \"Es'Kin\", \"Es'Kov\", 'Esaulov', 'Esenchuk', 'Esenin', 'Esenkov', 'Esennikov', 'Esikov', 'Esimontovsky', 'Esin', 'Esionov', 'Esipenko', 'Esipov', 'Esipovich', 'Esmansky', 'Esmonsky', 'Estafiev', 'Esyp', 'Evald', 'Evarestov', 'Evdakov', 'Evdokimov', 'Evdoshenko', 'Evelson', 'Eventov', 'Evers', 'Eversman', 'Everstov', 'Evert', 'Evranov', 'Evsiukov', 'Evstafiev', 'Evstafiev', 'Evstifeev', 'Evstigneev', 'Evstratov', 'Evsyukov', 'Evsyutin', 'Fabelinsky', 'Fabr', 'Fabri', 'Fabrichnikov', 'Fabrichnov', 'Fabrichny', 'Fabrikant', 'Faddeev', 'Fadeechev', 'Fadeev', 'Fadin', 'Fadyaev', 'Fadyuhin', 'Fadzaev', 'Faen', 'Favorsky', 'Fazilov', 'Fazleev', 'Fazlov', 'Fazylzyanov', 'Fedchenko', 'Fedchenkov', 'Fedosov', 'Fedotenko', 'Fedotiev', 'Fedotkin', 'Fedotko', 'Fedotov', 'Fedotovskih', 'Felkerzam', 'Feschenko', 'Feschuk', 'Filipchenko', 'Filipchuk', 'Filipenko', 'Filipiev', 'Filipkov', 'Filipov', 'Filipovich', 'Filipovsky', 'Filippenko', 'Filippenkov', 'Filippishin', 'Filippkin', 'Filippov', 'Filippovich', 'Fin', 'Finagin', 'Finchuk', 'Finenko', 'Fingrut', 'Finik', 'Finkel', 'Finkelshtein', 'Finkelson', 'Finko', 'Finn', 'Finochkin', 'Finogeev', 'Finogenov', 'Finoshin', 'Finov', 'Finsky', 'Fintiktikov', 'Finyagin', 'Finyutin', 'Fiohin', 'Fiokhin', 'Fionin', 'Fionov', 'Fisichev', 'Fisik', 'Fiskin', 'Fistal', 'Fisun', 'Fofanov', 'Foht', 'Fominov', 'Fomintsev', 'Fominyh', 'Forer', 'Forsh', 'Forshteter', 'Fortov', 'Fortunatov', 'Fortunov', 'Fortygin', 'Fotiadi', 'Fotiev', 'Fotinov', 'Foya', 'Frolandin', 'Frolenkov', 'Frolkov', 'Frolov', 'Frolovsky', 'Froltsov', 'Frolushkin', 'From', 'Froman', 'Fromberg', 'Frontov', 'Froyanov', 'Frukalov', 'Frumin', 'Frumkin', 'Frunze', 'Frush', 'First', 'Gach', 'Gachegov', 'Gachev', 'Gachinsky', 'Gafarov', 'Gafin', 'Gafiyatullin', 'Gaft', 'Gafurov', 'Gaganov', 'Gagarin', 'Gagarinov', 'Gagarinsky', 'Gagemeister', 'Gagen', 'Gagentorn', 'Gagiev', 'Gagin', 'Gagonin', 'Gagrin', 'Gagulin', 'Gaguliya', 'Gagut', 'Galda', 'Galdin', 'Galdus', 'Galeev', 'Galei', 'Galena', 'Galenkov', 'Galenkovsky', 'Galenovich', 'Galepa', 'Galerkin', 'Galetsky', 'Galev', 'Galevko', 'Galevsky', 'Galkin', 'GalkinVraskoi', 'Galko', 'Galkov', 'Galkovsky', 'Galkovsky', 'Galkus', 'Gall', 'Gall', 'Gallai', 'Galler', 'Galli', 'Gallinger', 'Gallutdinov', 'Gallyamov', 'Galochkin', 'Galoganov', 'Galstyan', 'Galteev', 'Gansky', 'Gasanov', 'Gaschenkov', 'Gasfort', 'Gashibayazov', 'Gashkin', 'Gashkov', 'Gasho', 'Gasich', 'Gasilin', 'Gasilov', 'Gasinov', 'Gaskoin', 'Gaskov', 'Gasman', 'Gasnikov', 'Gasparov', 'Gasparyan', 'Gaspirovich', 'Gassan', 'Gasselblat', 'Gassiy', 'Gastello', 'Gastev', 'Gastfreind', 'Gasvitsky', 'Gasymov', 'Gasyukov', 'Gatashov', 'Gataullin', 'Gateev', 'Gatiev', 'Gatilov', 'Gatin', 'Gatiyatullin', 'Gatovsky', 'Gatsak', 'Gatsenko', 'Gatsuk', 'Gatsukov', 'Gatsunaev', 'Gatturov', 'Gau', 'Gaubrich', 'Gaudasinsky', 'Gauer', 'Gauk', 'Gaur', 'Gayanov', 'Gayazov', 'Gayulsky', 'Geft', 'Gefter', 'Geftler', 'Gehfenbaum', 'Gehman', 'Geht', 'Gehtman', 'Gerasimov', 'Gerasimovich', 'Gerasimovsky', 'Geroeff', 'Geroev', 'Gerojev', 'Gerschcovich', 'Gershkovich', 'Gershkovitsh', 'Geshtovt', 'Gess', 'Gesse', 'Gessen', 'Gest', 'Gesti', \"Get'Man\", 'Geta', 'Getelmaher', 'Getie', 'Getling', 'Getman', 'Getmanchuk', 'Getmanenko', 'Getmanov', 'Gets', 'Getselev', 'Getsen', 'Getsov', 'Getta', 'Getya', 'Gladchenko', 'Gladenkov', 'Gladilin', 'Gladilschikov', 'Gladkih', 'Gladkikh', 'Gladkov', 'Gladky', 'Gladshtein', 'Gladston', 'Gladtsin', 'Gladun', 'Gladysh', 'Gladyshev', 'Glagolev', 'Glagolevskii', 'Glagolevsky', 'Glasko', 'Glasov', 'Glavak', 'Glavatskih', 'Glavatsky', 'Glavchev', 'Glavin', 'Glavinsky', 'Glaz', 'Glazachev', 'Glazanov', 'Glazatov', 'Glazaty', 'Glazenap', 'Glaziev', 'Glazkov', 'Glazman', 'Glaznev', 'Glazov', 'Glazovsky', 'Glazunov', 'Glazychev', 'Glazyrin', 'Glebov', 'Glebovich', 'Glebovitsky', 'Gleizer', 'Glek', 'Glezarov', 'Glezer', 'Glezerman', 'Glezmer', 'Glubokovsky', 'Glubotsky', 'Gludin', 'Gluharev', 'Gluhih', 'Gluhman', 'Gluhonkov', 'Gluhotko', 'Gluhov', 'Glukharev', 'Glukhih', 'Glukhman', 'Glukhonkov', 'Glukhotko', 'Glukhov', 'Glumov', 'Gluskin', 'Glusov', 'Glussky', 'Gluz', 'Gluzman', 'Gluzsky', 'Golobokih', 'Golobokov', 'Goloborodko', 'Goloborodov', 'Golochevsky', 'Golofaev', 'Golofastov', 'Golofeev', 'Goloha', 'Golohvastov', 'Gololobov', 'Golomolzin', 'Golomovzy', 'Goloschapov', 'Goloschekin', 'Goloschuk', 'Golosenin', 'Golosenko', 'Goloshov', 'Goloskokov', 'Golosnenko', 'Golosov', 'Golosovker', 'Golostenov', 'Golota', 'Golotik', 'Golotyuk', 'Goloulin', 'Goloushev', 'Goloushin', 'Golov', 'Golovach', 'Golovachev', 'Golovan', 'Golovanchikov', 'Golovanets', 'Golovanov', 'Golovanyov', 'Golovatov', 'Golovatsky', 'Golovaty', 'Golovei', 'Golovenchenko', 'Golovenkin', 'Golovenok', 'Goloveshkin', 'Goloveshko', 'Goncharuk', 'Gorbach', 'Gorbachev', 'Gorbachevsky', 'Gorbenko', 'Gorbikov', 'Gorbman', 'Gorbov', 'Gorbovsky', 'Gorbulin', 'Gorbulsky', 'Gorbunov', 'GorbunovPosadov', 'Gorbushin', 'Gorbuzenko', 'Gorchak', 'Gorchakov', 'Gorchakovsky', 'Gorcharenko', 'Gorchatov', 'Gorchilin', 'Gorchinsky', 'Gorchkhanov', 'Gordasevich', 'Gordeenko', 'Gordeev', 'Gordeichik', 'Gordon', 'Gordopolov', 'Gordov', 'Gordusenko', 'Gordyagin', 'Gordyushin', 'Gorfinkel', 'Gorfunkel', 'Gorlov', 'Gorski', 'Gorskih', 'Gorskikh', 'Gorskin', 'Gorskov', 'Gorsky', 'Gorst', 'Gorstkin', 'Gorsun', 'Gortikov', 'Gortyshov', 'Govallo', 'Govendyaev', 'Govoretsky', 'Govorin', 'Govorkov', 'Govorov', 'Govoruhin', 'Govorun', 'Govorushin', 'Govyadin', 'Govyrin', 'Graifer', 'Grakovich', 'Gramatke', 'Gramberg', 'Gramenitsky', 'Grametsky', 'Graminovsky', 'Grammatikov', 'Grammatin', 'Granat', 'Granatkin', 'Granberg', 'Grandberg', 'Granik', 'Granikov', 'Granin', 'Granitov', 'Grankin', 'Grankov', 'Granov', 'Granovsky', 'Gransky', 'Grant', 'Grib', 'Gribachev', 'Gribakin', 'Gribalev', 'Gribanov', 'Gribanovsky', 'Gribashev', 'Gribenkin', 'Gribin', 'Gribkov', 'Gribnov', 'Griboedov', 'Gribov', 'Gribovsky', 'Gributsky', 'Gridchin', 'Gridnev', 'Grigolyuk', 'Grigoraschuk', 'Grigorchikov', 'Grigorenko', 'Grigorevsky', 'Grigoriadi', 'Grigoriev', 'Grigoriev', 'Grigorishin', 'Grigorov', 'Grigorovich', 'Grischenko', 'Grischuk', 'Grizodubov', 'Grobivker', 'Grobovsky', 'Grodensky', 'Grodetsky', 'Grodko', 'Grodsky', 'Grodzensky', 'Groer', 'Grohar', 'Groholsky', 'Grohotov', 'Grohov', 'Grohovsky', 'Groisberg', 'Groisman', 'Groizman', 'Grojantsev', 'Grokhar', 'Grokholsky', 'Grokhotov', 'Grokhov', 'Grokhovsky', 'Gromyhalin', 'Gromyko', 'Gronsky', 'Gropyanov', 'Grosfeld', 'Groshev', 'Groshikov', 'Groshkov', 'Groshopf', 'Groshovkin', 'Grositsky', 'Groskov', 'Grosov', 'Gross', 'Grosse', 'Grossgeim', 'Grosshopf', 'Grossman', 'Grosu', 'Grosul', 'Grot', 'Grotus', 'Groundon', 'Groza', 'Grozdov', 'Grozhantsev', 'Grozovsky', 'Gruschak', 'Grusha', 'Grushelevsky', 'Grushenko', 'Grushetsky', 'Grushevenko', 'Grushevoi', 'Grushevsky', 'Grushi', 'Grushihin', 'Grushikhin', 'Grushin', 'Grushinsky', 'Grushka', 'Grushko', 'Gudarenko', 'Gudenko', 'Gudenok', 'Gudev', 'Gudilin', 'Gudim', 'Gudima', 'Gudimov', 'Gudjabidze', 'Gudkov', 'Gudojnik', 'Gudoshin', 'Gudov', 'Gudovich', 'Gudovsky', 'Gudtsov', 'Gudvan', 'Gudymenko', 'Gudymo', 'Gudz', 'Gudzenko', 'Guio', 'Gujavin', 'Gujo', 'Gujov', 'Gujva', 'Gujvin', 'Guk', 'Gukasov', 'Guketlev', 'Gukov', 'Gukovsky', 'Gul', 'Gulaev', 'Gulai', 'Gulak', 'Gulamov', 'Gulaya', 'Gulbinsky', 'Gulchenko', 'Gulchinsky', 'Guldenbalk', 'Guldin', 'Guldreih', 'Guleichik', 'Gulenko', 'Gulenkov', 'Gulentsov', 'Gulevich', 'Gulevsky', 'Gulia', 'Gulichev', 'Gulidov', 'Guliev', 'Gulimov', 'Gulin', 'Gulishambarov', 'Gulkevich', 'Gulkin', 'Gulko', 'Gulshin', 'Gultyaev', 'Gulyaev', 'Gulyak', 'Gulyakov', 'Gulyansky', 'Gulyaschih', 'Gulyashko', 'Gulyga', 'Guzairov', 'Guzanov', 'Guzatov', 'Guzeev', 'Guzei', 'Guzenko', 'Guzenkov', 'Guzev', 'Guzevatov', 'Guzichenko', 'Guzik', 'Guzilov', 'Guzner', 'Guznischev', 'Guzov', 'Guzovatsker', 'Guzovsky', 'Guzun', 'Gzovsky', 'Habalov', 'Habarin', 'Habarov', 'Habarovsky', 'Habelashvili', 'Habibulaev', 'Habibulin', 'Habibullaev', 'Habibullin', 'Habichev', 'Habin', 'Habirov', 'Habitsov', 'Habov', 'Habriev', 'Hachapuridze', \"Hachatur'Yan\", 'Hachaturov', 'Hachaturyan', 'Hachirov', 'Hadarin', 'Hadartsev', 'Hadjiev', 'Hadjula', 'Hadonov', 'Haesh', 'Hafizov', 'Hagajeev', 'Hagondokov', 'Hagur', 'Hagurov', 'Hahaev', 'Hahalev', 'Hahanyan', 'Hahulin', 'Hahva', 'Haibullin', 'Haidakin', 'Haidin', 'Haidukov', 'Haidurov', 'Haikin', 'Haikov', 'Hailov', 'Haimi', 'Hain', 'Hainadsky', 'Hairetdinov', 'Hairov', 'Hairulin', 'Hairullin', 'Hairullov', 'Hairutdinov', 'Hairyuzov', 'Hait', 'Hait', 'Haitov', 'Haitsin', 'Hajkasimov', 'Hakamada', 'Hakhaev', 'Hakhalev', 'Hakhanyan', 'Hakhulin', 'Hakhva', 'Hakimov', 'Hakmaza', 'Haladjan', 'Haladzhan', 'Halaev', 'Halansky', 'Halaphaev', 'Halapkhaev', 'Halatnikov', 'Halatov', 'Halatyan', 'Haldei', 'Haldoyanidi', 'Haleev', 'Halenkov', 'Halepsky', 'Haletsky', 'Halevin', 'Halevinsky', 'Halfin', 'Halichevsky', 'Halifman', 'Halikov', 'Halileev', 'Halilov', 'Halilulin', 'Halimov', 'Halin', 'Halip', 'Halipov', 'Halitov', 'Haliulin', 'Haliullin', 'Halkechev', 'Halkin', 'Halkiopov', 'Hallyev', 'Halo', 'Haluev', 'Haluga', 'Halutin', 'Halyapin', 'Halyavin', 'Halyavkin', 'Halymbadja', 'Halymbadzha', 'Halyuta', 'Hamadeev', 'Hamadullin', 'Hamaev', 'Hamatnurov', 'Hamatov', 'Hamchiev', 'Hamenkov', 'Hamidulin', 'Hamidullin', 'Hamikoev', 'Hamitov', 'Hamitsev', 'Hamitski', 'Hamlov', 'Hamraev', 'Hamukov', 'Hamzin', 'Han', 'Hanaev', 'Hanafiev', 'Hanahu', 'Hanakhu', 'Hananaev', 'Hanbikov', 'Hanchuk', 'Handirov', 'Handjaevsky', 'Handjyan', 'Handohin', 'Handokhin', 'Handorin', 'Handrikov', 'Handrilov', 'Handruev', 'Handurin', 'Handzhaevsky', 'Handzhyan', 'Haneev', 'Hanenko', 'Hanenya', 'Hanetsky', 'Hanevich', 'Hangurian', 'Hanifatullin', 'Hanikyan', 'Hanin', 'Hanjiev', 'Hanjin', 'Hanjin', 'Hanjonkov', 'Hankeev', 'Hankoev', 'Hannanov', 'Hanok', 'Hanov', 'Hantimerov', 'Hantsev', 'Hantuev', 'Hanukov', 'Hanutin', 'Hanykov', 'Hanyutin', 'Hanzhiev', 'Hanzhin', 'Hanzhin', 'Hanzhonkov', 'Hapachev', 'Hapaev', 'Hapchaev', 'Hapitsky', 'Hapkov', 'Hapov', 'Haprov', 'Hapsirokov', 'Haptahaev', 'Haptakhaev', 'Hapy', 'Harabornikov', 'Haradurov', 'Haradze', 'Haraev', 'Harahinov', 'Harakhinov', 'Haraman', 'Harash', 'Haratyan', 'Haraz', 'Harchenko', 'Harchenkov', 'Harchev', 'Harchevnikov', 'Harchikov', 'Hardaev', 'Hardin', 'Harebov', 'Harev', 'Harharov', 'Harik', 'Harin', 'Harinov', 'Harionovsky', 'Harisov', 'Harito', 'Hariton', 'Haritonenko', 'Haritonov', 'Haritoshkin', 'Harkevich', 'Harkharov', 'Harkin', 'Harkov', 'Harkovchuk', 'Harkovsky', 'Harlachev', 'Harlamov', 'Harlampovich', 'Harlanov', 'Harlap', 'Harlashenkov', 'Harlashkin', 'Harlinsky', 'Harlov', 'Harmansky', 'Harms', 'Harnikov', 'Hartukov', 'Harybin', 'Haryuchi', 'Haryukov', 'Hasabov', 'Hasaev', 'Hasainov', 'Hasanov', 'Hasbulatov', 'Haschenko', 'Haschev', 'Hashaba', 'Hashachih', 'Hasiev', 'Hasis', 'Haskin', 'Haslavsky', 'Hasminsky', 'Hasnulin', 'Hasyanov', 'Hataevich', 'Hatagov', 'Hatin', 'Hatit', 'Hatkevich', 'Hatkov', 'Hatmullin', 'Hatov', 'Hatskevich', 'Hatukaev', 'Hatuntsev', 'Haustov', 'Haustovich', 'Hautiev', 'Havanov', 'Havin', 'Havinson', 'Havkin', 'Havkunov', 'Havrichev', 'Havronin', 'Havroshin', 'Havroshkin', 'Hayaletdinov', 'Hayaliev', 'Hayutin', 'Hazan', 'Hazanov', 'Hazanovich', 'Hazbulatov', 'Hazeev', 'Haziahmetov', 'Haziev', 'Hazipov', 'Hazov', 'Hegai', 'Heifets', 'Helashvili', 'Helimsky', 'Helkvist', 'Helvas', 'Henkin', 'Hentov', 'Her', 'Heraskov', 'Herheulidzev', 'Herovets', 'Hersonsky', 'Heruvimov', 'Hesin', 'Hetagurov', 'Heveshi', 'Hevrolin', 'Hidirov', 'Hidiyatullin', 'Hihich', 'Hij', 'Hijny', 'Hijnyak', 'Hijnyakov', 'Hil', 'Hilchevsky', 'Hilkov', 'Hilyuk', 'Himenko', 'Himich', 'Himichev', 'Himonenko', 'Hinchin', 'Hinchuk', 'Hinich', 'Hirikilis', 'Hisametdinov', 'Hisamutdinov', 'Hismatullin', 'Hismatulov', 'Histyaev', 'Hitarov', 'Hitrenko', 'Hitrin', 'Hitrinsky', 'Hitro', 'Hitrov', 'Hitrovo', 'Hitruk', 'Hitrun', 'Hityaev', 'Hizh', 'Hizhny', 'Hizhnyak', 'Hizhnyakov', 'Hizriev', 'Hlamov', 'Hlebanov', 'Hlebnikov', 'Hlebodarov', 'Hlebovich', 'Hlestkov', 'Hlestov', 'Hlevniuk', 'Hlgatyan', 'Hlobystin', 'Hlobystov', 'Hlopetsky', 'Hlopiev', 'Hlopin', 'Hlopkin', 'Hlopkov', 'Hloponin', 'Hlopotin', 'Hlopotnya', 'Hlopov', 'Hludeev', 'Hludov', 'Hlupin', 'Hlusov', 'Hlutkov', 'Hlybov', 'Hlynov', 'Hlypovka', 'Hlystov', 'Hlystun', 'Hlyupin', 'Hlyzov', 'Hodorovich', 'Holboev', 'Holeva', 'Holin', 'Holkin', 'Holkin', 'Holmansky', 'Holminov', 'Holmogorov', 'Holmogortsev', 'Holmov', 'Holmsky', 'Holod', 'Holodilin', 'Holodilov', 'Holodkov', 'Holodkovsky', 'Holodny', 'Holodnyh', 'Holodnykh', 'Holodov', 'Holodovsky', 'Holoevsky', 'Holomeev', 'Holomenko', 'Holopov', 'Holoshevsky', 'Holoshin', 'Holschevnikov', 'Holschigin', 'Holshevnikov', 'Holstov', 'Holuev', 'Holyavin', 'Holyuchenko', 'Holzakov', 'Homa', 'Homaiko', 'Homar', 'Homatsky', 'Homenko', 'Homentovsky', 'Homeriki', 'Homich', 'Homichenko', 'Hominsky', 'Homsky', 'Homuha', 'Homusko', 'Homutnikov', 'Homutov', 'Homyakov', 'Hon', 'Honenev', 'Honov', 'Horalya', 'Horanov', 'Horev', 'Horhordin', 'Horkin', 'Horkov', 'Horobryh', 'Horohorkin', 'Horos', 'Horoshavin', 'Horoshavtsev', 'Horoshev', 'Horoshevsky', 'Horoshih', 'Horoshilov', 'Horoshiltsev', 'Horoshkevich', 'Horoshko', 'Horujenko', 'Horujev', 'Horujy', 'Horuzhenko', 'Horuzhev', 'Horuzhy', 'Horvat', 'Hot', 'Hoteev', 'Hotetovsky', 'Hotimsky', 'Hramchenkov', 'Hramov', 'Hramtsov', 'Huajev', 'Huako', 'Hubaev', 'Hubiev', 'Hublaryan', 'Hubulava', 'Hubutiya', 'Hudabirdin', 'Hudaiberdin', 'Hudainatov', 'Hudekov', 'Hudiev', 'Hudik', 'Hudilainen', 'Hudkov', 'Hudoinatov', 'Hudojnikov', 'Hudokormov', 'Hudoleev', 'Hudolei', 'Hudonogov', 'Hudoshin', 'Hudyaev', 'Hudyak', 'Hudyakov', 'Hudyh', 'Hudyshkin', 'Hugaev', 'Hujev', 'Hujin', 'Hulhachiev', 'Humaryan', 'Hunagov', 'Hundanov', 'Hunov', 'Huramshin', 'Huranov', 'Huraskin', 'Hurdey', 'Hurinov', 'Huroshvili', 'Hurtov', 'Hurtsilava', 'Huzangai', 'Huzin', 'Huziyatov', 'Ignatyuk', 'Ilyahin', 'Ilyakhin', 'Ilyasov', 'Ilyuhin', 'Ilyukhin', 'Ilyumjinov', 'Ilyunin', 'Ilyushin', 'Ilyushkin', 'Ilyutenko', 'Imamaliev', 'Imamutdinov', 'Imanov', 'Imatkulov', 'Imbulgin', 'Imedoev', 'Imendaev', 'Imenin', 'Imeretinsky', 'Imerlishvili', 'Imnadze', 'Imniaminov', 'Imshenetsky', 'Imukov', 'Isaakidis', 'Isachenko', 'Isachenkov', 'Isachenok', 'Isadjanov', 'Isaenko', 'Isaev', 'Isaevich', 'Isagaliev', 'Isaichenkov', 'Isaichev', 'Isaichikov', 'Isaikin', 'Isaiko', 'Isaikov', 'Isakov', 'Isakovich', 'Isakovsky', 'Isanbet', 'Isangulov', 'Isanin', 'Isasev', 'Isayan', 'Iskaev', 'Iskakov', 'Iskandarov', 'Iskandaryan', 'Iskander', 'Iskenderov', 'Iskin', 'Iskortsev', 'Iskos', 'Iskoz', 'Iskra', 'Iskritsky', 'Iskrov', 'Iskujin', 'Iskyul', 'Islakaev', 'Islambekov', 'Islamov', 'Islamshin', 'Islanov', 'Islavin', 'Isleniev', 'Islon', 'Islyamov', 'Ivanov', 'Ivchenko', 'Jaba', 'Jabin', 'Jabinsky', 'Jabitsky', 'Jablochkin', 'Jablochkov', 'Jablokov', 'Jablonovsky', 'Jablonowsky', 'Jablonsky', 'Jablontsev', 'Jablontzev', 'Jablovsky', 'Jaboev', 'Jabotinsky', 'Jabrev', 'Jabrov', 'Jabsky', 'Jaburov', 'Jabykin', 'Jachevsky', 'Jachikov', 'Jachmenev', 'Jachmenkov', 'Jachmentsev', 'Jachnik', 'Jadaev', 'Jadan', 'Jadanov', 'Jadanovsky', 'Jadenov', 'Jadin', 'Jadkevich', 'Jadne', 'Jadov', 'Jadovsky', 'Jadrennikov', 'Jadrihinsky', 'Jadrikhinsky', 'Jadrov', 'Jadryshnikov', 'Jafaev', 'Jafarov', 'Jafrakov', 'Jagafarov', 'Jagalin', 'Jaganov', 'Jagello', 'Jageman', 'Jagfarov', 'Jagich', 'Jaglintsev', 'Jagoda', 'Jagodin', 'Jagodinsky', 'Jagodnikov', 'Jagofarov', 'Jagovenko', 'Jagubov', 'Jagubsky', 'Jagudin', 'Jagujinsky', 'Jagunov', 'Jagupa', 'Jagupets', 'Jagutkin', 'Jagutyan', 'Jaguzhinsky', 'Jagya', 'Jahaev', 'Jahimovich', 'Jahin', 'Jahlakov', 'Jahnenko', 'Jahno', 'Jahnyuk', 'Jahontov', 'Jahot', 'Jaikbaev', 'Jaimov', 'Jaitsky', 'Jaivoronok', 'Jakhaev', 'Jakhimovich', 'Jakhin', 'Jakhlakov', 'Jakhnenko', 'Jakhno', 'Jakhnyuk', 'Jakhontov', 'Jakhot', 'Jakimchik', 'Jakimchuk', 'Jakimenko', 'Jakimets', 'Jakimov', 'Jakimovich', 'Jakimovsky', 'Jakimychev', 'Jakir', 'Jaklashkin', 'Jakmon', 'Jakon', 'Jakov', 'Jakov', 'Jakovchenko', 'Jakovchuk', 'Jakovenko', 'Jakovets', 'Jakovichenko', 'Jakovkin', 'Jakovlenko', 'Jakovlev', 'Jakovuk', 'Jakshibaev', 'Jakshin', 'Jakub', 'Jakuba', 'Jakubchik', 'Jakubenko', 'Jakubik', 'Jakubonis', 'Jakubov', 'Jakubovich', 'Jakubovsky', 'Jakunchikov', 'Jakunichev', 'Jakunin', 'Jakunkin', 'Jakunov', 'Jakupov', 'Jakurin', 'Jakuschenko', 'Jakush', 'Jakushev', 'Jakushevich', 'Jakushin', 'Jakushkin', 'Jakushkov', 'Jakushov', 'Jakutin', 'Jakutkin', 'Jalagin', 'Jalamov', 'Jalchevsky', 'Jalilo', 'Jalkovsky', 'Jalnin', 'Jalovenko', 'Jalovets', 'Jalovoi', 'Jalunin', 'Jalybin', 'Jam', 'Jamaletdinov', 'Jamaltdinov', 'Jambaev', 'Jamburg', 'Jamilov', 'Jaminsky', 'Jamlihanov', 'Jamlikhanov', 'Jamoida', 'Jamoido', 'Jamov', 'Jampolsky', 'Jamschikov', 'Jamskov', 'Jamsuev', 'Jan', 'Janaev', 'Janaki', 'Janalov', 'Janaslov', 'Janbarisov', 'Jandarbiev', 'Jandarov', 'Jandiev', 'Jandr', 'Jandulsky', 'Jandutkin', 'Janek', 'Janenko', 'Jangarber', 'Jangel', 'Janibekov', 'Janimov', 'Janin', 'Janishevsky', 'Janishin', 'Janitsky', 'Janjul', 'Jankelevich', 'Jankevich', 'Jankilevsky', 'Jankilovich', 'Jankin', 'Jankis', 'Janko', 'Jankov', 'Jankov', 'Jankovsky', 'Janochkin', 'Janov', 'Janover', 'Janovich', 'Janovitsky', 'Janovka', 'Janovsky', 'Janowich', 'Janpolsky', 'Janshin', 'Janshole', 'Janzhul', 'Japaskurt', 'Japondych', 'Japparov', 'Jardetsky', 'Jarihin', 'Jarikhin', 'Jarikov', 'Jarinov', 'Jarkih', 'Jarkikh', 'Jarkov', 'Jarkovsky', 'Jarmuhamedov', 'Jarmukhamedov', 'Jarnikov', 'Jarnov', 'Jarov', 'Jarovtsev', 'Jarsky', 'Jaruev', 'Jashkov', 'Jatkov', 'Jatsenko', 'Jatsevich', 'Jatskevich', 'Jatskov', 'Jatskovsky', 'Jatsuba', 'Jatsun', 'Jatsunov', 'Jatsyk', 'Jatsyshin', 'Jatzenko', 'Jatzevich', 'Jatzkevich', 'Jatzkov', 'Jatzkovsky', 'Jatzuba', 'Jatzun', 'Jatzunov', 'Jatzyk', 'Jatzyshin', 'Javoronkov', 'Javoronok', 'Javoronsky', 'Javrid', 'Jbankov', 'Jbanov', 'Jdakaev', 'Jdan', 'Jdankin', 'Jdanko', 'Jdankov', 'Jdanov', 'Jdanovich', 'Jdanovsky', 'Jebelev', 'Jebit', 'Jebo', 'Jebrovsky', 'Jebryakov', 'Jechkov', 'Jedrinsky', 'Jegin', 'Jeglov', 'Jegulin', 'Jegunov', 'Jeimo', 'Jejel', 'Jejera', 'Jekov', 'Jekulin', 'Jelaev', 'Jeldakov', 'Jelehovsky', 'Jelekhovsky', 'Jelezko', 'Jeleznikov', 'Jeleznov', 'Jelezny', 'Jeleznyak', 'Jeleznyakov', 'Jelezov', 'Jelezovsky', 'Jeleztsov', 'Jeliba', 'Jelnin', 'Jelnov', 'Jelobinsky', 'Jelohovtsev', 'Jelokhovtsev', 'Jeltouhov', 'Jeltoukhov', 'Jeltov', 'Jeltuhin', 'Jeltukhin', 'Jeltyannikov', 'Jeludev', 'Jeludkov', 'Jelvakov', 'Jelyabov', 'Jelyabovsky', 'Jelyabujsky', 'Jemaitis', 'Jemaldinov', 'Jemchugov', 'Jemchujnikov', 'Jemchujny', 'Jemlihanov', 'Jemlikhanov', 'Jemoitel', 'Jemuhov', 'Jemukhov', 'Jendarov', 'Jenin', 'Jenovach', 'Jeravin', 'Jerbin', 'Jerdev', 'Jerebin', 'Jerebko', 'Jerebovich', 'Jerebtsov', 'Jerebyatiev', 'Jerihin', 'Jerikhin', 'Jernakov', 'Jernevsky', 'Jernokleev', 'Jernosek', 'Jernov', 'Jernovoy', 'Jeromsky', 'Jeronkin', 'Jeryapin', 'Jerzdev', 'Jestkov', 'Jestovsky', 'Jeurov', 'Jevahov', 'Jevaikin', 'Jevakhov', 'Jevanov', 'Jeverjeev', 'Jevlakov', 'Jevolojnov,', 'Jgutov', 'Jiboedov', 'Jidelev', 'Jidenko', 'Jidilev', 'Jidilin', 'Jidkih', 'Jidkikh', 'Jidkin', 'Jidkov', 'Jidomirov', 'Jigachev', 'Jigailo', 'Jigailov', 'Jigalev', 'Jigalin', 'Jigalkin', 'Jigalov', 'Jiganov', 'Jigarev', 'Jigily', 'Jigin', 'Jigmytov', 'Jigulenkov', 'Jigulin', 'Jigulsky', 'Jigultsov', 'Jigun', 'Jigunov', 'Jiharev', 'Jiharevitch', 'Jija', 'Jijchenko', 'Jijemsky', 'Jijikin', 'Jijilev', 'Jijin', 'Jijnov', 'Jikharev', 'Jikharevitch', 'Jikin', 'Jikov', 'Jilchikov', 'Jilenko', 'Jilenkov', 'Jilin', 'Jilinsky', 'Jilis', 'Jilkin', 'Jilnikov', 'Jilov', 'Jiltsov', 'Jilyaev', 'Jilyakov', 'Jilyardy', 'Jilyuk', 'Jimailov', 'Jimerin', 'Jimila', 'Jimirov', 'Jimulev', 'Jinkin', 'Jinov', 'Jirdetsky', 'Jirenkin', 'Jirikov', 'Jiril', 'Jirinovsky', 'Jiritsky', 'Jirkevich', 'Jirkov', 'Jirmunsky', 'Jirnikov', 'Jirnov', 'Jirnyakov', 'Jiro', 'Jirov', 'Jiryakov', 'Jitarev', 'Jitenev', 'Jitetsky', 'Jitin', 'Jitinev', 'Jitinkin', 'Jitkov', 'Jitluhin', 'Jitlukhin', 'Jitnik', 'Jitnikov', 'Jitny', 'Jitomirsky', 'Jituhin', 'Jitukhin', 'Jivaev', 'Jivago', 'Jivilo', 'Jivin', 'Jivkovich', 'Jivlyuk', 'Jivoderov', 'Jivokini', 'Jivoluk', 'Jivopistsev', 'Jivotenko', 'Jivotinsky', 'Jivotovsky', 'Jivov', 'Jivulin', 'Jizdik', 'Jiznevsky', 'Jiznyakov', 'Jjenov', 'Jloba', 'Jluktov', 'Jmaev', 'Jmakin', 'Jmakov', 'Jmelkov', 'Jminko', 'Jmotov', 'Jmudsky', 'Jmulev', 'Jmuro', 'Jogin', 'Jogov', 'Johin', 'Johov', 'Jokhin', 'Jokhov', 'Jokin', 'Jolkov', 'Jolobov', 'Jolovan', 'Joltovsky', 'Joludev', 'Jongolovich', 'Jorin', 'Jorjev', 'Jornyak', 'Jorov', 'Jovnerik', 'Jovnir', 'Jovtun', 'Jovtyak', 'Juchenko', 'Juchkov', 'Judaev', 'Judahin', 'Judakhin', 'Judakov', 'Judanov', 'Judashkin', 'Judasin', 'Judelevich', 'Judenich', 'Judenkov', 'Judin', 'Judinsky', 'Juditsky', 'Judkin', 'Judkov', 'Judkovich', 'Judochkin', 'Judolovich', 'Judovich', 'Judushkin', 'Juferev', 'Juferov', 'Jufit', 'Jufryakov', 'Jugai', 'Jugin', 'Jugov', 'Juhanaev', 'Juhimenko', 'Juhimuk', 'Juhma', 'Juhman', 'Juhnev', 'Juhnin', 'Juhno', 'Juhotsky', 'Juhov', 'Juhtanov', 'Juhtman', 'Juhvidov', 'Juikov', 'Jujlev', 'Jujnev', 'Juk', 'Jukalov', 'Jukhanaev', 'Jukhimenko', 'Jukhimuk', 'Jukhma', 'Jukhman', 'Jukhnev', 'Jukhnin', 'Jukhno', 'Jukhotsky', 'Jukhov', 'Jukhtanov', 'Jukhtman', 'Jukhvidov', 'Jukov', 'Jukovets', 'Jukovich', 'Jukovin', 'Jukovsky', 'Julebin', 'Julev', 'Julidov', 'Julyabin', 'Jumenko', 'Jun', 'Junda', 'Junin', 'Junusov', 'Juon', 'Jupanenko', 'Jupikov', 'Jura', 'Jurakovsky', 'Juravel', 'Juravkov', 'Juravlenko', 'Juravliov', 'Juravov', 'Juravsky', 'Jurba', 'Jurbenko', 'Jurbin', 'Jurihin', 'Jurikhin', 'Jurin', 'Jurkin', 'Jurko', 'Jurkov', 'Jurkovsky', 'Jurman', 'Juromsky', 'Jurov', 'Juruli', 'Jushman', 'Juzeev', 'Juzefov', 'Juzefovich', 'Juzgin', 'Juzhakov', 'Juzhalin', 'Juzhanov', 'Juzhenko', 'Juzhilin', 'Juzin', 'Juzva', 'Juzvikov', 'Juzvishin', 'Juzvyuk', 'Jvachkin', 'Jvanetsky', 'Jvirblis', 'Jvykin', 'Kabachev', 'Kabachnik', 'Kabaev', 'Kabaidze', 'Kabak', 'Kabakchi', 'Kabakov', 'Kabalevsky', 'Kabalin', 'Kabalkin', 'Kabaloev', 'Kabanov', 'Kabashkin', 'Kabatsky', 'Kaberman', 'Kaberov', 'Kabes', 'Kabeshov', 'Kabirov', 'Kabisha', 'Kabitsin', 'Kabitsky', 'Kabjihov', 'Kablahov', 'Kablits', 'Kablov', 'Kablukov', 'Kabulahin', 'Kabulov', 'Kaburneev', 'Kabuzan', 'Kabysh', 'Kabyshev', 'Kabytov', 'Kachaev', 'Kachainik', 'Kachalin', 'Kachalkin', 'Kachalov', 'Kachalovsky', 'Kachan', 'Kachanov', 'Kachanovsky', 'Kacharov', 'Kacharyants', 'Kachemaev', 'Kachenovsky', 'Kachimov', 'Kachin', 'Kachinsky', 'Kachioni', 'Kachkaev', 'Kachkov', 'Kachnov', 'Kachur', 'Kachurin', 'Kalabekov', 'Kalaberda', 'Kalabin', 'Kalabuhov', 'Kalabukhov', 'Kalachev', 'Kalachihin', 'Kalachikhin', 'Kalachinsky', 'Kalachov', 'Kalaev', 'Kalaganov', 'Kalaichev', 'Kalaida', 'Kalaidjan', 'Kalaidovich', 'Kalakin', 'Kalakutsky', 'Kalamanov', 'Kalambetov', 'Kalamkaryan', 'Kalandarov', 'Kalandinsky', 'Kalashnik', 'Kalashnikov', 'Kalatin', 'Kalatsky', 'Kalautov', 'Kaldin', 'Kaldybaev', 'Kaledin', 'Kaleev', 'Kalekin', 'Kalenik', 'Kalenov', 'Kalentiev', 'Kaleri', 'Kaleshin', 'Kalesnik', 'Kaletin', 'Kaletkin', 'Kaletsky', 'Kalganov', 'Kalgashkin', 'Kaliashvili', 'Kaliberda', 'Kalievsky', 'Kalihanov', 'Kalihman', 'Kalihov', 'Kalikhanov', 'Kalikhman', 'Kalikhov', 'Kalikyan', 'Kalimahi', 'Kalimakhi', 'Kalimulin', 'Kalimullin', 'Kalin', 'Kalina', 'Kalinchenko', 'Kalinchuk', 'Kalinich', 'Kalinichenko', 'Kalinichev', 'Kalinin', 'Kalinka', 'Kalinkin', 'Kalinko', 'Kalinnikov', 'Kalinochkin', 'Kalinov', 'Kalinovich', 'Kalinovsky', 'Kalinsky', 'Kalintsev', 'Kalinushkin', 'Kalishevsky', 'Kalishewsky', 'Kalisov', 'Kalistratov', 'Kalita', 'Kaliteevsky', 'Kalitievsky', 'Kalitin', 'Kalitinkin', 'Kalitinsky', 'Kalitkin', 'Kalitvin', 'Kalitvintsev', 'Kaliyants', 'Kallash', 'Kallik', 'Kaloshin', 'Kamenetzky', 'Kartaev', 'Kartajev', 'Kartalov', 'Kartamyshev', 'Kartashev', 'Kartashevsky', 'Kartashkin', 'Kartashov', 'Kartavenko', 'Kartavtsev', 'Kartazhev', 'Karteshkin', 'Kartomyshev', 'Kartoshkin', 'Kartovenko', 'Kartoziya', 'Kartunov', 'Kartushin', 'Kartuzov', 'Kartvelin', 'Kartyshov', 'Kats', 'Katsan', 'Katsarev', 'Katsari', 'Katsebin', 'Katsenelenbaum', 'Katsenellenbogen', 'Katsepov', 'Katsev', 'Katsevman', 'Katsibin', 'Katsis', 'Katsman', 'Katsnelson', 'Katsovsky', 'Katsuba', 'Katsukov', 'Katsur', 'Katz', 'Katzan', 'Katzarev', 'Katzari', 'Katzebin', 'Katzenelenbaum', 'Katzenellenbogen', 'Katzepov', 'Katzev', 'Katzevman', 'Katzibin', 'Katzis', 'Katzman', 'Katznelson', 'Katzovsky', 'Katzuba', 'Katzukov', 'Katzur', 'Kaufman', 'Ladyjensky', 'Ladyjets', 'Ladyjnikov', 'Ladyzhensky', 'Ladyzhets', 'Ladyzhnikov', 'Lajentsev', 'Lajintsev', 'Lapaev', 'Lapakov', 'Lapegin', 'Lapenko', 'Lapenkov', 'Lapidus', 'Lapikov', 'Lapin', 'Lapinsky', 'Lapinus', 'Lapir', 'Lapisov', 'Lapitsky', 'Lapkin', 'Lapochkin', 'Lappo', 'Laps', 'Lazhentsev', 'Lazhintsev', 'Lebed', 'Lebedenko', 'Lebedev', 'Lebedevich', 'Lebedich', 'Lebedinets', 'Lebedinsky', 'Lebedintsev', 'Lebedkin', 'Lebedyansky', 'Lebereht', 'Lebeshev', 'Lebidko', 'Lebin', 'Lebinson', 'Leboperov', 'Lebsky', 'Lebzak', 'Lebzyak', 'Leiba', 'Leibe', 'Leibenzon', 'Leiberov', 'Leibin', 'Leibkin', 'Leibov', 'Leibovich', 'Leibovsky', 'Leichik', 'Leiferkus', 'Leihtenbergsky', 'Leikam', 'Leikin', 'Leikisman', 'Leiko', 'Leiman', 'Leimon', 'Lein', 'Leipunsky', 'Leites', 'Leitis', 'Leitman', 'Leiviman', 'Leizarenko', 'Leizerman', 'Lejankin', 'Lejankov', 'Lejava', 'Lejebokov', 'Lejenko', 'Lejepekov', 'Lejikov', 'Lejnev', 'Lejnin', 'Leonenko', 'Lepehin', 'Lepekhin', 'Lepihin', 'Lepihov', 'Lepikhin', 'Lepikhov', 'Lermontov', 'Lerner', 'Levichev', 'Levish', 'Levit', 'Levitan', 'Levitansky', 'Levite', 'Levitin', 'Levitis', 'Levitov', 'Levitsky', 'Levitsky', 'Levitt', 'Levitzky', 'Lewitckyj', 'Lezdinysh', 'Lezhankin', 'Lezhankov', 'Lezhava', 'Lezhebokov', 'Lezhenko', 'Lezhepekov', 'Lezhikov', 'Lezhnev', 'Lezhnin', 'Lezjov', 'Lezov', 'Lgov', 'Li', 'Lianozov', 'Liberman', 'Liberzon', 'Libkin', 'Libman', 'Libreht', 'Libson', 'Libusov', 'Lichagin', 'Lichenko', 'Lichintser', 'Lichkanovsky', 'Lichko', 'Lichkov', 'Lichkun', 'Lichkus', 'Lichman', 'Lichnov', 'Liders', 'Lidorenko', 'Lidval', 'Liepa', 'Ligachev', 'Ligin', 'Ligorner', 'Ligostaev', 'Lih', 'Lihachev', 'Lihanov', 'Liharev', 'Lihobaba', 'Lihobabin', 'Lihodedov', 'Lihodeev', 'Lihodei', 'Liholat', 'Liholobov', 'Lihomanov', 'Lihonosov', 'Lihosherstov', 'Lihov', 'Lihovidov', 'Lihovskih', 'Lihovtsev', 'Lihtenshtedt', 'Lihtenshtein', 'Lihtentul', 'Lihterman', 'Lihtin', 'Lihvantsev', 'Likh', 'Likhachev', 'Likhanov', 'Likharev', 'Likhobaba', 'Likhobabin', 'Likhodedov', 'Likhodeev', 'Likhodei', 'Likholat', 'Likholobov', 'Likhomanov', 'Likhonosov', 'Likhosherstov', 'Likhov', 'Likhovidov', 'Likhovskikh', 'Likhovtsev', 'Likhtenshtedt', 'Likhtenshtein', 'Likhtentul', 'Likhterman', 'Likhtin', 'Likhvantsev', 'Likin', 'Likov', 'Likum', 'Likunov', 'Likutov', 'Lileev', 'Liliental', 'Lilov', 'Lilyin', 'Lim', 'Limanov', 'Limansky', 'Limar', 'Limarev', 'Limarov', 'Limitovsky', 'Limonov', 'Limorenko', 'Limoshin', 'Lischenko', 'Lischuk', 'Lishansky', 'Lishin', 'Lishtovny', 'Lishtva', 'Litovchenko', 'Livadin', 'Livadny', 'Livanov', 'Livansky', 'Liven', 'Liventsev', 'Liventsov', 'Livenzon', 'Liverovsky', 'Livnev', 'Livshin', 'Livshitz', 'Livson', 'Lizander', 'Lizogub', 'Lizorkin', 'Lizunov', 'Loder', 'Lodkin', 'Lodochnikov', 'Lody', 'Lodyagin', 'Lodygin', 'Lodyjensky', 'Loenko', 'Loevsky', 'Loh', 'Lohanin', 'Lohanov', 'Lohin', 'Lohmatikov', 'Lohno', 'Lohov', 'Lohtin', 'Lohvitsky', 'Loi', 'Loifman', 'Loiko', 'Loiter', 'Loitzyansky', 'Lojchenko', 'Lojkin', 'Lokh', 'Lokhanin', 'Lokhanov', 'Lokhin', 'Lokhmatikov', 'Lokhno', 'Lokhov', 'Lokhtin', 'Lokhvitsky', 'Los', 'Losenko', 'Losev', 'Losik', 'Lositsky', 'Loskov', 'Loskutov', 'Loson', 'Lossky', 'Losyukov', 'Lotarev', 'Lotkov', 'Lotman', 'Lotorev', 'Lotosh', 'Lotsmanov', 'Lotter', 'Loza', 'Lozben', 'Lozhchenko', 'Lozhkin', 'Lozin', 'Lozinsky', 'Lozivets', 'Lozovoy', 'Lozovsky', 'Lubsky', 'Lubushkin', 'Lubutin', 'Lubutov', 'Luferov', 'Luha', 'Luhmanov', 'Luhovitsky', 'Luhvich', 'Lukha', 'Lukhmanov', 'Lukhovitsky', 'Lukhvich', 'Lupachev', 'Lupalenko', 'Lupan', 'Lupandin', 'Lupanenko', 'Lupanov', 'Lupehin', 'Lupei', 'Lupekhin', 'Lupenko', 'Lupenkov', 'Lupichev', 'Lupin', 'Lupov', 'Luppa', 'Luppian', 'Luppol', 'Luppov', 'Luptsov', 'Lurie', 'Luriya', 'Luskanov', 'Luspekaev', 'Luss', 'Lustgarten', 'Lut', 'Lutchenko', 'Lutchenkov', 'Lutfullin', 'Lutkov', 'Lutkovsky', 'Lutohin', 'Lutoshkin', 'Lutoshnikov', 'Lutov', 'Lutovich', 'Lutovinov', 'Luts', 'Lutsev', 'Lychagin', 'Lychakov', 'Lychanaya', 'Lychev', 'Lygach', 'Lygin', 'Lyhin', 'Lyjenkov', 'Lyjin', 'Lykasov', 'Lykhin', 'Lykin', 'Lykoshin', 'Lykosov', 'Lykov', 'Lymar', 'Lymarev', 'Lyndin', 'Lyndyaev', 'Lyrschikov', 'Lysak', 'Lysakov', 'Lysansky,', 'Lysenko', 'Lysenkov', 'Lysenny', 'Lysev', 'Lysihin', 'Lysikhin', 'Lysikov', 'Lyskin', 'Lysko', 'Lyskov', 'Lysov', 'Lystsov', 'Lysy', 'Lysyakov', 'Lysyansky', 'Lysyh', 'Lysykh', 'Lysyuk', 'Lytkin,', 'Lyvin', 'Lyzhenkov', 'Lyzhin', 'Lyzin', 'Lyzlov', 'Mahachev', 'Mahaev', 'Mahagonov', 'Mahalin', 'Mahalov', 'Mahankov', 'Mahanov', 'Maharov', 'Mahin', 'Mahinov', 'Mahinya', 'Mahlai', 'Mahlinsky', 'Mahlov', 'Mahmudov', 'Mahmutov', 'Mahnenko', 'Mahnev', 'Mahno', 'Mahonin', 'Mahonov', 'Mahorin', 'Mahortov', 'Mahotin', 'Mahotkin', 'Mahov', 'Mahovikov', 'Mahro', 'Mahrov', 'Mahrovsky', 'Mahtiev', 'Mahurov', 'Mahutov', 'Makaseev', 'Makferson', 'Makhachev', 'Makhaev', 'Makhagonov', 'Makhalin', 'Makhalov', 'Makhankov', 'Makhanov', 'Makharov', 'Makhin', 'Makhinov', 'Makhinya', 'Makhlai', 'Makhlinsky', 'Makhlov', 'Makhmudov', 'Makhmutov', 'Makhnenko', 'Makhnev', 'Makhno', 'Makhonin', 'Makhonov', 'Makhorin', 'Makhortov', 'Makhotin', 'Makhotkin', 'Makhov', 'Makhovikov', 'Makhro', 'Makhrov', 'Makhrovsky', 'Makhtiev', 'Makhurov', 'Makhutov', 'Makshakov', 'Maksheev', 'Maksimchenko', 'Maksimchik', 'Maksimchikov', 'Maksimchuk', 'Maksimov', 'Maksimovich', 'Maksimovsky', 'Maksimtsev', 'Maksimychev', 'Maksimyuk', 'Maksin', 'Maksinev', 'Maksumov', 'Maksutov', 'Maksyuta', 'Maksyutenko', 'Maksyutov', 'Makuha', 'Makuhin', 'Makukha', 'Makukhin', 'Makul', 'Makulov', 'Makunin', 'Makurov', 'Makusev', 'Makushev', 'Makushkin', 'Makushok', 'Makyshev', \"Mar'In\", 'Marchanukov', 'Marchenko', 'Marchenkov', 'Marchenov', 'Marchuk', 'Marchukov', 'Marfelev', 'Marfin', 'Marfunin', 'Marfusalov', 'Marhanov', 'Marhasin', 'Marhinin', 'Marholenko', 'Marievsky', 'Markhanov', 'Markhasin', 'Markhinin', 'Markholenko', 'Marks', 'Markus', 'Markushev', 'Markushevich', 'Markushin', 'Marlovetsky', 'Marmazov', 'Maron', 'Marov', 'Marr', 'Marshak', 'Marshalko', 'Marshansky', 'Marshev', 'Marsky', 'Martemyanov', 'Martens', 'Martidi', 'Martin', 'Martinenas', 'Martinkus', 'Martinovsky', 'Martinson', 'Martirosov', 'Martkovich', 'Martos', 'Martov', 'Martoyas', 'Martsenko', 'Martsenkov', 'Martsenyuk', 'Martsevich', 'Martsinkovsky', 'Martyanchik', 'Martyanov', 'Martynenko', 'Martynenkov', 'Martynov', 'Martynovsky', 'Martynyuk', 'Martyshevsky', 'Martyshin', 'Martyshkin', 'Martyshko', 'Martyshov', 'Martysyuk', 'Martyuk', 'Martyushev', 'Martyushin', 'Martyushov', 'Martzenko', 'Martzenkov', 'Martzenyuk', 'Martzevich', 'Martzinkovsky', 'Maruk', 'Marunin', 'Maruschak', 'Maruschenko', 'Marusev', 'Marushkin', 'Marushko', 'Marusin', 'Marutenkov', 'Marutsky', 'Maryanov', 'Maryanovsky', 'Maryashev', 'Maryasov', 'Marychev', 'Maryenko', 'Maryltsev', 'Maryshev', 'Marysyuk', 'Maryushkin', 'Maryutin', 'Matasoff', 'Matasov', 'Matsaev', 'Matsak', 'Matsakov', 'Matsevich', 'Matseyovsky', 'Matsiev', 'Matsievich', 'Matsievsky', 'Matsigura', 'Matskevich', 'Matsko', 'Matskov', 'Matskovsky', 'Matsnev', 'Matsotsky', 'Matsuev', 'Matsukevich', 'Matsyuk', 'Matzaev', 'Matzak', 'Matzakov', 'Matzevich', 'Matzeyovsky', 'Matziev', 'Matzievich', 'Matzievsky', 'Matzigura', 'Matzkevich', 'Matzko', 'Matzkov', 'Matzkovsky', 'Matznev', 'Matzotsky', 'Matzuev', 'Matzukevich', 'Matzyuk', 'Medved', 'Meshkovsky', 'Michkov', 'Michudo', 'Michurin', 'Mih', 'Mihailenko', 'Mihailets', 'Mihailichenko', 'Mihailidi', 'Mihailin', 'Mihailitsyn', 'Mihailov', 'Mihailovich', 'Mihailovsky', 'Mihailushkin', 'Mihailutsa', 'Mihailyants', 'Mihailychev', 'Mihailyuk', 'Mihalchenko', 'Mihalchev', 'Mihalchuk', 'Mihaleiko', 'Mihalenkov', 'Mihalev', 'Mihalevich', 'Mihalevsky', 'Mihalitsin', 'Mihalkin', 'Mihalkov', 'Mihalkov', 'Mihalkovsky', 'Mihalsky', 'Mihaltsev', 'Mihaltsov', 'Mihalushkin', 'Mihalychev', 'Mihasenko', 'Miheenkov', 'Miheev', 'Miheikin', 'Mihel', 'Mihels', 'Mihelson', 'Mihelyus', 'Mihersky', 'Mihilev', 'Mihin', 'Mihlin', 'Mihmel', 'Mihnenko', 'Mihnev', 'Mihnevich', 'Mihno', 'Mihnov', 'Mihoels', 'Mikh', 'Mikhailenko', 'Mikhailets', 'Mikhailichenko', 'Mikhailidi', 'Mikhailin', 'Mikhailitsyn', 'Mikhailjants', 'Mikhailjuk', 'Mikhailov', 'Mikhailovich', 'Mikhailovsky', 'Mikhailushkin', 'Mikhailutsa', 'Mikhailyants', 'Mikhailychev', 'Mikhailyuk', 'Mikhalchenko', 'Mikhalchev', 'Mikhalchuk', 'Mikhaleiko', 'Mikhalenkov', 'Mikhalev', 'Mikhalevich', 'Mikhalevsky', 'Mikhalitsin', 'Mikhalkin', 'Mikhalkov', 'Mikhalkov', 'Mikhalkovsky', 'Mikhalsky', 'Mikhaltsev', 'Mikhaltsov', 'Mikhalushkin', 'Mikhalychev', 'Mikhasenko', 'Mikheenkov', 'Mikheev', 'Mikheikin', 'Mikhel', 'Mikhels', 'Mikhelson', 'Mikhelyus', 'Mikhersky', 'Mikhilev', 'Mikhin', 'Mikhlin', 'Mikhmel', 'Mikhnenko', 'Mikhnev', 'Mikhnevich', 'Mikhno', 'Mikhnov', 'Mikhoels', 'Minchenkov', 'Minchev', 'Mindadze', 'Mindel', 'Mindeli', 'Mindiashvili', 'Mindibekov', 'Minding', 'Mindlin', 'Mindovsky', 'Mindra', 'Mineev', 'Minenko', 'Minenkov', 'Minervin', 'Minevich', 'Mingaleev', 'Mingalev', 'Mingazetdinov', 'Mingazov', 'Mingrelsky', 'Minh', 'Miniahhmetov', 'Minih', 'Minin', 'Minitsky', 'Minjurenko', 'Minkevich', 'Minkin', 'Minko', 'Minkov', 'Minkov', 'Minkovich', 'Minniahmetov', 'Minniakhmetov', 'Minnibaev', 'Minnihanov', 'Minnikhanov', 'Minnikov', 'Minnubaev', 'Minnulin', 'Minov', 'Minovalov', 'Minovitsky', 'Minovitzky', 'Minskoi', 'Mints', 'Mintskovsky', 'Mintz', 'Minuhin', 'Minukhin', 'Minushkin', 'Minyaev', 'Minyaichev', 'Minyajetdinov', 'Minyar', 'Minyazhetdinov', 'Minyukov', 'Minyushev', 'Miodushevsky', 'Mischenko', 'Mischenkov', 'Mischihin', 'Mischikhin', 'Mischuk', 'Mitskevich', 'Mitsukov', 'Mkervali', 'Mkrtchan', 'Mkrtchyants', 'Mkrtumov', 'Mkrtumyan', 'Mlachnev', 'Mladentsev', 'Mlechin', 'Mliss', 'Mlodik', 'Mlotkovsky', 'Mlynnik', 'Mnatsakanov', 'Mnatsakanyan', 'Mndjoyan', 'Mndoyants', 'Mniszech', 'Mnogogreshny', 'Mnuskin', 'Mochalin', 'Mochalov', 'Mochalsky', 'Mochalygin', 'Mochanov', 'Mochanovsky', 'Mocharov', 'Mochtarev', 'Mochulov', 'Mochulsky', 'Mochutkovsky', 'Model', 'Modenov', 'Moderah', 'Modestov', 'Modin', 'Modyaev', 'Modylevsky', 'Modzalevsky', 'Modzko', 'Mogila', 'Mogilensky', 'Mogilev', 'Mogilevich', 'Mogilevsky', 'Mogilevtsev', 'Mogilner', 'Mogilnichenko', 'Mogilnikov', 'Mogilnitsky', 'Mogilny', 'Mogilyuk', 'Moguchev', 'Moh', 'Mohnachev', 'Mohnatkin', 'Mohnatsky', 'Mohorov', 'Mohosoev', 'Mohov', 'Moisinovich', 'Mojaev', 'Mojaikin', 'Mojaiskov', 'Mojaisky', 'Mojar', 'Mojarenko', 'Mojarov', 'Mojarovsky', 'Mojartsev', 'Mojeiko', 'Mojin', 'Mokeenkov', 'Mokeev', 'Mokerov', 'Mokh', 'Mokhnachev', 'Mokhnatkin', 'Mokhnatsky', 'Mokhorov', 'Mokhosoev', 'Mokhov', 'Mokievsky', 'Mokin', 'Moklyachenko', 'Mokretsov', 'Mokrinsky', 'Mokritsky', 'Mokronosov', 'Mokrousov', 'Mokrov', 'Mokrushev', 'Mokry', 'Mokryak', 'Mokshin', 'Molcanovs', 'Molchadsky', 'Molchanov', 'Molchansky', 'Moldovanov', 'Moldovyan', 'Moletotov', 'Molev', 'Molevich', 'Molin', 'Mollaev', 'Moller', 'Mollo', 'Molnovetsky', 'Molochko', 'Molochkov', 'Molochnikov', 'Molodchinin', 'Molodensky', 'Molodin', 'Molodkin', 'Molodojenov', 'Molodtsov', 'Molodyh', 'Molodykh', 'Molojavy', 'Molokanov', 'Molokov', 'Molokovsky', 'Molorodov', 'Moloshnikov', 'Molostov', 'Molostvov', 'Molotilov', 'Molotkov', 'Molotov', 'Molov', 'Moltenskoi', 'Molvo', 'Molyakov', 'Molyavin', 'Molyavinsky', 'Mombelli', 'Momdji', 'Momdjyan', 'Momotov', 'Mordakov', 'Mordashov', 'Mordasov', 'Mordberg', 'Mordin', 'Mordinov', 'Mordkin', 'Mordkovich', 'Mordovin', 'Mordovtsev', 'Morduhovich', 'Mordvin', 'Mordvinoff', 'Mordvinov', 'Mordvintsev', 'Mordyukov', 'Morehin', 'Moreinis', 'Morekhin', 'Morenets', 'Morengeim', 'Morenshildt', 'Morev', 'Morjin', 'Morjitsky', 'Morozov', 'Morozovsky', 'Morzhin', 'Morzhitsky', 'Moschenko', 'Moshcovitsh', 'Mosheev', 'Moshenko', 'Moshenkov', 'Moshetov', 'Moshin', 'Moshkarkin', 'Moshkarnev', 'Moshkin', 'Moshkov', 'Moshkovich', 'Moshkovsky', 'Moshkunov', 'Moshnikov', 'Moshninov', 'Moshnyaga', 'Moshnyakov', 'Moshonkin', 'Movchan', 'Movchun', 'Movsaev', 'Movsarov', 'Movsesov', 'Movshovich', 'Movsumadze', 'Mozhaev', 'Mozhaikin', 'Mozhaiskov', 'Mozhaisky', 'Mozhar', 'Mozharenko', 'Mozharov', 'Mozharovsky', 'Mozhartsev', 'Mozheiko', 'Mozhin', 'Mravin', 'Mravinsky', 'Mrelashvili', 'Mrevlishvili', 'Mryhin', 'Mstislavets', 'Mstislavsky', 'Mubarakshin', 'Mubaryakov', 'Mudrak', 'Mudrik', 'Mudrov', 'Muijel', 'Muizhel', 'Mujdabaev', 'Mujikov', 'Mujitskih', 'Mujitskikh', 'Mujjavlev', 'Mujkaterov', 'Mukanov', 'Mukaseev', 'Mukasey', 'Mukin', 'Mukke', 'Muklevich', 'Mukomel', 'Mukov', 'Mukovozov', 'Muksinov', 'Muksunov', 'Mukubenov', 'Mukusev', 'Muladjanov', 'Mulatov', 'Muldashev', 'Mulenkov', 'Mulerman', 'Mulin', 'Mulinov', 'Mullayanov', 'Muller', 'Multah', 'Multakh', 'Multyh', 'Multykh', 'Mulyarchik', 'Mulyavin', 'Mulyukov', 'Mumdjian', 'Mumladze', 'Mun', 'Munaev', 'Munasipov', 'Munchaev', 'Munehin', 'Munekhin', 'Munin', 'Munsky', 'Munster', 'Munte', 'Muntyan', 'Munyabin', 'Murchenko', 'Murogov', 'Muromtsev', 'Muromtsov', 'Murov', 'Mursalimov', 'Murtazaliev', 'Murtazin', 'Muru', 'Murychev', 'Murygin', 'Murylev', 'Musabaev', 'Musaev', 'Musahanov', 'Musahanyants', 'Musakov', 'Musalatov', 'Musalimov', 'Musalnikov', 'Musatov', 'Musavirov', 'Muzafarov', 'Muzalevskih', 'Muzalevskikh', 'Muzalevsky', 'Muzarev', 'Muzenitov', 'Muzgin', 'Muzhdabaev', 'Muzhikov', 'Muzhitskih', 'Muzhitskikh', 'Muzhkaterov', 'Muzhzhavlev', 'Muzipov', 'Muzrukov', 'Muzychenko', 'Muzychka', 'Muzyka', 'Muzykantov', 'Muzykantsky', 'Muzykin', 'Muzylev', 'Muzyrya', 'Muzyukin', 'Myachkov', 'Myatishkin', 'Myatlev', 'Nahabtsev', 'Nahamkin', 'Nahamkis', 'Nahapetov', 'Nahimov', 'Nahmanovich', 'Nahodkin', 'Nahushev', 'Nahutin', 'Nakhabtsev', 'Nakhamkin', 'Nakhamkis', 'Nakhapetov', 'Nakhimov', 'Nakhmanovich', 'Nakhodkin', 'Nakhushev', 'Nakhutin', 'Nasakin', 'Nasedkin', 'Nasetkin', 'Nasibullaev', 'Nasibullin', 'Nasikan', 'Nasikovsky', 'Naslednikov', 'Nasledov', 'Nasonov', 'Nasretdinov', 'Nasrullaev', 'Nasrutdinov', 'Nastavin', 'Nastogunin', 'Nastoyaschy', 'Nasybullin', 'Nasyrov', 'Natalenko', 'Natalushko', 'Natapov', 'Natareev', 'Natashkin', 'Natho', 'Natochin', 'Nazarkin', 'Nazarko', 'Nejdanov', 'Nejentsev', 'Nejinsky', 'Nejlukto', 'Nelyubin', 'Nelyubov', 'Nesgovorov', 'Nesis', 'Neskorodev', 'Neskoromny', 'Neskrebin', 'Neskuchaev', 'Neslyuzov', 'Nesmachko', 'Nesmachnov', 'Nesmelov', 'Nesmeyanov', 'Nesselrode', 'Nessen', 'Nessler', 'Nesvetaev', 'Nevedomsky', 'Nevejin', 'Nevelskoi', 'Nevelsky', 'Neverkovets', 'Neverkovich', 'Neverov', 'Neverovsky', 'Neveselov', 'Nevezhin', 'Nevitsky', 'Nezabytovsky', 'Nezamai', 'Nezametdinov', 'Nezamutdinov', 'Nezavitin', 'Nezhdanov', 'Nezhentsev', 'Nezhinsky', 'Nezhlukto', 'Nezlin', 'Neznamov', 'Neznanov', 'Nezvigin', 'Nijegorodov', 'Nijegorodtsev', 'Nijevyasov', 'Nijinsky', 'Nizhegorodov', 'Nizhegorodtsev', 'Nizhevyasov', 'Nizhinsky', 'Nosach', 'Noschenko', 'Nosenko', 'Nosihin', 'Nosik', 'Nosikov', 'Noskin', 'Nosko', 'Noskov', 'Noskovsky', 'Nouvel', 'Novohatsky', 'Novokhatsky', 'Novosadov', 'Novosadsky', 'Novoselitsky', 'Novoselov', 'Novoselski', 'Novoselsky', 'Novoseltsev', 'Novoshinsky', 'Novosilsky', 'Novosiltsev', 'Novosiltsov', 'Novotortsev', 'Nudatov', 'Nugaev', 'Nugaibekov', 'Nugumanov', 'Nuikin', 'Nujdin', 'Numerov', 'Nunuev', 'Nuraliev', 'Nurdinov', 'Nureev', 'Nurgaleev', 'Nurgaliev', 'Nurgalin', 'Nurhamitov', 'Nuridjanov', 'Nuriev', 'Nurislamov', 'Nurjanov', 'Nurkaev', 'Nurmuhamedov', 'Nurmuhametov', 'Nurok', 'Nurov', 'Nursubin', 'Nurtdinov', 'Nuruchev', 'Nurullin', 'Nuryaev', 'Nuryshev', 'Nurzat', 'Nusberg', 'Nusinov', 'Nusuev', 'Nutrihin', 'Nyago', 'Nyamin', 'Nyashin', 'Nymmik', 'Nyrko', 'Nyrkov', 'Nyrtsev', 'Nyuhalov', 'Nyuhtilin', 'Nyuren', 'Nyurnberg', 'Oboldin', 'Obolensky', 'Obolonsky', 'Obolsky', 'Obolyaninov', 'Oborin', 'Oborkin', 'Oborotov', 'Obuh', 'Obuhov', 'Obukovkin', 'Obydennikov', 'Obydennov', 'Obyedkin', 'Obyedkov', 'Obysov', 'Olenev', 'Olenew', 'Omarjanov', 'Omarov', 'Omashev', 'Omegov', 'Omelchenko', 'Omelianovsky', 'Omelichev', 'Omelin', 'Omelko', 'Omelkov', 'Omelyanenko', 'Omelyansky', 'Omelyuk', 'Omischenko', 'Omoloev', 'Onchukov', 'Ondrikov', 'Onegin', 'Onenko', 'Onikov', 'Onilov', 'Onischenko', 'Onischuk', 'Onishko', 'Onkov', 'Onopko', 'Onoprienko', 'Onopriev', 'Onoshkin', 'Ontikov', 'Onuchin', 'Onufrienko', 'Onufriev', 'Onufrievich', 'Onusaitis', 'Onyky', 'Oom', 'Osipenko', 'Otain', 'Otchenashenko', 'Otdelnov', 'Otellin', 'Otiev', 'Otlesnov', 'Otletov', 'Otlivschikov', 'Otmahov', 'Otmakhov', 'Otov', 'Otradnov', 'Otrohov', 'Otrokhov', 'Otroshenko', 'Ots', 'Otsing', 'Otstavnoi', 'Otstavnov', 'Ott', 'Ottyasov', 'Otyaev', 'Otyutsky', 'Overchuk', 'Padalka', 'Padalkin', 'Paderin', 'Padkin', 'Paduchev', 'Padva', 'Padylin', 'Pagaev', 'Pagiev', 'Pahalchuk', 'Paharev', 'Paharkov', 'Pahmutov', 'Paholkov', 'Pahomov', 'Pahrin', 'Pahtanov', 'Pahtel', 'Pahunov', 'Paidoverov', 'Paidyshev', 'Paikin', 'Paimuhin', 'Paimukhin', 'Paimullin', 'Pain', 'Paivin', 'Pajinsky', 'Pajitnov', 'Pajukov', 'Pakhalchuk', 'Pakharev', 'Pakharkov', 'Pakhmutov', 'Pakholkov', 'Pakhomov', 'Pakhrin', 'Pakhtanov', 'Pakhtel', 'Pakhunov', 'Paradiz', 'Paradjanov', 'Paradzhanov', 'Paradzinsky', 'Paragulgov', 'Parahin', 'Parakhin', 'Parakin', 'Paramonov', 'Paramoshin', 'Paramoshkin', 'Paranin', 'Paraschenko', 'Paraskun', 'Parasyuk', 'Parenago', 'Parensky', 'Parensov', 'Pashkov', 'Pasternak', 'Pastreiter', 'Pats', 'Patsalo', 'Patsev', 'Patsevich', 'Patsiorkovsky', 'Patskevich', 'Patsyna', 'Patz', 'Patzalo', 'Patzev', 'Patzevich', 'Patziorkovsky', 'Patzkevich', 'Patzyna', 'Pavelko', 'Pavelyev', 'Pavin', 'Pavkin', 'Pavlenko', 'Pavlenkov', 'Pavlenok', 'Pavlichenko', 'Pavlin', 'Pavlinov', 'Pavlinsky', 'Pavlischev', 'Pavlishin', 'Pavluhin', 'Pavlukhin', 'Pavlunin', 'Pavlunovsky', 'Pavlusenko', 'Pavlusha', 'Pavlushin', 'Pavlychev', 'Pavlyuchenko', 'Pavlyuchkov', 'Pavlyuchuk', 'Pavlyuk', 'Pavlyukov', 'Pavlyukovsky', 'Pavlyushkevich', 'Pavsky', 'Pawluk', 'Pazdnikov', 'Pazhinsky', 'Pazhitnov', 'Pazhukov', 'Pazi', 'Pazuhin', 'Pazukhin', 'Pazy', 'Pazyun', 'Pechagin', 'Pechatkin', 'Pechatnov', 'Pechenejsky', 'Pechenev', 'Pechenezhsky', 'Pechenin', 'Pechenkin', 'Pecheny', 'Pecheritsa', 'Pecherkin', 'Pechernikov', 'Pechersky', 'Pechinin', 'Pechinkin', 'Pechkovsky', 'Pechkurov', 'Pechnikov', 'Pechuev', 'Pechurkin', 'Peftiev', 'Pehotin', 'Pehterev', 'Pehtin', 'Pekhotin', 'Pekhterev', 'Pekhtin', 'Peleev', 'Pelevin', 'Pelih', 'Pelin', 'Pellenen', 'Peller', 'Pelman', 'Pelmenev', 'Pelsh', 'Pelshe', 'Peltser', 'Peltsman', 'Pelyushenko', \"Pen'Kovsky\", 'Pen', 'Pendik', 'Pendyuhov', 'Pendyurin', 'Penev', 'Penkin', 'Penkov', 'Penkovsky', 'Pensky', 'Pentin', 'Pentsak', 'Penyaev', 'Penzin', 'Pepelyaev', 'Peresada', 'Persov', 'Petlenko', 'Petrov', 'Petsyk', 'Petsyuha', 'Pieha', 'Pietsuh', 'Piffer', 'Piradov', 'Pirashkov', 'Pirin', 'Pirogov', 'Pirojenko', 'Pirojkov', 'Pirozhenko', 'Pirozhkov', 'Pirsky', 'Pirtskhalava', 'Piruev', 'Pirumov', 'Pirushkin', 'Piruzyan', 'Pirzadyan', 'Piskarenkov', 'Piskarev', 'Pisklov', 'Piskoppel', 'Piskorsky', 'Piskotin', 'Piskovoy', 'Piskulov', 'Piskun', 'Piskunov', 'Piskus', 'Pismanik', 'Pismenny', 'Pismensky', 'Pismichenko', 'Pistolkors', 'Pitaevsky', 'Pitatelev', 'Pitel', 'Pitenin', 'Piterskih', 'Piterskikh', 'Pitersky', 'Pitkevich', 'Pitomets', 'Pituhin', 'Pitukhin', 'Piunov', 'Plichko', 'Pliev', 'Pligin', 'Plihin', 'Plikhin', 'Plimak', 'Pliner', 'Plis', 'Plisetsky', 'Pliska', 'Pliskanovsky', 'Plisov', 'Pliss', 'Plitman', 'Plotnicky', 'Plotnitsky', 'Pochechikin', 'Pochekin', 'Pocheshev', 'Pochevalov', 'Pochinkov', 'Pochinkovsky', 'Pochinok', 'Pochinsky', 'Pochitalin', 'Pochivalov', 'Pochkaev', 'Pochkailo', 'Pochkin', 'Pochkunov', 'Pochtarev', 'Pochtennyh', 'Pochuev', 'Pochupailov', 'Podolinsky', 'Podsevalov', 'Podshibihin', 'Podshibikhin', 'Podshivalov', 'Podsizertsev', 'Podstavka', 'Podsvirov', 'Podsyadlo', 'Pogosov', 'Pogosyan', 'Pohilchuk', 'Pohilenko', 'Pohilevich', 'Pohilko', 'Pohis', 'Pohitonov', 'Pohlebaev', 'Pohlebkin', \"Pohmel'Nyh\", 'Pohmelkin', 'Pohodeev', 'Pohodin', 'Pohodun', 'Pohojaev', 'Poholkov', 'Pohvisnev', 'Pohvoschev', 'Pokhilchuk', 'Pokhilenko', 'Pokhilevich', 'Pokhilko', 'Pokhis', 'Pokhitonov', 'Pokhlebaev', 'Pokhlebkin', \"Pokhmel'Nyh\", 'Pokhmelkin', 'Pokhodeev', 'Pokhodin', 'Pokhodun', 'Pokhojaev', 'Pokholkov', 'Pokhvisnev', 'Pokhvoschev', 'Polibin', 'Poliev', 'Polikanov', 'Polikarpov', 'Polikashkin', 'Polilov', 'Polivanov', 'Polivka', 'Polivkin', 'Polivoda', 'Ponafidin', 'Ponagushin', 'Ponarovsky', 'Ponasov', 'Ponedelkov', 'Ponedelnik', 'Ponidelko', 'Ponikarov', 'Ponikarovsky', 'Poninsky', 'Ponizov', 'Ponizovsky', 'Ponkratov', 'Ponomarenko', 'Ponomarev', 'Ponomarkov', 'Ponosov', 'Pontekorvo', 'Pontovich', 'Pontryagin', 'Pontyushenko', 'Ponurovsky', 'Ponyatkov', 'Ponyatovsky', 'Poogelman', 'Por', 'PoraiKoshits', 'Poret', 'Poretsky', 'Poretzky', 'Porfiriev', 'Porfirov', 'Porhun', 'Porhunov', 'Porkhun', 'Porkhunov', 'Porodnya', 'Poroh', 'Porohin', 'Porohnya', 'Porohov', 'Porohovschikov', 'Porokh', 'Porokhin', 'Porokhnya', 'Porokhov', 'Porokhovschikov', 'Porosenkov', 'Poroshin', 'Poroskov', 'Porosyuk', 'Poroykov', 'Porshenkov', 'Porshnev', 'Portnenko', 'Portnikov', 'Portnov', 'Portnoy', 'Portnyagin', 'Portnyakov', 'Portsevsky', 'Portsienko', 'Portugalsky', 'Portyanik', 'Portyankin', 'Portyanko', 'Portyansky', 'Porublev', 'Porus', 'Porva', 'Porval', 'Poryadin', 'Poryvaev', 'Poryvay', 'Poshehonov', 'Poshekhonov', 'Poshevnev', 'Poshibalov', 'Poshiklov', 'Poshlyakov', 'Poshumensky', 'Poshutilin', 'Postemsky', 'Postnikov', 'Potseiko', 'Potseluev', 'Potsepkin', 'Potsyapun', 'Poyarkov', 'Poyasnik', 'Pribylov', 'Pribylovsky', 'Pribylsky', 'Pribytkov', 'Pridannikov', 'Pridchenko', 'Pridvorov', 'Pridybailo', 'Priemyhov', 'Priemykhov', 'Priezjaev', 'Prigara', 'Prigarin', 'Prigoda', 'Prigojin', 'Prigojy', 'Prigorodov', 'Prigorovsky', 'Prigov', 'Prigozhin', 'Prigozhy', 'Priimkov', 'Prik', 'Prikazchikov', 'Priklonsky', 'Prikupets', 'Privalihin', 'Privalikhin', 'Privalov', 'Privorotsky', 'Priymak', 'Prokofiev', 'Prokoshev', 'Prokoshin', 'Prokoshkin', 'Prokudin', 'Prokuronov', 'Prokurorov', 'Prolubnikov', 'Promyslov', 'Prygoda', 'Puscharovsky', 'Puschin', 'Pushkov', 'Pyankov', 'Pyankovsky', 'Pyanochenko', 'Pyanov', 'Pyavchenko', 'Pyavko', 'Pyhov', 'Pyhteev', 'Pyhtin', 'Pyjev', 'Pyjiev', 'Pyjikov', 'Pyjov', 'Pyl', 'Pylev', 'Pylin', 'Pylnev', 'Pylyaev', 'Pypin', 'Pyrchenko', 'Pyrchenkov', 'Pyriev', 'Pyrikov', 'Pyrin', 'Pyrkov', 'Pyrlin', 'Pyschev', 'Pyshin', 'Pyshkin', 'Pyslar', 'Pytalev', 'Pytel', 'Pytov', 'Pytsky', 'Rahalsky', 'Rahamimov', 'Rahil', 'Rahimbaev', 'Rahimov', 'Rahletsky', 'Rahletzky', 'Rahlevsky', 'Rahlin', 'Rahmail', 'Rahmanin', 'Rahmaninov', 'Rahmanov', 'Rahmatulin', 'Rahmatullin', 'Rahmetov', 'Rahmilovich', 'Rahov', 'Rahvalov', 'Raich', 'Raifeld', 'Raifikesht', 'Raih', 'Raihelgauz', 'Raihelson', 'Raihert', 'Raihlin', 'Raihman', 'Raikevich', 'Raikh', 'Raikhelgauz', 'Raikhelson', 'Raikhert', 'Raikhlin', 'Raikhman', 'Raikin', 'Raikov', 'Raikovsky', 'Raimanov', 'Raimov', 'Rainbagin', 'Rainov', 'Raisky', 'Raiter', 'Raitses', 'Raitsin', 'Raizer', 'Raizman', 'Rakhalsky', 'Rakhamimov', 'Rakhil', 'Rakhimbaev', 'Rakhimov', 'Rakhletsky', 'Rakhletzky', 'Rakhlevsky', 'Rakhlin', 'Rakhmail', 'Rakhmanin', 'Rakhmaninov', 'Rakhmanov', 'Rakhmatulin', 'Rakhmatullin', 'Rakhmetov', 'Rakhmilovich', 'Rakhov', 'Rakhvalov', 'Rapota', 'Razygrin', 'Rebinder', 'Rehbinder', 'Rekemchuk', 'Rekitar', 'Rekke', 'Reks', 'Rekshinsky', 'Rekun', 'Rekunkov', 'Rekunov', 'Reles', 'Remaev', 'Rembeza', 'Remchukov', 'Remenny', 'Rementsov', 'Remeslo', 'Remez', 'Remezentsev', 'Remezov', 'Remih', 'Remikh', 'Remin', 'Remishevsky', 'Remizov', 'Remmer', 'Remmert', 'Remnev', 'Rempel', 'Rempler', 'Remyannikov', \"Ren'Kas\", 'Renard', 'Rendino', 'Rengarten', 'Renkas', 'Renkevich', 'Renne', 'Rennenkampf', 'Renov', 'Renovants', 'Renskov', 'Rents', 'Renzyaev', 'Ribakov', 'Ribopier', 'Richardson', 'Richman', 'Richter', 'Rifkind', 'Riga', 'Rigert', 'Rigin', 'Rihman', 'Rihter', 'Rikhman', 'Rikhter', 'Rishitnik', 'Rivel', 'Riverov', 'Rivkin', 'Rivkind', 'Rivman', 'Rjanitsin', 'Rjanov', 'Rjavin', 'Rjavinsky', 'Rjeshevsky', 'Rjeshotarsky', 'Rjeussky', 'Rjevsky', 'Robakidze', 'Robkanov', 'Robustov', 'Rochegov', 'Rochev', 'Rogachev', 'Rogachevsky', 'Rogal', 'Rogalev', 'Rogalnikov', 'Roganov', 'Roganovich', 'Rogashkov', 'Rogatkin', 'Rogatko', 'Rogatsky', 'Rohatsevich', 'Rohin', 'Rohlin', 'Rohmanov', 'Rohmistrov', 'Rokhatsevich', 'Rokhin', 'Rokhlin', 'Rokhmanov', 'Rokhmistrov', 'Rosenbloom', 'Rotai', 'Rotar', 'Rotaru', 'Rotast', 'Rotenberg', 'Rotermel', 'Rotgang', 'Rotin', 'Rotmistrov', 'Rotov', 'Rotshild', 'Rotshtein', 'Rott', 'Routiyainen', 'Rovbel', 'Rovensky', 'Rovinsky', 'Rovkov', 'Rovkovsky', 'Rovner', 'Rovnev', 'Rovnin', 'Rovnyansky', 'Rozenbloom', 'Rozenblum', 'Ruhimovich', 'Ruhledev', 'Ruhlin', 'Ruhlov', 'Ruhlyada', 'Ruhlyadko', 'Ruhtoev', 'Rujenkov', 'Rujentsov', 'Rujilo', 'Rujitsky', 'Rujje', 'Rujnikov', 'Rukhimovich', 'Rukhledev', 'Rukhlin', 'Rukhlov', 'Rukhlyada', 'Rukhlyadko', 'Rukhtoev', 'Ruslanov', 'Rusov', 'Russkih', 'Russkikh', 'Russkin', 'Russov', 'Rustamov', 'Rustikov', 'Rusu', 'Rusyaev', 'Rutberg', 'Rutenburg', 'Rutkevich', 'Rutkovsky', 'Rutman', 'Ruts', 'Rutshtein', 'Ruzaev', 'Ruzaikin', 'Ruzakov', 'Ruzankin', 'Ruzanov', 'Ruzavin', 'Ruzhenkov', 'Ruzhentsov', 'Ruzhilo', 'Ruzhitsky', 'Ruzhnikov', 'Ruzimatov', 'Ruzin', 'Ruzsky', 'Ryjak', 'Ryjakov', 'Ryjankov', 'Ryjanov', 'Ryjenko', 'Ryjenkov', 'Ryjev', 'Ryjih', 'Ryjik', 'Ryjikh', 'Ryjikov', 'Ryjkin', 'Ryjko', 'Ryjkov', 'Ryjkovsky', 'Ryjov', 'Ryjy', 'Ryzhak', 'Ryzhakov', 'Ryzhankov', 'Ryzhanov', 'Ryzhenko', 'Ryzhenkov', 'Ryzhev', 'Ryzhey', 'Ryzhih', 'Ryzhik', 'Ryzhikh', 'Ryzhikov', 'Ryzhkin', 'Ryzhko', 'Ryzhkov', 'Ryzhkovsky', 'Ryzhov', 'Ryzhy', 'Rzhanitsin', 'Rzhanov', 'Rzhavin', 'Rzhavinsky', 'Rzheshevsky', 'Rzheshotarsky', 'Rzheussky', 'Rzhevsky', 'Researcher', 'Researcher', 'Researcher', 'Researcher', 'Researcher', 'Researcher', 'Researcher', 'Researcher', 'Researcher', 'Sai', 'Saidbaev', 'Saidulaev', 'Saidullaev', 'Saifitdinov', 'Saifulaev', 'Saifulin', 'Saifullin', 'Saifulov', 'Saifutdinov', 'Saigin', 'Saigutin', 'Saihanov', 'Saikin', 'Saiko', 'Saikov', 'Sailotov', 'Saitanov', 'Saitiev', 'Saitov', 'Sak', 'Saker', 'Sakiev', 'Sakin', 'Sakiyaev', 'Sakov', 'Sakovich', 'Saks', 'Saksagansky', 'Sakson', 'Saksonov', 'Sakulin', 'Sakun', 'Sapojinsky', 'Sapojnikov', 'Sapon', 'Savinov', 'Scetintsev', 'Scheblykin', 'Schebrov', 'Schepansky', 'Schepatov', 'Schepelev', 'Schepetkov', 'Schepin', 'Schepiorko', 'Schepitsky', 'Schepkin', 'Schepotkin', 'Schepotyev', 'Schepovskih', 'Schetchikov', 'Schetinin', 'Schetinkin', 'Schevaev', 'Schevelev', 'Schirovsky', 'Schitov', 'Schits', 'Schitsyn', 'Schkrebitko', 'Schugorev', 'Sen', 'Senkov', 'Senkovsky', 'Senyagin', 'Senyakovich', 'Senyavin', 'Senyukov', 'Sepelev', 'Sepp', 'Serchuk', 'Serechenko', 'Sereda', 'Seredavin', 'Seredin', 'Seredinin', 'Seredkin', 'Serednitsky', 'Serednyakov', 'Seredohov', 'Seredov', 'Seredyuk', 'Serejin', 'Serejkin', 'Serejnikov', 'Serjantov', 'Sert', 'Shadhan', 'Shadkhan', 'Shadsky', 'Shadura', 'Shadursky', 'Shadyev', 'Shaer', 'Shaev', 'Shaevich', 'Shah', 'ShahNazaroff', 'Shahanov', 'Shahansky', 'Shahbanov', 'Shahbazov', 'Shahbazyan', 'Shahgildyan', 'Shahin', 'Shahkalamyan', 'Shahlamov', 'Shahlevich', 'Shahlin', 'Shahmaev', 'Shahmagon', 'Shahmametiev', 'Shahmatov', 'Shahmin', 'Shahnarovich', 'Shahnazarov', 'Shahnazaryan', 'Shahnazaryants', 'Shahno', 'Shahnovich', 'Shahnovsky', 'Shahorin', 'Shahov', 'Shahovskoi', 'Shahovsky', 'Shahpaev', 'Shahrai', 'Shahtin', 'Shahtmeister', 'Shahurin', 'Shahurov', 'Shahvorostov', 'Shaiahmetov', 'Shaidakov', 'Shaidarov', 'Shaidenko', 'Shaidullin', 'Shaidurov', 'Shaiewich', 'Shaihmurzin', 'Shaihutdinov', 'Shaikevich', 'Shaikhmurzin', 'Shaikhutdinov', 'Shaikin', 'Shaikov', 'Shaimardanov', 'Shaimiev', 'Shain', 'Shain', 'Shainsky', 'Shainurov', 'Shaitan', 'Shaitanov', 'Shakh', 'Shakhanov', 'Shakhansky', 'Shakhbanov', 'Shakhbazov', 'Shakhbazyan', 'Shakhgildyan', 'Shakhin', 'Shakhkalamyan', 'Shakhlamov', 'Shakhlevich', 'Shakhlin', 'Shakhmaev', 'Shakhmagon', 'Shakhmametiev', 'Shakhmatov', 'Shakhmin', 'Shakhnarovich', 'Shakhnazarov', 'Shakhnazaryan', 'Shakhnazaryants', 'Shakhno', 'Shakhnovich', 'Shakhnovsky', 'Shakhorin', 'Shakhov', 'Shakhovskoi', 'Shakhovsky', 'Shakhpaev', 'Shakhrai', 'Shakhtin', 'Shakhtmeister', 'Shakhurin', 'Shakhurov', 'Shakhvorostov', 'Shalabanov', 'Shalaev', 'Shalagaev', 'Shalagin', 'Shalaginov', 'Shalahonov', 'Shalai', 'Shalamanov', 'Shalamov', 'Shalashilin', 'Shalashov', 'Shalavin', 'Shaldenkov', 'Shaldybin', 'Shalenkov', 'Shalganov', 'Shalgin', 'Shalikov', 'Shalimo', 'Shalimov', 'Shalin', 'Shalitkin', 'Shalko', 'Shalmanov', 'Shalnev', 'Shalnikov', 'Shalnov', 'Shalonin', 'Shalov', 'Shalunov', 'Shalyapin', 'Shalygin', 'Shalyto', 'Shalyugin', 'Shamaev', 'Shamahov', 'Shamakhov', 'Shamakin', 'Shamanaev', 'Shamanin', 'Shamankov', 'Shamanov', 'Shamardin', 'Shamarin', 'Shamaro', 'Shambazov', 'Shamburkin', 'Shamgulov', 'Shamilyan', 'Shamin', 'Shamkov', 'Shammazov', 'Shamonin', 'Shamota', 'Shamov', 'Shamraev', 'Shamrai', 'Shamro', 'Shamrun', 'Shamsetdinov', 'Shamshev', 'Shamshin', 'Shamshurin', 'Shamshurov', 'Shamsiev', 'Shamsudinov', 'Shamsutdinov', 'Shamurin', 'Shamuzafarov', \"Shan'Gin\", 'Shanaev', 'Shananykin', 'Shanaurin', 'Shangareev', 'Shangin', 'Shazzo', 'Shel', 'Shelting', 'Sheludchenko', 'Sheludko', 'Sheludshev', 'Sheludyakov', 'Sheluhin', 'Sheluntsov', 'Shelyag', 'Shelyakin', 'Shelyuh', 'Shen', 'Shenaev', 'Shenagin', 'Shendalev', 'Shendel', 'Shenderovich', 'Shendrik', 'Shenfeld', 'Shenfeldt', 'Shenfer', 'Shengeliya', 'Shening', 'Shenk', 'Shenkarev', 'Shenker', 'Shenkovets', 'Shennikov', 'Shenshin', 'Shentel', 'Shenterev', 'Shenyavsky', 'Sherman', 'Shevtsov', 'Shinkaruk', 'Shiraev', 'Shirdov', 'Shirikov', 'Shirin', 'Shirinkin', 'ShirinskyShikhmatov', 'Shirinyan', 'Shirinyants', 'Shirko', 'Shirkov', 'Shirkovets', 'Shirle', 'Shirmankin', 'Shirmanov', 'Shirnin', 'Shirvindt', 'Tal', 'Talagaev', 'Talalaev', 'Talalai', 'Talalihin', 'Talalikhin', 'Talalykin', 'Talambum', 'Talankin', 'Talanov', 'Talapa', 'Talashkevich', 'Talbaev', 'Talberg', 'Taldykin', 'Talian', 'Taliev', 'Talikov', 'Talipov', 'Talitskih', 'Talitskikh', 'Talitsky', 'Talkov', 'Talkovsky', 'Tallat', 'Taller', 'Talmi', 'Talmin', 'Talmud', 'Talov', 'Taloverov', 'Talovirko', 'Talpin', 'Talroze', 'Taltangov', 'Taltskov', 'Talvik', 'Talvir', 'Talyantsev', 'Talygin', 'Talypin', 'Talyzin', 'Talzi', 'Tamaev', 'Tamanin', 'Tamanyan', 'Tamarchenko', 'Taube', 'Tchaadaev', 'Tchaganov', 'Tchagin', 'Tchajegov', 'Tchajengin', 'Tchaldymov', 'Tchaleev', 'Tchalov', 'Tchalovsky', 'Tchaly', 'Tchalyh', 'Tchalykh', 'Tchalyshev', 'Tchamov', 'Tchamushev', 'Tchanchikov', 'Tchangli', 'Tchanov', 'Tchanturia', 'Tchanyshev', 'Tchapko', 'Tcharkin', 'Tcharnetsky', 'Tcharnolusky', 'Tcharoshnikov', 'Tchartorijsky', 'Tchartorizhsky', 'Tcharuhin', 'Tcharukhin', 'Tcharushin', 'Tcharushkin', 'Tcharykov', 'Tchazov', 'Tcheh', 'Tchehanov', 'Tcheharin', 'Tchehladze', 'Tchehlakovsky', 'Tchehluev', 'Tchehoev', 'Tchehonin', 'Tchehov', 'Tchehovich', 'Tchehovsky', 'Tchekachev', 'Tchekh', 'Tchekhanov', 'Tchekharin', 'Tchekhladze', 'Tchekhlakovsky', 'Tchekhluev', 'Tchekhoev', 'Tchekhonin', 'Tchekhov', 'Tchekhovich', 'Tchekhovsky', 'Tchekin', 'Tchekis', 'Tchekletsov', 'Tcheklyanov', 'Tchekmarev', 'Tchekmasov', 'Tchekmenev', 'Tchekmezov', 'Tchekoev', 'Tchekomasov', 'Tchekonov', 'Tchekvin', 'Tetekin', 'Tetelmin', 'Teterev', 'Teterichev', 'Teterin', 'Teterkin', 'Teteruk', 'Tets', 'Tettenborn', 'Teumin', 'Teunaev', 'Tihankin', 'Tihenko', 'Tihin', 'Tihmenev', 'Tihobaev', 'Tihobrazov', 'Tihodeev', 'Tihomirnov', 'Tihomirov', 'Tihonchuk', 'Tihonenko', 'Tihonin', 'Tihonitsky', 'Tihonkih', 'Tihonov', 'Tihonravov', 'Tihotsky', 'Tihov', 'Tihvinsky', 'Tihy', 'Tikhankin', 'Tikhenko', 'Tikhin', 'Tikhmenev', 'Tikhobaev', 'Tikhobrazov', 'Tikhodeev', 'Tikhomirnov', 'Tikhomirov', 'Tikhonchuk', 'Tikhonenko', 'Tikhonin', 'Tikhonitsky', 'Tikhonkih', 'Tikhonov', 'Tikhonravov', 'Tikhotsky', 'Tikhov', 'Tikhvinsky', 'Tikhy', 'Timaev', 'Timakin', 'Timakov', 'Timarevsky', 'Timashev', 'Timashov', 'Timashuk', 'Time', 'Timerbaev', 'Timerbulatov', 'Timerhanov', 'Timin', 'Timirev', 'Timirgazeev', 'Timiryazev', 'Timiskov', 'Timkachev', 'Timkaev', 'Timkin', 'Timkov', 'Timlin', 'Timonin', 'Timonkin', 'Timonnikov', 'Timonov', 'Tkachuk', 'Tobias', 'Tobiash', 'Tobolev', 'Tobolin', 'Tobolkin', 'Tobulinsky', 'Todorov', 'Todorovsky', 'Todorsky', 'Todriya', 'Togoev', 'Togulev', 'Togunov', 'Toguzov', 'Toichkin', 'Toidze', 'Toien', 'Toka', 'Tokaev', 'Tokar', 'Tokarchuk', 'Tokarenko', 'Tokarev', 'Tokarovsky', 'Tokarsky', 'Tokin', 'Tokmachev', 'Tokmagambetov', 'Tokmakov', 'Tokombaev', 'Tokovoi', 'Toktahunov', 'Toktakhunov', 'Tokunov', 'Tolboev', 'Tolbuhin', 'Tolvinsky', 'Tomaev', 'Toman', 'Tomanov', 'Tomas', 'Tomashenko', 'Tomashev', 'Tomashevsky', 'Tomashov', 'Tomashpolsky', 'Tomashuk', 'Tomeev', 'Tomjevsky', 'Tovarovsky', 'Tovbich', 'Tovbin', 'Tovkan', 'Tovma', 'Tovstoles', 'Tovstolit', 'Tovstolujsky', 'Tovstonogov', 'Tovstuha', 'Tovstukha', 'Tovstyh', 'Tovstykh', 'Tovstyko', 'Tovuu', 'Troeglazov', 'Troekurov', 'Troepolsky', 'Troilin', 'Troinin', 'Troinitsky', 'Troitsky', 'Tromonin', 'Tron', 'Tronin', 'Tronko', 'Tronye', 'Tropin', 'Tropinin', 'Tropinov', 'Tropinsky', 'Tropko', 'Tropp', 'Truchanow', 'Truhachev', 'Truhanov', 'Truhanovsky', 'Truhin', 'Truhnin', 'Trukhachev', 'Trukhanov', 'Trukhanovsky', 'Trukhin', 'Trukhnin', 'Tsagadaev', 'Tsagareli', 'Tsagolov', 'Tsagunov', 'Tsah', 'Tsahilov', 'Tsai', 'Tsaizer', 'Tsakh', 'Tsakhilov', 'Tsakul', 'Tsakunov', 'Tsalaban', 'Tsaliev', 'Tsalikov', 'Tsalko', 'Tsallagov', 'Tsalyhin', 'Tsalykhin', 'Tsanava', 'Tsander', 'TsannKaySi', 'Tsapaev', 'Tsapelik', 'Tsapenko', 'Tsapin', 'Tsapko', 'Tsaplin', 'Tsaplinsky', 'Tsapov', 'Tsarakov', 'Tsaran', 'Tsaregorodtsev', 'Tsaregradsky', 'Tsarek', 'Tsarenko', 'Tsarenkov', 'Tsarev', 'Tsarevsky', 'Tsarik', 'Tsarikaev', 'Tsarkov', 'Tsarsky', 'Tsayukov', 'Tseboev', 'Tsebrikov', 'Tsederbaum', 'Tsegoev', 'Tsehanovich', 'Tsehansky', 'Tsehmistrenko', 'Tsei', 'Tseidler', 'Tseiger', 'Tseimen', 'Tseiner', 'Tseitlin', 'Tseizik', 'Tsekhanovich', 'Tsekhansky', 'Tsekhmistrenko', \"Tsel'Ko\", 'Tselibeev', 'Tselikov', 'Tselikovsky', 'Tselischev', 'Tselobenok', 'Tselovalnikov', 'Tselovalnov', 'Tseluiko', 'Tsenin', 'Tsenkovsky', 'Tsevlonsky', 'Tsevlovsky', 'Tsidilin', 'Tsidilkovsky', 'Tsigal', 'Tsigelnik', 'Tsigleev', 'Tsigler', 'Tsigra', 'Tsiolkovsky', 'Tsipushtanov', 'Tsiulev', 'Tsval', 'Tsvei', 'Tsveiba', 'Tsvelev', 'Tsvelihovsky', 'Tsvelikhovsky', 'Tsvelyuh', 'Tsvelyukh', 'Tsverkun', 'Tsvetaev', 'Tsvetkov', 'Tsvetnov', 'Tsvetov', 'Tsvibak', 'Tsvigun', 'Tsvilgnev', 'Tsvirko', 'Tsvylev', 'Tsyavlovsky', 'Tsyrba', 'Tsyrulik', 'Tsys', 'Tsytovich', 'Tsyurko', 'Tsyurupa', 'Tubelsky', 'Tubinov', 'Tubli', 'Tubolkin', 'Tuboltsev', 'Tubylov', 'Tudorovsky', 'Tueshev', 'Tuev', 'Tugaev', 'Tugai', 'Tuganaev', 'Tuganbaev', 'Tuganov', 'Tugarinov', 'Tugarov', 'Tugolukov', 'Tugov', 'Tugujekov', 'Tugushev', 'Tuguz', 'Tuikin', 'Tuikov', 'Tuinov', 'Tujikov', 'Tujilin', 'Tujilkin', 'Tukabaev', 'Tukmanov', 'Tuktarov', 'Tukumtsev', 'Tukvachinsky', 'Tulaev', 'Tulaikin', 'Tulaikov', 'Tulakov', 'Tulchinsky', 'Tulebaev', 'Tuleev', 'Tulikov', 'Tulin', 'Tulinov', 'Tulintsev', 'Tulkin', 'Tulnikov', 'Tulohonov', 'Tulov', 'Tultsev', 'Tulub', 'Tulubensky', 'Tulumbasov', 'Tulupov', 'Tulya', 'Tulyakov', 'Tumaev', 'Tumanov', 'Tumanovsky', 'Tumansky', 'Tumanyan', 'Tumarkin', 'Tumashev', 'Tumasiev', 'Tumbakov', 'Tumenov', 'Tumilovich', 'Tumin', 'Tumko', 'Tumolsky', 'Tumov', 'Tumunbayarov', 'Tundykov', 'Tuneev', 'Tunev', 'Tungusov', 'Tuniev', 'Tunik', 'Tunkin', 'Tunnikov', 'Tupalo', 'Tupihin', 'Tupikhin', 'Tupikin', 'Tupikov', 'Tupolev', 'Tuporshin', 'Tur', 'Turaev', 'Turanov', 'Turarov', 'Turashev', 'Turatbekov', 'Turbai', 'Turbanov', 'Turbin', 'Turchak', 'Turchaninov', 'Turchenko', 'Turchin', 'Turetskov', 'Turetsky', 'Turgenev', 'Turik', 'Turintsev', 'Turischev', 'Turiyansky', 'Turkestanov', 'Turkevich', 'Turkin', 'Turko', 'Turkov', 'Turkul', 'Turlak', 'Turlapov', 'Turlov', 'Turmanov', 'Turmilov', 'Turmov', 'Turno', 'Turov', 'Turoverov', 'Turovsky', 'Turovtsev', 'Turpaev', 'Turpyatko', 'Tursky', 'Tursunov', 'Turta', 'Turtsevich', 'Turtygin', 'Turubanov', 'Turuhin', 'Turukhin', 'Turulo', 'Turunov', 'Turupanov', 'Turushev', 'Turusin', 'Turusov', 'Turutin', 'Turyanov', 'Turyansky', 'Tuvin', 'Tuzin', 'Tuzov', 'Tzagadaev', 'Tzagareli', 'Tzagolov', 'Tzagunov', 'Tzah', 'Tzahilov', 'Tzai', 'Tzaizer', 'Tzakh', 'Tzakhilov', 'Tzakunov', 'Tzalaban', 'Tzaliev', 'Tzalikov', 'Tzalko', 'Tzallagov', 'Tzalyhin', 'Tzalykhin', 'Tzander', 'TzannKaySi', 'Tzapaev', 'Tzapelik', 'Tzapenko', 'Tzapin', 'Tzapko', 'Tzaplin', 'Tzaplinsky', 'Tzapov', 'Tzarakov', 'Tzaran', 'Tzaregorodtsev', 'Tzaregradsky', 'Tzarek', 'Tzarenko', 'Tzarenkov', 'Tzarev', 'Tzarevsky', 'Tzarik', 'Tzarikaev', 'Tzarkov', 'Tzarsky', 'Tzayukov', 'Tzeboev', 'Tzebrikov', 'Tzederbaum', 'Tzegoev', 'Tzehanovich', 'Tzehansky', 'Tzehmistrenko', 'Tzei', 'Tzeidler', 'Tzeiger', 'Tzeimen', 'Tzeiner', 'Tzeitlin', 'Tzeizik', 'Tzekhanovich', 'Tzekhansky', 'Tzekhmistrenko', \"Tzel'Ko\", 'Tzelibeev', 'Tzelikov', 'Tzelikovsky', 'Tzelischev', 'Tzelobenok', 'Tzelovalnikov', 'Tzelovalnov', 'Tzeluiko', 'Tzenin', 'Tzenkovsky', 'Tziolkovsky', 'Tzipushtanov', 'To The First Page', 'To The First Page', 'To The First Page', 'To The First Page', 'To The First Page', 'To The First Page', 'To The First Page', 'To The First Page', 'To The First Page', 'To The First Page', 'To The First Page', 'To The First Page', 'To The First Page', 'To The First Page', 'To The First Page', 'To The First Page', 'To The First Page', 'To The First Page', 'To The First Page', 'To The First Page', 'To The First Page', 'To The First Page', 'To The First Page', 'To The First Page', 'Uchaev', 'Uchaikin', 'Uchitel', 'Uchuev', 'Uchuvatkin', 'Uemlyanin', 'Uemov', 'Ufimkin', 'Ufimov', 'Ufimtsev', 'Uhabin', 'Uhanov', 'Uhin', 'Uhobotin', 'Uhov', 'Uhovsky', 'Uhtomsky', 'Ujentsev', 'Ujinov', 'Ujva', 'Ujvak', 'Ujvy', 'Ukhabin', 'Ukhanov', 'Ukhin', 'Ukhobotin', 'Ukhov', 'Ukhovsky', 'Ukhtomsky', 'Useev', 'Usenko', 'Usievich', 'Usik', 'Usikov', 'Usiskin', 'Uss', 'Ustenko', 'Ustilovsky', 'Ustimenko', 'Ustimkin', 'Ustimov', 'Ustimovich', 'Ustinchenko', 'Ustinkin', 'Ustinov', 'Ustinovich', 'Ustkachkintsev', 'Ustryalov', 'Ustvolsky', 'Ustyantsev', 'Ustynyuk', 'Ustyugov', 'Ustyujanin', 'Ustyuzhanin', 'Usynin', 'Usyskin', 'Utkin', 'Utochkin', 'Utoplov', 'Utrobin', 'Utropov', 'Utugunov', 'Utulov', 'Utyaganov', 'Utyashev', 'Utyugov', 'Uzakov', 'Uzbekov', 'Uzdenov', 'Uzenya', 'Uzhentsev', 'Uzhinov', 'Uzhva', 'Uzhvak', 'Uzhvy', 'Uzky', 'Uzlov', 'Uzov', 'Uzunov', \"V'Unnikov\", \"V'Yugin\", \"V'Yuhin\", \"V'Yun\", \"V'Yunkov\", \"V'Yunov\", \"V'Yurkov\", 'Vaarandi', 'Vabbe', 'Vadbolski', 'Vadbolsky', 'Vadeev', 'Vadin', 'Vadkovski', 'Vadkovsky', 'Vadovski', 'Vadovsky', 'Vaganoff', 'Vaganov', 'Vagapoff', 'Vagapov', 'Vagarshyan', 'Vagin', 'Vaginoff', 'Vaginov', 'Vagizoff', 'Vagizov', 'Vagner', 'Vagnoryus', 'Vagnyuk', 'Vagramenko', 'Vaidanovich', 'Vaidanovitch', 'Vaigant', 'Vaikin', 'Vaikule', 'Vaiman', 'Vaimer', 'Vainberg', 'Vainberger', 'Vaindrah', 'Vaindrakh', 'Vainer', 'Vainonen', 'Vainrub', 'Vainshtein', 'Vainshtok', 'Vainson', 'Vainunas', 'Vaipan', 'Vaisberg', 'Vaiserman', 'Vaiserman', 'Vaisero', 'Vaisfeld', 'Vaisman', 'Vaisner', 'Vaistuh', 'Vaitsehovsky', 'Vaitsekhovsky', 'Vajenin', 'Vajnichy', 'Vajorov', 'Vajov', 'Vakanya', 'Vakar', 'Vakichev', 'Vakilov', 'Vakitchev', 'Vakker', 'Vaks', 'Vaksberg', 'Vaksel', 'Vakser', 'Vaksman', 'Vakulenchuk', 'Vakulenko', 'Vakulentchuk', 'Vakulich', 'Vakulin', 'Vakulitch', 'Vakulko', 'Vakulov', 'Vakulovski', 'Vakulovsky', 'Vakulski', 'Vakulsky', 'Val', 'Val', 'Valaev', 'Valberh', 'Valchikovski', 'Valchikovsky', 'Valchitski', 'Valchitsky', 'Valchuk', 'Valdaev', 'Valden', 'Valdenberg', 'Valdes', 'Valdin', 'Valdman', 'Valednitsky', 'Valeev', 'Valendik', 'Valentei', 'Valentik', 'Valentinov', 'Valentinovich', 'Valentinovitch', 'Valentsev', 'Valetov', 'Valetto', 'Valev', 'Valevin', 'Valevsky', 'Valiahmetov', 'Valiakhmetov', 'Valiev', 'Valihanov', 'Valikhanov', 'Valikov', 'Valishin', 'Valitov', 'Valitsky', 'Valiullin', 'Valk', 'Valkevich', 'Valkevitch', 'Valkin', 'Valko', 'Valkov', 'Valkovoy', 'Vallah', 'Vallakh', 'Vallander', 'Valmasov', 'Valmus', 'Valnev', 'Valov', 'Valovoi', 'Valshin', 'Valtchikovski', 'Valtchikovsky', 'Valtchitski', 'Valtchitsky', 'Valtchuk', 'Valter', 'Valters', 'Valts', 'Valtuh', 'Valuev', 'Valy', 'Valyaev', 'Valyanov', 'Valyavski', 'Valyavsky', 'Valyushkin', 'Valyushkis', 'Vampilov', 'VanPuteren', 'Vanag', 'Vanchagov', 'Vanchugov', 'Vanchurov', 'Vandalkovsky', 'Vandyshev', 'Vanechkin', 'Vanetchkin', 'Vangengeim', 'Vanichev', 'Vaniev', 'Vanifatiev', 'Vanin', 'Vanitchev', 'Vanja', 'Vanjula', 'Vanke', 'Vankov', 'Vannikov', 'Vannovsky', 'Vansheidt', 'Vanshenkin', 'Vanshtein', 'Vanslov', 'Vansovich', 'Vanstein', 'Vantchagov', 'Vantchugov', 'Vantchurov', 'Vanteev', 'Vantenkov', 'Vantorin', 'Vanyashin', 'Vanyat', 'Vanykin', 'Vanyukov', 'Vanyushin', 'Vanzha', 'Vanzhula', 'Varaev', 'Varakin', 'Varaksin', 'Varakuta', 'Vasianov', 'Vasiliev', 'Vasilievsky', 'Vasin', 'Vasindin', 'Vaskin', 'Vaskov', 'Vaskovsky', 'Vaskovtsev', 'Vasserman', 'Vassoevich', 'Vasyaev', 'Vasyagin', 'Vasyakin', 'Vasyankin', 'Vasyanovich', 'Vasyatkin', 'Vasyuchkov', 'Vasyuk', 'Vasyukevich', 'Vasyukov', 'Vasyurin', 'Vasyutin', 'Vasyutinsky', 'Vasyutsky', 'Vasyutynsky', 'Vavakin', 'Vaver', 'Vavich', 'Vavilin', 'Vavilov', 'Vavkin', 'Vavra', 'Vavravsky', 'Vavrovsky', 'Vavulin', 'Vazhenin', 'Vazhnichy', 'Vazhorov', 'Vazhov', 'Vazyaev', 'Vazyulin', 'Vedeneev', 'Vedenin', 'Vedenisov', 'Vedenkin', 'Vedenkov', 'Vedenov', 'Vedensky', 'Vedenyapin', 'Vederman', 'Vedernikov', 'Vedev', 'Vedihov', 'Vedikhov', 'Vedinyapin', 'Vedischev', 'Vedrinsky', 'Vedrov', 'Vedyaev', 'Vedyakin', 'Vedyashkin', 'Vedyaskin', 'Veledeev', 'Veletsky', 'Velgus', 'Velichansky', 'Velichinsky', 'Velichkin', 'Velichko', 'Velichkovsky', 'Velidov', 'Veligjanin', 'Veligodsky', 'Veligorsky', 'Veligura', 'Velihov', 'Velikanov', 'Velikhov', 'Velikih', 'Velikin', 'Velikopolsky', 'Velikorechanin', 'Velikorechin', 'Velikorodny', 'Velikorussov', 'Velikov', 'Velikson', 'Veliky', 'Velio', 'Vellansky', 'Veller', 'Velli', 'Velmukin', 'Velovsky', 'Velsh', 'Velsovsky', 'Veltischev', 'Veltistov', 'Veltman', 'Velts', 'Velyaminov', 'Velyashev', 'Veprentsev', 'Veprentsov', 'Veprev', 'Veprik', 'Vepryushkin', 'Verba', 'Verbenko', 'Verber', 'Verbin', 'Verbitsky', 'Verpeto', 'Verre', 'Versan', 'Verstakov', 'Verstin', 'Verstovsky', 'Vertegel', 'Vertelko', 'Vertiev', 'Vertinsky', 'Vertiprahov', 'Vertkin', 'Vertkov', 'Vertman', 'Vertogradov', 'Vertogradsky', 'Vertyankin', 'Verushkin', 'Veselago', 'Veselenko', 'Veseliev', 'Veselitsky', 'Veselitsky', 'Veselkin', 'Veselkov', 'Veselov', 'Veselovsky', 'Vesich', 'Vesin', 'Vesner', 'Vesnik', 'Vesnin', 'Vesninov', 'Vesnitsky', 'Vesnovsky', 'Vestfrid', 'Vestman', 'Vestov', 'Vielgorsky', 'Vihansky', 'Viharev', 'Vihert', 'Vihirev', 'Vihlyaev', 'Vihnovich', 'Vihorev', 'Vihrev', 'Vihrov', 'Vijonsky', 'Vikhansky', 'Vikharev', 'Vikhert', 'Vikhirev', 'Vikhlyaev', 'Vikhnovich', 'Vikhorev', 'Vikhrev', 'Vikhrov', 'Vikuliev', 'Vikulin', 'Vikulov', 'Vil', 'Vilbreht', 'Vilbushevich', 'Vilchek', 'Vilchepolsky', 'Vilchinsky', 'Vilchitsky', 'Vilchur', 'Vild', 'Vildanov', 'Vilde', 'Vilenchik', 'Vilensky', 'Vilesov', 'Vilgelminin', 'Viliev', 'Vilimaa', 'Vilin', 'Vilinbahov', 'Vilke', 'Vilken', 'Vilkitsky', 'Vilkov', 'Vilkovsky', 'Villamov', 'Ville', 'Villevalde', 'Villiam', 'Vilm', 'Vilmont', 'Vilonov', 'Vilson', 'Vilutis', 'Vilyamovsky', 'Vilyams', 'Vilyunas', 'Vinarov', 'Vinaver', 'Vinberg', 'Vinchevsky', 'Vinchi', 'Vinchugov', 'Vinding', 'Vindman', 'Viner', 'Vingilevsky', 'Vingovatov', 'Vingranovsky', 'Vinichenko', 'Vinidiktov', 'Vinitsky', 'Vinius', 'Vinkler', 'Vinnichenko', 'Vinnik', 'Vinnikov', 'Vinnitsky', 'Vins', 'Vinsgeim', 'Vinter', 'Vinterfeldt', 'Vintergalter', 'Vintikov', 'Vintov', 'Vinyarsky', 'Vipper', 'Virachev', 'Viranovsky', 'Virehovsky', 'Virekhovsky', 'Virenius', 'Virgasov', 'Virichev', 'Viridarsky', 'Virkovsky', 'Viron', 'Viroslavsky', 'Virvitsiotti', 'Viselov', 'Visilkin', 'Viskhanov', 'Viskov', 'Viskovatov', 'Vislobokov', 'Visloguzov', 'Visly', 'Visnap', 'Visnapu', 'Vispovatyh', 'Vispovatykh', 'Vistchinsky', 'Vistitsky', 'Vitmer', 'Vitorgan', 'Vitorsky', 'Vitoshkin', 'Vitoshnov', 'Vitov', 'Vitovoi', 'Vitram', 'Vitrik', 'Vitruk', 'Vitryansky', 'Vizhonsky', 'Vlasenko', 'Vlasenkov', 'Vlasevich', 'Vlasievsky', 'Volsky', 'Vorogushin', 'Voronichev', 'Voronihin', 'Voronikhin', 'Voronin', 'Vorotnikov', 'Vorotnikov', 'Vozdvijensky', 'Vozgilevich', 'Vozgov', 'Vozianov', 'Vozilov', 'Vozlyubleny', 'Vozmitel', 'Voznesensky', 'Voznitsin', 'Voznov', 'Voznyak', 'Vozovik', 'Vyacheslavov', 'Vyahirev', 'Vyakhirev', 'Vyakkerev', 'Vyalba', 'Vyalbe', 'Vyalko', 'Vyalkov', 'Vyalov', 'Vyaltsev', 'Vyaltsin', 'Vyalushkin', 'Vyalyh', 'Vyalykh', 'Vyatkin', 'Vyatkovsky', 'Vyazalov', 'Vyazankin', 'Vyazikov', 'Vyazmikin', 'Vyazmin', 'Vyazmitinov', 'Vyaznikov', 'Vyaznikovtsev', 'Vyazov', 'Vyazovchenko', 'Vyazovoy', 'Vybornov', 'Vyborny', 'Vyborov', 'Vydrin', 'Vyglovsky', 'Vygodin', 'Vygodovsky', 'Vygotsky', 'Vygovsky', 'Vygran', 'Vyguzov', 'Vyhodtsev', 'Vyjletsov', 'Vyjutovich', 'Vykhodtsev', 'Vylegjanin', 'Vylko', 'Vylkov', 'Vylomov', 'Vyltsan', 'Vymenets', 'Vypirailenko', 'Vypolzov', 'Vyrenkov', 'Vyrodkov', 'Vyrodov', 'Vyrubov', 'Vyrupaev', 'Vyschepan', 'Vyschipan', 'Vyshegorodtsev', 'Vyshemirsky', 'Vysheslavtsev', 'Vyshinsky', 'Vyshkovsky', 'Vyshkvarko', 'Vyshnegradsky', 'Vyskrebtsov', 'Vyslouh', 'Vysochin', 'Vysokin', 'Vysokinsky', 'Vysokosov', 'Vysokov', 'Vysotskih', 'Vysotsky', 'Vystavkin', 'Vyucheisky', 'Vyuchnov', 'Vyvodtsev', 'Vyzhletsov', 'Vyzhutovich', 'Yablochkin', 'Yablochkov', 'Yablokov', 'Yablonovsky', 'Yablonowsky', 'Yablonsky', 'Yablontsev', 'Yablontzev', 'Yablovsky', 'Yabrov', 'Yaburov', 'Yachevsky', 'Yachikov', 'Yachmenev', 'Yachmenkov', 'Yachmentsev', 'Yachnik', 'Yadne', 'Yadov', 'Yadrennikov', 'Yadrihinsky', 'Yadrikhinsky', 'Yadrov', 'Yadryshnikov', 'Yafaev', 'Yafarov', 'Yafrakov', 'Yagafarov', 'Yaganov', 'Yagello', 'Yageman', 'Yagfarov', 'Yagich', 'Yaglintsev', 'Yagoda', 'Yagodin', 'Yagodinsky', 'Yagodnikov', 'Yagofarov', 'Yagovenko', 'Yagubov', 'Yagubsky', 'Yagudin', 'Yagujinsky', 'Yagunov', 'Yagupa', 'Yagupets', 'Yagutkin', 'Yagutyan', 'Yaguzhinsky', 'Yagya', 'Yahaev', 'Yahimovich', 'Yahin', 'Yahlakov', 'Yahnenko', 'Yahno', 'Yahnyuk', 'Yahontov', 'Yahot', 'Yaikbaev', 'Yaimov', 'Yaitsky', 'Yakhaev', 'Yakhimovich', 'Yakhin', 'Yakhlakov', 'Yakhnenko', 'Yakhno', 'Yakhnyuk', 'Yakhontov', 'Yakhot', 'Yakimchik', 'Yakimchuk', 'Yakimenko', 'Yakimets', 'Yakimov', 'Yakimovich', 'Yakimovsky', 'Yakimychev', 'Yakir', 'Yaklashkin', 'Yakob', 'Yakobi', 'Yakobson', 'Yakon', 'Yakov', 'Yakovchenko', 'Yakovchuk', 'Yakovenko', 'Yakovets', 'Yakovichenko', 'Yakovkin', 'Yakovlenko', 'Yakovlev', 'Yakovuk', 'Yakshibaev', 'Yakshin', 'Yakub', 'Yakuba', 'Yakubchik', 'Yakubenko', 'Yakubik', 'Yakubonis', 'Yakubov', 'Yakubovich', 'Yakubovsky', 'Yakunchikov', 'Yakunichev', 'Yakunin', 'Yakunkin', 'Yakunov', 'Yakupov', 'Yakurin', 'Yakuschenko', 'Yakush', 'Yakushev', 'Yakushevich', 'Yakushevich', 'Yakushin', 'Yakushkin', 'Yakushkov', 'Yakushov', 'Yakutin', 'Yakutkin', 'Yalamov', 'Yalchevsky', 'Yalovenko', 'Yalovets', 'Yalovoi', 'Yalunin', 'Yam', 'Yamaletdinov', 'Yamaltdinov', 'Yambaev', 'Yamburg', 'Yamilov', 'Yaminsky', 'Yamlihanov', 'Yamlikhanov', 'Yamov', 'Yampolsky', 'Yamschikov', 'Yamskov', 'Yan', 'Yanaev', 'Yanaki', 'Yanalov', 'Yanaslov', 'Yanbarisov', 'Yandarbiev', 'Yandiev', 'Yandulsky', 'Yandutkin', 'Yanek', 'Yanenko', 'Yangarber', 'Yangel', 'Yanibekov', 'Yanin', 'Yanishevsky', 'Yanishin', 'Yanitsky', 'Yanjul', 'Yankelevich', 'Yankevich', 'Yankilevsky', 'Yankilovich', 'Yankin', 'Yankis', 'Yanko', 'Yankov', 'Yankov', 'Yankovsky', 'Yanochkin', 'Yanov', 'Yanover', 'Yanovich', 'Yanovitsky', 'Yanovka', 'Yanovsky', 'Yanowich', 'Yanpolsky', 'Yanshin', 'Yanshole', 'Yanson', 'Yansons', 'Yanushevsky', 'Yanvarev', 'Yanzhul', 'Yanzinov', 'Yapaskurt', 'Yapondych', 'Yapparov', 'Yatsenko', 'Yatsevich', 'Yatskevich', 'Yatskov', 'Yatskovsky', 'Yatsuba', 'Yatsun', 'Yatsunov', 'Yatsyk', 'Yatsyshin', 'Yatzenko', 'Yatzevich', 'Yatzkevich', 'Yatzkov', 'Yatzkovsky', 'Yatzuba', 'Yatzun', 'Yatzunov', 'Yatzyk', 'Yatzyshin', 'Yepishev', 'Yudaev', 'Yudahin', 'Yudakhin', 'Yudakov', 'Yudanov', 'Yudashkin', 'Yudasin', 'Yudelevich', 'Yudenich', 'Yudenkov', 'Yudin', 'Yudinsky', 'Yuditsky', 'Yudkin', 'Yudkov', 'Yudkovich', 'Yudochkin', 'Yudolovich', 'Yudovich', 'Yudushkin', 'Yufa', 'Yuferev', 'Yuferov', 'Yufit', 'Yufryakov', 'Yugai', 'Yugin', 'Yugov', 'Yuhanaev', 'Yuhimenko', 'Yuhimuk', 'Yuhma', 'Yuhman', 'Yuhnev', 'Yuhnin', 'Yuhno', 'Yuhotsky', 'Yuhov', 'Yuhtanov', 'Yuhtman', 'Yuhvidov', 'Yujakov', 'Yujalin', 'Yujanov', 'Yujenko', 'Yujilin', 'Yukalov', 'Yukhanaev', 'Yukhimenko', 'Yukhimuk', 'Yukhma', 'Yukhman', 'Yukhnev', 'Yukhnin', 'Yukhno', 'Yukhotsky', 'Yukhov', 'Yukhtanov', 'Yukhtman', 'Yukhvidov', 'Yuschak', 'Yuschenko', 'Yushenkov', 'Yushin', 'Yushkevich', 'Yushkin', 'Yushkov', 'Yushmanov', 'Yushnevsky', 'Yuskevich', 'Yuzeev', 'Yuzefov', 'Yuzefovich', 'Yuzgin', 'Yuzhakov', 'Yuzhalin', 'Yuzhanov', 'Yuzhenko', 'Yuzhilin', 'Yuzin', 'Yuzva', 'Yuzvikov', 'Yuzvishin', 'Yuzvyuk', 'Zabrodin', 'Zabrovsky', 'Zasedatelev', 'Zasetsky', 'Zaskanov', 'Zasko', 'Zaskokin', 'Zaslavets', 'Zaslavsky', 'Zasluev', 'Zasoba', 'Zasodimsky', 'Zasosov', 'Zastavsky', 'Zastrojny', 'Zastrozhny', 'Zasuha', 'Zasuhin', 'Zasukha', 'Zasukhin', 'Zasulich', 'Zasursky', \"Zasyad'Ko\", 'Zasyadko', 'Zasypkin', 'Zavatsky', 'Zavodchikov', 'Zavodnov', 'Zavodov', 'Zavodskoi', 'Zavoisky', 'Zavolokin', 'Zavolokov', 'Zavorin', 'Zavorohin', 'Zavorokhin', 'Zavoruev', 'Zavrajnov', 'Zeifert', 'Zelenenkov', 'Zelenetsky', 'Zelenev', 'Zelenevsky', 'Zelenin', 'Zelenkevich', 'Zelenkin', 'Zelenko', 'Zelenkov', 'Zelenkov', 'Zelenoi', 'Zelenov', 'Zelenovsky', 'Zelensky', 'Zelent', 'Zelentsov', 'Zeleny', 'Zenbitsky', 'Zenchenko', 'Zenger', 'Zenilov', 'Zenin', 'Zenischev', 'Zenkevich', 'Zenkin', 'Zenkov', 'Zenkovich', 'Zenkovsky', 'Zenzinov', 'Zhaba', 'Zhabin', 'Zhabinsky', 'Zhabitsky', 'Zhaboev', 'Zhabotinsky', 'Zhabrev', 'Zhabsky', 'Zhabykin', 'Zhadaev', 'Zhadan', 'Zhadanov', 'Zhadanovsky', 'Zhadenov', 'Zhadin', 'Zhadkevich', 'Zhadovsky', 'Zhagalin', 'Zhaivoronok', 'Zhakmon', 'Zhakov', 'Zhalagin', 'Zhalilo', 'Zhalkovsky', 'Zhalnin', 'Zhalybin', 'Zhamoida', 'Zhamoido', 'Zhamsuev', 'Zhandarov', 'Zhandr', 'Zhanimov', 'Zhardetsky', 'Zharihin', 'Zharikhin', 'Zharikov', 'Zharinov', 'Zharkih', 'Zharkikh', 'Zharkov', 'Zharkovsky', 'Zharmuhamedov', 'Zharmukhamedov', 'Zharnikov', 'Zharnov', 'Zharov', 'Zharovtsev', 'Zharsky', 'Zharuev', 'Zhashkov', 'Zhatkov', 'Zhavoronkov', 'Zhavoronok', 'Zhavoronsky', 'Zhavrid', 'Zhbankov', 'Zhbanov', 'Zhdakaev', 'Zhdan', 'Zhdankin', 'Zhdanko', 'Zhdankov', 'Zhdanov', 'Zhdanovich', 'Zhdanovsky', 'Zhebelev', 'Zhebit', 'Zhebo', 'Zhebrovsky', 'Zhebryakov', 'Zhechkov', 'Zhedrinsky', 'Zhegin', 'Zheglov', 'Zhegulin', 'Zhegunov', 'Zheimo', 'Zhekov', 'Zhekulin', 'Zhelaev', 'Zheldakov', 'Zhelehovsky', 'Zhelekhovsky', 'Zhelezko', 'Zheleznikov', 'Zheleznov', 'Zhelezny', 'Zheleznyak', 'Zheleznyakov', 'Zhelezov', 'Zhelezovsky', 'Zheleztsov', 'Zheliba', 'Zhelnin', 'Zhelnov', 'Zhelobinsky', 'Zhelohovtsev', 'Zhelokhovtsev', 'Zheltouhov', 'Zheltoukhov', 'Zheltov', 'Zheltuhin', 'Zheltukhin', 'Zheltyannikov', 'Zheludev', 'Zheludkov', 'Zhelvakov', 'Zhelyabov', 'Zhelyabovsky', 'Zhelyabuzhsky', 'Zhemaitis', 'Zhemaldinov', 'Zhemchugov', 'Zhemchujnikov', 'Zhemchujny', 'Zhemlihanov', 'Zhemlikhanov', 'Zhemoitel', 'Zhemuhov', 'Zhemukhov', 'Zhendarov', 'Zhenin', 'Zhenovach', 'Zheravin', 'Zherbin', 'Zherdev', 'Zherebin', 'Zherebko', 'Zherebovich', 'Zherebtsov', 'Zherebyatiev', 'Zherihin', 'Zherikhin', 'Zhernakov', 'Zhernevsky', 'Zhernokleev', 'Zhernosek', 'Zhernov', 'Zhernovoy', 'Zheromsky', 'Zheronkin', 'Zheryapin', 'Zherzdev', 'Zhestkov', 'Zhestovsky', 'Zheurov', 'Zhevahov', 'Zhevaikin', 'Zhevakhov', 'Zhevanov', 'Zheverzheev', 'Zhevlakov', 'Zhevolozhnov', 'Zhezhel', 'Zhezhera', 'Zhgutov', 'Zhiboedov', 'Zhidelev', 'Zhidenko', 'Zhidilev', 'Zhidilin', 'Zhidkih', 'Zhidkikh', 'Zhidkin', 'Zhidkov', 'Zhidomirov', 'Zhigachev', 'Zhigailo', 'Zhigailov', 'Zhigalev', 'Zhigalin', 'Zhigalkin', 'Zhigalov', 'Zhiganov', 'Zhigarev', 'Zhigily', 'Zhigin', 'Zhigmytov', 'Zhigulenkov', 'Zhigulin', 'Zhigulsky', 'Zhigultsov', 'Zhigun', 'Zhigunov', 'Zhiharev', 'Zhiharevitch', 'Zhikharev', 'Zhikharevitch', 'Zhikin', 'Zhikov', 'Zhilchikov', 'Zhilenko', 'Zhilenkov', 'Zhilin', 'Zhilinsky', 'Zhilis', 'Zhilkin', 'Zhilnikov', 'Zhilov', 'Zhiltsov', 'Zhilyaev', 'Zhilyakov', 'Zhilyardy', 'Zhilyuk', 'Zhimailov', 'Zhimerin', 'Zhimila', 'Zhimirov', 'Zhimulev', 'Zhinkin', 'Zhinov', 'Zhirdetsky', 'Zhirenkin', 'Zhirikov', 'Zhiril', 'Zhirinovsky', 'Zhiritsky', 'Zhirkevich', 'Zhirkov', 'Zhirmunsky', 'Zhirnikov', 'Zhirnov', 'Zhirnyakov', 'Zhiro', 'Zhirov', 'Zhiryakov', 'Zhitarev', 'Zhitenev', 'Zhitetsky', 'Zhitin', 'Zhitinev', 'Zhitinkin', 'Zhitkov', 'Zhitluhin', 'Zhitlukhin', 'Zhitnik', 'Zhitnikov', 'Zhitny', 'Zhitomirsky', 'Zhituhin', 'Zhitukhin', 'Zhivaev', 'Zhivago', 'Zhivilo', 'Zhivin', 'Zhivkovich', 'Zhivlyuk', 'Zhivoderov', 'Zhivokini', 'Zhivoluk', 'Zhivopistsev', 'Zhivotenko', 'Zhivotinsky', 'Zhivotovsky', 'Zhivov', 'Zhivulin', 'Zhizdik', 'Zhizha', 'Zhizhchenko', 'Zhizhemsky', 'Zhizhikin', 'Zhizhilev', 'Zhizhin', 'Zhizhnov', 'Zhiznevsky', 'Zhiznyakov', 'Zhloba', 'Zhluktov', 'Zhmaev', 'Zhmakin', 'Zhmakov', 'Zhmelkov', 'Zhminko', 'Zhmotov', 'Zhmudsky', 'Zhmulev', 'Zhmuro', 'Zhogin', 'Zhogov', 'Zhohin', 'Zhohov', 'Zhokhin', 'Zhokhov', 'Zhokin', 'Zholkov', 'Zholobov', 'Zholovan', 'Zholtovsky', 'Zholudev', 'Zhongolovich', 'Zhorin', 'Zhornyak', 'Zhorov', 'Zhorzhev', 'Zhovnerik', 'Zhovnir', 'Zhovtun', 'Zhovtyak', 'Zhuchenko', 'Zhuchkov', 'Zhuikov', 'Zhuk', 'Zhukov', 'Zhukovets', 'Zhukovich', 'Zhukovin', 'Zhukovsky', 'Zhulebin', 'Zhulev', 'Zhulidov', 'Zhulyabin', 'Zhumenko', 'Zhun', 'Zhunda', 'Zhunin', 'Zhunusov', 'Zhupanenko', 'Zhupikov', 'Zhura', 'Zhurakovsky', 'Zhuravel', 'Zhuravkov', 'Zhuravlenko', 'Zhuravlev', 'Zhuravliov', 'Zhuravov', 'Zhuravsky', 'Zhurba', 'Zhurbenko', 'Zhurbin', 'Zhurihin', 'Zhurikhin', 'Zhurin', 'Zhurkin', 'Zhurko', 'Zhurkov', 'Zhurkovsky', 'Zhurman', 'Zhuromsky', 'Zhurov', 'Zhuruli', 'Zhushman', 'Zhuzhlev', 'Zhuzhnev', 'Zhvachkin', 'Zhvanetsky', 'Zhvirblis', 'Zhvykin', 'Zihanov', 'Zimaev', 'Zimakin', 'Zimakov', 'Zimarev', 'Zimarin', 'Zimatsky', 'Zimenkov', 'Zimin', 'Zimitsky', 'Zimnitsky', 'Zimnuhov', 'Zimny', 'Zimonin', 'Zimovets', 'Zimyanin', 'Zinatullin', 'Zinchenko', 'Zinchuk', 'Zinder', 'Zinevich', 'Zingarevich', 'Zinger', 'Zingerman', 'Zingman', 'Zinich', 'Zinin', 'Zinkevich', 'Zinkovsky', 'Zinkovsky', 'Zinnatov', 'Zinnurov', 'Zinov', 'Zinoviev', 'Zinovin', 'Zinyuhin', 'Zis', 'Zitev', 'Zitserman', 'Ziyakov', 'Ziyatdinov', 'Ziyazov', 'Zobanov', 'Zobkob', 'Zobnin', 'Zobov', 'Zogalev', 'Zolin', 'Zolkin', 'Zoloev', 'Zolotai', 'Zolotar', 'Zolotarev', 'Zolotarevsky', 'Zolotarsky', 'Zolotavin', 'Zolotdinov', 'Zolotenkov', 'Zolotilin', 'Zolotkov', 'Zolotnitsky', 'Zolotnitzky', 'Zozrov', 'Zozulya', 'Zukerman'], 'Greek': ['Adamidis', 'Adamou', 'Agelakos', 'Akrivopoulos', 'Alexandropoulos', 'Anetakis', 'Angelopoulos', 'Antimisiaris', 'Antipas', 'Antonakos', 'Antoniadis', 'Antonopoulos', 'Antonopoulos', 'Antonopoulos', 'Arvanitoyannis', 'Avgerinos', 'Banos', 'Batsakis', 'Bekyros', 'Belesis', 'Bertsimas', 'Bilias', 'Blades', 'Bouloukos', 'Brisimitzakis', 'Bursinos', 'Calogerakis', 'Calpis', 'Chellos', 'Christakos', 'Christodoulou', 'Christou', 'Chrysanthopoulos', 'Chrysanthopoulos', 'Comino', 'Close', 'Close', 'Close', 'Close', 'Close', 'Close', 'Close', 'Close', 'Dalianis', 'Danas', 'Dasios', 'Demakis', 'Demarchis', 'Demas', 'Demetrious', 'Dertilis', 'Diakogeorgiou', 'Dioletis', 'Dounias', 'Dritsas', 'Drivakis', 'Eatros', 'Egonidis', 'Eliopoulos', 'Forakis', 'Fotopoulos', 'Fourakis', 'Frangopoulos', 'Galanopoulos', 'Garofalis', 'Gavril', 'Gavrilopoulos', 'Georgeakopoulos', 'Geracimos', 'Gianakopulos', 'Giannakopoulos', 'Giannakos', 'Glynatsis', 'Gomatos', 'Grammatakakis', 'Gravari', 'Hadjiyianakies', 'Hagias', 'Haritopoulos', 'Honjas', 'Horiatis', 'Houlis', 'Jamussa', 'Kaglantge', 'Kalakos', 'Kalogeria', 'Kaloxylos', 'Kanavos', 'Kapsimalles', 'Karahalios', 'Karameros', 'Karkampasis', 'Karnoupakis', 'Katsourinis', 'Kefalas', 'Kokkali', 'Kokoris', 'Kolovos', 'Konstantatos', 'Kosmas', 'Kotsilimbas', 'Kotsiopoulos', 'Kouches', 'Koulaxizis', 'Koumanidis', 'Kourempes', 'Kouretas', 'Kouropoulos', 'Kouros', 'Koustoubos', 'Koutsoubos', 'Kreskas', 'Kringos', 'Kyritsis', 'Laganas', 'Leontarakis', 'Letsos', 'Liatos', 'Lillis', 'Lolos', 'Louverdis', 'Makricosta', 'Malihoudis', 'Maneates', 'Manos', 'Manoukarakis', 'Matsoukis', 'Mentis', 'Mersinias', 'Metrofanis', 'Michalaras', 'Milionis', 'Missiakos', 'Moraitopoulos', 'Nikolaou', 'Nomikos', 'Paitakes', 'Paloumbas', 'Panayiotopoulos', 'Panoulias', 'Pantelakos', 'Pantelas', 'Papadelias', 'Papadopulos', 'Papageorge', 'Papoutsis', 'Pappayiorgas', 'Paraskevopoulos', 'Paraskos', 'Paschalis', 'Patrianakos', 'Patselas', 'Pefanis', 'Petimezas', 'Petrakis', 'Pezos', 'Phocas', 'Pispinis', 'Polites', 'Polymenakou', 'Poniros', 'Protopsaltis', 'Rallis', 'Rigatos', 'Rorris', 'Rousses', 'Ruvelas', 'Sakelaris', 'Sakellariou', 'Samios', 'Sardelis', 'Sfakianos', 'Sklavenitis', 'Sortras', 'Sotiris', 'Spyridis', 'Stamatas', 'Stamatelos', 'Stavropoulos', 'Strilakos', 'Stroggylis', 'Tableriou', 'Taflambas', 'Tassioglou', 'Telis', 'Tsoumada', 'Theofilopoulos', 'Theohari', 'Totolos', 'Tourna', 'Tsahalis', 'Tsangaris', 'Tselios', 'Tsogas', 'Vamvakidis', 'Varvitsiotes', 'Vassilikos', 'Vassilopulos', 'Vlahos', 'Vourlis', 'Xydis', 'Zaloumi', 'Zouvelekis'], 'English': ['Abbas', 'Abbey', 'Abbott', 'Abdi', 'Abel', 'Abraham', 'Abrahams', 'Abrams', 'Ackary', 'Ackroyd', 'Acton', 'Adair', 'Adam', 'Adams', 'Adamson', 'Adanet', 'Addams', 'Adderley', 'Addinall', 'Addis', 'Addison', 'Addley', 'Aderson', 'Adey', 'Adkins', 'Adlam', 'Adler', 'Adrol', 'Adsett', 'Agar', 'Ahern', 'Aherne', 'Ahmad', 'Ahmed', 'Aikman', 'Ainley', 'Ainsworth', 'Aird', 'Airey', 'Aitchison', 'Aitken', 'Akhtar', 'Akram', 'Alam', 'Alanson', 'Alber', 'Albert', 'Albrighton', 'Albutt', 'Alcock', 'Alden', 'Alder', 'Aldersley', 'Alderson', 'Aldred', 'Aldren', 'Aldridge', 'Aldworth', 'Alesbury', 'Alexandar', 'Alexander', 'Alexnader', 'Alford', 'Algar', 'Ali', 'Alker', 'Alladee', 'Allam', 'Allan', 'Allard', 'Allaway', 'Allcock', 'Allcott', 'Alldridge', 'Alldritt', 'Allen', 'Allgood', 'Allington', 'Alliott', 'Allison', 'Allkins', 'Allman', 'Allport', 'Allsop', 'Allum', 'Allwood', 'Almond', 'Alpin', 'Alsop', 'Altham', 'Althoff', 'Alves', 'Alvey', 'Alway', 'Ambrose', 'Amesbury', 'Amin', 'Amner', 'Amod', 'Amor', 'Amos', 'Anakin', 'Anderson', 'Andersson', 'Anderton', 'Andrew', 'Andrews', 'Angus', 'Anker', 'Anley', 'Annan', 'Anscombe', 'Ansell', 'Anstee', 'Anthony', 'Antic', 'Anton', 'Antony', 'Antram', 'Anwar', 'Appleby', 'Appleton', 'Appleyard', 'Apsley', 'Arah', 'Archer', 'Ardern', 'Arkins', 'Armer', 'Armitage', 'Armour', 'Armsden', 'Armstrong', 'Arnall', 'Arnett', 'Arnold', 'Arnott', 'Arrowsmith', 'Arscott', 'Arthur', 'Artliff', 'Ashbridge', 'Ashbrook', 'Ashby', 'Ashcroft', 'Ashdown', 'Ashe', 'Asher', 'Ashford', 'Ashley', 'Ashman', 'Ashton', 'Ashurst', 'Ashwell', 'Ashworth', 'Askew', 'Aslam', 'Asom', 'Aspey', 'Aspin', 'Aspinall', 'Astbury', 'Astle', 'Astley', 'Aston', 'Atherley', 'Atherstone', 'Atherton', 'Atkin', 'Atkins', 'Atkinson', 'Attard', 'Atter', 'Atterbury', 'Atterton', 'Attewell', 'Attrill', 'Attwood', 'Auberton', 'Auborn', 'Aubrey', 'Austen', 'Austin', 'Auton', 'Avenue', 'Avery', 'Aves', 'Avis', 'Awad', 'Axon', 'Aylett', 'Ayley', 'Ayliffe', 'Ayling', 'Aylott', 'Aylward', 'Ayres', 'Ayton', 'Aziz', 'Bacon', 'Bailey', 'Bain', 'Bainbridge', 'Baines', 'Bains', 'Baird', 'Baker', 'Baldwin', 'Bale', 'Ball', 'Ballantyne', 'Ballard', 'Bamford', 'Bancroft', 'Banks', 'Banner', 'Bannister', 'Barber', 'Barclay', 'Barker', 'Barlow', 'Barnard', 'Barnes', 'Barnett', 'Baron', 'Barr', 'Barrett', 'Barron', 'Barrow', 'Barry', 'Bartlett', 'Barton', 'Bass', 'Bassett', 'Batchelor', 'Bate', 'Bateman', 'Bates', 'Batt', 'Batten', 'Batty', 'Baxter', 'Bayliss', 'Beadle', 'Beal', 'Beale', 'Beamish', 'Bean', 'Bear', 'Beattie', 'Beatty', 'Beaumont', 'Beck', 'Bedford', 'Beech', 'Beer', 'Begum', 'Bell', 'Bellamy', 'Benfield', 'Benjamin', 'Bennett', 'Benson', 'Bentley', 'Berger', 'Bernard', 'Berry', 'Best', 'Bethell', 'Betts', 'Bevan', 'Beveridge', 'Bickley', 'Biddle', 'Biggs', 'Bill', 'Bing', 'Bingham', 'Binnington', 'Birch', 'Bird', 'Bishop', 'Bithell', 'Black', 'Blackburn', 'Blackman', 'Blackmore', 'Blackwell', 'Blair', 'Blake', 'Blakeley', 'Blakey', 'Blanchard', 'Bland', 'Bloggs', 'Bloom', 'Blundell', 'Blythe', 'Bob', 'Boden', 'Boland', 'Bolton', 'Bond', 'Bone', 'Bonner', 'Boon', 'Booth', 'Borland', 'Bostock', 'Boulton', 'Bourne', 'Bouvet', 'Bowden', 'Bowen', 'Bower', 'Bowers', 'Bowes', 'Bowler', 'Bowles', 'Bowman', 'Boyce', 'Boyd', 'Boyle', 'Bracey', 'Bradbury', 'Bradley', 'Bradshaw', 'Brady', 'Brain', 'Braithwaite', 'Bramley', 'Brandrick', 'Bray', 'Breen', 'Brelsford', 'Brennan', 'Brett', 'Brewer', 'Bridges', 'Briggs', 'Bright', 'Bristow', 'Britton', 'Broadbent', 'Broadhurst', 'Broadley', 'Brock', 'Brook', 'Brooke', 'Brooker', 'Brookes', 'Brookfield', 'Brooks', 'Broomfield', 'Broughton', 'Brown', 'Browne', 'Browning', 'Bruce', 'Brunet', 'Brunton', 'Bryan', 'Bryant', 'Bryson', 'Buchan', 'Buchanan', 'Buck', 'Buckingham', 'Buckley', 'Budd', 'Bugg', 'Bull', 'Bullock', 'Burch', 'Burden', 'Burdett', 'Burford', 'Burge', 'Burgess', 'Burke', 'Burland', 'Burman', 'Burn', 'Burnett', 'Burns', 'Burr', 'Burrows', 'Burt', 'Burton', 'Busby', 'Bush', 'Butcher', 'Butler', 'Butt', 'Butter', 'Butterworth', 'Button', 'Buxton', 'Byrne', 'Caddy', 'Cadman', 'Cahill', 'Cain', 'Cairns', 'Caldwell', 'Callaghan', 'Callow', 'Calveley', 'Calvert', 'Cameron', 'Campbell', 'Cann', 'Cannon', 'Caplan', 'Capper', 'Carey', 'Carling', 'Carmichael', 'Carnegie', 'Carney', 'Carpenter', 'Carr', 'Carrington', 'Carroll', 'Carruthers', 'Carson', 'Carter', 'Cartwright', 'Carty', 'Casey', 'Cashmore', 'Cassidy', 'Caton', 'Cavanagh', 'Cawley', 'Chadwick', 'Chalmers', 'Chamberlain', 'Chambers', 'Chan', 'Chance', 'Chandler', 'Chantler', 'Chaplin', 'Chapman', 'Chappell', 'Chapple', 'Charge', 'Charles', 'Charlton', 'Charnock', 'Chase', 'Chatterton', 'Chauhan', 'Cheetham', 'Chelmy', 'Cherry', 'Cheshire', 'Chester', 'Cheung', 'Chidlow', 'Child', 'Childs', 'Chilvers', 'Chisholm', 'Chong', 'Christie', 'Christy', 'Chung', 'Church', 'Churchill', 'Clamp', 'Clancy', 'Clark', 'Clarke', 'Clarkson', 'Clay', 'Clayton', 'Cleary', 'Cleaver', 'Clegg', 'Clements', 'Cliff', 'Clifford', 'Clifton', 'Close', 'Clough', 'Clowes', 'Coates', 'Coburn', 'Cochrane', 'Cockburn', 'Cockle', 'Coffey', 'Cohen', 'Cole', 'Coleman', 'Coles', 'Coll', 'Collard', 'Collett', 'Colley', 'Collier', 'Collingwood', 'Collins', 'Collinson', 'Colman', 'Compton', 'Conneely', 'Connell', 'Connelly', 'Connolly', 'Connor', 'Conrad', 'Conroy', 'Conway', 'Cook', 'Cooke', 'Cookson', 'Coomber', 'Coombes', 'Cooper', 'Cope', 'Copeland', 'Copland', 'Copley', 'Corbett', 'Corcoran', 'Core', 'Corlett', 'Cormack', 'Corner', 'Cornish', 'Cornock', 'Corr', 'Corrigan', 'Cosgrove', 'Costa', 'Costello', 'Cotter', 'Cotterill', 'Cotton', 'Cottrell', 'Couch', 'Coulson', 'Coulter', 'Court', 'Cousin', 'Cousins', 'Cove', 'Cowan', 'Coward', 'Cowell', 'Cowie', 'Cowley', 'Cox', 'Coyle', 'Crabb', 'Crabtree', 'Cracknell', 'Craig', 'Crane', 'Craven', 'Crawford', 'Crawley', 'Creasey', 'Cresswell', 'Crew', 'Cripps', 'Crisp', 'Crocker', 'Croft', 'Crofts', 'Cronin', 'Crook', 'Crosby', 'Cross', 'Crossland', 'Crossley', 'Crouch', 'Croucher', 'Crow', 'Crowe', 'Crowley', 'Crown', 'Crowther', 'Crump', 'Cullen', 'Cumming', 'Cummings', 'Cummins', 'Cunningham', 'Curley', 'Curran', 'Currie', 'Curry', 'Curtis', 'Curwood', 'Cutts', 'D arcy', 'Dacey', 'Dack', 'Dalby', 'Dale', 'Daley', 'Dallas', 'Dalton', 'Daly', 'Dalzell', 'Damon', 'Danby', 'Dandy', 'Daniel', 'Daniells', 'Daniels', 'Danks', 'Dann', 'Darby', 'Darbyshire', 'Darcy', 'Dardenne', 'Darlington', 'Darr', 'Daugherty', 'Davenport', 'Davey', 'David', 'Davidson', 'Davie', 'Davies', 'Davis', 'Davison', 'Davy', 'Dawe', 'Dawes', 'Dawkins', 'Dawson', 'Day', 'Dayman', 'De ath', 'Deacon', 'Deakin', 'Dean', 'Deane', 'Deans', 'Debenham', 'Deegan', 'Deeley', 'Deighton', 'Delamarre', 'Delaney', 'Dell', 'Dempsey', 'Dempster', 'Denby', 'Denham', 'Denis', 'Denney', 'Dennis', 'Dent', 'Denton', 'Depp', 'Dermody', 'Derrick', 'Derrien', 'Dervish', 'Desai', 'Devaney', 'Devenish', 'Deverell', 'Devine', 'Devlin', 'Devon', 'Devonport', 'Dewar', 'Dexter', 'Diamond', 'Dibble', 'Dick', 'Dickens', 'Dickenson', 'Dicker', 'Dickinson', 'Dickson', 'Dillon', 'Dimmock', 'Dingle', 'Dipper', 'Dixon', 'Dobbin', 'Dobbins', 'Doble', 'Dobson', 'Docherty', 'Docker', 'Dodd', 'Dodds', 'Dodson', 'Doherty', 'Dolan', 'Dolcy', 'Dolman', 'Dolton', 'Donald', 'Donaldson', 'Donkin', 'Donlan', 'Donn', 'Donnachie', 'Donnelly', 'Donoghue', 'Donohoe', 'Donovan', 'Dooley', 'Doolin', 'Doon', 'Doors', 'Dora', 'Doran', 'Dorman', 'Dornan', 'Dorrian', 'Dorrington', 'Dougal', 'Dougherty', 'Doughty', 'Douglas', 'Douthwaite', 'Dove', 'Dover', 'Dowell', 'Dowler', 'Dowling', 'Down', 'Downer', 'Downes', 'Downey', 'Downie', 'Downing', 'Downs', 'Downton', 'Dowson', 'Doyle', 'Drabble', 'Drain', 'Drake', 'Draper', 'Drew', 'Drewett', 'Dreyer', 'Driffield', 'Drinkwater', 'Driscoll', 'Driver', 'Drummond', 'Drury', 'Drysdale', 'Dubois', 'Duck', 'Duckworth', 'Ducon', 'Dudley', 'Duff', 'Duffield', 'Duffin', 'Duffy', 'Dufour', 'Duggan', 'Duke', 'Dukes', 'Dumont', 'Duncan', 'Dundon', 'Dunford', 'Dunkley', 'Dunlop', 'Dunmore', 'Dunn', 'Dunne', 'Dunnett', 'Dunning', 'Dunsford', 'Dupont', 'Durand', 'Durant', 'Durber', 'Durham', 'Durrant', 'Dutt', 'Duval', 'Duvall', 'Dwyer', 'Dyde', 'Dyer', 'Dyerson', 'Dykes', 'Dymond', 'Dymott', 'Dyson', 'Eade', 'Eadie', 'Eagle', 'Eales', 'Ealham', 'Ealy', 'Eames', 'Eansworth', 'Earing', 'Earl', 'Earle', 'Earley', 'Easdale', 'Easdown', 'Easen', 'Eason', 'East', 'Eastaugh', 'Eastaway', 'Eastell', 'Easterbrook', 'Eastham', 'Easton', 'Eastwood', 'Eatherington', 'Eaton', 'Eaves', 'Ebbs', 'Ebden', 'Ebdon', 'Ebeling', 'Eburne', 'Eccles', 'Eccleston', 'Ecclestone', 'Eccott', 'Eckersall', 'Eckersley', 'Eddison', 'Eddleston', 'Eddy', 'Eden', 'Edeson', 'Edgar', 'Edge', 'Edgell', 'Edgerton', 'Edgley', 'Edgson', 'Edkins', 'Edler', 'Edley', 'Edlington', 'Edmond', 'Edmonds', 'Edmondson', 'Edmunds', 'Edmundson', 'Edney', 'Edon', 'Edwards', 'Edwick', 'Eedie', 'Egan', 'Egerton', 'Eggby', 'Eggison', 'Eggleston', 'Eglan', 'Egleton', 'Eglin', 'Eilers', 'Ekin', 'Elbutt', 'Elcock', 'Elder', 'Eldeston', 'Eldridge', 'Eley', 'Elfman', 'Elford', 'Elkin', 'Elkington', 'Ellam', 'Ellans', 'Ellard', 'Elleray', 'Ellerby', 'Ellershaw', 'Ellery', 'Elliman', 'Elling', 'Ellingham', 'Elliot', 'Elliott', 'Ellis', 'Ellison', 'Elliston', 'Ellrott', 'Ellwood', 'Elmer', 'Elmes', 'Elmhirst', 'Elmore', 'Elms', 'Elphick', 'Elsdon', 'Elsmore', 'Elson', 'Elston', 'Elstone', 'Eltis', 'Elven', 'Elvin', 'Elvins', 'Elwell', 'Elwood', 'Elworthy', 'Elzer', 'Emberey', 'Emberson', 'Embleton', 'Emerick', 'Emerson', 'Emery', 'Emmanuel', 'Emmerson', 'Emmery', 'Emmett', 'Emmings', 'Emmins', 'Emmons', 'Emmott', 'Emms', 'Emsden', 'Endroe', 'England', 'English', 'Ennis', 'Ennos', 'Enright', 'Enticott', 'Entwistle', 'Epsom', 'Epton', 'Ernest', 'Erridge', 'Errington', 'Errity', 'Esan', 'Escott', 'Eskins', 'Eslick', 'Espley', 'Essam', 'Essan', 'Essop', 'Estlick', 'Etchells', 'Etheridge', 'Etherington', 'Etherton', 'Ettrick', 'Evans', 'Evason', 'Evenden', 'Everdell', 'Everett', 'Everill', 'Everitt', 'Everson', 'Everton', 'Eveson', 'Evison', 'Evrard', 'Ewart', 'Ewin', 'Ewing', 'Ewles', 'Exley', 'Exon', 'Exton', 'Eyett', 'Eyles', 'Eyre', 'Eyres', 'Fabb', 'Fagan', 'Fagon', 'Fahy', 'Fairbairn', 'Fairbrace', 'Fairbrother', 'Fairchild', 'Fairclough', 'Fairhurst', 'Fairley', 'Fairlie', 'Fairweather', 'Falconer', 'Falk', 'Fall', 'Fallon', 'Fallows', 'Falsh', 'Farge', 'Fargher', 'Farhall', 'Farley', 'Farmer', 'Farnsworth', 'Farnum', 'Farnworth', 'Farr', 'Farrant', 'Farrar', 'Farre', 'Farrell', 'Farrelly', 'Farren', 'Farrer', 'Farrier', 'Farrington', 'Farrow', 'Faulkner', 'Faust', 'Fawcett', 'Fawn', 'Faye', 'Fearn', 'Fearnley', 'Fearns', 'Fearon', 'Featherstone', 'Feeney', 'Feetham', 'Felix', 'Fell', 'Fellmen', 'Fellows', 'Feltham', 'Felton', 'Fenlon', 'Fenn', 'Fenton', 'Fenwick', 'Ferdinand', 'Fereday', 'Ferguson', 'Fern', 'Fernandez', 'Ferns', 'Fernyhough', 'Ferreira', 'Ferrier', 'Ferris', 'Ferry', 'Fewtrell', 'Field', 'Fielder', 'Fielding', 'Fields', 'Fifield', 'Finan', 'Finbow', 'Finch', 'Findlay', 'Findley', 'Finlay', 'Finn', 'Finnegan', 'Finney', 'Finnigan', 'Finnimore', 'Firth', 'Fischer', 'Fish', 'Fisher', 'Fishlock', 'Fisk', 'Fitch', 'Fitchett', 'Fitton', 'Fitzgerald', 'Fitzpatrick', 'Fitzsimmons', 'Flack', 'Flaherty', 'Flanagan', 'Flanders', 'Flannery', 'Flavell', 'Flaxman', 'Fleetwood', 'Fleming', 'Fletcher', 'Flett', 'Florey', 'Floss', 'Flower', 'Flowers', 'Floyd', 'Flynn', 'Foden', 'Fogg', 'Foley', 'Fontaine', 'Foran', 'Forbes', 'Ford', 'Forde', 'Fordham', 'Foreman', 'Forester', 'Forman', 'Forrest', 'Forrester', 'Forshaw', 'Forster', 'Forsyth', 'Forsythe', 'Forth', 'Fortin', 'Foss', 'Fossard', 'Fosse', 'Foster', 'Foston', 'Fothergill', 'Fotheringham', 'Foucher', 'Foulkes', 'Fountain', 'Fowler', 'Fowley', 'Fox', 'Foxall', 'Foxley', 'Frame', 'Frampton', 'France', 'Francis', 'Franco', 'Frankish', 'Frankland', 'Franklin', 'Franks', 'Frary', 'Fraser', 'Frazer', 'Frederick', 'Frederikson', 'Freeburn', 'Freedman', 'Freeman', 'Freestone', 'Freeth', 'Freight', 'French', 'Fretwell', 'Frey', 'Fricker', 'Friel', 'Friend', 'Frith', 'Froggatt', 'Froggett', 'Frost', 'Frostick', 'Froy', 'Frusher', 'Fryer', 'Fulker', 'Fuller', 'Fulleron', 'Fullerton', 'Fulton', 'Funnell', 'Furey', 'Furlong', 'Furnell', 'Furness', 'Furnish', 'Furniss', 'Furse', 'Fyall', 'Gadsden', 'Gaffney', 'Galbraith', 'Gale', 'Gales', 'Gall', 'Gallacher', 'Gallagher', 'Galliford', 'Gallo', 'Galloway', 'Galvin', 'Gamble', 'Gammer', 'Gammon', 'Gander', 'Gandham', 'Ganivet', 'Garber', 'Garbett', 'Garbutt', 'Garcia', 'Gardener', 'Gardiner', 'Gardner', 'Garland', 'Garner', 'Garrard', 'Garratt', 'Garrett', 'Garside', 'Garvey', 'Gascoyne', 'Gaskell', 'Gately', 'Gates', 'Gaudin', 'Gaumont', 'Gauntlett', 'Gavin', 'Gaynor', 'Geaney', 'Geary', 'Geeson', 'Geldard', 'Geldart', 'Gell', 'Gemmell', 'Gene', 'George', 'Gerard', 'Gerrard', 'Geyer', 'Gibb', 'Gibbins', 'Gibbon', 'Gibbons', 'Gibbs', 'Giblin', 'Gibson', 'Gifford', 'Gilbert', 'Gilbey', 'Gilchrist', 'Gilder', 'Giles', 'Gilfillan', 'Gilks', 'Gill', 'Gillam', 'Gillan', 'Gillard', 'Gillen', 'Gillespie', 'Gillett', 'Gillies', 'Gilmartin', 'Gilmore', 'Gilmour', 'Ginty', 'Girdwood', 'Girling', 'Given', 'Gladwell', 'Glaister', 'Glasby', 'Glasgow', 'Glass', 'Gleave', 'Gledhill', 'Gleeson', 'Glen', 'Glencross', 'Glenn', 'Glennie', 'Glennon', 'Glew', 'Glossop', 'Glover', 'Glynn', 'Goble', 'Godby', 'Goddard', 'Godden', 'Godfrey', 'Godwin', 'Goff', 'Gold', 'Goldberg', 'Golding', 'Goldman', 'Goldsmith', 'Goldsworthy', 'Gomez', 'Gonzalez', 'Gooch', 'Good', 'Goodacre', 'Goodall', 'Goodchild', 'Goode', 'Gooding', 'Goodman', 'Goodridge', 'Goodson', 'Goodwin', 'Goodyear', 'Gordon', 'Goring', 'Gorman', 'Gosden', 'Gosling', 'Gough', 'Gould', 'Goulden', 'Goulding', 'Gourlay', 'Govender', 'Govier', 'Gower', 'Gowing', 'Grady', 'Graham', 'Grainger', 'Grange', 'Granger', 'Grant', 'Graves', 'Gray', 'Grayson', 'Greaves', 'Green', 'Greenall', 'Greenaway', 'Greene', 'Greener', 'Greenhill', 'Greening', 'Greenleaf', 'Greenshields', 'Greenslade', 'Greensmith', 'Greenway', 'Greenwood', 'Greer', 'Gregory', 'Greig', 'Grenard', 'Grennan', 'Gresham', 'Grey', 'Grierson', 'Griff', 'Griffin', 'Griffith', 'Griffiths', 'Griggs', 'Grimes', 'Grimshaw', 'Grinham', 'Grivet', 'Grogan', 'Groom', 'Grose', 'Grosvenor', 'Grout', 'Groves', 'Grundy', 'Guest', 'Guilmard', 'Guinard', 'Gulley', 'Gunby', 'Gunn', 'Gunning', 'Gunston', 'Gunter', 'Guthrie', 'Gutteridge', 'Guttridge', 'Hackett', 'Hadden', 'Haddock', 'Hadfield', 'Hagan', 'Haggett', 'Haigh', 'Haine', 'Haines', 'Hale', 'Halford', 'Hall', 'Hallam', 'Hallett', 'Halliday', 'Halliwell', 'Halstead', 'Hamer', 'Hamill', 'Hamilton', 'Hammond', 'Hamnett', 'Hampson', 'Hampton', 'Hancock', 'Hand', 'Handley', 'Hanlon', 'Hannam', 'Hansen', 'Hanson', 'Harden', 'Harding', 'Hardwick', 'Hardy', 'Hargreaves', 'Harker', 'Harkness', 'Harley', 'Harlow', 'Harman', 'Harness', 'Harper', 'Harries', 'Harrington', 'Harris', 'Harrison', 'Harrop', 'Harry', 'Hart', 'Hartley', 'Harvey', 'Harwood', 'Haslam', 'Hassan', 'Hassani', 'Hastings', 'Hatch', 'Hatton', 'Hawes', 'Hawker', 'Hawkes', 'Hawkins', 'Hawkridge', 'Hawley', 'Haworth', 'Hawtin', 'Hayes', 'Haynes', 'Hayward', 'Head', 'Healey', 'Healy', 'Heath', 'Heathcote', 'Heather', 'Heatley', 'Heaton', 'Hedley', 'Hegney', 'Helley', 'Hellier', 'Helm', 'Hemingway', 'Hemmings', 'Henderson', 'Hendry', 'Heneghan', 'Hennessy', 'Henry', 'Hepburn', 'Hepples', 'Herbert', 'Heritage', 'Heron', 'Herron', 'Hetherington', 'Hewitt', 'Hewlett', 'Heywood', 'Hibbert', 'Hickey', 'Hickman', 'Hicks', 'Higgins', 'Higginson', 'Higgs', 'Hill', 'Hills', 'Hilton', 'Hind', 'Hinde', 'Hindle', 'Hindley', 'Hinds', 'Hine', 'Hinton', 'Hirst', 'Hiscocks', 'Hitchcock', 'Hoare', 'Hobbs', 'Hobson', 'Hocking', 'Hodder', 'Hodge', 'Hodges', 'Hodgkins', 'Hodgkinson', 'Hodgson', 'Hodkinson', 'Hodson', 'Hogan', 'Hogg', 'Holden', 'Holder', 'Holding', 'Holdsworth', 'Hole', 'Holgate', 'Holl', 'Holland', 'Hollis', 'Holloway', 'Holman', 'Holmes', 'Holt', 'Homer', 'Hood', 'Hook', 'Hooper', 'Hooton', 'Hope', 'Hopes', 'Hopkins', 'Hopkinson', 'Hopwood', 'Horn', 'Horne', 'Horner', 'Horrocks', 'Horton', 'Hough', 'Houghton', 'Hoult', 'Houlton', 'Houston', 'Howard', 'Howarth', 'Howden', 'Howe', 'Howell', 'Howells', 'Howes', 'Howie', 'Hoyle', 'Hubbard', 'Hudson', 'Huggins', 'Hughes', 'Hull', 'Hulme', 'Hume', 'Humphrey', 'Humphreys', 'Humphries', 'Hunt', 'Hunter', 'Hurley', 'Hurrell', 'Hurst', 'Hussain', 'Hussein', 'Hussey', 'Hutchings', 'Hutchins', 'Hutchinson', 'Hutchison', 'Hutton', 'Hyde', 'Ianson', 'Ibbotson', 'Ibbs', 'Ibrahim', 'Iddon', 'Iggleden', 'Iles', 'Ilett', 'Illing', 'Illingworth', 'Ilsley', 'Impey', 'Imran', 'Ingermann', 'Ingham', 'Ingle', 'Ingleby', 'Ingledew', 'Inglefield', 'Ingles', 'Inglethorpe', 'Ingram', 'Inker', 'Inman', 'Innalls', 'Innes', 'Inson', 'Ireland', 'Ireson', 'Ironman', 'Ironmonger', 'Irvin', 'Irvine', 'Irving', 'Irwin', 'Isaac', 'Isaacs', 'Isbill', 'Isbitt', 'Isgate', 'Isherwod', 'Isherwood', 'Islam', 'Isman', 'Isnard', 'Issac', 'Ivory', 'Izzard', 'Jackman', 'Jacks', 'Jackson', 'Jacob', 'Jacobs', 'Jacobson', 'Jacques', 'Jaffray', 'Jagger', 'Jakeman', 'James', 'Jameson', 'Jamieson', 'Janes', 'Jansen', 'Jardine', 'Jarman', 'Jarram', 'Jarratt', 'Jarrett', 'Jarrold', 'Jarvis', 'Jasper', 'Jebson', 'Jeffcock', 'Jefferies', 'Jeffers', 'Jefferson', 'Jeffery', 'Jefford', 'Jeffrey', 'Jeffreys', 'Jeffries', 'Jeffs', 'Jems', 'Jenas', 'Jenkin', 'Jenkins', 'Jenkinson', 'Jenks', 'Jenkyns', 'Jenner', 'Jennings', 'Jennison', 'Jennson', 'Jensen', 'Jepson', 'Jermy', 'Jerome', 'Jerry', 'Jervis', 'Jesson', 'Jessop', 'Jevons', 'Jewell', 'Jewers', 'Jewett', 'Jewitt', 'Jewkes', 'Jewson', 'Jiggens', 'Jobson', 'Johannson', 'Johansen', 'Johanson', 'John', 'Johns', 'Johnson', 'Johnston', 'Johnstone', 'Jolley', 'Jolly', 'Jonas', 'Jones', 'Jonhson', 'Jopson', 'Jordan', 'Jordison', 'Jordon', 'Joseph', 'Joss', 'Jourdan', 'Jowett', 'Jowitt', 'Joyce', 'Joynson', 'Jubb', 'Judd', 'Judge', 'Jukes', 'Jupp', 'Jury', 'Kacy', 'Kaddour', 'Kamara', 'Kampfner', 'Kane', 'Kanes', 'Kapoor', 'Karim', 'Karne', 'Karras', 'Kassell', 'Kaufman', 'Kaul', 'Kaur', 'Kavanagh', 'Kay', 'Kaye', 'Kayes', 'Keable', 'Keal', 'Kealey', 'Keane', 'Kearney', 'Kearns', 'Kearsley', 'Kearton', 'Keating', 'Keaveney', 'Keay', 'Keeble', 'Keefe', 'Keegan', 'Keelan', 'Keeler', 'Keeley', 'Keeling', 'Keenan', 'Keene', 'Keetley', 'Keffler', 'Kehoe', 'Keighley', 'Keight', 'Keilty', 'Keir', 'Keith', 'Kelk', 'Kell', 'Kelland', 'Kellems', 'Kellie', 'Kelliher', 'Kelly', 'Kelsall', 'Kelsey', 'Kelso', 'Kemp', 'Kempson', 'Kempster', 'Kendall', 'Kendell', 'Kendrick', 'Kenley', 'Kennard', 'Kennedy', 'Kenneford', 'Kennell', 'Kenneth', 'Kennett', 'Kenney', 'Kenning', 'Kenny', 'Kenrick', 'Kensington', 'Kent', 'Kentwood', 'Kenward', 'Kenworthy', 'Kenyon', 'Keogh', 'Kerby', 'Kernick', 'Kerr', 'Kerrell', 'Kerridge', 'Kerrigan', 'Kerrighen', 'Kerrison', 'Kershaw', 'Ketley', 'Kett', 'Kettell', 'Ketteringham', 'Kettlewell', 'Keward', 'Kewley', 'Keys', 'Keyte', 'Keywood', 'Khalid', 'Khalifa', 'Khalil', 'Khan', 'Kibblewhite', 'Kidd', 'Kiddle', 'Kidman', 'Kidner', 'Kiely', 'Kiernan', 'Kilb', 'Kilbee', 'Kilbey', 'Kilbride', 'Kilburn', 'Kilford', 'Kill', 'Killeen', 'Killen', 'Killick', 'Killock', 'Kilminster', 'Kilmurry', 'Kilnan', 'Kilner', 'Kilroy', 'Kilshaw', 'Kimber', 'Kimble', 'Kinch', 'Kinchin', 'Kinder', 'King', 'Kingdon', 'Kinghorn', 'Kingman', 'Kings', 'Kingscott', 'Kingsley', 'Kingston', 'Kinnaird', 'Kinnear', 'Kinnersley', 'Kinniburgh', 'Kinnison', 'Kinrade', 'Kinsella', 'Kinsey', 'Kinsley', 'Kipling', 'Kirby', 'Kirk', 'Kirkbride', 'Kirkbright', 'Kirkby', 'Kirkland', 'Kirkman', 'Kirkpatrick', 'Kirkwood', 'Kirtley', 'Kirwan', 'Kirwin', 'Kitchen', 'Kitchin', 'Kitching', 'Kitson', 'Kitt', 'Klam', 'Klein', 'Knab', 'Knappett', 'Knibb', 'Knigge', 'Knight', 'Knightley', 'Knighton', 'Knights', 'Knott', 'Knowler', 'Knowles', 'Knox', 'Knoxville', 'Knuckles', 'Knutt', 'Koban', 'Kolt', 'Kone', 'Kore', 'Kouma', 'Kram', 'Kreyling', 'Kristensen', 'Kromberg', 'Kruger', 'Kumar', 'Kurian', 'Kurray', 'Kydd', 'Kyle', 'Kysel', 'Labbe', 'Lacey', 'Lacy', 'Laing', 'Laird', 'Lake', 'Lakey', 'Lakin', 'Lamb', 'Lambert', 'Lambton', 'Lame', 'Lamond', 'Lancaster', 'Lander', 'Lane', 'Lang', 'Langdon', 'Lange', 'Langford', 'Langley', 'Langridge', 'Langston', 'Langton', 'Lanham', 'Laraway', 'Large', 'Larkin', 'Larkings', 'Larsen', 'Larsson', 'Last', 'Latham', 'Lathan', 'Lathey', 'Lattimore', 'Laurie', 'Laver', 'Laverick', 'Lavery', 'Lawal', 'Lawler', 'Lawlor', 'Lawn', 'Lawrance', 'Lawrence', 'Lawrie', 'Laws', 'Lawson', 'Lawther', 'Lawton', 'Laycock', 'Layton', 'Le tissier', 'Leach', 'Leadley', 'Leahy', 'Leake', 'Leal', 'Leary', 'Leaver', 'Leck', 'Leckie', 'Ledger', 'Lee', 'Leech', 'Leedham', 'Leek', 'Leeming', 'Lees', 'Leese', 'Leeson', 'Legg', 'Legge', 'Leggett', 'Leigh', 'Leighton', 'Leitch', 'Leith', 'Lendon', 'Lenihan', 'Lennard', 'Lennon', 'Lennox', 'Leonard', 'Leroy', 'Leslie', 'Lester', 'Lethbridge', 'Levann', 'Levett', 'Levin', 'Levine', 'Levy', 'Lewin', 'Lewington', 'Lewins', 'Lewis', 'Lewry', 'Leyland', 'Leys', 'Leyshon', 'Liddell', 'Liddle', 'Lightfoot', 'Lilley', 'Lilly', 'Lilwall', 'Lincoln', 'Lind', 'Linden', 'Lindo', 'Lindop', 'Lindsay', 'Line', 'Lines', 'Linford', 'Ling', 'Linley', 'Linsby', 'Linton', 'Lister', 'Litchfield', 'Little', 'Littlewood', 'Livermore', 'Livingstone', 'Llewellyn', 'Lloyd', 'Loat', 'Lobb', 'Lock', 'Locke', 'Lockett', 'Lockhart', 'Lockie', 'Lockwood', 'Lockyer', 'Lodge', 'Loft', 'Lofthouse', 'Loftus', 'Logan', 'Lohan', 'Lois', 'Lomas', 'Lomax', 'London', 'Long', 'Longhurst', 'Longley', 'Longworth', 'Lonsdale', 'Lopes', 'Lopez', 'Lord', 'Loudon', 'Loughran', 'Louth', 'Lovatt', 'Love', 'Lovegrove', 'Lovell', 'Lovelock', 'Lovett', 'Lovey', 'Lowbridge', 'Lowdon', 'Lowe', 'Lowes', 'Lowis', 'Lowndes', 'Lowrie', 'Lowry', 'Lucas', 'Luce', 'Lucey', 'Luckhurst', 'Ludgrove', 'Ludkin', 'Ludlow', 'Luke', 'Luker', 'Lumb', 'Lumley', 'Lumsden', 'Lunn', 'Lunt', 'Luscombe', 'Luttrell', 'Luxton', 'Lyall', 'Lyes', 'Lyme', 'Lynas', 'Lynch', 'Lynes', 'Lynn', 'Lyon', 'Lyons', 'Mac', 'Macarthur', 'Macaulay', 'Macdonald', 'Mace', 'Macfarlane', 'Macgregor', 'Machin', 'Macintyre', 'Mack', 'Mackay', 'Mackenzie', 'Mackie', 'Maclean', 'Macleod', 'Macmillan', 'Macpherson', 'Macrae', 'Madden', 'Maddocks', 'Magee', 'Maguire', 'Maher', 'Mahoney', 'Main', 'Mair', 'Major', 'Makin', 'Malley', 'Mallinson', 'Malone', 'Maloney', 'Mangnall', 'Mann', 'Manning', 'Mansell', 'Mansfield', 'Manson', 'Markham', 'Marks', 'Marlow', 'Marr', 'Marriott', 'Marsden', 'Marsh', 'Marshall', 'Martin', 'Martinez', 'Martins', 'Mason', 'Masters', 'Mather', 'Mathers', 'Matheson', 'Mathews', 'Matthams', 'Matthews', 'Maughan', 'Mawson', 'Maxwell', 'May', 'Maynard', 'Mcarthur', 'Mcauley', 'Mcavoy', 'Mcbain', 'Mccabe', 'Mccaffrey', 'Mccall', 'Mccallum', 'Mccann', 'Mccarthy', 'Mccartney', 'Mccluskey', 'Mcclymont', 'Mcconnell', 'Mccormack', 'Mccormick', 'Mccourt', 'Mcculloch', 'Mccullough', 'Mcdermott', 'Mcdonagh', 'Mcdonald', 'Mcdonnell', 'Mcdougall', 'Mcelroy', 'Mcewan', 'Mcfadden', 'Mcfarlane', 'Mcgee', 'Mcghee', 'Mcgill', 'Mcginty', 'Mcgowan', 'Mcgrady', 'Mcgrath', 'Mcgregor', 'Mcgrory', 'Mcguinness', 'Mcguire', 'Mcintosh', 'Mcintyre', 'Mckay', 'Mckee', 'Mckenna', 'Mckenzie', 'Mckeown', 'Mckie', 'Mclaren', 'Mclaughlin', 'Mclean', 'Mclellan', 'Mcleod', 'Mcloughlin', 'Mcmahon', 'Mcmanus', 'Mcmillan', 'Mcnally', 'Mcnamara', 'Mcnaught', 'Mcneil', 'Mcneill', 'Mcnulty', 'Mcphail', 'Mcphee', 'Mcpherson', 'Mcrae', 'Mcshane', 'Mctaggart', 'Meadows', 'Meakin', 'Mears', 'Melia', 'Mellor', 'Meredith', 'Merritt', 'Metcalf', 'Metcalfe', 'Michael', 'Michel', 'Middleton', 'Miles', 'Milford', 'Mill', 'Millar', 'Millard', 'Miller', 'Millett', 'Milligan', 'Millington', 'Mills', 'Millward', 'Milne', 'Milner', 'Milward', 'Mistry', 'Mitchell', 'Moffat', 'Mohamed', 'Mohammed', 'Molloy', 'Molyneux', 'Monaghan', 'Montague', 'Montgomery', 'Moody', 'Moon', 'Mooney', 'Moore', 'Moorhouse', 'Moran', 'More', 'Moreno', 'Moreton', 'Morgan', 'Moriarty', 'Morley', 'Moroney', 'Morris', 'Morrison', 'Morrow', 'Mortimer', 'Morton', 'Moseley', 'Moss', 'Mottram', 'Mould', 'Muir', 'Mullen', 'Mulligan', 'Mullins', 'Mundy', 'Munro', 'Murphy', 'Murray', 'Murrell', 'Mustafa', 'Myatt', 'Myers', 'Nair', 'Nairn', 'Nandi', 'Nanson', 'Nanton', 'Napier', 'Napper', 'Nartey', 'Nash', 'Nason', 'Naughton', 'Naumann', 'Nayler', 'Naylor', 'Naysmith', 'Neal', 'Neale', 'Neary', 'Neave', 'Neaverson', 'Nedd', 'Needham', 'Neeson', 'Negros', 'Neighbour', 'Neill', 'Neilsen', 'Neilson', 'Neish', 'Nelmes', 'Nelms', 'Nelson', 'Nemeth', 'Nero', 'Nesbitt', 'Ness', 'Nessbert', 'Nettleton', 'Neville', 'Nevins', 'Nevis', 'Newall', 'Newberry', 'Newbold', 'Newbury', 'Newby', 'Newcombe', 'Newell', 'Newey', 'Newham', 'Newill', 'Newington', 'Newland', 'Newlands', 'Newman', 'Newsham', 'Newsome', 'Newson', 'Newstead', 'Newton', 'Neyland', 'Nichol', 'Nicholas', 'Nicholl', 'Nicholls', 'Nichols', 'Nicholson', 'Nickel', 'Nickolls', 'Nicks', 'Nicol', 'Nicolas', 'Nicoll', 'Nicolson', 'Nield', 'Nielsen', 'Nielson', 'Nightingale', 'Niles', 'Nilsen', 'Nineham', 'Nisbet', 'Nixon', 'Noach', 'Noakes', 'Nobbs', 'Noble', 'Noggins', 'Nokes', 'Nolan', 'Nood', 'Noon', 'Noonan', 'Norbert', 'Norburn', 'Norbury', 'Norcross', 'Nord', 'Norgate', 'Norgrove', 'Norm', 'Norman', 'Normington', 'Norris', 'Norsworthy', 'North', 'Northcott', 'Norton', 'Norville', 'Norwood', 'Notman', 'Nott', 'Nourse', 'Nova', 'Nowak', 'Nowell', 'Noyce', 'Noyes', 'Nugent', 'Number', 'Nunn', 'Nurse', 'Nurton', 'Nutella', 'Nutman', 'Nutt', 'Nuttall', 'Oakes', 'Oakey', 'Oakley', 'Oaks', 'Oakton', 'Oates', 'Oatridge', 'Oatway', 'Obrien', 'Ocallaghan', 'Oconnell', 'Oconnor', 'Odam', 'Oddie', 'Oddy', 'Odea', 'Odell', 'Odling', 'Odonnell', 'Odonoghue', 'Odriscoll', 'Oflynn', 'Ogden', 'Ogilvie', 'Ogilvy', 'Ogrady', 'Ohalloran', 'Ohara', 'Okeefe', 'Okey', 'Okten', 'Olan', 'Oldfield', 'Oldham', 'Olding', 'Oldland', 'Oldroyd', 'Olds', 'Oleary', 'Oliver', 'Olivier', 'Ollerhead', 'Olley', 'Oloughlin', 'Olsen', 'Olson', 'Omalley', 'Oman', 'Oneil', 'Oneill', 'Opayne', 'Openshaw', 'Oram', 'Orbell', 'Orchard', 'Oreilly', 'Oriley', 'Orman', 'Orme', 'Ormiston', 'Ormond', 'Ormsby', 'Ormston', 'Orrell', 'Orritt', 'Orton', 'Orvis', 'Orwin', 'Osborn', 'Osborne', 'Osman', 'Osmond', 'Ostcliffe', 'Ostler', 'Osullivan', 'Oswald', 'Otoole', 'Otten', 'Otter', 'Ottey', 'Ottley', 'Otton', 'Ould', 'Oulton', 'Overall', 'Overett', 'Overfield', 'Overing', 'Overson', 'Overton', 'Owen', 'Owens', 'Owings', 'Oxby', 'Oxenham', 'Oxley', 'Oxtoby', 'Pack', 'Packard', 'Packer', 'Pagan', 'Page', 'Paige', 'Pailing', 'Paine', 'Painter', 'Paisley', 'Palfrey', 'Palfreyman', 'Palin', 'Pallett', 'Palmer', 'Panesar', 'Pankhurst', 'Pannell', 'Parish', 'Park', 'Parker', 'Parkes', 'Parkin', 'Parkins', 'Parkinson', 'Parks', 'Parmar', 'Parnaby', 'Parnell', 'Parr', 'Parratt', 'Parrott', 'Parry', 'Parsons', 'Partington', 'Partlett', 'Partridge', 'Pascoe', 'Pasfield', 'Paskell', 'Passmore', 'Patchett', 'Patel', 'Pateman', 'Paterson', 'Paton', 'Patrick', 'Patten', 'Patterson', 'Pattinson', 'Pattison', 'Patton', 'Paul', 'Pavot', 'Pawson', 'Payne', 'Peace', 'Peach', 'Peacock', 'Peake', 'Peal', 'Peaper', 'Pearce', 'Pears', 'Pearson', 'Peat', 'Peck', 'Pedley', 'Peebles', 'Peel', 'Peers', 'Pegg', 'Peigne', 'Pell', 'Pelling', 'Pemberton', 'Pender', 'Pendlebury', 'Pendleton', 'Penfold', 'Penn', 'Pennell', 'Penney', 'Pennington', 'Percival', 'Pereira', 'Perez', 'Perkin', 'Perkins', 'Perks', 'Perowne', 'Perrett', 'Perrin', 'Perrins', 'Perry', 'Peters', 'Petersen', 'Peterson', 'Petrova', 'Pett', 'Petticrew', 'Peyton', 'Phelan', 'Phelps', 'Philip', 'Philips', 'Phillips', 'Philpott', 'Phipps', 'Phoenix', 'Pick', 'Pickard', 'Pickering', 'Pickersgill', 'Pickett', 'Pickford', 'Pickthall', 'Picot', 'Pierce', 'Piercey', 'Pierre', 'Pigott', 'Pike', 'Pilkington', 'Pillay', 'Pinder', 'Pine', 'Pinkney', 'Pinner', 'Pinnock', 'Pinsmail', 'Pipe', 'Piper', 'Pitcher', 'Pitchford', 'Pitt', 'Pitts', 'Plant', 'Plastow', 'Platt', 'Platts', 'Pledger', 'Plouvin', 'Plumb', 'Plummer', 'Pocock', 'Pointer', 'Pole', 'Pollard', 'Pollock', 'Polson', 'Pomeroy', 'Pomphrey', 'Pond', 'Pooke', 'Poole', 'Poon', 'Pope', 'Porter', 'Potter', 'Potts', 'Poulter', 'Poulton', 'Pounder', 'Povey', 'Powell', 'Power', 'Powers', 'Powis', 'Powles', 'Poyser', 'Pratt', 'Preece', 'Prendergast', 'Prentice', 'Prescott', 'Preston', 'Prevost', 'Price', 'Prime', 'Prince', 'Pringle', 'Prior', 'Pritchard', 'Privett', 'Probert', 'Procter', 'Proctor', 'Prosser', 'Provan', 'Pryor', 'Pugh', 'Pullen', 'Purcell', 'Purkis', 'Purnell', 'Purse', 'Purvis', 'Putt', 'Pyle', 'Quigley', 'Quinlivan', 'Quinn', 'Quinnell', 'Quinton', 'Quirk', 'Quirke', 'Rackham', 'Radcliffe', 'Radford', 'Radley', 'Raeburn', 'Rafferty', 'Rahman', 'Raine', 'Rainey', 'Rainford', 'Ralph', 'Ralston', 'Ramm', 'Rampling', 'Ramsay', 'Ramsden', 'Ramsey', 'Rand', 'Randall', 'Randle', 'Ranger', 'Rankin', 'Ranks', 'Rann', 'Ransom', 'Ranson', 'Rapson', 'Rashid', 'Ratcliffe', 'Raval', 'Raven', 'Ravenscroft', 'Rawlings', 'Rawlinson', 'Rawsthorne', 'Raymond', 'Rayner', 'Read', 'Reade', 'Reader', 'Reading', 'Readle', 'Readman', 'Reardon', 'Reasbeck', 'Reay', 'Redden', 'Redding', 'Reddy', 'Redfern', 'Redhead', 'Redin', 'Redman', 'Redmond', 'Redwood', 'Reed', 'Rees', 'Reese', 'Reeve', 'Reeves', 'Regan', 'Regent', 'Rehman', 'Reid', 'Reilly', 'Reisser', 'Render', 'Renna', 'Rennalls', 'Rennie', 'Renshaw', 'Renwick', 'Reveley', 'Reyes', 'Reygan', 'Reynolds', 'Rhoades', 'Rhodes', 'Rhys', 'Ricci', 'Rice', 'Rich', 'Richards', 'Richardson', 'Riches', 'Richman', 'Richmond', 'Richter', 'Rick', 'Rickard', 'Rickards', 'Rickett', 'Ricketts', 'Riddell', 'Riddle', 'Riddler', 'Ridge', 'Ridgway', 'Ridgwell', 'Ridle', 'Ridley', 'Rigby', 'Rigg', 'Rigley', 'Riley', 'Ring', 'Ripley', 'Rippin', 'Riseborough', 'Ritchie', 'Rivers', 'Rixon', 'Roach', 'Robb', 'Robbins', 'Robe', 'Robert', 'Roberts', 'Robertson', 'Robin', 'Robins', 'Robinson', 'Robishaw', 'Robotham', 'Robson', 'Roche', 'Rochford', 'Rockliffe', 'Rodden', 'Roden', 'Rodger', 'Rodgers', 'Rodham', 'Rodrigues', 'Rodriguez', 'Rodwell', 'Roebuck', 'Roff', 'Roffey', 'Rogan', 'Rogers', 'Rogerson', 'Roles', 'Rolfe', 'Rollinson', 'Roman', 'Romans', 'Ronald', 'Ronflard', 'Rook', 'Rooke', 'Roome', 'Rooney', 'Rootham', 'Roper', 'Ropple', 'Roscoe', 'Rose', 'Rosenblatt', 'Rosenbloom', 'Ross', 'Rosser', 'Rossi', 'Rosso', 'Roth', 'Rothery', 'Rothwell', 'Rouse', 'Roussel', 'Rousset', 'Routledge', 'Rowan', 'Rowe', 'Rowland', 'Rowlands', 'Rowley', 'Rowlinson', 'Rowson', 'Royall', 'Royle', 'Rudd', 'Ruff', 'Rugg', 'Rumbold', 'Rumsey', 'Ruscoe', 'Rush', 'Rushbrooke', 'Rushby', 'Rushton', 'Russel', 'Russell', 'Russon', 'Rust', 'Rutherford', 'Rutter', 'Ryan', 'Ryans', 'Rycroft', 'Ryder', 'Sadiq', 'Sadler', 'Said', 'Saleh', 'Salisbury', 'Sallis', 'Salmon', 'Salt', 'Salter', 'Sampson', 'Samuel', 'Samuels', 'Sanchez', 'Sanders', 'Sanderson', 'Sandison', 'Sands', 'Santos', 'Sargent', 'Saunders', 'Savage', 'Saville', 'Sawyer', 'Saxton', 'Sayers', 'Schmid', 'Schmidt', 'Schofield', 'Scott', 'Searle', 'Seddon', 'Seer', 'Selby', 'Sellars', 'Sellers', 'Senior', 'Sewell', 'Sexton', 'Seymour', 'Shackleton', 'Shah', 'Shakespeare', 'Shand', 'Shanks', 'Shannon', 'Sharkey', 'Sharma', 'Sharp', 'Sharpe', 'Sharples', 'Shaughnessy', 'Shaw', 'Shea', 'Shearer', 'Sheehan', 'Sheldon', 'Shelton', 'Shepherd', 'Sheppard', 'Sheridan', 'Sherman', 'Sherriff', 'Sherry', 'Sherwood', 'Shields', 'Shipley', 'Short', 'Shotton', 'Showell', 'Shuttleworth', 'Silcock', 'Silva', 'Simmonds', 'Simmons', 'Simms', 'Simon', 'Simons', 'Simpson', 'Sims', 'Sinclair', 'Singh', 'Singleton', 'Sinha', 'Sisson', 'Sissons', 'Skelly', 'Skelton', 'Skinner', 'Skipper', 'Slade', 'Slater', 'Slattery', 'Sloan', 'Slocombe', 'Small', 'Smallwood', 'Smart', 'Smit', 'Smith', 'Smithson', 'Smullen', 'Smyth', 'Smythe', 'Sneddon', 'Snell', 'Snelling', 'Snow', 'Snowden', 'Snowdon', 'Somerville', 'South', 'Southern', 'Southgate', 'Southwick', 'Sparkes', 'Sparrow', 'Spears', 'Speed', 'Speight', 'Spence', 'Spencer', 'Spicer', 'Spiller', 'Spinks', 'Spooner', 'Squire', 'Squires', 'Stacey', 'Stack', 'Staff', 'Stafford', 'Stainton', 'Stamp', 'Stanfield', 'Stanford', 'Stanley', 'Stannard', 'Stanton', 'Stark', 'Steadman', 'Stedman', 'Steel', 'Steele', 'Steer', 'Steere', 'Stenhouse', 'Stephen', 'Stephens', 'Stephenson', 'Sterling', 'Stevens', 'Stevenson', 'Steward', 'Stewart', 'Stock', 'Stocker', 'Stockley', 'Stoddart', 'Stokes', 'Stokoe', 'Stone', 'Stoppard', 'Storer', 'Storey', 'Storr', 'Stott', 'Stout', 'Strachan', 'Strange', 'Street', 'Stretton', 'Strickland', 'Stringer', 'Strong', 'Stroud', 'Stuart', 'Stubbs', 'Stuckey', 'Sturgess', 'Sturrock', 'Styles', 'Sugden', 'Sullivan', 'Summers', 'Sumner', 'Sunderland', 'Sutherland', 'Sutton', 'Swain', 'Swales', 'Swan', 'Swann', 'Swanson', 'Sweeney', 'Sweeting', 'Swift', 'Sykes', 'Sylvester', 'Symes', 'Symonds', 'Taggart', 'Tailor', 'Tait', 'Talbot', 'Tallett', 'Tamber', 'Tang', 'Tanner', 'Tansey', 'Tansley', 'Tappin', 'Tapping', 'Tapscott', 'Tarr', 'Tarrant', 'Tasker', 'Tate', 'Tatlock', 'Tatlow', 'Tatnell', 'Taurel', 'Tayler', 'Taylor', 'Teague', 'Teal', 'Teale', 'Teasdale', 'Tedd', 'Telford', 'Tell', 'Tellis', 'Tempest', 'Templar', 'Temple', 'Templeman', 'Templeton', 'Tennant', 'Terry', 'Thackeray', 'Thackray', 'Thake', 'Thatcher', 'Thelwell', 'Thirlwall', 'Thirlway', 'Thirlwell', 'Thistlethwaite', 'Thom', 'Thomas', 'Thomason', 'Thompson', 'Thoms', 'Thomson', 'Thonon', 'Thorley', 'Thorndyke', 'Thorne', 'Thornes', 'Thornhill', 'Thornley', 'Thornton', 'Thorp', 'Thorpe', 'Thurbon', 'Thurgood', 'Thurling', 'Thurlow', 'Thurman', 'Thurston', 'Tickner', 'Tidmarsh', 'Tierney', 'Till', 'Tillett', 'Tilley', 'Tilson', 'Tilston', 'Timberlake', 'Timmins', 'Timms', 'Timney', 'Timson', 'Tindall', 'Tindell', 'Tinker', 'Tinkler', 'Tinsley', 'Tipping', 'Tippins', 'Tips', 'Tisdall', 'Titmarsh', 'Titmus', 'Titmuss', 'Titterington', 'Toal', 'Tobin', 'Tocher', 'Todd', 'Tohill', 'Toland', 'Tolley', 'Tollis', 'Tolmay', 'Tomas', 'Tombs', 'Tomes', 'Tomkins', 'Tomlin', 'Tomlinson', 'Tompkin', 'Tompkins', 'Toms', 'Tong', 'Tonge', 'Tonks', 'Tonner', 'Toomer', 'Toomey', 'Topham', 'Topley', 'Topliss', 'Topp', 'Torney', 'Torrance', 'Torrens', 'Torres', 'Tosh', 'Totten', 'Toucet', 'Tovar', 'Tovey', 'Towell', 'Towers', 'Towle', 'Townend', 'Towns', 'Townsend', 'Townsley', 'Tozer', 'Trafford', 'Train', 'Trainor', 'Trattles', 'Travers', 'Travill', 'Travis', 'Traynor', 'Treble', 'Trennery', 'Trent', 'Treseder', 'Trevor', 'Trew', 'Trickett', 'Trigg', 'Trimble', 'Trinder', 'Trollope', 'Troon', 'Trotman', 'Trott', 'Trueman', 'Truman', 'Trump', 'Truscott', 'Tuck', 'Tucker', 'Tuckey', 'Tudor', 'Tuffnell', 'Tufnall', 'Tugwell', 'Tully', 'Tunks', 'Tunstall', 'Turford', 'Turke', 'Turkington', 'Turland', 'Turnbull', 'Turner', 'Turney', 'Turnham', 'Turnock', 'Turrell', 'Turton', 'Turvey', 'Tuthill', 'Tuttle', 'Tutton', 'Tweddle', 'Twigg', 'Twiggs', 'Twine', 'Tyler', 'Tyman', 'Tyne', 'Tyrer', 'Tyrrell', 'Uddin', 'Ullman', 'Ullmann', 'Ulyatt', 'Umney', 'Underdown', 'Underhill', 'Underwood', 'Unsworth', 'Unwin', 'Upfield', 'Upjohn', 'Upsdell', 'Upson', 'Upton', 'Urwin', 'Utley', 'Utterson', 'Uttley', 'Utton', 'Uttridge', 'Vale', 'Valentine', 'Vallance', 'Vallins', 'Vallory', 'Valmary', 'Vancoller', 'Vane', 'Vann', 'Vanstone', 'Vanwell', 'Vardy', 'Varey', 'Varley', 'Varndell', 'Vass', 'Vaughan', 'Vaughn', 'Veale', 'Veasey', 'Veevers', 'Veitch', 'Velds', 'Venables', 'Ventura', 'Verdon', 'Verell', 'Verney', 'Vernon', 'Vicary', 'Vicens', 'Vickars', 'Vickerman', 'Vickers', 'Vickery', 'Victor', 'Vikers', 'Villiger', 'Villis', 'Vince', 'Vincent', 'Vine', 'Viner', 'Vines', 'Viney', 'Vinicombe', 'Vinny', 'Vinton', 'Virgo', 'Voakes', 'Vockins', 'Vodden', 'Vollans', 'Voyse', 'Vyner', 'Wade', 'Wadham', 'Waghorn', 'Wagstaff', 'Wain', 'Wainwright', 'Waite', 'Wakefield', 'Wakeford', 'Wakeham', 'Wakelin', 'Waldron', 'Wale', 'Wales', 'Walkden', 'Walker', 'Wall', 'Wallace', 'Waller', 'Walling', 'Wallis', 'Walls', 'Walmsley', 'Walpole', 'Walsh', 'Walshe', 'Walter', 'Walters', 'Walton', 'Wane', 'Wang', 'Warburton', 'Warby', 'Ward', 'Warden', 'Wardle', 'Ware', 'Wareing', 'Waring', 'Warn', 'Warner', 'Warren', 'Warriner', 'Warrington', 'Warwick', 'Water', 'Waterfield', 'Waterhouse', 'Wateridge', 'Waterman', 'Waters', 'Waterson', 'Watkins', 'Watkinson', 'Watling', 'Watson', 'Watt', 'Watters', 'Watts', 'Waugh', 'Wears', 'Weasley', 'Weaver', 'Webb', 'Webber', 'Webster', 'Weeks', 'Weir', 'Welch', 'Weldon', 'Weller', 'Wellington', 'Wellman', 'Wells', 'Welsh', 'Welton', 'Were', 'Werner', 'Werrett', 'West', 'Western', 'Westgate', 'Westlake', 'Weston', 'Westwell', 'Westwood', 'Whalley', 'Wharton', 'Wheatcroft', 'Wheatley', 'Wheeldon', 'Wheeler', 'Whelan', 'Whitaker', 'Whitby', 'White', 'Whiteford', 'Whitehead', 'Whitehouse', 'Whitelaw', 'Whiteley', 'Whitfield', 'Whitham', 'Whiting', 'Whitley', 'Whitlock', 'Whitmore', 'Whittaker', 'Whittingham', 'Whittington', 'Whittle', 'Whittley', 'Whitworth', 'Whyte', 'Wickens', 'Wickham', 'Wicks', 'Widdows', 'Widdowson', 'Wiggins', 'Wigley', 'Wilcox', 'Wild', 'Wilde', 'Wildman', 'Wileman', 'Wiles', 'Wilkes', 'Wilkie', 'Wilkin', 'Wilkins', 'Wilkinson', 'Wilks', 'Wilkshire', 'Will', 'Willett', 'Willetts', 'Williams', 'Williamson', 'Willis', 'Wills', 'Willson', 'Wilmot', 'Wilson', 'Wilton', 'Wiltshire', 'Winder', 'Windsor', 'Winfer', 'Winfield', 'Winman', 'Winn', 'Winship', 'Winstanley', 'Winter', 'Wintersgill', 'Winward', 'Wise', 'Wiseman', 'Wither', 'Withers', 'Wolf', 'Wolfe', 'Wolstencroft', 'Wong', 'Wood', 'Woodcock', 'Woodford', 'Woodhall', 'Woodham', 'Woodhams', 'Woodhead', 'Woodhouse', 'Woodland', 'Woodley', 'Woods', 'Woodward', 'Wooldridge', 'Woollard', 'Woolley', 'Woolnough', 'Wootton', 'Worgan', 'Wormald', 'Worrall', 'Worsnop', 'Worth', 'Worthington', 'Wotherspoon', 'Wragg', 'Wraight', 'Wray', 'Wren', 'Wrench', 'Wrenn', 'Wrigglesworth', 'Wright', 'Wrightson', 'Wyatt', 'Wyer', 'Yabsley', 'Yallop', 'Yang', 'Yapp', 'Yard', 'Yardley', 'Yarker', 'Yarlett', 'Yarnall', 'Yarnold', 'Yarwood', 'Yasmin', 'Yates', 'Yeadon', 'Yeardley', 'Yeardsley', 'Yeates', 'Yeatman', 'Yeldon', 'Yeoman', 'Yeomans', 'Yetman', 'Yeung', 'Yoman', 'Yomkins', 'York', 'Yorke', 'Yorston', 'Youlden', 'Young', 'Younge', 'Younis', 'Youssouf', 'Yule', 'Yusuf', 'Zaoui'], 'Czech': ['Abl', 'Adsit', 'Ajdrna', 'Alt', 'Antonowitsch', 'Antonowitz', 'Bacon', 'Ballalatak', 'Ballaltick', 'Bartonova', 'Bastl', 'Baroch', 'Benesch', 'Betlach', 'Biganska', 'Bilek', 'Blahut', 'Blazek', 'Blazek', 'Blazejovsky', 'Blecha', 'Bleskan', 'Blober', 'Bock', 'Bohac', 'Bohunovsky', 'Bolcar', 'Borovka', 'Borovski', 'Borowski', 'Borovsky', 'Brabbery', 'Brezovjak', 'Brousil', 'Bruckner', 'Buchta', 'Cablikova', 'Camfrlova', 'Cap', 'Cerda', 'Cermak', 'Chermak', 'Cermak', 'Cernochova', 'Cernohous', 'Cerny', 'Cerney', 'Cerny', 'Cerv', 'Cervenka', 'Chalupka', 'Charlott', 'Chemlik', 'Chicken', 'Chilar', 'Chromy', 'Cihak', 'Clineburg', 'Klineberg', 'Cober', 'Colling', 'Cvacek', 'Czabal', 'Damell', 'Demall', 'Dehmel', 'Dana', 'Dejmal', 'Dempko', 'Demko', 'Dinko', 'Divoky', 'Dolejsi', 'Dolezal', 'Doljs', 'Dopita', 'Drassal', 'Driml', 'Duyava', 'Dvorak', 'Dziadik', 'Egr', 'Entler', 'Faltysek', 'Faltejsek', 'Fencl', 'Fenyo', 'Fillipova', 'Finfera', 'Finferovy', 'Finke', 'Fojtikova', 'Fremut', 'Friedrich', 'Frierdich', 'Fritsch', 'Furtsch', 'Gabrisova', 'Gavalok', 'Geier', 'Georgijev', 'Geryk', 'Giersig', 'Glatter', 'Glockl', 'Grabski', 'Grozmanova', 'Grulich', 'Grygarova', 'Hadash', 'Hafernik', 'Hajek', 'Hajicek', 'Hajkova', 'Hana', 'Hanek', 'Hanek', 'Hanika', 'Hanusch', 'Hanzlick', 'Handzlik', 'Hanzlik', 'Harger', 'Hartl', 'Havlatova', 'Havlice', 'Hawlata', 'Heidl', 'Herback', 'Herodes', 'Hiorvst', 'Hladky', 'Hlavsa', 'Hnizdil', 'Hodowal', 'Hodoval', 'Holan', 'Holub', 'Homulka', 'Hora', 'Hovanec', 'Hrabak', 'Hradek', 'Hrdy', 'Hrula', 'Hruska', 'Hruskova', 'Hudecek', 'Husk', 'Hynna', 'Jaluvka', 'Janca', 'Janicek', 'Jenicek', 'Janacek', 'Janick', 'Janoch', 'Janosik', 'Janutka', 'Jares', 'Jarzembowski', 'Jedlicka', 'Jelinek', 'Jindra', 'Jirava', 'Jirik', 'Jirku', 'Jirovy', 'Jobst', 'Jonas', 'Kacirek', 'Kafka', 'Kafka', 'Kaiser', 'Kanak', 'Kaplanek', 'Kara', 'Karlovsky', 'Kasa', 'Kasimor', 'Kazimor', 'Kazmier', 'Katschker', 'Kauphsman', 'Kenzel', 'Kerner', 'Kesl', 'Kessel', 'Kessler', 'Khork', 'Kirchma', 'Klein', 'Klemper', 'Klimes', 'Kober', 'Koberna', 'Koci', 'Kocian', 'Kocian', 'Kofron', 'Kolacny', 'Koliha', 'Kolman', 'Koma', 'Komo', 'Coma', 'Konarik', 'Kopp', 'Kopecky', 'Korandak', 'Korycan', 'Korycansky', 'Kosko', 'Kouba', 'Kouba', 'Koukal', 'Koza', 'Kozumplikova', 'Kratschmar', 'Krawiec', 'Kreisinger', 'Kremlacek', 'Kremlicka', 'Kreutschmer', 'Krhovsky', 'Krivan', 'Krivolavy', 'Kriz', 'Kruessel', 'Krupala', 'Krytinar', 'Kubin', 'Kucera', 'Kucharova', 'Kudrna', 'Kuffel', 'Kupfel', 'Kofel', 'Kulhanek', 'Kunik', 'Kurtz', 'Kusak', 'Kvasnicka', 'Lawa', 'Linart', 'Lind', 'Lokay', 'Loskot', 'Ludwig', 'Lynsmeier', 'Macha', 'Machacek', 'Macikova', 'Malafa', 'Malec', 'Malecha', 'Maly', 'Marek', 'Marik', 'Marik', 'Markytan', 'Matejka', 'Matjeka', 'Matocha', 'MaxaB', 'Mayer', 'Meier', 'Merta', 'Meszes', 'Metjeka', 'Michalovic', 'Michalovicova', 'Miksatkova', 'Mojzis', 'Mojjis', 'Mozzis', 'Molcan', 'Monfort', 'MonkoAustria', 'Morava', 'Morek', 'Muchalon', 'Mudra', 'Muhlbauer', 'Nadvornizch', 'Nadwornik', 'Navara', 'Navratil', 'Navratil', 'Navrkal', 'Nekuza', 'Nemec', 'Nemecek', 'Nestrojil', 'Netsch', 'Neusser', 'Neisser', 'Naizer', 'Novak', 'Nowak', 'Novotny', 'Novy Novy', 'Oborny', 'Ocasek', 'Ocaskova', 'Oesterreicher', 'Okenfuss', 'Olbrich', 'Ondrisek', 'Opizka', 'Opova', 'Opp', 'Osladil', 'Ozimuk', 'Pachr', 'Palzewicz', 'Panek', 'Patril', 'Pavlik', 'Pavlicka', 'Pavlu', 'Pawlak', 'Pear', 'Peary', 'Pech', 'Peisar', 'Paisar', 'Paiser', 'Perevuznik', 'Perina', 'Persein', 'Petrezelka', 'Petru', 'Pesek', 'Petersen', 'Pfeifer', 'Picha', 'Pillar', 'Pellar', 'Piller', 'Pinter', 'Pitterman', 'Planick', 'Piskach', 'Plisek', 'Plisko', 'Pokorny', 'Ponec', 'Ponec', 'Prachar', 'Praseta', 'Prchal', 'Prehatney', 'Pretsch', 'Prill', 'Psik', 'Pudel', 'Purdes', 'Quasninsky', 'Raffel', 'Rafaj', 'Ransom', 'Rezac', 'Riedel', 'Riha', 'Riha', 'Ritchie', 'Rozinek', 'Ruba', 'Ruda', 'Rumisek', 'Ruzicka', 'Rypka', 'Rebka', 'Rzehak', 'Sabol', 'Safko', 'Samz', 'Sankovsky', 'Sappe', 'Sappe', 'Sarna', 'Satorie', 'Savchak', 'Svotak', 'Swatchak', 'Svocak', 'Svotchak', 'Schallom', 'Schenk', 'Schlantz', 'Schmeiser', 'Schneider', 'Schmied', 'Schubert', 'Schwarz', 'Schwartz', 'Sedmik', 'Sedmikova', 'Seger', 'Sekovora', 'Semick', 'Serak', 'Sherak', 'Shima', 'Shula', 'Siegl', 'Silhan', 'Simecek', 'Simodines', 'Simonek', 'Sip', 'Sitta', 'Skala', 'Skeril', 'Skokan', 'Skomicka', 'Skwor', 'Slapnickova', 'Slejtr', 'Slepicka', 'Slepica', 'Slezak', 'Slivka', 'Smith', 'Snelker', 'Sokolik', 'Soucek', 'Soukup', 'Soukup', 'Spicka', 'Spoerl', 'Sponer', 'Srda', 'Srpcikova', 'Stangl', 'Stanzel', 'Stary', 'Staska', 'Stedronsky', 'Stegon', 'Sztegon', 'Steinborn', 'Stepan', 'Stites', 'Stluka', 'Stotzky', 'StrakaO', 'Stramba', 'Stupka', 'Subertova', 'Suchanka', 'Sula', 'Svejda', 'Svejkovsky', 'Svoboda', 'Tejc', 'Tikal', 'Tykal', 'Till', 'Timpe', 'Timpy', 'Toman', 'Tomanek', 'Tomasek', 'Tomes', 'Trampotova', 'Trampota', 'Treblik', 'Trnkova', 'Uerling', 'Uhlik', 'Urbanek', 'Urbanek', 'Urbanovska', 'Urista', 'Ustohal', 'Vaca', 'Vaculova', 'Vavra', 'Vejvoda', 'Veverka', 'Victor', 'Vlach', 'Vlach', 'Vlasak', 'Vlasek', 'Volcik', 'Voneve', 'Votke', 'Vozab', 'Vrazel', 'Vykruta', 'Wykruta', 'Waclauska', 'Weichert', 'Weineltk', 'Weisener', 'Wiesner', 'Wizner', 'Weiss', 'Werlla', 'Whitmire', 'Widerlechner', 'Wilchek', 'Wondracek', 'Wood', 'Zajicek', 'Zak', 'Zajicek', 'Zaruba', 'Zaruba', 'Zelinka', 'Zeman', 'Zimola', 'Zipperer', 'Zitka', 'Zoucha', 'Zwolenksy'], 'Chinese': ['Ang', 'AuYong', 'Bai', 'Ban', 'Bao', 'Bei', 'Bian', 'Bui', 'Cai', 'Cao', 'Cen', 'Chai', 'Chaim', 'Chan', 'Chang', 'Chao', 'Che', 'Chen', 'Cheng', 'Cheung', 'Chew', 'Chieu', 'Chin', 'Chong', 'Chou', 'Chu', 'Cui', 'Dai', 'Deng', 'Ding', 'Dong', 'Dou', 'Duan', 'Eng', 'Fan', 'Fei', 'Feng', 'Foong', 'Fung', 'Gan', 'Gauk', 'Geng', 'Gim', 'Gok', 'Gong', 'Guan', 'Guang', 'Guo', 'Gwock', 'Han', 'Hang', 'Hao', 'Hew', 'Hiu', 'Hong', 'Hor', 'Hsiao', 'Hua', 'Huan', 'Huang', 'Hui', 'Huie', 'Huo', 'Jia', 'Jiang', 'Jin', 'Jing', 'Joe', 'Kang', 'Kau', 'Khoo', 'Khu', 'Kong', 'Koo', 'Kwan', 'Kwei', 'Kwong', 'Lai', 'Lam', 'Lang', 'Lau', 'Law', 'Lew', 'Lian', 'Liao', 'Lim', 'Lin', 'Ling', 'Liu', 'Loh', 'Long', 'Loong', 'Luo', 'Mah', 'Mai', 'Mak', 'Mao', 'Mar', 'Mei', 'Meng', 'Miao', 'Min', 'Ming', 'Moy', 'Mui', 'Nie', 'Niu', 'OuYang', 'OwYang', 'Pan', 'Pang', 'Pei', 'Peng', 'Ping', 'Qian', 'Qin', 'Qiu', 'Quan', 'Que', 'Ran', 'Rao', 'Rong', 'Ruan', 'Sam', 'Seah', 'See ', 'Seow', 'Seto', 'Sha', 'Shan', 'Shang', 'Shao', 'Shaw', 'She', 'Shen', 'Sheng', 'Shi', 'Shu', 'Shuai', 'Shui', 'Shum', 'Siew', 'Siu', 'Song', 'Sum', 'Sun', 'Sze ', 'Tan', 'Tang', 'Tao', 'Teng', 'Teoh', 'Thean', 'Thian', 'Thien', 'Tian', 'Tong', 'Tow', 'Tsang', 'Tse', 'Tsen', 'Tso', 'Tze', 'Wan', 'Wang', 'Wei', 'Wen', 'Weng', 'Won', 'Wong', 'Woo', 'Xiang', 'Xiao', 'Xie', 'Xing', 'Xue', 'Xun', 'Yan', 'Yang', 'Yao', 'Yap', 'Yau', 'Yee', 'Yep', 'Yim', 'Yin', 'Ying', 'Yong', 'You', 'Yuan', 'Zang', 'Zeng', 'Zha', 'Zhan', 'Zhang', 'Zhao', 'Zhen', 'Zheng', 'Zhong', 'Zhou', 'Zhu', 'Zhuo', 'Zong', 'Zou', 'Bing', 'Chi', 'Chu', 'Cong', 'Cuan', 'Dan', 'Fei', 'Feng', 'Gai', 'Gao', 'Gou', 'Guan', 'Gui', 'Guo', 'Hong', 'Hou', 'Huan', 'Jian', 'Jiao', 'Jin', 'Jiu', 'Juan', 'Jue', 'Kan', 'Kuai', 'Kuang', 'Kui', 'Lao', 'Liang', 'Lu:', 'Luo', 'Man', 'Nao', 'Pian', 'Qiao', 'Qing', 'Qiu', 'Rang', 'Rui', 'She', 'Shi', 'Shuo', 'Sui', 'Tai', 'Wan', 'Wei', 'Xian', 'Xie', 'Xin', 'Xing', 'Xiong', 'Xuan', 'Yan', 'Yin', 'Ying', 'Yuan', 'Yue', 'Yun', 'Zha', 'Zhai', 'Zhang', 'Zhi', 'Zhuan', 'Zhui'], 'Dutch': ['Aalsburg', 'Aalst', 'Aarle', 'Achteren', 'Achthoven', 'Adrichem', 'Aggelen', 'Agteren', 'Agthoven', 'Akkeren', 'Aller', 'Alphen', 'Alst', 'Altena', 'Althuis', 'Amelsvoort', 'Amersvoort', 'Amstel', 'Andel', 'Andringa', 'Ankeren', 'Antwerp', 'Antwerpen', 'Apeldoorn', 'Arendonk', 'Asch', 'Assen', 'Baarle', 'Bokhoven', 'Breda', 'Bueren', 'Buggenum', 'Buiren', 'Buren', 'Can', 'Cann', 'Canne', 'Daal', 'Daalen', 'Dael', 'Daele', 'Dale', 'Dalen', 'Laar', 'Vliert', 'Akker', 'Andel', 'Denend', 'Aart', 'Beek', 'Berg', 'Hout', 'Laar', 'See', 'Stoep', 'Veen', 'Ven', 'Venn', 'Venne', 'Vennen', 'Zee', 'Donk', 'Haanraads', 'Haanraats', 'Haanrade', 'Haanrath', 'Haenraats', 'Haenraets', 'Hanraets', 'Hassel', 'Hautem', 'Hautum', 'Heel', 'Herten', 'Hofwegen', 'Horn', 'Hout', 'Houte', 'Houtem', 'Houten', 'Houttum', 'Houtum', 'Kan', 'Kann', 'Kanne', 'Kappel', 'Karl', 'Kikkert', 'Klein', 'Klerk', 'Klerken', 'Klerks', 'Klerkse', 'Klerkx', 'Klerx', 'Kloet', 'Kloeten', 'Kloeter', 'Koeman', 'Koemans', 'Kolen', 'Kolijn', 'Kollen', 'Koning', 'Kool', 'Koole', 'Koolen', 'Kools', 'Kouman', 'Koumans', 'Krantz', 'Kranz', 'Krusen', 'Kuijpers', 'Kuiper', 'Kuipers', 'Laar', 'Langbroek', 'Laren', 'Lauwens', 'Lauwers', 'Leeuwenhoeck', 'Leeuwenhoek', 'Leeuwenhoek', 'Lucas', 'Lucassen', 'Lyon', 'Maas', 'Maes', 'Maessen', 'Marquering', 'Marqueringh', 'Marquerink', 'Mas', 'Meeuwe', 'Meeuwes', 'Meeuwessen', 'Meeuweszen', 'Meeuwis', 'Meeuwissen', 'Meeuwsen', 'Meisner', 'Merckx', 'Mertens', 'Michel', 'Middelburg', 'Middlesworth', 'Mohren', 'Mooren', 'Mulder', 'Muyskens', 'Nagel', 'Nelissen', 'Nifterick', 'Nifterick', 'Nifterik', 'Nifterik', 'Niftrik', 'Niftrik', 'Offermans', 'Ogterop', 'Ogtrop', 'Oirschot', 'Oirschotten', 'Oomen', 'Oorschot', 'Oorschot', 'Ophoven', 'Otten', 'Pander', 'Panders', 'Paulis', 'Paulissen', 'Peerenboom', 'Peeters', 'Peij', 'Pender', 'Penders', 'Pennders', 'Penner', 'Penners', 'Peter', 'Peusen', 'Pey', 'Philips', 'Prinsen', 'Rademaker', 'Rademakers', 'Ramaaker', 'Ramaker', 'Ramakers', 'Ramecker', 'Rameckers', 'Raske', 'Reijnder', 'Reijnders', 'Reinder', 'Reinders', 'Reynder', 'Reynders', 'Richard', 'Rietveld', 'Rijnder', 'Rijnders', 'Robert', 'Roggeveen', 'Roijacker', 'Roijackers', 'Roijakker', 'Roijakkers', 'Romeijn', 'Romeijnders', 'Romeijnsen', 'Romijn', 'Romijnders', 'Romijnsen', 'Rompa', 'Rompa', 'Rompaeij', 'Rompaey', 'Rompaij', 'Rompay', 'Rompaye', 'Rompu', 'Rompuy', 'Rooiakker', 'Rooiakkers', 'Rooijakker', 'Rooijakkers', 'Roosa', 'Roosevelt', 'Rossem', 'Rossum', 'Rumpade', 'Rutten', 'Ryskamp', 'Samson', 'Sanna', 'Schenck', 'Schermer', 'Schneider', 'Schneiders', 'Schneijder', 'Schneijders', 'Schoonenburg', 'Schoonraad', 'Schoorel', 'Schoorel', 'Schoorl', 'Schorel', 'Schrijnemakers', 'Schuyler', 'Schwarzenberg', 'Seeger', 'Seegers', 'Seelen', 'Segers', 'Segher', 'Seghers', 'Severijns', 'Severins', 'Sevriens', 'Silje', 'Simon', 'Simonis', 'Slootmaekers', 'Smeets', 'Smets', 'Smit', 'Smits', 'Snaaijer', 'Snaijer', 'Sneiders', 'Sneijder', 'Sneijders', 'Sneijer', 'Sneijers', 'Snell', 'Snider', 'Sniders', 'Snijder', 'Snijders', 'Snyder', 'Snyders', 'Specht', 'Spijker', 'Spiker', 'Ter Avest', 'Teunissen', 'Theunissen', 'Tholberg', 'Tillens', 'Tunison', 'Tunneson', 'Vandale', 'Vandroogenbroeck', 'Vann'], 'Polish': ['Adamczak', 'Adamczyk', 'Andrysiak', 'Auttenberg', 'Bartosz', 'Bernard', 'Bobienski', 'Bosko', 'Broz', 'Brzezicki', 'Budny', 'Bukoski', 'Bukowski', 'Chlebek', 'Chmiel', 'Czajka', 'Czajkowski', 'Dubanowski', 'Dubicki', 'Dunajski', 'Dziedzic', 'Fabian', 'Filipek', 'Filipowski', 'Gajos', 'Gniewek', 'Gomolka', 'Gomulka', 'Gorecki', 'Gorka', 'Gorski', 'Grzeskiewicz', 'Gwozdek', 'Jagoda', 'Janda', 'Janowski', 'Jaskolski', 'Jaskulski', 'Jedynak', 'Jelen', 'Jez', 'Jordan', 'Kaczka', 'Kaluza', 'Kaminski', 'Kasprzak', 'Kava', 'Kedzierski', 'Kijek', 'Klimek', 'Kosmatka', 'Kowalczyk', 'Kowalski', 'Koziol', 'Kozlow', 'Kozlowski', 'Krakowski', 'Krol', 'Kumiega', 'Lawniczak', 'Lis', 'Majewski', 'Malinowski', 'Maly', 'Marek', 'Marszaek', 'Maslanka', 'Mencher', 'Miazga', 'Michel', 'Mikolajczak', 'Mozdzierz', 'Niemczyk', 'Niemec', 'Nosek', 'Nowak', 'Pakulski', 'Pasternack', 'Pasternak', 'Paszek', 'Piatek', 'Piontek', 'Pokorny', 'Poplawski', 'Rog', 'Rudaski', 'Rudawski', 'Rusnak', 'Rutkowski', 'Sadowski', 'Salomon', 'Serafin', 'Sienkiewicz', 'Sierzant', 'Sitko', 'Skala', 'Slaski', 'Slazak', 'Slusarczyk', 'Slusarski', 'Smolak', 'Sniegowski', 'Sobol', 'Sokal', 'Sokolof', 'Sokoloff', 'Sokolofsky', 'Sokolowski', 'Sokolsky', 'Sowka', 'Stanek', 'Starek', 'Stawski', 'Stolarz', 'Szczepanski', 'Szewc', 'Szwarc', 'Szweda', 'Szwedko', 'Walentowicz', 'Warszawski', 'Wawrzaszek', 'Wiater', 'Winograd', 'Winogrodzki', 'Wojda', 'Wojewodka', 'Wojewodzki', 'Wronski', 'Wyrick', 'Wyrzyk', 'Zabek', 'Zawisza', 'Zdunowski', 'Zdunowski', 'Zielinski', 'Ziemniak', 'Zientek', 'Zuraw'], 'Irish': ['Adam', 'Ahearn', 'Aodh', 'Aodha', 'Aonghuis', 'Aonghus', 'Bhrighde', 'Bradach', 'Bradan', 'Braden', 'Brady', 'Bran', 'Brannon', 'Brian', 'Callaghan', 'Caomh', 'Carey', 'Casey', 'Cassidy', 'Cathain', 'Cathan', 'Cathasach', 'Ceallach', 'Ceallachan', 'Cearbhall', 'Cennetig', 'Ciardha', 'Clark', 'Cleirich', 'Cleirigh', 'Cnaimhin', 'Coghlan', 'Coilean', 'Collins', 'Colman', 'Conall', 'Conchobhar', 'Conn', 'Connell', 'Connolly', 'Cormac', 'Corraidhin', 'Cuidightheach', 'Curran', 'Dubhshlaine', 'Dalach', 'Daly', 'Damhain', 'Damhan', 'Delaney', 'Desmond', 'Devin', 'Diarmaid', 'Doherty', 'Domhnall', 'Donnchadh', 'Donndubhan', 'Donnell', 'Donoghue', 'Donovan', 'Doyle', 'Dubhain', 'Dubhan', 'Duncan', 'Eoghan', 'Eoin', 'Eoin', 'Faolan', 'Farrell', 'Fearghal', 'Fergus', 'Finn', 'Finnegan', 'Fionn', 'Flanagan', 'Flann', 'Flynn', 'Gallchobhar', 'Gerald', 'Giolla', 'Gorman', 'Hayden', 'Ivor', 'John', 'Kavanagh', 'Keefe', 'Kelly', 'Kennedy', 'Lennon', 'Login', 'Macclelland', 'Macdermott', 'Maceachthighearna', 'Macfarland', 'Macghabhann', 'Maciomhair', 'Macshuibhne', 'Madaidhin', 'Madden', 'Maguire', 'Mahoney', 'Maille', 'Malone', 'Manus', 'Maolmhuaidh', 'Mathghamhain', 'Maurice', 'Mcguire', 'Mckay', 'Mclain', 'Mcmahon', 'Mcnab', 'Mcneil', 'Meadhra', 'Michael', 'Milligan', 'Mochan', 'Mohan', 'Molloy', 'Monahan', 'Mooney', 'Muirchertach', 'Mullen', 'Mulryan', 'Murchadh', 'Murphy', 'Names', 'Naoimhin', 'Naomhan', 'Neil', 'Neville', 'Nevin', 'Niadh', 'Niall', 'Nolan', 'Nuallan', \"O'Boyle\", \"O'Brien\", \"O'Byrne\", \"O'Donnell\", \"O'Hannagain\", \"O'Hannigain\", \"O'Keefe\", \"O'Mooney\", \"O'Neal\", \"O'Boyle\", \"O'Bree\", \"O'Brian\", \"O'Brien\", \"O'Callaghann\", \"O'Connell\", \"O'Connor\", \"O'Dell\", \"O'Doherty\", \"O'Donnell\", \"O'Donoghue\", \"O'Dowd\", \"O'Driscoll\", \"O'Gorman\", \"O'Grady\", \"O'Hagan\", \"O'Halloran\", \"O'Hanlon\", \"O'Hara\", \"O'Hare\", \"O'Kane\", \"O'Keefe\", \"O'Keeffe\", \"O'Kelly\", \"O'Leary\", \"O'Loughlin\", \"O'Mahoney\", \"O'Mahony\", \"O'Malley\", \"O'Meara\", \"O'Neal\", \"O'Neill\", \"O'Reilly\", \"O'Rourke\", \"O'Ryan\", \"O'Shea\", \"O'Sullivan\", \"O'Toole\", 'Patrick', 'Peatain', 'Pharlain', 'Power', 'Quigley', 'Quinn', 'Quirke', 'Raghailligh', 'Reagan', 'Register', 'Reilly', 'Reynold', 'Rhys', 'Riagain', 'Riagan', 'Riain', 'Rian', 'Rinn', 'Roach', 'Rodagh', 'Rory', 'Ruadh', 'Ruadhain', 'Ruadhan', 'Ruaidh', 'Samuel', 'Scolaidhe', 'Seaghdha', 'Sechnall', 'Seighin', 'Shannon', 'Sheehy', 'Simon', 'Sioda', 'Sloan', 'Sluaghadhan', 'Suaird', 'Sullivan', 'Tadhg', 'Tadhgan', 'Taidhg', 'Teagan', 'Teague', 'Tighearnach', 'Tracey', 'Treasach', 'Whalen', 'Whelan', 'William'], 'German': ['Abbing', 'Abel', 'Abeln', 'Abt', 'Achilles', 'Achterberg', 'Acker', 'Ackermann', 'Adam', 'Adenauer', 'Adler', 'Adlersflugel', 'Aeschelman', 'Albert', 'Albrecht', 'Aleshire', 'Aleshite', 'Althaus', 'Amsel', 'Andres', 'Armbruster', 'Armbruster', 'Artz', 'Aue', 'Auer', 'Augustin', 'Aust', 'Autenburg', 'Auttenberg', 'Baasch', 'Bach', 'Bachmeier', 'Backer', 'Bader', 'Bahr', 'Bambach', 'Bauer', 'Bauers', 'Baum', 'Baumann', 'Baumbach', 'Baumgartner', 'Baumgartner', 'Baumhauer', 'Bayer', 'Beck', 'Becke', 'Beckenbauer', 'Becker', 'Beckert', 'Behrend', 'Behrends', 'Beitel', 'Beltz', 'Benn', 'Berg', 'Berger', 'Bergfalk', 'Beringer', 'Bernat', 'Best', 'Beutel', 'Beyer', 'Beyersdorf', 'Bieber', 'Biermann', 'Bischoffs', 'Blau', 'Blecher', 'Bleier', 'Blumenthal', 'Blumstein', 'Bocker', 'Boehler', 'Boer', 'Boesch', 'Bohler', 'Bohm', 'Bohme', 'Bohmer', 'Bohn', 'Borchard', 'Bosch', 'Bosch', 'Bottcher', 'Brahms', 'Brand', 'Brandt', 'Brant', 'Brauer', 'Braun', 'Braune', 'Breiner', 'Breisacher', 'Breitbarth', 'Bretz', 'Brinkerhoff', 'Brodbeck', 'Brose', 'Brotz', 'Bruhn', 'Brun', 'Brune', 'Buchholz', 'Buckholtz', 'Buhr', 'Bumgarner', 'Burgstaller', 'Busch', 'Carver', 'Chevrolet', 'Cline', 'Dahl', 'Denzel', 'Derrick', 'Diefenbach', 'Dieter', 'Dietrich', 'Dirchs', 'Dittmar', 'Dohman', 'Drechsler', 'Dreher', 'Dreschner', 'Dresdner', 'Dressler', 'Duerr', 'Dunkle', 'Dunst', 'Durr', 'Eberhardt', 'Ebner', 'Ebner', 'Eckstein', 'Egger', 'Eichel', 'Eilerts', 'Engel', 'Enns', 'Esser', 'Essert', 'Everhart', 'Fabel', 'Faerber', 'Falk', 'Falkenrath', 'Farber', 'Fashingbauer', 'Faust', 'Feigenbaum', 'Feld', 'Feldt', 'Fenstermacher', 'Fertig', 'Fiedler', 'Fischer', 'Flater', 'Fleischer', 'Foerstner', 'Forst', 'Forstner', 'Foth', 'Frank', 'Franke', 'Frei', 'Freud', 'Freudenberger', 'Freund', 'Fried', 'Friedrich', 'Fromm', 'Frost', 'Fuchs', 'Fuhrmann', 'Furst', 'Fux', 'Gabler', 'Gaertner', 'Garb', 'Garber', 'Gartner', 'Garver', 'Gass', 'Gehrig', 'Gehring', 'Geier', 'Geiger', 'Geisler', 'Geissler', 'Geiszler', 'Gensch', 'Gerber', 'Gerhard', 'Gerhardt', 'Gerig', 'Gerst', 'Gerstle', 'Gerver', 'Giehl', 'Giese', 'Glockner', 'Goebel', 'Goldschmidt', 'Gorman', 'Gott', 'Gotti', 'Gottlieb', 'Gottschalk', 'Graner', 'Greenberg', 'Groos', 'Gros', 'Gross', 'Gro', 'Groe', 'Grosse', 'Groel', 'Groel', 'Groer', 'Grosser', 'Grosz', 'Grunewald', 'Gunther', 'Gunther', 'Gutermuth', 'Gwerder', 'Haas', 'Haase', 'Haber', 'Habich', 'Habicht', 'Hafner', 'Hahn', 'Hall', 'Halle', 'Harman', 'Hartmann', 'Hase', 'Hasek', 'Hasenkamp', 'Hass', 'Hauer', 'Haupt', 'Hausler', 'Havener', 'Heidrich', 'Heinrich', 'Heinrichs', 'Heintze', 'Hellewege', 'Heppenheimer', 'Herbert', 'Hermann', 'Herrmann', 'Herschel', 'Hertz', 'Hildebrand', 'Hinrichs', 'Hintzen', 'Hirsch', 'Hoch', 'Hochberg', 'Hoefler', 'Hofer', 'Hoffman', 'Hoffmann', 'Hofler', 'Hofmann', 'Hofmeister', 'Holst', 'Holtzer', 'Holzer', 'Holzer', 'Holzknecht', 'Holzmann', 'Hoover', 'Horn', 'Horn', 'Horowitz', 'Houk', 'Huber', 'Huber', 'Huff', 'Huffman', 'Huffmann', 'Hummel', 'Hummel', 'Hutmacher', 'Ingersleben', 'Jaeger', 'Jager', 'Jager', 'Jans', 'Janson', 'Janz', 'Jollenbeck', 'Jordan', 'Jund', 'Jung', 'Junge', 'Kahler', 'Kaiser', 'Kalb', 'Kalbfleisch', 'Kappel', 'Karl', 'Kaspar', 'Kassmeyer', 'Kastner', 'Katz', 'Kaube', 'Kaufer', 'Kaufer', 'Kauffmann', 'Kaufman', 'Keil', 'Keller', 'Kempf', 'Kerner', 'Kerper', 'Kerwar', 'Kerwer', 'Kiefer', 'Kiefer', 'Kirchner', 'Kistler', 'Kistner', 'Kleid', 'Klein', 'Klossner', 'Knef', 'Kneib', 'Kneller', 'Knepp', 'Knochenmus', 'Knopf', 'Knopp', 'Koch', 'Kock', 'Koenig', 'Koenigsmann', 'Kohl', 'Kohl', 'Kohler', 'Kohler', 'Kolbe', 'Konig', 'Konigsmann', 'Kopp', 'Kraemer', 'Kramer', 'Kramer', 'Krantz', 'Kranz', 'Kraus', 'Krause', 'Krauss', 'Krau', 'Krebs', 'Kroger', 'Kron', 'Kruckel', 'Kruger', 'Kruger', 'Kruger', 'Kruse', 'Kruse', 'Kuchler', 'Kuhn', 'Kundert', 'Kunkel', 'Kunkle', 'Kuntz', 'Kunze', 'Kurzmann', 'Laberenz', 'Lafrentz', 'Lafrenz', 'Landau', 'Lang', 'Lange', 'Langenberg', 'Langer', 'Larenz', 'Laurenz', 'Lauritz', 'Lawerenz', 'Lawrenz', 'Lehmann', 'Lehrer', 'Leitner', 'Leitz', 'Leitzke', 'Lenz', 'Leverenz', 'Lewerentz', 'Lewerenz', 'Lichtenberg', 'Lieberenz', 'Linden', 'Loewe', 'Lohrenz', 'Lorentz', 'Lorenz', 'Lorenzen', 'Loris', 'Loritz', 'Lowe', 'Ludwig', 'Luther', 'Maas', 'Maier', 'Mandel', 'Mann', 'Markwardt', 'Marquardt', 'Marquering', 'Marquerink', 'Martell', 'Martin', 'Martz', 'Mas', 'Maurer', 'Maus', 'Mayer', 'Meier', 'Mein', 'Meindl', 'Meinhardt', 'Meisner', 'Meissner', 'Melsbach', 'Mendel', 'Mendelsohn', 'Mendelssohn', 'Messer', 'Messerli', 'Messmann', 'Messner', 'Metz', 'Metz', 'Metzger', 'Meyer', 'Michel', 'Mohren', 'Moller', 'Morgenstern', 'Moser', 'Mueller', 'Muhlfeld', 'Muller', 'Nagel', 'Neuman', 'Neumann', 'Nuremberg', 'Nussbaum', 'Nussenbaum', 'Oberst', 'Oelberg', 'Ohme', 'Oliver', 'Oppenheimer', 'Ott', 'Otto', 'Oursler', 'Pahlke', 'Papke', 'Papp', 'Paternoster', 'Paul', 'Paulis', 'Pawlitzki', 'Penzig', 'Peter', 'Peters', 'Pfaff', 'Pfenning', 'Plank', 'Pletcher', 'Porsche', 'Portner', 'Prinz', 'Protz', 'Rademacher', 'Rademaker', 'Rapp', 'Raske', 'Raskob', 'Raskop', 'Raskoph', 'Regenbogen', 'Reier', 'Reiher', 'Reiter', 'Rettig', 'Reuter', 'Reuter', 'Richard', 'Richter', 'Rier', 'Riese', 'Ritter', 'Rose', 'Rosenberg', 'Rosenberger', 'Rosenfeld', 'Rot', 'Roth', 'Rothbauer', 'Rothenberg', 'Rothschild', 'Sachs', 'Saller', 'Saller', 'Salomon', 'Salzwedel', 'Samuel', 'Sander', 'Sauber', 'Schafer', 'Scheer', 'Scheinberg', 'Schenck', 'Schermer', 'Schindler', 'Schirmer', 'Schlender', 'Schlimme', 'Schlusser', 'Schmeling', 'Schmid', 'Schmidt', 'Schmitt', 'Schmitz', 'Schneider', 'Schnoor', 'Schnur', 'Schoettmer', 'Schrader', 'Schrader', 'Schreck', 'Schreier', 'Schroder', 'Schroder', 'Schroeder', 'Schroeter', 'Schroter', 'Schubert', 'Schuchard', 'Schuchardt', 'Schuchert', 'Schuhart', 'Schuhmacher', 'Schuler', 'Schult', 'Schulte', 'Schultes', 'Schultheis', 'Schultheiss', 'Schulthei', 'Schultz', 'Schultze', 'Schulz', 'Schulze', 'Schumacher', 'Schuster', 'Schuttmann', 'Schwangau', 'Schwartz', 'Schwarz', 'Schwarzenegger', 'Schwenke', 'Schwinghammer', 'Seelenfreund', 'Seidel', 'Senft', 'Senft', 'Sheinfeld', 'Shriver', 'Siegel', 'Siegel', 'Siekert', 'Siemon', 'Silverstein', 'Simen', 'Simmon', 'Simon', 'Simons', 'Siskin', 'Siskind', 'Sitz', 'Sitz', 'Slusser', 'Solberg', 'Sommer', 'Sommer', 'Sommer', 'Sommer', 'Sonnen', 'Sorg', 'Sorge', 'Spannagel', 'Specht', 'Spellmeyer', 'Spitznogle', 'Sponaugle', 'Stark', 'Stauss', 'Steen', 'Steffen', 'Stein', 'Steinmann', 'Stenger', 'Sternberg', 'Steube', 'Steuben', 'Stieber', 'Stoppelbein', 'Stoppelbein', 'Strand', 'Straub', 'Strobel', 'Strohkirch', 'Stroman', 'Stuber', 'Stueck', 'Stumpf', 'Sturm', 'Suess', 'Sulzbach', 'Swango', 'Switzer', 'Tangeman', 'Tanzer', 'Teufel', 'Tiedeman', 'Tifft', 'Tillens', 'Tobias', 'Tolkien', 'Tresler', 'Tritten', 'Trumbauer', 'Tschida', 'Unkle', 'Unruh', 'Unterbrink', 'Ursler', 'Vann', 'Van tonder', 'Vieth', 'Vogel', 'Vogt', 'Vogts', 'Voigt', 'Voigts', 'Volk', 'Voll', 'Von brandt', 'Von essen', 'Von grimmelshausen', 'Von ingersleben', 'Vonnegut', 'Von wegberg', 'Voss', 'Vo', 'Wagner', 'Wagner', 'Wahner', 'Wahner', 'Waldfogel', 'Waldvogel', 'Walkenhorst', 'Walter', 'Walther', 'Waltz', 'Wang', 'Warner', 'Waxweiler', 'Weber', 'Wechsler', 'Wedekind', 'Weeber', 'Wegener', 'Wegner', 'Wehner', 'Wehunt', 'Weigand', 'Weiman', 'Weiner', 'Weiss', 'Wei', 'Welter', 'Wendel', 'Wendell', 'Werner', 'Wernher', 'West', 'Westerberg', 'Wetterman', 'Wetzel', 'Wexler', 'Wieck', 'Wiegand', 'Wildgrube', 'Winter', 'Winther', 'Winther', 'Wirner', 'Wirnhier', 'Wirt', 'Wirth', 'Wolf', 'Wolff', 'Wolter', 'Worner', 'Wornhor', 'Wruck', 'Wyman', 'Xylander', 'Zellweger', 'Zilberschlag', 'Zimmerman', 'Zimmermann'], 'Vietnamese': ['Nguyen', 'Tron', 'Le', 'Pham', 'Huynh', 'Hoang', 'Phan', 'Vu', 'Vo', 'Dang', 'Bui', 'Do', 'Ho', 'Ngo', 'Duong', 'Ly', 'An', 'an', 'Bach', 'Banh', 'Cao', 'Chau', 'Chu', 'Chung', 'Chu', 'Diep', 'Doan', 'Dam', 'Dao', 'Dinh', 'Doan', 'Giang', 'Ha', 'Han', 'Kieu', 'Kim', 'La', 'Lac', 'Lam', 'Lieu', 'Luc', 'Luong', 'Luu', 'Ma', 'Mach', 'Mai', 'Nghiem', 'Phi', 'Pho', 'Phung', 'Quach', 'Quang', 'Quyen', 'Ta', 'Thach', 'Thai', 'Sai', 'Thi', 'Than', 'Thao', 'Thuy', 'Tieu', 'To', 'Ton', 'Tong', 'Trang', 'Trieu', 'Trinh', 'Truong', 'Van', 'Vinh', 'Vuong', 'Vuu']}\n",
            "['Ahn', 'Baik', 'Bang', 'Byon', 'Cha', 'Chang', 'Chi', 'Chin', 'Cho', 'Choe', 'Choi', 'Chong', 'Chou', 'Chu', 'Chun', 'Chung', 'Chweh', 'Gil', 'Gu', 'Gwang ', 'Ha', 'Han', 'Ho', 'Hong', 'Hung', 'Hwang', 'Hyun ', 'Jang', 'Jeon', 'Jeong', 'Jo', 'Jon', 'Jong', 'Jung ', 'Kang', 'Kim', 'Ko', 'Koo', 'Ku', 'Kwak', 'Kwang ', 'Lee', 'Li', 'Lim ', 'Ma', 'Mo', 'Moon', 'Nam', 'Ngai', 'Noh', 'Oh ', 'Pae', 'Pak', 'Park ', 'Ra', 'Rhee', 'Rheem', 'Ri', 'Rim', 'Ron', 'Ryom', 'Ryoo', 'Ryu', 'San', 'Seo', 'Seok', 'Shim', 'Shin', 'Shon', 'Si', 'Sin', 'So', 'Son', 'Song', 'Sook', 'Suh', 'Suk', 'Sun', 'Sung', 'Tsai ', 'Wang', 'Woo', 'Yang', 'Yeo', 'Yeon', 'Yi', 'Yim', 'Yoo', 'Yoon', 'You', 'Youj', 'Youn', 'Yu', 'Yun']\n",
            "['Ang', 'AuYong', 'Bai', 'Ban', 'Bao', 'Bei', 'Bian', 'Bui', 'Cai', 'Cao', 'Cen', 'Chai', 'Chaim', 'Chan', 'Chang', 'Chao', 'Che', 'Chen', 'Cheng', 'Cheung', 'Chew', 'Chieu', 'Chin', 'Chong', 'Chou', 'Chu', 'Cui', 'Dai', 'Deng', 'Ding', 'Dong', 'Dou', 'Duan', 'Eng', 'Fan', 'Fei', 'Feng', 'Foong', 'Fung', 'Gan', 'Gauk', 'Geng', 'Gim', 'Gok', 'Gong', 'Guan', 'Guang', 'Guo', 'Gwock', 'Han', 'Hang', 'Hao', 'Hew', 'Hiu', 'Hong', 'Hor', 'Hsiao', 'Hua', 'Huan', 'Huang', 'Hui', 'Huie', 'Huo', 'Jia', 'Jiang', 'Jin', 'Jing', 'Joe', 'Kang', 'Kau', 'Khoo', 'Khu', 'Kong', 'Koo', 'Kwan', 'Kwei', 'Kwong', 'Lai', 'Lam', 'Lang', 'Lau', 'Law', 'Lew', 'Lian', 'Liao', 'Lim', 'Lin', 'Ling', 'Liu', 'Loh', 'Long', 'Loong', 'Luo', 'Mah', 'Mai', 'Mak', 'Mao', 'Mar', 'Mei', 'Meng', 'Miao', 'Min', 'Ming', 'Moy', 'Mui', 'Nie', 'Niu', 'OuYang', 'OwYang', 'Pan', 'Pang', 'Pei', 'Peng', 'Ping', 'Qian', 'Qin', 'Qiu', 'Quan', 'Que', 'Ran', 'Rao', 'Rong', 'Ruan', 'Sam', 'Seah', 'See ', 'Seow', 'Seto', 'Sha', 'Shan', 'Shang', 'Shao', 'Shaw', 'She', 'Shen', 'Sheng', 'Shi', 'Shu', 'Shuai', 'Shui', 'Shum', 'Siew', 'Siu', 'Song', 'Sum', 'Sun', 'Sze ', 'Tan', 'Tang', 'Tao', 'Teng', 'Teoh', 'Thean', 'Thian', 'Thien', 'Tian', 'Tong', 'Tow', 'Tsang', 'Tse', 'Tsen', 'Tso', 'Tze', 'Wan', 'Wang', 'Wei', 'Wen', 'Weng', 'Won', 'Wong', 'Woo', 'Xiang', 'Xiao', 'Xie', 'Xing', 'Xue', 'Xun', 'Yan', 'Yang', 'Yao', 'Yap', 'Yau', 'Yee', 'Yep', 'Yim', 'Yin', 'Ying', 'Yong', 'You', 'Yuan', 'Zang', 'Zeng', 'Zha', 'Zhan', 'Zhang', 'Zhao', 'Zhen', 'Zheng', 'Zhong', 'Zhou', 'Zhu', 'Zhuo', 'Zong', 'Zou', 'Bing', 'Chi', 'Chu', 'Cong', 'Cuan', 'Dan', 'Fei', 'Feng', 'Gai', 'Gao', 'Gou', 'Guan', 'Gui', 'Guo', 'Hong', 'Hou', 'Huan', 'Jian', 'Jiao', 'Jin', 'Jiu', 'Juan', 'Jue', 'Kan', 'Kuai', 'Kuang', 'Kui', 'Lao', 'Liang', 'Lu:', 'Luo', 'Man', 'Nao', 'Pian', 'Qiao', 'Qing', 'Qiu', 'Rang', 'Rui', 'She', 'Shi', 'Shuo', 'Sui', 'Tai', 'Wan', 'Wei', 'Xian', 'Xie', 'Xin', 'Xing', 'Xiong', 'Xuan', 'Yan', 'Yin', 'Ying', 'Yuan', 'Yue', 'Yun', 'Zha', 'Zhai', 'Zhang', 'Zhi', 'Zhuan', 'Zhui']\n",
            "['Abe', 'Abukara', 'Adachi', 'Aida', 'Aihara', 'Aizawa', 'Ajibana', 'Akaike', 'Akamatsu', 'Akatsuka', 'Akechi', 'Akera', 'Akimoto', 'Akita', 'Akiyama', 'Akutagawa', 'Amagawa', 'Amaya', 'Amori', 'Anami', 'Ando', 'Anzai', 'Aoki', 'Arai', 'Arakawa', 'Araki', 'Arakida', 'Arato', 'Arihyoshi', 'Arishima', 'Arita', 'Ariwa', 'Ariwara', 'Asahara', 'Asahi', 'Asai', 'Asano', 'Asanuma', 'Asari', 'Ashia', 'Ashida', 'Ashikaga', 'Asuhara', 'Atshushi', 'Ayabito', 'Ayugai', 'Baba', 'Baisotei', 'Bando', 'Bunya', 'Chiba', 'Chikamatsu', 'Chikanatsu', 'Chino', 'Chishu', 'Choshi', 'Daishi', 'Dan', 'Date', 'Dazai', 'Deguchi', 'Deushi', 'Doi', 'Ebina', 'Ebisawa', 'Eda', 'Egami', 'Eguchi', 'Ekiguchi', 'Endo', 'Endoso', 'Enoki', 'Enomoto', 'Erizawa', 'Eto', 'Etsuko', 'Ezakiya', 'Fuchida', 'Fugunaga', 'Fujikage', 'Fujimaki', 'Fujimoto', 'Fujioka', 'Fujishima', 'Fujita', 'Fujiwara', 'Fukao', 'Fukayama', 'Fukuda', 'Fukumitsu', 'Fukunaka', 'Fukuoka', 'Fukusaku', 'Fukushima', 'Fukuyama', 'Fukuzawa', 'Fumihiko', 'Funabashi', 'Funaki', 'Funakoshi', 'Furusawa', 'Fuschida', 'Fuse', 'Futabatei', 'Fuwa', 'Gakusha', 'Genda', 'Genji', 'Gensai', 'Godo', 'Goto', 'Gushiken', 'Hachirobei', 'Haga', 'Hagino', 'Hagiwara', 'Hama', 'Hamacho', 'Hamada', 'Hamaguchi', 'Hamamoto', 'Hanabusa', 'Hanari', 'Handa', 'Hara', 'Harada', 'Haruguchi', 'Hasegawa', 'Hasekura', 'Hashimoto', 'Hasimoto', 'Hatakeda', 'Hatakeyama', 'Hatayama', 'Hatoyama', 'Hattori', 'Hayakawa', 'Hayami', 'Hayashi', 'Hayashida', 'Hayata', 'Hayuata', 'Hida', 'Hideaki', 'Hideki', 'Hideyoshi', 'Higashikuni', 'Higashiyama', 'Higo', 'Higoshi', 'Higuchi', 'Hike', 'Hino', 'Hira', 'Hiraga', 'Hiraki', 'Hirano', 'Hiranuma', 'Hiraoka', 'Hirase', 'Hirasi', 'Hirata', 'Hiratasuka', 'Hirayama', 'Hiro', 'Hirose', 'Hirota', 'Hiroyuki', 'Hisamatsu', 'Hishida', 'Hishikawa', 'Hitomi', 'Hiyama', 'Hohki', 'Hojo', 'Hokusai', 'Honami', 'Honda', 'Hori', 'Horigome', 'Horigoshi', 'Horiuchi', 'Horri', 'Hoshino', 'Hosokawa', 'Hosokaya', 'Hotate', 'Hotta', 'Hyata', 'Hyobanshi', 'Ibi', 'Ibu', 'Ibuka', 'Ichigawa', 'Ichihara', 'Ichikawa', 'Ichimonji', 'Ichiro', 'Ichisada', 'Ichiyusai', 'Idane', 'Iemochi', 'Ienari', 'Iesada', 'Ieyasu', 'Ieyoshi', 'Igarashi', 'Ihara', 'Ii', 'Iida', 'Iijima', 'Iitaka', 'Ijichi', 'Ijiri', 'Ikeda', 'Ikina', 'Ikoma', 'Imada', 'Imagawa', 'Imai', 'Imaizumi', 'Imamura', 'Imoo', 'Ina', 'Inaba', 'Inao', 'Inihara', 'Ino', 'Inoguchi', 'Inokuma', 'Inoue', 'Inouye', 'Inukai', 'Ippitsusai', 'Irie', 'Iriye', 'Isayama', 'Ise', 'Iseki', 'Iseya', 'Ishibashi', 'Ishida', 'Ishiguro', 'Ishihara', 'Ishikawa', 'Ishimaru', 'Ishimura', 'Ishinomori', 'Ishiyama', 'Isobe', 'Isoda', 'Isozaki', 'Itagaki', 'Itami', 'Ito', 'Itoh', 'Iwahara', 'Iwahashi', 'Iwakura', 'Iwasa', 'Iwasaki', 'Izumi', 'Jimbo', 'Jippensha', 'Jo', 'Joshuya', 'Joshuyo', 'Jukodo', 'Jumonji', 'Kada', 'Kagabu', 'Kagawa', 'Kahae', 'Kahaya', 'Kaibara', 'Kaima', 'Kajahara', 'Kajitani', 'Kajiwara', 'Kajiyama', 'Kakinomoto', 'Kakutama', 'Kamachi', 'Kamata', 'Kaminaga', 'Kamio', 'Kamioka', 'Kamisaka', 'Kamo', 'Kamon', 'Kan', 'Kanada', 'Kanagaki', 'Kanegawa', 'Kaneko', 'Kanesaka', 'Kano', 'Karamorita', 'Karube', 'Karubo', 'Kasahara', 'Kasai', 'Kasamatsu', 'Kasaya', 'Kase', 'Kashiwagi', 'Kasuse', 'Kataoka', 'Katayama', 'Katayanagi', 'Kate', 'Kato', 'Katoaka', 'Katsu', 'Katsukawa', 'Katsumata', 'Katsura', 'Katsushika', 'Kawabata', 'Kawachi', 'Kawagichi', 'Kawagishi', 'Kawaguchi', 'Kawai', 'Kawaii', 'Kawakami', 'Kawamata', 'Kawamura', 'Kawasaki', 'Kawasawa', 'Kawashima', 'Kawasie', 'Kawatake', 'Kawate', 'Kawayama', 'Kawazu', 'Kaza', 'Kazuyoshi', 'Kenkyusha', 'Kenmotsu', 'Kentaro', 'Ki', 'Kido', 'Kihara', 'Kijimuta', 'Kijmuta', 'Kikkawa', 'Kikuchi', 'Kikugawa', 'Kikui', 'Kikutake', 'Kimio', 'Kimiyama', 'Kimura', 'Kinashita', 'Kinoshita', 'Kinugasa', 'Kira', 'Kishi', 'Kiski', 'Kita', 'Kitabatake', 'Kitagawa', 'Kitamura', 'Kitano', 'Kitao', 'Kitoaji', 'Ko', 'Kobayashi', 'Kobi', 'Kodama', 'Koga', 'Kogara', 'Kogo', 'Koguchi', 'Koiso', 'Koizumi', 'Kojima', 'Kokan', 'Komagata', 'Komatsu', 'Komatsuzaki', 'Komine', 'Komiya', 'Komon', 'Komura', 'Kon', 'Konae', 'Konda', 'Kondo', 'Konishi', 'Kono', 'Konoe', 'Koruba', 'Koshin', 'Kotara', 'Kotoku', 'Koyama', 'Koyanagi', 'Kozu', 'Kubo', 'Kubota', 'Kudara', 'Kudo', 'Kuga', 'Kumagae', 'Kumasaka', 'Kunda', 'Kunikida', 'Kunisada', 'Kuno', 'Kunomasu', 'Kuramochi', 'Kuramoto', 'Kurata', 'Kurkawa', 'Kurmochi', 'Kuroda', 'Kurofuji', 'Kurogane', 'Kurohiko', 'Kuroki', 'Kurosawa', 'Kurusu', 'Kusatsu', 'Kusonoki', 'Kusuhara', 'Kusunoki', 'Kuwabara', 'Kwakami', 'Kyubei', 'Maeda', 'Maehata', 'Maeno', 'Maita', 'Makiguchi', 'Makino', 'Makioka', 'Makuda', 'Marubeni', 'Marugo', 'Marusa', 'Maruya', 'Maruyama', 'Masanobu', 'Masaoka', 'Mashita', 'Masoni', 'Masudu', 'Masuko', 'Masuno', 'Masuzoe', 'Matano', 'Matokai', 'Matoke', 'Matsuda', 'Matsukata', 'Matsuki', 'Matsumara', 'Matsumoto', 'Matsumura', 'Matsuo', 'Matsuoka', 'Matsura', 'Matsushina', 'Matsushita', 'Matsuya', 'Matsuzawa', 'Mayuzumi', 'Mazaki', 'Mazawa', 'Mazuka', 'Mifune', 'Mihashi', 'Miki', 'Mimasuya', 'Minabuchi', 'Minami', 'Minamoto', 'Minatoya', 'Minobe', 'Mishima', 'Mitsubishi', 'Mitsuharu', 'Mitsui', 'Mitsukuri', 'Mitsuwa', 'Mitsuya', 'Mitzusaka', 'Miura', 'Miwa', 'Miyagi', 'Miyahara', 'Miyajima', 'Miyake', 'Miyamae', 'Miyamoto', 'Miyazaki', 'Miyazawa', 'Miyoshi', 'Mizoguchi', 'Mizumaki', 'Mizuno', 'Mizutani', 'Modegi', 'Momotami', 'Momotani', 'Monomonoi', 'Mori', 'Moriguchi', 'Morimoto', 'Morinaga', 'Morioka', 'Morishita', 'Morisue', 'Morita', 'Morri', 'Moto', 'Motoori', 'Motoyoshi', 'Munakata', 'Munkata', 'Muraguchi', 'Murakami', 'Muraoka', 'Murasaki', 'Murase', 'Murata', 'Murkami', 'Muro', 'Muruyama', 'Mushanaokoji', 'Mushashibo', 'Muso', 'Mutsu', 'Nagahama', 'Nagai', 'Nagano', 'Nagasawa', 'Nagase', 'Nagata', 'Nagatsuka', 'Nagumo', 'Naito', 'Nakada', 'Nakadai', 'Nakadan', 'Nakae', 'Nakagawa', 'Nakahara', 'Nakajima', 'Nakamoto', 'Nakamura', 'Nakane', 'Nakanishi', 'Nakano', 'Nakanoi', 'Nakao', 'Nakasato', 'Nakasawa', 'Nakasone', 'Nakata', 'Nakatoni', 'Nakayama', 'Nakazawa', 'Namiki', 'Nanami', 'Narahashi', 'Narato', 'Narita', 'Nataga', 'Natsume', 'Nawabe', 'Nemoto', 'Niijima', 'Nijo', 'Ninomiya', 'Nishi', 'Nishihara', 'Nishikawa', 'Nishimoto', 'Nishimura', 'Nishimuraya', 'Nishio', 'Nishiwaki', 'Nitta', 'Nobunaga', 'Noda', 'Nogi', 'Noguchi', 'Nogushi', 'Nomura', 'Nonomura', 'Noro', 'Nosaka', 'Nose', 'Nozaki', 'Nozara', 'Numajiri', 'Numata', 'Obata', 'Obinata', 'Obuchi', 'Ochiai', 'Ochida', 'Odaka', 'Ogata', 'Ogiwara', 'Ogura', 'Ogyu', 'Ohba', 'Ohira', 'Ohishi', 'Ohka', 'Ohmae', 'Ohmiya', 'Oichi', 'Oinuma', 'Oishi', 'Okabe', 'Okada', 'Okakura', 'Okamoto', 'Okamura', 'Okanao', 'Okanaya', 'Okano', 'Okasawa', 'Okawa', 'Okazaki', 'Okazawaya', 'Okimasa', 'Okimoto', 'Okita', 'Okubo', 'Okuda', 'Okui', 'Okuma', 'Okuma', 'Okumura', 'Okura', 'Omori', 'Omura', 'Onishi', 'Ono', 'Onoda', 'Onoe', 'Onohara', 'Ooka', 'Osagawa', 'Osaragi', 'Oshima', 'Oshin', 'Ota', 'Otaka', 'Otake', 'Otani', 'Otomo', 'Otsu', 'Otsuka', 'Ouchi', 'Oyama', 'Ozaki', 'Ozawa', 'Ozu', 'Raikatuji', 'Royama', 'Ryusaki', 'Sada', 'Saeki', 'Saga', 'Saigo', 'Saiki', 'Saionji', 'Saito', 'Saitoh', 'Saji', 'Sakagami', 'Sakai', 'Sakakibara', 'Sakamoto', 'Sakanoue', 'Sakata', 'Sakiyurai', 'Sakoda', 'Sakubara', 'Sakuraba', 'Sakurai', 'Sammiya', 'Sanda', 'Sanjo', 'Sano', 'Santo', 'Saromi', 'Sarumara', 'Sasada', 'Sasakawa', 'Sasaki', 'Sassa', 'Satake', 'Sato', 'Satoh', 'Satoya', 'Sawamatsu', 'Sawamura', 'Sayuki', 'Segawa', 'Sekigawa', 'Sekine', 'Sekozawa', 'Sen', 'Senmatsu', 'Seo', 'Serizawa', 'Shiba', 'Shibaguchi', 'Shibanuma', 'Shibasaki', 'Shibasawa', 'Shibata', 'Shibukji', 'Shichirobei', 'Shidehara', 'Shiga', 'Shiganori', 'Shige', 'Shigeki', 'Shigemitsu', 'Shigi', 'Shikitei', 'Shikuk', 'Shima', 'Shimada', 'Shimakage', 'Shimamura', 'Shimanouchi', 'Shimaoka', 'Shimazaki', 'Shimazu', 'Shimedzu', 'Shimizu', 'Shimohira', 'Shimon', 'Shimura', 'Shimuzu', 'Shinko', 'Shinozaki', 'Shinozuka', 'Shintaro', 'Shiokawa', 'Shiomi', 'Shiomiya', 'Shionoya', 'Shiotani', 'Shioya', 'Shirahata', 'Shirai', 'Shiraishi', 'Shirane', 'Shirasu', 'Shiratori', 'Shirokawa', 'Shiroyama', 'Shiskikura', 'Shizuma', 'Shobo', 'Shoda', 'Shunji', 'Shunsen', 'Siagyo', 'Soga', 'Sohda', 'Soho', 'Soma', 'Someya', 'Sone', 'Sonoda', 'Soseki', 'Sotomura', 'Suenami', 'Sugai', 'Sugase', 'Sugawara', 'Sugihara', 'Sugimura', 'Sugisata', 'Sugita', 'Sugitani', 'Sugiyama', 'Sumitimo', 'Sunada', 'Suzambo', 'Suzuki', 'Tabuchi', 'Tadeshi', 'Tagawa', 'Taguchi', 'Taira', 'Taka', 'Takabe', 'Takagaki', 'Takagawa', 'Takagi', 'Takahama', 'Takahashi', 'Takaki', 'Takamura', 'Takano', 'Takaoka', 'Takara', 'Takarabe', 'Takashi', 'Takashita', 'Takasu', 'Takasugi', 'Takayama', 'Takecare', 'Takeda', 'Takei', 'Takekawa', 'Takemago', 'Takemitsu', 'Takemura', 'Takenouchi', 'Takeshita', 'Taketomo', 'Takeuchi', 'Takewaki', 'Takimoto', 'Takishida', 'Takishita', 'Takizawa', 'Taku', 'Takudo', 'Takudome', 'Tamazaki', 'Tamura', 'Tamuro', 'Tanaka', 'Tange', 'Tani', 'Taniguchi', 'Tanizaki', 'Tankoshitsu', 'Tansho', 'Tanuma', 'Tarumi', 'Tatenaka', 'Tatsuko', 'Tatsuno', 'Tatsuya', 'Tawaraya', 'Tayama', 'Temko', 'Tenshin', 'Terada', 'Terajima', 'Terakado', 'Terauchi', 'Teshigahara', 'Teshima', 'Tochikura', 'Togo', 'Tojo', 'Tokaji', 'Tokuda', 'Tokudome', 'Tokuoka', 'Tomika', 'Tomimoto', 'Tomioka', 'Tommii', 'Tomonaga', 'Tomori', 'Tono', 'Torii', 'Torisei', 'Toru', 'Toshishai', 'Toshitala', 'Toshusai', 'Toyama', 'Toyoda', 'Toyoshima', 'Toyota', 'Toyotomi', 'Tsubouchi', 'Tsucgimoto', 'Tsuchie', 'Tsuda', 'Tsuji', 'Tsujimoto', 'Tsujimura', 'Tsukada', 'Tsukade', 'Tsukahara', 'Tsukamoto', 'Tsukatani', 'Tsukawaki', 'Tsukehara', 'Tsukioka', 'Tsumemasa', 'Tsumura', 'Tsunoda', 'Tsurimi', 'Tsuruga', 'Tsuruya', 'Tsushima', 'Tsutaya', 'Tsutomu', 'Uboshita', 'Uchida', 'Uchiyama', 'Ueda', 'Uehara', 'Uemura', 'Ueshima', 'Uesugi', 'Uetake', 'Ugaki', 'Ui', 'Ukiyo', 'Umari', 'Umehara', 'Umeki', 'Uno', 'Uoya', 'Urogataya', 'Usami', 'Ushiba', 'Utagawa', 'Wakai', 'Wakatsuki', 'Watabe', 'Watanabe', 'Watari', 'Watnabe', 'Watoga', 'Yakuta', 'Yamabe', 'Yamada', 'Yamagata', 'Yamaguchi', 'Yamaguchiya', 'Yamaha', 'Yamahata', 'Yamakage', 'Yamakawa', 'Yamakazi', 'Yamamoto', 'Yamamura', 'Yamana', 'Yamanaka', 'Yamanouchi', 'Yamanoue', 'Yamaoka', 'Yamashita', 'Yamato', 'Yamawaki', 'Yamazaki', 'Yamhata', 'Yamura', 'Yanagawa', 'Yanagi', 'Yanagimoto', 'Yanagita', 'Yano', 'Yasuda', 'Yasuhiro', 'Yasui', 'Yasujiro', 'Yasukawa', 'Yasutake', 'Yoemon', 'Yokokawa', 'Yokoyama', 'Yonai', 'Yosano', 'Yoshida', 'Yoshifumi', 'Yoshihara', 'Yoshikawa', 'Yoshimatsu', 'Yoshinobu', 'Yoshioka', 'Yoshitomi', 'Yoshizaki', 'Yoshizawa', 'Yuasa', 'Yuhara', 'Yunokawa']\n"
          ]
        }
      ]
    },
    {
      "cell_type": "markdown",
      "source": [
        "- 각 category(언어)를 line(이름)에 매핑하는 dict인 category_lines 생성"
      ],
      "metadata": {
        "id": "-4UVvat6pOWn"
      }
    },
    {
      "cell_type": "code",
      "source": [
        "print(category_lines['Korean'][-3:])"
      ],
      "metadata": {
        "colab": {
          "base_uri": "https://localhost:8080/"
        },
        "id": "PXzKV6uGpN3T",
        "outputId": "a5294fbc-67d6-4752-e9e7-fe271ed786ef"
      },
      "execution_count": 316,
      "outputs": [
        {
          "output_type": "stream",
          "name": "stdout",
          "text": [
            "['Youn', 'Yu', 'Yun']\n"
          ]
        }
      ]
    },
    {
      "cell_type": "code",
      "source": [
        "print(category_lines['Japanese'][50:56])"
      ],
      "metadata": {
        "colab": {
          "base_uri": "https://localhost:8080/"
        },
        "id": "Vk0dC-D4pN5j",
        "outputId": "aefd1351-8bd0-46c0-eb3c-4c440847cc72"
      },
      "execution_count": 317,
      "outputs": [
        {
          "output_type": "stream",
          "name": "stdout",
          "text": [
            "['Chiba', 'Chikamatsu', 'Chikanatsu', 'Chino', 'Chishu', 'Choshi']\n"
          ]
        }
      ]
    },
    {
      "cell_type": "markdown",
      "source": [
        "## 이름을 텐서로 변경\n",
        "- 하나의 문자를 표현하기 위해 one-hot 벡터를 사용\n",
        "- 단어를 만들기 위해 one-hot 벡터들을 2차원 매트릭스로 만들어주어야 한다."
      ],
      "metadata": {
        "id": "ScXhvWsWpmjj"
      }
    },
    {
      "cell_type": "code",
      "source": [
        "import torch\n",
        "\n",
        "# all_letters로 문자의 위치(인덱스) 찾기 => 'a' -> 0\n",
        "def letterToIndex(letter) :\n",
        "  return all_letters.find(letter)\n",
        "\n",
        "# 문자 하나를 one-hot vector(1 * 문자 수) 텐서로 변환하는 함수\n",
        "def letterToTensor(letter):\n",
        "  t = torch.zeros(1, n_letters)    # 1 * n_letters 사이즈를 0으로 다 채워넣기\n",
        "  t[0][letterToIndex(letter)] = 1  # 문자의 위치(인덱스)를 찾아서 1로 바꿔주기(원핫인코딩)\n",
        "\n",
        "  return t"
      ],
      "metadata": {
        "id": "69PqMRTcpN7n"
      },
      "execution_count": 313,
      "outputs": []
    },
    {
      "cell_type": "code",
      "source": [
        "# 이름을 <line_length * 1 * n_letters>로 바꿔주어야 함\n",
        "# line_length * letterToTensor(= 1 * n_letters)\n",
        "def nameToTensor(name):\n",
        "  tensor = torch.zeros(len(name), 1, n_letters)\n",
        "  for n, letter in enumerate(name):  # enumerate -> 인덱스와 값을 반환해주는 함수\n",
        "    tensor[n][0][letterToIndex(letter)] = 1\n",
        "  return tensor"
      ],
      "metadata": {
        "id": "DWy2EhkvpN9b"
      },
      "execution_count": 318,
      "outputs": []
    },
    {
      "cell_type": "code",
      "source": [
        "print(letterToTensor('J'))"
      ],
      "metadata": {
        "colab": {
          "base_uri": "https://localhost:8080/"
        },
        "id": "q2eWfID99h0s",
        "outputId": "0641bfb3-f400-4b36-fadc-3c86fa0fd1b5"
      },
      "execution_count": 319,
      "outputs": [
        {
          "output_type": "stream",
          "name": "stdout",
          "text": [
            "tensor([[0., 0., 0., 0., 0., 0., 0., 0., 0., 0., 0., 0., 0., 0., 0., 0., 0., 0.,\n",
            "         0., 0., 0., 0., 0., 0., 0., 0., 0., 0., 0., 0., 0., 0., 0., 0., 0., 1.,\n",
            "         0., 0., 0., 0., 0., 0., 0., 0., 0., 0., 0., 0., 0., 0., 0., 0., 0., 0.,\n",
            "         0., 0., 0.]])\n"
          ]
        }
      ]
    },
    {
      "cell_type": "code",
      "source": [
        "print(letterToTensor('K'))"
      ],
      "metadata": {
        "colab": {
          "base_uri": "https://localhost:8080/"
        },
        "id": "0qfRepHOFzyj",
        "outputId": "8fdc0250-277c-4a87-cef0-7d73f0b330c0"
      },
      "execution_count": 321,
      "outputs": [
        {
          "output_type": "stream",
          "name": "stdout",
          "text": [
            "tensor([[0., 0., 0., 0., 0., 0., 0., 0., 0., 0., 0., 0., 0., 0., 0., 0., 0., 0.,\n",
            "         0., 0., 0., 0., 0., 0., 0., 0., 0., 0., 0., 0., 0., 0., 0., 0., 0., 0.,\n",
            "         1., 0., 0., 0., 0., 0., 0., 0., 0., 0., 0., 0., 0., 0., 0., 0., 0., 0.,\n",
            "         0., 0., 0.]])\n"
          ]
        }
      ]
    },
    {
      "cell_type": "code",
      "source": [
        "print(nameToTensor('Chiba'))"
      ],
      "metadata": {
        "colab": {
          "base_uri": "https://localhost:8080/"
        },
        "id": "5mWPP0Uh9h2z",
        "outputId": "1baeb816-a3c7-48d5-c783-33e3a785d98e"
      },
      "execution_count": 320,
      "outputs": [
        {
          "output_type": "stream",
          "name": "stdout",
          "text": [
            "tensor([[[0., 0., 0., 0., 0., 0., 0., 0., 0., 0., 0., 0., 0., 0., 0., 0., 0.,\n",
            "          0., 0., 0., 0., 0., 0., 0., 0., 0., 0., 0., 1., 0., 0., 0., 0., 0.,\n",
            "          0., 0., 0., 0., 0., 0., 0., 0., 0., 0., 0., 0., 0., 0., 0., 0., 0.,\n",
            "          0., 0., 0., 0., 0., 0.]],\n",
            "\n",
            "        [[0., 0., 0., 0., 0., 0., 0., 1., 0., 0., 0., 0., 0., 0., 0., 0., 0.,\n",
            "          0., 0., 0., 0., 0., 0., 0., 0., 0., 0., 0., 0., 0., 0., 0., 0., 0.,\n",
            "          0., 0., 0., 0., 0., 0., 0., 0., 0., 0., 0., 0., 0., 0., 0., 0., 0.,\n",
            "          0., 0., 0., 0., 0., 0.]],\n",
            "\n",
            "        [[0., 0., 0., 0., 0., 0., 0., 0., 1., 0., 0., 0., 0., 0., 0., 0., 0.,\n",
            "          0., 0., 0., 0., 0., 0., 0., 0., 0., 0., 0., 0., 0., 0., 0., 0., 0.,\n",
            "          0., 0., 0., 0., 0., 0., 0., 0., 0., 0., 0., 0., 0., 0., 0., 0., 0.,\n",
            "          0., 0., 0., 0., 0., 0.]],\n",
            "\n",
            "        [[0., 1., 0., 0., 0., 0., 0., 0., 0., 0., 0., 0., 0., 0., 0., 0., 0.,\n",
            "          0., 0., 0., 0., 0., 0., 0., 0., 0., 0., 0., 0., 0., 0., 0., 0., 0.,\n",
            "          0., 0., 0., 0., 0., 0., 0., 0., 0., 0., 0., 0., 0., 0., 0., 0., 0.,\n",
            "          0., 0., 0., 0., 0., 0.]],\n",
            "\n",
            "        [[1., 0., 0., 0., 0., 0., 0., 0., 0., 0., 0., 0., 0., 0., 0., 0., 0.,\n",
            "          0., 0., 0., 0., 0., 0., 0., 0., 0., 0., 0., 0., 0., 0., 0., 0., 0.,\n",
            "          0., 0., 0., 0., 0., 0., 0., 0., 0., 0., 0., 0., 0., 0., 0., 0., 0.,\n",
            "          0., 0., 0., 0., 0., 0.]]])\n"
          ]
        }
      ]
    },
    {
      "cell_type": "code",
      "source": [
        "print(nameToTensor('Chiba').size())\n",
        "# 문자 집합의 크기(all_letters의 크기) -> 57 -> 소문자(26) + 대문자(26) + 특수문자(5개)"
      ],
      "metadata": {
        "colab": {
          "base_uri": "https://localhost:8080/"
        },
        "id": "r8aPWREZ9h40",
        "outputId": "6e96bd28-896f-48fb-e43e-e5e46028cd9a"
      },
      "execution_count": 322,
      "outputs": [
        {
          "output_type": "stream",
          "name": "stdout",
          "text": [
            "torch.Size([5, 1, 57])\n"
          ]
        }
      ]
    },
    {
      "cell_type": "markdown",
      "source": [
        "## 모델 구현"
      ],
      "metadata": {
        "id": "_oftzUXkG1Z-"
      }
    },
    {
      "cell_type": "code",
      "source": [
        "import torch.nn as nn\n",
        "import torch.nn.functional as F\n",
        "\n",
        "class RNN(nn.Module):\n",
        "  def __init__(self, input_size, hidden_size, output_size):\n",
        "    super(RNN, self).__init__()\n",
        "\n",
        "    self.hidden_size = hidden_size\n",
        "\n",
        "    # input_size -> 입력층, hidden_size -> 은닉층, output_size = 출력층\n",
        "    self.i2h = nn.Linear(input_size ,hidden_size)  # M + N\n",
        "    self.h2h = nn.Linear(hidden_size, hidden_size) # N * N => (M * N) *(N * N) = (M * N)\n",
        "    self.h2o = nn.Linear(hidden_size, output_size) # N * P => (M * N) *(N * P) = (M * P)\n",
        "    self.softmax = nn.LogSoftmax(dim=1)  # M * P\n",
        "\n",
        "  def forward(self, input, hidden):\n",
        "    hidden =F.tanh(self.i2h(input) + self.h2h(hidden))\n",
        "    output = self.h2o(hidden)\n",
        "    output = self.softmax(output)\n",
        "\n",
        "    return output, hidden\n",
        "\n",
        "  def initHidden(self):\n",
        "    return torch.zeros(1, self.hidden_size)"
      ],
      "metadata": {
        "id": "VBsmkQJ7E2UZ"
      },
      "execution_count": 335,
      "outputs": []
    },
    {
      "cell_type": "code",
      "source": [
        "n_hidden = 128\n",
        "rnn = RNN(n_letters, n_hidden, n_categories)"
      ],
      "metadata": {
        "id": "Yq-pKBZbE2ZV"
      },
      "execution_count": 336,
      "outputs": []
    },
    {
      "cell_type": "code",
      "source": [
        "input = letterToTensor('A')\n",
        "hidden = torch.zeros(1, n_hidden)\n",
        "\n",
        "output_l, next_hidden = rnn(input, hidden)\n",
        "print(output_l)"
      ],
      "metadata": {
        "colab": {
          "base_uri": "https://localhost:8080/"
        },
        "id": "nE3-FGpKMFKn",
        "outputId": "fa7f146d-83f3-4a79-da4c-ddf37145ede7"
      },
      "execution_count": 337,
      "outputs": [
        {
          "output_type": "stream",
          "name": "stdout",
          "text": [
            "tensor([[-2.9503, -2.7255, -2.8434, -2.8709, -2.9646, -2.9092, -2.8721, -2.7228,\n",
            "         -2.9799, -2.8634, -2.9368, -2.9655, -2.8989, -2.9524, -2.8838, -2.9462,\n",
            "         -2.8518, -2.9378]], grad_fn=<LogSoftmaxBackward0>)\n"
          ]
        }
      ]
    },
    {
      "cell_type": "code",
      "source": [
        "input = nameToTensor('Albert')\n",
        "hidden = torch.zeros(1, n_hidden)\n",
        "\n",
        "output_n, next_hidden = rnn(input[0], hidden)\n",
        "print(output_n)"
      ],
      "metadata": {
        "colab": {
          "base_uri": "https://localhost:8080/"
        },
        "id": "qTUZ7-2EMFMz",
        "outputId": "8ea7b77d-ee27-4fc7-e3bd-0fd33429a386"
      },
      "execution_count": 338,
      "outputs": [
        {
          "output_type": "stream",
          "name": "stdout",
          "text": [
            "tensor([[-2.9503, -2.7255, -2.8434, -2.8709, -2.9646, -2.9092, -2.8721, -2.7228,\n",
            "         -2.9799, -2.8634, -2.9368, -2.9655, -2.8989, -2.9524, -2.8838, -2.9462,\n",
            "         -2.8518, -2.9378]], grad_fn=<LogSoftmaxBackward0>)\n"
          ]
        }
      ]
    },
    {
      "cell_type": "markdown",
      "source": [
        "## 학습 준비\n",
        "- Helper function을 선언\n",
        "  - 주의! 네트워크에는 softmax layer가 들어가 있다 -> crossentropy를 사용하면 안 됨!\n",
        "  - FC layer의 마지막 출력층에 softmax 함수가 적용된다면 crossendtropy를 쓸 수 없다 -> NLL(Negative Log Likelihood) loss를 써야함"
      ],
      "metadata": {
        "id": "BoZAVMG6QpFR"
      }
    },
    {
      "cell_type": "code",
      "source": [
        "# Helper function\n",
        "def categoryFromOutput(output):\n",
        "  top_n, top_i = output.topk(1)\n",
        "  category_i = top_i[0].item()  # 텐서에서 정수값으로 변경\n",
        "\n",
        "  return all_categories[category_i], category_i\n",
        "\n",
        "print(categoryFromOutput(output_l))"
      ],
      "metadata": {
        "colab": {
          "base_uri": "https://localhost:8080/"
        },
        "id": "E60k-QH2NXPR",
        "outputId": "ceb0a17c-b7fa-4b85-d715-5800353fe6fd"
      },
      "execution_count": 339,
      "outputs": [
        {
          "output_type": "stream",
          "name": "stdout",
          "text": [
            "('Arabic', 7)\n"
          ]
        }
      ]
    },
    {
      "cell_type": "code",
      "source": [
        "import random\n",
        "\n",
        "def randomChoice(l) :\n",
        "\n",
        "  return l[random.randint(0, len(l) - 1)]\n",
        "\n",
        "def randomTrainingExample():\n",
        "  category = randomChoice(all_categories)\n",
        "  name = randomChoice(category_lines[category])  # category_lines -> 딕셔너리 형태\n",
        "  category_tensor = torch.tensor([all_categories.index(category)], dtype=torch.long)\n",
        "  name_tensor = nameToTensor(name)\n",
        "\n",
        "  return category, name, category_tensor, name_tensor\n",
        "\n",
        "for _ in range(10):\n",
        "  category, name, category_tensor, name_tensor = randomTrainingExample()\n",
        "  print('category =', category, '/ name =', name)"
      ],
      "metadata": {
        "colab": {
          "base_uri": "https://localhost:8080/"
        },
        "id": "BO3z9_QzNrI6",
        "outputId": "6ca77fdc-2d8b-419b-a6a7-4d15e8cbfcf6"
      },
      "execution_count": 340,
      "outputs": [
        {
          "output_type": "stream",
          "name": "stdout",
          "text": [
            "category = Italian / name = Cattaneo\n",
            "category = Chinese / name = Khoo\n",
            "category = Portuguese / name = Campos\n",
            "category = Italian / name = Busto\n",
            "category = Polish / name = Sienkiewicz\n",
            "category = Scottish / name = Mackay\n",
            "category = Greek / name = Pezos\n",
            "category = Italian / name = Tamaro\n",
            "category = Portuguese / name = Romao\n",
            "category = Italian / name = Colombo\n"
          ]
        }
      ]
    },
    {
      "cell_type": "markdown",
      "source": [
        "## 모델 학습\n",
        "- nn.CELoss => nn.NLLLoss + Softmax()"
      ],
      "metadata": {
        "id": "PCyDE_oQVw6G"
      }
    },
    {
      "cell_type": "code",
      "source": [
        "critierion = nn.NLLLoss()"
      ],
      "metadata": {
        "id": "OSjX658WTB20"
      },
      "execution_count": 341,
      "outputs": []
    },
    {
      "cell_type": "code",
      "source": [
        "lr = 0.005     # 학습률이 너무 높으면 과적합이 발생할 수 있음"
      ],
      "metadata": {
        "id": "4ED0AdMsTB92"
      },
      "execution_count": 342,
      "outputs": []
    },
    {
      "cell_type": "code",
      "source": [
        "def train(category_tensor, name_tensor):\n",
        "  hidden = rnn.initHidden()\n",
        "\n",
        "  rnn.zero_grad()\n",
        "\n",
        "  for i in range(name_tensor.size()[0]):\n",
        "    output, hidden = rnn(name_tensor[i], hidden)\n",
        "\n",
        "    loss = criterion(output, category_tensor)\n",
        "    loss.backward()\n",
        "\n",
        "    for p in rnn.parameters():\n",
        "      p.data.add_(p.grad.data, alpha=-lr)  # _접미사 -> 바꿔치기(in-place) 연산\n",
        "\n",
        "    return output, loss.item()"
      ],
      "metadata": {
        "id": "2zW_ziqdTCHh"
      },
      "execution_count": 343,
      "outputs": []
    },
    {
      "cell_type": "code",
      "source": [
        "import time\n",
        "import math\n",
        "\n",
        "n_iters = 100000\n",
        "print_every = 5000\n",
        "plot_every = 1000\n",
        "\n",
        "# 시각화를 위한 loss 그래프\n",
        "current_loss = 0\n",
        "all_losses = list()\n",
        "\n",
        "# Runtime 계산을 위한 시간 체크 함수\n",
        "def timeSince(since):\n",
        "  now = time.time()\n",
        "  s = now - since\n",
        "  m = math.floor(s / 60)\n",
        "  s -= m * 60\n",
        "\n",
        "  return '%dm %ds' % (m, s)\n",
        "\n",
        "start = time.time()\n",
        "\n",
        "for iter in range(1, n_iters + 1):\n",
        "  category, name, category_tensor, name_tensor = randomTrainingExample()\n",
        "  output,loss = train(category_tensor, name_tensor)\n",
        "  current_loss += loss\n",
        "\n",
        "  if iter % print_every == 0:\n",
        "    g, g_i = categoryFromOutput(output)\n",
        "    correct = '✓' if g == category else '✗ (%s)' % category\n",
        "    print('%d %d%% (%s) %.4f %s %s' % (iter, iter / n_iters * 100, timeSince(start), loss, g, correct))\n",
        "    # %d -> 정수 / %s -> 문자열 / %.4f -> 정수 소수점 넷째 자리까지\n",
        "\n",
        "  if iter % plot_every == 0:\n",
        "    all_losses.append(current_loss / plot_every)\n",
        "    current_loss = 0"
      ],
      "metadata": {
        "colab": {
          "base_uri": "https://localhost:8080/"
        },
        "id": "1PQIMkMSasPa",
        "outputId": "91ec6b1d-ddbb-407b-cc48-4c204cce8a47"
      },
      "execution_count": 346,
      "outputs": [
        {
          "output_type": "stream",
          "name": "stdout",
          "text": [
            "5000 5% (0m 4s) 1.7774 Dutch ✓\n",
            "10000 10% (0m 9s) 1.8656 Polish ✓\n",
            "15000 15% (0m 13s) 1.3855 Vietnamese ✓\n",
            "20000 20% (0m 19s) 2.2445 French ✗ (German)\n",
            "25000 25% (0m 24s) 1.4481 Vietnamese ✓\n",
            "30000 30% (0m 28s) 2.3954 German ✗ (Arabic)\n",
            "35000 35% (0m 32s) 3.0831 French ✗ (Czech)\n",
            "40000 40% (0m 37s) 3.4861 Polish ✗ (Greek)\n",
            "45000 45% (0m 42s) 2.0660 Italian ✗ (Arabic)\n",
            "50000 50% (0m 46s) 3.6269 Dutch ✗ (Greek)\n",
            "55000 55% (0m 51s) 2.3245 Polish ✗ (Dutch)\n",
            "60000 60% (0m 55s) 2.2001 Italian ✗ (Japanese)\n",
            "65000 65% (0m 59s) 2.4508 Scottish ✗ (Portuguese)\n",
            "70000 70% (1m 5s) 2.5636 Polish ✗ (Portuguese)\n",
            "75000 75% (1m 9s) 2.2729 Greek ✗ (Czech)\n",
            "80000 80% (1m 13s) 1.4881 Russian ✓\n",
            "85000 85% (1m 18s) 1.9728 Japanese ✓\n",
            "90000 90% (1m 22s) 2.5957 Czech ✗ (English)\n",
            "95000 95% (1m 26s) 3.6297 Polish ✗ (Irish)\n",
            "100000 100% (1m 31s) 2.1675 Polish ✗ (English)\n"
          ]
        }
      ]
    },
    {
      "cell_type": "code",
      "source": [
        "import matplotlib.pyplot as plt\n",
        "import matplotlib.ticker as ticker\n",
        "\n",
        "plt.figure()\n",
        "plt.plot(all_losses)"
      ],
      "metadata": {
        "colab": {
          "base_uri": "https://localhost:8080/",
          "height": 448
        },
        "id": "SztscjsxasSR",
        "outputId": "83b02167-c0c1-47bb-a126-b1b70c1fd546"
      },
      "execution_count": 347,
      "outputs": [
        {
          "output_type": "execute_result",
          "data": {
            "text/plain": [
              "[<matplotlib.lines.Line2D at 0x7dab6e990880>]"
            ]
          },
          "metadata": {},
          "execution_count": 347
        },
        {
          "output_type": "display_data",
          "data": {
            "text/plain": [
              "<Figure size 640x480 with 1 Axes>"
            ],
            "image/png": "[encoded data removed]"
          },
          "metadata": {}
        }
      ]
    },
    {
      "cell_type": "markdown",
      "source": [
        "##  Confusion Matrix (분류 평가 지표)\n",
        "\n",
        "- tp, tn, fp, fn\n",
        "\n",
        "- Row가 label, Column이 prediction\n",
        "- 실제 언어가 네트워크에서 어떤 언어로 추론이 되는지를 확인하기 위한 혼란, 혼돈 행렬\n",
        "- 가시적으로 보기 위함"
      ],
      "metadata": {
        "id": "XTaN0rUJitiD"
      }
    },
    {
      "cell_type": "code",
      "source": [
        "confusion = torch.zeros(n_categories, n_categories) # 18 * 18 사이즈를 0으로 초기화\n",
        "n_conf = 10000\n",
        "\n",
        "def evaluate(name_tensor):\n",
        "\n",
        "  hidden = rnn.initHidden()\n",
        "\n",
        "  for i in range(name_tensor.size()[0]):\n",
        "    output, hidden = rnn(name_tensor[i], hidden)\n",
        "\n",
        "  return output"
      ],
      "metadata": {
        "id": "kPSxXSxuasUb"
      },
      "execution_count": 348,
      "outputs": []
    },
    {
      "cell_type": "code",
      "source": [
        "for i in range(n_conf):\n",
        "  category, name, category_tensor, name_tensor = randomTrainingExample()\n",
        "  output = evaluate(name_tensor)\n",
        "  g, g_i = categoryFromOutput(output)\n",
        "  category_i = all_categories.index(category)\n",
        "  confusion[category_i][g_i] += 1\n",
        "\n",
        "for i in range(n_categories):\n",
        "  confusion[i] = confusion[i] / confusion[i].sum()\n",
        "\n",
        "fig = plt.figure()\n",
        "ax = fig.add_subplot(111)\n",
        "cax = ax.matshow(confusion.numpy())\n",
        "fig.colorbar(cax)\n",
        "\n",
        "ax.set_xticklabels([''] + all_categories, rotation=90)\n",
        "ax.set_yticklabels([''] + all_categories)\n",
        "\n",
        "ax.xaxis.set_major_locator(ticker.MultipleLocator(1))\n",
        "ax.yaxis.set_major_locator(ticker.MultipleLocator(1))\n",
        "\n",
        "plt.show()"
      ],
      "metadata": {
        "colab": {
          "base_uri": "https://localhost:8080/",
          "height": 579
        },
        "id": "NS7kGk2jokDn",
        "outputId": "01a3623e-7814-469b-d8a0-cb4d492d6b0d"
      },
      "execution_count": 350,
      "outputs": [
        {
          "output_type": "stream",
          "name": "stderr",
          "text": [
            "<ipython-input-350-425c9309f1de>:16: UserWarning: FixedFormatter should only be used together with FixedLocator\n",
            "  ax.set_xticklabels([''] + all_categories, rotation=90)\n",
            "<ipython-input-350-425c9309f1de>:17: UserWarning: FixedFormatter should only be used together with FixedLocator\n",
            "  ax.set_yticklabels([''] + all_categories)\n"
          ]
        },
        {
          "output_type": "display_data",
          "data": {
            "text/plain": [
              "<Figure size 640x480 with 2 Axes>"
            ],
            "image/png": "[encoded data removed]"
          },
          "metadata": {}
        }
      ]
    },
    {
      "cell_type": "code",
      "source": [
        "def predict(input_line, n_predictions=3):\n",
        "  print('\\n > %s' % input_line)\n",
        "\n",
        "  with torch.no_grad():\n",
        "    output = evaluate(nameToTensor(input_line))\n",
        "\n",
        "    # Topk prediction\n",
        "    topv, topi = output.topk(n_predictions, 1, True)\n",
        "    predictions = list()\n",
        "\n",
        "    for i in range(n_predictions):\n",
        "        value = topv[0][i].item()\n",
        "        category_index = topi[0][i].item()\n",
        "        print('(%.2f) %s' % (value, all_categories[category_index]))\n",
        "        predictions.append([value, all_categories[category_index]])\n",
        "\n",
        "predict('Jackson')"
      ],
      "metadata": {
        "colab": {
          "base_uri": "https://localhost:8080/"
        },
        "id": "tjpDrqicokN4",
        "outputId": "4de2bc9f-3150-42f8-b3b1-78f673396a90"
      },
      "execution_count": 351,
      "outputs": [
        {
          "output_type": "stream",
          "name": "stdout",
          "text": [
            "\n",
            " > Jackson\n",
            "(-2.41) Chinese\n",
            "(-2.56) English\n",
            "(-2.56) Russian\n"
          ]
        }
      ]
    },
    {
      "cell_type": "code",
      "source": [
        "predict('Chiba')"
      ],
      "metadata": {
        "colab": {
          "base_uri": "https://localhost:8080/"
        },
        "id": "b33OQOlNokXY",
        "outputId": "fa6d5525-51ec-4638-dcaf-0de3a76cc07e"
      },
      "execution_count": 352,
      "outputs": [
        {
          "output_type": "stream",
          "name": "stdout",
          "text": [
            "\n",
            " > Chiba\n",
            "(-0.76) Vietnamese\n",
            "(-2.66) Russian\n",
            "(-3.07) English\n"
          ]
        }
      ]
    },
    {
      "cell_type": "code",
      "source": [
        "predict('Choi')"
      ],
      "metadata": {
        "colab": {
          "base_uri": "https://localhost:8080/"
        },
        "id": "_y5l-Af8sU8N",
        "outputId": "17d7e880-9037-4418-babf-f30379ac6f4d"
      },
      "execution_count": 353,
      "outputs": [
        {
          "output_type": "stream",
          "name": "stdout",
          "text": [
            "\n",
            " > Choi\n",
            "(-2.33) Russian\n",
            "(-2.37) Spanish\n",
            "(-2.58) English\n"
          ]
        }
      ]
    }
  ]
}