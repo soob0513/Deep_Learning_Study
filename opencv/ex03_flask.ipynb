{
 "cells": [
  {
   "cell_type": "markdown",
   "metadata": {},
   "source": [
    "# 플라스크"
   ]
  },
  {
   "cell_type": "code",
   "execution_count": 1,
   "metadata": {},
   "outputs": [
    {
     "name": "stdout",
     "output_type": "stream",
     "text": [
      "Collecting flask\n",
      "  Downloading flask-3.0.3-py3-none-any.whl.metadata (3.2 kB)\n",
      "Collecting Werkzeug>=3.0.0 (from flask)\n",
      "  Downloading werkzeug-3.0.3-py3-none-any.whl.metadata (3.7 kB)\n",
      "Collecting Jinja2>=3.1.2 (from flask)\n",
      "  Downloading jinja2-3.1.4-py3-none-any.whl.metadata (2.6 kB)\n",
      "Collecting itsdangerous>=2.1.2 (from flask)\n",
      "  Downloading itsdangerous-2.2.0-py3-none-any.whl.metadata (1.9 kB)\n",
      "Collecting click>=8.1.3 (from flask)\n",
      "  Downloading click-8.1.7-py3-none-any.whl.metadata (3.0 kB)\n",
      "Collecting blinker>=1.6.2 (from flask)\n",
      "  Downloading blinker-1.8.2-py3-none-any.whl.metadata (1.6 kB)\n",
      "Requirement already satisfied: colorama in c:\\users\\smhrd\\anaconda3\\envs\\opencv\\lib\\site-packages (from click>=8.1.3->flask) (0.4.6)\n",
      "Collecting MarkupSafe>=2.0 (from Jinja2>=3.1.2->flask)\n",
      "  Downloading MarkupSafe-2.1.5-cp311-cp311-win_amd64.whl.metadata (3.1 kB)\n",
      "Downloading flask-3.0.3-py3-none-any.whl (101 kB)\n",
      "   ---------------------------------------- 0.0/101.7 kB ? eta -:--:--\n",
      "   ---------------- ----------------------- 41.0/101.7 kB 2.0 MB/s eta 0:00:01\n",
      "   ---------------------------------------- 101.7/101.7 kB 2.0 MB/s eta 0:00:00\n",
      "Downloading blinker-1.8.2-py3-none-any.whl (9.5 kB)\n",
      "Downloading click-8.1.7-py3-none-any.whl (97 kB)\n",
      "   ---------------------------------------- 0.0/97.9 kB ? eta -:--:--\n",
      "   ---------------------------------------- 97.9/97.9 kB ? eta 0:00:00\n",
      "Downloading itsdangerous-2.2.0-py3-none-any.whl (16 kB)\n",
      "Downloading jinja2-3.1.4-py3-none-any.whl (133 kB)\n",
      "   ---------------------------------------- 0.0/133.3 kB ? eta -:--:--\n",
      "   ---------------------------------------- 133.3/133.3 kB 4.0 MB/s eta 0:00:00\n",
      "Downloading werkzeug-3.0.3-py3-none-any.whl (227 kB)\n",
      "   ---------------------------------------- 0.0/227.3 kB ? eta -:--:--\n",
      "   --------------------------------------- 227.3/227.3 kB 14.5 MB/s eta 0:00:00\n",
      "Downloading MarkupSafe-2.1.5-cp311-cp311-win_amd64.whl (17 kB)\n",
      "Installing collected packages: MarkupSafe, itsdangerous, click, blinker, Werkzeug, Jinja2, flask\n",
      "Successfully installed Jinja2-3.1.4 MarkupSafe-2.1.5 Werkzeug-3.0.3 blinker-1.8.2 click-8.1.7 flask-3.0.3 itsdangerous-2.2.0\n"
     ]
    }
   ],
   "source": [
    "# Flask 설치\n",
    "!pip install flask"
   ]
  },
  {
   "cell_type": "markdown",
   "metadata": {},
   "source": [
    "### 플라스크 개요\n",
    "- 파이썬으로 작성된 마이크로 웹 프레임워크\n",
    "- Flask는 웹 애플리케이션을 구축하는 데 필요한 핵심 기능을 제공하는 데 중점을 둔 단순하고 미니멀한 디자인으로 유명\n",
    "- Python을 사용해 웹 애플리케이션과 API를 구축하는 데 널리 사용되고 있음"
   ]
  },
  {
   "cell_type": "markdown",
   "metadata": {},
   "source": [
    "### 플라스크 사용 방법\n",
    "- app = Flask(name)\n",
    "    - 플라스크 어플리케이션을 생성하는 코드\n",
    "    - 플라스크 어플리케이션을 초기화하고 구성\n",
    "    - 기본적으로 app.py를 실행\n",
    "- @app.route('/')\n",
    "    - 해당 주소에서 @app.route('/') 다음에 나오는 함수를 실행한다는 의미\n",
    "    - ex) www.naver.com/mail 주소가 있을 때, @app.route('/mail) 뒤에 메일 관련 함수가 오고, 네이버에서 mail을 누르면 (www.naver.com/mail로 이동하면) 메일 관련 함수가 실행"
   ]
  },
  {
   "cell_type": "code",
   "execution_count": null,
   "metadata": {},
   "outputs": [
    {
     "name": "stderr",
     "output_type": "stream",
     "text": [
      "���� ������ �ùٸ��� �ʽ��ϴ�.\n",
      "���� ������ �ùٸ��� �ʽ��ϴ�.\n",
      "'touch'��(��) ���� �Ǵ� �ܺ� ����, ������ �� �ִ� ���α׷�, �Ǵ�\n",
      "��ġ ������ �ƴմϴ�.\n",
      "'touch'��(��) ���� �Ǵ� �ܺ� ����, ������ �� �ִ� ���α׷�, �Ǵ�\n",
      "��ġ ������ �ƴմϴ�.\n"
     ]
    }
   ],
   "source": [
    "!mkdir -p flask/static\n",
    "!mkdir -p flask/templates\n",
    "!touch flask/app.py\n",
    "!touch flask/templates/profile.html\n",
    "\n",
    "# 실행했을 때 안 만들어지면 직접 폴더 만들기"
   ]
  },
  {
   "cell_type": "code",
   "execution_count": 3,
   "metadata": {},
   "outputs": [
    {
     "name": "stdout",
     "output_type": "stream",
     "text": [
      "^C\n"
     ]
    }
   ],
   "source": [
    "!python flask/app.py"
   ]
  },
  {
   "cell_type": "code",
   "execution_count": 1,
   "metadata": {},
   "outputs": [
    {
     "name": "stdout",
     "output_type": "stream",
     "text": [
      "End\n"
     ]
    }
   ],
   "source": [
    "import cv2\n",
    "video = cv2.VideoCapture('videos/puppy.mp4')\n",
    "\n",
    "video.set(cv2.CAP_PROP_FRAME_WIDTH, 640)\n",
    "video.set(cv2.CAP_PROP_FRAME_HEIGHT, 360)\n",
    "\n",
    "while video.isOpened() :\n",
    "    _, frame = video.read()\n",
    "    cv2.imshow('Camera Window', frame)\n",
    "    if cv2.waitKey(25) == ord('q'):\n",
    "        print('End')\n",
    "        break\n",
    "\n",
    "video.release()\n",
    "cv2.destroyAllWindows()"
   ]
  },
  {
   "cell_type": "markdown",
   "metadata": {},
   "source": [
    "### 웹 화면에 카메라 출력\n",
    "- yield() 함수\n",
    "    - return과 비슷\n",
    "    - return은 모든 결과에 대한 처리를 메모리에 올림\n",
    "    - yield는 함수에서 요청할 때만 사용하고, 다음 부분은 사용하지 않음 -> 메모리 절약\n",
    "    - flask 프로젝트에서 객체를 yield로 반환\n",
    "    \n",
    "- generator\n",
    "    - 최소 하나의 yield를 포함\n",
    "    - next() 메소드가 자동으로 실행\n",
    "\n",
    "- MIME 타입\n",
    "    - 미디어 타입 설정\n",
    "    - multypart/x-mixed-replace은 이미지들을 연속적으로 전송하여 애니메이션 같은 효과"
   ]
  },
  {
   "cell_type": "code",
   "execution_count": 4,
   "metadata": {},
   "outputs": [
    {
     "name": "stdout",
     "output_type": "stream",
     "text": [
      "^C\n"
     ]
    }
   ],
   "source": [
    "!python flask/app2.py"
   ]
  }
 ],
 "metadata": {
  "kernelspec": {
   "display_name": "opencv",
   "language": "python",
   "name": "python3"
  },
  "language_info": {
   "codemirror_mode": {
    "name": "ipython",
    "version": 3
   },
   "file_extension": ".py",
   "mimetype": "text/x-python",
   "name": "python",
   "nbconvert_exporter": "python",
   "pygments_lexer": "ipython3",
   "version": "3.11.9"
  }
 },
 "nbformat": 4,
 "nbformat_minor": 2
}
