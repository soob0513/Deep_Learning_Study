{
  "nbformat": 4,
  "nbformat_minor": 0,
  "metadata": {
    "colab": {
      "provenance": []
    },
    "kernelspec": {
      "name": "python3",
      "display_name": "Python 3"
    },
    "language_info": {
      "name": "python"
    }
  },
  "cells": [
    {
      "cell_type": "markdown",
      "source": [
        "# Calibration과 Fusion\n",
        "#### calibration은 서로 다른 여러 개의 좌표계를 맞추는 과정 -> 센서로!\n",
        "#### fusion은 calibration을 통해서 나온 결과를 이용하는 것\n",
        "- Camera calibration은 카메라의 내부 파라미터(Intrinsic Parameter)를 구하는 과정\n",
        "- Camera calibration 작업은 checkerboard(체크판)를 통해서 이루어진다."
      ],
      "metadata": {
        "id": "NGTmuIXq5eyh"
      }
    },
    {
      "cell_type": "markdown",
      "source": [
        "# LiDAR-Camera Calibration\n",
        "- LiDAR-Camera calibration은 서로 다른 두 좌표계를 일치시키는 작업\n",
        "- 카메라와 LiDAR 좌표계 간의 외부 파라미터(Extrinsic Parameter)를 구하는 것\n",
        "\n",
        "## Time offset Calibration\n",
        "- Time offset calibration은 수집한 데이터의 time stamp를 맞추는 작업\n",
        "- 각각 sensor마다 수집하는 데이터의 주기가 다르기 때문에 리를 똑같이 맞춰주어야 사용 가능"
      ],
      "metadata": {
        "id": "HOGemLFg61aV"
      }
    },
    {
      "cell_type": "markdown",
      "source": [
        "### Hand-Eye calibration\n",
        "- 로봇팔과 카메라의 좌표계를 일치시키는 작업"
      ],
      "metadata": {
        "id": "3GcfUba47Mn9"
      }
    }
  ]
}