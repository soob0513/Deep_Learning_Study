{
  "nbformat": 4,
  "nbformat_minor": 0,
  "metadata": {
    "colab": {
      "provenance": []
    },
    "kernelspec": {
      "name": "python3",
      "display_name": "Python 3"
    },
    "language_info": {
      "name": "python"
    }
  },
  "cells": [
    {
      "cell_type": "code",
      "execution_count": 1,
      "metadata": {
        "colab": {
          "base_uri": "https://localhost:8080/"
        },
        "id": "Gj6lvOoXPWkZ",
        "outputId": "0ad437b7-a8b3-4788-8608-8417d801b487"
      },
      "outputs": [
        {
          "output_type": "stream",
          "name": "stdout",
          "text": [
            "Mounted at /content/drive\n"
          ]
        }
      ],
      "source": [
        "from google.colab import drive\n",
        "drive.mount('/content/drive')"
      ]
    },
    {
      "cell_type": "code",
      "source": [
        "%cd /content/drive/MyDrive/Colab Notebooks/딥러닝"
      ],
      "metadata": {
        "colab": {
          "base_uri": "https://localhost:8080/"
        },
        "id": "roVA-Cj_PZ2J",
        "outputId": "0d5f7e5c-98dd-4d3a-d2dd-c53da17ed767"
      },
      "execution_count": 2,
      "outputs": [
        {
          "output_type": "stream",
          "name": "stdout",
          "text": [
            "/content/drive/MyDrive/Colab Notebooks/딥러닝\n"
          ]
        }
      ]
    },
    {
      "cell_type": "code",
      "source": [
        "import torch"
      ],
      "metadata": {
        "id": "KlaQjPIIPZ4Y"
      },
      "execution_count": 3,
      "outputs": []
    },
    {
      "cell_type": "markdown",
      "source": [
        "### 파이썬으로 RNN 구현하기"
      ],
      "metadata": {
        "id": "zjpZqgcbVrOP"
      }
    },
    {
      "cell_type": "markdown",
      "source": [
        "```\n",
        "# 아래의 코드는 의사 코드(pseudocode)로 실제 동작하는 코드가 아님.\n",
        "\n",
        "hidden_state_t = 0 # 초기 은닉 상태를 0(벡터)로 초기화\n",
        "for input_t in input_length: # 각 시점마다 입력을 받는다.\n",
        "     output_t = tanh(input_t, hidden_state_t) # 각 시점에 대해서 입력과 은닉 상태를 가지고 연산\n",
        "     hidden_state_t = output_t # 연산 결과를 다음 시점의 은닉 상태로 사용\n",
        "```"
      ],
      "metadata": {
        "id": "25r1JfOZVfJG"
      }
    },
    {
      "cell_type": "code",
      "source": [
        "import numpy as np\n",
        "\n",
        "timesteps = 10  # 시점의 수 -> NLP 분야에서는 보통 문장의 길이! (구성하는 단어의 수)\n",
        "input_size = 4 # 단어 벡터 디멘진. 입력의 차원, NLP에서는 보통 단어 벡터의 차원이 된다.\n",
        "hidden_size = 8 # 은닉 상태의 크기 -> 메모리 셀의 용량\n",
        "\n",
        "inputs = np.random.random((timesteps, input_size))  # 입력에 해당되는 2D 텐서\n",
        "\n",
        "hidden_state_t = np.zeros((hidden_size,))  # 초기 은닉 상태는 0(벡터)로 초기화\n",
        "# 은닉 상태의 크기 hidden_size로 은닉 상태를 만듦."
      ],
      "metadata": {
        "id": "0me_FTMSPZ6o"
      },
      "execution_count": 7,
      "outputs": []
    },
    {
      "cell_type": "markdown",
      "source": [
        "- 시점, 입력의 차원, 은닉 상태의 크기, 그리고 초기 은닉 상태를 정의한 상태\n",
        "- 현재 초기 은닉 상태는 0의 값을 가지는 벡터로 초기화가 된 상태"
      ],
      "metadata": {
        "id": "fzePbkPQUJIj"
      }
    },
    {
      "cell_type": "code",
      "source": [
        "print(hidden_state_t)  # 8의 크기를 가지는 은닉 상태. 현재는 초기 은닉 상태로 모든 차원이 9의 값을 가짐."
      ],
      "metadata": {
        "colab": {
          "base_uri": "https://localhost:8080/"
        },
        "id": "xWbYZUhYPZ8s",
        "outputId": "7eaaf46c-c04f-4b58-f697-aaeb903a62a0"
      },
      "execution_count": 8,
      "outputs": [
        {
          "output_type": "stream",
          "name": "stdout",
          "text": [
            "[0. 0. 0. 0. 0. 0. 0. 0.]\n"
          ]
        }
      ]
    },
    {
      "cell_type": "markdown",
      "source": [
        "- 은닉 상태의 크기를 8로 정의하였으므로 8의 차원을 가지는 0의 값으로 구성된 벡터가 출력"
      ],
      "metadata": {
        "id": "UNZ5Kz08Ujcs"
      }
    },
    {
      "cell_type": "code",
      "source": [
        "Wx = np.random.random((hidden_size, input_size))  # 입력에 대한 가중치 행렬\n",
        "Wh = np.random.random((hidden_size, hidden_size))  # 은닉 상태에 대한 가중치 행렬\n",
        "b = np.random.random((hidden_size,))  # 편향(bias)"
      ],
      "metadata": {
        "id": "STpaCFfpPZ-o"
      },
      "execution_count": 9,
      "outputs": []
    },
    {
      "cell_type": "markdown",
      "source": [
        "- 가중치와 편향을 각 크기에 맞게 정의하였다."
      ],
      "metadata": {
        "id": "KdgoqaieU7To"
      }
    },
    {
      "cell_type": "code",
      "source": [
        "print(np.shape(Wx))  # 은닉 상태의 크기 * 입력의 차원\n",
        "print(np.shape(Wh)) # 은닉 상태의 크기 * 은닉 상태의 크기\n",
        "print(np.shape(b)) # 은닉 상태의 크기"
      ],
      "metadata": {
        "colab": {
          "base_uri": "https://localhost:8080/"
        },
        "id": "hACuCReBWzuR",
        "outputId": "53ac9f1d-b59e-4a57-f2b4-88eb5e78155b"
      },
      "execution_count": 12,
      "outputs": [
        {
          "output_type": "stream",
          "name": "stdout",
          "text": [
            "(8, 4)\n",
            "(8, 8)\n",
            "(8,)\n"
          ]
        }
      ]
    },
    {
      "cell_type": "code",
      "source": [
        "total_hidden_states = []  # 은닉 상태를 저장할 리스트\n",
        "\n",
        "# Memory cell의 동작 과정\n",
        "for input_t in inputs:  # 각 시점에 따른 입력값\n",
        "    # tanh(W_x * x_t + W_h * h(t-1) + b)\n",
        "    output_t = np.tanh(np.dot(Wx, input_t) + np.dot(Wh, hidden_state_t) + b)\n",
        "    total_hidden_states.append(list(output_t))  # 각 시점의 은닉 상태 값을 계속해서 추적\n",
        "    hidden_state_t = output_t  # 은닉층에서의 계산값을 다음 시점으로 전달\n",
        "\n",
        "total_hidden_states = np.stack(total_hidden_states, axis=0)  # 리스트를 넘파이 배열로 변환. 세로로 쌓기 위함\n",
        "\n",
        "print(total_hidden_states)"
      ],
      "metadata": {
        "colab": {
          "base_uri": "https://localhost:8080/"
        },
        "id": "_XVIlVUAU-G7",
        "outputId": "64ccfd7b-d68d-4b1e-c1f9-6b946e4faabc"
      },
      "execution_count": 11,
      "outputs": [
        {
          "output_type": "stream",
          "name": "stdout",
          "text": [
            "[[0.99950732 0.99999252 0.99984194 0.99945611 0.99986913 0.99993054\n",
            "  0.99997892 0.99999027]\n",
            " [0.99964221 0.99999641 0.99994314 0.99940055 0.99992651 0.99995004\n",
            "  0.99999007 0.99999457]\n",
            " [0.99944975 0.9999938  0.99988686 0.99932181 0.99986359 0.9998874\n",
            "  0.99997946 0.99998925]\n",
            " [0.99979024 0.99999799 0.99997263 0.99977511 0.99994925 0.9999317\n",
            "  0.99999564 0.99999731]\n",
            " [0.99924808 0.99998838 0.9997584  0.99936374 0.99977425 0.99978362\n",
            "  0.99996008 0.99997859]\n",
            " [0.99957494 0.99999452 0.99991995 0.99937717 0.99991223 0.99991575\n",
            "  0.99998537 0.99998962]\n",
            " [0.9997957  0.99999536 0.99994098 0.99974742 0.99995951 0.99996478\n",
            "  0.99999328 0.99999387]\n",
            " [0.9998107  0.9999966  0.99997742 0.99961784 0.99997601 0.99993563\n",
            "  0.99999523 0.99999013]\n",
            " [0.99974636 0.99999692 0.99995982 0.99964858 0.99994817 0.99994411\n",
            "  0.99999348 0.99999522]\n",
            " [0.99960468 0.99999254 0.99990398 0.9997087  0.9998963  0.99974108\n",
            "  0.99998374 0.99998346]]\n"
          ]
        }
      ]
    },
    {
      "cell_type": "markdown",
      "source": [
        "### 파이토치의 nn.RNN()\n",
        "- 파이토치에서는 nn.RNN()을 통해서 RNN 셀을 구현"
      ],
      "metadata": {
        "id": "cNwlHH43YIC4"
      }
    },
    {
      "cell_type": "code",
      "source": [
        "import torch.nn as nn"
      ],
      "metadata": {
        "id": "t15xWH8_YNYt"
      },
      "execution_count": 13,
      "outputs": []
    },
    {
      "cell_type": "code",
      "source": [
        "input_size = 5  # 입력의 크기\n",
        "hidden_size = 8  # 은닉 상태의 크기"
      ],
      "metadata": {
        "id": "v6MdF9cxYNda"
      },
      "execution_count": 14,
      "outputs": []
    },
    {
      "cell_type": "code",
      "source": [
        "# (batch_size, time_steps, input_size)\n",
        "inputs = torch.Tensor(1, 10, 5)"
      ],
      "metadata": {
        "id": "6lZn7UqDYNa5"
      },
      "execution_count": 15,
      "outputs": []
    },
    {
      "cell_type": "code",
      "source": [
        "cell = nn.RNN(input_size=input_size, hidden_size=hidden_size, batch_first=True)"
      ],
      "metadata": {
        "id": "kQlL5UN_YrHN"
      },
      "execution_count": 16,
      "outputs": []
    },
    {
      "cell_type": "code",
      "source": [
        "outputs, _status = cell(inputs)"
      ],
      "metadata": {
        "id": "rDAKxekLYrKm"
      },
      "execution_count": 17,
      "outputs": []
    },
    {
      "cell_type": "markdown",
      "source": [
        "- RNN 셀은 두 개의 입력을 리턴하는데, 첫번째 리턴값은 모든 시점(timesteps)의 은닉 상태들이며, 두번째 리턴값은 마지막 시점(timestep)의 은닉 상태"
      ],
      "metadata": {
        "id": "4cLQyjSzY6aT"
      }
    },
    {
      "cell_type": "code",
      "source": [
        "print(outputs.shape)  # (batch_size, time_steps, hidden_size)\n",
        "print(_status.shape)  # (num_layers * num_directions, batch_size, hidden_size"
      ],
      "metadata": {
        "colab": {
          "base_uri": "https://localhost:8080/"
        },
        "id": "G3nJ_bWpYrOH",
        "outputId": "4b181d33-f467-4328-9cac-71b7f76536aa"
      },
      "execution_count": 18,
      "outputs": [
        {
          "output_type": "stream",
          "name": "stdout",
          "text": [
            "torch.Size([1, 10, 8])\n",
            "torch.Size([1, 1, 8])\n"
          ]
        }
      ]
    },
    {
      "cell_type": "code",
      "source": [
        "torch.Size([1, 10, 8])"
      ],
      "metadata": {
        "colab": {
          "base_uri": "https://localhost:8080/"
        },
        "id": "3RPPNGz0ZJBO",
        "outputId": "0aea8384-c82e-400c-cae3-f8481af60946"
      },
      "execution_count": 19,
      "outputs": [
        {
          "output_type": "execute_result",
          "data": {
            "text/plain": [
              "torch.Size([1, 10, 8])"
            ]
          },
          "metadata": {},
          "execution_count": 19
        }
      ]
    },
    {
      "cell_type": "markdown",
      "source": [
        "### 깊은 순환 신경망"
      ],
      "metadata": {
        "id": "tF4DwlGoZcwU"
      }
    },
    {
      "cell_type": "code",
      "source": [
        "# (batch_size, time_steps, input_size)\n",
        "inputs = torch.Tensor(1, 10, 5)\n",
        "\n",
        "cell = nn.RNN(input_size=input_size, hidden_size=hidden_size, batch_first=True)"
      ],
      "metadata": {
        "id": "dMgcN5lXZcLB"
      },
      "execution_count": 20,
      "outputs": []
    },
    {
      "cell_type": "code",
      "source": [
        "print(outputs.shape)  # (batch_size, time_steps, hidden_size"
      ],
      "metadata": {
        "colab": {
          "base_uri": "https://localhost:8080/"
        },
        "id": "TvLyxs-RZrha",
        "outputId": "81a69246-62ce-4364-c2d1-8299cc78f07f"
      },
      "execution_count": 21,
      "outputs": [
        {
          "output_type": "stream",
          "name": "stdout",
          "text": [
            "torch.Size([1, 10, 8])\n"
          ]
        }
      ]
    }
  ]
}