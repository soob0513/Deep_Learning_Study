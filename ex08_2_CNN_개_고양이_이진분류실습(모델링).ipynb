{
  "nbformat": 4,
  "nbformat_minor": 0,
  "metadata": {
    "colab": {
      "provenance": [],
      "gpuType": "T4"
    },
    "kernelspec": {
      "name": "python3",
      "display_name": "Python 3"
    },
    "language_info": {
      "name": "python"
    },
    "accelerator": "GPU"
  },
  "cells": [
    {
      "cell_type": "markdown",
      "source": [
        "### 목표 설정\n",
        "1. 앞서 만든 NPZ 파일을 불러와서 사용해보자\n",
        "2. CNN(합성곱 신경망)을 구현해보자\n",
        "3. 신경망 성능 개선 및 전이 학습을 진행해보자"
      ],
      "metadata": {
        "id": "_TSYumpuJbDN"
      }
    },
    {
      "cell_type": "code",
      "execution_count": 1,
      "metadata": {
        "colab": {
          "base_uri": "https://localhost:8080/"
        },
        "id": "TxiPIhprI-do",
        "outputId": "b419eecb-23b0-403b-cbfe-28edf0ecfb0a"
      },
      "outputs": [
        {
          "output_type": "stream",
          "name": "stdout",
          "text": [
            "Mounted at /content/drive\n"
          ]
        }
      ],
      "source": [
        "from google.colab import drive\n",
        "drive.mount('/content/drive')"
      ]
    },
    {
      "cell_type": "code",
      "source": [
        "!pwd"
      ],
      "metadata": {
        "colab": {
          "base_uri": "https://localhost:8080/"
        },
        "id": "UFfVg_eUJJIy",
        "outputId": "3bcb323e-a61a-4823-c3be-256ea434f204"
      },
      "execution_count": 2,
      "outputs": [
        {
          "output_type": "stream",
          "name": "stdout",
          "text": [
            "/content\n"
          ]
        }
      ]
    },
    {
      "cell_type": "code",
      "source": [
        "%cd /content/drive/MyDrive/Colab Notebooks/딥러닝"
      ],
      "metadata": {
        "colab": {
          "base_uri": "https://localhost:8080/"
        },
        "id": "_S49GQhRJJKx",
        "outputId": "538f4880-1620-492e-ba80-d3c6d5eefad1"
      },
      "execution_count": 3,
      "outputs": [
        {
          "output_type": "stream",
          "name": "stdout",
          "text": [
            "/content/drive/MyDrive/Colab Notebooks/딥러닝\n"
          ]
        }
      ]
    },
    {
      "cell_type": "code",
      "source": [
        "import numpy as np\n",
        "import pandas as pd\n",
        "from matplotlib import pyplot as plt"
      ],
      "metadata": {
        "id": "huUv5_oHKRJZ"
      },
      "execution_count": 5,
      "outputs": []
    },
    {
      "cell_type": "code",
      "source": [
        "# npz 파일 로딩\n",
        "data = np.load('data/cats_dogs.npz')\n",
        "data"
      ],
      "metadata": {
        "colab": {
          "base_uri": "https://localhost:8080/"
        },
        "id": "YYRI_MqBJJMp",
        "outputId": "2757e719-723a-48d7-f61a-aeb5b64d5d5b"
      },
      "execution_count": 6,
      "outputs": [
        {
          "output_type": "execute_result",
          "data": {
            "text/plain": [
              "NpzFile 'data/cats_dogs.npz' with keys: X_train, X_test, y_train, y_test"
            ]
          },
          "metadata": {},
          "execution_count": 6
        }
      ]
    },
    {
      "cell_type": "code",
      "source": [
        "# 데이터 분할\n",
        "X_train = data['X_train']\n",
        "X_test = data['X_test']\n",
        "y_train = data['y_train']\n",
        "y_test = data['y_test']"
      ],
      "metadata": {
        "id": "4xqlzRuGJJOl"
      },
      "execution_count": 7,
      "outputs": []
    },
    {
      "cell_type": "code",
      "source": [
        "X_train.shape, X_test.shape, y_train.shape, y_test.shape"
      ],
      "metadata": {
        "colab": {
          "base_uri": "https://localhost:8080/"
        },
        "id": "9yG50Bv6JJQZ",
        "outputId": "e3596d91-ee3a-4521-a3d1-bb171aea88a6"
      },
      "execution_count": 8,
      "outputs": [
        {
          "output_type": "execute_result",
          "data": {
            "text/plain": [
              "((2000, 224, 224, 3), (1000, 224, 224, 3), (2000,), (1000,))"
            ]
          },
          "metadata": {},
          "execution_count": 8
        }
      ]
    },
    {
      "cell_type": "markdown",
      "source": [
        "### CNN 모델링\n",
        "1. 모델 설계 및 구축\n",
        "2. 학습 및 평가 방법 설정\n",
        "3. 학습 및 시각화\n",
        "4. 모델 성능 평가"
      ],
      "metadata": {
        "id": "9n7E4isYK5on"
      }
    },
    {
      "cell_type": "code",
      "source": [
        "# 재료 import\n",
        "from tensorflow.keras import Sequential\n",
        "from tensorflow.keras.layers import Conv2D, MaxPooling2D, Flatten, Dense, Dropout\n",
        "from tensorflow.keras.callbacks import EarlyStopping, ModelCheckpoint\n",
        "from tensorflow.keras.optimizers import Adam"
      ],
      "metadata": {
        "id": "c6xW0R2uLBo_"
      },
      "execution_count": 10,
      "outputs": []
    },
    {
      "cell_type": "code",
      "source": [
        "# 1. 신경망 구현\n",
        "# 뼈대 설정\n",
        "model = Sequential()\n",
        "\n",
        "# 특성 추출부 구현\n",
        "model.add(Conv2D(filters=32,\n",
        "                 kernel_size=(3, 3),\n",
        "                 padding='same',     # 패딩 사용하겠다\n",
        "                 activation='relu',\n",
        "                 input_shape=(224, 224, 3)))\n",
        "\n",
        "model.add(MaxPooling2D(pool_size=(2,2)))  # input이 짝수라서 pool_size도 짝수\n",
        "# ===============================================\n",
        "model.add(Conv2D(filters=64,\n",
        "                 kernel_size=(3, 3),\n",
        "                 padding='same',\n",
        "                 activation='relu'\n",
        "                 ))\n",
        "\n",
        "model.add(MaxPooling2D(pool_size=(2,2)))\n",
        "# ================================================\n",
        "model.add(Conv2D(filters=128,\n",
        "                 kernel_size=(3, 3),\n",
        "                 padding='same',\n",
        "                 activation='relu'\n",
        "                 ))\n",
        "\n",
        "model.add(MaxPooling2D(pool_size=(2,2)))\n",
        "# ===============================================\n",
        "# 특성 추출부 구현 완료\n",
        "\n",
        "# 전결합층 구현\n",
        "model.add(Flatten())\n",
        "\n",
        "model.add(Dense(units=512, activation='relu'))\n",
        "model.add(Dropout(0.35))\n",
        "\n",
        "model.add(Dense(units=256, activation='relu'))\n",
        "model.add(Dropout(0.35))\n",
        "\n",
        "model.add(Dense(units=1, activation='sigmoid'))\n",
        "# 전결합층 구현 완료\n",
        "\n",
        "model.summary()"
      ],
      "metadata": {
        "colab": {
          "base_uri": "https://localhost:8080/"
        },
        "id": "0Ia1K0vLJJSB",
        "outputId": "f337c948-6ba1-4da5-b5d2-4bec186b65d3"
      },
      "execution_count": 11,
      "outputs": [
        {
          "output_type": "stream",
          "name": "stdout",
          "text": [
            "Model: \"sequential\"\n",
            "_________________________________________________________________\n",
            " Layer (type)                Output Shape              Param #   \n",
            "=================================================================\n",
            " conv2d (Conv2D)             (None, 224, 224, 32)      896       \n",
            "                                                                 \n",
            " max_pooling2d (MaxPooling2  (None, 112, 112, 32)      0         \n",
            " D)                                                              \n",
            "                                                                 \n",
            " conv2d_1 (Conv2D)           (None, 112, 112, 64)      18496     \n",
            "                                                                 \n",
            " max_pooling2d_1 (MaxPoolin  (None, 56, 56, 64)        0         \n",
            " g2D)                                                            \n",
            "                                                                 \n",
            " conv2d_2 (Conv2D)           (None, 56, 56, 128)       73856     \n",
            "                                                                 \n",
            " max_pooling2d_2 (MaxPoolin  (None, 28, 28, 128)       0         \n",
            " g2D)                                                            \n",
            "                                                                 \n",
            " flatten (Flatten)           (None, 100352)            0         \n",
            "                                                                 \n",
            " dense (Dense)               (None, 512)               51380736  \n",
            "                                                                 \n",
            " dropout (Dropout)           (None, 512)               0         \n",
            "                                                                 \n",
            " dense_1 (Dense)             (None, 256)               131328    \n",
            "                                                                 \n",
            " dropout_1 (Dropout)         (None, 256)               0         \n",
            "                                                                 \n",
            " dense_2 (Dense)             (None, 1)                 257       \n",
            "                                                                 \n",
            "=================================================================\n",
            "Total params: 51605569 (196.86 MB)\n",
            "Trainable params: 51605569 (196.86 MB)\n",
            "Non-trainable params: 0 (0.00 Byte)\n",
            "_________________________________________________________________\n"
          ]
        }
      ]
    },
    {
      "cell_type": "code",
      "source": [
        "# 2. 학습 및 평가 방법 설정\n",
        "model.compile(optimizer=Adam(learning_rate=0.0001),\n",
        "              loss='binary_crossentropy',\n",
        "              metrics=['accuracy'])"
      ],
      "metadata": {
        "id": "ozM_aonWNnB8"
      },
      "execution_count": 13,
      "outputs": []
    },
    {
      "cell_type": "code",
      "source": [
        "# 학습 조기중단 구현\n",
        "f_early = EarlyStopping(monitor='val_accuracy',\n",
        "                        patience=5)"
      ],
      "metadata": {
        "id": "E-d36aPnL8mg"
      },
      "execution_count": 14,
      "outputs": []
    },
    {
      "cell_type": "code",
      "source": [
        "# 3. 모델 학습\n",
        "h = model.fit(X_train, y_train,\n",
        "              epochs=100,\n",
        "              batch_size=64,\n",
        "              validation_split=0.2,\n",
        "              callbacks=[f_early])"
      ],
      "metadata": {
        "colab": {
          "base_uri": "https://localhost:8080/"
        },
        "id": "1L4EAklPL8qn",
        "outputId": "11326bf3-42da-4273-e980-20f847fc261f"
      },
      "execution_count": 16,
      "outputs": [
        {
          "output_type": "stream",
          "name": "stdout",
          "text": [
            "Epoch 1/100\n",
            "25/25 [==============================] - 3s 112ms/step - loss: 0.2631 - accuracy: 0.8913 - val_loss: 1.3739 - val_accuracy: 0.3825\n",
            "Epoch 2/100\n",
            "25/25 [==============================] - 3s 103ms/step - loss: 0.2183 - accuracy: 0.9156 - val_loss: 1.2769 - val_accuracy: 0.5125\n",
            "Epoch 3/100\n",
            "25/25 [==============================] - 3s 111ms/step - loss: 0.1677 - accuracy: 0.9431 - val_loss: 1.1714 - val_accuracy: 0.5375\n",
            "Epoch 4/100\n",
            "25/25 [==============================] - 3s 113ms/step - loss: 0.1362 - accuracy: 0.9588 - val_loss: 1.2423 - val_accuracy: 0.5300\n",
            "Epoch 5/100\n",
            "25/25 [==============================] - 3s 103ms/step - loss: 0.1045 - accuracy: 0.9756 - val_loss: 1.1609 - val_accuracy: 0.5700\n",
            "Epoch 6/100\n",
            "25/25 [==============================] - 3s 110ms/step - loss: 0.0813 - accuracy: 0.9800 - val_loss: 1.5425 - val_accuracy: 0.5400\n",
            "Epoch 7/100\n",
            "25/25 [==============================] - 3s 110ms/step - loss: 0.0646 - accuracy: 0.9862 - val_loss: 1.5168 - val_accuracy: 0.5625\n",
            "Epoch 8/100\n",
            "25/25 [==============================] - 3s 108ms/step - loss: 0.0473 - accuracy: 0.9887 - val_loss: 1.6997 - val_accuracy: 0.5600\n",
            "Epoch 9/100\n",
            "25/25 [==============================] - 3s 108ms/step - loss: 0.0391 - accuracy: 0.9912 - val_loss: 1.3901 - val_accuracy: 0.6525\n",
            "Epoch 10/100\n",
            "25/25 [==============================] - 3s 105ms/step - loss: 0.0274 - accuracy: 0.9950 - val_loss: 1.5415 - val_accuracy: 0.6425\n",
            "Epoch 11/100\n",
            "25/25 [==============================] - 3s 105ms/step - loss: 0.0318 - accuracy: 0.9919 - val_loss: 1.6763 - val_accuracy: 0.6225\n",
            "Epoch 12/100\n",
            "25/25 [==============================] - 3s 112ms/step - loss: 0.0280 - accuracy: 0.9950 - val_loss: 1.9467 - val_accuracy: 0.5600\n",
            "Epoch 13/100\n",
            "25/25 [==============================] - 3s 114ms/step - loss: 0.0291 - accuracy: 0.9931 - val_loss: 2.0032 - val_accuracy: 0.5500\n",
            "Epoch 14/100\n",
            "25/25 [==============================] - 3s 115ms/step - loss: 0.0241 - accuracy: 0.9962 - val_loss: 2.1876 - val_accuracy: 0.5300\n"
          ]
        }
      ]
    },
    {
      "cell_type": "markdown",
      "source": [
        "- 학습 중간에 표시되는 정확도와 검증 정확도를 확인한 결과 과대적합 발생!\n",
        "- 과대적합 제어 방법이 Dropout과 학습 조기 중단을 반영해도 과대적합이 해소되지 않았다\n",
        "- 데이터가 모자라서 학습이 부족할 수 있다. 데이터를 증강해보자!"
      ],
      "metadata": {
        "id": "BW5AGbHMQ2mT"
      }
    },
    {
      "cell_type": "markdown",
      "source": [
        "### 데이터 증식\n",
        "- 부족한 데이터를 원본 데이터를 이용해서 증강시켜주는 방법\n",
        "- 일반적으로 딥러닝 모델은 데이터가 많을수록 성능이 좋아진다"
      ],
      "metadata": {
        "id": "MzqOGKBKRRVh"
      }
    },
    {
      "cell_type": "code",
      "source": [
        "# 이미지 증식 진행 해보기\n",
        "from tensorflow.keras.preprocessing.image import ImageDataGenerator\n",
        "\n",
        "train_gen = ImageDataGenerator(\n",
        "    rescale = 1./255,  # 데이터 스케일링 -> 현재는 연산을 통해 minmax 스케일링 구현\n",
        "    rotation_range=15, # 회전 각도 -> 0~360도 사이의 각도 지정\n",
        "    width_shift_range=0.1,   # 이미지를 좌우로 이동 (10% 내외)\n",
        "    height_shift_range=0.1,  # 이미지를 상하로 이동 (10% 내외)\n",
        "    zoom_range=[0.8, 2.0],   # 0.8배 또는 2배로 확대 및 축소\n",
        "    shear_range=0.5,         # 0.5라디안 내외 시계 방향으로 변형(약 28.6도)\n",
        "    horizontal_flip=True,    # 좌우 반전\n",
        "    vertical_flip=True,      # 상하 반전\n",
        "    fill_mode='nearest'      # 보간법 : 이미지 픽셀의 빈 공간을 채워주는 방법\n",
        ")\n",
        "\n",
        "test_gen = ImageDataGenerator(rescale=1./255)\n",
        "# test 데이터는 이미지 증식이 필요 없음"
      ],
      "metadata": {
        "id": "JSx9AEhgPurM"
      },
      "execution_count": 17,
      "outputs": []
    },
    {
      "cell_type": "code",
      "source": [
        "# train / test 경로 잡아주기\n",
        "train_dir = 'data/cats_and_dogs_filtered/train'\n",
        "test_dir = 'data/cats_and_dogs_filtered/test'"
      ],
      "metadata": {
        "id": "wT_TavrGYF2h"
      },
      "execution_count": 22,
      "outputs": []
    },
    {
      "cell_type": "code",
      "source": [
        "# 이미지 증식 시작\n",
        "# train_flow_directory() : 폴더의 경로 설정 및 옵션을 부여\n",
        "train_generator = train_gen.flow_from_directory(train_dir, # 폴더 경로 지정\n",
        "                                                target_size=(224,224), # 변환할 이미지 사이즈\n",
        "                                                batch_size=64,    # 한번에 변환시킬 이미지 개수\n",
        "                                                class_mode='binary') # 라벨 번호 0번부터 시작 / 폴더 알파벳 순서대로 읽어오기\n",
        "\n",
        "test_generator = test_gen.flow_from_directory(test_dir,\n",
        "                                              target_size=(224,224),\n",
        "                                              batch_size=10,\n",
        "                                              class_mode='binary'\n",
        "                                                )"
      ],
      "metadata": {
        "colab": {
          "base_uri": "https://localhost:8080/"
        },
        "id": "Z3Zq6WtyYF4o",
        "outputId": "f48ed851-68fb-43f6-f859-6b18d1aebf8f"
      },
      "execution_count": 23,
      "outputs": [
        {
          "output_type": "stream",
          "name": "stdout",
          "text": [
            "Found 2000 images belonging to 2 classes.\n",
            "Found 1000 images belonging to 2 classes.\n"
          ]
        }
      ]
    },
    {
      "cell_type": "code",
      "source": [
        "# 라벨링 결과 확인\n",
        "print(train_generator.class_indices)\n",
        "print(test_generator.class_indices)"
      ],
      "metadata": {
        "colab": {
          "base_uri": "https://localhost:8080/"
        },
        "id": "tUjOJ0GMYcRt",
        "outputId": "6c2570fc-d322-4f84-bece-5e12a5804e9d"
      },
      "execution_count": 24,
      "outputs": [
        {
          "output_type": "stream",
          "name": "stdout",
          "text": [
            "{'cats': 0, 'dogs': 1}\n",
            "{'cats': 0, 'dogs': 1}\n"
          ]
        }
      ]
    },
    {
      "cell_type": "markdown",
      "source": [
        "### CNN 신경망 구현"
      ],
      "metadata": {
        "id": "Sm3bUr11aPNx"
      }
    },
    {
      "cell_type": "code",
      "source": [
        "# 뼈대 설정\n",
        "model2 = Sequential()\n",
        "# 특성 추출부 구현\n",
        "# conv2D_1 layer\n",
        "# filter 갯수 32 / 패딩 사용 / 필터 사이즈 : (3,3) / 활성화 함수 relu / input_shape 지정\n",
        "model2.add(Conv2D(filters = 32,\n",
        "                  kernel_size = (3,3),\n",
        "                  activation = 'relu',\n",
        "                  input_shape = (224, 224, 3),\n",
        "                  padding = 'same'))\n",
        "\n",
        "# MaxPooling layer\n",
        "# pool_size = (2,2)\n",
        "model2.add(MaxPooling2D(pool_size = (2,2)))\n",
        "\n",
        "# conv2D_2 layer\n",
        "# filter 갯수 64 / 패딩 사용 / 필터 사이즈 : (3,3) / 활성화 함수 relu\n",
        "model2.add(Conv2D(filters = 64,\n",
        "                  kernel_size = (3,3),\n",
        "                  activation = 'relu',\n",
        "                  padding = 'same'))\n",
        "\n",
        "# MaxPooling layer\n",
        "# pool_size = (2,2)\n",
        "model2.add(MaxPooling2D(pool_size = (2,2)))\n",
        "# conv2D_3 layer\n",
        "# filter 갯수 128 / 패딩 사용 / 필터 사이즈 : (3,3) / 활성화 함수 relu\n",
        "model2.add(Conv2D(filters = 128,\n",
        "                  kernel_size = (3,3),\n",
        "                  activation = 'relu',\n",
        "                  padding = 'same'))\n",
        "\n",
        "# MaxPooling layer\n",
        "# pool_size = (2,2)\n",
        "model2.add(MaxPooling2D(pool_size = (2,2)))\n",
        "\n",
        "# 전결합층 구현\n",
        "# 데이터를 1차원으로 펴주는 층\n",
        "model2.add(Flatten())\n",
        "# 뉴런의 갯수 64 / 활성화 함수 : 렐루\n",
        "model2.add(Dense(units = 64, activation = 'relu'))\n",
        "# 드롭아웃 추가(비워두기)\n",
        "model2.add(Dropout(0.35))\n",
        "# 출력층 설정 (이진분류에 맞는 출력층 설정)\n",
        "model2.add(Dense(units = 1, activation = 'sigmoid'))\n",
        "\n",
        "model2.summary()"
      ],
      "metadata": {
        "colab": {
          "base_uri": "https://localhost:8080/"
        },
        "id": "H_hmvbJQYF6v",
        "outputId": "88c49ee8-71b1-4834-cb44-c01e3fe70b97"
      },
      "execution_count": 25,
      "outputs": [
        {
          "output_type": "stream",
          "name": "stdout",
          "text": [
            "Model: \"sequential_1\"\n",
            "_________________________________________________________________\n",
            " Layer (type)                Output Shape              Param #   \n",
            "=================================================================\n",
            " conv2d_3 (Conv2D)           (None, 224, 224, 32)      896       \n",
            "                                                                 \n",
            " max_pooling2d_3 (MaxPoolin  (None, 112, 112, 32)      0         \n",
            " g2D)                                                            \n",
            "                                                                 \n",
            " conv2d_4 (Conv2D)           (None, 112, 112, 64)      18496     \n",
            "                                                                 \n",
            " max_pooling2d_4 (MaxPoolin  (None, 56, 56, 64)        0         \n",
            " g2D)                                                            \n",
            "                                                                 \n",
            " conv2d_5 (Conv2D)           (None, 56, 56, 128)       73856     \n",
            "                                                                 \n",
            " max_pooling2d_5 (MaxPoolin  (None, 28, 28, 128)       0         \n",
            " g2D)                                                            \n",
            "                                                                 \n",
            " flatten_1 (Flatten)         (None, 100352)            0         \n",
            "                                                                 \n",
            " dense_3 (Dense)             (None, 64)                6422592   \n",
            "                                                                 \n",
            " dropout_2 (Dropout)         (None, 64)                0         \n",
            "                                                                 \n",
            " dense_4 (Dense)             (None, 1)                 65        \n",
            "                                                                 \n",
            "=================================================================\n",
            "Total params: 6515905 (24.86 MB)\n",
            "Trainable params: 6515905 (24.86 MB)\n",
            "Non-trainable params: 0 (0.00 Byte)\n",
            "_________________________________________________________________\n"
          ]
        }
      ]
    },
    {
      "cell_type": "code",
      "source": [
        "model2.compile(optimizer=Adam(learning_rate=0.0001),\n",
        "              loss='binary_crossentropy',\n",
        "              metrics=['accuracy'])"
      ],
      "metadata": {
        "id": "eUGaKhfqadsE"
      },
      "execution_count": 26,
      "outputs": []
    },
    {
      "cell_type": "code",
      "source": [
        "# 학습 조기중단 구현\n",
        "# 이미지 증식을 진행했을 때는 학습이 들쭉날쭉하게 진행이 된다.\n",
        "# 학습횟수와 기회를 늘려서 학습을 오래 시켜줄 필요가 있다.\n",
        "f_early = EarlyStopping(monitor='val_accuracy',\n",
        "                        patience=20)\n",
        "\n",
        "epochs = 100\n",
        "\n",
        "h2 = model2.fit_generator(generator = train_generator,\n",
        "                          epochs = epochs,\n",
        "                          validation_data = test_generator,\n",
        "                          callbacks = [f_early]\n",
        "                          )"
      ],
      "metadata": {
        "colab": {
          "base_uri": "https://localhost:8080/"
        },
        "id": "q04rN_OoaduM",
        "outputId": "a3f0d78e-4670-4dbe-ddf4-c98fd863367c"
      },
      "execution_count": 27,
      "outputs": [
        {
          "output_type": "stream",
          "name": "stderr",
          "text": [
            "<ipython-input-27-8a2f3e07f993>:9: UserWarning: `Model.fit_generator` is deprecated and will be removed in a future version. Please use `Model.fit`, which supports generators.\n",
            "  h2 = model2.fit_generator(generator = train_generator,\n"
          ]
        },
        {
          "output_type": "stream",
          "name": "stdout",
          "text": [
            "Epoch 1/100\n",
            "32/32 [==============================] - 553s 17s/step - loss: 0.7005 - accuracy: 0.4935 - val_loss: 0.6892 - val_accuracy: 0.5790\n",
            "Epoch 2/100\n",
            "32/32 [==============================] - 41s 1s/step - loss: 0.6868 - accuracy: 0.5375 - val_loss: 0.6765 - val_accuracy: 0.6120\n",
            "Epoch 3/100\n",
            "32/32 [==============================] - 41s 1s/step - loss: 0.6718 - accuracy: 0.5840 - val_loss: 0.6615 - val_accuracy: 0.5990\n",
            "Epoch 4/100\n",
            "32/32 [==============================] - 42s 1s/step - loss: 0.6643 - accuracy: 0.5975 - val_loss: 0.6400 - val_accuracy: 0.6400\n",
            "Epoch 5/100\n",
            "32/32 [==============================] - 42s 1s/step - loss: 0.6502 - accuracy: 0.5970 - val_loss: 0.6299 - val_accuracy: 0.6460\n",
            "Epoch 6/100\n",
            "32/32 [==============================] - 41s 1s/step - loss: 0.6375 - accuracy: 0.6320 - val_loss: 0.6182 - val_accuracy: 0.6490\n",
            "Epoch 7/100\n",
            "32/32 [==============================] - 40s 1s/step - loss: 0.6353 - accuracy: 0.6290 - val_loss: 0.6183 - val_accuracy: 0.6410\n",
            "Epoch 8/100\n",
            "32/32 [==============================] - 41s 1s/step - loss: 0.6267 - accuracy: 0.6445 - val_loss: 0.6120 - val_accuracy: 0.6480\n",
            "Epoch 9/100\n",
            "32/32 [==============================] - 40s 1s/step - loss: 0.6156 - accuracy: 0.6490 - val_loss: 0.5986 - val_accuracy: 0.6710\n",
            "Epoch 10/100\n",
            "32/32 [==============================] - 41s 1s/step - loss: 0.6034 - accuracy: 0.6705 - val_loss: 0.6116 - val_accuracy: 0.6560\n",
            "Epoch 11/100\n",
            "32/32 [==============================] - 40s 1s/step - loss: 0.6133 - accuracy: 0.6515 - val_loss: 0.6001 - val_accuracy: 0.6600\n",
            "Epoch 12/100\n",
            "32/32 [==============================] - 41s 1s/step - loss: 0.5968 - accuracy: 0.6820 - val_loss: 0.5944 - val_accuracy: 0.6660\n",
            "Epoch 13/100\n",
            "32/32 [==============================] - 41s 1s/step - loss: 0.5936 - accuracy: 0.6845 - val_loss: 0.5939 - val_accuracy: 0.6680\n",
            "Epoch 14/100\n",
            "32/32 [==============================] - 40s 1s/step - loss: 0.5838 - accuracy: 0.6875 - val_loss: 0.5734 - val_accuracy: 0.6940\n",
            "Epoch 15/100\n",
            "32/32 [==============================] - 41s 1s/step - loss: 0.5851 - accuracy: 0.6875 - val_loss: 0.5875 - val_accuracy: 0.6720\n",
            "Epoch 16/100\n",
            "32/32 [==============================] - 41s 1s/step - loss: 0.5810 - accuracy: 0.6810 - val_loss: 0.5661 - val_accuracy: 0.7130\n",
            "Epoch 17/100\n",
            "32/32 [==============================] - 41s 1s/step - loss: 0.5729 - accuracy: 0.6960 - val_loss: 0.5693 - val_accuracy: 0.6960\n",
            "Epoch 18/100\n",
            "32/32 [==============================] - 42s 1s/step - loss: 0.5755 - accuracy: 0.6950 - val_loss: 0.5618 - val_accuracy: 0.7070\n",
            "Epoch 19/100\n",
            "32/32 [==============================] - 41s 1s/step - loss: 0.5651 - accuracy: 0.7120 - val_loss: 0.5632 - val_accuracy: 0.7030\n",
            "Epoch 20/100\n",
            "32/32 [==============================] - 40s 1s/step - loss: 0.5658 - accuracy: 0.7000 - val_loss: 0.5610 - val_accuracy: 0.7040\n",
            "Epoch 21/100\n",
            "32/32 [==============================] - 40s 1s/step - loss: 0.5672 - accuracy: 0.6990 - val_loss: 0.5751 - val_accuracy: 0.6900\n",
            "Epoch 22/100\n",
            "32/32 [==============================] - 40s 1s/step - loss: 0.5569 - accuracy: 0.7115 - val_loss: 0.5686 - val_accuracy: 0.6950\n",
            "Epoch 23/100\n",
            "32/32 [==============================] - 40s 1s/step - loss: 0.5531 - accuracy: 0.7105 - val_loss: 0.5607 - val_accuracy: 0.6890\n",
            "Epoch 24/100\n",
            "32/32 [==============================] - 41s 1s/step - loss: 0.5583 - accuracy: 0.7020 - val_loss: 0.5524 - val_accuracy: 0.7030\n",
            "Epoch 25/100\n",
            "32/32 [==============================] - 40s 1s/step - loss: 0.5440 - accuracy: 0.7285 - val_loss: 0.5486 - val_accuracy: 0.7090\n",
            "Epoch 26/100\n",
            "32/32 [==============================] - 41s 1s/step - loss: 0.5618 - accuracy: 0.7030 - val_loss: 0.5523 - val_accuracy: 0.7110\n",
            "Epoch 27/100\n",
            "32/32 [==============================] - 40s 1s/step - loss: 0.5445 - accuracy: 0.7235 - val_loss: 0.5718 - val_accuracy: 0.6980\n",
            "Epoch 28/100\n",
            "32/32 [==============================] - 40s 1s/step - loss: 0.5418 - accuracy: 0.7180 - val_loss: 0.5493 - val_accuracy: 0.7140\n",
            "Epoch 29/100\n",
            "32/32 [==============================] - 40s 1s/step - loss: 0.5482 - accuracy: 0.7170 - val_loss: 0.5750 - val_accuracy: 0.6860\n",
            "Epoch 30/100\n",
            "32/32 [==============================] - 40s 1s/step - loss: 0.5341 - accuracy: 0.7195 - val_loss: 0.5429 - val_accuracy: 0.7200\n",
            "Epoch 31/100\n",
            "32/32 [==============================] - 45s 1s/step - loss: 0.5363 - accuracy: 0.7165 - val_loss: 0.5443 - val_accuracy: 0.7210\n",
            "Epoch 32/100\n",
            "32/32 [==============================] - 43s 1s/step - loss: 0.5311 - accuracy: 0.7310 - val_loss: 0.5436 - val_accuracy: 0.7160\n",
            "Epoch 33/100\n",
            "32/32 [==============================] - 41s 1s/step - loss: 0.5266 - accuracy: 0.7315 - val_loss: 0.5479 - val_accuracy: 0.7240\n",
            "Epoch 34/100\n",
            "32/32 [==============================] - 41s 1s/step - loss: 0.5299 - accuracy: 0.7280 - val_loss: 0.5583 - val_accuracy: 0.7130\n",
            "Epoch 35/100\n",
            "32/32 [==============================] - 42s 1s/step - loss: 0.5187 - accuracy: 0.7465 - val_loss: 0.5463 - val_accuracy: 0.7110\n",
            "Epoch 36/100\n",
            "32/32 [==============================] - 41s 1s/step - loss: 0.5301 - accuracy: 0.7390 - val_loss: 0.5500 - val_accuracy: 0.7110\n",
            "Epoch 37/100\n",
            "32/32 [==============================] - 41s 1s/step - loss: 0.5318 - accuracy: 0.7350 - val_loss: 0.5364 - val_accuracy: 0.7180\n",
            "Epoch 38/100\n",
            "32/32 [==============================] - 41s 1s/step - loss: 0.5256 - accuracy: 0.7400 - val_loss: 0.5397 - val_accuracy: 0.7230\n",
            "Epoch 39/100\n",
            "32/32 [==============================] - 43s 1s/step - loss: 0.5154 - accuracy: 0.7325 - val_loss: 0.5323 - val_accuracy: 0.7300\n",
            "Epoch 40/100\n",
            "32/32 [==============================] - 41s 1s/step - loss: 0.5214 - accuracy: 0.7325 - val_loss: 0.5433 - val_accuracy: 0.7240\n",
            "Epoch 41/100\n",
            "32/32 [==============================] - 41s 1s/step - loss: 0.5176 - accuracy: 0.7380 - val_loss: 0.5308 - val_accuracy: 0.7370\n",
            "Epoch 42/100\n",
            "32/32 [==============================] - 40s 1s/step - loss: 0.5168 - accuracy: 0.7470 - val_loss: 0.5331 - val_accuracy: 0.7210\n",
            "Epoch 43/100\n",
            "32/32 [==============================] - 41s 1s/step - loss: 0.5141 - accuracy: 0.7420 - val_loss: 0.5614 - val_accuracy: 0.7120\n",
            "Epoch 44/100\n",
            "32/32 [==============================] - 41s 1s/step - loss: 0.5239 - accuracy: 0.7305 - val_loss: 0.5407 - val_accuracy: 0.7290\n",
            "Epoch 45/100\n",
            "32/32 [==============================] - 41s 1s/step - loss: 0.5066 - accuracy: 0.7555 - val_loss: 0.5408 - val_accuracy: 0.7240\n",
            "Epoch 46/100\n",
            "32/32 [==============================] - 41s 1s/step - loss: 0.5095 - accuracy: 0.7425 - val_loss: 0.5246 - val_accuracy: 0.7310\n",
            "Epoch 47/100\n",
            "32/32 [==============================] - 41s 1s/step - loss: 0.5078 - accuracy: 0.7385 - val_loss: 0.5304 - val_accuracy: 0.7360\n",
            "Epoch 48/100\n",
            "32/32 [==============================] - 41s 1s/step - loss: 0.5047 - accuracy: 0.7560 - val_loss: 0.5335 - val_accuracy: 0.7270\n",
            "Epoch 49/100\n",
            "32/32 [==============================] - 41s 1s/step - loss: 0.5061 - accuracy: 0.7505 - val_loss: 0.5311 - val_accuracy: 0.7310\n",
            "Epoch 50/100\n",
            "32/32 [==============================] - 41s 1s/step - loss: 0.5009 - accuracy: 0.7520 - val_loss: 0.5266 - val_accuracy: 0.7330\n",
            "Epoch 51/100\n",
            "32/32 [==============================] - 42s 1s/step - loss: 0.5050 - accuracy: 0.7590 - val_loss: 0.5157 - val_accuracy: 0.7500\n",
            "Epoch 52/100\n",
            "32/32 [==============================] - 41s 1s/step - loss: 0.4823 - accuracy: 0.7640 - val_loss: 0.5324 - val_accuracy: 0.7370\n",
            "Epoch 53/100\n",
            "32/32 [==============================] - 41s 1s/step - loss: 0.5014 - accuracy: 0.7495 - val_loss: 0.5413 - val_accuracy: 0.7140\n",
            "Epoch 54/100\n",
            "32/32 [==============================] - 41s 1s/step - loss: 0.4983 - accuracy: 0.7570 - val_loss: 0.5355 - val_accuracy: 0.7320\n",
            "Epoch 55/100\n",
            "32/32 [==============================] - 41s 1s/step - loss: 0.4930 - accuracy: 0.7545 - val_loss: 0.5247 - val_accuracy: 0.7430\n",
            "Epoch 56/100\n",
            "32/32 [==============================] - 40s 1s/step - loss: 0.4970 - accuracy: 0.7530 - val_loss: 0.5186 - val_accuracy: 0.7570\n",
            "Epoch 57/100\n",
            "32/32 [==============================] - 41s 1s/step - loss: 0.4876 - accuracy: 0.7610 - val_loss: 0.5299 - val_accuracy: 0.7340\n",
            "Epoch 58/100\n",
            "32/32 [==============================] - 40s 1s/step - loss: 0.4921 - accuracy: 0.7550 - val_loss: 0.5176 - val_accuracy: 0.7480\n",
            "Epoch 59/100\n",
            "32/32 [==============================] - 40s 1s/step - loss: 0.4905 - accuracy: 0.7665 - val_loss: 0.5212 - val_accuracy: 0.7470\n",
            "Epoch 60/100\n",
            "32/32 [==============================] - 40s 1s/step - loss: 0.4923 - accuracy: 0.7670 - val_loss: 0.5153 - val_accuracy: 0.7430\n",
            "Epoch 61/100\n",
            "32/32 [==============================] - 40s 1s/step - loss: 0.4841 - accuracy: 0.7685 - val_loss: 0.5234 - val_accuracy: 0.7440\n",
            "Epoch 62/100\n",
            "32/32 [==============================] - 40s 1s/step - loss: 0.4847 - accuracy: 0.7525 - val_loss: 0.5263 - val_accuracy: 0.7290\n",
            "Epoch 63/100\n",
            "32/32 [==============================] - 40s 1s/step - loss: 0.4871 - accuracy: 0.7600 - val_loss: 0.5322 - val_accuracy: 0.7350\n",
            "Epoch 64/100\n",
            "32/32 [==============================] - 40s 1s/step - loss: 0.4794 - accuracy: 0.7725 - val_loss: 0.5147 - val_accuracy: 0.7490\n",
            "Epoch 65/100\n",
            "32/32 [==============================] - 42s 1s/step - loss: 0.4700 - accuracy: 0.7750 - val_loss: 0.5342 - val_accuracy: 0.7390\n",
            "Epoch 66/100\n",
            "32/32 [==============================] - 44s 1s/step - loss: 0.4804 - accuracy: 0.7650 - val_loss: 0.5204 - val_accuracy: 0.7510\n",
            "Epoch 67/100\n",
            "32/32 [==============================] - 42s 1s/step - loss: 0.4735 - accuracy: 0.7740 - val_loss: 0.5324 - val_accuracy: 0.7410\n",
            "Epoch 68/100\n",
            "32/32 [==============================] - 40s 1s/step - loss: 0.4712 - accuracy: 0.7850 - val_loss: 0.5220 - val_accuracy: 0.7420\n",
            "Epoch 69/100\n",
            "32/32 [==============================] - 45s 1s/step - loss: 0.4838 - accuracy: 0.7660 - val_loss: 0.5213 - val_accuracy: 0.7490\n",
            "Epoch 70/100\n",
            "32/32 [==============================] - 41s 1s/step - loss: 0.4792 - accuracy: 0.7700 - val_loss: 0.5418 - val_accuracy: 0.7240\n",
            "Epoch 71/100\n",
            "32/32 [==============================] - 43s 1s/step - loss: 0.4741 - accuracy: 0.7615 - val_loss: 0.5087 - val_accuracy: 0.7500\n",
            "Epoch 72/100\n",
            "32/32 [==============================] - 43s 1s/step - loss: 0.4612 - accuracy: 0.7795 - val_loss: 0.5132 - val_accuracy: 0.7450\n",
            "Epoch 73/100\n",
            "32/32 [==============================] - 45s 1s/step - loss: 0.4726 - accuracy: 0.7790 - val_loss: 0.5234 - val_accuracy: 0.7390\n",
            "Epoch 74/100\n",
            "32/32 [==============================] - 44s 1s/step - loss: 0.4686 - accuracy: 0.7810 - val_loss: 0.5233 - val_accuracy: 0.7470\n",
            "Epoch 75/100\n",
            "32/32 [==============================] - 41s 1s/step - loss: 0.4661 - accuracy: 0.7750 - val_loss: 0.5279 - val_accuracy: 0.7390\n",
            "Epoch 76/100\n",
            "32/32 [==============================] - 45s 1s/step - loss: 0.4699 - accuracy: 0.7840 - val_loss: 0.5196 - val_accuracy: 0.7490\n"
          ]
        }
      ]
    },
    {
      "cell_type": "markdown",
      "source": [
        "### 전이학습\n",
        "- 기존에 학습이 잘 된 모델을 이용하는 방법\n",
        "- 전이학습에는 특성 추출 방식과 미세 조정 방식이 있음\n"
      ],
      "metadata": {
        "id": "WaLkapaWpTMH"
      }
    },
    {
      "cell_type": "code",
      "source": [
        "# vgg16 모델 import\n",
        "from tensorflow.keras.applications import VGG16"
      ],
      "metadata": {
        "id": "H_Xfoi9_ad1s"
      },
      "execution_count": 28,
      "outputs": []
    },
    {
      "cell_type": "code",
      "source": [
        "vgg16 = VGG16(\n",
        "    include_top=False, # 불러온 모델의 MLP 분류기를 쓸건가?\n",
        "    weights='imagenet', # imagenet에서 사용했ㄷ너 1000개 클래스에 대응하는 가중치를 사용하겠다(사전학습 가중치 사용)\n",
        "    input_shape = (224, 224, 3) # 이미지 사이즈\n",
        "    )"
      ],
      "metadata": {
        "colab": {
          "base_uri": "https://localhost:8080/"
        },
        "id": "gBNmS0EypSdg",
        "outputId": "9511dc0e-33a6-40b8-a37b-3fede64708ba"
      },
      "execution_count": 29,
      "outputs": [
        {
          "output_type": "stream",
          "name": "stdout",
          "text": [
            "Downloading data from https://storage.googleapis.com/tensorflow/keras-applications/vgg16/vgg16_weights_tf_dim_ordering_tf_kernels_notop.h5\n",
            "58889256/58889256 [==============================] - 0s 0us/step\n"
          ]
        }
      ]
    },
    {
      "cell_type": "code",
      "source": [
        "vgg16.summary()"
      ],
      "metadata": {
        "colab": {
          "base_uri": "https://localhost:8080/"
        },
        "id": "mQw6LjwspSgD",
        "outputId": "8891cf2f-0966-40f3-f824-7a0696ac5287"
      },
      "execution_count": 30,
      "outputs": [
        {
          "output_type": "stream",
          "name": "stdout",
          "text": [
            "Model: \"vgg16\"\n",
            "_________________________________________________________________\n",
            " Layer (type)                Output Shape              Param #   \n",
            "=================================================================\n",
            " input_1 (InputLayer)        [(None, 224, 224, 3)]     0         \n",
            "                                                                 \n",
            " block1_conv1 (Conv2D)       (None, 224, 224, 64)      1792      \n",
            "                                                                 \n",
            " block1_conv2 (Conv2D)       (None, 224, 224, 64)      36928     \n",
            "                                                                 \n",
            " block1_pool (MaxPooling2D)  (None, 112, 112, 64)      0         \n",
            "                                                                 \n",
            " block2_conv1 (Conv2D)       (None, 112, 112, 128)     73856     \n",
            "                                                                 \n",
            " block2_conv2 (Conv2D)       (None, 112, 112, 128)     147584    \n",
            "                                                                 \n",
            " block2_pool (MaxPooling2D)  (None, 56, 56, 128)       0         \n",
            "                                                                 \n",
            " block3_conv1 (Conv2D)       (None, 56, 56, 256)       295168    \n",
            "                                                                 \n",
            " block3_conv2 (Conv2D)       (None, 56, 56, 256)       590080    \n",
            "                                                                 \n",
            " block3_conv3 (Conv2D)       (None, 56, 56, 256)       590080    \n",
            "                                                                 \n",
            " block3_pool (MaxPooling2D)  (None, 28, 28, 256)       0         \n",
            "                                                                 \n",
            " block4_conv1 (Conv2D)       (None, 28, 28, 512)       1180160   \n",
            "                                                                 \n",
            " block4_conv2 (Conv2D)       (None, 28, 28, 512)       2359808   \n",
            "                                                                 \n",
            " block4_conv3 (Conv2D)       (None, 28, 28, 512)       2359808   \n",
            "                                                                 \n",
            " block4_pool (MaxPooling2D)  (None, 14, 14, 512)       0         \n",
            "                                                                 \n",
            " block5_conv1 (Conv2D)       (None, 14, 14, 512)       2359808   \n",
            "                                                                 \n",
            " block5_conv2 (Conv2D)       (None, 14, 14, 512)       2359808   \n",
            "                                                                 \n",
            " block5_conv3 (Conv2D)       (None, 14, 14, 512)       2359808   \n",
            "                                                                 \n",
            " block5_pool (MaxPooling2D)  (None, 7, 7, 512)         0         \n",
            "                                                                 \n",
            "=================================================================\n",
            "Total params: 14714688 (56.13 MB)\n",
            "Trainable params: 14714688 (56.13 MB)\n",
            "Non-trainable params: 0 (0.00 Byte)\n",
            "_________________________________________________________________\n"
          ]
        }
      ]
    },
    {
      "cell_type": "code",
      "source": [
        "# 특성 추출부에 MLP를 결합해주자\n",
        "# 우리가 실습할 부분은 미세 조정 방식\n",
        "# 동결 시킬 층을 확인하기 위해 불러온 VGG16 모델의 층의 이름을 확인해보자\n",
        "for layer in vgg16.layers:\n",
        "  print(layer.name)"
      ],
      "metadata": {
        "colab": {
          "base_uri": "https://localhost:8080/"
        },
        "id": "cojHSj-9pSh3",
        "outputId": "6f263182-cb7d-46f6-e43e-48b81bc98574"
      },
      "execution_count": 31,
      "outputs": [
        {
          "output_type": "stream",
          "name": "stdout",
          "text": [
            "<keras.src.engine.input_layer.InputLayer object at 0x7ac055d697e0>\n",
            "<keras.src.layers.convolutional.conv2d.Conv2D object at 0x7abfe41a7ee0>\n",
            "<keras.src.layers.convolutional.conv2d.Conv2D object at 0x7ac0401306a0>\n",
            "<keras.src.layers.pooling.max_pooling2d.MaxPooling2D object at 0x7abfe41a77f0>\n",
            "<keras.src.layers.convolutional.conv2d.Conv2D object at 0x7abfe41ef280>\n",
            "<keras.src.layers.convolutional.conv2d.Conv2D object at 0x7ac056d7b5b0>\n",
            "<keras.src.layers.pooling.max_pooling2d.MaxPooling2D object at 0x7abfde3786d0>\n",
            "<keras.src.layers.convolutional.conv2d.Conv2D object at 0x7ac040dd2140>\n",
            "<keras.src.layers.convolutional.conv2d.Conv2D object at 0x7abfe41a66e0>\n",
            "<keras.src.layers.convolutional.conv2d.Conv2D object at 0x7ac04814a5f0>\n",
            "<keras.src.layers.pooling.max_pooling2d.MaxPooling2D object at 0x7abfde37b310>\n",
            "<keras.src.layers.convolutional.conv2d.Conv2D object at 0x7abfe41a5de0>\n",
            "<keras.src.layers.convolutional.conv2d.Conv2D object at 0x7abfde37b5b0>\n",
            "<keras.src.layers.convolutional.conv2d.Conv2D object at 0x7abfe41eefe0>\n",
            "<keras.src.layers.pooling.max_pooling2d.MaxPooling2D object at 0x7abfde37b670>\n",
            "<keras.src.layers.convolutional.conv2d.Conv2D object at 0x7abfde37b460>\n",
            "<keras.src.layers.convolutional.conv2d.Conv2D object at 0x7abfde37a410>\n",
            "<keras.src.layers.convolutional.conv2d.Conv2D object at 0x7abfde379960>\n",
            "<keras.src.layers.pooling.max_pooling2d.MaxPooling2D object at 0x7abfde360970>\n"
          ]
        }
      ]
    },
    {
      "cell_type": "code",
      "source": [
        "# 신경망 설계\n",
        "# 뼈대 설정\n",
        "transfer_model = Sequential()\n",
        "\n",
        "# 미세 조정 방식 적용\n",
        "# 분류기와 맞닿은 block5_conv3층만 학습이 가능하도록 설정\n",
        "for layer in vgg16.layers:\n",
        "  if layer.name == 'block5_conv3':\n",
        "    layer.trainable = True\n",
        "  else :\n",
        "    layer.trainable = False\n",
        "\n",
        "# 모델 구현\n",
        "transfer_model.add(vgg16)\n",
        "\n",
        "transfer_model.add(Flatten())\n",
        "\n",
        "transfer_model.add(Dense(units=128, activation='relu'))\n",
        "\n",
        "# 출력층\n",
        "transfer_model.add(Dense(units=1, activation='sigmoid'))"
      ],
      "metadata": {
        "id": "8Cg0MGPlpSjt"
      },
      "execution_count": 32,
      "outputs": []
    },
    {
      "cell_type": "code",
      "source": [
        "# 모델 컴파일\n",
        "transfer_model.compile(optimizer='adam',\n",
        "                       loss = 'binary_crossentropy',\n",
        "                       metrics=['accuracy']\n",
        "                       )"
      ],
      "metadata": {
        "id": "kjKad6XvtANt"
      },
      "execution_count": 33,
      "outputs": []
    },
    {
      "cell_type": "code",
      "source": [
        "# 모델 학습\n",
        "transfer_model.fit(X_train, y_train,\n",
        "                   epochs=10,\n",
        "                   validation_split=0.3)"
      ],
      "metadata": {
        "colab": {
          "base_uri": "https://localhost:8080/"
        },
        "id": "8_x0xldDtN7h",
        "outputId": "19bf298e-4d3e-4887-d8a6-4b37433ec897"
      },
      "execution_count": 34,
      "outputs": [
        {
          "output_type": "stream",
          "name": "stdout",
          "text": [
            "Epoch 1/10\n",
            "44/44 [==============================] - 21s 309ms/step - loss: 3.4121 - accuracy: 0.8907 - val_loss: 0.4863 - val_accuracy: 0.8417\n",
            "Epoch 2/10\n",
            "44/44 [==============================] - 8s 181ms/step - loss: 0.0821 - accuracy: 0.9786 - val_loss: 0.4875 - val_accuracy: 0.9083\n",
            "Epoch 3/10\n",
            "44/44 [==============================] - 8s 182ms/step - loss: 0.0739 - accuracy: 0.9850 - val_loss: 0.5022 - val_accuracy: 0.9200\n",
            "Epoch 4/10\n",
            "44/44 [==============================] - 8s 175ms/step - loss: 0.0326 - accuracy: 0.9900 - val_loss: 0.2870 - val_accuracy: 0.9517\n",
            "Epoch 5/10\n",
            "44/44 [==============================] - 8s 183ms/step - loss: 0.0151 - accuracy: 0.9964 - val_loss: 0.5586 - val_accuracy: 0.9117\n",
            "Epoch 6/10\n",
            "44/44 [==============================] - 8s 184ms/step - loss: 0.0115 - accuracy: 0.9964 - val_loss: 0.6128 - val_accuracy: 0.9417\n",
            "Epoch 7/10\n",
            "44/44 [==============================] - 8s 177ms/step - loss: 0.0057 - accuracy: 0.9993 - val_loss: 0.8629 - val_accuracy: 0.9350\n",
            "Epoch 8/10\n",
            "44/44 [==============================] - 8s 186ms/step - loss: 3.4359e-04 - accuracy: 1.0000 - val_loss: 1.8727 - val_accuracy: 0.8783\n",
            "Epoch 9/10\n",
            "44/44 [==============================] - 8s 179ms/step - loss: 1.9336e-04 - accuracy: 1.0000 - val_loss: 0.9302 - val_accuracy: 0.9383\n",
            "Epoch 10/10\n",
            "44/44 [==============================] - 8s 186ms/step - loss: 2.0658e-07 - accuracy: 1.0000 - val_loss: 0.9661 - val_accuracy: 0.9383\n"
          ]
        },
        {
          "output_type": "execute_result",
          "data": {
            "text/plain": [
              "<keras.src.callbacks.History at 0x7abfde37e9e0>"
            ]
          },
          "metadata": {},
          "execution_count": 34
        }
      ]
    },
    {
      "cell_type": "code",
      "source": [
        "transfer_model.evaluate(X_test, y_test)"
      ],
      "metadata": {
        "colab": {
          "base_uri": "https://localhost:8080/"
        },
        "id": "HxRVXPyit9O8",
        "outputId": "3c751317-ce6b-4360-911e-ab6582cd9b27"
      },
      "execution_count": 35,
      "outputs": [
        {
          "output_type": "stream",
          "name": "stdout",
          "text": [
            "32/32 [==============================] - 6s 184ms/step - loss: 0.3668 - accuracy: 0.9650\n"
          ]
        },
        {
          "output_type": "execute_result",
          "data": {
            "text/plain": [
              "[0.36682578921318054, 0.9649999737739563]"
            ]
          },
          "metadata": {},
          "execution_count": 35
        }
      ]
    },
    {
      "cell_type": "markdown",
      "source": [
        "### 주의점\n",
        "- 한번 학습 가능하도록 설정된 층은 가중치가 변경\n",
        "- 만약 동결층을 바꿔서 다시 학습 시키고 싶다면 처음부터 모델을 새롭게 import 해와야 한다."
      ],
      "metadata": {
        "id": "yFrSadfZuMHN"
      }
    }
  ]
}