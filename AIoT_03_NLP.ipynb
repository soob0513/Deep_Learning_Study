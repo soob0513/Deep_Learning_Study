{
  "nbformat": 4,
  "nbformat_minor": 0,
  "metadata": {
    "colab": {
      "provenance": []
    },
    "kernelspec": {
      "name": "python3",
      "display_name": "Python 3"
    },
    "language_info": {
      "name": "python"
    }
  },
  "cells": [
    {
      "cell_type": "code",
      "execution_count": 1,
      "metadata": {
        "colab": {
          "base_uri": "https://localhost:8080/"
        },
        "id": "Bzclszw3XF4C",
        "outputId": "1a0f8702-7a15-48e9-bbdb-deac7e4fdcd5"
      },
      "outputs": [
        {
          "output_type": "stream",
          "name": "stdout",
          "text": [
            "Mounted at /content/drive\n"
          ]
        }
      ],
      "source": [
        "from google.colab import drive\n",
        "drive.mount('/content/drive')"
      ]
    },
    {
      "cell_type": "code",
      "source": [
        "%cd /content/drive/MyDrive/Colab Notebooks/딥러닝"
      ],
      "metadata": {
        "colab": {
          "base_uri": "https://localhost:8080/"
        },
        "id": "cGysZ6dbXNEr",
        "outputId": "60663d02-c1ca-438a-adff-c6113db77bd1"
      },
      "execution_count": 4,
      "outputs": [
        {
          "output_type": "stream",
          "name": "stdout",
          "text": [
            "/content/drive/MyDrive/Colab Notebooks/딥러닝\n"
          ]
        }
      ]
    },
    {
      "cell_type": "markdown",
      "source": [
        "# 토큰화 (Tokenization)\n",
        "- 주어진 코퍼스(corpus)에서 토큰(token)이라 불리는 단위로 나누는 작업\n",
        "- 보통 의미있는 단위로 토큰을 정의함"
      ],
      "metadata": {
        "id": "Kz1CzCdodYoO"
      }
    },
    {
      "cell_type": "markdown",
      "source": [
        "## 1. 단어 토큰화 (Word Tokenization)\n",
        "- 구두점(. , ? ; ! 등)과 같은 문자는 제외"
      ],
      "metadata": {
        "id": "WLUdY9DNdqQN"
      }
    },
    {
      "cell_type": "code",
      "source": [
        "import nltk\n",
        "nltk.download('punkt')"
      ],
      "metadata": {
        "colab": {
          "base_uri": "https://localhost:8080/"
        },
        "id": "JKj-CDrxXNIl",
        "outputId": "1f288183-b30f-4370-f647-b539a77998b9"
      },
      "execution_count": 2,
      "outputs": [
        {
          "output_type": "stream",
          "name": "stderr",
          "text": [
            "[nltk_data] Downloading package punkt to /root/nltk_data...\n",
            "[nltk_data]   Unzipping tokenizers/punkt.zip.\n"
          ]
        },
        {
          "output_type": "execute_result",
          "data": {
            "text/plain": [
              "True"
            ]
          },
          "metadata": {},
          "execution_count": 2
        }
      ]
    },
    {
      "cell_type": "code",
      "source": [
        "from nltk.tokenize import word_tokenize\n",
        "from nltk.tokenize import WordPunctTokenizer"
      ],
      "metadata": {
        "id": "n4evyLahXNKY"
      },
      "execution_count": 3,
      "outputs": []
    },
    {
      "cell_type": "code",
      "source": [
        "# word_tokenize\n",
        "print('단어 토큰화1 :', word_tokenize(\"Don't be fooled by the dark sounding name, Mr. Harrison Orphanage is as cheery as cheery goes for a pastry shop.\"))"
      ],
      "metadata": {
        "colab": {
          "base_uri": "https://localhost:8080/"
        },
        "id": "D7a7MfYiYsr5",
        "outputId": "6648775c-465f-4fa2-9ad1-797859ba8d50"
      },
      "execution_count": 8,
      "outputs": [
        {
          "output_type": "stream",
          "name": "stdout",
          "text": [
            "단어 토큰화1 : ['Do', \"n't\", 'be', 'fooled', 'by', 'the', 'dark', 'sounding', 'name', ',', 'Mr.', 'Harrison', 'Orphanage', 'is', 'as', 'cheery', 'as', 'cheery', 'goes', 'for', 'a', 'pastry', 'shop', '.']\n"
          ]
        }
      ]
    },
    {
      "cell_type": "markdown",
      "source": [
        "- word_tokenize\n",
        "  - Don't -> Do / n't\n",
        "  - Jone's -> Jone / 's"
      ],
      "metadata": {
        "id": "KSgByH3iZJah"
      }
    },
    {
      "cell_type": "code",
      "source": [
        "# WordPunctTokenizer 실습\n",
        "print('단어 토큰화2 :', WordPunctTokenizer().tokenize(\"Don't be fooled by the dark sounding name, Mr. Adams Orphanage is as cheery as cheery goes for a pastry shop.\"))"
      ],
      "metadata": {
        "colab": {
          "base_uri": "https://localhost:8080/"
        },
        "id": "AKgDf53yXc9W",
        "outputId": "cf706427-5be0-4571-dc0a-74a835764d40"
      },
      "execution_count": 9,
      "outputs": [
        {
          "output_type": "stream",
          "name": "stdout",
          "text": [
            "단어 토큰화2 : ['Don', \"'\", 't', 'be', 'fooled', 'by', 'the', 'dark', 'sounding', 'name', ',', 'Mr', '.', 'Adams', 'Orphanage', 'is', 'as', 'cheery', 'as', 'cheery', 'goes', 'for', 'a', 'pastry', 'shop', '.']\n"
          ]
        }
      ]
    },
    {
      "cell_type": "markdown",
      "source": [
        "- WordPunctTokenizer\n",
        "  - Don't -> Don / ' / t\n",
        "  - Jone's -> Jone / ' / s"
      ],
      "metadata": {
        "id": "863t4PSnY-3j"
      }
    },
    {
      "cell_type": "code",
      "source": [
        "from nltk.tokenize import TreebankWordTokenizer\n",
        "\n",
        "tokenizer = TreebankWordTokenizer()\n",
        "\n",
        "text = \"Starting a home-based restaurant may be an ideal. it doesn't have a food chain or restaurant of their own.\"\n",
        "print('트리뱅크 워드토크나이저 :', tokenizer.tokenize(text))"
      ],
      "metadata": {
        "colab": {
          "base_uri": "https://localhost:8080/"
        },
        "id": "NGzF5VQkZxcg",
        "outputId": "3dacb293-44fb-4c85-a85e-0063f7307aba"
      },
      "execution_count": 10,
      "outputs": [
        {
          "output_type": "stream",
          "name": "stdout",
          "text": [
            "트리뱅크 워드토크나이저 : ['Starting', 'a', 'home-based', 'restaurant', 'may', 'be', 'an', 'ideal.', 'it', 'does', \"n't\", 'have', 'a', 'food', 'chain', 'or', 'restaurant', 'of', 'their', 'own', '.']\n"
          ]
        }
      ]
    },
    {
      "cell_type": "markdown",
      "source": [
        "## 토큰화에서 고려해야 할 사항!\n",
        "1. 구두점이나 특수 문자를 단순 제외해서는 안 된다.\n",
        "2. 줄임말과 단어 내에 띄어쓰기가 있는 경우"
      ],
      "metadata": {
        "id": "SoTR2DdaaY0k"
      }
    },
    {
      "cell_type": "markdown",
      "source": [
        "## 2. 문장 토큰화(Sentence Tokenization)\n",
        "- 문장 분류(sentence segmentation)이라고도 함\n",
        "- 코퍼스가 정제되지 않은 상태라면, 코퍼스는 문장 단위로 구분되어 있지 않아서 이를 사용하고자 하는 용도에 맞게 문장 토큰화가 필요할 수 도 있음\n",
        "- 문장 단위 구분의 기준은? -> 마침표, 느낌표, 물음표는 모호함\n",
        "#### **사용하는 코퍼스가 어떤 국적의 언어인지, 또는 해당 코퍼스 내에서 특수문자들이 어떻게 사용되고 있는지에 따라서 직접 규칙들을 정의**"
      ],
      "metadata": {
        "id": "39IaULKGZ0Xw"
      }
    },
    {
      "cell_type": "code",
      "source": [
        "# sent_tokenize는 영어 문장의 토큰화를 수행\n",
        "from nltk.tokenize import sent_tokenize\n",
        "\n",
        "text = \"His barber kept his word. But keeping such a huge secret to himself was driving him crazy. Finally, the barber went up a mountain and almost to the edge of a cliff. He dug a hole in the midst of some reeds. He looked about, to make sure no one was near.\"\n",
        "print('문장 토큰화1 :', sent_tokenize(text))"
      ],
      "metadata": {
        "colab": {
          "base_uri": "https://localhost:8080/"
        },
        "id": "3sOA4R-fZxgL",
        "outputId": "c1114c36-bf9f-4d7c-878c-0dfdb947a0dc"
      },
      "execution_count": 14,
      "outputs": [
        {
          "output_type": "stream",
          "name": "stdout",
          "text": [
            "문장 토큰화1 : ['His barber kept his word.', 'But keeping such a huge secret to himself was driving him crazy.', 'Finally, the barber went up a mountain and almost to the edge of a cliff.', 'He dug a hole in the midst of some reeds.', 'He looked about, to make sure no one was near.']\n"
          ]
        }
      ]
    },
    {
      "cell_type": "code",
      "source": [
        "# 문장 중간에 마침표가 다수 등장하는 경우\n",
        "text = \"I am actively looking for Ph.D. students. and you are a Ph.D student.\"\n",
        "print('문장 토큰화2 :', sent_tokenize(text))"
      ],
      "metadata": {
        "colab": {
          "base_uri": "https://localhost:8080/"
        },
        "id": "YrSFz_P_bERQ",
        "outputId": "c3221081-470a-4906-8351-6519d351c30a"
      },
      "execution_count": 15,
      "outputs": [
        {
          "output_type": "stream",
          "name": "stdout",
          "text": [
            "문장 토큰화2 : ['I am actively looking for Ph.D. students.', 'and you are a Ph.D student.']\n"
          ]
        }
      ]
    },
    {
      "cell_type": "code",
      "source": [
        "!pip install kss"
      ],
      "metadata": {
        "colab": {
          "base_uri": "https://localhost:8080/"
        },
        "id": "yX_cAqmQbEsu",
        "outputId": "26d8367e-6fa6-496c-d649-61d50d31c512"
      },
      "execution_count": 16,
      "outputs": [
        {
          "output_type": "stream",
          "name": "stdout",
          "text": [
            "Collecting kss\n",
            "  Downloading kss-6.0.4.tar.gz (1.1 MB)\n",
            "\u001b[2K     \u001b[90m━━━━━━━━━━━━━━━━━━━━━━━━━━━━━━━━━━━━━━━━\u001b[0m \u001b[32m1.1/1.1 MB\u001b[0m \u001b[31m5.0 MB/s\u001b[0m eta \u001b[36m0:00:00\u001b[0m\n",
            "\u001b[?25h  Preparing metadata (setup.py) ... \u001b[?25l\u001b[?25hdone\n",
            "Collecting emoji==1.2.0 (from kss)\n",
            "  Downloading emoji-1.2.0-py3-none-any.whl (131 kB)\n",
            "\u001b[2K     \u001b[90m━━━━━━━━━━━━━━━━━━━━━━━━━━━━━━━━━━━━━━━━\u001b[0m \u001b[32m131.3/131.3 kB\u001b[0m \u001b[31m12.3 MB/s\u001b[0m eta \u001b[36m0:00:00\u001b[0m\n",
            "\u001b[?25hCollecting pecab (from kss)\n",
            "  Downloading pecab-1.0.8.tar.gz (26.4 MB)\n",
            "\u001b[2K     \u001b[90m━━━━━━━━━━━━━━━━━━━━━━━━━━━━━━━━━━━━━━━━\u001b[0m \u001b[32m26.4/26.4 MB\u001b[0m \u001b[31m38.8 MB/s\u001b[0m eta \u001b[36m0:00:00\u001b[0m\n",
            "\u001b[?25h  Preparing metadata (setup.py) ... \u001b[?25l\u001b[?25hdone\n",
            "Requirement already satisfied: networkx in /usr/local/lib/python3.10/dist-packages (from kss) (3.3)\n",
            "Collecting jamo (from kss)\n",
            "  Downloading jamo-0.4.1-py3-none-any.whl (9.5 kB)\n",
            "Collecting hangul-jamo (from kss)\n",
            "  Downloading hangul_jamo-1.0.1-py3-none-any.whl (4.4 kB)\n",
            "Collecting tossi (from kss)\n",
            "  Downloading tossi-0.3.1.tar.gz (11 kB)\n",
            "  Preparing metadata (setup.py) ... \u001b[?25l\u001b[?25hdone\n",
            "Collecting distance (from kss)\n",
            "  Downloading Distance-0.1.3.tar.gz (180 kB)\n",
            "\u001b[2K     \u001b[90m━━━━━━━━━━━━━━━━━━━━━━━━━━━━━━━━━━━━━━━━\u001b[0m \u001b[32m180.3/180.3 kB\u001b[0m \u001b[31m18.7 MB/s\u001b[0m eta \u001b[36m0:00:00\u001b[0m\n",
            "\u001b[?25h  Preparing metadata (setup.py) ... \u001b[?25l\u001b[?25hdone\n",
            "Collecting pyyaml==6.0 (from kss)\n",
            "  Downloading PyYAML-6.0-cp310-cp310-manylinux_2_5_x86_64.manylinux1_x86_64.manylinux_2_12_x86_64.manylinux2010_x86_64.whl (682 kB)\n",
            "\u001b[2K     \u001b[90m━━━━━━━━━━━━━━━━━━━━━━━━━━━━━━━━━━━━━━━━\u001b[0m \u001b[32m682.2/682.2 kB\u001b[0m \u001b[31m49.1 MB/s\u001b[0m eta \u001b[36m0:00:00\u001b[0m\n",
            "\u001b[?25hCollecting unidecode (from kss)\n",
            "  Downloading Unidecode-1.3.8-py3-none-any.whl (235 kB)\n",
            "\u001b[2K     \u001b[90m━━━━━━━━━━━━━━━━━━━━━━━━━━━━━━━━━━━━━━━━\u001b[0m \u001b[32m235.5/235.5 kB\u001b[0m \u001b[31m23.0 MB/s\u001b[0m eta \u001b[36m0:00:00\u001b[0m\n",
            "\u001b[?25hCollecting cmudict (from kss)\n",
            "  Downloading cmudict-1.0.26-py3-none-any.whl (939 kB)\n",
            "\u001b[2K     \u001b[90m━━━━━━━━━━━━━━━━━━━━━━━━━━━━━━━━━━━━━━━━\u001b[0m \u001b[32m939.4/939.4 kB\u001b[0m \u001b[31m49.7 MB/s\u001b[0m eta \u001b[36m0:00:00\u001b[0m\n",
            "\u001b[?25hCollecting koparadigm (from kss)\n",
            "  Downloading koparadigm-0.10.0-py3-none-any.whl (1.6 MB)\n",
            "\u001b[2K     \u001b[90m━━━━━━━━━━━━━━━━━━━━━━━━━━━━━━━━━━━━━━━━\u001b[0m \u001b[32m1.6/1.6 MB\u001b[0m \u001b[31m58.1 MB/s\u001b[0m eta \u001b[36m0:00:00\u001b[0m\n",
            "\u001b[?25hCollecting kollocate (from kss)\n",
            "  Downloading kollocate-0.0.2-py3-none-any.whl (72.2 MB)\n",
            "\u001b[2K     \u001b[90m━━━━━━━━━━━━━━━━━━━━━━━━━━━━━━━━━━━━━━━━\u001b[0m \u001b[32m72.2/72.2 MB\u001b[0m \u001b[31m7.4 MB/s\u001b[0m eta \u001b[36m0:00:00\u001b[0m\n",
            "\u001b[?25hCollecting bs4 (from kss)\n",
            "  Downloading bs4-0.0.2-py2.py3-none-any.whl (1.2 kB)\n",
            "Requirement already satisfied: numpy in /usr/local/lib/python3.10/dist-packages (from kss) (1.25.2)\n",
            "Requirement already satisfied: pytest in /usr/local/lib/python3.10/dist-packages (from kss) (7.4.4)\n",
            "Requirement already satisfied: scipy in /usr/local/lib/python3.10/dist-packages (from kss) (1.11.4)\n",
            "Requirement already satisfied: beautifulsoup4 in /usr/local/lib/python3.10/dist-packages (from bs4->kss) (4.12.3)\n",
            "Requirement already satisfied: importlib-metadata>=5 in /usr/local/lib/python3.10/dist-packages (from cmudict->kss) (8.0.0)\n",
            "Requirement already satisfied: importlib-resources>=5 in /usr/local/lib/python3.10/dist-packages (from cmudict->kss) (6.4.0)\n",
            "Collecting whoosh (from kollocate->kss)\n",
            "  Downloading Whoosh-2.7.4-py2.py3-none-any.whl (468 kB)\n",
            "\u001b[2K     \u001b[90m━━━━━━━━━━━━━━━━━━━━━━━━━━━━━━━━━━━━━━━━\u001b[0m \u001b[32m468.8/468.8 kB\u001b[0m \u001b[31m38.0 MB/s\u001b[0m eta \u001b[36m0:00:00\u001b[0m\n",
            "\u001b[?25hCollecting xlrd==1.2.0 (from koparadigm->kss)\n",
            "  Downloading xlrd-1.2.0-py2.py3-none-any.whl (103 kB)\n",
            "\u001b[2K     \u001b[90m━━━━━━━━━━━━━━━━━━━━━━━━━━━━━━━━━━━━━━━━\u001b[0m \u001b[32m103.3/103.3 kB\u001b[0m \u001b[31m12.1 MB/s\u001b[0m eta \u001b[36m0:00:00\u001b[0m\n",
            "\u001b[?25hRequirement already satisfied: pyarrow in /usr/local/lib/python3.10/dist-packages (from pecab->kss) (14.0.2)\n",
            "Requirement already satisfied: regex in /usr/local/lib/python3.10/dist-packages (from pecab->kss) (2024.5.15)\n",
            "Requirement already satisfied: iniconfig in /usr/local/lib/python3.10/dist-packages (from pytest->kss) (2.0.0)\n",
            "Requirement already satisfied: packaging in /usr/local/lib/python3.10/dist-packages (from pytest->kss) (24.1)\n",
            "Requirement already satisfied: pluggy<2.0,>=0.12 in /usr/local/lib/python3.10/dist-packages (from pytest->kss) (1.5.0)\n",
            "Requirement already satisfied: exceptiongroup>=1.0.0rc8 in /usr/local/lib/python3.10/dist-packages (from pytest->kss) (1.2.1)\n",
            "Requirement already satisfied: tomli>=1.0.0 in /usr/local/lib/python3.10/dist-packages (from pytest->kss) (2.0.1)\n",
            "Requirement already satisfied: bidict in /usr/local/lib/python3.10/dist-packages (from tossi->kss) (0.23.1)\n",
            "Requirement already satisfied: six in /usr/local/lib/python3.10/dist-packages (from tossi->kss) (1.16.0)\n",
            "Requirement already satisfied: zipp>=0.5 in /usr/local/lib/python3.10/dist-packages (from importlib-metadata>=5->cmudict->kss) (3.19.2)\n",
            "Requirement already satisfied: soupsieve>1.2 in /usr/local/lib/python3.10/dist-packages (from beautifulsoup4->bs4->kss) (2.5)\n",
            "Building wheels for collected packages: kss, distance, pecab, tossi\n",
            "  Building wheel for kss (setup.py) ... \u001b[?25l\u001b[?25hdone\n",
            "  Created wheel for kss: filename=kss-6.0.4-cp310-cp310-linux_x86_64.whl size=1446486 sha256=e9ff6aff349f190d849617f360400771eb41d98c2845170f14c8c76da311411a\n",
            "  Stored in directory: /root/.cache/pip/wheels/dd/70/d5/c9308346829b1eb9e7267d74696919d2453aee6ce350f98b3b\n",
            "  Building wheel for distance (setup.py) ... \u001b[?25l\u001b[?25hdone\n",
            "  Created wheel for distance: filename=Distance-0.1.3-py3-none-any.whl size=16258 sha256=425951632fe7d20b624cf614015fcf01c55efd58291f47127b03bd6a00512f43\n",
            "  Stored in directory: /root/.cache/pip/wheels/e8/bb/de/f71bf63559ea9a921059a5405806f7ff6ed612a9231c4a9309\n",
            "  Building wheel for pecab (setup.py) ... \u001b[?25l\u001b[?25hdone\n",
            "  Created wheel for pecab: filename=pecab-1.0.8-py3-none-any.whl size=26646664 sha256=9f04aacf303d55f437653cfa899f0dd01e3901091d6a499b926bb1a84701dd20\n",
            "  Stored in directory: /root/.cache/pip/wheels/5c/6f/b4/ab61b8863d7d8b1409def8ae31adcaa089fa91b8d022ec309d\n",
            "  Building wheel for tossi (setup.py) ... \u001b[?25l\u001b[?25hdone\n",
            "  Created wheel for tossi: filename=tossi-0.3.1-py3-none-any.whl size=12130 sha256=71df72637d09c0d62f88fbb8d3b34b381ffcc8dd9e38fda129bfa706ccb5fead\n",
            "  Stored in directory: /root/.cache/pip/wheels/a7/18/60/1094a6fe93c8063efcd3e6700d09328216682e495a3c51af9f\n",
            "Successfully built kss distance pecab tossi\n",
            "Installing collected packages: whoosh, jamo, hangul-jamo, emoji, distance, xlrd, unidecode, tossi, pyyaml, kollocate, pecab, koparadigm, cmudict, bs4, kss\n",
            "  Attempting uninstall: xlrd\n",
            "    Found existing installation: xlrd 2.0.1\n",
            "    Uninstalling xlrd-2.0.1:\n",
            "      Successfully uninstalled xlrd-2.0.1\n",
            "  Attempting uninstall: pyyaml\n",
            "    Found existing installation: PyYAML 6.0.1\n",
            "    Uninstalling PyYAML-6.0.1:\n",
            "      Successfully uninstalled PyYAML-6.0.1\n",
            "Successfully installed bs4-0.0.2 cmudict-1.0.26 distance-0.1.3 emoji-1.2.0 hangul-jamo-1.0.1 jamo-0.4.1 kollocate-0.0.2 koparadigm-0.10.0 kss-6.0.4 pecab-1.0.8 pyyaml-6.0 tossi-0.3.1 unidecode-1.3.8 whoosh-2.7.4 xlrd-1.2.0\n"
          ]
        }
      ]
    },
    {
      "cell_type": "markdown",
      "source": [
        "### 한국어의 토큰화가 어려운 이유!\n",
        "1. 어순 -> 어순이 별로 안 중요하다.\n",
        "  - 나는 점심을 먹었습니다.\n",
        "  - 나는 먹었습니다. 점심을\n",
        "  - 점심을 먹었습니다.\n",
        "  - 저는 점심을 먹었습니다.\n",
        "\n",
        "2. 교착어\n",
        "  1. 조사 : 은, 는, 이, 가 -> 같은 단어라도 variation이 많다\n",
        "    - 조사나 접사를 분리하는 것이 중요한 과제\n",
        "  2. 형태소\n",
        "    - 영어처럼 단어 토큰화를 하려면 어절 토큰화가 아니라 형태소 토큰화를 수행해야 함\n",
        "    - ex) 에디가 책을 읽었다\n",
        "      - 어절 토큰화 -> ['에디가', '책을', '읽었다']\n",
        "      - 형태소 토큰화 -> 자립 : 에디, 책 / 의존 : -가, -을, 읽-, -었-, -다\n",
        "\n",
        "3. 띄어쓰기가 안 지켜진다/안 중요하다\n",
        "  - 띄어쓰기가 지켜진 코퍼스가 잘 없다 -> 토큰 분리가 어려움"
      ],
      "metadata": {
        "id": "OmVffNIlceyo"
      }
    },
    {
      "cell_type": "code",
      "source": [
        "import kss\n",
        "\n",
        "text = '딥 러닝 자연어 처리가 재미있기는 합니다. 그런데 문제는 영어보다 한국어로 할 때 너무 어렵습니다. 이제 해보면 알걸요?'\n",
        "print('한국어 문장 토큰화 :', kss.split_sentences(text))"
      ],
      "metadata": {
        "colab": {
          "base_uri": "https://localhost:8080/"
        },
        "id": "Ei3wT0y5bmXl",
        "outputId": "13a866e6-b102-405e-f326-3eb92e7dc308"
      },
      "execution_count": 17,
      "outputs": [
        {
          "output_type": "stream",
          "name": "stderr",
          "text": [
            "WARNING:root:Oh! You have mecab in your environment. Kss will take this as a backend! :D\n",
            "\n"
          ]
        },
        {
          "output_type": "stream",
          "name": "stdout",
          "text": [
            "한국어 문장 토큰화 : ['딥 러닝 자연어 처리가 재미있기는 합니다.', '그런데 문제는 영어보다 한국어로 할 때 너무 어렵습니다.', '이제 해보면 알걸요?']\n"
          ]
        }
      ]
    },
    {
      "cell_type": "markdown",
      "source": [
        "### NLTK와 KoNLPy를 이용한 영어, 한국어 토큰화 실습"
      ],
      "metadata": {
        "id": "s07QyxkMe8qy"
      }
    },
    {
      "cell_type": "code",
      "source": [
        "nltk.download('averaged_perceptron_tagger')"
      ],
      "metadata": {
        "colab": {
          "base_uri": "https://localhost:8080/"
        },
        "id": "iQMJTSivbmZ5",
        "outputId": "da16f1a2-015c-4e56-e06c-0199bdfc056e"
      },
      "execution_count": 18,
      "outputs": [
        {
          "output_type": "stream",
          "name": "stderr",
          "text": [
            "[nltk_data] Downloading package averaged_perceptron_tagger to\n",
            "[nltk_data]     /root/nltk_data...\n",
            "[nltk_data]   Unzipping taggers/averaged_perceptron_tagger.zip.\n"
          ]
        },
        {
          "output_type": "execute_result",
          "data": {
            "text/plain": [
              "True"
            ]
          },
          "metadata": {},
          "execution_count": 18
        }
      ]
    },
    {
      "cell_type": "code",
      "source": [
        "# NLTK에서는 Penn Treebank POS Tags라는 기준을 사용하여 품사를 태깅\n",
        "from nltk.tokenize import word_tokenize\n",
        "from nltk.tag import pos_tag\n",
        "\n",
        "text = \"I am actively looking for Ph.D. students. and you are a Ph.D. student.\"\n",
        "tokenized_sentence = word_tokenize(text)\n",
        "\n",
        "print('단어 토큰화 :',tokenized_sentence)\n",
        "print('품사 태깅 :',pos_tag(tokenized_sentence))"
      ],
      "metadata": {
        "colab": {
          "base_uri": "https://localhost:8080/"
        },
        "id": "Xy0bba6tbmcl",
        "outputId": "c63be3c8-1d21-4a9b-93c3-9d0cf827fff4"
      },
      "execution_count": 19,
      "outputs": [
        {
          "output_type": "stream",
          "name": "stdout",
          "text": [
            "단어 토큰화 : ['I', 'am', 'actively', 'looking', 'for', 'Ph.D.', 'students', '.', 'and', 'you', 'are', 'a', 'Ph.D.', 'student', '.']\n",
            "품사 태깅 : [('I', 'PRP'), ('am', 'VBP'), ('actively', 'RB'), ('looking', 'VBG'), ('for', 'IN'), ('Ph.D.', 'NNP'), ('students', 'NNS'), ('.', '.'), ('and', 'CC'), ('you', 'PRP'), ('are', 'VBP'), ('a', 'DT'), ('Ph.D.', 'NNP'), ('student', 'NN'), ('.', '.')]\n"
          ]
        }
      ]
    },
    {
      "cell_type": "markdown",
      "source": [
        "#### Penn Treebank POG Tags\n",
        "- PRP : 인칭대명사\n",
        "- VBP : 동사\n",
        "- RB : 부사\n",
        "- VBG : 현재부사\n",
        "- IN : 전치사\n",
        "- NNP : 고유 명사\n",
        "- CC : 접속사\n",
        "- DT : 관사\n",
        "\n",
        "  "
      ],
      "metadata": {
        "id": "unc_qpptflWw"
      }
    },
    {
      "cell_type": "markdown",
      "source": [
        "### KoNLPy\n",
        "- 한국어 자연어 처리 -> KoNLPy(코엔엘파이)라는 파이썬 패키지 사용\n",
        "- 코엔엘파이를 통해서 사용할 수 있는 형태소 분석기 -> Okt(Open Korea Text), 메캅(Mecab), 코모란(Komoran), 한나눔(Hannanum), 꼬꼬마(Kkma)"
      ],
      "metadata": {
        "id": "Znhfzuj1gKnN"
      }
    },
    {
      "cell_type": "code",
      "source": [
        "!pip install konlpy"
      ],
      "metadata": {
        "colab": {
          "base_uri": "https://localhost:8080/"
        },
        "id": "okkUiLRVbmjW",
        "outputId": "fc20e868-425c-48e8-8954-9ee7cab543bb"
      },
      "execution_count": 22,
      "outputs": [
        {
          "output_type": "stream",
          "name": "stdout",
          "text": [
            "Collecting konlpy\n",
            "  Downloading konlpy-0.6.0-py2.py3-none-any.whl (19.4 MB)\n",
            "\u001b[2K     \u001b[90m━━━━━━━━━━━━━━━━━━━━━━━━━━━━━━━━━━━━━━━━\u001b[0m \u001b[32m19.4/19.4 MB\u001b[0m \u001b[31m26.6 MB/s\u001b[0m eta \u001b[36m0:00:00\u001b[0m\n",
            "\u001b[?25hCollecting JPype1>=0.7.0 (from konlpy)\n",
            "  Downloading JPype1-1.5.0-cp310-cp310-manylinux_2_17_x86_64.manylinux2014_x86_64.whl (488 kB)\n",
            "\u001b[2K     \u001b[90m━━━━━━━━━━━━━━━━━━━━━━━━━━━━━━━━━━━━━━━━\u001b[0m \u001b[32m488.6/488.6 kB\u001b[0m \u001b[31m31.2 MB/s\u001b[0m eta \u001b[36m0:00:00\u001b[0m\n",
            "\u001b[?25hRequirement already satisfied: lxml>=4.1.0 in /usr/local/lib/python3.10/dist-packages (from konlpy) (4.9.4)\n",
            "Requirement already satisfied: numpy>=1.6 in /usr/local/lib/python3.10/dist-packages (from konlpy) (1.25.2)\n",
            "Requirement already satisfied: packaging in /usr/local/lib/python3.10/dist-packages (from JPype1>=0.7.0->konlpy) (24.1)\n",
            "Installing collected packages: JPype1, konlpy\n",
            "Successfully installed JPype1-1.5.0 konlpy-0.6.0\n"
          ]
        }
      ]
    },
    {
      "cell_type": "code",
      "source": [
        "from konlpy.tag import Okt\n",
        "from konlpy.tag import Kkma\n",
        "\n",
        "okt = Okt()\n",
        "kkma = Kkma()\n",
        "\n",
        "print('OKT 형태소 분석 :',okt.morphs(\"열심히 코딩한 당신, 연휴에는 여행을 가봐요\"))\n",
        "print('OKT 품사 태깅 :',okt.pos(\"열심히 코딩한 당신, 연휴에는 여행을 가봐요\"))\n",
        "print('OKT 명사 추출 :',okt.nouns(\"열심히 코딩한 당신, 연휴에는 여행을 가봐요\"))"
      ],
      "metadata": {
        "colab": {
          "base_uri": "https://localhost:8080/"
        },
        "id": "-e5RxcCHfPqc",
        "outputId": "74808a3b-f931-45ea-da86-1f962644bfb5"
      },
      "execution_count": 23,
      "outputs": [
        {
          "output_type": "stream",
          "name": "stdout",
          "text": [
            "OKT 형태소 분석 : ['열심히', '코딩', '한', '당신', ',', '연휴', '에는', '여행', '을', '가봐요']\n",
            "OKT 품사 태깅 : [('열심히', 'Adverb'), ('코딩', 'Noun'), ('한', 'Josa'), ('당신', 'Noun'), (',', 'Punctuation'), ('연휴', 'Noun'), ('에는', 'Josa'), ('여행', 'Noun'), ('을', 'Josa'), ('가봐요', 'Verb')]\n",
            "OKT 명사 추출 : ['코딩', '당신', '연휴', '여행']\n"
          ]
        }
      ]
    },
    {
      "cell_type": "code",
      "source": [
        "print('꼬꼬마 형태소 분석 :',kkma.morphs(\"열심히 코딩한 당신, 연휴에는 여행을 가봐요\"))\n",
        "print('꼬꼬마 품사 태깅 :',kkma.pos(\"열심히 코딩한 당신, 연휴에는 여행을 가봐요\"))\n",
        "print('꼬꼬마 명사 추출 :',kkma.nouns(\"열심히 코딩한 당신, 연휴에는 여행을 가봐요\"))"
      ],
      "metadata": {
        "colab": {
          "base_uri": "https://localhost:8080/"
        },
        "id": "w6oIJa8uilMH",
        "outputId": "a49f332e-a142-42c4-d337-4de7dddfed9f"
      },
      "execution_count": 24,
      "outputs": [
        {
          "output_type": "stream",
          "name": "stdout",
          "text": [
            "꼬꼬마 형태소 분석 : ['열심히', '코딩', '하', 'ㄴ', '당신', ',', '연휴', '에', '는', '여행', '을', '가보', '아요']\n",
            "꼬꼬마 품사 태깅 : [('열심히', 'MAG'), ('코딩', 'NNG'), ('하', 'XSV'), ('ㄴ', 'ETD'), ('당신', 'NP'), (',', 'SP'), ('연휴', 'NNG'), ('에', 'JKM'), ('는', 'JX'), ('여행', 'NNG'), ('을', 'JKO'), ('가보', 'VV'), ('아요', 'EFN')]\n",
            "꼬꼬마 명사 추출 : ['코딩', '당신', '연휴', '여행']\n"
          ]
        }
      ]
    },
    {
      "cell_type": "markdown",
      "source": [
        "#### Okt 형태소 분석기의 메소드들\n",
        "1. morphs : 형태소 추출\n",
        "2. pos : 품사 태깅(Part-of-speech tagging)\n",
        "3. nouns : 명사 추출"
      ],
      "metadata": {
        "id": "Rz5XMbS5gMyS"
      }
    },
    {
      "cell_type": "markdown",
      "source": [
        "# 자연어 처리 기초 - 텍스트 데이터의 정제와 정규화\n",
        "- 정제(cleaning) : 갖고 있는 코퍼스로부터 노이즈 데이터를 제거\n",
        "  - 토큰화 작업보다 먼저 하기도 하고, 남아있는 노이즈들의 제거를 위해 지속적으로 이루어지기도 함\n",
        "- 정규화(nomalization) : 표현 방법이 다른 단어들을 통합시켜서 같은 단어로 만들어줌"
      ],
      "metadata": {
        "id": "_r0ZUICai_Nn"
      }
    },
    {
      "cell_type": "markdown",
      "source": [
        "1. 규칙에 기반한 표기가 다른 단어들의 통합\n",
        "2. 대,소문자 통합\n",
        "  - 소문자 변환을 사용하면 automobile을 찾으면 Automobile도 찾을 수 있다\n",
        "  - 무작정 통합은 주의!! -> 회사 이름, 사람 이름\n",
        "3. 불필요한 단어의 제거\n",
        "  - 1) 등장 빈도가 적은 단어\n",
        "  - 2) 길이가 짧은 단어"
      ],
      "metadata": {
        "id": "--qXO20bjVDO"
      }
    },
    {
      "cell_type": "code",
      "source": [
        "import re\n",
        "text = \"I was wondering if anyone out there could enlighten me on this car.\"\n",
        "\n",
        "# 길이가 1~2인 단어들을 정규 표현식을 이용하여 삭제\n",
        "shortword = re.compile(r'\\W*\\b\\w{1,2}\\b')\n",
        "print(shortword.sub('', text))\n",
        "# I, if, me, on 삭제되었다"
      ],
      "metadata": {
        "colab": {
          "base_uri": "https://localhost:8080/"
        },
        "id": "IICrADsofgCF",
        "outputId": "e2dfe9c7-68f4-4ffe-b47e-a6098db4a894"
      },
      "execution_count": 25,
      "outputs": [
        {
          "output_type": "stream",
          "name": "stdout",
          "text": [
            " was wondering anyone out there could enlighten this car.\n"
          ]
        }
      ]
    },
    {
      "cell_type": "markdown",
      "source": [
        "### 정규 표현식(Regular Expression)\n",
        "- HTML문서의 HTML태그들, 뉴스 기사 크롤링 시 게재 시간 등\n",
        "- 코퍼스 내에 계속해서 등장하는 글자들을 규칙에 기반하여 한 번에 제거"
      ],
      "metadata": {
        "id": "SumQXY-zkK1i"
      }
    },
    {
      "cell_type": "markdown",
      "source": [
        "## 불용어(Stopwords)\n",
        "- 실제 의미 분석을 할 때 큰 의미가 없는 단어 토큰 제거\n",
        "- ex) I, my, me, over, 조사, 접미사 등등\n",
        "- 개발자가 직접 정의도 가능!"
      ],
      "metadata": {
        "id": "Y4Ef5ioAlENQ"
      }
    },
    {
      "cell_type": "code",
      "source": [
        "from nltk.corpus import stopwords\n",
        "from nltk.tokenize import word_tokenize\n",
        "from konlpy.tag import Okt"
      ],
      "metadata": {
        "id": "3Z7x6oZzkBnT"
      },
      "execution_count": 26,
      "outputs": []
    },
    {
      "cell_type": "code",
      "source": [
        "nltk.download('stopwords')"
      ],
      "metadata": {
        "colab": {
          "base_uri": "https://localhost:8080/"
        },
        "id": "FisYs6zOk_Zx",
        "outputId": "57d01c8f-1b8d-4d07-c6d5-3d07e117cdda"
      },
      "execution_count": 27,
      "outputs": [
        {
          "output_type": "stream",
          "name": "stderr",
          "text": [
            "[nltk_data] Downloading package stopwords to /root/nltk_data...\n",
            "[nltk_data]   Unzipping corpora/stopwords.zip.\n"
          ]
        },
        {
          "output_type": "execute_result",
          "data": {
            "text/plain": [
              "True"
            ]
          },
          "metadata": {},
          "execution_count": 27
        }
      ]
    },
    {
      "cell_type": "code",
      "source": [
        "# NLTK에서 불용어 확인하기\n",
        "stop_words_list = stopwords.words('english')\n",
        "print('불용어 개수 :', len(stop_words_list))\n",
        "print('불용어 10개 출력 :',stop_words_list[:10])"
      ],
      "metadata": {
        "colab": {
          "base_uri": "https://localhost:8080/"
        },
        "id": "ePEXf63hlfKA",
        "outputId": "2b025425-a6d3-4b36-d08b-606569e3d5e1"
      },
      "execution_count": 28,
      "outputs": [
        {
          "output_type": "stream",
          "name": "stdout",
          "text": [
            "불용어 개수 : 179\n",
            "불용어 10개 출력 : ['i', 'me', 'my', 'myself', 'we', 'our', 'ours', 'ourselves', 'you', \"you're\"]\n"
          ]
        }
      ]
    },
    {
      "cell_type": "code",
      "source": [
        "# NLTK를 통해 불용어 제거하기\n",
        "example = \"Family is not an important thing. It's everything.\"\n",
        "stop_words = set(stopwords.words('english'))\n",
        "\n",
        "word_tokens = word_tokenize(example)\n",
        "\n",
        "result = []\n",
        "for word in word_tokens:\n",
        "    if word not in stop_words:\n",
        "        result.append(word)\n",
        "\n",
        "print('불용어 제거 전 :',word_tokens)\n",
        "print('불용어 제거 후 :',result)"
      ],
      "metadata": {
        "colab": {
          "base_uri": "https://localhost:8080/"
        },
        "id": "Ce2uq4EYlfMC",
        "outputId": "ca1aea99-400e-441d-84eb-2b9f2832bd52"
      },
      "execution_count": 29,
      "outputs": [
        {
          "output_type": "stream",
          "name": "stdout",
          "text": [
            "불용어 제거 전 : ['Family', 'is', 'not', 'an', 'important', 'thing', '.', 'It', \"'s\", 'everything', '.']\n",
            "불용어 제거 후 : ['Family', 'important', 'thing', '.', 'It', \"'s\", 'everything', '.']\n"
          ]
        }
      ]
    },
    {
      "cell_type": "markdown",
      "source": [
        "#### 한국어에서 불용어 제거하기\n",
        "- 토큰화 후에 조사, 접속사 등을 제거\n",
        "- 직접 불용어를 정의하고 제거하기"
      ],
      "metadata": {
        "id": "Z8c_4RHflrO9"
      }
    },
    {
      "cell_type": "code",
      "source": [
        "okt = Okt()\n",
        "\n",
        "example = \"고기를 아무렇게나 구우려고 하면 안 돼. 고기라고 다 같은 게 아니거든. 예컨대 삼겹살을 구울 때는 중요한 게 있지.\"\n",
        "stop_words = \"를 아무렇게나 구 우려 고 안 돼 같은 게 구울 때 는\"\n",
        "\n",
        "stop_words = set(stop_words.split(' '))  # 불용어 사전 만들기\n",
        "word_tokens = okt.morphs(example)        # 형태소 분석\n",
        "\n",
        "result = [word for word in word_tokens if not word in stop_words]\n",
        "\n",
        "print('불용어 제거 전 :',word_tokens)\n",
        "print('불용어 제거 후 :',result)\n"
      ],
      "metadata": {
        "colab": {
          "base_uri": "https://localhost:8080/"
        },
        "id": "_X1e2wyolfN6",
        "outputId": "8743cf55-a3d0-489e-b508-a2d218b26075"
      },
      "execution_count": 30,
      "outputs": [
        {
          "output_type": "stream",
          "name": "stdout",
          "text": [
            "불용어 제거 전 : ['고기', '를', '아무렇게나', '구', '우려', '고', '하면', '안', '돼', '.', '고기', '라고', '다', '같은', '게', '아니거든', '.', '예컨대', '삼겹살', '을', '구울', '때', '는', '중요한', '게', '있지', '.']\n",
            "불용어 제거 후 : ['고기', '하면', '.', '고기', '라고', '다', '아니거든', '.', '예컨대', '삼겹살', '을', '중요한', '있지', '.']\n"
          ]
        }
      ]
    },
    {
      "cell_type": "markdown",
      "source": [
        "- 보편적으로 선택하는 한국어 불용어 리스트 -> https://www.ranks.nl/stopwords/korean\n",
        "- 불용어가 많은 경우 -> 코드 내에서 직접 정의하지 않고 txt 파일이나 csv 파일로 정리 -> 불러와서 사용"
      ],
      "metadata": {
        "id": "kG0qfZImmE9F"
      }
    },
    {
      "cell_type": "markdown",
      "source": [
        "# 자연어 처리 기초 - 정규 표현식(Regular Expression; Regex)\n",
        "- 정규 표현식 모듈 re\n",
        "- NLTK를 통한 정규 표현식 -> 토큰화"
      ],
      "metadata": {
        "id": "dHqw6nUTm4Ei"
      }
    },
    {
      "cell_type": "markdown",
      "source": [
        "### 1) 정규표현식 문법\n",
        "![img1.png](data:image/png;base64,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)\n",
        "\n",
        "![img2.png](data:image/png;base64,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)"
      ],
      "metadata": {
        "id": "zBgdzq40n1Vb"
      }
    },
    {
      "cell_type": "markdown",
      "source": [
        "### 2) 정규표현식 모듈 함수\n",
        "![image03.png](data:image/png;base64,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)"
      ],
      "metadata": {
        "id": "YMukHk31oBD2"
      }
    },
    {
      "cell_type": "code",
      "source": [
        "import re"
      ],
      "metadata": {
        "id": "Hn6YdtfZpCuE"
      },
      "execution_count": null,
      "outputs": []
    },
    {
      "cell_type": "markdown",
      "source": [
        ". 기호"
      ],
      "metadata": {
        "id": "xvqUzINTpYdo"
      }
    },
    {
      "cell_type": "code",
      "source": [
        "r = re.compile(\"a.c\")  # a와 c 사이에 1개의 문자가 올 수 있다.\n",
        "r.search(\"kkk\") # a랑 c 없음 -> 아무런 결과도 출력되지 않는다."
      ],
      "metadata": {
        "id": "blHnW8T-lfPv"
      },
      "execution_count": 45,
      "outputs": []
    },
    {
      "cell_type": "code",
      "source": [
        "r.search(\"abc\")  # a와 c 사이에 b가 위치"
      ],
      "metadata": {
        "colab": {
          "base_uri": "https://localhost:8080/"
        },
        "id": "DHE76j-4lfRY",
        "outputId": "96090b6b-8787-49f8-eadb-536704660a08"
      },
      "execution_count": 46,
      "outputs": [
        {
          "output_type": "execute_result",
          "data": {
            "text/plain": [
              "<re.Match object; span=(0, 3), match='abc'>"
            ]
          },
          "metadata": {},
          "execution_count": 46
        }
      ]
    },
    {
      "cell_type": "code",
      "source": [
        "r.search(\"akc\") # a와 c 사이에 k가 위치"
      ],
      "metadata": {
        "colab": {
          "base_uri": "https://localhost:8080/"
        },
        "id": "OZbdhOZPpzoy",
        "outputId": "c1b4de05-9144-4eed-a352-cc56b080680a"
      },
      "execution_count": 47,
      "outputs": [
        {
          "output_type": "execute_result",
          "data": {
            "text/plain": [
              "<re.Match object; span=(0, 3), match='akc'>"
            ]
          },
          "metadata": {},
          "execution_count": 47
        }
      ]
    },
    {
      "cell_type": "markdown",
      "source": [
        "? 기호"
      ],
      "metadata": {
        "id": "DkfH-Ih1parG"
      }
    },
    {
      "cell_type": "code",
      "source": [
        "r = re.compile(\"ab?c\")  # 문자의 개수가 0 또는 1개\n",
        "r.search(\"abbc\") # 2개가 왔다 -> 아무런 결과도 출력되지 않는다."
      ],
      "metadata": {
        "id": "rdL3_VzSlfTb"
      },
      "execution_count": 33,
      "outputs": []
    },
    {
      "cell_type": "code",
      "source": [
        "r.search(\"abc\")"
      ],
      "metadata": {
        "colab": {
          "base_uri": "https://localhost:8080/"
        },
        "id": "k__RfZfMow9Q",
        "outputId": "d4654cf6-6924-403b-ccb7-14582de40492"
      },
      "execution_count": 34,
      "outputs": [
        {
          "output_type": "execute_result",
          "data": {
            "text/plain": [
              "<re.Match object; span=(0, 3), match='abc'>"
            ]
          },
          "metadata": {},
          "execution_count": 34
        }
      ]
    },
    {
      "cell_type": "code",
      "source": [
        "r.search(\"ac\")"
      ],
      "metadata": {
        "colab": {
          "base_uri": "https://localhost:8080/"
        },
        "id": "D5-v9Lzcow2Z",
        "outputId": "efe2e143-43ad-45d0-ea89-682442554e81"
      },
      "execution_count": 35,
      "outputs": [
        {
          "output_type": "execute_result",
          "data": {
            "text/plain": [
              "<re.Match object; span=(0, 2), match='ac'>"
            ]
          },
          "metadata": {},
          "execution_count": 35
        }
      ]
    },
    {
      "cell_type": "markdown",
      "source": [
        "* 기호"
      ],
      "metadata": {
        "id": "9uFtG3capgsM"
      }
    },
    {
      "cell_type": "code",
      "source": [
        "r = re.compile(\"ab*c\")  # 바로 앞에 위치한 문자가 0개 이상 -> 개수 제한 없다!\n",
        "r.search(\"a\") # c 없음 -> 아무런 결과도 출력되지 않는다."
      ],
      "metadata": {
        "id": "KyQAToMzowxc"
      },
      "execution_count": 36,
      "outputs": []
    },
    {
      "cell_type": "code",
      "source": [
        "r.search(\"ac\")"
      ],
      "metadata": {
        "colab": {
          "base_uri": "https://localhost:8080/"
        },
        "id": "8WeKc1LtpLCw",
        "outputId": "f02b956b-d7c9-41b8-ab01-15144e22ac97"
      },
      "execution_count": 37,
      "outputs": [
        {
          "output_type": "execute_result",
          "data": {
            "text/plain": [
              "<re.Match object; span=(0, 2), match='ac'>"
            ]
          },
          "metadata": {},
          "execution_count": 37
        }
      ]
    },
    {
      "cell_type": "code",
      "source": [
        "r.search(\"abc\")"
      ],
      "metadata": {
        "colab": {
          "base_uri": "https://localhost:8080/"
        },
        "id": "ukr23KSTpMKI",
        "outputId": "ec49f899-bc86-4b82-a6d8-1ffe0df9a5ae"
      },
      "execution_count": 38,
      "outputs": [
        {
          "output_type": "execute_result",
          "data": {
            "text/plain": [
              "<re.Match object; span=(0, 3), match='abc'>"
            ]
          },
          "metadata": {},
          "execution_count": 38
        }
      ]
    },
    {
      "cell_type": "code",
      "source": [
        "r.search(\"abbbbc\")"
      ],
      "metadata": {
        "colab": {
          "base_uri": "https://localhost:8080/"
        },
        "id": "oqE7kPXlpNTQ",
        "outputId": "9a566685-79f3-40b5-e5a3-13db3ba0280e"
      },
      "execution_count": 39,
      "outputs": [
        {
          "output_type": "execute_result",
          "data": {
            "text/plain": [
              "<re.Match object; span=(0, 6), match='abbbbc'>"
            ]
          },
          "metadata": {},
          "execution_count": 39
        }
      ]
    },
    {
      "cell_type": "markdown",
      "source": [
        "``+ 기호``"
      ],
      "metadata": {
        "id": "OZuBYdLNpk0j"
      }
    },
    {
      "cell_type": "code",
      "source": [
        "r = re.compile(\"ab+c\")  # a b+ c -> b가 1개 이상있어야 한다\n",
        "r.search(\"ac\") # 아무런 결과도 출력되지 않는다."
      ],
      "metadata": {
        "id": "zdXNAM6spOxQ"
      },
      "execution_count": 40,
      "outputs": []
    },
    {
      "cell_type": "code",
      "source": [
        "r.search(\"abc\")"
      ],
      "metadata": {
        "colab": {
          "base_uri": "https://localhost:8080/"
        },
        "id": "Hs-EQYu7pRyt",
        "outputId": "a90f7af4-ae09-4b22-f2be-7574ae0754cb"
      },
      "execution_count": 41,
      "outputs": [
        {
          "output_type": "execute_result",
          "data": {
            "text/plain": [
              "<re.Match object; span=(0, 3), match='abc'>"
            ]
          },
          "metadata": {},
          "execution_count": 41
        }
      ]
    },
    {
      "cell_type": "code",
      "source": [
        "r.search(\"abbbbc\")"
      ],
      "metadata": {
        "colab": {
          "base_uri": "https://localhost:8080/"
        },
        "id": "n8McrXdmpTlh",
        "outputId": "3d5b4066-8709-4974-97c2-3225c551169b"
      },
      "execution_count": 42,
      "outputs": [
        {
          "output_type": "execute_result",
          "data": {
            "text/plain": [
              "<re.Match object; span=(0, 6), match='abbbbc'>"
            ]
          },
          "metadata": {},
          "execution_count": 42
        }
      ]
    },
    {
      "cell_type": "markdown",
      "source": [
        "^기호"
      ],
      "metadata": {
        "id": "oLHSpUmpriPX"
      }
    },
    {
      "cell_type": "code",
      "source": [
        "r = re.compile(\"^ab\")  # 문자열 ab로 시작되어야 한다\n",
        "\n",
        "# 아무런 결과도 출력되지 않는다.\n",
        "r.search(\"bbc\")\n",
        "r.search(\"zab\")"
      ],
      "metadata": {
        "id": "F9gz7pBdpVHn"
      },
      "execution_count": 48,
      "outputs": []
    },
    {
      "cell_type": "code",
      "source": [
        "r.search(\"abz\")"
      ],
      "metadata": {
        "colab": {
          "base_uri": "https://localhost:8080/"
        },
        "id": "BPjrdSPCrq6h",
        "outputId": "bf30e1f8-953f-4d34-b906-4393165ea316"
      },
      "execution_count": 49,
      "outputs": [
        {
          "output_type": "execute_result",
          "data": {
            "text/plain": [
              "<re.Match object; span=(0, 2), match='ab'>"
            ]
          },
          "metadata": {},
          "execution_count": 49
        }
      ]
    },
    {
      "cell_type": "markdown",
      "source": [
        "{숫자} 기호"
      ],
      "metadata": {
        "id": "-VQxLW-BrsFZ"
      }
    },
    {
      "cell_type": "code",
      "source": [
        "r = re.compile(\"ab{2}c\")  # a와 c 사이에 b가 존재하면서 b가 2개인 문자열에 대해서 매치\n",
        "\n",
        "# 아무런 결과도 출력되지 않는다.\n",
        "r.search(\"ac\")\n",
        "r.search(\"abc\")\n",
        "r.search(\"abbbbbc\")"
      ],
      "metadata": {
        "id": "uSAqiWm1rNRE"
      },
      "execution_count": 50,
      "outputs": []
    },
    {
      "cell_type": "code",
      "source": [
        "r.search(\"abbc\")"
      ],
      "metadata": {
        "colab": {
          "base_uri": "https://localhost:8080/"
        },
        "id": "xQSQkoR1rNTg",
        "outputId": "675ac690-b4b6-4ee1-bf24-0ee57a4eb520"
      },
      "execution_count": 51,
      "outputs": [
        {
          "output_type": "execute_result",
          "data": {
            "text/plain": [
              "<re.Match object; span=(0, 4), match='abbc'>"
            ]
          },
          "metadata": {},
          "execution_count": 51
        }
      ]
    },
    {
      "cell_type": "markdown",
      "source": [
        "{숫자1, 숫자2} 기호"
      ],
      "metadata": {
        "id": "tc1Z3LQdr6n-"
      }
    },
    {
      "cell_type": "code",
      "source": [
        "r = re.compile(\"ab{2,8}c\")  # a와 c 사이에 b가 존재하면서 b는 2개 이상 8개 이하\n",
        "\n",
        "# 아무런 결과도 출력되지 않는다.\n",
        "r.search(\"ac\")\n",
        "r.search(\"abc\")\n",
        "r.search(\"abbbbbbbbbc\")"
      ],
      "metadata": {
        "id": "BEST8IvQrNVx"
      },
      "execution_count": 52,
      "outputs": []
    },
    {
      "cell_type": "code",
      "source": [
        "r.search(\"abbc\")"
      ],
      "metadata": {
        "colab": {
          "base_uri": "https://localhost:8080/"
        },
        "id": "uRs9m6Wzr92G",
        "outputId": "0c157c9c-800d-4a21-fe64-56ad83f5e9d5"
      },
      "execution_count": 53,
      "outputs": [
        {
          "output_type": "execute_result",
          "data": {
            "text/plain": [
              "<re.Match object; span=(0, 4), match='abbc'>"
            ]
          },
          "metadata": {},
          "execution_count": 53
        }
      ]
    },
    {
      "cell_type": "code",
      "source": [
        "r.search(\"abbbbbbbbc\")"
      ],
      "metadata": {
        "colab": {
          "base_uri": "https://localhost:8080/"
        },
        "id": "HlR4-jo6r94V",
        "outputId": "0291ae78-4321-401d-d3bf-597db5b3247c"
      },
      "execution_count": 54,
      "outputs": [
        {
          "output_type": "execute_result",
          "data": {
            "text/plain": [
              "<re.Match object; span=(0, 10), match='abbbbbbbbc'>"
            ]
          },
          "metadata": {},
          "execution_count": 54
        }
      ]
    },
    {
      "cell_type": "markdown",
      "source": [
        "{숫자,} 기호"
      ],
      "metadata": {
        "id": "4YExf8vNsIZe"
      }
    },
    {
      "cell_type": "code",
      "source": [
        "r = re.compile(\"a{2,}bc\")  # 뒤에 bc가 붙으면서 a의 개수가 2개 이상인 경우\n",
        "\n",
        "# 아무런 결과도 출력되지 않는다.\n",
        "r.search(\"bc\")\n",
        "r.search(\"aa\")"
      ],
      "metadata": {
        "id": "5H_F1bktr96d"
      },
      "execution_count": 55,
      "outputs": []
    },
    {
      "cell_type": "code",
      "source": [
        "r.search(\"aabc\")"
      ],
      "metadata": {
        "colab": {
          "base_uri": "https://localhost:8080/"
        },
        "id": "EzGJTg1rr98b",
        "outputId": "99a3003a-75ef-4339-fbf2-41eef692ef3d"
      },
      "execution_count": 56,
      "outputs": [
        {
          "output_type": "execute_result",
          "data": {
            "text/plain": [
              "<re.Match object; span=(0, 4), match='aabc'>"
            ]
          },
          "metadata": {},
          "execution_count": 56
        }
      ]
    },
    {
      "cell_type": "code",
      "source": [
        "r.search(\"aaaaaaaabc\")"
      ],
      "metadata": {
        "colab": {
          "base_uri": "https://localhost:8080/"
        },
        "id": "z3kd8_pHsLwt",
        "outputId": "2cf381b0-b0fb-4d10-d9ef-0c16766603b6"
      },
      "execution_count": 57,
      "outputs": [
        {
          "output_type": "execute_result",
          "data": {
            "text/plain": [
              "<re.Match object; span=(0, 10), match='aaaaaaaabc'>"
            ]
          },
          "metadata": {},
          "execution_count": 57
        }
      ]
    },
    {
      "cell_type": "markdown",
      "source": [
        "[ ] 기호"
      ],
      "metadata": {
        "id": "3zRCfnYdsbCy"
      }
    },
    {
      "cell_type": "code",
      "source": [
        "r = re.compile(\"[abc]\") # [abc]는 [a-c]와 같다.\n",
        "# a 또는 b 또는 c 포함\n",
        "r.search(\"zzz\") # 아무런 결과도 출력되지 않는다."
      ],
      "metadata": {
        "id": "xNXoiowYsiWL"
      },
      "execution_count": 59,
      "outputs": []
    },
    {
      "cell_type": "code",
      "source": [
        "r.search(\"a\")"
      ],
      "metadata": {
        "colab": {
          "base_uri": "https://localhost:8080/"
        },
        "id": "AKsJoOCysktB",
        "outputId": "3e968b23-199a-4b8a-fc2b-5614f6f29839"
      },
      "execution_count": 60,
      "outputs": [
        {
          "output_type": "execute_result",
          "data": {
            "text/plain": [
              "<re.Match object; span=(0, 1), match='a'>"
            ]
          },
          "metadata": {},
          "execution_count": 60
        }
      ]
    },
    {
      "cell_type": "code",
      "source": [
        "r.search(\"aaaaaaa\")"
      ],
      "metadata": {
        "colab": {
          "base_uri": "https://localhost:8080/"
        },
        "id": "pEugEgf1sm8k",
        "outputId": "53cc02fc-4bb4-4569-e2fc-927d211a7177"
      },
      "execution_count": 61,
      "outputs": [
        {
          "output_type": "execute_result",
          "data": {
            "text/plain": [
              "<re.Match object; span=(0, 1), match='a'>"
            ]
          },
          "metadata": {},
          "execution_count": 61
        }
      ]
    },
    {
      "cell_type": "code",
      "source": [
        "r.search(\"baac\")"
      ],
      "metadata": {
        "colab": {
          "base_uri": "https://localhost:8080/"
        },
        "id": "C3qwvEm9spSd",
        "outputId": "e9c067e8-ce28-4b57-ad20-effadd483a90"
      },
      "execution_count": 62,
      "outputs": [
        {
          "output_type": "execute_result",
          "data": {
            "text/plain": [
              "<re.Match object; span=(0, 1), match='b'>"
            ]
          },
          "metadata": {},
          "execution_count": 62
        }
      ]
    },
    {
      "cell_type": "code",
      "source": [
        "r = re.compile(\"[a-zA-Z]\")\n",
        "\n",
        "# 아무런 결과도 출력되지 않는다.\n",
        "r.search(\"AAA\")\n",
        "r.search(\"111\")"
      ],
      "metadata": {
        "id": "V5nFa0aHwkzB"
      },
      "execution_count": 71,
      "outputs": []
    },
    {
      "cell_type": "code",
      "source": [
        "r.search(\"aBC\")\n",
        "# 검출된 첫번째 값만 return 해준다."
      ],
      "metadata": {
        "colab": {
          "base_uri": "https://localhost:8080/"
        },
        "id": "-lyVkKUcw21t",
        "outputId": "dd3dc801-3929-4007-9e2b-dfcd791deb43"
      },
      "execution_count": 72,
      "outputs": [
        {
          "output_type": "execute_result",
          "data": {
            "text/plain": [
              "<re.Match object; span=(0, 1), match='a'>"
            ]
          },
          "metadata": {},
          "execution_count": 72
        }
      ]
    },
    {
      "cell_type": "markdown",
      "source": [
        "[^문자] 기호"
      ],
      "metadata": {
        "id": "rlOH4Rp8s8vU"
      }
    },
    {
      "cell_type": "code",
      "source": [
        "r = re.compile(\"[^abc]\")  # a 또는 b 또는 c가 들어간 문자열 제외\n",
        "\n",
        "# 아무런 결과도 출력되지 않는다.\n",
        "r.search(\"a\")\n",
        "r.search(\"ab\")\n",
        "r.search(\"b\")"
      ],
      "metadata": {
        "id": "vJ4sgfFlsrem"
      },
      "execution_count": 63,
      "outputs": []
    },
    {
      "cell_type": "code",
      "source": [
        "r.search(\"d\")"
      ],
      "metadata": {
        "colab": {
          "base_uri": "https://localhost:8080/"
        },
        "id": "GRgqp25zs1Vc",
        "outputId": "dd31aa0e-9ed9-4eb5-9428-eda62710f450"
      },
      "execution_count": 64,
      "outputs": [
        {
          "output_type": "execute_result",
          "data": {
            "text/plain": [
              "<re.Match object; span=(0, 1), match='d'>"
            ]
          },
          "metadata": {},
          "execution_count": 64
        }
      ]
    },
    {
      "cell_type": "code",
      "source": [
        "r.search(\"1\")"
      ],
      "metadata": {
        "colab": {
          "base_uri": "https://localhost:8080/"
        },
        "id": "f0zCxTEjs1TI",
        "outputId": "f83432d2-c26d-4533-d3de-b89444e5d938"
      },
      "execution_count": 65,
      "outputs": [
        {
          "output_type": "execute_result",
          "data": {
            "text/plain": [
              "<re.Match object; span=(0, 1), match='1'>"
            ]
          },
          "metadata": {},
          "execution_count": 65
        }
      ]
    },
    {
      "cell_type": "markdown",
      "source": [
        "#### 정규 표현식 모듈 함수 예제"
      ],
      "metadata": {
        "id": "nApIoZpfwRs0"
      }
    },
    {
      "cell_type": "markdown",
      "source": [
        "1. re.match()와 re.search()의 차이\n",
        "- match() : 문자열의 첫 부분부터 정규 표현식과 매치하는지를 확인\n",
        "- search() : 정규 표현식 전체에 대해서 문자열이 매치하는지를 확인"
      ],
      "metadata": {
        "id": "CN7_xLQOwZNE"
      }
    },
    {
      "cell_type": "code",
      "source": [
        "r = re.compile(\"ab.\")\n",
        "r.match(\"kkkabc\") # 아무런 결과도 출력되지 않는다."
      ],
      "metadata": {
        "id": "_JOHeUiVwRfE"
      },
      "execution_count": 66,
      "outputs": []
    },
    {
      "cell_type": "code",
      "source": [
        "r.search(\"kkkabc\")"
      ],
      "metadata": {
        "colab": {
          "base_uri": "https://localhost:8080/"
        },
        "id": "JOvrMfE_s1Q0",
        "outputId": "590791fb-3410-4dc2-ccc5-dab51a2fd0b2"
      },
      "execution_count": 67,
      "outputs": [
        {
          "output_type": "execute_result",
          "data": {
            "text/plain": [
              "<re.Match object; span=(3, 6), match='abc'>"
            ]
          },
          "metadata": {},
          "execution_count": 67
        }
      ]
    },
    {
      "cell_type": "code",
      "source": [
        "r.match(\"abckkk\")"
      ],
      "metadata": {
        "colab": {
          "base_uri": "https://localhost:8080/"
        },
        "id": "akrk8PUds1M9",
        "outputId": "8e322bb5-13ce-4d83-c47c-5d34a7f2f8dd"
      },
      "execution_count": 68,
      "outputs": [
        {
          "output_type": "execute_result",
          "data": {
            "text/plain": [
              "<re.Match object; span=(0, 3), match='abc'>"
            ]
          },
          "metadata": {},
          "execution_count": 68
        }
      ]
    },
    {
      "cell_type": "markdown",
      "source": [
        "2. re.split()\n",
        "- 입력된 정규 표현식을 기준으로 문자열들을 분리하여 리스트로 리턴\n",
        "- 토큰화에 유용하게 쓰임"
      ],
      "metadata": {
        "id": "5TJy5r50xiuh"
      }
    },
    {
      "cell_type": "code",
      "source": [
        "# 공백 기준 분리\n",
        "text = \"사과 딸기 수박 메론 바나나\"\n",
        "re.split(\" \", text)"
      ],
      "metadata": {
        "colab": {
          "base_uri": "https://localhost:8080/"
        },
        "id": "5wkQu-CsxQy6",
        "outputId": "ff3186df-86bc-4028-8cfd-7f6803e29d1f"
      },
      "execution_count": 73,
      "outputs": [
        {
          "output_type": "execute_result",
          "data": {
            "text/plain": [
              "['사과', '딸기', '수박', '메론', '바나나']"
            ]
          },
          "metadata": {},
          "execution_count": 73
        }
      ]
    },
    {
      "cell_type": "code",
      "source": [
        "# 줄바꿈 기준 분리\n",
        "text = \"\"\"사과\n",
        "딸기\n",
        "수박\n",
        "메론\n",
        "바나나\"\"\"\n",
        "\n",
        "re.split(\"\\n\", text)"
      ],
      "metadata": {
        "colab": {
          "base_uri": "https://localhost:8080/"
        },
        "id": "nQfTjMm8xQ1J",
        "outputId": "62ab8700-2183-4f10-d4cf-8cd7bea5d2ee"
      },
      "execution_count": 74,
      "outputs": [
        {
          "output_type": "execute_result",
          "data": {
            "text/plain": [
              "['사과', '딸기', '수박', '메론', '바나나']"
            ]
          },
          "metadata": {},
          "execution_count": 74
        }
      ]
    },
    {
      "cell_type": "code",
      "source": [
        "# '+'를 기준으로 분리\n",
        "text = \"사과+딸기+수박+메론+바나나\"\n",
        "\n",
        "re.split(\"\\+\", text)"
      ],
      "metadata": {
        "colab": {
          "base_uri": "https://localhost:8080/"
        },
        "id": "KYfrXoVpxQ3P",
        "outputId": "defb647a-3119-4ba1-9dd1-b1c8741f1233"
      },
      "execution_count": 75,
      "outputs": [
        {
          "output_type": "execute_result",
          "data": {
            "text/plain": [
              "['사과', '딸기', '수박', '메론', '바나나']"
            ]
          },
          "metadata": {},
          "execution_count": 75
        }
      ]
    },
    {
      "cell_type": "markdown",
      "source": [
        "3. re.findall()\n",
        "- 정규 표현식과 매치되는 모든 문자열들을 리스트로 리턴\n",
        "- 단, 매치되는 문자열이 없다면 빈 리스트를 리턴"
      ],
      "metadata": {
        "id": "vqB0yrb9xvxR"
      }
    },
    {
      "cell_type": "code",
      "source": [
        "# 숫자를 찾아서 리스트로 리턴\n",
        "\n",
        "text = \"\"\"이름 : 김철수\n",
        "전화번호 : 010 - 1234 - 1234\n",
        "나이 : 30\n",
        "성별 : 남\"\"\"\n",
        "\n",
        "re.findall(\"\\d+\", text)"
      ],
      "metadata": {
        "colab": {
          "base_uri": "https://localhost:8080/"
        },
        "id": "keukOupXxQ5c",
        "outputId": "44be09bc-1252-41b8-cda8-545cbf800738"
      },
      "execution_count": 76,
      "outputs": [
        {
          "output_type": "execute_result",
          "data": {
            "text/plain": [
              "['010', '1234', '1234', '30']"
            ]
          },
          "metadata": {},
          "execution_count": 76
        }
      ]
    },
    {
      "cell_type": "code",
      "source": [
        "# 입력 텍스트에 숫자가 없다면 빈 리스트를 리턴\n",
        "re.findall(\"\\d+\", \"문자열입니다.\")"
      ],
      "metadata": {
        "colab": {
          "base_uri": "https://localhost:8080/"
        },
        "id": "t-6mAdhYx8tk",
        "outputId": "c6077c47-330c-4565-b5c0-0e1d859fbc64"
      },
      "execution_count": 77,
      "outputs": [
        {
          "output_type": "execute_result",
          "data": {
            "text/plain": [
              "[]"
            ]
          },
          "metadata": {},
          "execution_count": 77
        }
      ]
    },
    {
      "cell_type": "markdown",
      "source": [
        "4. re.sub()\n",
        "- 정규 표현식 패턴과 일치하는 문자열을 찾아 다른 문자열로 대체 가능\n",
        "- ex) 영어 문장에 특수문자를 제거하고 싶다면 -> 알파벳 외의 문자는 공백으로 처리"
      ],
      "metadata": {
        "id": "bqLqkj0yyGZv"
      }
    },
    {
      "cell_type": "code",
      "source": [
        "text = \"Regular expression : A regular expression, regex or regexp[1] (sometimes called a rational expression)[2][3] is, in theoretical computer science and formal language theory, a sequence of characters that define a search pattern.\"\n",
        "\n",
        "preprocessed_text = re.sub('[^a-zA-Z]', ' ', text)\n",
        "print(preprocessed_text)"
      ],
      "metadata": {
        "colab": {
          "base_uri": "https://localhost:8080/"
        },
        "id": "yP3UwtIOy5QH",
        "outputId": "c1cf4445-c63c-468c-e02a-8e94e27aa1ef"
      },
      "execution_count": 80,
      "outputs": [
        {
          "output_type": "stream",
          "name": "stdout",
          "text": [
            "Regular expression   A regular expression  regex or regexp     sometimes called a rational expression        is  in theoretical computer science and formal language theory  a sequence of characters that define a search pattern \n"
          ]
        }
      ]
    },
    {
      "cell_type": "code",
      "source": [
        "# 문자열이 주어진 문자 집합(소문자 a-z, 대문자 A-Z, 숫자 0-9)의 문자만 포함하는지 확인하는 함수\n",
        "def check(string):\n",
        "  c = re.compile(r'[^a-zA-Z0-9.]')\n",
        "  s = c.search(string)\n",
        "\n",
        "  return not bool(s)\n",
        "\n",
        "print(check('ABCDAeefef123242'))\n",
        "# True -> 포함 / False -> 불포함"
      ],
      "metadata": {
        "colab": {
          "base_uri": "https://localhost:8080/"
        },
        "id": "TwV5ua6GzLQT",
        "outputId": "eb4e7c9f-5b8e-4982-f002-1fcc93718cf1"
      },
      "execution_count": 86,
      "outputs": [
        {
          "output_type": "stream",
          "name": "stdout",
          "text": [
            "True\n"
          ]
        }
      ]
    },
    {
      "cell_type": "code",
      "source": [
        "check('!@#$#$%^#$%@!#')"
      ],
      "metadata": {
        "colab": {
          "base_uri": "https://localhost:8080/"
        },
        "id": "kem3iEs_z0UB",
        "outputId": "50818f30-f98f-40a3-e6bf-1f08745be3ca"
      },
      "execution_count": 87,
      "outputs": [
        {
          "output_type": "execute_result",
          "data": {
            "text/plain": [
              "False"
            ]
          },
          "metadata": {},
          "execution_count": 87
        }
      ]
    },
    {
      "cell_type": "code",
      "source": [
        "# 예제1) 문자열이 주어진 문자 집합(소문자 a와 0개 이상의 소문자 b)의 문자만 포함하는지 확인하는 함수\n",
        "def check2(string):\n",
        "  patterns = 'ab*?'\n",
        "  if re.search(patterns, string):\n",
        "    return 'True'\n",
        "  else :\n",
        "    return 'False'\n",
        "\n",
        "print(check2('ac'))\n",
        "print(check2('a'))\n",
        "print(check2('abc'))"
      ],
      "metadata": {
        "colab": {
          "base_uri": "https://localhost:8080/"
        },
        "id": "UUxtuEXFz30o",
        "outputId": "e7717fe5-d6da-478c-fff4-ea9f1ba43cbd"
      },
      "execution_count": 91,
      "outputs": [
        {
          "output_type": "stream",
          "name": "stdout",
          "text": [
            "True\n",
            "True\n",
            "True\n"
          ]
        }
      ]
    },
    {
      "cell_type": "code",
      "source": [
        "# 예제2) 문자열이 주어진 문자 집합(소문자 a와 둘 혹은 세 개의 소문자 b)\n",
        "def check3(string):\n",
        "  patterns = 'ab{2,3}?'\n",
        "  if re.search(patterns, string):\n",
        "    return 'True'\n",
        "  else :\n",
        "    return 'False'\n",
        "\n",
        "print(check3('abc'))\n",
        "print(check3('abbc'))"
      ],
      "metadata": {
        "colab": {
          "base_uri": "https://localhost:8080/"
        },
        "id": "dNTFJYzVz_F1",
        "outputId": "a56a7fcd-fa9c-4cff-9401-36a7684fb29d"
      },
      "execution_count": 93,
      "outputs": [
        {
          "output_type": "stream",
          "name": "stdout",
          "text": [
            "False\n",
            "True\n"
          ]
        }
      ]
    },
    {
      "cell_type": "code",
      "source": [
        "# 예제3) 문자열이 주어진 집합('-'로 연결된 소문자 a-z의 집합)만 포함하는지 확인하는 함수\n",
        "# 예시 : aab_cbbc\n",
        "def check4(string):\n",
        "  patterns = '^[a-z]+_[a-z]+$'\n",
        "\n",
        "  if re.search(patterns, string):\n",
        "    return 'True'\n",
        "  else :\n",
        "    return 'False'\n",
        "\n",
        "print(check4('a_b'))"
      ],
      "metadata": {
        "colab": {
          "base_uri": "https://localhost:8080/"
        },
        "id": "vsDUIync1Qiu",
        "outputId": "24bd2036-25bb-4bed-b7b6-baa1d4e117b7"
      },
      "execution_count": 94,
      "outputs": [
        {
          "output_type": "stream",
          "name": "stdout",
          "text": [
            "True\n"
          ]
        }
      ]
    },
    {
      "cell_type": "markdown",
      "source": [
        "- 정규 표현식 텍스트 전처리 예제"
      ],
      "metadata": {
        "id": "h1x6ughTyRbF"
      }
    },
    {
      "cell_type": "code",
      "source": [
        "text = \"\"\"100 John    PROF\n",
        "101 James   STUD\n",
        "102 Mac   STUD\"\"\"\n",
        "\n",
        "re.split('\\s+', text)  # 공백을 찾아내는 정규표현식 -> 최소 1개 이상의 공백인 패턴을 찾아냄"
      ],
      "metadata": {
        "colab": {
          "base_uri": "https://localhost:8080/"
        },
        "id": "GYlCIC97x9_D",
        "outputId": "cd433363-3f59-48a7-edbc-bf1295dd3ffb"
      },
      "execution_count": 81,
      "outputs": [
        {
          "output_type": "execute_result",
          "data": {
            "text/plain": [
              "['100', 'John', 'PROF', '101', 'James', 'STUD', '102', 'Mac', 'STUD']"
            ]
          },
          "metadata": {},
          "execution_count": 81
        }
      ]
    },
    {
      "cell_type": "code",
      "source": [
        "re.findall('\\d+',text)  # \\d -> 숫자에 해당되는 정규표현식 -> 최소 1개 이상의 숫자"
      ],
      "metadata": {
        "colab": {
          "base_uri": "https://localhost:8080/"
        },
        "id": "rDH4jPAvyTWr",
        "outputId": "f353beb0-011f-4129-db25-805a7cdb1f61"
      },
      "execution_count": 82,
      "outputs": [
        {
          "output_type": "execute_result",
          "data": {
            "text/plain": [
              "['100', '101', '102']"
            ]
          },
          "metadata": {},
          "execution_count": 82
        }
      ]
    },
    {
      "cell_type": "code",
      "source": [
        "# 대문자인 행의 값만 가져오기\n",
        "re.findall('[A-Z]',text)"
      ],
      "metadata": {
        "colab": {
          "base_uri": "https://localhost:8080/"
        },
        "id": "az3m_NK_yTZZ",
        "outputId": "665e8f37-9f6a-404c-8153-9b7233148ff1"
      },
      "execution_count": 83,
      "outputs": [
        {
          "output_type": "execute_result",
          "data": {
            "text/plain": [
              "['J', 'P', 'R', 'O', 'F', 'J', 'S', 'T', 'U', 'D', 'M', 'S', 'T', 'U', 'D']"
            ]
          },
          "metadata": {},
          "execution_count": 83
        }
      ]
    },
    {
      "cell_type": "code",
      "source": [
        "# 대문자가 연속으로 네 번 등장하는 경우\n",
        "re.findall('[A-Z]{4}',text)"
      ],
      "metadata": {
        "colab": {
          "base_uri": "https://localhost:8080/"
        },
        "id": "nCaW38_cyTau",
        "outputId": "60a4866a-a226-42b3-b71d-e423fdc07a35"
      },
      "execution_count": 84,
      "outputs": [
        {
          "output_type": "execute_result",
          "data": {
            "text/plain": [
              "['PROF', 'STUD', 'STUD']"
            ]
          },
          "metadata": {},
          "execution_count": 84
        }
      ]
    },
    {
      "cell_type": "code",
      "source": [
        "# 대문자로 구성된 문자열들 가져오기\n",
        "re.findall('[A-Z][a-z]+',text)"
      ],
      "metadata": {
        "colab": {
          "base_uri": "https://localhost:8080/"
        },
        "id": "2GxXfy6RyTdL",
        "outputId": "79907ab1-b446-4a94-9325-e6b864939c89"
      },
      "execution_count": 85,
      "outputs": [
        {
          "output_type": "execute_result",
          "data": {
            "text/plain": [
              "['John', 'James', 'Mac']"
            ]
          },
          "metadata": {},
          "execution_count": 85
        }
      ]
    }
  ]
}